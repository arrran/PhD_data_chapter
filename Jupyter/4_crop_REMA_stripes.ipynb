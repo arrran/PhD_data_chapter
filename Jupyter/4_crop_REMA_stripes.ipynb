{
 "cells": [
  {
   "cell_type": "markdown",
   "metadata": {},
   "source": [
    "# Crop REMA stripes by the polygon from 3 (around channel)\n",
    "\n",
    "based on https://rasterio.readthedocs.io/en/stable/topics/masking-by-shapefile.html \n",
    "but also using tarfile\n",
    "\n",
    "This script unzips the raster, crops it, then saves a tiff"
   ]
  },
  {
   "cell_type": "code",
   "execution_count": 1,
   "metadata": {},
   "outputs": [],
   "source": [
    "# !conda activate arran_gis"
   ]
  },
  {
   "cell_type": "code",
   "execution_count": 2,
   "metadata": {},
   "outputs": [],
   "source": [
    "# !jupyter kernelspec list --json"
   ]
  },
  {
   "cell_type": "code",
   "execution_count": 1,
   "metadata": {},
   "outputs": [],
   "source": [
    "import rasterio as rio\n",
    "import rasterio.mask\n",
    "import tarfile\n",
    "import fiona\n",
    "\n",
    "import os\n",
    "import sys\n",
    "#working_dir = '/Volumes/arc_02/REMOTE_SENSING/'\n",
    "#working_dir = \"/Users/home/whitefar/DATA/Channel/line_channel_traced_for_50kms/\"\n",
    "working_dir = '/Users/home/whitefar/DATA/FIELD_ANT_19/'\n",
    "\n",
    "sys.path.append(os.path.abspath(working_dir))\n",
    "sys.path.append(os.path.abspath('/Users/home/whitefar/DATA/code/'))\n",
    "#sys.path.append(os.path.abspath('/Users/home/whitefar/DATA/Channel/line_channel_traced_for_50kms/'))\n",
    "os.chdir(working_dir)"
   ]
  },
  {
   "cell_type": "code",
   "execution_count": 2,
   "metadata": {},
   "outputs": [],
   "source": [
    "# !which python"
   ]
  },
  {
   "cell_type": "code",
   "execution_count": 11,
   "metadata": {},
   "outputs": [
    {
     "data": {
      "text/plain": [
       "['SETSM_WV01_20151102_10200100437EF000_10200100477F7400_seg1_2m_v1.0.tar.gz',\n",
       " 'SETSM_WV01_20150104_1020010038253500_1020010038CD0C00_seg1_2m_v1.0.tar.gz',\n",
       " 'SETSM_WV01_20131222_10200100274B7500_102001002981EC00_seg1_2m_v1.0.tar.gz',\n",
       " 'SETSM_WV02_20131117_103001002A8C0D00_1030010029C81600_seg1_2m_v1.0.tar.gz',\n",
       " 'SETSM_WV02_20161219_103001006116CC00_10300100638F8E00_seg1_2m_v1.0.tar.gz',\n",
       " 'SETSM_WV01_20161219_102001005ADD9F00_102001005A4F0700_seg1_2m_v1.0.tar.gz',\n",
       " 'SETSM_WV01_20161027_1020010056BA2E00_1020010058DFD800_seg1_2m_v1.0.tar.gz',\n",
       " 'SETSM_WV01_20141209_1020010037BD1F00_10200100387ABC00_seg3_2m_v1.0.tar.gz',\n",
       " 'SETSM_WV01_20161003_1020010057910400_102001005845EA00_seg1_2m_v1.0.tar.gz',\n",
       " 'SETSM_WV01_20141106_1020010035707400_102001003747DB00_seg1_2m_v1.0.tar.gz',\n",
       " 'SETSM_WV01_20141118_10200100376E3200_1020010036DE5C00_seg1_2m_v1.0.tar.gz',\n",
       " 'SETSM_WV02_20121224_103001001D86CA00_103001001D886000_seg1_2m_v1.0.tar.gz',\n",
       " 'SETSM_WV02_20151010_103001004B706800_103001004A9F3700_seg1_2m_v1.0.tar.gz',\n",
       " 'SETSM_WV02_20141122_103001003A375A00_1030010039A69400_seg1_2m_v1.0.tar.gz',\n",
       " 'SETSM_WV01_20161008_102001005763E100_10200100564EB000_seg1_2m_v1.0.tar.gz',\n",
       " 'SETSM_WV01_20170925_10200100689D3000_1020010069DA3800_seg1_2m_v1.0.tar.gz',\n",
       " 'SETSM_WV01_20141209_1020010037CFBF00_102001003610DB00_seg1_2m_v1.0.tar.gz',\n",
       " 'SETSM_WV02_20150104_103001003C98D600_103001003BCCE700_seg1_2m_v1.0.tar.gz',\n",
       " 'SETSM_WV02_20161220_1030010061866000_103001006007BA00_seg1_2m_v1.0.tar.gz',\n",
       " 'SETSM_WV03_20161114_1040010024CFBF00_10400100256A3100_seg1_2m_v1.0.tar.gz',\n",
       " 'SETSM_WV01_20161109_1020010058134D00_10200100576C9100_seg1_2m_v1.0.tar.gz',\n",
       " 'SETSM_W1W2_20160201_102001004AA48000_103001005126F300_seg3_8m_v1.0.tar.gz',\n",
       " 'SETSM_WV01_20151001_1020010043842700_102001004697AF00_seg1_2m_v1.0.tar.gz',\n",
       " 'SETSM_WV02_20161218_1030010060926B00_1030010062531100_seg1_2m_v1.0.tar.gz',\n",
       " 'SETSM_WV01_20170114_102001005A83CE00_102001005CD1F500_seg1_2m_v1.0.tar.gz',\n",
       " 'SETSM_WV01_20161027_1020010057470300_1020010055E0F000_seg1_2m_v1.0.tar.gz',\n",
       " 'SETSM_WV02_20140206_103001002C790800_103001002C265400_seg1_2m_v1.0.tar.gz',\n",
       " 'SETSM_WV01_20160202_1020010046D12400_102001004B244400_seg1_2m_v1.0.tar.gz',\n",
       " 'SETSM_WV01_20160206_10200100486F9300_1020010049BCED00_seg1_2m_v1.0.tar.gz',\n",
       " 'SETSM_WV01_20161219_10200100591AC100_102001005934EB00_seg1_2m_v1.0.tar.gz',\n",
       " 'SETSM_WV03_20161220_1040010026391800_1040010026480500_seg1_2m_v1.0.tar.gz']"
      ]
     },
     "execution_count": 11,
     "metadata": {},
     "output_type": "execute_result"
    }
   ],
   "source": [
    "#zipped_stripes_path = \"/Users/home/whitefar/DATA/Channel/line_channel_traced_for_50kms/test_stripe/\"\n",
    "zipped_stripes_path = \"/Volumes/arc_02/REMOTE_SENSING/REMA/REMA_stripes_over_kamb_channel/\"\n",
    "\n",
    "#cropped_stripes_path = zipped_stripes_path\n",
    "#cropped_stripes_path = \"/Users/home/whitefar/DATA/Channel/line_channel_traced_for_50kms/cropped_stripes/\"\n",
    "cropped_stripes_path = \"/Volumes/arc_02/REMOTE_SENSING/REMA/REMA_stripes_1920_fieldsite/\"\n",
    "\n",
    "\n",
    "zipped_stripes_fnames = [f for f in os.listdir(zipped_stripes_path) if os.path.isfile(os.path.join(zipped_stripes_path, f))]\n",
    "\n",
    "temp_tiffs_path = \"/Users/home/whitefar/DATA/Channel/line_channel_traced_for_50kms/stripe_tiffs/\" #save them temporararily\n",
    "\n",
    "tiffs_path\n",
    "\n",
    "zipped_stripes_fnames"
   ]
  },
  {
   "cell_type": "code",
   "execution_count": 12,
   "metadata": {},
   "outputs": [],
   "source": [
    "# !python -m ipykernel install --user --name arran_gis"
   ]
  },
  {
   "cell_type": "code",
   "execution_count": 47,
   "metadata": {},
   "outputs": [],
   "source": [
    "#with fiona.open(\"/Users/home/whitefar/DATA/Channel/line_channel_traced_for_50kms/channel_area.shp\", \"r\") as shapefile:\n",
    "#    channel_area = [feature[\"geometry\"] for feature in shapefile]\n",
    "with fiona.open(\"/Users/home/whitefar/DATA/FIELD_ANT_19/study_area_buffer.shp\", \"r\") as shapefile:\n",
    "    channel_area = [feature[\"geometry\"] for feature in shapefile]\n",
    "with fiona.open(\"/Users/home/whitefar/DATA/Channel/line_channel_traced_for_50kms/polygons_stripes_50kms_up_channel.shp\", \"r\") as shapefile:\n",
    "    stripe_polygons = [feature[\"geometry\"] for feature in shapefile]"
   ]
  },
  {
   "cell_type": "code",
   "execution_count": 65,
   "metadata": {},
   "outputs": [
    {
     "data": {
      "text/plain": [
       "[False,\n",
       " False,\n",
       " False,\n",
       " False,\n",
       " False,\n",
       " False,\n",
       " False,\n",
       " False,\n",
       " False,\n",
       " False,\n",
       " False,\n",
       " False,\n",
       " False,\n",
       " False,\n",
       " False,\n",
       " False,\n",
       " False,\n",
       " False,\n",
       " False,\n",
       " False,\n",
       " False,\n",
       " False,\n",
       " False,\n",
       " False,\n",
       " False,\n",
       " False,\n",
       " False,\n",
       " False,\n",
       " False,\n",
       " False,\n",
       " False]"
      ]
     },
     "execution_count": 65,
     "metadata": {},
     "output_type": "execute_result"
    }
   ],
   "source": [
    "from shapely.geometry import Polygon\n",
    "\n",
    "stripes = [Polygon(stripe_polygons[i][\"coordinates\"][0]) for stripe in enumerate(stripe_polygons)]\n",
    "\n",
    "field_area_buffer = Polygon(channel_area[0][\"coordinates\"][0])\n",
    "\n",
    "have_intersection = [stripe.intersects(field_area_buffer) for stripe in stripes]\n",
    "\n",
    "have_intersection\n"
   ]
  },
  {
   "cell_type": "code",
   "execution_count": 14,
   "metadata": {},
   "outputs": [],
   "source": [
    "def crop_stripe(zipped_stripe_fname, zipped_stripes_path, cropped_stripes_path, temp_tiffs_path):\n",
    "       \n",
    "    #remove .tar.gz from the name\n",
    "    stripe_name = zipped_stripe_fname[:-7]\n",
    "    \n",
    "    zipped_stripe_path =  zipped_stripes_path + zipped_stripe_fname \n",
    "    \n",
    "    #path for output tiff\n",
    "    tiff_stripe_fname = stripe_name + \"_dem.tif\"\n",
    "    \n",
    "    #extract the .tar.gz and save as .tiff\n",
    "    with tarfile.open(zipped_stripe_path) as tar:\n",
    "        stripe_tiff = tar.extract(member=tiff_stripe_fname, path=temp_tiffs_path)\n",
    "        \n",
    "    #crop the .tiff    \n",
    "    with rio.open(temp_tiffs_path + tiff_stripe_fname) as src:\n",
    "        #print(src.transform)\n",
    "        out_image, out_transform = rasterio.mask.mask(src, channel_area,crop=True)\n",
    "        data_type = out_image.dtype\n",
    "        out_meta = src.meta.copy()\n",
    "        \n",
    "    #print(out_transform)\n",
    "    \n",
    "    out_meta.update({\"driver\": \"GTiff\",\n",
    "                 \"height\": out_image.shape[1],\n",
    "                 \"width\": out_image.shape[2],\n",
    "                 \"transform\": out_transform,\n",
    "                 \"dtype\" : data_type})\n",
    "    \n",
    "    cropped_stripe_path = cropped_stripes_path + tiff_stripe_fname\n",
    "    \n",
    "    #write the cropped tiff to file\n",
    "    with rio.open(cropped_stripe_path, \"w\", **out_meta) as dest:\n",
    "        dest.write(out_image)\n",
    "    \n",
    "    #remove the uncropped tiff\n",
    "    os.remove(temp_tiffs_path + tiff_stripe_fname)\n",
    "        \n",
    "    print(stripe_name + \"cropped and written to \"+ cropped_stripe_path)"
   ]
  },
  {
   "cell_type": "code",
   "execution_count": null,
   "metadata": {},
   "outputs": [],
   "source": []
  },
  {
   "cell_type": "code",
   "execution_count": 17,
   "metadata": {
    "scrolled": true
   },
   "outputs": [
    {
     "ename": "ValueError",
     "evalue": "Input shapes do not overlap raster.",
     "output_type": "error",
     "traceback": [
      "\u001b[0;31m---------------------------------------------------------------------------\u001b[0m",
      "\u001b[0;31mWindowError\u001b[0m                               Traceback (most recent call last)",
      "\u001b[0;32m~/software/miniconda3/envs/arran_gis/lib/python3.7/site-packages/rasterio/mask.py\u001b[0m in \u001b[0;36mraster_geometry_mask\u001b[0;34m(dataset, shapes, all_touched, invert, crop, pad)\u001b[0m\n\u001b[1;32m     80\u001b[0m         window = geometry_window(dataset, shapes, north_up=north_up, rotated=rotated,\n\u001b[0;32m---> 81\u001b[0;31m                                  pad_x=pad_x, pad_y=pad_y)\n\u001b[0m\u001b[1;32m     82\u001b[0m \u001b[0;34m\u001b[0m\u001b[0m\n",
      "\u001b[0;32m~/software/miniconda3/envs/arran_gis/lib/python3.7/site-packages/rasterio/features.py\u001b[0m in \u001b[0;36mgeometry_window\u001b[0;34m(dataset, shapes, pad_x, pad_y, north_up, rotated, pixel_precision)\u001b[0m\n\u001b[1;32m    434\u001b[0m     \u001b[0;31m# This will raise a WindowError if windows do not overlap\u001b[0m\u001b[0;34m\u001b[0m\u001b[0;34m\u001b[0m\u001b[0;34m\u001b[0m\u001b[0m\n\u001b[0;32m--> 435\u001b[0;31m     \u001b[0mwindow\u001b[0m \u001b[0;34m=\u001b[0m \u001b[0mwindow\u001b[0m\u001b[0;34m.\u001b[0m\u001b[0mintersection\u001b[0m\u001b[0;34m(\u001b[0m\u001b[0mraster_window\u001b[0m\u001b[0;34m)\u001b[0m\u001b[0;34m\u001b[0m\u001b[0;34m\u001b[0m\u001b[0m\n\u001b[0m\u001b[1;32m    436\u001b[0m \u001b[0;34m\u001b[0m\u001b[0m\n",
      "\u001b[0;32m~/software/miniconda3/envs/arran_gis/lib/python3.7/site-packages/rasterio/windows.py\u001b[0m in \u001b[0;36mintersection\u001b[0;34m(self, other)\u001b[0m\n\u001b[1;32m    714\u001b[0m         \"\"\"\n\u001b[0;32m--> 715\u001b[0;31m         \u001b[0;32mreturn\u001b[0m \u001b[0mintersection\u001b[0m\u001b[0;34m(\u001b[0m\u001b[0;34m[\u001b[0m\u001b[0mself\u001b[0m\u001b[0;34m,\u001b[0m \u001b[0mother\u001b[0m\u001b[0;34m]\u001b[0m\u001b[0;34m)\u001b[0m\u001b[0;34m\u001b[0m\u001b[0;34m\u001b[0m\u001b[0m\n\u001b[0m",
      "\u001b[0;32m~/software/miniconda3/envs/arran_gis/lib/python3.7/site-packages/rasterio/windows.py\u001b[0m in \u001b[0;36mwrapper\u001b[0;34m(*args, **kwargs)\u001b[0m\n\u001b[1;32m    118\u001b[0m         \u001b[0;32mif\u001b[0m \u001b[0mlen\u001b[0m\u001b[0;34m(\u001b[0m\u001b[0margs\u001b[0m\u001b[0;34m)\u001b[0m \u001b[0;34m==\u001b[0m \u001b[0;36m1\u001b[0m \u001b[0;32mand\u001b[0m \u001b[0misinstance\u001b[0m\u001b[0;34m(\u001b[0m\u001b[0margs\u001b[0m\u001b[0;34m[\u001b[0m\u001b[0;36m0\u001b[0m\u001b[0;34m]\u001b[0m\u001b[0;34m,\u001b[0m \u001b[0mIterable\u001b[0m\u001b[0;34m)\u001b[0m\u001b[0;34m:\u001b[0m\u001b[0;34m\u001b[0m\u001b[0;34m\u001b[0m\u001b[0m\n\u001b[0;32m--> 119\u001b[0;31m             \u001b[0;32mreturn\u001b[0m \u001b[0mfunction\u001b[0m\u001b[0;34m(\u001b[0m\u001b[0;34m*\u001b[0m\u001b[0margs\u001b[0m\u001b[0;34m[\u001b[0m\u001b[0;36m0\u001b[0m\u001b[0;34m]\u001b[0m\u001b[0;34m)\u001b[0m\u001b[0;34m\u001b[0m\u001b[0;34m\u001b[0m\u001b[0m\n\u001b[0m\u001b[1;32m    120\u001b[0m         \u001b[0;32melse\u001b[0m\u001b[0;34m:\u001b[0m\u001b[0;34m\u001b[0m\u001b[0;34m\u001b[0m\u001b[0m\n",
      "\u001b[0;32m~/software/miniconda3/envs/arran_gis/lib/python3.7/site-packages/rasterio/windows.py\u001b[0m in \u001b[0;36mintersection\u001b[0;34m(*windows)\u001b[0m\n\u001b[1;32m    216\u001b[0m     \u001b[0;32mif\u001b[0m \u001b[0;32mnot\u001b[0m \u001b[0mintersect\u001b[0m\u001b[0;34m(\u001b[0m\u001b[0mwindows\u001b[0m\u001b[0;34m)\u001b[0m\u001b[0;34m:\u001b[0m\u001b[0;34m\u001b[0m\u001b[0;34m\u001b[0m\u001b[0m\n\u001b[0;32m--> 217\u001b[0;31m         \u001b[0;32mraise\u001b[0m \u001b[0mWindowError\u001b[0m\u001b[0;34m(\u001b[0m\u001b[0;34m\"windows do not intersect\"\u001b[0m\u001b[0;34m)\u001b[0m\u001b[0;34m\u001b[0m\u001b[0;34m\u001b[0m\u001b[0m\n\u001b[0m\u001b[1;32m    218\u001b[0m \u001b[0;34m\u001b[0m\u001b[0m\n",
      "\u001b[0;31mWindowError\u001b[0m: windows do not intersect",
      "\nDuring handling of the above exception, another exception occurred:\n",
      "\u001b[0;31mValueError\u001b[0m                                Traceback (most recent call last)",
      "\u001b[0;32m<ipython-input-17-e4b701aae1b2>\u001b[0m in \u001b[0;36m<module>\u001b[0;34m\u001b[0m\n\u001b[1;32m      1\u001b[0m \u001b[0;32mfor\u001b[0m \u001b[0mi\u001b[0m\u001b[0;34m,\u001b[0m \u001b[0mzipped_stripe_fname\u001b[0m \u001b[0;32min\u001b[0m \u001b[0menumerate\u001b[0m\u001b[0;34m(\u001b[0m\u001b[0mzipped_stripes_fnames\u001b[0m\u001b[0;34m)\u001b[0m\u001b[0;34m:\u001b[0m\u001b[0;34m\u001b[0m\u001b[0;34m\u001b[0m\u001b[0m\n\u001b[1;32m      2\u001b[0m \u001b[0;34m\u001b[0m\u001b[0m\n\u001b[0;32m----> 3\u001b[0;31m     \u001b[0mcrop_stripe\u001b[0m\u001b[0;34m(\u001b[0m\u001b[0mzipped_stripe_fname\u001b[0m\u001b[0;34m,\u001b[0m \u001b[0mzipped_stripes_path\u001b[0m\u001b[0;34m,\u001b[0m \u001b[0mcropped_stripes_path\u001b[0m\u001b[0;34m,\u001b[0m \u001b[0mtemp_tiffs_path\u001b[0m\u001b[0;34m)\u001b[0m\u001b[0;34m\u001b[0m\u001b[0;34m\u001b[0m\u001b[0m\n\u001b[0m\u001b[1;32m      4\u001b[0m \u001b[0;34m\u001b[0m\u001b[0m\n\u001b[1;32m      5\u001b[0m     \u001b[0mprint\u001b[0m\u001b[0;34m(\u001b[0m\u001b[0;34mf\"{i+1}/{len(zipped_stripes_fnames)}\"\u001b[0m\u001b[0;34m)\u001b[0m\u001b[0;34m\u001b[0m\u001b[0;34m\u001b[0m\u001b[0m\n",
      "\u001b[0;32m<ipython-input-14-9552626f065a>\u001b[0m in \u001b[0;36mcrop_stripe\u001b[0;34m(zipped_stripe_fname, zipped_stripes_path, cropped_stripes_path, temp_tiffs_path)\u001b[0m\n\u001b[1;32m     16\u001b[0m     \u001b[0;32mwith\u001b[0m \u001b[0mrio\u001b[0m\u001b[0;34m.\u001b[0m\u001b[0mopen\u001b[0m\u001b[0;34m(\u001b[0m\u001b[0mtemp_tiffs_path\u001b[0m \u001b[0;34m+\u001b[0m \u001b[0mtiff_stripe_fname\u001b[0m\u001b[0;34m)\u001b[0m \u001b[0;32mas\u001b[0m \u001b[0msrc\u001b[0m\u001b[0;34m:\u001b[0m\u001b[0;34m\u001b[0m\u001b[0;34m\u001b[0m\u001b[0m\n\u001b[1;32m     17\u001b[0m         \u001b[0;31m#print(src.transform)\u001b[0m\u001b[0;34m\u001b[0m\u001b[0;34m\u001b[0m\u001b[0;34m\u001b[0m\u001b[0m\n\u001b[0;32m---> 18\u001b[0;31m         \u001b[0mout_image\u001b[0m\u001b[0;34m,\u001b[0m \u001b[0mout_transform\u001b[0m \u001b[0;34m=\u001b[0m \u001b[0mrasterio\u001b[0m\u001b[0;34m.\u001b[0m\u001b[0mmask\u001b[0m\u001b[0;34m.\u001b[0m\u001b[0mmask\u001b[0m\u001b[0;34m(\u001b[0m\u001b[0msrc\u001b[0m\u001b[0;34m,\u001b[0m \u001b[0mchannel_area\u001b[0m\u001b[0;34m,\u001b[0m\u001b[0mcrop\u001b[0m\u001b[0;34m=\u001b[0m\u001b[0;32mTrue\u001b[0m\u001b[0;34m)\u001b[0m\u001b[0;34m\u001b[0m\u001b[0;34m\u001b[0m\u001b[0m\n\u001b[0m\u001b[1;32m     19\u001b[0m         \u001b[0mdata_type\u001b[0m \u001b[0;34m=\u001b[0m \u001b[0mout_image\u001b[0m\u001b[0;34m.\u001b[0m\u001b[0mdtype\u001b[0m\u001b[0;34m\u001b[0m\u001b[0;34m\u001b[0m\u001b[0m\n\u001b[1;32m     20\u001b[0m         \u001b[0mout_meta\u001b[0m \u001b[0;34m=\u001b[0m \u001b[0msrc\u001b[0m\u001b[0;34m.\u001b[0m\u001b[0mmeta\u001b[0m\u001b[0;34m.\u001b[0m\u001b[0mcopy\u001b[0m\u001b[0;34m(\u001b[0m\u001b[0;34m)\u001b[0m\u001b[0;34m\u001b[0m\u001b[0;34m\u001b[0m\u001b[0m\n",
      "\u001b[0;32m~/software/miniconda3/envs/arran_gis/lib/python3.7/site-packages/rasterio/mask.py\u001b[0m in \u001b[0;36mmask\u001b[0;34m(dataset, shapes, all_touched, invert, nodata, filled, crop, pad, indexes)\u001b[0m\n\u001b[1;32m    179\u001b[0m     shape_mask, transform, window = raster_geometry_mask(\n\u001b[1;32m    180\u001b[0m         \u001b[0mdataset\u001b[0m\u001b[0;34m,\u001b[0m \u001b[0mshapes\u001b[0m\u001b[0;34m,\u001b[0m \u001b[0mall_touched\u001b[0m\u001b[0;34m=\u001b[0m\u001b[0mall_touched\u001b[0m\u001b[0;34m,\u001b[0m \u001b[0minvert\u001b[0m\u001b[0;34m=\u001b[0m\u001b[0minvert\u001b[0m\u001b[0;34m,\u001b[0m \u001b[0mcrop\u001b[0m\u001b[0;34m=\u001b[0m\u001b[0mcrop\u001b[0m\u001b[0;34m,\u001b[0m\u001b[0;34m\u001b[0m\u001b[0;34m\u001b[0m\u001b[0m\n\u001b[0;32m--> 181\u001b[0;31m         pad=pad)\n\u001b[0m\u001b[1;32m    182\u001b[0m \u001b[0;34m\u001b[0m\u001b[0m\n\u001b[1;32m    183\u001b[0m     \u001b[0;32mif\u001b[0m \u001b[0mindexes\u001b[0m \u001b[0;32mis\u001b[0m \u001b[0;32mNone\u001b[0m\u001b[0;34m:\u001b[0m\u001b[0;34m\u001b[0m\u001b[0;34m\u001b[0m\u001b[0m\n",
      "\u001b[0;32m~/software/miniconda3/envs/arran_gis/lib/python3.7/site-packages/rasterio/mask.py\u001b[0m in \u001b[0;36mraster_geometry_mask\u001b[0;34m(dataset, shapes, all_touched, invert, crop, pad)\u001b[0m\n\u001b[1;32m     85\u001b[0m         \u001b[0;31m# depending on value of crop\u001b[0m\u001b[0;34m\u001b[0m\u001b[0;34m\u001b[0m\u001b[0;34m\u001b[0m\u001b[0m\n\u001b[1;32m     86\u001b[0m         \u001b[0;32mif\u001b[0m \u001b[0mcrop\u001b[0m\u001b[0;34m:\u001b[0m\u001b[0;34m\u001b[0m\u001b[0;34m\u001b[0m\u001b[0m\n\u001b[0;32m---> 87\u001b[0;31m             \u001b[0;32mraise\u001b[0m \u001b[0mValueError\u001b[0m\u001b[0;34m(\u001b[0m\u001b[0;34m'Input shapes do not overlap raster.'\u001b[0m\u001b[0;34m)\u001b[0m\u001b[0;34m\u001b[0m\u001b[0;34m\u001b[0m\u001b[0m\n\u001b[0m\u001b[1;32m     88\u001b[0m         \u001b[0;32melse\u001b[0m\u001b[0;34m:\u001b[0m\u001b[0;34m\u001b[0m\u001b[0;34m\u001b[0m\u001b[0m\n\u001b[1;32m     89\u001b[0m             warnings.warn('shapes are outside bounds of raster. '\n",
      "\u001b[0;31mValueError\u001b[0m: Input shapes do not overlap raster."
     ]
    }
   ],
   "source": [
    "for i, zipped_stripe_fname in enumerate(zipped_stripes_fnames):\n",
    "    \n",
    "    crop_stripe(zipped_stripe_fname, zipped_stripes_path, cropped_stripes_path, temp_tiffs_path)\n",
    "    \n",
    "    ValueError: Input shapes do not overlap raster.\n",
    "    \n",
    "    print(f\"{i+1}/{len(zipped_stripes_fnames)}\")\n",
    "       "
   ]
  },
  {
   "cell_type": "code",
   "execution_count": null,
   "metadata": {},
   "outputs": [],
   "source": [
    "\n"
   ]
  },
  {
   "cell_type": "code",
   "execution_count": null,
   "metadata": {},
   "outputs": [],
   "source": []
  },
  {
   "cell_type": "code",
   "execution_count": null,
   "metadata": {},
   "outputs": [],
   "source": []
  }
 ],
 "metadata": {
  "kernelspec": {
   "display_name": "arran_gis",
   "language": "python",
   "name": "arran_gis"
  },
  "language_info": {
   "codemirror_mode": {
    "name": "ipython",
    "version": 3
   },
   "file_extension": ".py",
   "mimetype": "text/x-python",
   "name": "python",
   "nbconvert_exporter": "python",
   "pygments_lexer": "ipython3",
   "version": "3.7.3"
  }
 },
 "nbformat": 4,
 "nbformat_minor": 2
}
