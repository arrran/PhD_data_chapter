{
 "cells": [
  {
   "cell_type": "markdown",
   "metadata": {},
   "source": [
    "# Crop REMA stripes by the polygon from 3 (around channel)\n",
    "\n",
    "based on https://rasterio.readthedocs.io/en/stable/topics/masking-by-shapefile.html \n",
    "but also using tarfile\n",
    "\n",
    "This script unzips the raster, crops it, then saves a tiff"
   ]
  },
  {
   "cell_type": "code",
   "execution_count": 1,
   "metadata": {},
   "outputs": [],
   "source": [
    "# !conda activate arran_gis"
   ]
  },
  {
   "cell_type": "code",
   "execution_count": 2,
   "metadata": {},
   "outputs": [],
   "source": [
    "# !jupyter kernelspec list --json"
   ]
  },
  {
   "cell_type": "code",
   "execution_count": 3,
   "metadata": {},
   "outputs": [],
   "source": [
    "# !which python"
   ]
  },
  {
   "cell_type": "code",
   "execution_count": 4,
   "metadata": {},
   "outputs": [],
   "source": [
    "# !python -m ipykernel install --user --name arran_gis"
   ]
  },
  {
   "cell_type": "code",
   "execution_count": 5,
   "metadata": {},
   "outputs": [],
   "source": [
    "import rasterio as rio\n",
    "import rasterio.mask\n",
    "import tarfile\n",
    "import fiona\n",
    "\n",
    "import os\n",
    "import sys\n",
    "#working_dir = '/Volumes/arc_02/REMOTE_SENSING/'\n",
    "working_dir = \"/Users/home/whitefar/DATA/Channel/line_channel_traced_for_50kms/\"\n",
    "\n",
    "sys.path.append(os.path.abspath(working_dir))\n",
    "sys.path.append(os.path.abspath('/Users/home/whitefar/DATA/code/'))\n",
    "sys.path.append(os.path.abspath('/Users/home/whitefar/DATA/Channel/line_channel_traced_for_50kms/'))\n",
    "os.chdir(working_dir)"
   ]
  },
  {
   "cell_type": "code",
   "execution_count": 6,
   "metadata": {},
   "outputs": [
    {
     "data": {
      "text/plain": [
       "['SETSM_WV01_20151102_10200100437EF000_10200100477F7400_seg1_2m_v1.0.tar.gz',\n",
       " 'SETSM_WV01_20150104_1020010038253500_1020010038CD0C00_seg1_2m_v1.0.tar.gz',\n",
       " 'SETSM_WV01_20131222_10200100274B7500_102001002981EC00_seg1_2m_v1.0.tar.gz',\n",
       " 'SETSM_WV02_20131117_103001002A8C0D00_1030010029C81600_seg1_2m_v1.0.tar.gz',\n",
       " 'SETSM_WV02_20161219_103001006116CC00_10300100638F8E00_seg1_2m_v1.0.tar.gz',\n",
       " 'SETSM_WV01_20161219_102001005ADD9F00_102001005A4F0700_seg1_2m_v1.0.tar.gz',\n",
       " 'SETSM_WV01_20161027_1020010056BA2E00_1020010058DFD800_seg1_2m_v1.0.tar.gz',\n",
       " 'SETSM_WV01_20141209_1020010037BD1F00_10200100387ABC00_seg3_2m_v1.0.tar.gz',\n",
       " 'SETSM_WV01_20161003_1020010057910400_102001005845EA00_seg1_2m_v1.0.tar.gz',\n",
       " 'SETSM_WV01_20141106_1020010035707400_102001003747DB00_seg1_2m_v1.0.tar.gz',\n",
       " 'SETSM_WV01_20141118_10200100376E3200_1020010036DE5C00_seg1_2m_v1.0.tar.gz',\n",
       " 'SETSM_WV02_20121224_103001001D86CA00_103001001D886000_seg1_2m_v1.0.tar.gz',\n",
       " 'SETSM_WV02_20151010_103001004B706800_103001004A9F3700_seg1_2m_v1.0.tar.gz',\n",
       " 'SETSM_WV02_20141122_103001003A375A00_1030010039A69400_seg1_2m_v1.0.tar.gz',\n",
       " 'SETSM_WV01_20161008_102001005763E100_10200100564EB000_seg1_2m_v1.0.tar.gz',\n",
       " 'SETSM_WV01_20170925_10200100689D3000_1020010069DA3800_seg1_2m_v1.0.tar.gz',\n",
       " 'SETSM_WV01_20141209_1020010037CFBF00_102001003610DB00_seg1_2m_v1.0.tar.gz',\n",
       " 'SETSM_WV02_20150104_103001003C98D600_103001003BCCE700_seg1_2m_v1.0.tar.gz',\n",
       " 'SETSM_WV02_20161220_1030010061866000_103001006007BA00_seg1_2m_v1.0.tar.gz',\n",
       " 'SETSM_WV03_20161114_1040010024CFBF00_10400100256A3100_seg1_2m_v1.0.tar.gz',\n",
       " 'SETSM_WV01_20161109_1020010058134D00_10200100576C9100_seg1_2m_v1.0.tar.gz',\n",
       " 'SETSM_W1W2_20160201_102001004AA48000_103001005126F300_seg3_8m_v1.0.tar.gz',\n",
       " 'SETSM_WV01_20151001_1020010043842700_102001004697AF00_seg1_2m_v1.0.tar.gz',\n",
       " 'SETSM_WV02_20161218_1030010060926B00_1030010062531100_seg1_2m_v1.0.tar.gz',\n",
       " 'SETSM_WV01_20170114_102001005A83CE00_102001005CD1F500_seg1_2m_v1.0.tar.gz',\n",
       " 'SETSM_WV01_20161027_1020010057470300_1020010055E0F000_seg1_2m_v1.0.tar.gz',\n",
       " 'SETSM_WV02_20140206_103001002C790800_103001002C265400_seg1_2m_v1.0.tar.gz',\n",
       " 'SETSM_WV01_20160202_1020010046D12400_102001004B244400_seg1_2m_v1.0.tar.gz',\n",
       " 'SETSM_WV01_20160206_10200100486F9300_1020010049BCED00_seg1_2m_v1.0.tar.gz',\n",
       " 'SETSM_WV01_20161219_10200100591AC100_102001005934EB00_seg1_2m_v1.0.tar.gz',\n",
       " 'SETSM_WV03_20161220_1040010026391800_1040010026480500_seg1_2m_v1.0.tar.gz']"
      ]
     },
     "execution_count": 6,
     "metadata": {},
     "output_type": "execute_result"
    }
   ],
   "source": [
    "#zipped_stripes_path = \"/Users/home/whitefar/DATA/Channel/line_channel_traced_for_50kms/test_stripe/\"\n",
    "zipped_stripes_path = \"/Volumes/arc_02/REMOTE_SENSING/REMA/REMA_stripes_over_kamb_channel/\"\n",
    "\n",
    "#cropped_stripes_path = zipped_stripes_path\n",
    "#cropped_stripes_path = \"/Users/home/whitefar/DATA/Channel/line_channel_traced_for_50kms/cropped_stripes/\"\n",
    "cropped_stripes_path = \"/Volumes/arc_02/REMOTE_SENSING/REMA/REMA_stripes_over_kamb_channel/cropped_stripes/\"\n",
    "\n",
    "\n",
    "zipped_stripes_fnames = [f for f in os.listdir(zipped_stripes_path) if os.path.isfile(os.path.join(zipped_stripes_path, f))]\n",
    "\n",
    "temp_tiffs_path = \"/Users/home/whitefar/DATA/Channel/line_channel_traced_for_50kms/stripe_tiffs/\" #save them temporararily\n",
    "\n",
    "zipped_stripes_fnames"
   ]
  },
  {
   "cell_type": "code",
   "execution_count": 7,
   "metadata": {},
   "outputs": [],
   "source": [
    "with fiona.open(\"/Users/home/whitefar/DATA/Channel/line_channel_traced_for_50kms/channel_area.shp\", \"r\") as shapefile:\n",
    "    channel_area = [feature[\"geometry\"] for feature in shapefile]"
   ]
  },
  {
   "cell_type": "code",
   "execution_count": null,
   "metadata": {},
   "outputs": [],
   "source": []
  },
  {
   "cell_type": "code",
   "execution_count": 8,
   "metadata": {},
   "outputs": [],
   "source": [
    "def crop_stripe(zipped_stripe_fname, zipped_stripes_path, cropped_stripes_path, temp_tiffs_path):\n",
    "    \n",
    "    #remove .tar.gz\n",
    "    stripe_name = zipped_stripe_fname[:-7]\n",
    "    \n",
    "    zipped_stripe_path =  zipped_stripes_path + zipped_stripe_fname \n",
    "    \n",
    "    #path for output tiff\n",
    "    tiff_stripe_fname = stripe_name + \"_dem.tif\"\n",
    "    \n",
    "    #extract the .tar.gz and save as .tiff\n",
    "    with tarfile.open(zipped_stripe_path) as tar:\n",
    "        stripe_tiff = tar.extract(member=tiff_stripe_fname, path=temp_tiffs_path)\n",
    "        \n",
    "    #crop the .tiff    \n",
    "    with rio.open(temp_tiffs_path + tiff_stripe_fname) as src:\n",
    "        #print(src.transform)\n",
    "        out_image, out_transform = rasterio.mask.mask(src, channel_area,crop=True)\n",
    "        data_type = out_image.dtype\n",
    "        out_meta = src.meta.copy()\n",
    "        \n",
    "    #print(out_transform)\n",
    "    \n",
    "    out_meta.update({\"driver\": \"GTiff\",\n",
    "                 \"height\": out_image.shape[1],\n",
    "                 \"width\": out_image.shape[2],\n",
    "                 \"transform\": out_transform,\n",
    "                 \"dtype\" : data_type})\n",
    "    \n",
    "    cropped_stripe_path = cropped_stripes_path + tiff_stripe_fname\n",
    "    \n",
    "    #write the cropped tiff to file\n",
    "    with rio.open(cropped_stripe_path, \"w\", **out_meta) as dest:\n",
    "        dest.write(out_image)\n",
    "    \n",
    "    #remove the uncropped tiff\n",
    "    os.remove(temp_tiffs_path + tiff_stripe_fname)\n",
    "        \n",
    "    print(stripe_name + \"cropped and written to \"+ cropped_stripe_path)"
   ]
  },
  {
   "cell_type": "code",
   "execution_count": null,
   "metadata": {},
   "outputs": [],
   "source": []
  },
  {
   "cell_type": "code",
   "execution_count": 9,
   "metadata": {
    "scrolled": true
   },
   "outputs": [
    {
     "name": "stdout",
     "output_type": "stream",
     "text": [
      "SETSM_WV01_20151102_10200100437EF000_10200100477F7400_seg1_2m_v1.0cropped and written to /Volumes/arc_02/REMOTE_SENSING/REMA/REMA_stripes_over_kamb_channel/cropped_stripes/SETSM_WV01_20151102_10200100437EF000_10200100477F7400_seg1_2m_v1.0_dem.tif\n",
      "1/31\n",
      "SETSM_WV01_20150104_1020010038253500_1020010038CD0C00_seg1_2m_v1.0cropped and written to /Volumes/arc_02/REMOTE_SENSING/REMA/REMA_stripes_over_kamb_channel/cropped_stripes/SETSM_WV01_20150104_1020010038253500_1020010038CD0C00_seg1_2m_v1.0_dem.tif\n",
      "2/31\n",
      "SETSM_WV01_20131222_10200100274B7500_102001002981EC00_seg1_2m_v1.0cropped and written to /Volumes/arc_02/REMOTE_SENSING/REMA/REMA_stripes_over_kamb_channel/cropped_stripes/SETSM_WV01_20131222_10200100274B7500_102001002981EC00_seg1_2m_v1.0_dem.tif\n",
      "3/31\n",
      "SETSM_WV02_20131117_103001002A8C0D00_1030010029C81600_seg1_2m_v1.0cropped and written to /Volumes/arc_02/REMOTE_SENSING/REMA/REMA_stripes_over_kamb_channel/cropped_stripes/SETSM_WV02_20131117_103001002A8C0D00_1030010029C81600_seg1_2m_v1.0_dem.tif\n",
      "4/31\n",
      "SETSM_WV02_20161219_103001006116CC00_10300100638F8E00_seg1_2m_v1.0cropped and written to /Volumes/arc_02/REMOTE_SENSING/REMA/REMA_stripes_over_kamb_channel/cropped_stripes/SETSM_WV02_20161219_103001006116CC00_10300100638F8E00_seg1_2m_v1.0_dem.tif\n",
      "5/31\n",
      "SETSM_WV01_20161219_102001005ADD9F00_102001005A4F0700_seg1_2m_v1.0cropped and written to /Volumes/arc_02/REMOTE_SENSING/REMA/REMA_stripes_over_kamb_channel/cropped_stripes/SETSM_WV01_20161219_102001005ADD9F00_102001005A4F0700_seg1_2m_v1.0_dem.tif\n",
      "6/31\n",
      "SETSM_WV01_20161027_1020010056BA2E00_1020010058DFD800_seg1_2m_v1.0cropped and written to /Volumes/arc_02/REMOTE_SENSING/REMA/REMA_stripes_over_kamb_channel/cropped_stripes/SETSM_WV01_20161027_1020010056BA2E00_1020010058DFD800_seg1_2m_v1.0_dem.tif\n",
      "7/31\n",
      "SETSM_WV01_20141209_1020010037BD1F00_10200100387ABC00_seg3_2m_v1.0cropped and written to /Volumes/arc_02/REMOTE_SENSING/REMA/REMA_stripes_over_kamb_channel/cropped_stripes/SETSM_WV01_20141209_1020010037BD1F00_10200100387ABC00_seg3_2m_v1.0_dem.tif\n",
      "8/31\n",
      "SETSM_WV01_20161003_1020010057910400_102001005845EA00_seg1_2m_v1.0cropped and written to /Volumes/arc_02/REMOTE_SENSING/REMA/REMA_stripes_over_kamb_channel/cropped_stripes/SETSM_WV01_20161003_1020010057910400_102001005845EA00_seg1_2m_v1.0_dem.tif\n",
      "9/31\n",
      "SETSM_WV01_20141106_1020010035707400_102001003747DB00_seg1_2m_v1.0cropped and written to /Volumes/arc_02/REMOTE_SENSING/REMA/REMA_stripes_over_kamb_channel/cropped_stripes/SETSM_WV01_20141106_1020010035707400_102001003747DB00_seg1_2m_v1.0_dem.tif\n",
      "10/31\n",
      "SETSM_WV01_20141118_10200100376E3200_1020010036DE5C00_seg1_2m_v1.0cropped and written to /Volumes/arc_02/REMOTE_SENSING/REMA/REMA_stripes_over_kamb_channel/cropped_stripes/SETSM_WV01_20141118_10200100376E3200_1020010036DE5C00_seg1_2m_v1.0_dem.tif\n",
      "11/31\n",
      "SETSM_WV02_20121224_103001001D86CA00_103001001D886000_seg1_2m_v1.0cropped and written to /Volumes/arc_02/REMOTE_SENSING/REMA/REMA_stripes_over_kamb_channel/cropped_stripes/SETSM_WV02_20121224_103001001D86CA00_103001001D886000_seg1_2m_v1.0_dem.tif\n",
      "12/31\n",
      "SETSM_WV02_20151010_103001004B706800_103001004A9F3700_seg1_2m_v1.0cropped and written to /Volumes/arc_02/REMOTE_SENSING/REMA/REMA_stripes_over_kamb_channel/cropped_stripes/SETSM_WV02_20151010_103001004B706800_103001004A9F3700_seg1_2m_v1.0_dem.tif\n",
      "13/31\n",
      "SETSM_WV02_20141122_103001003A375A00_1030010039A69400_seg1_2m_v1.0cropped and written to /Volumes/arc_02/REMOTE_SENSING/REMA/REMA_stripes_over_kamb_channel/cropped_stripes/SETSM_WV02_20141122_103001003A375A00_1030010039A69400_seg1_2m_v1.0_dem.tif\n",
      "14/31\n",
      "SETSM_WV01_20161008_102001005763E100_10200100564EB000_seg1_2m_v1.0cropped and written to /Volumes/arc_02/REMOTE_SENSING/REMA/REMA_stripes_over_kamb_channel/cropped_stripes/SETSM_WV01_20161008_102001005763E100_10200100564EB000_seg1_2m_v1.0_dem.tif\n",
      "15/31\n",
      "SETSM_WV01_20170925_10200100689D3000_1020010069DA3800_seg1_2m_v1.0cropped and written to /Volumes/arc_02/REMOTE_SENSING/REMA/REMA_stripes_over_kamb_channel/cropped_stripes/SETSM_WV01_20170925_10200100689D3000_1020010069DA3800_seg1_2m_v1.0_dem.tif\n",
      "16/31\n",
      "SETSM_WV01_20141209_1020010037CFBF00_102001003610DB00_seg1_2m_v1.0cropped and written to /Volumes/arc_02/REMOTE_SENSING/REMA/REMA_stripes_over_kamb_channel/cropped_stripes/SETSM_WV01_20141209_1020010037CFBF00_102001003610DB00_seg1_2m_v1.0_dem.tif\n",
      "17/31\n",
      "SETSM_WV02_20150104_103001003C98D600_103001003BCCE700_seg1_2m_v1.0cropped and written to /Volumes/arc_02/REMOTE_SENSING/REMA/REMA_stripes_over_kamb_channel/cropped_stripes/SETSM_WV02_20150104_103001003C98D600_103001003BCCE700_seg1_2m_v1.0_dem.tif\n",
      "18/31\n",
      "SETSM_WV02_20161220_1030010061866000_103001006007BA00_seg1_2m_v1.0cropped and written to /Volumes/arc_02/REMOTE_SENSING/REMA/REMA_stripes_over_kamb_channel/cropped_stripes/SETSM_WV02_20161220_1030010061866000_103001006007BA00_seg1_2m_v1.0_dem.tif\n",
      "19/31\n",
      "SETSM_WV03_20161114_1040010024CFBF00_10400100256A3100_seg1_2m_v1.0cropped and written to /Volumes/arc_02/REMOTE_SENSING/REMA/REMA_stripes_over_kamb_channel/cropped_stripes/SETSM_WV03_20161114_1040010024CFBF00_10400100256A3100_seg1_2m_v1.0_dem.tif\n",
      "20/31\n",
      "SETSM_WV01_20161109_1020010058134D00_10200100576C9100_seg1_2m_v1.0cropped and written to /Volumes/arc_02/REMOTE_SENSING/REMA/REMA_stripes_over_kamb_channel/cropped_stripes/SETSM_WV01_20161109_1020010058134D00_10200100576C9100_seg1_2m_v1.0_dem.tif\n",
      "21/31\n",
      "SETSM_W1W2_20160201_102001004AA48000_103001005126F300_seg3_8m_v1.0cropped and written to /Volumes/arc_02/REMOTE_SENSING/REMA/REMA_stripes_over_kamb_channel/cropped_stripes/SETSM_W1W2_20160201_102001004AA48000_103001005126F300_seg3_8m_v1.0_dem.tif\n",
      "22/31\n",
      "SETSM_WV01_20151001_1020010043842700_102001004697AF00_seg1_2m_v1.0cropped and written to /Volumes/arc_02/REMOTE_SENSING/REMA/REMA_stripes_over_kamb_channel/cropped_stripes/SETSM_WV01_20151001_1020010043842700_102001004697AF00_seg1_2m_v1.0_dem.tif\n",
      "23/31\n",
      "SETSM_WV02_20161218_1030010060926B00_1030010062531100_seg1_2m_v1.0cropped and written to /Volumes/arc_02/REMOTE_SENSING/REMA/REMA_stripes_over_kamb_channel/cropped_stripes/SETSM_WV02_20161218_1030010060926B00_1030010062531100_seg1_2m_v1.0_dem.tif\n",
      "24/31\n",
      "SETSM_WV01_20170114_102001005A83CE00_102001005CD1F500_seg1_2m_v1.0cropped and written to /Volumes/arc_02/REMOTE_SENSING/REMA/REMA_stripes_over_kamb_channel/cropped_stripes/SETSM_WV01_20170114_102001005A83CE00_102001005CD1F500_seg1_2m_v1.0_dem.tif\n",
      "25/31\n",
      "SETSM_WV01_20161027_1020010057470300_1020010055E0F000_seg1_2m_v1.0cropped and written to /Volumes/arc_02/REMOTE_SENSING/REMA/REMA_stripes_over_kamb_channel/cropped_stripes/SETSM_WV01_20161027_1020010057470300_1020010055E0F000_seg1_2m_v1.0_dem.tif\n",
      "26/31\n",
      "SETSM_WV02_20140206_103001002C790800_103001002C265400_seg1_2m_v1.0cropped and written to /Volumes/arc_02/REMOTE_SENSING/REMA/REMA_stripes_over_kamb_channel/cropped_stripes/SETSM_WV02_20140206_103001002C790800_103001002C265400_seg1_2m_v1.0_dem.tif\n",
      "27/31\n",
      "SETSM_WV01_20160202_1020010046D12400_102001004B244400_seg1_2m_v1.0cropped and written to /Volumes/arc_02/REMOTE_SENSING/REMA/REMA_stripes_over_kamb_channel/cropped_stripes/SETSM_WV01_20160202_1020010046D12400_102001004B244400_seg1_2m_v1.0_dem.tif\n",
      "28/31\n",
      "SETSM_WV01_20160206_10200100486F9300_1020010049BCED00_seg1_2m_v1.0cropped and written to /Volumes/arc_02/REMOTE_SENSING/REMA/REMA_stripes_over_kamb_channel/cropped_stripes/SETSM_WV01_20160206_10200100486F9300_1020010049BCED00_seg1_2m_v1.0_dem.tif\n",
      "29/31\n",
      "SETSM_WV01_20161219_10200100591AC100_102001005934EB00_seg1_2m_v1.0cropped and written to /Volumes/arc_02/REMOTE_SENSING/REMA/REMA_stripes_over_kamb_channel/cropped_stripes/SETSM_WV01_20161219_10200100591AC100_102001005934EB00_seg1_2m_v1.0_dem.tif\n",
      "30/31\n",
      "SETSM_WV03_20161220_1040010026391800_1040010026480500_seg1_2m_v1.0cropped and written to /Volumes/arc_02/REMOTE_SENSING/REMA/REMA_stripes_over_kamb_channel/cropped_stripes/SETSM_WV03_20161220_1040010026391800_1040010026480500_seg1_2m_v1.0_dem.tif\n",
      "31/31\n"
     ]
    }
   ],
   "source": [
    "for i, zipped_stripe_fname in enumerate(zipped_stripes_fnames):\n",
    "    \n",
    "    crop_stripe(zipped_stripe_fname, zipped_stripes_path, cropped_stripes_path, tiffs_path)\n",
    "    \n",
    "    print(f\"{i+1}/{len(zipped_stripes_fnames)}\")\n",
    "       "
   ]
  },
  {
   "cell_type": "code",
   "execution_count": null,
   "metadata": {},
   "outputs": [],
   "source": [
    "\n"
   ]
  },
  {
   "cell_type": "code",
   "execution_count": null,
   "metadata": {},
   "outputs": [],
   "source": []
  },
  {
   "cell_type": "code",
   "execution_count": null,
   "metadata": {},
   "outputs": [],
   "source": []
  }
 ],
 "metadata": {
  "kernelspec": {
   "display_name": "arran_gis",
   "language": "python",
   "name": "arran_gis"
  },
  "language_info": {
   "codemirror_mode": {
    "name": "ipython",
    "version": 3
   },
   "file_extension": ".py",
   "mimetype": "text/x-python",
   "name": "python",
   "nbconvert_exporter": "python",
   "pygments_lexer": "ipython3",
   "version": "3.7.3"
  }
 },
 "nbformat": 4,
 "nbformat_minor": 2
}
