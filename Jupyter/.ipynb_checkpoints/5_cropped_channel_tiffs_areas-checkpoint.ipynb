{
 "cells": [
  {
   "cell_type": "markdown",
   "metadata": {},
   "source": [
    "# Merge tiffs\n",
    "\n",
    "Merge the tiffs of cropped over the channel area into one tiff."
   ]
  },
  {
   "cell_type": "code",
   "execution_count": 4,
   "metadata": {},
   "outputs": [],
   "source": [
    "import numpy as np\n",
    "import rasterio \n",
    "import os\n",
    "import sys\n",
    "import fiona\n",
    "#working_dir = '/Volumes/arc_02/REMOTE_SENSING/'\n",
    "working_dir = \"/Users/home/whitefar/DATA/Channel/line_channel_traced_for_50kms/cropped_stripes/\"\n",
    "\n",
    "cropped_stripes_path = \"/Users/home/whitefar/DATA/Channel/line_channel_traced_for_50kms/cropped_stripes/\"\n",
    "\n",
    "sys.path.append(os.path.abspath(working_dir))\n",
    "sys.path.append(os.path.abspath('/Users/home/whitefar/DATA/code/'))\n",
    "sys.path.append(os.path.abspath('/Users/home/whitefar/DATA/Channel/line_channel_traced_for_50kms/'))\n",
    "os.chdir(working_dir)"
   ]
  },
  {
   "cell_type": "code",
   "execution_count": 5,
   "metadata": {},
   "outputs": [
    {
     "data": {
      "text/plain": [
       "['SETSM_WV01_20141209_1020010037BD1F00_10200100387ABC00_seg3_2m_v1.0_dem.tif',\n",
       " 'SETSM_WV02_20121224_103001001D86CA00_103001001D886000_seg1_2m_v1.0_dem.tif',\n",
       " 'SETSM_WV02_20141122_103001003A375A00_1030010039A69400_seg1_2m_v1.0_dem.tif',\n",
       " 'SETSM_WV01_20150104_1020010038253500_1020010038CD0C00_seg1_2m_v1.0_dem.tif',\n",
       " 'SETSM_WV02_20131117_103001002A8C0D00_1030010029C81600_seg1_2m_v1.0_dem.tif',\n",
       " 'SETSM_WV01_20161219_102001005ADD9F00_102001005A4F0700_seg1_2m_v1.0_dem.tif',\n",
       " 'SETSM_WV01_20161027_1020010056BA2E00_1020010058DFD800_seg1_2m_v1.0_dem.tif',\n",
       " 'SETSM_WV01_20161003_1020010057910400_102001005845EA00_seg1_2m_v1.0_dem.tif',\n",
       " 'SETSM_WV01_20141118_10200100376E3200_1020010036DE5C00_seg1_2m_v1.0_dem.tif',\n",
       " 'SETSM_WV02_20161219_103001006116CC00_10300100638F8E00_seg1_2m_v1.0_dem.tif',\n",
       " 'SETSM_WV01_20151102_10200100437EF000_10200100477F7400_seg1_2m_v1.0_dem.tif',\n",
       " 'SETSM_WV01_20141106_1020010035707400_102001003747DB00_seg1_2m_v1.0_dem.tif',\n",
       " 'SETSM_WV02_20151010_103001004B706800_103001004A9F3700_seg1_2m_v1.0_dem.tif',\n",
       " 'SETSM_WV01_20131222_10200100274B7500_102001002981EC00_seg1_2m_v1.0_dem.tif']"
      ]
     },
     "execution_count": 5,
     "metadata": {},
     "output_type": "execute_result"
    }
   ],
   "source": [
    "cropped_stripes_path = \"/Users/home/whitefar/DATA/Channel/line_channel_traced_for_50kms/cropped_stripes/\"\n",
    "\n",
    "cropped_stripes_fnames = [f for f in os.listdir(cropped_stripes_path) if os.path.isfile(os.path.join(cropped_stripes_path, f))]\n",
    "cropped_stripes_fnames\n"
   ]
  },
  {
   "cell_type": "code",
   "execution_count": 6,
   "metadata": {},
   "outputs": [],
   "source": [
    "channel_area = fiona.open(\"/Users/home/whitefar/DATA/Channel/line_channel_traced_for_50kms/channel_area.shp\", \"r\") "
   ]
  },
  {
   "cell_type": "code",
   "execution_count": null,
   "metadata": {},
   "outputs": [],
   "source": [
    "with rasterio.open(cropped_stripes_path + cropped_stripes_fnames,\"r\") as src:\n",
    "    out_image, out_transform =  rasterio.merge.merge(datasets=src,\n",
    "                                                     bounds=channel_area.bounds,\n",
    "                                                     res=None,\n",
    "                                                     nodata=None,\n",
    "                                                     precision=7,\n",
    "                                                     indexes=None)\n",
    "    data_type = out_image.dtype\n",
    "    out_meta = src.meta.copy()\n",
    "        \n",
    "    #print(out_transform)\n",
    "    \n",
    "out_meta.update({\"driver\": \"GTiff\",\n",
    "                 \"height\": out_image.shape[1],\n",
    "                 \"width\": out_image.shape[2],\n",
    "                 \"transform\": out_transform,\n",
    "                 \"dtype\" : data_type})\n",
    "\n",
    "out_name = \"channel_tiff\"\n",
    "\n",
    "out_path = cropped_stripes_path + out_name + \"_dem.tif\"\n",
    "\n",
    "with rio.open(, \"w\", **out_meta) as dest:\n",
    "    dest.write(out_image)\n",
    "    "
   ]
  }
 ],
 "metadata": {
  "kernelspec": {
   "display_name": "Python 3",
   "language": "python",
   "name": "python3"
  },
  "language_info": {
   "codemirror_mode": {
    "name": "ipython",
    "version": 3
   },
   "file_extension": ".py",
   "mimetype": "text/x-python",
   "name": "python",
   "nbconvert_exporter": "python",
   "pygments_lexer": "ipython3",
   "version": "3.6.8"
  }
 },
 "nbformat": 4,
 "nbformat_minor": 2
}
