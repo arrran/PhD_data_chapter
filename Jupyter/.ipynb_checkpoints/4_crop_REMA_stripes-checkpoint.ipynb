{
 "cells": [
  {
   "cell_type": "markdown",
   "metadata": {},
   "source": [
    "Crop REMA stripes by the polygon"
   ]
  },
  {
   "cell_type": "code",
   "execution_count": 47,
   "metadata": {},
   "outputs": [],
   "source": [
    "import numpy as np\n",
    "import rasterio as rio\n",
    "import rasterio.mask\n",
    "import tarfile\n",
    "import fiona\n",
    "\n",
    "import os\n",
    "import sys\n",
    "import geopandas as gpd\n",
    "import shapely as sp\n",
    "import matplotlib.pyplot as plt\n",
    "\n",
    "import matplotlib.pyplot as plt\n",
    "\n",
    "\n",
    "#working_dir = '/Volumes/arc_02/REMOTE_SENSING/'\n",
    "working_dir = \"/Users/home/whitefar/DATA/Channel/line_channel_traced_for_50kms/test_stripe/\"\n",
    "\n",
    "sys.path.append(os.path.abspath(working_dir))\n",
    "sys.path.append(os.path.abspath('/Users/home/whitefar/DATA/code/'))\n",
    "sys.path.append(os.path.abspath('/Users/home/whitefar/DATA/Channel/line_channel_traced_for_50kms/'))\n",
    "os.chdir(working_dir)"
   ]
  },
  {
   "cell_type": "code",
   "execution_count": 48,
   "metadata": {},
   "outputs": [
    {
     "data": {
      "text/plain": [
       "['SETSM_WV01_20151102_10200100437EF000_10200100477F7400_seg1_2m_v1.0']"
      ]
     },
     "execution_count": 48,
     "metadata": {},
     "output_type": "execute_result"
    }
   ],
   "source": [
    "zipped_stripes_path = \"/Users/home/whitefar/DATA/Channel/line_channel_traced_for_50kms/test_stripe/\"\n",
    "cropped_stripes_path = \"/Users/home/whitefar/DATA/Channel/line_channel_traced_for_50kms/cropped_stripes/\"\n",
    "\n",
    "zipped_stripes_fnames = [f for f in os.listdir(zipped_stripes_path) if os.path.isfile(os.path.join(zipped_stripes_path, f))]\n",
    "\n",
    "stripes_names = [stripe[:-7] for stripe in zipped_stripes_fnames]\n",
    "\n",
    "tiffs_path = \"/Users/home/whitefar/DATA/Channel/line_channel_traced_for_50kms/stripe_tiffs/\" #save them temporararily\n",
    "\n",
    "stripes_names"
   ]
  },
  {
   "cell_type": "code",
   "execution_count": 49,
   "metadata": {},
   "outputs": [],
   "source": [
    "with fiona.open(\"/Users/home/whitefar/DATA/Channel/line_channel_traced_for_50kms/channel_area.shp\", \"r\") as shapefile:\n",
    "    channel_area = [feature[\"geometry\"] for feature in shapefile]"
   ]
  },
  {
   "cell_type": "code",
   "execution_count": null,
   "metadata": {},
   "outputs": [],
   "source": [
    "def crop_stripes(stripe_name):"
   ]
  },
  {
   "cell_type": "code",
   "execution_count": 50,
   "metadata": {},
   "outputs": [
    {
     "name": "stdout",
     "output_type": "stream",
     "text": [
      "SETSM_WV01_20151102_10200100437EF000_10200100477F7400_seg1_2m_v1.0_dem.tif\n"
     ]
    }
   ],
   "source": [
    "for i, stripe_name in enumerate(stripes_names):\n",
    "    \n",
    "    zipped_stripe_path =  zipped_stripes_path + zipped_stripes_fnames[i] \n",
    "    \n",
    "    tiff_stripe_fname = stripe_name + \"_dem.tif\"\n",
    "    \n",
    "    with tarfile.open(zipped_stripe_path) as tar:\n",
    "        stripe_tiff = tar.extract(member=tiff_stripe_fname, path=tiffs_path)\n",
    "        \n",
    "    with rio.open(tiffs_path + tiff_stripe_fname) as src:\n",
    "        out_image, out_transform = rasterio.mask.mask(src, channel_area,crop=True)\n",
    "        out_meta = src.meta.copy()\n",
    "    \n",
    "    out_meta.update({\"driver\": \"GTiff\",\n",
    "                 \"height\": out_image.shape[1],\n",
    "                 \"width\": out_image.shape[2],\n",
    "                 \"transform\": out_transform})\n",
    "    \n",
    "    cropped_stripe_path = cropped_REMA_stripes_path + \"cropped\" + tiff_stripe_fname\n",
    "    \n",
    "    with rio.open(cropped_stripe_path, \"w\", **out_meta) as dest:\n",
    "        dest.write(out_image)\n",
    "        \n",
    "    os.remove(tiffs_path + tiff_stripe_fname)\n",
    "        \n",
    "    print(stripe_name + \"cropped and written to \"+ cropped_stripe_path)"
   ]
  },
  {
   "cell_type": "code",
   "execution_count": null,
   "metadata": {},
   "outputs": [],
   "source": []
  },
  {
   "cell_type": "code",
   "execution_count": null,
   "metadata": {},
   "outputs": [],
   "source": []
  }
 ],
 "metadata": {
  "kernelspec": {
   "display_name": "Python 3",
   "language": "python",
   "name": "python3"
  },
  "language_info": {
   "codemirror_mode": {
    "name": "ipython",
    "version": 3
   },
   "file_extension": ".py",
   "mimetype": "text/x-python",
   "name": "python",
   "nbconvert_exporter": "python",
   "pygments_lexer": "ipython3",
   "version": "3.6.8"
  }
 },
 "nbformat": 4,
 "nbformat_minor": 2
}
