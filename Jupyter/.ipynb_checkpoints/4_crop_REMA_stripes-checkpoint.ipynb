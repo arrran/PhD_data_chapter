{
 "cells": [
  {
   "cell_type": "markdown",
   "metadata": {},
   "source": [
    "# Crop REMA stripes by the polygon from 3 (around channel)\n",
    "\n",
    "based on https://rasterio.readthedocs.io/en/stable/topics/masking-by-shapefile.html \n",
    "but also using tarfile\n",
    "\n",
    "This script unzips the raster, crops it, then saves a tiff"
   ]
  },
  {
   "cell_type": "code",
   "execution_count": 1,
   "metadata": {},
   "outputs": [],
   "source": [
    "# !conda activate arran_gis"
   ]
  },
  {
   "cell_type": "code",
   "execution_count": 2,
   "metadata": {},
   "outputs": [],
   "source": [
    "# !jupyter kernelspec list --json"
   ]
  },
  {
   "cell_type": "code",
   "execution_count": 3,
   "metadata": {},
   "outputs": [],
   "source": [
    "# !which python"
   ]
  },
  {
   "cell_type": "code",
   "execution_count": 4,
   "metadata": {},
   "outputs": [],
   "source": [
    "# !python -m ipykernel install --user --name arran_gis"
   ]
  },
  {
   "cell_type": "code",
   "execution_count": 5,
   "metadata": {},
   "outputs": [],
   "source": [
    "import rasterio as rio\n",
    "import rasterio.mask\n",
    "import tarfile\n",
    "import fiona\n",
    "\n",
    "import os\n",
    "import sys\n",
    "#working_dir = '/Volumes/arc_02/REMOTE_SENSING/'\n",
    "working_dir = \"/Users/home/whitefar/DATA/Channel/line_channel_traced_for_50kms/\"\n",
    "\n",
    "sys.path.append(os.path.abspath(working_dir))\n",
    "sys.path.append(os.path.abspath('/Users/home/whitefar/DATA/code/'))\n",
    "sys.path.append(os.path.abspath('/Users/home/whitefar/DATA/Channel/line_channel_traced_for_50kms/'))\n",
    "os.chdir(working_dir)"
   ]
  },
  {
   "cell_type": "code",
   "execution_count": 6,
   "metadata": {},
   "outputs": [
    {
     "data": {
      "text/plain": [
       "['SETSM_WV01_20151102_10200100437EF000_10200100477F7400_seg1_2m_v1.0.tar.gz']"
      ]
     },
     "execution_count": 6,
     "metadata": {},
     "output_type": "execute_result"
    }
   ],
   "source": [
    "#zipped_stripes_path = \"/Users/home/whitefar/DATA/Channel/line_channel_traced_for_50kms/test_stripe/\"\n",
    "zipped_stripes_path = \"/Volumes/arc_02/REMOTE_SENSING/REMA/REMA_stripes_over_kamb_channel/\"\n",
    "\n",
    "#cropped_stripes_path = zipped_stripes_path\n",
    "cropped_stripes_path = \"/Users/home/whitefar/DATA/Channel/line_channel_traced_for_50kms/cropped_stripes/\"\n",
    "\n",
    "\n",
    "zipped_stripes_fnames = [f for f in os.listdir(zipped_stripes_path) if os.path.isfile(os.path.join(zipped_stripes_path, f))]\n",
    "\n",
    "tiffs_path = \"/Users/home/whitefar/DATA/Channel/line_channel_traced_for_50kms/stripe_tiffs/\" #save them temporararily\n",
    "\n",
    "zipped_stripes_fnames"
   ]
  },
  {
   "cell_type": "code",
   "execution_count": 7,
   "metadata": {},
   "outputs": [],
   "source": [
    "with fiona.open(\"/Users/home/whitefar/DATA/Channel/line_channel_traced_for_50kms/channel_area.shp\", \"r\") as shapefile:\n",
    "    channel_area = [feature[\"geometry\"] for feature in shapefile]"
   ]
  },
  {
   "cell_type": "code",
   "execution_count": null,
   "metadata": {},
   "outputs": [],
   "source": []
  },
  {
   "cell_type": "code",
   "execution_count": 8,
   "metadata": {},
   "outputs": [],
   "source": [
    "def crop_stripe(zipped_stripe_fname, zipped_stripes_path, cropped_stripes_path, tiffs_path):\n",
    "    \n",
    "    #remove .tar.gz\n",
    "    stripe_name = zipped_stripe_fname[:-7]\n",
    "    \n",
    "    zipped_stripe_path =  zipped_stripes_path + zipped_stripe_fname \n",
    "    \n",
    "    #path for output tiff\n",
    "    tiff_stripe_fname = stripe_name + \"_dem.tif\"\n",
    "    \n",
    "    #extract the .tar.gz and save as .tiff\n",
    "    with tarfile.open(zipped_stripe_path) as tar:\n",
    "        stripe_tiff = tar.extract(member=tiff_stripe_fname, path=tiffs_path)\n",
    "        \n",
    "    #crop the .tiff    \n",
    "    with rio.open(tiffs_path + tiff_stripe_fname) as src:\n",
    "        #print(src.transform)\n",
    "        out_image, out_transform = rasterio.mask.mask(src, channel_area,crop=True)\n",
    "        data_type = out_image.dtype\n",
    "        out_meta = src.meta.copy()\n",
    "        \n",
    "    #print(out_transform)\n",
    "    \n",
    "    out_meta.update({\"driver\": \"GTiff\",\n",
    "                 \"height\": out_image.shape[1],\n",
    "                 \"width\": out_image.shape[2],\n",
    "                 \"transform\": out_transform,\n",
    "                 \"dtype\" : data_type})\n",
    "    \n",
    "    cropped_stripe_path = cropped_stripes_path + tiff_stripe_fname\n",
    "    \n",
    "    #write the cropped tiff to file\n",
    "    with rio.open(cropped_stripe_path, \"w\", **out_meta) as dest:\n",
    "        dest.write(out_image)\n",
    "    \n",
    "    #remove the uncropped tiff\n",
    "    os.remove(tiffs_path + tiff_stripe_fname)\n",
    "        \n",
    "    print(stripe_name + \"cropped and written to \"+ cropped_stripe_path)"
   ]
  },
  {
   "cell_type": "code",
   "execution_count": null,
   "metadata": {},
   "outputs": [],
   "source": []
  },
  {
   "cell_type": "code",
   "execution_count": 9,
   "metadata": {
    "scrolled": true
   },
   "outputs": [
    {
     "name": "stdout",
     "output_type": "stream",
     "text": [
      "| 2.00, 0.00,-402372.00|\n",
      "| 0.00,-2.00,-718018.00|\n",
      "| 0.00, 0.00, 1.00|\n",
      "| 2.00, 0.00,-402372.00|\n",
      "| 0.00,-2.00,-718018.00|\n",
      "| 0.00, 0.00, 1.00|\n",
      "SETSM_WV01_20151102_10200100437EF000_10200100477F7400_seg1_2m_v1.0cropped and written to /Users/home/whitefar/DATA/Channel/line_channel_traced_for_50kms/test_stripe/SETSM_WV01_20151102_10200100437EF000_10200100477F7400_seg1_2m_v1.0_dem.tif\n",
      "1/1\n"
     ]
    }
   ],
   "source": [
    "for i, zipped_stripe_fname in enumerate(zipped_stripes_fnames):\n",
    "    \n",
    "    crop_stripe(zipped_stripe_fname, zipped_stripes_path, cropped_stripes_path, tiffs_path)\n",
    "    \n",
    "    print(f\"{i+1}/{len(zipped_stripes_fnames)}\")\n",
    "       "
   ]
  },
  {
   "cell_type": "code",
   "execution_count": null,
   "metadata": {},
   "outputs": [],
   "source": [
    "\n"
   ]
  },
  {
   "cell_type": "code",
   "execution_count": null,
   "metadata": {},
   "outputs": [],
   "source": []
  },
  {
   "cell_type": "code",
   "execution_count": null,
   "metadata": {},
   "outputs": [],
   "source": []
  }
 ],
 "metadata": {
  "kernelspec": {
   "display_name": "arran_gis",
   "language": "python",
   "name": "arran_gis"
  },
  "language_info": {
   "codemirror_mode": {
    "name": "ipython",
    "version": 3
   },
   "file_extension": ".py",
   "mimetype": "text/x-python",
   "name": "python",
   "nbconvert_exporter": "python",
   "pygments_lexer": "ipython3",
   "version": "3.7.3"
  }
 },
 "nbformat": 4,
 "nbformat_minor": 2
}
