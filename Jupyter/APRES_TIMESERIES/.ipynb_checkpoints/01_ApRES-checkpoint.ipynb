{
 "cells": [
  {
   "cell_type": "markdown",
   "id": "2beca7d0",
   "metadata": {},
   "source": [
    "# process apres kis2\n",
    "\n",
    "1. run part A of this to get metadata\n",
    "2. run matlab script paper_meltrates\n",
    "3. run part B of this scribt\n"
   ]
  },
  {
   "cell_type": "markdown",
   "id": "5e1a33a8",
   "metadata": {},
   "source": [
    "Hi Arran,\n",
    "\n",
    "I've copied the 20/21 traverse data here:\n",
    "\n",
    "/Volumes/arc_04/FIELD_DATA/K8622021/\n",
    "\n",
    "Looks like metadata is in KIS\\ Science/KIS_science.shp\n",
    "\n",
    "Looks like the winter over station did well. Have a look at the point measurements when you get a chance and see if everything you are expecting is there.\n",
    "\n",
    "On his own initiative all the stations were visited with the UC system. I'm hoping this doesn't cause any issues.\n",
    "\n",
    "Cheers - Huw\n",
    "\n",
    "# Part A"
   ]
  },
  {
   "cell_type": "code",
   "execution_count": null,
   "id": "a8f05a20-cef4-42f2-8b51-dbd6b006f90b",
   "metadata": {},
   "outputs": [],
   "source": []
  },
  {
   "cell_type": "code",
   "execution_count": 1,
   "id": "c83cfec1",
   "metadata": {},
   "outputs": [],
   "source": [
    "import matplotlib.pyplot as plt\n",
    "import numpy as np\n",
    "import glob\n",
    "import os\n",
    "import sys\n",
    "import time\n",
    "import datetime as dt\n",
    "import pandas as pd\n",
    "import geopandas as gpd\n",
    "import scipy as sp\n",
    "from shapely.geometry import Point, LineString, Polygon, MultiPoint, box\n",
    "import fiona\n",
    "from shapely.ops import nearest_points\n",
    "import matplotlib as mpl\n",
    "from scipy import interpolate\n",
    "import subprocess"
   ]
  },
  {
   "cell_type": "code",
   "execution_count": 2,
   "id": "90e463c6",
   "metadata": {},
   "outputs": [
    {
     "name": "stdout",
     "output_type": "stream",
     "text": [
      "'ApRES data files'\n",
      " ApRES_RESOURCES\n",
      " K862_2021_ShapeFiles\n",
      " K862A_2021_TraverseScience-compressed.pdf\n",
      "'KIS2 New ApRES Trial Sub burst results'\n",
      "'KIS2 WO GPS copy'\n",
      " KIS_science.cpg\n",
      " KIS_science.dbf\n",
      " KIS_science.prj\n",
      " KIS_science.qpj\n",
      " KIS_science.shp\n",
      " KIS_science.shx\n",
      "'KSI1 Winterover ApRES Trial subburst.docx'\n"
     ]
    }
   ],
   "source": [
    "!ls /Volumes/arc_04/FIELD_DATA/K8622021/'KIS Science'/"
   ]
  },
  {
   "cell_type": "code",
   "execution_count": 62,
   "id": "31ba65c2-560e-4755-ae13-8e32815f22c3",
   "metadata": {},
   "outputs": [],
   "source": [
    "files = glob.glob('/Volumes/arc_04/FIELD_DATA/K8622021/KIS Science/ApRES data files/KIS2/KIS2 Old WO ApRES Card2/**/*.DAT',recursive=True)"
   ]
  },
  {
   "cell_type": "code",
   "execution_count": 63,
   "id": "e4256dce-034c-4a8b-827b-545fd351e277",
   "metadata": {},
   "outputs": [],
   "source": [
    "datetime_str = [os.path.splitext(os.path.split(file)[-1])[0][4:] for file in files]"
   ]
  },
  {
   "cell_type": "code",
   "execution_count": 64,
   "id": "1de11c0c-5bdb-481f-98bc-49c827fac09c",
   "metadata": {},
   "outputs": [],
   "source": [
    "datetimes = [pd.Timestamp(pd.to_datetime(datetime,format='%Y-%m-%d-%H%M')) for datetime in datetime_str]\n",
    "ts = [datetime.timestamp() for datetime in datetimes]"
   ]
  },
  {
   "cell_type": "code",
   "execution_count": 65,
   "id": "5520256f-3ce7-482b-b94d-1ecf4fe4456c",
   "metadata": {},
   "outputs": [],
   "source": [
    "df = pd.DataFrame({'time1':datetimes,'File_Name1':files,\n",
    "#                    'timestamp1':ts\n",
    "                  })"
   ]
  },
  {
   "cell_type": "code",
   "execution_count": 66,
   "id": "76f25d9d-dfd3-40ad-8a4e-4b9e8d28e9cb",
   "metadata": {},
   "outputs": [],
   "source": [
    "df.sort_values('time1',inplace=True)"
   ]
  },
  {
   "cell_type": "code",
   "execution_count": 67,
   "id": "4cfb329f-2692-4666-91f9-fb940f32b0c8",
   "metadata": {},
   "outputs": [],
   "source": [
    "df.reset_index(drop=True,inplace=True)"
   ]
  },
  {
   "cell_type": "code",
   "execution_count": 68,
   "id": "a46945d6-d7d3-47cc-a50f-33cc53fd7e35",
   "metadata": {},
   "outputs": [],
   "source": [
    "# 5 is first auto log\n",
    "df.drop([0,1,2,3,4],inplace=True)"
   ]
  },
  {
   "cell_type": "code",
   "execution_count": 69,
   "id": "3d9d1c0a-da83-4d5c-8dc0-e0a5b18448c7",
   "metadata": {},
   "outputs": [],
   "source": [
    "df.reset_index(drop=True,inplace=True)"
   ]
  },
  {
   "cell_type": "code",
   "execution_count": 70,
   "id": "d9912460-0b01-4c4f-917d-49ac942cb7a3",
   "metadata": {},
   "outputs": [
    {
     "data": {
      "text/plain": [
       "Index(['time1', 'File_Name1'], dtype='object')"
      ]
     },
     "execution_count": 70,
     "metadata": {},
     "output_type": "execute_result"
    }
   ],
   "source": [
    "df.keys()"
   ]
  },
  {
   "cell_type": "code",
   "execution_count": 71,
   "id": "f02c3efd-3b7c-4870-af67-8005a724cc85",
   "metadata": {},
   "outputs": [],
   "source": [
    "df.set_index('time1', inplace=True)"
   ]
  },
  {
   "cell_type": "code",
   "execution_count": 72,
   "id": "ab956d8f-07de-4cfb-9638-a9029c6c5173",
   "metadata": {},
   "outputs": [],
   "source": [
    "start = df.index[0]\n",
    "end = df.index[-1]"
   ]
  },
  {
   "cell_type": "code",
   "execution_count": 73,
   "id": "592d5fa6-dfb5-4a6d-905e-af58be9b0db5",
   "metadata": {},
   "outputs": [],
   "source": [
    "\n",
    "df['meltRate'] = np.nan\n",
    "df['meltRateError'] =np.nan\n",
    "df['bed'] = np.nan\n",
    "df['dhStrain'] = np.nan\n",
    "df['dheStrain'] = np.nan\n",
    "df['dheStrain'] = np.nan\n",
    "df['dheStrain'] = np.nan\n",
    "df['Approx_Depth'] = np.nan\n",
    "\n",
    "df.iloc[0,-1] = 432.1 #setting approx depth for the first one to a guess"
   ]
  },
  {
   "cell_type": "code",
   "execution_count": 78,
   "id": "d75ef3f4-8071-4d89-91ac-95d06b8050b8",
   "metadata": {},
   "outputs": [],
   "source": [
    "# for i in range(1,31):\n",
    "df_out = df.copy()"
   ]
  },
  {
   "cell_type": "code",
   "execution_count": 76,
   "id": "265aec0d-ad61-4e55-af90-b33cb4646fd3",
   "metadata": {},
   "outputs": [],
   "source": [
    "## DO IT SO THAT IT CUTS THE DUD POINTS WHICH DONT HAVE A PERIOD APART"
   ]
  },
  {
   "cell_type": "code",
   "execution_count": 80,
   "id": "1bfc0357-ae01-45fa-864c-cd1f01c6027c",
   "metadata": {},
   "outputs": [],
   "source": [
    "for i in range(1, 32):\n",
    "\n",
    "    period =  pd.Timedelta(f'{i} days') # approx one month\n",
    "    df_out['time2'] = pd.Series(df_out.index + period).to_list()\n",
    "\n",
    "    time2_i = [df_out.index.get_loc(i,\"nearest\") for i in df.index + period]\n",
    "    last_i = df.index.get_loc(df.index[-1] - period,\"nearest\")\n",
    "    df_out['File_Name2'] = df_out.File_Name1.iloc[time2_i].tolist()\n",
    "    \n",
    "    df_out['mid_time'] = (df_out.index+(df_out.time2-df_out.index)/2).to_list()\n",
    "\n",
    "    df_out[:last_i].to_csv(f'/Users/home/whitefar/DATA/APRES_TIMESERIES/kis2_apres_timeseries_meta_{i}days.csv')\n",
    " \n",
    "    df_out.drop(columns=['time2','File_Name2','mid_time'],inplace=True)\n",
    "#     print(i)"
   ]
  },
  {
   "cell_type": "code",
   "execution_count": 79,
   "id": "fc1ead24-0d41-4327-ae29-68d788ca331a",
   "metadata": {},
   "outputs": [
    {
     "data": {
      "text/html": [
       "<div>\n",
       "<style scoped>\n",
       "    .dataframe tbody tr th:only-of-type {\n",
       "        vertical-align: middle;\n",
       "    }\n",
       "\n",
       "    .dataframe tbody tr th {\n",
       "        vertical-align: top;\n",
       "    }\n",
       "\n",
       "    .dataframe thead th {\n",
       "        text-align: right;\n",
       "    }\n",
       "</style>\n",
       "<table border=\"1\" class=\"dataframe\">\n",
       "  <thead>\n",
       "    <tr style=\"text-align: right;\">\n",
       "      <th></th>\n",
       "      <th>File_Name1</th>\n",
       "      <th>meltRate</th>\n",
       "      <th>meltRateError</th>\n",
       "      <th>bed</th>\n",
       "      <th>dhStrain</th>\n",
       "      <th>dheStrain</th>\n",
       "      <th>Approx_Depth</th>\n",
       "    </tr>\n",
       "    <tr>\n",
       "      <th>time1</th>\n",
       "      <th></th>\n",
       "      <th></th>\n",
       "      <th></th>\n",
       "      <th></th>\n",
       "      <th></th>\n",
       "      <th></th>\n",
       "      <th></th>\n",
       "    </tr>\n",
       "  </thead>\n",
       "  <tbody>\n",
       "    <tr>\n",
       "      <th>2019-12-31 06:08:00</th>\n",
       "      <td>/Volumes/arc_04/FIELD_DATA/K8622021/KIS Scienc...</td>\n",
       "      <td>NaN</td>\n",
       "      <td>NaN</td>\n",
       "      <td>NaN</td>\n",
       "      <td>NaN</td>\n",
       "      <td>NaN</td>\n",
       "      <td>432.1</td>\n",
       "    </tr>\n",
       "    <tr>\n",
       "      <th>2019-12-31 13:08:00</th>\n",
       "      <td>/Volumes/arc_04/FIELD_DATA/K8622021/KIS Scienc...</td>\n",
       "      <td>NaN</td>\n",
       "      <td>NaN</td>\n",
       "      <td>NaN</td>\n",
       "      <td>NaN</td>\n",
       "      <td>NaN</td>\n",
       "      <td>NaN</td>\n",
       "    </tr>\n",
       "    <tr>\n",
       "      <th>2019-12-31 20:08:00</th>\n",
       "      <td>/Volumes/arc_04/FIELD_DATA/K8622021/KIS Scienc...</td>\n",
       "      <td>NaN</td>\n",
       "      <td>NaN</td>\n",
       "      <td>NaN</td>\n",
       "      <td>NaN</td>\n",
       "      <td>NaN</td>\n",
       "      <td>NaN</td>\n",
       "    </tr>\n",
       "    <tr>\n",
       "      <th>2020-01-01 03:18:00</th>\n",
       "      <td>/Volumes/arc_04/FIELD_DATA/K8622021/KIS Scienc...</td>\n",
       "      <td>NaN</td>\n",
       "      <td>NaN</td>\n",
       "      <td>NaN</td>\n",
       "      <td>NaN</td>\n",
       "      <td>NaN</td>\n",
       "      <td>NaN</td>\n",
       "    </tr>\n",
       "    <tr>\n",
       "      <th>2020-01-01 10:18:00</th>\n",
       "      <td>/Volumes/arc_04/FIELD_DATA/K8622021/KIS Scienc...</td>\n",
       "      <td>NaN</td>\n",
       "      <td>NaN</td>\n",
       "      <td>NaN</td>\n",
       "      <td>NaN</td>\n",
       "      <td>NaN</td>\n",
       "      <td>NaN</td>\n",
       "    </tr>\n",
       "    <tr>\n",
       "      <th>...</th>\n",
       "      <td>...</td>\n",
       "      <td>...</td>\n",
       "      <td>...</td>\n",
       "      <td>...</td>\n",
       "      <td>...</td>\n",
       "      <td>...</td>\n",
       "      <td>...</td>\n",
       "    </tr>\n",
       "    <tr>\n",
       "      <th>2020-12-23 16:17:00</th>\n",
       "      <td>/Volumes/arc_04/FIELD_DATA/K8622021/KIS Scienc...</td>\n",
       "      <td>NaN</td>\n",
       "      <td>NaN</td>\n",
       "      <td>NaN</td>\n",
       "      <td>NaN</td>\n",
       "      <td>NaN</td>\n",
       "      <td>NaN</td>\n",
       "    </tr>\n",
       "    <tr>\n",
       "      <th>2020-12-23 23:17:00</th>\n",
       "      <td>/Volumes/arc_04/FIELD_DATA/K8622021/KIS Scienc...</td>\n",
       "      <td>NaN</td>\n",
       "      <td>NaN</td>\n",
       "      <td>NaN</td>\n",
       "      <td>NaN</td>\n",
       "      <td>NaN</td>\n",
       "      <td>NaN</td>\n",
       "    </tr>\n",
       "    <tr>\n",
       "      <th>2020-12-24 06:17:00</th>\n",
       "      <td>/Volumes/arc_04/FIELD_DATA/K8622021/KIS Scienc...</td>\n",
       "      <td>NaN</td>\n",
       "      <td>NaN</td>\n",
       "      <td>NaN</td>\n",
       "      <td>NaN</td>\n",
       "      <td>NaN</td>\n",
       "      <td>NaN</td>\n",
       "    </tr>\n",
       "    <tr>\n",
       "      <th>2020-12-24 13:17:00</th>\n",
       "      <td>/Volumes/arc_04/FIELD_DATA/K8622021/KIS Scienc...</td>\n",
       "      <td>NaN</td>\n",
       "      <td>NaN</td>\n",
       "      <td>NaN</td>\n",
       "      <td>NaN</td>\n",
       "      <td>NaN</td>\n",
       "      <td>NaN</td>\n",
       "    </tr>\n",
       "    <tr>\n",
       "      <th>2020-12-24 20:17:00</th>\n",
       "      <td>/Volumes/arc_04/FIELD_DATA/K8622021/KIS Scienc...</td>\n",
       "      <td>NaN</td>\n",
       "      <td>NaN</td>\n",
       "      <td>NaN</td>\n",
       "      <td>NaN</td>\n",
       "      <td>NaN</td>\n",
       "      <td>NaN</td>\n",
       "    </tr>\n",
       "  </tbody>\n",
       "</table>\n",
       "<p>1237 rows × 7 columns</p>\n",
       "</div>"
      ],
      "text/plain": [
       "                                                            File_Name1  \\\n",
       "time1                                                                    \n",
       "2019-12-31 06:08:00  /Volumes/arc_04/FIELD_DATA/K8622021/KIS Scienc...   \n",
       "2019-12-31 13:08:00  /Volumes/arc_04/FIELD_DATA/K8622021/KIS Scienc...   \n",
       "2019-12-31 20:08:00  /Volumes/arc_04/FIELD_DATA/K8622021/KIS Scienc...   \n",
       "2020-01-01 03:18:00  /Volumes/arc_04/FIELD_DATA/K8622021/KIS Scienc...   \n",
       "2020-01-01 10:18:00  /Volumes/arc_04/FIELD_DATA/K8622021/KIS Scienc...   \n",
       "...                                                                ...   \n",
       "2020-12-23 16:17:00  /Volumes/arc_04/FIELD_DATA/K8622021/KIS Scienc...   \n",
       "2020-12-23 23:17:00  /Volumes/arc_04/FIELD_DATA/K8622021/KIS Scienc...   \n",
       "2020-12-24 06:17:00  /Volumes/arc_04/FIELD_DATA/K8622021/KIS Scienc...   \n",
       "2020-12-24 13:17:00  /Volumes/arc_04/FIELD_DATA/K8622021/KIS Scienc...   \n",
       "2020-12-24 20:17:00  /Volumes/arc_04/FIELD_DATA/K8622021/KIS Scienc...   \n",
       "\n",
       "                     meltRate  meltRateError  bed  dhStrain  dheStrain  \\\n",
       "time1                                                                    \n",
       "2019-12-31 06:08:00       NaN            NaN  NaN       NaN        NaN   \n",
       "2019-12-31 13:08:00       NaN            NaN  NaN       NaN        NaN   \n",
       "2019-12-31 20:08:00       NaN            NaN  NaN       NaN        NaN   \n",
       "2020-01-01 03:18:00       NaN            NaN  NaN       NaN        NaN   \n",
       "2020-01-01 10:18:00       NaN            NaN  NaN       NaN        NaN   \n",
       "...                       ...            ...  ...       ...        ...   \n",
       "2020-12-23 16:17:00       NaN            NaN  NaN       NaN        NaN   \n",
       "2020-12-23 23:17:00       NaN            NaN  NaN       NaN        NaN   \n",
       "2020-12-24 06:17:00       NaN            NaN  NaN       NaN        NaN   \n",
       "2020-12-24 13:17:00       NaN            NaN  NaN       NaN        NaN   \n",
       "2020-12-24 20:17:00       NaN            NaN  NaN       NaN        NaN   \n",
       "\n",
       "                     Approx_Depth  \n",
       "time1                              \n",
       "2019-12-31 06:08:00         432.1  \n",
       "2019-12-31 13:08:00           NaN  \n",
       "2019-12-31 20:08:00           NaN  \n",
       "2020-01-01 03:18:00           NaN  \n",
       "2020-01-01 10:18:00           NaN  \n",
       "...                           ...  \n",
       "2020-12-23 16:17:00           NaN  \n",
       "2020-12-23 23:17:00           NaN  \n",
       "2020-12-24 06:17:00           NaN  \n",
       "2020-12-24 13:17:00           NaN  \n",
       "2020-12-24 20:17:00           NaN  \n",
       "\n",
       "[1237 rows x 7 columns]"
      ]
     },
     "execution_count": 79,
     "metadata": {},
     "output_type": "execute_result"
    }
   ],
   "source": [
    "df_out"
   ]
  },
  {
   "cell_type": "code",
   "execution_count": 111,
   "id": "b3bb8ff4-4ee2-4e93-a804-efb6d55ee032",
   "metadata": {},
   "outputs": [],
   "source": [
    "# dff = pd.read_csv(f'/Users/home/whitefar/DATA/APRES_TIMESERIES/kis2_apres_timeseries_meta_15days.csv',\n",
    "#                   converters={'time1':timestamp_fn,'time2':timestamp_fn})\n",
    "# df2 = pd.read_csv(f'/Users/home/whitefar/DATA/APRES_TIMESERIES/kis2_apres_timeseries_meta_21days.csv',\n",
    "#                  converters={'time1':timestamp_fn,'time2':timestamp_fn})"
   ]
  },
  {
   "cell_type": "markdown",
   "id": "6867ff25-56d3-4daf-a074-a7ee391e467c",
   "metadata": {},
   "source": [
    "# Run run_calculate_meltrates.m on matlab from shell\n",
    "```\n",
    "matlab -nodisplay -nosplash -r \"run('/Users/home/whitefar/DATA/code/APRES_TIMESERIES/run_calculate_meltrates.m');exit;\"\n",
    "```"
   ]
  },
  {
   "cell_type": "code",
   "execution_count": 240,
   "id": "0a6b77f7-c688-4799-bd44-0c4f7beceb0f",
   "metadata": {},
   "outputs": [
    {
     "data": {
      "text/plain": [
       "0      2020-01-30 06:08:00\n",
       "1      2020-01-30 13:08:00\n",
       "2      2020-01-30 20:08:00\n",
       "3      2020-01-31 03:18:00\n",
       "4      2020-01-31 10:18:00\n",
       "               ...        \n",
       "1232   2021-01-22 16:17:00\n",
       "1233   2021-01-22 23:17:00\n",
       "1234   2021-01-23 06:17:00\n",
       "1235   2021-01-23 13:17:00\n",
       "1236   2021-01-23 20:17:00\n",
       "Name: time, Length: 1237, dtype: datetime64[ns]"
      ]
     },
     "execution_count": 240,
     "metadata": {},
     "output_type": "execute_result"
    }
   ],
   "source": []
  },
  {
   "cell_type": "code",
   "execution_count": null,
   "id": "d5811d5a-cb5c-4608-8ddc-b0976e859dc2",
   "metadata": {},
   "outputs": [],
   "source": []
  },
  {
   "cell_type": "code",
   "execution_count": 231,
   "id": "aa8417c7-e55a-4b5d-8f11-e9e6dc2eb271",
   "metadata": {},
   "outputs": [],
   "source": [
    "runstring ='matlab '+'-nodisplay '+'-nosplash '+\"-r \"+  '\\\"run(\\'' +'/Users/home/whitefar/DATA/code/calculate_meltrate.m'+ \"\\');exit;\\\"\""
   ]
  },
  {
   "cell_type": "code",
   "execution_count": 232,
   "id": "1d0c0ad8-e52f-4ca3-aac7-f3242cba26f0",
   "metadata": {},
   "outputs": [
    {
     "data": {
      "text/plain": [
       "'matlab -nodisplay -nosplash -r \"run(\\'/Users/home/whitefar/DATA/code/calculate_meltrate.m\\');exit;\"'"
      ]
     },
     "execution_count": 232,
     "metadata": {},
     "output_type": "execute_result"
    }
   ],
   "source": [
    "runstring"
   ]
  },
  {
   "cell_type": "code",
   "execution_count": 229,
   "id": "ceff0c0b-64a4-4183-ba2d-e5f0094579c0",
   "metadata": {},
   "outputs": [
    {
     "data": {
      "text/plain": [
       "0"
      ]
     },
     "execution_count": 229,
     "metadata": {},
     "output_type": "execute_result"
    }
   ],
   "source": [
    "subprocess.call(runstring,  shell=True)"
   ]
  },
  {
   "cell_type": "markdown",
   "id": "edf3945b-fa97-4084-88b4-91a842f9d9de",
   "metadata": {},
   "source": [
    "# analyse results"
   ]
  },
  {
   "cell_type": "code",
   "execution_count": 81,
   "id": "c3d59658-ccd7-4834-b854-ec19de9987cc",
   "metadata": {},
   "outputs": [],
   "source": [
    "timestamp_fn = lambda t: pd.Timestamp(t)"
   ]
  },
  {
   "cell_type": "code",
   "execution_count": 83,
   "id": "f5578d68-3a59-4dbd-b45f-cd4d6a4a5d01",
   "metadata": {},
   "outputs": [
    {
     "data": {
      "text/plain": [
       "['/Users/home/whitefar/DATA/APRES_TIMESERIES/apres_timeseries_output_11days.csv',\n",
       " '/Users/home/whitefar/DATA/APRES_TIMESERIES/apres_timeseries_output_12days.csv']"
      ]
     },
     "execution_count": 83,
     "metadata": {},
     "output_type": "execute_result"
    }
   ],
   "source": [
    "files = glob.glob('/Users/home/whitefar/DATA/APRES_TIMESERIES/apres_timeseries_output_*days.csv')\n",
    "files"
   ]
  },
  {
   "cell_type": "code",
   "execution_count": 87,
   "id": "df1574b6-5cb0-4aab-9c1c-1d6bfc2ffed0",
   "metadata": {},
   "outputs": [],
   "source": [
    "afs = [pd.read_csv(file,\n",
    "                  converters={'time1':timestamp_fn,'time2':timestamp_fn}) for file in files]"
   ]
  },
  {
   "cell_type": "code",
   "execution_count": 85,
   "id": "6e5b347f-641c-45b6-a6e1-13960f63136a",
   "metadata": {},
   "outputs": [],
   "source": [
    "for af in afs:\n",
    "    a "
   ]
  },
  {
   "cell_type": "code",
   "execution_count": 86,
   "id": "1da17b44-b9ae-4e51-b778-c90db6e05004",
   "metadata": {},
   "outputs": [
    {
     "data": {
      "text/plain": [
       "Index(['time1', 'File_Name1', 'timestamps', 'meltRate', 'meltRateError', 'bed',\n",
       "       'dhStrain', 'dheStrain', 'Approx_Depth', 'time2', 'File_Name2'],\n",
       "      dtype='object')"
      ]
     },
     "execution_count": 86,
     "metadata": {},
     "output_type": "execute_result"
    }
   ],
   "source": [
    "[ for af in dfs]"
   ]
  },
  {
   "cell_type": "code",
   "execution_count": 45,
   "id": "d375c67a-af96-42ee-8e18-b806ec67679e",
   "metadata": {},
   "outputs": [
    {
     "data": {
      "text/plain": [
       "0      2020-01-05 18:08:00\n",
       "1      2020-01-06 01:08:00\n",
       "2      2020-01-06 08:08:00\n",
       "3      2020-01-06 15:18:00\n",
       "4      2020-01-06 22:18:00\n",
       "               ...        \n",
       "1194   2020-12-18 02:15:00\n",
       "1195   2020-12-18 09:16:00\n",
       "1196   2020-12-18 16:16:00\n",
       "1197   2020-12-18 23:16:00\n",
       "1198                   NaT\n",
       "Name: mid_time, Length: 1199, dtype: datetime64[ns]"
      ]
     },
     "execution_count": 45,
     "metadata": {},
     "output_type": "execute_result"
    }
   ],
   "source": [
    "af.mid_time"
   ]
  },
  {
   "cell_type": "code",
   "execution_count": null,
   "id": "b4a24579-34c2-4f0c-8af5-63d31b0935dd",
   "metadata": {},
   "outputs": [],
   "source": []
  },
  {
   "cell_type": "code",
   "execution_count": 136,
   "id": "b43f8dc9-548c-4052-b91d-3f5d1774ccc3",
   "metadata": {},
   "outputs": [
    {
     "data": {
      "text/plain": [
       "'/Volumes/arc_04/FIELD_DATA/K8622021/KIS Science/ApRES data files/KIS2/KIS2 Old WO ApRES Card2/DIR2019-12-31-0608/DATA2020-01-11-0819.DAT'"
      ]
     },
     "execution_count": 136,
     "metadata": {},
     "output_type": "execute_result"
    }
   ],
   "source": [
    "af.iloc[0].File_Name2\n"
   ]
  },
  {
   "cell_type": "code",
   "execution_count": 144,
   "id": "eb550d52-9179-44ca-aba5-76c9f2284102",
   "metadata": {},
   "outputs": [
    {
     "data": {
      "text/plain": [
       "[<matplotlib.lines.Line2D at 0x7f8be1b9c550>]"
      ]
     },
     "execution_count": 144,
     "metadata": {},
     "output_type": "execute_result"
    },
    {
     "data": {
      "image/png": "[encoded data removed]",
      "text/plain": [
       "<Figure size 432x288 with 1 Axes>"
      ]
     },
     "metadata": {
      "needs_background": "light"
     },
     "output_type": "display_data"
    }
   ],
   "source": [
    "plt.plot(af.meltRate.iloc[1:-1],'x')\n",
    "# plt.ylim(-1,-0.6)"
   ]
  },
  {
   "cell_type": "code",
   "execution_count": 138,
   "id": "31fac5f0-e81a-4e9c-a9b6-90d2961fd5c6",
   "metadata": {},
   "outputs": [
    {
     "data": {
      "text/plain": [
       "0       18.134938\n",
       "1       -0.764113\n",
       "2       -0.776892\n",
       "3       -0.746469\n",
       "4       -0.762104\n",
       "          ...    \n",
       "1194    -0.635500\n",
       "1195    -0.626446\n",
       "1196    -0.661416\n",
       "1197    -0.644640\n",
       "1198     0.000000\n",
       "Name: meltRate, Length: 1199, dtype: float64"
      ]
     },
     "execution_count": 138,
     "metadata": {},
     "output_type": "execute_result"
    }
   ],
   "source": [
    "af.meltRate"
   ]
  },
  {
   "cell_type": "code",
   "execution_count": 130,
   "id": "f95184ef-e299-4537-a763-4a5cede7f64d",
   "metadata": {},
   "outputs": [
    {
     "data": {
      "text/plain": [
       "0       15.398472\n",
       "1       -0.786221\n",
       "2       -0.778202\n",
       "3       -0.769355\n",
       "4       -0.779636\n",
       "          ...    \n",
       "1181    -0.641449\n",
       "1182    -0.639692\n",
       "1183    -0.657904\n",
       "1184    -0.653389\n",
       "1185     0.000000\n",
       "Name: meltRate, Length: 1186, dtype: float64"
      ]
     },
     "execution_count": 130,
     "metadata": {},
     "output_type": "execute_result"
    }
   ],
   "source": [
    "af.meltRate"
   ]
  },
  {
   "cell_type": "code",
   "execution_count": 205,
   "id": "58357b7d-ea8a-443b-9bac-0eb07293292b",
   "metadata": {},
   "outputs": [],
   "source": [
    "# af = pd.read_csv('/Users/home/whitefar/DATA/ApRES/kis2_apres_metadata_by_Site_ID.csv')\n",
    "\n",
    "# af.iloc[41]\n",
    "\n",
    "# bf = pd.read_csv('/Users/home/whitefar/DATA/ApRES/kis2_meltrates.csv')"
   ]
  },
  {
   "cell_type": "code",
   "execution_count": null,
   "id": "28967972-0f2a-4868-a299-2b1a40c71325",
   "metadata": {},
   "outputs": [],
   "source": []
  },
  {
   "cell_type": "code",
   "execution_count": null,
   "id": "d914b489-6d3c-4bb6-8cf5-47a21419ab64",
   "metadata": {},
   "outputs": [],
   "source": []
  },
  {
   "cell_type": "code",
   "execution_count": 493,
   "id": "ff4bb3a4",
   "metadata": {},
   "outputs": [],
   "source": [
    "missing_survey'] = gpd.GeoDataFrame(pd.DataFrame({'id':77, 'Date':'2020-12-23', 'Uni_Event':'VUW', 'Data_type':\"ApRES\",\n",
    "        'Depth_m':629, 'Site_ID':\"CP12\", 'Project':'KIS2', 'Notes':'Arran added this survey metadata, it was missing from KIS_science.shp',\n",
    "       'ApRes_Unit':'UC Antenna, UC ApRES SN-143', 'File_Name':'Survey_2020-12-23_023455.dat', 'Y':-82.461778, 'X':-152.462687}, index=[77]),geometry=[Point(-152.462687,-82.461778)])"
   ]
  },
  {
   "cell_type": "code",
   "execution_count": 494,
   "id": "91a20a5e",
   "metadata": {},
   "outputs": [],
   "source": [
    "metadata2021 = metadata2021.append(missing_survey).copy()"
   ]
  },
  {
   "cell_type": "code",
   "execution_count": 495,
   "id": "3ce28061",
   "metadata": {},
   "outputs": [],
   "source": [
    "metadata2021.query('(Data_type==\"ApRES\") & (Project==\"KIS2\")',inplace=True)"
   ]
  },
  {
   "cell_type": "code",
   "execution_count": 496,
   "id": "4dab22a6",
   "metadata": {},
   "outputs": [
    {
     "data": {
      "text/plain": [
       "array(['Cp34', 'Cp33', 'Cp32', 'Cp31', 'Cp30', 'Cp_29_drill', 'Cp28',\n",
       "       'Cp27', 'Cp26', 'CP25', 'CP24', 'CP23', 'Cp22', 'CP21', 'CP20',\n",
       "       'CP19', 'CP15', 'CP18', 'CP16', 'Cp17', 'CP11', 'CP10', 'CP09',\n",
       "       'CP08', 'CP13', 'CP000007', 'CP14', 'CP06', 'CP05', 'CP04', 'CP01',\n",
       "       'CP02', 'CP03', 'CP12'], dtype=object)"
      ]
     },
     "execution_count": 496,
     "metadata": {},
     "output_type": "execute_result"
    }
   ],
   "source": [
    "metadata2021.Site_ID.unique()"
   ]
  },
  {
   "cell_type": "code",
   "execution_count": 497,
   "id": "1f688bbe",
   "metadata": {},
   "outputs": [],
   "source": [
    "metadata2021.drop(columns=['id', 'Uni_Event', 'Data_type',\n",
    "       'Flag1ht_cm', 'Flag2ht_cm',  'Project'], \n",
    "             inplace=True)"
   ]
  },
  {
   "cell_type": "code",
   "execution_count": 498,
   "id": "64886929",
   "metadata": {},
   "outputs": [
    {
     "data": {
      "text/plain": [
       "Index(['Date', 'AF_Gain', 'Burst', 'RF_Atten', 'Depth_m', 'Site_ID', 'Notes',\n",
       "       'ApRes_Unit', 'File_Name', 'Y', 'X', 'geometry'],\n",
       "      dtype='object')"
      ]
     },
     "execution_count": 498,
     "metadata": {},
     "output_type": "execute_result"
    }
   ],
   "source": [
    "metadata2021.keys()"
   ]
  },
  {
   "cell_type": "code",
   "execution_count": 499,
   "id": "85f12a22",
   "metadata": {},
   "outputs": [],
   "source": [
    "metadata2021.rename(columns={\"X\":\"lon\",\"Y\":\"lat\",'Burst':\"Stacks\",\"ApRes_Unit\":\"APRES_unit\",\"Depth_m\":\"Approx_Depth\"},inplace=True)"
   ]
  },
  {
   "cell_type": "code",
   "execution_count": 500,
   "id": "00ce2844",
   "metadata": {},
   "outputs": [],
   "source": [
    "metadata2021['Epoch'] = 3\n",
    "metadata2021['utc_time'] = np.nan"
   ]
  },
  {
   "cell_type": "code",
   "execution_count": 501,
   "id": "3fb59b83",
   "metadata": {},
   "outputs": [],
   "source": [
    "metadata2021['Site_ID'] = metadata2021.Site_ID.apply(lambda x: x.upper()).copy()"
   ]
  },
  {
   "cell_type": "code",
   "execution_count": null,
   "id": "5457dbba",
   "metadata": {},
   "outputs": [],
   "source": []
  },
  {
   "cell_type": "code",
   "execution_count": null,
   "id": "ecba75cf",
   "metadata": {},
   "outputs": [],
   "source": []
  },
  {
   "cell_type": "code",
   "execution_count": 502,
   "id": "7cfa6991",
   "metadata": {},
   "outputs": [],
   "source": [
    "metadata2021.drop(columns=['geometry'],inplace=True)"
   ]
  },
  {
   "cell_type": "code",
   "execution_count": 503,
   "id": "a5f8335d",
   "metadata": {},
   "outputs": [
    {
     "data": {
      "text/html": [
       "<div>\n",
       "<style scoped>\n",
       "    .dataframe tbody tr th:only-of-type {\n",
       "        vertical-align: middle;\n",
       "    }\n",
       "\n",
       "    .dataframe tbody tr th {\n",
       "        vertical-align: top;\n",
       "    }\n",
       "\n",
       "    .dataframe thead th {\n",
       "        text-align: right;\n",
       "    }\n",
       "</style>\n",
       "<table border=\"1\" class=\"dataframe\">\n",
       "  <thead>\n",
       "    <tr style=\"text-align: right;\">\n",
       "      <th></th>\n",
       "      <th>Date</th>\n",
       "      <th>AF_Gain</th>\n",
       "      <th>Stacks</th>\n",
       "      <th>RF_Atten</th>\n",
       "      <th>Approx_Depth</th>\n",
       "      <th>Site_ID</th>\n",
       "      <th>Notes</th>\n",
       "      <th>APRES_unit</th>\n",
       "      <th>File_Name</th>\n",
       "      <th>lat</th>\n",
       "      <th>lon</th>\n",
       "      <th>Epoch</th>\n",
       "      <th>utc_time</th>\n",
       "    </tr>\n",
       "  </thead>\n",
       "  <tbody>\n",
       "    <tr>\n",
       "      <th>35</th>\n",
       "      <td>2020-12-22</td>\n",
       "      <td>-4</td>\n",
       "      <td>64.0</td>\n",
       "      <td>20</td>\n",
       "      <td>770.0</td>\n",
       "      <td>CP34</td>\n",
       "      <td>F1=W. New site</td>\n",
       "      <td>UC Antenna, UC unit SN-143</td>\n",
       "      <td>Survey_2020-12-22_035737.dat</td>\n",
       "      <td>-82.471847</td>\n",
       "      <td>-152.208053</td>\n",
       "      <td>3</td>\n",
       "      <td>NaN</td>\n",
       "    </tr>\n",
       "    <tr>\n",
       "      <th>36</th>\n",
       "      <td>2020-12-22</td>\n",
       "      <td>-4</td>\n",
       "      <td>64.0</td>\n",
       "      <td>21</td>\n",
       "      <td>665.0</td>\n",
       "      <td>CP33</td>\n",
       "      <td>F1=W. Two sharp reflectors at 665m and 764m, s...</td>\n",
       "      <td>UC Antenna, UC unit SN-143</td>\n",
       "      <td>Survey_2020-12-22_042049.dat</td>\n",
       "      <td>-82.471548</td>\n",
       "      <td>-152.224309</td>\n",
       "      <td>3</td>\n",
       "      <td>NaN</td>\n",
       "    </tr>\n",
       "    <tr>\n",
       "      <th>37</th>\n",
       "      <td>2020-12-22</td>\n",
       "      <td>-4</td>\n",
       "      <td>64.0</td>\n",
       "      <td>20</td>\n",
       "      <td>566.0</td>\n",
       "      <td>CP32</td>\n",
       "      <td>F1=W. Two sharp reflectors at 566m 765m, new site</td>\n",
       "      <td>UC Antenna, UC unit SN-143</td>\n",
       "      <td>Survey_2020-12-22_044149.dat</td>\n",
       "      <td>-82.471325</td>\n",
       "      <td>-152.238891</td>\n",
       "      <td>3</td>\n",
       "      <td>NaN</td>\n",
       "    </tr>\n",
       "    <tr>\n",
       "      <th>38</th>\n",
       "      <td>2020-12-22</td>\n",
       "      <td>-4</td>\n",
       "      <td>64.0</td>\n",
       "      <td>20</td>\n",
       "      <td>493.0</td>\n",
       "      <td>CP31</td>\n",
       "      <td>F1=W. Two sharp reflectors at 493m, 758m , new...</td>\n",
       "      <td>UC Antenna, UC unit SN-143</td>\n",
       "      <td>Survey_2020-12-22_050111.dat</td>\n",
       "      <td>-82.471154</td>\n",
       "      <td>-152.257888</td>\n",
       "      <td>3</td>\n",
       "      <td>NaN</td>\n",
       "    </tr>\n",
       "    <tr>\n",
       "      <th>39</th>\n",
       "      <td>2020-12-22</td>\n",
       "      <td>-4</td>\n",
       "      <td>64.0</td>\n",
       "      <td>24</td>\n",
       "      <td>447.0</td>\n",
       "      <td>CP30</td>\n",
       "      <td>F1=W, new site, sharp reflectors at 447m and 750m</td>\n",
       "      <td>UC Antenna, UC unit SN-143</td>\n",
       "      <td>Survey_2020-12-22_052753.dat</td>\n",
       "      <td>-82.471072</td>\n",
       "      <td>-152.278526</td>\n",
       "      <td>3</td>\n",
       "      <td>NaN</td>\n",
       "    </tr>\n",
       "  </tbody>\n",
       "</table>\n",
       "</div>"
      ],
      "text/plain": [
       "          Date AF_Gain  Stacks RF_Atten  Approx_Depth Site_ID  \\\n",
       "35  2020-12-22      -4    64.0       20         770.0    CP34   \n",
       "36  2020-12-22      -4    64.0       21         665.0    CP33   \n",
       "37  2020-12-22      -4    64.0       20         566.0    CP32   \n",
       "38  2020-12-22      -4    64.0       20         493.0    CP31   \n",
       "39  2020-12-22      -4    64.0       24         447.0    CP30   \n",
       "\n",
       "                                                Notes  \\\n",
       "35                                     F1=W. New site   \n",
       "36  F1=W. Two sharp reflectors at 665m and 764m, s...   \n",
       "37  F1=W. Two sharp reflectors at 566m 765m, new site   \n",
       "38  F1=W. Two sharp reflectors at 493m, 758m , new...   \n",
       "39  F1=W, new site, sharp reflectors at 447m and 750m   \n",
       "\n",
       "                    APRES_unit                     File_Name        lat  \\\n",
       "35  UC Antenna, UC unit SN-143  Survey_2020-12-22_035737.dat -82.471847   \n",
       "36  UC Antenna, UC unit SN-143  Survey_2020-12-22_042049.dat -82.471548   \n",
       "37  UC Antenna, UC unit SN-143  Survey_2020-12-22_044149.dat -82.471325   \n",
       "38  UC Antenna, UC unit SN-143  Survey_2020-12-22_050111.dat -82.471154   \n",
       "39  UC Antenna, UC unit SN-143  Survey_2020-12-22_052753.dat -82.471072   \n",
       "\n",
       "           lon  Epoch  utc_time  \n",
       "35 -152.208053      3       NaN  \n",
       "36 -152.224309      3       NaN  \n",
       "37 -152.238891      3       NaN  \n",
       "38 -152.257888      3       NaN  \n",
       "39 -152.278526      3       NaN  "
      ]
     },
     "execution_count": 503,
     "metadata": {},
     "output_type": "execute_result"
    }
   ],
   "source": [
    "metadata2021.head()"
   ]
  },
  {
   "cell_type": "code",
   "execution_count": 504,
   "id": "3885abc4",
   "metadata": {},
   "outputs": [
    {
     "data": {
      "text/plain": [
       "array(['CP34', 'CP33', 'CP32', 'CP31', 'CP30', 'CP_29_DRILL', 'CP28',\n",
       "       'CP27', 'CP26', 'CP25', 'CP24', 'CP23', 'CP22', 'CP21', 'CP20',\n",
       "       'CP19', 'CP15', 'CP18', 'CP16', 'CP17', 'CP11', 'CP10', 'CP09',\n",
       "       'CP08', 'CP13', 'CP000007', 'CP14', 'CP06', 'CP05', 'CP04', 'CP01',\n",
       "       'CP02', 'CP03', 'CP12'], dtype=object)"
      ]
     },
     "execution_count": 504,
     "metadata": {},
     "output_type": "execute_result"
    }
   ],
   "source": [
    "metadata2021.Site_ID.unique()"
   ]
  },
  {
   "cell_type": "code",
   "execution_count": 517,
   "id": "35377564",
   "metadata": {},
   "outputs": [
    {
     "data": {
      "text/html": [
       "<div>\n",
       "<style scoped>\n",
       "    .dataframe tbody tr th:only-of-type {\n",
       "        vertical-align: middle;\n",
       "    }\n",
       "\n",
       "    .dataframe tbody tr th {\n",
       "        vertical-align: top;\n",
       "    }\n",
       "\n",
       "    .dataframe thead th {\n",
       "        text-align: right;\n",
       "    }\n",
       "</style>\n",
       "<table border=\"1\" class=\"dataframe\">\n",
       "  <thead>\n",
       "    <tr style=\"text-align: right;\">\n",
       "      <th></th>\n",
       "      <th>Date</th>\n",
       "      <th>AF_Gain</th>\n",
       "      <th>Stacks</th>\n",
       "      <th>RF_Atten</th>\n",
       "      <th>Approx_Depth</th>\n",
       "      <th>Site_ID</th>\n",
       "      <th>Notes</th>\n",
       "      <th>APRES_unit</th>\n",
       "      <th>File_Name</th>\n",
       "      <th>lat</th>\n",
       "      <th>lon</th>\n",
       "      <th>Epoch</th>\n",
       "      <th>utc_time</th>\n",
       "    </tr>\n",
       "  </thead>\n",
       "  <tbody>\n",
       "    <tr>\n",
       "      <th>77</th>\n",
       "      <td>2020-12-23</td>\n",
       "      <td>NaN</td>\n",
       "      <td>NaN</td>\n",
       "      <td>NaN</td>\n",
       "      <td>629.0</td>\n",
       "      <td>CP12</td>\n",
       "      <td>Arran added this survey metadata, it was missi...</td>\n",
       "      <td>UC Antenna, UC ApRES SN-143</td>\n",
       "      <td>Survey_2020-12-23_023455.dat</td>\n",
       "      <td>-82.461778</td>\n",
       "      <td>-152.462687</td>\n",
       "      <td>3</td>\n",
       "      <td>NaN</td>\n",
       "    </tr>\n",
       "  </tbody>\n",
       "</table>\n",
       "</div>"
      ],
      "text/plain": [
       "          Date AF_Gain  Stacks RF_Atten  Approx_Depth Site_ID  \\\n",
       "77  2020-12-23     NaN     NaN      NaN         629.0    CP12   \n",
       "\n",
       "                                                Notes  \\\n",
       "77  Arran added this survey metadata, it was missi...   \n",
       "\n",
       "                     APRES_unit                     File_Name        lat  \\\n",
       "77  UC Antenna, UC ApRES SN-143  Survey_2020-12-23_023455.dat -82.461778   \n",
       "\n",
       "           lon  Epoch  utc_time  \n",
       "77 -152.462687      3       NaN  "
      ]
     },
     "execution_count": 517,
     "metadata": {},
     "output_type": "execute_result"
    }
   ],
   "source": [
    "metadata2021.query('Site_ID == \"CP12\"')"
   ]
  },
  {
   "cell_type": "code",
   "execution_count": 518,
   "id": "d23e40bf",
   "metadata": {},
   "outputs": [
    {
     "data": {
      "text/plain": [
       "Index(['SiteName', 'YYYYUTC', 'MTUTC', 'DDUTC', 'HHUTC', 'MNUTC', 'LATDD',\n",
       "       'LATMM', 'LONDD', 'LONMM', 'FILE', 'Atten', 'Gain', 'Stacks', 'Epoch',\n",
       "       'ApproxDepth', 'checked', 'comments'],\n",
       "      dtype='object')"
      ]
     },
     "execution_count": 518,
     "metadata": {},
     "output_type": "execute_result"
    }
   ],
   "source": [
    "metadata1920 = pd.read_csv(\"/Users/home/whitefar/DATA/ApRES/K862A1920ApRESSites_KIS2.csv\")\n",
    "metadata1920.keys()"
   ]
  },
  {
   "cell_type": "code",
   "execution_count": 519,
   "id": "3c63fa3f",
   "metadata": {},
   "outputs": [],
   "source": [
    "metadata1920['utc_datetime'] = pd.to_datetime({'year':metadata1920.YYYYUTC,\n",
    "                           'month':metadata1920.MTUTC,\n",
    "                            'day':metadata1920.DDUTC,\n",
    "                               'hour':metadata1920.HHUTC,\n",
    "                            'minute':metadata1920.MNUTC}).apply(lambda x: pd.Timestamp(x))"
   ]
  },
  {
   "cell_type": "code",
   "execution_count": 520,
   "id": "0905848c",
   "metadata": {},
   "outputs": [],
   "source": [
    "metadata1920['utc_time'] = metadata1920['utc_datetime'].apply(lambda x: x.isoformat())\n",
    "metadata1920['Date'] =metadata1920['utc_datetime'].apply(lambda x: x.date())"
   ]
  },
  {
   "cell_type": "code",
   "execution_count": 521,
   "id": "845d3dd3",
   "metadata": {},
   "outputs": [],
   "source": [
    "metadata1920['lat'] = (metadata1920.LATDD - metadata1920.LATMM/60).round(decimals=6)\n",
    "metadata1920['lon'] = (metadata1920.LONDD - metadata1920.LONMM/60).round(decimals=6)"
   ]
  },
  {
   "cell_type": "code",
   "execution_count": 522,
   "id": "850aadc9",
   "metadata": {},
   "outputs": [],
   "source": [
    "metadata1920['APRES_unit'] = 'Huws_unit1'"
   ]
  },
  {
   "cell_type": "code",
   "execution_count": 523,
   "id": "940925ec",
   "metadata": {},
   "outputs": [],
   "source": [
    "metadata1920.rename(columns={\"SiteName\":\"Site_ID\",\"FILE\":\"File_Name\",\"Gain\":\"AF_Gain\",\"Atten\":\"RF_Atten\",\"ApproxDepth\":\"Approx_Depth\",\"comments\":\"Notes\"},inplace=True)"
   ]
  },
  {
   "cell_type": "code",
   "execution_count": 524,
   "id": "b42808a0",
   "metadata": {},
   "outputs": [],
   "source": [
    "metadata1920.drop(columns=['utc_datetime'],inplace=True)"
   ]
  },
  {
   "cell_type": "code",
   "execution_count": 525,
   "id": "97782daf",
   "metadata": {},
   "outputs": [],
   "source": [
    "metadata1920 = metadata1920[metadata2021.keys()].copy()"
   ]
  },
  {
   "cell_type": "code",
   "execution_count": 527,
   "id": "4cfde370",
   "metadata": {},
   "outputs": [],
   "source": [
    "meta_out = pd.concat([metadata1920,metadata2021])"
   ]
  },
  {
   "cell_type": "code",
   "execution_count": 528,
   "id": "b2099724",
   "metadata": {},
   "outputs": [
    {
     "data": {
      "text/html": [
       "<div>\n",
       "<style scoped>\n",
       "    .dataframe tbody tr th:only-of-type {\n",
       "        vertical-align: middle;\n",
       "    }\n",
       "\n",
       "    .dataframe tbody tr th {\n",
       "        vertical-align: top;\n",
       "    }\n",
       "\n",
       "    .dataframe thead th {\n",
       "        text-align: right;\n",
       "    }\n",
       "</style>\n",
       "<table border=\"1\" class=\"dataframe\">\n",
       "  <thead>\n",
       "    <tr style=\"text-align: right;\">\n",
       "      <th></th>\n",
       "      <th>Date</th>\n",
       "      <th>AF_Gain</th>\n",
       "      <th>Stacks</th>\n",
       "      <th>RF_Atten</th>\n",
       "      <th>Approx_Depth</th>\n",
       "      <th>Site_ID</th>\n",
       "      <th>Notes</th>\n",
       "      <th>APRES_unit</th>\n",
       "      <th>File_Name</th>\n",
       "      <th>lat</th>\n",
       "      <th>lon</th>\n",
       "      <th>Epoch</th>\n",
       "      <th>utc_time</th>\n",
       "    </tr>\n",
       "  </thead>\n",
       "  <tbody>\n",
       "    <tr>\n",
       "      <th>11</th>\n",
       "      <td>2019-12-08</td>\n",
       "      <td>-4</td>\n",
       "      <td>64.0</td>\n",
       "      <td>20</td>\n",
       "      <td>628.0</td>\n",
       "      <td>CP12</td>\n",
       "      <td>NaN</td>\n",
       "      <td>Huws_unit1</td>\n",
       "      <td>2019-12-08_022603.dat</td>\n",
       "      <td>-82.461778</td>\n",
       "      <td>-152.462687</td>\n",
       "      <td>1</td>\n",
       "      <td>2019-12-08T02:35:00</td>\n",
       "    </tr>\n",
       "    <tr>\n",
       "      <th>26</th>\n",
       "      <td>2019-12-22</td>\n",
       "      <td>-4</td>\n",
       "      <td>64.0</td>\n",
       "      <td>20</td>\n",
       "      <td>628.0</td>\n",
       "      <td>CP12</td>\n",
       "      <td>NaN</td>\n",
       "      <td>Huws_unit1</td>\n",
       "      <td>2019-12-22_020319.dat</td>\n",
       "      <td>-82.461778</td>\n",
       "      <td>-152.462687</td>\n",
       "      <td>2</td>\n",
       "      <td>2019-12-22T02:12:00</td>\n",
       "    </tr>\n",
       "    <tr>\n",
       "      <th>77</th>\n",
       "      <td>2020-12-23</td>\n",
       "      <td>NaN</td>\n",
       "      <td>NaN</td>\n",
       "      <td>NaN</td>\n",
       "      <td>629.0</td>\n",
       "      <td>CP12</td>\n",
       "      <td>Arran added this survey metadata, it was missi...</td>\n",
       "      <td>UC Antenna, UC ApRES SN-143</td>\n",
       "      <td>Survey_2020-12-23_023455.dat</td>\n",
       "      <td>-82.461778</td>\n",
       "      <td>-152.462687</td>\n",
       "      <td>3</td>\n",
       "      <td>NaN</td>\n",
       "    </tr>\n",
       "  </tbody>\n",
       "</table>\n",
       "</div>"
      ],
      "text/plain": [
       "          Date AF_Gain  Stacks RF_Atten  Approx_Depth Site_ID  \\\n",
       "11  2019-12-08      -4    64.0       20         628.0    CP12   \n",
       "26  2019-12-22      -4    64.0       20         628.0    CP12   \n",
       "77  2020-12-23     NaN     NaN      NaN         629.0    CP12   \n",
       "\n",
       "                                                Notes  \\\n",
       "11                                                NaN   \n",
       "26                                                NaN   \n",
       "77  Arran added this survey metadata, it was missi...   \n",
       "\n",
       "                     APRES_unit                     File_Name        lat  \\\n",
       "11                   Huws_unit1         2019-12-08_022603.dat -82.461778   \n",
       "26                   Huws_unit1         2019-12-22_020319.dat -82.461778   \n",
       "77  UC Antenna, UC ApRES SN-143  Survey_2020-12-23_023455.dat -82.461778   \n",
       "\n",
       "           lon  Epoch             utc_time  \n",
       "11 -152.462687      1  2019-12-08T02:35:00  \n",
       "26 -152.462687      2  2019-12-22T02:12:00  \n",
       "77 -152.462687      3                  NaN  "
      ]
     },
     "execution_count": 528,
     "metadata": {},
     "output_type": "execute_result"
    }
   ],
   "source": [
    "meta_out.query('Site_ID == \"CP12\"')"
   ]
  },
  {
   "cell_type": "code",
   "execution_count": 529,
   "id": "d4f2ed2d",
   "metadata": {},
   "outputs": [],
   "source": [
    "# meta_out.drop([40],inplace=True)"
   ]
  },
  {
   "cell_type": "code",
   "execution_count": 530,
   "id": "16b635c0",
   "metadata": {},
   "outputs": [],
   "source": [
    "meta_out.reset_index(drop=True,inplace=True)"
   ]
  },
  {
   "cell_type": "code",
   "execution_count": 531,
   "id": "be64c323",
   "metadata": {},
   "outputs": [
    {
     "data": {
      "text/plain": [
       "Index(['Date', 'AF_Gain', 'Stacks', 'RF_Atten', 'Approx_Depth', 'Site_ID',\n",
       "       'Notes', 'APRES_unit', 'File_Name', 'lat', 'lon', 'Epoch', 'utc_time'],\n",
       "      dtype='object')"
      ]
     },
     "execution_count": 531,
     "metadata": {},
     "output_type": "execute_result"
    }
   ],
   "source": [
    "meta_out.keys()"
   ]
  },
  {
   "cell_type": "code",
   "execution_count": 532,
   "id": "5c1c2a1c",
   "metadata": {},
   "outputs": [],
   "source": [
    "meta_out = meta_out[['Date', 'utc_time', 'lat', 'lon','Approx_Depth','File_Name','AF_Gain', 'Stacks', 'RF_Atten',  'Site_ID',\n",
    "       'Notes', 'APRES_unit',   'Epoch']]\n"
   ]
  },
  {
   "cell_type": "code",
   "execution_count": 533,
   "id": "1e2f44cd",
   "metadata": {},
   "outputs": [],
   "source": [
    "# Fix two dud rows"
   ]
  },
  {
   "cell_type": "code",
   "execution_count": 534,
   "id": "2c37a52b",
   "metadata": {},
   "outputs": [],
   "source": [
    "meta_out.Site_ID.replace('CP000007','CP07',inplace=True)"
   ]
  },
  {
   "cell_type": "code",
   "execution_count": 535,
   "id": "133c9eeb",
   "metadata": {},
   "outputs": [
    {
     "data": {
      "text/html": [
       "<div>\n",
       "<style scoped>\n",
       "    .dataframe tbody tr th:only-of-type {\n",
       "        vertical-align: middle;\n",
       "    }\n",
       "\n",
       "    .dataframe tbody tr th {\n",
       "        vertical-align: top;\n",
       "    }\n",
       "\n",
       "    .dataframe thead th {\n",
       "        text-align: right;\n",
       "    }\n",
       "</style>\n",
       "<table border=\"1\" class=\"dataframe\">\n",
       "  <thead>\n",
       "    <tr style=\"text-align: right;\">\n",
       "      <th></th>\n",
       "      <th>Site_ID</th>\n",
       "      <th>Epoch</th>\n",
       "      <th>File_Name</th>\n",
       "    </tr>\n",
       "  </thead>\n",
       "  <tbody>\n",
       "    <tr>\n",
       "      <th>66</th>\n",
       "      <td>CP14</td>\n",
       "      <td>3</td>\n",
       "      <td>DATA2020-12-22-1917.DAT</td>\n",
       "    </tr>\n",
       "  </tbody>\n",
       "</table>\n",
       "</div>"
      ],
      "text/plain": [
       "   Site_ID  Epoch                File_Name\n",
       "66    CP14      3  DATA2020-12-22-1917.DAT"
      ]
     },
     "execution_count": 535,
     "metadata": {},
     "output_type": "execute_result"
    }
   ],
   "source": [
    "note = 'This site was the original the Original Winter Over ApRES site, possibly where surface measurement was taken before instrument was burried'\n",
    "meta_out.loc[meta_out.Notes==note,'File_Name'] = 'DATA2020-12-22-1917.DAT'\n",
    "meta_out.loc[meta_out.Notes==note,['Site_ID','Epoch','File_Name']]"
   ]
  },
  {
   "cell_type": "code",
   "execution_count": 536,
   "id": "413d2bd6",
   "metadata": {},
   "outputs": [],
   "source": [
    "meta_out.to_csv('/Users/home/whitefar/DATA/ApRES/kis2_apres_metadata2021.csv')"
   ]
  },
  {
   "cell_type": "code",
   "execution_count": 537,
   "id": "9c391053",
   "metadata": {},
   "outputs": [
    {
     "data": {
      "text/plain": [
       "array(['CP01', 'CP02', 'CP03', 'CP04', 'CP05', 'CP06', 'CP07', 'CP08',\n",
       "       'CP09', 'CP10', 'CP11', 'CP12', 'CP13', 'CP14', 'CP15', 'CP16',\n",
       "       'CP17', 'CP18', 'CP19', 'CP20', 'CP21', 'CP22', 'CP23', 'CP24',\n",
       "       'CP25', 'CP34', 'CP33', 'CP32', 'CP31', 'CP30', 'CP_29_DRILL',\n",
       "       'CP28', 'CP27', 'CP26'], dtype=object)"
      ]
     },
     "execution_count": 537,
     "metadata": {},
     "output_type": "execute_result"
    }
   ],
   "source": [
    "meta_out.Site_ID.unique()"
   ]
  },
  {
   "cell_type": "code",
   "execution_count": 538,
   "id": "534477ac",
   "metadata": {},
   "outputs": [
    {
     "data": {
      "text/html": [
       "<div>\n",
       "<style scoped>\n",
       "    .dataframe tbody tr th:only-of-type {\n",
       "        vertical-align: middle;\n",
       "    }\n",
       "\n",
       "    .dataframe tbody tr th {\n",
       "        vertical-align: top;\n",
       "    }\n",
       "\n",
       "    .dataframe thead th {\n",
       "        text-align: right;\n",
       "    }\n",
       "</style>\n",
       "<table border=\"1\" class=\"dataframe\">\n",
       "  <thead>\n",
       "    <tr style=\"text-align: right;\">\n",
       "      <th></th>\n",
       "      <th>Date</th>\n",
       "      <th>utc_time</th>\n",
       "      <th>lat</th>\n",
       "      <th>lon</th>\n",
       "      <th>Approx_Depth</th>\n",
       "      <th>File_Name</th>\n",
       "      <th>AF_Gain</th>\n",
       "      <th>Stacks</th>\n",
       "      <th>RF_Atten</th>\n",
       "      <th>Site_ID</th>\n",
       "      <th>Notes</th>\n",
       "      <th>APRES_unit</th>\n",
       "      <th>Epoch</th>\n",
       "    </tr>\n",
       "  </thead>\n",
       "  <tbody>\n",
       "    <tr>\n",
       "      <th>11</th>\n",
       "      <td>2019-12-08</td>\n",
       "      <td>2019-12-08T02:35:00</td>\n",
       "      <td>-82.461778</td>\n",
       "      <td>-152.462687</td>\n",
       "      <td>628.0</td>\n",
       "      <td>2019-12-08_022603.dat</td>\n",
       "      <td>-4</td>\n",
       "      <td>64.0</td>\n",
       "      <td>20</td>\n",
       "      <td>CP12</td>\n",
       "      <td>NaN</td>\n",
       "      <td>Huws_unit1</td>\n",
       "      <td>1</td>\n",
       "    </tr>\n",
       "    <tr>\n",
       "      <th>26</th>\n",
       "      <td>2019-12-22</td>\n",
       "      <td>2019-12-22T02:12:00</td>\n",
       "      <td>-82.461778</td>\n",
       "      <td>-152.462687</td>\n",
       "      <td>628.0</td>\n",
       "      <td>2019-12-22_020319.dat</td>\n",
       "      <td>-4</td>\n",
       "      <td>64.0</td>\n",
       "      <td>20</td>\n",
       "      <td>CP12</td>\n",
       "      <td>NaN</td>\n",
       "      <td>Huws_unit1</td>\n",
       "      <td>2</td>\n",
       "    </tr>\n",
       "    <tr>\n",
       "      <th>73</th>\n",
       "      <td>2020-12-23</td>\n",
       "      <td>NaN</td>\n",
       "      <td>-82.461778</td>\n",
       "      <td>-152.462687</td>\n",
       "      <td>629.0</td>\n",
       "      <td>Survey_2020-12-23_023455.dat</td>\n",
       "      <td>NaN</td>\n",
       "      <td>NaN</td>\n",
       "      <td>NaN</td>\n",
       "      <td>CP12</td>\n",
       "      <td>Arran added this survey metadata, it was missi...</td>\n",
       "      <td>UC Antenna, UC ApRES SN-143</td>\n",
       "      <td>3</td>\n",
       "    </tr>\n",
       "  </tbody>\n",
       "</table>\n",
       "</div>"
      ],
      "text/plain": [
       "          Date             utc_time        lat         lon  Approx_Depth  \\\n",
       "11  2019-12-08  2019-12-08T02:35:00 -82.461778 -152.462687         628.0   \n",
       "26  2019-12-22  2019-12-22T02:12:00 -82.461778 -152.462687         628.0   \n",
       "73  2020-12-23                  NaN -82.461778 -152.462687         629.0   \n",
       "\n",
       "                       File_Name AF_Gain  Stacks RF_Atten Site_ID  \\\n",
       "11         2019-12-08_022603.dat      -4    64.0       20    CP12   \n",
       "26         2019-12-22_020319.dat      -4    64.0       20    CP12   \n",
       "73  Survey_2020-12-23_023455.dat     NaN     NaN      NaN    CP12   \n",
       "\n",
       "                                                Notes  \\\n",
       "11                                                NaN   \n",
       "26                                                NaN   \n",
       "73  Arran added this survey metadata, it was missi...   \n",
       "\n",
       "                     APRES_unit  Epoch  \n",
       "11                   Huws_unit1      1  \n",
       "26                   Huws_unit1      2  \n",
       "73  UC Antenna, UC ApRES SN-143      3  "
      ]
     },
     "execution_count": 538,
     "metadata": {},
     "output_type": "execute_result"
    }
   ],
   "source": [
    "meta_out.query('Site_ID == \"CP12\"')"
   ]
  },
  {
   "cell_type": "code",
   "execution_count": 539,
   "id": "dbb503b2",
   "metadata": {},
   "outputs": [],
   "source": [
    "meta_out.sort_values(by=['Site_ID','Epoch'],inplace=True)"
   ]
  },
  {
   "cell_type": "code",
   "execution_count": 540,
   "id": "8bc3412c",
   "metadata": {},
   "outputs": [],
   "source": [
    "meta_out.reset_index(drop=True,inplace=True)"
   ]
  },
  {
   "cell_type": "code",
   "execution_count": 541,
   "id": "6c5ef467",
   "metadata": {},
   "outputs": [],
   "source": [
    "meta_out"
   ]
  },
  {
   "cell_type": "markdown",
   "id": "d6537880",
   "metadata": {},
   "source": [
    "### NOW PROCESS IN MATLAB WITH paper_meltrates.m"
   ]
  },
  {
   "cell_type": "markdown",
   "id": "a439d795",
   "metadata": {},
   "source": [
    "# Part B"
   ]
  },
  {
   "cell_type": "code",
   "execution_count": 542,
   "id": "e0c50c96",
   "metadata": {},
   "outputs": [
    {
     "name": "stdout",
     "output_type": "stream",
     "text": [
      " DATA2020-12-22-1917.DAT        Survey_2020-12-23_001015.dat\n",
      "'KIS2 Old WO ApRES Card1'       Survey_2020-12-23_002658.dat\n",
      "'KIS2 Old WO ApRES Card2'       Survey_2020-12-23_004352.dat\n",
      " Survey_2020-12-22_035737.dat   Survey_2020-12-23_010317.dat\n",
      " Survey_2020-12-22_042049.dat   Survey_2020-12-23_013605.dat\n",
      " Survey_2020-12-22_044149.dat   Survey_2020-12-23_015608.dat\n",
      " Survey_2020-12-22_050111.dat   Survey_2020-12-23_021900.dat\n",
      " Survey_2020-12-22_052753.dat   Survey_2020-12-23_023455.dat\n",
      " Survey_2020-12-22_201557.dat   Survey_2020-12-23_024953.dat\n",
      " Survey_2020-12-22_203746.dat   Survey_2020-12-23_030547.dat\n",
      " Survey_2020-12-22_205751.dat   Survey_2020-12-23_042754.dat\n",
      " Survey_2020-12-22_211915.dat   Survey_2020-12-23_045043.dat\n",
      " Survey_2020-12-22_213835.dat   Survey_2020-12-23_050820.dat\n",
      " Survey_2020-12-22_221342.dat   Survey_2020-12-23_052812.dat\n",
      " Survey_2020-12-22_223029.dat   Survey_2020-12-23_202213.dat\n",
      " Survey_2020-12-22_224858.dat   Survey_2020-12-23_204021.dat\n",
      " Survey_2020-12-22_230405.dat   Survey_2020-12-23_205701.dat\n",
      " Survey_2020-12-22_233240.dat   Survey_2020-12-24_210803.dat\n",
      " Survey_2020-12-22_234900.dat   Survey_2020-12-25_004708.dat\n"
     ]
    }
   ],
   "source": [
    "!ls /Volumes/arc_04/FIELD_DATA/K8622021/'KIS Science'/'ApRES data files'/KIS2"
   ]
  },
  {
   "cell_type": "code",
   "execution_count": 543,
   "id": "9dbd273b",
   "metadata": {},
   "outputs": [
    {
     "data": {
      "text/plain": [
       "Index(['Date', 'utc_time', 'lat', 'lon', 'Approx_Depth', 'File_Name',\n",
       "       'AF_Gain', 'Stacks', 'RF_Atten', 'Site_ID', 'Notes', 'APRES_unit',\n",
       "       'Epoch'],\n",
       "      dtype='object')"
      ]
     },
     "execution_count": 543,
     "metadata": {},
     "output_type": "execute_result"
    }
   ],
   "source": [
    "meta_out.keys()"
   ]
  },
  {
   "cell_type": "code",
   "execution_count": 544,
   "id": "1213deac",
   "metadata": {},
   "outputs": [],
   "source": [
    "# Load from matlab"
   ]
  },
  {
   "cell_type": "code",
   "execution_count": 36,
   "id": "44bdeb28",
   "metadata": {},
   "outputs": [
    {
     "data": {
      "text/plain": [
       "Index(['Var1', 'Date', 'utc_time', 'lat', 'lon', 'Approx_Depth', 'File_Name',\n",
       "       'AF_Gain', 'Stacks', 'RF_Atten', 'Site_ID', 'Notes', 'APRES_unit',\n",
       "       'Epoch', 'meltRate', 'meltRateError', 'bed', 'dhStrain', 'dheStrain'],\n",
       "      dtype='object')"
      ]
     },
     "execution_count": 36,
     "metadata": {},
     "output_type": "execute_result"
    }
   ],
   "source": [
    "melt_rates = pd.read_csv('/Users/home/whitefar/DATA/ApRES/kis2_meltrates_matlab.csv')\n",
    "melt_rates.keys()"
   ]
  },
  {
   "cell_type": "code",
   "execution_count": 37,
   "id": "cc712909",
   "metadata": {},
   "outputs": [
    {
     "data": {
      "text/plain": [
       "33    1\n",
       "34    2\n",
       "35    3\n",
       "Name: Epoch, dtype: int64"
      ]
     },
     "execution_count": 37,
     "metadata": {},
     "output_type": "execute_result"
    }
   ],
   "source": [
    "# MISSING CP12 epoch 3\n",
    "melt_rates.query('Site_ID == \"CP12\"').Epoch"
   ]
  },
  {
   "cell_type": "code",
   "execution_count": 38,
   "id": "8900e534",
   "metadata": {},
   "outputs": [],
   "source": [
    "# df.loc[df['column_name'].isin(some_values)]\n",
    "downchannel = ['CP15','CP16', 'CP17', 'CP18', 'CP19', 'CP20', 'CP21', 'CP22', 'CP23', 'CP24','CP25' ]\n",
    "\n",
    "crosschannel = ['CP01', 'CP02', 'CP03', 'CP04', 'CP05', 'CP06', 'CP07', 'CP08',\n",
    "       'CP09', 'CP10', 'CP11', 'CP12', 'CP13', 'CP14', 'CP15' ]\n"
   ]
  },
  {
   "cell_type": "code",
   "execution_count": 39,
   "id": "7393ec86",
   "metadata": {},
   "outputs": [],
   "source": [
    "melt_rates['cross_channel'] = melt_rates['Site_ID'].isin(crosschannel)\n",
    "melt_rates['down_channel'] = melt_rates['Site_ID'].isin(downchannel)"
   ]
  },
  {
   "cell_type": "code",
   "execution_count": 40,
   "id": "96bf496c",
   "metadata": {},
   "outputs": [],
   "source": [
    "# melt_rates = melt_rates.query('Epoch == 3').copy()"
   ]
  },
  {
   "cell_type": "code",
   "execution_count": 41,
   "id": "d56b54af",
   "metadata": {},
   "outputs": [],
   "source": [
    "points = [Point(xy) for xy in zip(melt_rates.lon,melt_rates.lat) ]\n",
    "gdf = gpd.GeoDataFrame(melt_rates,geometry=points,crs=4326)"
   ]
  },
  {
   "cell_type": "code",
   "execution_count": 42,
   "id": "3f1b9319",
   "metadata": {},
   "outputs": [],
   "source": [
    "gd = gdf.to_crs(3031)\n",
    "gd['x']=gd.geometry.x\n",
    "gd['y']=gd.geometry.y"
   ]
  },
  {
   "cell_type": "code",
   "execution_count": 43,
   "id": "79719559",
   "metadata": {},
   "outputs": [
    {
     "name": "stdout",
     "output_type": "stream",
     "text": [
      "Depth_or_range_melt_calculation.csv  kis2_apres_metadata.csv\n",
      "K862A1920ApRESSites_KIS2.csv\t     kis2_meltrates.csv\n",
      "kis2_apres_metadata2021.csv\t     kis2_meltrates_matlab.csv\n",
      "kis2_apres_metadata_by_Site_ID.csv\n"
     ]
    }
   ],
   "source": [
    "!ls /Users/home/whitefar/DATA/ApRES/"
   ]
  },
  {
   "cell_type": "code",
   "execution_count": 44,
   "id": "529c28c4",
   "metadata": {},
   "outputs": [],
   "source": [
    "#can just use the bed\n",
    "# depth_guess_used = pd.read_csv('/Users/home/whitefar/DATA/ApRES/Depth_or_range_melt_calculation.csv')\n",
    "# # depth_guess_used\n",
    "# gd['Depth_or_range_melt_calculation'] = depth_guess_used"
   ]
  },
  {
   "cell_type": "code",
   "execution_count": 45,
   "id": "d3dccdcb",
   "metadata": {},
   "outputs": [],
   "source": [
    "Site_ID_not_repeated = ['CP26', 'CP27', 'CP28', 'CP30', 'CP31', 'CP32', 'CP33',\n",
    "       'CP34', 'CP_29_DRILL']"
   ]
  },
  {
   "cell_type": "code",
   "execution_count": 46,
   "id": "187b6ae4",
   "metadata": {},
   "outputs": [],
   "source": [
    "gd.drop(gd.index[gd['Site_ID'].isin(Site_ID_not_repeated)],inplace=True)"
   ]
  },
  {
   "cell_type": "code",
   "execution_count": 47,
   "id": "8495f112",
   "metadata": {},
   "outputs": [],
   "source": [
    "# gd.rename(columns={\"meltRate\":\"meltRate_v_Epoch1\"},inplace=True)\n",
    "gd[\"meltRate_v_Epoch1\"] = gd.meltRate"
   ]
  },
  {
   "cell_type": "code",
   "execution_count": 48,
   "id": "5a2fbd06",
   "metadata": {},
   "outputs": [],
   "source": [
    "res_bed_cross = gpd.read_file('/Volumes/arc_04/FIELD_DATA/K8621920/RES/PROCESSED_LINES/picked_bed.shp').query('line_name == \"lineAPREScross\"')\n",
    "res_bed_down = gpd.read_file('/Volumes/arc_04/FIELD_DATA/K8621920/RES/PROCESSED_LINES/picked_bed.shp').query('line_name == \"lineAPRESdown\"')                                                                                                              \n",
    "                                                                                                              "
   ]
  },
  {
   "cell_type": "code",
   "execution_count": 49,
   "id": "104b9c9a",
   "metadata": {},
   "outputs": [],
   "source": [
    "fresbedcross = interpolate.interp1d(res_bed_cross.x,res_bed_cross.ice_thickn)\n",
    "gd.loc[gd.query('cross_channel').index,'migrated_res_thickness_at_apres_sites'] = fresbedcross(gd.query('cross_channel').x-15)"
   ]
  },
  {
   "cell_type": "code",
   "execution_count": 50,
   "id": "10e62dbe",
   "metadata": {},
   "outputs": [],
   "source": [
    "gd.drop(columns=['geometry','Var1']).to_csv('/Users/home/whitefar/DATA/ApRES/kis2_meltrates.csv',index=False)"
   ]
  },
  {
   "cell_type": "code",
   "execution_count": null,
   "id": "7c6de611-f623-4cfa-9aa2-b11ed46038a1",
   "metadata": {},
   "outputs": [],
   "source": []
  },
  {
   "cell_type": "code",
   "execution_count": null,
   "id": "f6240d8a-8de2-468b-a37e-d097673351b5",
   "metadata": {},
   "outputs": [],
   "source": []
  },
  {
   "cell_type": "code",
   "execution_count": null,
   "id": "5f36f319-b4c2-4898-8afd-8cbf08b63fa8",
   "metadata": {},
   "outputs": [],
   "source": []
  },
  {
   "cell_type": "code",
   "execution_count": null,
   "id": "4298b706-de2a-44cb-a72f-c3672cc4d60f",
   "metadata": {},
   "outputs": [],
   "source": []
  },
  {
   "cell_type": "code",
   "execution_count": null,
   "id": "223d5699-3f46-4c1f-8ed0-ec1b4d1d4ad1",
   "metadata": {},
   "outputs": [],
   "source": []
  },
  {
   "cell_type": "code",
   "execution_count": null,
   "id": "aa355da0-949e-42b9-8b31-fbea9aaf673d",
   "metadata": {},
   "outputs": [],
   "source": []
  },
  {
   "cell_type": "code",
   "execution_count": null,
   "id": "3a5b94a2-e8ea-4580-a39a-ad4769b30644",
   "metadata": {},
   "outputs": [],
   "source": []
  },
  {
   "cell_type": "code",
   "execution_count": null,
   "id": "4f78b5d2-8f8a-4afa-815e-5f83515329df",
   "metadata": {},
   "outputs": [],
   "source": []
  },
  {
   "cell_type": "code",
   "execution_count": null,
   "id": "abbe46f2-aaaf-4faa-b19a-ff48af0b7616",
   "metadata": {},
   "outputs": [],
   "source": []
  },
  {
   "cell_type": "code",
   "execution_count": null,
   "id": "f32005bc-ada4-4a41-afb4-340bfbea3173",
   "metadata": {},
   "outputs": [],
   "source": []
  },
  {
   "cell_type": "code",
   "execution_count": null,
   "id": "2517143f-65fb-43ac-910a-35f7fa32ee5c",
   "metadata": {},
   "outputs": [],
   "source": []
  },
  {
   "cell_type": "code",
   "execution_count": null,
   "id": "bfe2796f-8ba3-4593-bd0f-81c475157ee4",
   "metadata": {},
   "outputs": [],
   "source": []
  },
  {
   "cell_type": "code",
   "execution_count": null,
   "id": "73f07024-8157-4ff3-bc7b-d77c6ea61e34",
   "metadata": {},
   "outputs": [],
   "source": []
  },
  {
   "cell_type": "code",
   "execution_count": null,
   "id": "e8a3f5ff-8b52-4e24-b141-358aa95c5566",
   "metadata": {},
   "outputs": [],
   "source": []
  },
  {
   "cell_type": "code",
   "execution_count": null,
   "id": "2ec243b9-cbcd-4927-894a-526b7c8646c7",
   "metadata": {},
   "outputs": [],
   "source": []
  },
  {
   "cell_type": "markdown",
   "id": "6f5cd06b",
   "metadata": {},
   "source": [
    "# Find migrated depth from res radar"
   ]
  },
  {
   "cell_type": "code",
   "execution_count": null,
   "id": "a95096b4",
   "metadata": {},
   "outputs": [],
   "source": []
  },
  {
   "cell_type": "code",
   "execution_count": null,
   "id": "500bceb6",
   "metadata": {},
   "outputs": [],
   "source": []
  },
  {
   "cell_type": "code",
   "execution_count": null,
   "id": "b1715492",
   "metadata": {},
   "outputs": [],
   "source": []
  },
  {
   "cell_type": "code",
   "execution_count": null,
   "id": "a127d73e",
   "metadata": {},
   "outputs": [],
   "source": [
    "# look for missing CP12"
   ]
  },
  {
   "cell_type": "code",
   "execution_count": 417,
   "id": "cabae14a",
   "metadata": {},
   "outputs": [
    {
     "data": {
      "text/plain": [
       "array(['Survey_2020-12-22_035737.dat', 'Survey_2020-12-22_042049.dat',\n",
       "       'Survey_2020-12-22_044149.dat', 'Survey_2020-12-22_050111.dat',\n",
       "       'Survey_2020-12-22_052753.dat', 'Survey_2020-12-22_201557.dat',\n",
       "       'Survey_2020-12-22_203746.dat', 'Survey_2020-12-22_205751.dat',\n",
       "       'Survey_2020-12-22_211915.dat', 'Survey_2020-12-22_213835.dat',\n",
       "       'Survey_2020-12-22_221342.dat', 'Survey_2020-12-22_223029.dat',\n",
       "       'Survey_2020-12-22_224858.dat', 'Survey_2020-12-22_230405.dat',\n",
       "       'Survey_2020-12-22_233240.dat', 'Survey_2020-12-22_234900.dat',\n",
       "       'Survey_2020-12-23_001015.dat', 'Survey_2020-12-23_002658.dat',\n",
       "       'Survey_2020-12-23_004352.dat', 'Survey_2020-12-23_010317.dat',\n",
       "       'Survey_2020-12-23_013605.dat', 'Survey_2020-12-23_015608.dat',\n",
       "       'Survey_2020-12-23_021900.dat', 'Survey_2020-12-23_024953.dat',\n",
       "       'Survey_2020-12-23_030547.dat', 'Survey_2020-12-23_042754.dat',\n",
       "       None, 'Survey_2020-12-23_045043.dat',\n",
       "       'Survey_2020-12-23_050820.dat', 'Survey_2020-12-23_052812.dat',\n",
       "       'Survey_2020-12-23_202213.dat', 'Survey_2020-12-23_204021.dat',\n",
       "       'Survey_2020-12-23_205701.dat'], dtype=object)"
      ]
     },
     "execution_count": 417,
     "metadata": {},
     "output_type": "execute_result"
    }
   ],
   "source": [
    "meta"
   ]
  },
  {
   "cell_type": "code",
   "execution_count": 424,
   "id": "fb3c4b1c",
   "metadata": {},
   "outputs": [
    {
     "data": {
      "text/plain": [
       "[('Survey_2020-12-22_211915.dat', array([[8]])),\n",
       " ('Survey_2020-12-23_001015.dat', array([[16]])),\n",
       " ('Survey_2020-12-22_230405.dat', array([[13]])),\n",
       " ('Survey_2020-12-22_042049.dat', array([[1]])),\n",
       " ('Survey_2020-12-22_052753.dat', array([[4]])),\n",
       " ('Survey_2020-12-23_030547.dat', array([[24]])),\n",
       " ('Survey_2020-12-22_233240.dat', array([[14]])),\n",
       " ('Survey_2020-12-23_050820.dat', array([[28]])),\n",
       " ('Survey_2020-12-22_213835.dat', array([[9]])),\n",
       " ('Survey_2020-12-23_023455.dat', array([], shape=(0, 1), dtype=int64)),\n",
       " ('Survey_2020-12-23_002658.dat', array([[17]])),\n",
       " ('Survey_2020-12-24_210803.dat', array([], shape=(0, 1), dtype=int64)),\n",
       " ('Survey_2020-12-23_052812.dat', array([[29]])),\n",
       " ('Survey_2020-12-23_045043.dat', array([[27]])),\n",
       " ('Survey_2020-12-22_201557.dat', array([[5]])),\n",
       " ('Survey_2020-12-23_004352.dat', array([[18]])),\n",
       " ('Survey_2020-12-22_224858.dat', array([[12]])),\n",
       " ('Survey_2020-12-22_205751.dat', array([[7]])),\n",
       " ('Survey_2020-12-22_203746.dat', array([[6]])),\n",
       " ('Survey_2020-12-23_015608.dat', array([[21]])),\n",
       " ('Survey_2020-12-22_234900.dat', array([[15]])),\n",
       " ('Survey_2020-12-22_221342.dat', array([[10]])),\n",
       " ('Survey_2020-12-22_044149.dat', array([[2]])),\n",
       " ('Survey_2020-12-22_050111.dat', array([[3]])),\n",
       " ('Survey_2020-12-25_004708.dat', array([], shape=(0, 1), dtype=int64)),\n",
       " ('Survey_2020-12-23_042754.dat', array([[25]])),\n",
       " ('Survey_2020-12-23_021900.dat', array([[22]])),\n",
       " ('Survey_2020-12-23_013605.dat', array([[20]])),\n",
       " ('Survey_2020-12-23_204021.dat', array([[31]])),\n",
       " ('Survey_2020-12-23_010317.dat', array([[19]])),\n",
       " ('Survey_2020-12-22_035737.dat', array([[0]])),\n",
       " ('Survey_2020-12-23_024953.dat', array([[23]])),\n",
       " ('Survey_2020-12-23_205701.dat', array([[32]])),\n",
       " ('Survey_2020-12-23_202213.dat', array([[30]])),\n",
       " ('Survey_2020-12-22_223029.dat', array([[11]]))]"
      ]
     },
     "execution_count": 424,
     "metadata": {},
     "output_type": "execute_result"
    }
   ],
   "source": [
    "files = [os.path.basename(f) for f in glob.glob('/Volumes/arc_04/FIELD_DATA/K8622021/KIS Science/ApRES data files/KIS2/Survey_2020*')]\n",
    "meta = metadata2021.File_Name.to_numpy()\n",
    "[(f,np.argwhere(meta==f)) for f in files]"
   ]
  },
  {
   "cell_type": "code",
   "execution_count": null,
   "id": "cc3b0e17",
   "metadata": {},
   "outputs": [],
   "source": [
    "# bed is at 629 for Survey_2020-12-23_023455.dat"
   ]
  },
  {
   "cell_type": "code",
   "execution_count": 335,
   "id": "34d6b907",
   "metadata": {},
   "outputs": [],
   "source": [
    "dc_m= gd.loc[gd['down_channel']==True].copy()\n",
    "cc_m = gd.loc[gd['cross_channel']==True].copy()"
   ]
  },
  {
   "cell_type": "code",
   "execution_count": null,
   "id": "d9512e42",
   "metadata": {},
   "outputs": [],
   "source": []
  },
  {
   "cell_type": "code",
   "execution_count": 387,
   "id": "90217461",
   "metadata": {},
   "outputs": [
    {
     "ename": "AttributeError",
     "evalue": "'GeoDataFrame' object has no attribute 'meltRate'",
     "output_type": "error",
     "traceback": [
      "\u001b[0;31m---------------------------------------------------------------------------\u001b[0m",
      "\u001b[0;31mAttributeError\u001b[0m                            Traceback (most recent call last)",
      "\u001b[0;32m<ipython-input-387-575b11dfeb2a>\u001b[0m in \u001b[0;36m<module>\u001b[0;34m\u001b[0m\n\u001b[1;32m      1\u001b[0m \u001b[0mgdp\u001b[0m \u001b[0;34m=\u001b[0m \u001b[0mgd\u001b[0m\u001b[0;34m\u001b[0m\u001b[0;34m\u001b[0m\u001b[0m\n\u001b[1;32m      2\u001b[0m \u001b[0mplt\u001b[0m\u001b[0;34m.\u001b[0m\u001b[0mfigure\u001b[0m\u001b[0;34m(\u001b[0m\u001b[0mfigsize\u001b[0m\u001b[0;34m=\u001b[0m\u001b[0;34m(\u001b[0m\u001b[0;36m8\u001b[0m\u001b[0;34m,\u001b[0m\u001b[0;36m8\u001b[0m\u001b[0;34m)\u001b[0m\u001b[0;34m)\u001b[0m\u001b[0;34m\u001b[0m\u001b[0;34m\u001b[0m\u001b[0m\n\u001b[0;32m----> 3\u001b[0;31m \u001b[0mplt\u001b[0m\u001b[0;34m.\u001b[0m\u001b[0mscatter\u001b[0m\u001b[0;34m(\u001b[0m\u001b[0mgd\u001b[0m\u001b[0;34m.\u001b[0m\u001b[0mx\u001b[0m\u001b[0;34m,\u001b[0m\u001b[0mgd\u001b[0m\u001b[0;34m.\u001b[0m\u001b[0my\u001b[0m\u001b[0;34m,\u001b[0m\u001b[0mc\u001b[0m\u001b[0;34m=\u001b[0m\u001b[0mgd\u001b[0m\u001b[0;34m.\u001b[0m\u001b[0mmeltRate\u001b[0m\u001b[0;34m,\u001b[0m\u001b[0mcmap\u001b[0m\u001b[0;34m=\u001b[0m\u001b[0;34m'bwr'\u001b[0m\u001b[0;34m,\u001b[0m\u001b[0mvmin\u001b[0m\u001b[0;34m=\u001b[0m\u001b[0;34m-\u001b[0m\u001b[0;36m2\u001b[0m\u001b[0;34m,\u001b[0m\u001b[0mvmax\u001b[0m\u001b[0;34m=\u001b[0m\u001b[0;36m2\u001b[0m\u001b[0;34m)\u001b[0m\u001b[0;34m\u001b[0m\u001b[0;34m\u001b[0m\u001b[0m\n\u001b[0m\u001b[1;32m      4\u001b[0m \u001b[0mplt\u001b[0m\u001b[0;34m.\u001b[0m\u001b[0mcolorbar\u001b[0m\u001b[0;34m(\u001b[0m\u001b[0;34m)\u001b[0m\u001b[0;34m\u001b[0m\u001b[0;34m\u001b[0m\u001b[0m\n\u001b[1;32m      5\u001b[0m \u001b[0mplt\u001b[0m\u001b[0;34m.\u001b[0m\u001b[0mshow\u001b[0m\u001b[0;34m(\u001b[0m\u001b[0;34m)\u001b[0m\u001b[0;34m\u001b[0m\u001b[0;34m\u001b[0m\u001b[0m\n",
      "\u001b[0;32m~/miniconda3/envs/remote_sensing/lib/python3.7/site-packages/pandas/core/generic.py\u001b[0m in \u001b[0;36m__getattr__\u001b[0;34m(self, name)\u001b[0m\n\u001b[1;32m   5272\u001b[0m             \u001b[0;32mif\u001b[0m \u001b[0mself\u001b[0m\u001b[0;34m.\u001b[0m\u001b[0m_info_axis\u001b[0m\u001b[0;34m.\u001b[0m\u001b[0m_can_hold_identifiers_and_holds_name\u001b[0m\u001b[0;34m(\u001b[0m\u001b[0mname\u001b[0m\u001b[0;34m)\u001b[0m\u001b[0;34m:\u001b[0m\u001b[0;34m\u001b[0m\u001b[0;34m\u001b[0m\u001b[0m\n\u001b[1;32m   5273\u001b[0m                 \u001b[0;32mreturn\u001b[0m \u001b[0mself\u001b[0m\u001b[0;34m[\u001b[0m\u001b[0mname\u001b[0m\u001b[0;34m]\u001b[0m\u001b[0;34m\u001b[0m\u001b[0;34m\u001b[0m\u001b[0m\n\u001b[0;32m-> 5274\u001b[0;31m             \u001b[0;32mreturn\u001b[0m \u001b[0mobject\u001b[0m\u001b[0;34m.\u001b[0m\u001b[0m__getattribute__\u001b[0m\u001b[0;34m(\u001b[0m\u001b[0mself\u001b[0m\u001b[0;34m,\u001b[0m \u001b[0mname\u001b[0m\u001b[0;34m)\u001b[0m\u001b[0;34m\u001b[0m\u001b[0;34m\u001b[0m\u001b[0m\n\u001b[0m\u001b[1;32m   5275\u001b[0m \u001b[0;34m\u001b[0m\u001b[0m\n\u001b[1;32m   5276\u001b[0m     \u001b[0;32mdef\u001b[0m \u001b[0m__setattr__\u001b[0m\u001b[0;34m(\u001b[0m\u001b[0mself\u001b[0m\u001b[0;34m,\u001b[0m \u001b[0mname\u001b[0m\u001b[0;34m:\u001b[0m \u001b[0mstr\u001b[0m\u001b[0;34m,\u001b[0m \u001b[0mvalue\u001b[0m\u001b[0;34m)\u001b[0m \u001b[0;34m->\u001b[0m \u001b[0;32mNone\u001b[0m\u001b[0;34m:\u001b[0m\u001b[0;34m\u001b[0m\u001b[0;34m\u001b[0m\u001b[0m\n",
      "\u001b[0;31mAttributeError\u001b[0m: 'GeoDataFrame' object has no attribute 'meltRate'"
     ]
    },
    {
     "data": {
      "text/plain": [
       "<Figure size 576x576 with 0 Axes>"
      ]
     },
     "metadata": {},
     "output_type": "display_data"
    }
   ],
   "source": [
    "gdp = gd\n",
    "plt.figure(figsize=(8,8))\n",
    "plt.scatter(gd.x,gd.y,c=gd.meltRate,cmap='bwr',vmin=-2,vmax=2)\n",
    "plt.colorbar()\n",
    "plt.show()"
   ]
  },
  {
   "cell_type": "code",
   "execution_count": 337,
   "id": "0c4a20db",
   "metadata": {},
   "outputs": [
    {
     "data": {
      "image/png": "[encoded data removed]",
      "text/plain": [
       "<Figure size 576x576 with 1 Axes>"
      ]
     },
     "metadata": {
      "needs_background": "light"
     },
     "output_type": "display_data"
    }
   ],
   "source": [
    "dfp = gd.query('down_channel')\n",
    "plt.figure(figsize=(8,8))\n",
    "plt.plot(dfp.y,dfp.meltRate,'x')\n",
    "# plt.plot(cc_m.loc[melt_rates['Epoch']==2].x,cc_m.loc[melt_rates['Epoch']==2].meltRate,'o')\n",
    "plt.show()"
   ]
  },
  {
   "cell_type": "code",
   "execution_count": 386,
   "id": "42f58e98",
   "metadata": {},
   "outputs": [
    {
     "ename": "AttributeError",
     "evalue": "'GeoDataFrame' object has no attribute 'meltRate'",
     "output_type": "error",
     "traceback": [
      "\u001b[0;31m---------------------------------------------------------------------------\u001b[0m",
      "\u001b[0;31mAttributeError\u001b[0m                            Traceback (most recent call last)",
      "\u001b[0;32m<ipython-input-386-ff5fb5d7d9f3>\u001b[0m in \u001b[0;36m<module>\u001b[0;34m\u001b[0m\n\u001b[1;32m      2\u001b[0m \u001b[0mdfp2\u001b[0m \u001b[0;34m=\u001b[0m \u001b[0mgd\u001b[0m\u001b[0;34m.\u001b[0m\u001b[0mquery\u001b[0m\u001b[0;34m(\u001b[0m\u001b[0;34m'(Epoch == 3) & cross_channel'\u001b[0m\u001b[0;34m)\u001b[0m\u001b[0;34m\u001b[0m\u001b[0;34m\u001b[0m\u001b[0m\n\u001b[1;32m      3\u001b[0m \u001b[0mplt\u001b[0m\u001b[0;34m.\u001b[0m\u001b[0mfigure\u001b[0m\u001b[0;34m(\u001b[0m\u001b[0mfigsize\u001b[0m\u001b[0;34m=\u001b[0m\u001b[0;34m(\u001b[0m\u001b[0;36m8\u001b[0m\u001b[0;34m,\u001b[0m\u001b[0;36m8\u001b[0m\u001b[0;34m)\u001b[0m\u001b[0;34m)\u001b[0m\u001b[0;34m\u001b[0m\u001b[0;34m\u001b[0m\u001b[0m\n\u001b[0;32m----> 4\u001b[0;31m \u001b[0mplt\u001b[0m\u001b[0;34m.\u001b[0m\u001b[0mplot\u001b[0m\u001b[0;34m(\u001b[0m\u001b[0mdfp\u001b[0m\u001b[0;34m.\u001b[0m\u001b[0mx\u001b[0m\u001b[0;34m,\u001b[0m\u001b[0mdfp\u001b[0m\u001b[0;34m.\u001b[0m\u001b[0mmeltRate\u001b[0m\u001b[0;34m,\u001b[0m\u001b[0;34m'x'\u001b[0m\u001b[0;34m)\u001b[0m\u001b[0;34m\u001b[0m\u001b[0;34m\u001b[0m\u001b[0m\n\u001b[0m\u001b[1;32m      5\u001b[0m \u001b[0mplt\u001b[0m\u001b[0;34m.\u001b[0m\u001b[0mplot\u001b[0m\u001b[0;34m(\u001b[0m\u001b[0mdfp2\u001b[0m\u001b[0;34m.\u001b[0m\u001b[0mx\u001b[0m\u001b[0;34m,\u001b[0m\u001b[0mdfp2\u001b[0m\u001b[0;34m.\u001b[0m\u001b[0mmeltRate\u001b[0m\u001b[0;34m,\u001b[0m\u001b[0;34m'o'\u001b[0m\u001b[0;34m)\u001b[0m\u001b[0;34m\u001b[0m\u001b[0;34m\u001b[0m\u001b[0m\n\u001b[1;32m      6\u001b[0m \u001b[0;31m# plt.plot(cc_m.loc[melt_rates['Epoch']==2].x,cc_m.loc[melt_rates['Epoch']==2].meltRate,'o')\u001b[0m\u001b[0;34m\u001b[0m\u001b[0;34m\u001b[0m\u001b[0;34m\u001b[0m\u001b[0m\n",
      "\u001b[0;32m~/miniconda3/envs/remote_sensing/lib/python3.7/site-packages/pandas/core/generic.py\u001b[0m in \u001b[0;36m__getattr__\u001b[0;34m(self, name)\u001b[0m\n\u001b[1;32m   5272\u001b[0m             \u001b[0;32mif\u001b[0m \u001b[0mself\u001b[0m\u001b[0;34m.\u001b[0m\u001b[0m_info_axis\u001b[0m\u001b[0;34m.\u001b[0m\u001b[0m_can_hold_identifiers_and_holds_name\u001b[0m\u001b[0;34m(\u001b[0m\u001b[0mname\u001b[0m\u001b[0;34m)\u001b[0m\u001b[0;34m:\u001b[0m\u001b[0;34m\u001b[0m\u001b[0;34m\u001b[0m\u001b[0m\n\u001b[1;32m   5273\u001b[0m                 \u001b[0;32mreturn\u001b[0m \u001b[0mself\u001b[0m\u001b[0;34m[\u001b[0m\u001b[0mname\u001b[0m\u001b[0;34m]\u001b[0m\u001b[0;34m\u001b[0m\u001b[0;34m\u001b[0m\u001b[0m\n\u001b[0;32m-> 5274\u001b[0;31m             \u001b[0;32mreturn\u001b[0m \u001b[0mobject\u001b[0m\u001b[0;34m.\u001b[0m\u001b[0m__getattribute__\u001b[0m\u001b[0;34m(\u001b[0m\u001b[0mself\u001b[0m\u001b[0;34m,\u001b[0m \u001b[0mname\u001b[0m\u001b[0;34m)\u001b[0m\u001b[0;34m\u001b[0m\u001b[0;34m\u001b[0m\u001b[0m\n\u001b[0m\u001b[1;32m   5275\u001b[0m \u001b[0;34m\u001b[0m\u001b[0m\n\u001b[1;32m   5276\u001b[0m     \u001b[0;32mdef\u001b[0m \u001b[0m__setattr__\u001b[0m\u001b[0;34m(\u001b[0m\u001b[0mself\u001b[0m\u001b[0;34m,\u001b[0m \u001b[0mname\u001b[0m\u001b[0;34m:\u001b[0m \u001b[0mstr\u001b[0m\u001b[0;34m,\u001b[0m \u001b[0mvalue\u001b[0m\u001b[0;34m)\u001b[0m \u001b[0;34m->\u001b[0m \u001b[0;32mNone\u001b[0m\u001b[0;34m:\u001b[0m\u001b[0;34m\u001b[0m\u001b[0;34m\u001b[0m\u001b[0m\n",
      "\u001b[0;31mAttributeError\u001b[0m: 'GeoDataFrame' object has no attribute 'meltRate'"
     ]
    },
    {
     "data": {
      "text/plain": [
       "<Figure size 576x576 with 0 Axes>"
      ]
     },
     "metadata": {},
     "output_type": "display_data"
    }
   ],
   "source": [
    "dfp = gd.query('(Epoch == 2) & cross_channel')\n",
    "dfp2 = gd.query('(Epoch == 3) & cross_channel')\n",
    "plt.figure(figsize=(8,8))\n",
    "plt.plot(dfp.x,dfp.meltRate,'x')\n",
    "plt.plot(dfp2.x,dfp2.meltRate,'o')\n",
    "# plt.plot(cc_m.loc[melt_rates['Epoch']==2].x,cc_m.loc[melt_rates['Epoch']==2].meltRate,'o')\n",
    "plt.show()"
   ]
  },
  {
   "cell_type": "code",
   "execution_count": 340,
   "id": "fe698d20",
   "metadata": {},
   "outputs": [],
   "source": [
    "# plt.figure(figsize=(8,8))\n",
    "# plt.scatter(melt_rates.lat,melt_rates.lon,c=melt_rates.meltRate,cmap='bwr',vmin=-2,vmax=2)\n",
    "# for i in range(melt_rates.shape[0]):\n",
    "#     plt.annotate( melt_rates.iloc[i].Site_ID,(melt_rates.iloc[i].lon, melt_rates.iloc[i].lat),xytext=(melt_rates.iloc[i].lon+0.5, melt_rates.iloc[i].lat+0.5),arrowprops=dict(arrowstyle='->'),fontsize=8)\n",
    "# # plt.colorbar()\n",
    "# plt.show()"
   ]
  },
  {
   "cell_type": "code",
   "execution_count": null,
   "id": "ec347df3",
   "metadata": {},
   "outputs": [],
   "source": []
  },
  {
   "cell_type": "code",
   "execution_count": null,
   "id": "e3b5efd6",
   "metadata": {},
   "outputs": [],
   "source": []
  },
  {
   "cell_type": "code",
   "execution_count": null,
   "id": "75e0d4a0",
   "metadata": {},
   "outputs": [],
   "source": []
  },
  {
   "cell_type": "code",
   "execution_count": null,
   "id": "da769966",
   "metadata": {},
   "outputs": [],
   "source": []
  },
  {
   "cell_type": "code",
   "execution_count": null,
   "id": "16529934",
   "metadata": {},
   "outputs": [],
   "source": []
  },
  {
   "cell_type": "code",
   "execution_count": 19,
   "id": "270274cf",
   "metadata": {},
   "outputs": [
    {
     "data": {
      "text/plain": [
       "Index(['Unnamed: 0', 'Var1', 'Date', 'utc_time', 'lat', 'lon', 'Approx_Depth',\n",
       "       'File_Name', 'AF_Gain', 'Stacks', 'RF_Atten', 'Site_ID', 'Notes',\n",
       "       'APRES_unit', 'Epoch', 'meltRate', 'meltRateError', 'bed', 'dhStrain',\n",
       "       'dheStrain', 'cross_channel', 'down_channel', 'x', 'y', 'geometry'],\n",
       "      dtype='object')"
      ]
     },
     "execution_count": 19,
     "metadata": {},
     "output_type": "execute_result"
    }
   ],
   "source": [
    "melt_rates.keys()"
   ]
  },
  {
   "cell_type": "code",
   "execution_count": 21,
   "id": "5045b7ff",
   "metadata": {},
   "outputs": [],
   "source": [
    "!mkdir /Volumes/arc_04/FIELD_DATA/KIS2_apres/"
   ]
  },
  {
   "cell_type": "code",
   "execution_count": 20,
   "id": "2de29a2c",
   "metadata": {},
   "outputs": [
    {
     "data": {
      "text/plain": [
       "'2019-12-07_225600.dat'"
      ]
     },
     "execution_count": 20,
     "metadata": {},
     "output_type": "execute_result"
    }
   ],
   "source": [
    "melt_rates.File_Name.iloc[0]"
   ]
  },
  {
   "cell_type": "code",
   "execution_count": 22,
   "id": "6185ec08",
   "metadata": {},
   "outputs": [],
   "source": [
    "import shutil"
   ]
  },
  {
   "cell_type": "code",
   "execution_count": 25,
   "id": "d084ba47",
   "metadata": {},
   "outputs": [],
   "source": [
    "for file in melt_rates.query('Epoch != 3').File_Name:\n",
    "    src_file = f'/Volumes/arc_04/FIELD_DATA/K8621920/APRES/Survey_{file}'\n",
    "    dst_file = f'/Volumes/arc_04/FIELD_DATA/KIS2_apres/Survey_{file}'\n",
    "    shutil.copyfile(src_file, dst_file)"
   ]
  },
  {
   "cell_type": "code",
   "execution_count": null,
   "id": "693b9c5e",
   "metadata": {},
   "outputs": [],
   "source": []
  }
 ],
 "metadata": {
  "kernelspec": {
   "display_name": "remote_sensing",
   "language": "python",
   "name": "remote_sensing"
  },
  "language_info": {
   "codemirror_mode": {
    "name": "ipython",
    "version": 3
   },
   "file_extension": ".py",
   "mimetype": "text/x-python",
   "name": "python",
   "nbconvert_exporter": "python",
   "pygments_lexer": "ipython3",
   "version": "3.7.8"
  }
 },
 "nbformat": 4,
 "nbformat_minor": 5
}
