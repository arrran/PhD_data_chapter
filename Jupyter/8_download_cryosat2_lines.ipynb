{
 "cells": [
  {
   "cell_type": "markdown",
   "metadata": {},
   "source": [
    "## Download the cryosat2 ground tracks\n",
    "\n",
    "https://earth.esa.int/web/guest/-/ground-tracks-7209\n",
    "\n",
    "I use the \"GroundTracks/Ground Tracks in Google (kml)\"  files"
   ]
  },
  {
   "cell_type": "code",
   "execution_count": 2,
   "metadata": {},
   "outputs": [],
   "source": [
    "import numpy as np\n",
    "import zipfile\n",
    "\n",
    "import os\n",
    "import sys\n",
    "import ftplib\n",
    "\n",
    "\n",
    "#working_dir = '/Volumes/arc_02/REMOTE_SENSING/'\n",
    "directory = \"/Volumes/arc_02/REMOTE_SENSING/CRYOSAT2/GROUND_TRACKS/ORIGINALS\"\n",
    "\n",
    "sys.path.append(os.path.abspath(directory))\n",
    "sys.path.append(os.path.abspath('/Users/home/whitefar/DATA/code/'))\n",
    "os.chdir(directory)"
   ]
  },
  {
   "cell_type": "code",
   "execution_count": 3,
   "metadata": {},
   "outputs": [
    {
     "name": "stdout",
     "output_type": "stream",
     "text": [
      "drwxr-x---   24 ftp      ftp          4096 Jun 17 14:33 GroundTracks\n",
      "drwxr-x---   12 ftp      ftp          4096 Jan 03  2019 PredictedOrbits\n",
      "drwxr-x---    2 ftp      ftp          4096 Jun 24 11:43 ReferenceOrbitForCUT\n",
      "drwxr-x---    3 ftp      ftp          4096 Jun 28 08:18 ReferenceOrbits\n",
      "drwxr-x---    2 ftp      ftp          4096 Sep 06  2018 Software\n"
     ]
    },
    {
     "data": {
      "text/plain": [
       "'226 Directory send OK.'"
      ]
     },
     "execution_count": 3,
     "metadata": {},
     "output_type": "execute_result"
    }
   ],
   "source": [
    "ftp = ftplib.FTP(\"calval-pds.cryosat.esa.int\")   # connect to host, default port\n",
    "\n",
    "ftp.login(user='ground', passwd = 'tracks')            # user anonymous, passwd anonymous@\n",
    "\n",
    "ftp.retrlines('LIST')     # list directory contents "
   ]
  },
  {
   "cell_type": "code",
   "execution_count": 4,
   "metadata": {},
   "outputs": [
    {
     "name": "stdout",
     "output_type": "stream",
     "text": [
      "Full year 2010-2011\n",
      "Full year 2011-2012\n",
      "Full year 2012-2013\n",
      "Full year 2013-2014\n",
      "Full year 2014-2015\n",
      "Full year 2015-2016\n",
      "Full year 2016-2017\n",
      "Full year 2017-2018\n",
      "Full year 2018-2019\n",
      "Full year 2019-2020\n",
      "Ground Tracks in Google (kml)\n",
      "monthly_2010\n",
      "monthly_2011\n",
      "monthly_2012\n",
      "monthly_2013\n",
      "monthly_2014\n",
      "monthly_2015\n",
      "monthly_2016\n",
      "monthly_2017\n",
      "monthly_2018\n",
      "monthly_2019\n",
      "monthly_2020\n"
     ]
    },
    {
     "data": {
      "text/plain": [
       "'226 Directory send OK.'"
      ]
     },
     "execution_count": 4,
     "metadata": {},
     "output_type": "execute_result"
    }
   ],
   "source": [
    "ftp.cwd('GroundTracks')\n",
    "ftp.retrlines('NLST')"
   ]
  },
  {
   "cell_type": "code",
   "execution_count": 5,
   "metadata": {},
   "outputs": [
    {
     "name": "stdout",
     "output_type": "stream",
     "text": [
      "SUBCYCLE KML FILES FOR CYCLE 01 (2010 06 14  to 2011 06 17).tar.gz\n",
      "SUBCYCLE KML FILES FOR CYCLE 02 (2011 06 17  to 2012 06 19).tar.gz\n",
      "SUBCYCLE KML FILES FOR CYCLE 03 (2012 06 19  to 2013 06 22).tar.gz\n",
      "SUBCYCLE KML FILES FOR CYCLE 04 (2013 06 22  to 2014 06 26).tar.gz\n",
      "SUBCYCLE KML FILES FOR CYCLE 05 (2014 06 26 to 2015 06 29).tar.gz\n"
     ]
    },
    {
     "data": {
      "text/plain": [
       "'226 Directory send OK.'"
      ]
     },
     "execution_count": 5,
     "metadata": {},
     "output_type": "execute_result"
    }
   ],
   "source": [
    "ftp.cwd('Ground Tracks in Google (kml)')\n",
    "ftp.retrlines('NLST')"
   ]
  },
  {
   "cell_type": "code",
   "execution_count": 38,
   "metadata": {},
   "outputs": [
    {
     "data": {
      "text/plain": [
       "'250 Directory successfully changed.'"
      ]
     },
     "execution_count": 38,
     "metadata": {},
     "output_type": "execute_result"
    }
   ],
   "source": [
    "ftp.cwd(\"Ground Tracks in Google (kml)\")"
   ]
  },
  {
   "cell_type": "code",
   "execution_count": 9,
   "metadata": {},
   "outputs": [],
   "source": [
    "year_folders = [\"Full year 2010-2011\",\n",
    "\"Full year 2011-2012\",\n",
    "\"Full year 2012-2013\",\n",
    "\"Full year 2013-2014\",\n",
    "\"Full year 2014-2015\",\n",
    "\"Full year 2015-2016\",\n",
    "\"Full year 2016-2017\",\n",
    "\"Full year 2017-2018\",\n",
    "\"Full year 2018-2019\",\n",
    "\"Full year 2019-2020\"]"
   ]
  },
  {
   "cell_type": "code",
   "execution_count": 10,
   "metadata": {},
   "outputs": [
    {
     "name": "stdout",
     "output_type": "stream",
     "text": [
      "-rw-r-----    1 ftp      ftp      46985821 May 13  2013 Groundtrack_20100614_20110617_10sec.txt.zip\n",
      "-rw-r-----    1 ftp      ftp      219194544 May 13  2013 Groundtrack_20100614_20110617_2sec.txt.zip\n",
      "-rw-r-----    1 ftp      ftp       8042607 May 13  2013 Groundtrack_20100614_20110617_60sec.txt.zip\n",
      "-rw-r-----    1 ftp      ftp      47189041 May 13  2013 Groundtrack_17062011_20062012_10sec.txt.zip\n",
      "-rw-r-----    1 ftp      ftp      219926976 May 13  2013 Groundtrack_17062011_20062012_2sec.txt.zip\n",
      "-rw-r-----    1 ftp      ftp       8161314 May 13  2013 Groundtrack_17062011_20062012_60sec.txt.zip\n",
      "-rw-r-----    1 ftp      ftp      47241298 May 13  2013 Groundtrack_20120619T120000_20130622T190000_10sec.txt.zip\n",
      "-rw-r-----    1 ftp      ftp      219829488 May 13  2013 Groundtrack_20120619T120000_20130622T190000_2sec.txt.zip\n",
      "-rw-r-----    1 ftp      ftp       8180389 May 13  2013 Groundtrack_20120619T120000_20130622T190000_60sec.txt.zip\n",
      "-rw-r-----    1 ftp      ftp      47210991 May 02 12:28 Groundtrack_20130622T180000_20140626T010000_10sec.txt.zip\n",
      "-rw-r-----    1 ftp      ftp      219694624 May 02 12:29 Groundtrack_20130622T180000_20140626T010000_2sec.txt.zip\n",
      "-rw-r-----    1 ftp      ftp       8176755 May 02 12:28 Groundtrack_20130622T180000_20140626T010000_60sec.txt.zip\n",
      "-rw-r-----    1 ftp      ftp      47203978 Jun 13  2014 Groundtrack_20140626T001500_20150629T050000_0001.EEF_10sec.txt.zip\n",
      "-rw-r-----    1 ftp      ftp      219636310 Jun 13  2014 Groundtrack_20140626T001500_20150629T050000_0001.EEF_2sec.txt.zip\n",
      "-rw-r-----    1 ftp      ftp       8175699 Jun 13  2014 Groundtrack_20140626T001500_20150629T050000_0001.EEF_60sec.txt.zip\n",
      "-rw-r-----    1 ftp      ftp      47237499 Jun 19  2015 Groundtrack_20150629T055900_20160701T120000_0001.EEF_10sec.txt.zip\n",
      "-rw-r-----    1 ftp      ftp      219810387 Jun 19  2015 Groundtrack_20150629T055900_20160701T120000_0001.EEF_2sec.txt.zip\n",
      "-rw-r-----    1 ftp      ftp       8180195 Jun 19  2015 Groundtrack_20150629T055900_20160701T120000_0001.EEF_60sec.txt.zip\n",
      "-rw-r-----    1 ftp      ftp      47195443 Jun 15  2016 groundtrack_20160701T120000_20170704T170000_0001.EEF_10sec.txt.zip\n",
      "-rw-r-----    1 ftp      ftp      219640723 Jun 15  2016 groundtrack_20160701T120000_20170704T170000_0001.EEF_2sec.txt.txt.zip\n",
      "-rw-r-----    1 ftp      ftp       8174996 Jun 15  2016 groundtrack_20160701T120000_20170704T170000_0001.EEF_60sec.txt.zip\n",
      "-rw-r-----    1 ftp      ftp      47206435 May 18  2017 groundtrack_20170704T172700_20180707T233000_0001.EEF_10sec.txt.zip\n",
      "-rw-r-----    1 ftp      ftp      219675784 May 18  2017 groundtrack_20170704T172700_20180707T233000_0001.EEF_2sec.txt.zip\n",
      "-rw-r-----    1 ftp      ftp       8176289 May 18  2017 groundtrack_20170704T172700_20180707T233000_0001.EEF_60sec.txt.zip\n",
      "-rw-r-----    1 ftp      ftp      47202142 May 09  2018 groundtrack_20180707T231200_20190711T050000_0001.EEF_10sec.txt.zip\n",
      "-rw-r-----    1 ftp      ftp      219678589 May 09  2018 groundtrack_20180707T231200_20190711T050000_0001.EEF_2sec.txt.zip\n",
      "-rw-r-----    1 ftp      ftp       8175653 May 09  2018 groundtrack_20180707T231200_20190711T050000_0001.EEF_60sec.txt.zip\n",
      "-rw-r-----    1 ftp      ftp      47211427 Jun 17 13:10 CRYOSAT2_ORBIT_GROUNDTRACK_20190711_040000_20200713_110000_10.txt.zip\n",
      "-rw-r-----    1 ftp      ftp      219701852 Jun 17 13:10 CRYOSAT2_ORBIT_GROUNDTRACK_20190711_040000_20200713_110000_2.txt.zip\n",
      "-rw-r-----    1 ftp      ftp       8177394 Jun 17 13:10 CRYOSAT2_ORBIT_GROUNDTRACK_20190711_040000_20200713_110000_60.txt.zip\n",
      "-rw-r-----    1 ftp      ftp      95951408 Jun 17 14:46 CRYOSAT2_ORBIT_SWATH_20190711_040000_20200713_110000.KML\n"
     ]
    }
   ],
   "source": [
    "for year in year_folders:\n",
    "    ftp.dir(year)"
   ]
  },
  {
   "cell_type": "code",
   "execution_count": 6,
   "metadata": {},
   "outputs": [
    {
     "name": "stdout",
     "output_type": "stream",
     "text": [
      "Full year 2010-2011\n",
      "Full year 2011-2012\n",
      "Full year 2012-2013\n",
      "Full year 2013-2014\n",
      "Full year 2014-2015\n",
      "Full year 2015-2016\n",
      "Full year 2016-2017\n",
      "Full year 2017-2018\n",
      "Full year 2018-2019\n",
      "Full year 2019-2020\n",
      "Ground Tracks in Google (kml)\n",
      "monthly_2010\n",
      "monthly_2011\n",
      "monthly_2012\n",
      "monthly_2013\n",
      "monthly_2014\n",
      "monthly_2015\n",
      "monthly_2016\n",
      "monthly_2017\n",
      "monthly_2018\n",
      "monthly_2019\n",
      "monthly_2020\n"
     ]
    },
    {
     "data": {
      "text/plain": [
       "'226 Directory send OK.'"
      ]
     },
     "execution_count": 6,
     "metadata": {},
     "output_type": "execute_result"
    }
   ],
   "source": [
    "ftp.retrlines('NLST')"
   ]
  },
  {
   "cell_type": "code",
   "execution_count": 32,
   "metadata": {},
   "outputs": [
    {
     "data": {
      "text/plain": [
       "['CRYOSAT2_ORBIT_GROUNDTRACK_20190711_040000_20200713_110000_10.txt.zip',\n",
       " 'CRYOSAT2_ORBIT_GROUNDTRACK_20190711_040000_20200713_110000_2.txt.zip',\n",
       " 'CRYOSAT2_ORBIT_GROUNDTRACK_20190711_040000_20200713_110000_60.txt.zip',\n",
       " 'CRYOSAT2_ORBIT_SWATH_20190711_040000_20200713_110000.KML']"
      ]
     },
     "execution_count": 32,
     "metadata": {},
     "output_type": "execute_result"
    }
   ],
   "source": [
    "filenames = [\"CRYOSAT2_ORBIT_GROUNDTRACK_20190711_040000_20200713_110000_10.txt.zip\",\n",
    "\"CRYOSAT2_ORBIT_GROUNDTRACK_20190711_040000_20200713_110000_2.txt.zip\",\n",
    "\"CRYOSAT2_ORBIT_GROUNDTRACK_20190711_040000_20200713_110000_60.txt.zip\",\n",
    "\"CRYOSAT2_ORBIT_SWATH_20190711_040000_20200713_110000.KML\"]\n",
    "filenames"
   ]
  },
  {
   "cell_type": "code",
   "execution_count": 33,
   "metadata": {},
   "outputs": [
    {
     "data": {
      "text/plain": [
       "'221 Goodbye.'"
      ]
     },
     "execution_count": 33,
     "metadata": {},
     "output_type": "execute_result"
    }
   ],
   "source": [
    "for file in filenames:\n",
    "    ftp.retrbinary(\"RETR \" + file, open(file, 'wb').write)\n",
    "ftp.quit()"
   ]
  },
  {
   "cell_type": "code",
   "execution_count": 6,
   "metadata": {},
   "outputs": [
    {
     "data": {
      "text/plain": [
       "['SUBCYCLE KML FILES FOR CYCLE 01 (2010 06 14  to 2011 06 17).tar.gz',\n",
       " 'SUBCYCLE KML FILES FOR CYCLE 02 (2011 06 17  to 2012 06 19).tar.gz',\n",
       " 'SUBCYCLE KML FILES FOR CYCLE 03 (2012 06 19  to 2013 06 22).tar.gz',\n",
       " 'SUBCYCLE KML FILES FOR CYCLE 04 (2013 06 22  to 2014 06 26).tar.gz',\n",
       " 'SUBCYCLE KML FILES FOR CYCLE 05 (2014 06 26 to 2015 06 29).tar.gz']"
      ]
     },
     "execution_count": 6,
     "metadata": {},
     "output_type": "execute_result"
    }
   ],
   "source": [
    "filenames = [\"SUBCYCLE KML FILES FOR CYCLE 01 (2010 06 14  to 2011 06 17).tar.gz\",\n",
    "\"SUBCYCLE KML FILES FOR CYCLE 02 (2011 06 17  to 2012 06 19).tar.gz\",\n",
    "\"SUBCYCLE KML FILES FOR CYCLE 03 (2012 06 19  to 2013 06 22).tar.gz\",\n",
    "\"SUBCYCLE KML FILES FOR CYCLE 04 (2013 06 22  to 2014 06 26).tar.gz\",\n",
    "\"SUBCYCLE KML FILES FOR CYCLE 05 (2014 06 26 to 2015 06 29).tar.gz\"]\n",
    "filenames"
   ]
  },
  {
   "cell_type": "code",
   "execution_count": 7,
   "metadata": {},
   "outputs": [
    {
     "data": {
      "text/plain": [
       "'221 Goodbye.'"
      ]
     },
     "execution_count": 7,
     "metadata": {},
     "output_type": "execute_result"
    }
   ],
   "source": [
    "for file in filenames:\n",
    "    ftp.retrbinary(\"RETR \" + file, open(file, 'wb').write)\n",
    "ftp.quit()"
   ]
  },
  {
   "cell_type": "code",
   "execution_count": null,
   "metadata": {},
   "outputs": [],
   "source": []
  }
 ],
 "metadata": {
  "kernelspec": {
   "display_name": "arran_gis",
   "language": "python",
   "name": "arran_gis"
  }
 },
 "nbformat": 4,
 "nbformat_minor": 2
}
