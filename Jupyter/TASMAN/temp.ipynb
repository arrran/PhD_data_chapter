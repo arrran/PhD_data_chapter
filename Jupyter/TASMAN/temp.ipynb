{
 "cells": [
  {
   "cell_type": "code",
   "execution_count": 1,
   "metadata": {},
   "outputs": [],
   "source": [
    "import matplotlib.pyplot as plt\n",
    "import numpy as np\n",
    "import glob\n",
    "from numpy import linalg as LA\n",
    "from functools import reduce\n",
    "import os\n",
    "import sys\n",
    "import time\n",
    "import datetime \n",
    "import pandas as pd\n",
    "\n",
    "from shapely.geometry import Point\n",
    "import fiona\n",
    "\n",
    "sys.path.append(os.path.abspath('/Users/home/whitefar/DATA/code/'))\n",
    "os.chdir(\"/Users/home/whitefar/DATA/TASMAN/ABSOLUTE/\")"
   ]
  },
  {
   "cell_type": "code",
   "execution_count": 2,
   "metadata": {},
   "outputs": [],
   "source": [
    "#with only the site_units that have data over the time period\n",
    "site_units = ['tal1arc2', 'tal2arc1', 'tac2arc5', 'tac3arc4', 'tar2arc6']\n",
    "\n",
    "dfs = {}  #dataframes\n",
    "\n",
    "for siteunit in site_units:\n",
    "    dfs[siteunit] = pd.read_csv(f\"/Volumes/arc_02/whitefar/DATA/TASMAN/GNSS_ABSOLUTE/GNSS_dataframe/{siteunit}_moreattributes.csv\",header=0)"
   ]
  },
  {
   "cell_type": "code",
   "execution_count": null,
   "metadata": {},
   "outputs": [],
   "source": []
  }
 ],
 "metadata": {
  "kernelspec": {
   "display_name": "Python 3",
   "language": "python",
   "name": "python3"
  },
  "language_info": {
   "codemirror_mode": {
    "name": "ipython",
    "version": 3
   },
   "file_extension": ".py",
   "mimetype": "text/x-python",
   "name": "python",
   "nbconvert_exporter": "python",
   "pygments_lexer": "ipython3",
   "version": "3.6.8"
  }
 },
 "nbformat": 4,
 "nbformat_minor": 2
}
