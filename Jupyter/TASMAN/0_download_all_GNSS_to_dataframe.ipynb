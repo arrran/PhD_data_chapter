{
 "cells": [
  {
   "cell_type": "code",
   "execution_count": 2,
   "metadata": {},
   "outputs": [],
   "source": [
    "import os\n",
    "import sys\n",
    "\n",
    "sys.path.append(os.path.abspath('/Users/home/whitefar/DATA/code/'))"
   ]
  },
  {
   "cell_type": "code",
   "execution_count": 3,
   "metadata": {},
   "outputs": [],
   "source": [
    "from GNSS_DATA import load_GNSSdata_for_site"
   ]
  },
  {
   "cell_type": "code",
   "execution_count": 5,
   "metadata": {},
   "outputs": [
    {
     "name": "stdout",
     "output_type": "stream",
     "text": [
      "tac3 arc4\n",
      "No files for arc4 tac3\n"
     ]
    }
   ],
   "source": [
    "site = \"tac3\"\n",
    "gdf = load_GNSSdata_for_site(site)"
   ]
  },
  {
   "cell_type": "code",
   "execution_count": null,
   "metadata": {},
   "outputs": [],
   "source": [
    "gdf."
   ]
  },
  {
   "cell_type": "code",
   "execution_count": null,
   "metadata": {},
   "outputs": [],
   "source": [
    "#print(\"still going\")\n",
    "#\n",
    "#output_folder = \"/Volumes/arc_02/whitefar/DATA/TASMAN/GNSS_ABSOLUTE/\"\n",
    "#\n",
    "#\n",
    "#\n",
    "#\n",
    "#for site in units:\n",
    "#    site_gdf = lload_GNSSdata_for_site(site)\n",
    "#    \n",
    "#    if 'geo_df' not in locals():\n",
    "#        geo_df = site_gdf\n",
    "#    else:\n",
    "#        geo_df = geo_df.append(site_gdf, ignore_index=True)\n",
    "#        \n",
    "#    del site_gdf\n",
    "#\n",
    "#geo_df.sort_values(by=['Timestamp', 'site'])\n",
    "#\n",
    "#geo_df.to_file(output_folder)\n",
    "#"
   ]
  }
 ],
 "metadata": {
  "kernelspec": {
   "display_name": "arran_gis",
   "language": "python",
   "name": "arran_gis"
  },
  "language_info": {
   "codemirror_mode": {
    "name": "ipython",
    "version": 3
   },
   "file_extension": ".py",
   "mimetype": "text/x-python",
   "name": "python",
   "nbconvert_exporter": "python",
   "pygments_lexer": "ipython3",
   "version": "3.7.3"
  }
 },
 "nbformat": 4,
 "nbformat_minor": 2
}
