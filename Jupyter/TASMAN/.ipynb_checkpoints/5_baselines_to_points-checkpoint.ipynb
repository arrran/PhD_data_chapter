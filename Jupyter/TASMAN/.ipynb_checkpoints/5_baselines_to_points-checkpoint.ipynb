{
 "cells": [
  {
   "cell_type": "code",
   "execution_count": 145,
   "metadata": {},
   "outputs": [],
   "source": [
    "import matplotlib.pyplot as plt\n",
    "import numpy as np\n",
    "import glob\n",
    "from numpy import linalg as LA\n",
    "from functools import reduce\n",
    "import os\n",
    "import sys\n",
    "import time\n",
    "import datetime \n",
    "import pandas as pd\n",
    "import geopandas as gpd\n",
    "\n",
    "from shapely.geometry import Point\n",
    "import shapely\n",
    "import fiona"
   ]
  },
  {
   "cell_type": "code",
   "execution_count": 2,
   "metadata": {},
   "outputs": [],
   "source": [
    "ldf = ['arc5arc4', 'arc1arc4', 'arc2arc1', 'arc2arc5', 'arc5arc6', 'arc1arc5', 'arc4arc6', 'arc1arc6']\n",
    "ddf = {} #dictionary of dataframes\n",
    "\n",
    "for df in ldf:\n",
    "    ddf[df] =  pd.read_csv(f\"/Volumes/arc_02/whitefar/DATA/TASMAN/GNSS_relative/BASELINES/dataframe_{df}_may1-18_2016.csv\",header=0)"
   ]
  },
  {
   "cell_type": "code",
   "execution_count": 4,
   "metadata": {},
   "outputs": [
    {
     "data": {
      "text/html": [
       "<div>\n",
       "<style scoped>\n",
       "    .dataframe tbody tr th:only-of-type {\n",
       "        vertical-align: middle;\n",
       "    }\n",
       "\n",
       "    .dataframe tbody tr th {\n",
       "        vertical-align: top;\n",
       "    }\n",
       "\n",
       "    .dataframe thead th {\n",
       "        text-align: right;\n",
       "    }\n",
       "</style>\n",
       "<table border=\"1\" class=\"dataframe\">\n",
       "  <thead>\n",
       "    <tr style=\"text-align: right;\">\n",
       "      <th></th>\n",
       "      <th>YY</th>\n",
       "      <th>MM</th>\n",
       "      <th>DD</th>\n",
       "      <th>HR</th>\n",
       "      <th>MIN</th>\n",
       "      <th>Sec</th>\n",
       "      <th>dNorth</th>\n",
       "      <th>+-</th>\n",
       "      <th>dEast</th>\n",
       "      <th>+-.1</th>\n",
       "      <th>...</th>\n",
       "      <th>+-.3</th>\n",
       "      <th>Fract_DOY</th>\n",
       "      <th>index</th>\n",
       "      <th>Epoch</th>\n",
       "      <th>#BF</th>\n",
       "      <th>NotF</th>\n",
       "      <th>Rho_UA</th>\n",
       "      <th>Timestamp</th>\n",
       "      <th>unit1</th>\n",
       "      <th>unit2</th>\n",
       "    </tr>\n",
       "  </thead>\n",
       "  <tbody>\n",
       "    <tr>\n",
       "      <th>0</th>\n",
       "      <td>2016</td>\n",
       "      <td>5</td>\n",
       "      <td>1</td>\n",
       "      <td>0</td>\n",
       "      <td>0</td>\n",
       "      <td>0</td>\n",
       "      <td>2075.3855</td>\n",
       "      <td>0.0219</td>\n",
       "      <td>494.2468</td>\n",
       "      <td>0.0169</td>\n",
       "      <td>...</td>\n",
       "      <td>64.12</td>\n",
       "      <td>122.000000</td>\n",
       "      <td>1</td>\n",
       "      <td>10</td>\n",
       "      <td>0</td>\n",
       "      <td>K</td>\n",
       "      <td>0.017</td>\n",
       "      <td>1.462018e+09</td>\n",
       "      <td>arc5</td>\n",
       "      <td>arc4</td>\n",
       "    </tr>\n",
       "    <tr>\n",
       "      <th>1</th>\n",
       "      <td>2016</td>\n",
       "      <td>5</td>\n",
       "      <td>1</td>\n",
       "      <td>0</td>\n",
       "      <td>0</td>\n",
       "      <td>30</td>\n",
       "      <td>2075.3694</td>\n",
       "      <td>0.0221</td>\n",
       "      <td>494.2466</td>\n",
       "      <td>0.0173</td>\n",
       "      <td>...</td>\n",
       "      <td>47.50</td>\n",
       "      <td>122.000347</td>\n",
       "      <td>2</td>\n",
       "      <td>10</td>\n",
       "      <td>0</td>\n",
       "      <td>S</td>\n",
       "      <td>0.009</td>\n",
       "      <td>1.462018e+09</td>\n",
       "      <td>arc5</td>\n",
       "      <td>arc4</td>\n",
       "    </tr>\n",
       "    <tr>\n",
       "      <th>2</th>\n",
       "      <td>2016</td>\n",
       "      <td>5</td>\n",
       "      <td>1</td>\n",
       "      <td>0</td>\n",
       "      <td>1</td>\n",
       "      <td>0</td>\n",
       "      <td>2075.3630</td>\n",
       "      <td>0.0065</td>\n",
       "      <td>494.2412</td>\n",
       "      <td>0.0043</td>\n",
       "      <td>...</td>\n",
       "      <td>47.50</td>\n",
       "      <td>122.000694</td>\n",
       "      <td>3</td>\n",
       "      <td>12</td>\n",
       "      <td>0</td>\n",
       "      <td>S</td>\n",
       "      <td>0.001</td>\n",
       "      <td>1.462018e+09</td>\n",
       "      <td>arc5</td>\n",
       "      <td>arc4</td>\n",
       "    </tr>\n",
       "    <tr>\n",
       "      <th>3</th>\n",
       "      <td>2016</td>\n",
       "      <td>5</td>\n",
       "      <td>1</td>\n",
       "      <td>0</td>\n",
       "      <td>1</td>\n",
       "      <td>30</td>\n",
       "      <td>2075.3712</td>\n",
       "      <td>0.0064</td>\n",
       "      <td>494.2368</td>\n",
       "      <td>0.0043</td>\n",
       "      <td>...</td>\n",
       "      <td>47.50</td>\n",
       "      <td>122.001042</td>\n",
       "      <td>4</td>\n",
       "      <td>12</td>\n",
       "      <td>0</td>\n",
       "      <td>S</td>\n",
       "      <td>0.001</td>\n",
       "      <td>1.462018e+09</td>\n",
       "      <td>arc5</td>\n",
       "      <td>arc4</td>\n",
       "    </tr>\n",
       "    <tr>\n",
       "      <th>4</th>\n",
       "      <td>2016</td>\n",
       "      <td>5</td>\n",
       "      <td>1</td>\n",
       "      <td>0</td>\n",
       "      <td>2</td>\n",
       "      <td>0</td>\n",
       "      <td>2075.3715</td>\n",
       "      <td>0.0064</td>\n",
       "      <td>494.2394</td>\n",
       "      <td>0.0043</td>\n",
       "      <td>...</td>\n",
       "      <td>47.50</td>\n",
       "      <td>122.001389</td>\n",
       "      <td>5</td>\n",
       "      <td>12</td>\n",
       "      <td>0</td>\n",
       "      <td>S</td>\n",
       "      <td>0.002</td>\n",
       "      <td>1.462018e+09</td>\n",
       "      <td>arc5</td>\n",
       "      <td>arc4</td>\n",
       "    </tr>\n",
       "    <tr>\n",
       "      <th>...</th>\n",
       "      <td>...</td>\n",
       "      <td>...</td>\n",
       "      <td>...</td>\n",
       "      <td>...</td>\n",
       "      <td>...</td>\n",
       "      <td>...</td>\n",
       "      <td>...</td>\n",
       "      <td>...</td>\n",
       "      <td>...</td>\n",
       "      <td>...</td>\n",
       "      <td>...</td>\n",
       "      <td>...</td>\n",
       "      <td>...</td>\n",
       "      <td>...</td>\n",
       "      <td>...</td>\n",
       "      <td>...</td>\n",
       "      <td>...</td>\n",
       "      <td>...</td>\n",
       "      <td>...</td>\n",
       "      <td>...</td>\n",
       "      <td>...</td>\n",
       "    </tr>\n",
       "    <tr>\n",
       "      <th>45902</th>\n",
       "      <td>2016</td>\n",
       "      <td>5</td>\n",
       "      <td>17</td>\n",
       "      <td>23</td>\n",
       "      <td>57</td>\n",
       "      <td>0</td>\n",
       "      <td>2073.8326</td>\n",
       "      <td>0.0043</td>\n",
       "      <td>495.1586</td>\n",
       "      <td>0.0032</td>\n",
       "      <td>...</td>\n",
       "      <td>47.49</td>\n",
       "      <td>138.997917</td>\n",
       "      <td>2875</td>\n",
       "      <td>14</td>\n",
       "      <td>0</td>\n",
       "      <td>S</td>\n",
       "      <td>0.004</td>\n",
       "      <td>1.463486e+09</td>\n",
       "      <td>arc5</td>\n",
       "      <td>arc4</td>\n",
       "    </tr>\n",
       "    <tr>\n",
       "      <th>45903</th>\n",
       "      <td>2016</td>\n",
       "      <td>5</td>\n",
       "      <td>17</td>\n",
       "      <td>23</td>\n",
       "      <td>57</td>\n",
       "      <td>30</td>\n",
       "      <td>2073.8252</td>\n",
       "      <td>0.0043</td>\n",
       "      <td>495.1547</td>\n",
       "      <td>0.0032</td>\n",
       "      <td>...</td>\n",
       "      <td>47.49</td>\n",
       "      <td>138.998264</td>\n",
       "      <td>2876</td>\n",
       "      <td>14</td>\n",
       "      <td>0</td>\n",
       "      <td>S</td>\n",
       "      <td>0.003</td>\n",
       "      <td>1.463486e+09</td>\n",
       "      <td>arc5</td>\n",
       "      <td>arc4</td>\n",
       "    </tr>\n",
       "    <tr>\n",
       "      <th>45904</th>\n",
       "      <td>2016</td>\n",
       "      <td>5</td>\n",
       "      <td>17</td>\n",
       "      <td>23</td>\n",
       "      <td>58</td>\n",
       "      <td>0</td>\n",
       "      <td>2073.8291</td>\n",
       "      <td>0.0043</td>\n",
       "      <td>495.1552</td>\n",
       "      <td>0.0032</td>\n",
       "      <td>...</td>\n",
       "      <td>47.49</td>\n",
       "      <td>138.998611</td>\n",
       "      <td>2877</td>\n",
       "      <td>14</td>\n",
       "      <td>0</td>\n",
       "      <td>S</td>\n",
       "      <td>0.003</td>\n",
       "      <td>1.463486e+09</td>\n",
       "      <td>arc5</td>\n",
       "      <td>arc4</td>\n",
       "    </tr>\n",
       "    <tr>\n",
       "      <th>45905</th>\n",
       "      <td>2016</td>\n",
       "      <td>5</td>\n",
       "      <td>17</td>\n",
       "      <td>23</td>\n",
       "      <td>58</td>\n",
       "      <td>30</td>\n",
       "      <td>2073.8290</td>\n",
       "      <td>0.0043</td>\n",
       "      <td>495.1601</td>\n",
       "      <td>0.0032</td>\n",
       "      <td>...</td>\n",
       "      <td>47.49</td>\n",
       "      <td>138.998958</td>\n",
       "      <td>2878</td>\n",
       "      <td>14</td>\n",
       "      <td>0</td>\n",
       "      <td>S</td>\n",
       "      <td>0.002</td>\n",
       "      <td>1.463486e+09</td>\n",
       "      <td>arc5</td>\n",
       "      <td>arc4</td>\n",
       "    </tr>\n",
       "    <tr>\n",
       "      <th>45906</th>\n",
       "      <td>2016</td>\n",
       "      <td>5</td>\n",
       "      <td>17</td>\n",
       "      <td>23</td>\n",
       "      <td>59</td>\n",
       "      <td>0</td>\n",
       "      <td>2073.8329</td>\n",
       "      <td>0.0043</td>\n",
       "      <td>495.1659</td>\n",
       "      <td>0.0032</td>\n",
       "      <td>...</td>\n",
       "      <td>47.49</td>\n",
       "      <td>138.999306</td>\n",
       "      <td>2879</td>\n",
       "      <td>14</td>\n",
       "      <td>0</td>\n",
       "      <td>S</td>\n",
       "      <td>0.002</td>\n",
       "      <td>1.463486e+09</td>\n",
       "      <td>arc5</td>\n",
       "      <td>arc4</td>\n",
       "    </tr>\n",
       "  </tbody>\n",
       "</table>\n",
       "<p>45907 rows × 25 columns</p>\n",
       "</div>"
      ],
      "text/plain": [
       "         YY  MM  DD  HR  MIN  Sec     dNorth      +-     dEast    +-.1  ...  \\\n",
       "0      2016   5   1   0    0    0  2075.3855  0.0219  494.2468  0.0169  ...   \n",
       "1      2016   5   1   0    0   30  2075.3694  0.0221  494.2466  0.0173  ...   \n",
       "2      2016   5   1   0    1    0  2075.3630  0.0065  494.2412  0.0043  ...   \n",
       "3      2016   5   1   0    1   30  2075.3712  0.0064  494.2368  0.0043  ...   \n",
       "4      2016   5   1   0    2    0  2075.3715  0.0064  494.2394  0.0043  ...   \n",
       "...     ...  ..  ..  ..  ...  ...        ...     ...       ...     ...  ...   \n",
       "45902  2016   5  17  23   57    0  2073.8326  0.0043  495.1586  0.0032  ...   \n",
       "45903  2016   5  17  23   57   30  2073.8252  0.0043  495.1547  0.0032  ...   \n",
       "45904  2016   5  17  23   58    0  2073.8291  0.0043  495.1552  0.0032  ...   \n",
       "45905  2016   5  17  23   58   30  2073.8290  0.0043  495.1601  0.0032  ...   \n",
       "45906  2016   5  17  23   59    0  2073.8329  0.0043  495.1659  0.0032  ...   \n",
       "\n",
       "        +-.3   Fract_DOY  index  Epoch  #BF  NotF  Rho_UA     Timestamp  \\\n",
       "0      64.12  122.000000      1     10    0     K   0.017  1.462018e+09   \n",
       "1      47.50  122.000347      2     10    0     S   0.009  1.462018e+09   \n",
       "2      47.50  122.000694      3     12    0     S   0.001  1.462018e+09   \n",
       "3      47.50  122.001042      4     12    0     S   0.001  1.462018e+09   \n",
       "4      47.50  122.001389      5     12    0     S   0.002  1.462018e+09   \n",
       "...      ...         ...    ...    ...  ...   ...     ...           ...   \n",
       "45902  47.49  138.997917   2875     14    0     S   0.004  1.463486e+09   \n",
       "45903  47.49  138.998264   2876     14    0     S   0.003  1.463486e+09   \n",
       "45904  47.49  138.998611   2877     14    0     S   0.003  1.463486e+09   \n",
       "45905  47.49  138.998958   2878     14    0     S   0.002  1.463486e+09   \n",
       "45906  47.49  138.999306   2879     14    0     S   0.002  1.463486e+09   \n",
       "\n",
       "       unit1  unit2  \n",
       "0       arc5   arc4  \n",
       "1       arc5   arc4  \n",
       "2       arc5   arc4  \n",
       "3       arc5   arc4  \n",
       "4       arc5   arc4  \n",
       "...      ...    ...  \n",
       "45902   arc5   arc4  \n",
       "45903   arc5   arc4  \n",
       "45904   arc5   arc4  \n",
       "45905   arc5   arc4  \n",
       "45906   arc5   arc4  \n",
       "\n",
       "[45907 rows x 25 columns]"
      ]
     },
     "execution_count": 4,
     "metadata": {},
     "output_type": "execute_result"
    }
   ],
   "source": [
    "ddf['arc5arc4']"
   ]
  },
  {
   "cell_type": "markdown",
   "metadata": {},
   "source": [
    "# set into coords\n",
    "\n",
    "Set arc1 as (0,0) and the others relative to it"
   ]
  },
  {
   "cell_type": "code",
   "execution_count": 9,
   "metadata": {},
   "outputs": [
    {
     "name": "stdout",
     "output_type": "stream",
     "text": [
      "arc1 arc4\n"
     ]
    }
   ],
   "source": [
    "df = 'arc1arc4'\n",
    "\n",
    "site1 = df[:4]\n",
    "site2 = df[4:]\n",
    "print(site1,site2)\n"
   ]
  },
  {
   "cell_type": "code",
   "execution_count": 23,
   "metadata": {},
   "outputs": [],
   "source": []
  },
  {
   "cell_type": "code",
   "execution_count": 255,
   "metadata": {},
   "outputs": [
    {
     "name": "stdout",
     "output_type": "stream",
     "text": [
      "arc1arc4\n",
      "arc4 written to gdf\n",
      "arc2arc1\n",
      "arc2 written to gdf\n",
      "arc1arc5\n",
      "arc5 written to gdf\n",
      "arc1arc6\n",
      "arc6 written to gdf\n"
     ]
    }
   ],
   "source": [
    "gdf={}\n",
    "\n",
    "for df in ldf:\n",
    "    \n",
    "    if df.find(\"arc1\") == 0:\n",
    "        flipped = 1\n",
    "        site = df[4:]\n",
    "    elif df.find(\"arc1\") == 4:\n",
    "        flipped = -1\n",
    "        site = df[:4]\n",
    "    else:\n",
    "        continue\n",
    "        \n",
    "    print(df)\n",
    "    \n",
    "    geometry = [Point(xy) for xy in zip( flipped*ddf[df].dEast, flipped*ddf[df].dNorth)]\n",
    "    gdf[site] = gpd.GeoDataFrame(geometry=geometry)\n",
    "    gdf[site][\"Timestamp\"] = ddf[df].Timestamp\n",
    "    print(site+\" written to gdf\")\n",
    "    \n",
    "#and add arc1 as a zero    \n",
    "geometry = [Point(0,0)]*gdf['arc4'].size\n",
    "gdf['arc1'] = gpd.GeoDataFrame(geometry=geometry)    \n",
    "gdf['arc1'][\"Timestamp\"] = ddf[df].Timestamp"
   ]
  },
  {
   "cell_type": "code",
   "execution_count": 256,
   "metadata": {},
   "outputs": [
    {
     "data": {
      "text/plain": [
       "dict_keys(['arc4', 'arc2', 'arc5', 'arc6', 'arc1'])"
      ]
     },
     "execution_count": 256,
     "metadata": {},
     "output_type": "execute_result"
    }
   ],
   "source": [
    "gdf.keys()"
   ]
  },
  {
   "cell_type": "code",
   "execution_count": 257,
   "metadata": {},
   "outputs": [
    {
     "data": {
      "text/plain": [
       "84454"
      ]
     },
     "execution_count": 257,
     "metadata": {},
     "output_type": "execute_result"
    }
   ],
   "source": [
    "gdf['arc4'].size"
   ]
  },
  {
   "cell_type": "code",
   "execution_count": 108,
   "metadata": {},
   "outputs": [],
   "source": []
  },
  {
   "cell_type": "markdown",
   "metadata": {},
   "source": [
    "### Check distance between 5 and 4 calculated from 1 to 5 and 1 to 4 is the same as between 5 and 4 directly\n",
    "\n"
   ]
  },
  {
   "cell_type": "code",
   "execution_count": 70,
   "metadata": {},
   "outputs": [],
   "source": [
    "#relative to 1\n",
    "dist_5_4rel1 =  [Point.distance(gdf['arc4'].geometry[i]) for i,Point in enumerate(gdf['arc5'].geometry)] #note the 1:, equivalent to i+1"
   ]
  },
  {
   "cell_type": "code",
   "execution_count": 65,
   "metadata": {},
   "outputs": [],
   "source": [
    "geometry = [Point(xy) for xy in zip( ddf[\"arc5arc4\"].dEast, ddf[\"arc5arc4\"].dNorth)]\n",
    "points5to4 = gpd.GeoDataFrame(geometry=geometry)"
   ]
  },
  {
   "cell_type": "code",
   "execution_count": 71,
   "metadata": {},
   "outputs": [],
   "source": [
    "p0 = Point(0,0)\n",
    "dist_54 = [p0.distance(point) for i,point in enumerate(points5to4.geometry)]"
   ]
  },
  {
   "cell_type": "code",
   "execution_count": 94,
   "metadata": {},
   "outputs": [
    {
     "data": {
      "text/plain": [
       "<matplotlib.collections.LineCollection at 0x7f27672dbd68>"
      ]
     },
     "execution_count": 94,
     "metadata": {},
     "output_type": "execute_result"
    },
    {
     "data": {
      "image/png": "[encoded data removed]",
      "text/plain": [
       "<Figure size 432x288 with 1 Axes>"
      ]
     },
     "metadata": {
      "needs_background": "light"
     },
     "output_type": "display_data"
    }
   ],
   "source": [
    "diff54 = np.array([dist_54[i] - d for  i,d in enumerate(dist_5_4rel1) ])\n",
    "plt.plot(diff54)\n",
    "plt.hlines(diff54.mean(),-2000,45000)"
   ]
  },
  {
   "cell_type": "code",
   "execution_count": 78,
   "metadata": {},
   "outputs": [
    {
     "data": {
      "text/plain": [
       "[<matplotlib.lines.Line2D at 0x7f27676aaf60>]"
      ]
     },
     "execution_count": 78,
     "metadata": {},
     "output_type": "execute_result"
    },
    {
     "data": {
      "image/png": "[encoded data removed]",
      "text/plain": [
       "<Figure size 432x288 with 1 Axes>"
      ]
     },
     "metadata": {
      "needs_background": "light"
     },
     "output_type": "display_data"
    }
   ],
   "source": [
    "plt.plot(dist_54[:100])\n",
    "plt.plot(dist_5_4rel1[:100])\n"
   ]
  },
  {
   "cell_type": "markdown",
   "metadata": {},
   "source": [
    "so yes there is an offset, but its pretty constant."
   ]
  },
  {
   "cell_type": "code",
   "execution_count": 110,
   "metadata": {},
   "outputs": [
    {
     "data": {
      "text/plain": [
       "<matplotlib.legend.Legend at 0x7f27670d39b0>"
      ]
     },
     "execution_count": 110,
     "metadata": {},
     "output_type": "execute_result"
    },
    {
     "data": {
      "image/png": "[encoded data removed]",
      "text/plain": [
       "<Figure size 720x720 with 1 Axes>"
      ]
     },
     "metadata": {
      "needs_background": "light"
     },
     "output_type": "display_data"
    }
   ],
   "source": [
    "fig, ax = plt.subplots(1,1,figsize=[10,10])\n",
    "for df in gdf:\n",
    "    gdf[df].plot(ax=ax)\n",
    "    plt.grid()\n",
    "\n",
    "plt.legend(gdf.keys())"
   ]
  },
  {
   "cell_type": "markdown",
   "metadata": {},
   "source": [
    "## Convert relative points to real geopoints\n",
    "\n",
    "### import arc1"
   ]
  },
  {
   "cell_type": "code",
   "execution_count": 151,
   "metadata": {},
   "outputs": [],
   "source": [
    "siteunit = 'tal2arc1'\n",
    "arc1_abs_gdf = gpd.read_file(f\"/Volumes/arc_02/whitefar/DATA/TASMAN/GNSS_ABSOLUTE/GNSS_dataframe/{siteunit}_moreattributes.shp\",header=0)"
   ]
  },
  {
   "cell_type": "markdown",
   "metadata": {},
   "source": [
    "### check that it has the same times as our relative points"
   ]
  },
  {
   "cell_type": "code",
   "execution_count": 169,
   "metadata": {},
   "outputs": [
    {
     "name": "stdout",
     "output_type": "stream",
     "text": [
      "42227 40661\n"
     ]
    }
   ],
   "source": [
    "print(arc1_abs_gdf.Timestamp.size,gdf[\"arc2\"][\"Timestamp\"].size)"
   ]
  },
  {
   "cell_type": "markdown",
   "metadata": {},
   "source": [
    "### No it doesn't. Show the time period they cover:"
   ]
  },
  {
   "cell_type": "code",
   "execution_count": 258,
   "metadata": {},
   "outputs": [
    {
     "name": "stdout",
     "output_type": "stream",
     "text": [
      "from    1462017600.0 1462017600.0 1462017600.0\n",
      "till    1463284800.0 1463245170.0 1463486400.0\n"
     ]
    }
   ],
   "source": [
    "start = datetime.datetime(2016, 5, 1).timestamp()\n",
    "finish = datetime.datetime(2016, 5, 18).timestamp()\n",
    "print(\"from   \",arc1_abs_gdf.Timestamp[0],gdf[\"arc2\"].Timestamp[0],start)\n",
    "print(\"till   \",arc1_abs_gdf.Timestamp[42226],gdf[\"arc2\"].Timestamp[40660],finish)\n"
   ]
  },
  {
   "cell_type": "code",
   "execution_count": 259,
   "metadata": {},
   "outputs": [],
   "source": [
    "# where do they start differing?\n",
    "differentimeindex = np.argwhere(gdf[\"arc2\"].Timestamp.to_numpy() - arc1_abs_gdf.Timestamp.to_numpy()[:40661] != 0).flatten()"
   ]
  },
  {
   "cell_type": "code",
   "execution_count": 260,
   "metadata": {},
   "outputs": [],
   "source": [
    "# cut the rows which are at different times\n",
    "arc1_origin = arc1_abs_gdf.iloc[:differentimeindex[0]]\n",
    "\n",
    "rgdf = {} #reduced geodataframe\n",
    "for name in gdf:\n",
    "    rgdf[name] = gdf[name].iloc[:differentimeindex[0]]"
   ]
  },
  {
   "cell_type": "code",
   "execution_count": 261,
   "metadata": {},
   "outputs": [
    {
     "name": "stdout",
     "output_type": "stream",
     "text": [
      "(0,)\n",
      "(0,)\n",
      "(0,)\n",
      "(0,)\n",
      "(0,)\n"
     ]
    }
   ],
   "source": [
    "### Now recheck the times\n",
    "for name in gdf:\n",
    "    differentimeindex = np.argwhere(rgdf[name].Timestamp.to_numpy() - arc1_origin.Timestamp.to_numpy() != 0).flatten()\n",
    "    print(differentimeindex.shape)"
   ]
  },
  {
   "cell_type": "markdown",
   "metadata": {},
   "source": [
    "## We now have scynchronous dataframes\n",
    "\n",
    "# Add the arc1 to each relative point to make them geopoints"
   ]
  },
  {
   "cell_type": "code",
   "execution_count": null,
   "metadata": {},
   "outputs": [],
   "source": []
  },
  {
   "cell_type": "code",
   "execution_count": null,
   "metadata": {},
   "outputs": [],
   "source": []
  },
  {
   "cell_type": "code",
   "execution_count": null,
   "metadata": {},
   "outputs": [],
   "source": []
  },
  {
   "cell_type": "code",
   "execution_count": 262,
   "metadata": {},
   "outputs": [
    {
     "data": {
      "text/plain": [
       "['arc4', 'arc2', 'arc5', 'arc6', 'arc1']"
      ]
     },
     "execution_count": 262,
     "metadata": {},
     "output_type": "execute_result"
    }
   ],
   "source": [
    "out_gdfnames = list(gdf.keys())\n",
    "out_gdfnames"
   ]
  },
  {
   "cell_type": "code",
   "execution_count": 263,
   "metadata": {},
   "outputs": [
    {
     "name": "stdout",
     "output_type": "stream",
     "text": [
      "arc4\n",
      "arc2\n",
      "arc5\n",
      "arc6\n",
      "arc1\n"
     ]
    }
   ],
   "source": [
    "out_gdfs = {}\n",
    "\n",
    "out_gdfs['arc1'] = arc1_origin\n",
    "\n",
    "for name in out_gdfnames:\n",
    "    \n",
    "    print(name)\n",
    "        \n",
    "    x, y = [rgdf[name].geometry.x + arc1_origin.geometry.x,rgdf[name].geometry.y + arc1_origin.geometry.y]\n",
    "    geometry = [Point(xy) for xy in zip(x,y)]\n",
    "    out_gdfs[name] = gpd.GeoDataFrame(geometry=geometry)\n",
    "    out_gdfs[name][\"Timestamp\"] = rgdf[name].Timestamp\n",
    "    \n",
    "    "
   ]
  },
  {
   "cell_type": "code",
   "execution_count": 266,
   "metadata": {},
   "outputs": [
    {
     "data": {
      "image/svg+xml": [
       "<svg xmlns=\"http://www.w3.org/2000/svg\" xmlns:xlink=\"http://www.w3.org/1999/xlink\" width=\"100.0\" height=\"100.0\" viewBox=\"1374536.0095089653 5166109.553149848 2.0 2.0\" preserveAspectRatio=\"xMinYMin meet\"><g transform=\"matrix(1,0,0,-1,0,10332221.106299696)\"><circle cx=\"1374537.0095089653\" cy=\"5166110.553149848\" r=\"0.06\" stroke=\"#555555\" stroke-width=\"0.02\" fill=\"#66cc99\" opacity=\"0.6\" /></g></svg>"
      ],
      "text/plain": [
       "<shapely.geometry.point.Point at 0x7f2761794ac8>"
      ]
     },
     "execution_count": 266,
     "metadata": {},
     "output_type": "execute_result"
    }
   ],
   "source": []
  },
  {
   "cell_type": "code",
   "execution_count": 267,
   "metadata": {},
   "outputs": [
    {
     "data": {
      "text/plain": [
       "<matplotlib.legend.Legend at 0x7f275d47fa90>"
      ]
     },
     "execution_count": 267,
     "metadata": {},
     "output_type": "execute_result"
    },
    {
     "data": {
      "image/png": "[encoded data removed]",
      "text/plain": [
       "<Figure size 720x720 with 1 Axes>"
      ]
     },
     "metadata": {
      "needs_background": "light"
     },
     "output_type": "display_data"
    }
   ],
   "source": [
    "fig, ax = plt.subplots(1,1,figsize=[10,10])\n",
    "for df in out_gdfs:\n",
    "    out_gdfs[df].plot(ax=ax)\n",
    "    plt.grid()\n",
    "\n",
    "plt.legend(out_gdfs.keys())"
   ]
  },
  {
   "cell_type": "code",
   "execution_count": 268,
   "metadata": {},
   "outputs": [
    {
     "data": {
      "image/png": "[encoded data removed]",
      "text/plain": [
       "<Figure size 864x576 with 5 Axes>"
      ]
     },
     "metadata": {
      "needs_background": "light"
     },
     "output_type": "display_data"
    }
   ],
   "source": [
    "fig, axs = plt.subplots(1,5,figsize=[12,8],gridspec_kw = {'height_ratios':[1]})\n",
    "axs = axs.ravel()\n",
    "for i,df in enumerate(out_gdfs):\n",
    "    \n",
    "    ymin = out_gdfs[df].geometry.y.to_numpy().min()\n",
    "    out_gdfs[df].plot(ax=axs[i]).set_ylim(ymin-1,ymin+6)\n",
    "    axs[i].grid()\n"
   ]
  },
  {
   "cell_type": "markdown",
   "metadata": {},
   "source": [
    "# Export the abs_from_rel_arc1 file\n",
    "\n",
    "This means, absolute points, calculated as relative distances from the absolute arc1"
   ]
  },
  {
   "cell_type": "code",
   "execution_count": null,
   "metadata": {},
   "outputs": [],
   "source": [
    "for gdf in gdfs:\n",
    "    df_notime[gdf].to_file(f\"/Volumes/arc_02/whitefar/DATA/TASMAN/GNSS_ABSOLUTE/GNSS_dataframe/{gdf}_abs_from_rel_arc1.shp\")"
   ]
  }
 ],
 "metadata": {
  "kernelspec": {
   "display_name": "arran_gis",
   "language": "python",
   "name": "arran_gis"
  },
  "language_info": {
   "codemirror_mode": {
    "name": "ipython",
    "version": 3
   },
   "file_extension": ".py",
   "mimetype": "text/x-python",
   "name": "python",
   "nbconvert_exporter": "python",
   "pygments_lexer": "ipython3",
   "version": "3.7.3"
  }
 },
 "nbformat": 4,
 "nbformat_minor": 2
}
