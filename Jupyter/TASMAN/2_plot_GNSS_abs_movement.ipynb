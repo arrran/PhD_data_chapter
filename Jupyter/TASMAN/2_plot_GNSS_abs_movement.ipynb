{
 "cells": [
  {
   "cell_type": "markdown",
   "metadata": {},
   "source": [
    "# Plot GNSS movement, from absolute position data\n",
    "\n",
    "Using the pandas series,"
   ]
  },
  {
   "cell_type": "code",
   "execution_count": 1,
   "metadata": {},
   "outputs": [],
   "source": [
    "import matplotlib.pyplot as plt\n",
    "import numpy as np\n",
    "import glob\n",
    "from numpy import linalg as LA\n",
    "from functools import reduce\n",
    "import os\n",
    "import sys\n",
    "import time\n",
    "import datetime \n",
    "import pandas as pd\n",
    "import geopandas as gpd\n",
    "\n",
    "from geopandas import GeoDataFrame\n",
    "from shapely.geometry import Point\n",
    "import fiona\n",
    "\n",
    "sys.path.append(os.path.abspath('/Users/home/whitefar/DATA/code/'))\n",
    "os.chdir(\"/Users/home/whitefar/DATA/TASMAN/ABSOLUTE/\")"
   ]
  },
  {
   "cell_type": "code",
   "execution_count": 8,
   "metadata": {},
   "outputs": [],
   "source": [
    "#with only the site_units that have data over the time period\n",
    "site_units = [['tal1', 'arc2'], ['tal2', 'arc1'], ['tac2', 'arc5'], ['tac3', 'arc4'], ['tar2', 'arc6']] #these are the ones with data\n",
    "\n",
    "dfs = {}  #dataframes\n",
    "\n",
    "for site, unit in site_units:\n",
    "    dfs[site+unit] = pd.read_csv(f\"/Volumes/arc_02/whitefar/DATA/TASMAN/GNSS_ABSOLUTE/GNSS_dataframe/{site+unit}_moreattributes.csv\",index_col=0)"
   ]
  },
  {
   "cell_type": "markdown",
   "metadata": {},
   "source": [
    "## make a geodataseries\n"
   ]
  },
  {
   "cell_type": "code",
   "execution_count": 13,
   "metadata": {},
   "outputs": [
    {
     "data": {
      "text/plain": [
       "0              POINT (-43.648039569 170.20091327)\n",
       "1             POINT (-43.648039386 170.200913297)\n",
       "2             POINT (-43.648039422 170.200913215)\n",
       "3             POINT (-43.648039462 170.200913311)\n",
       "4             POINT (-43.648039426 170.200913323)\n",
       "                           ...                   \n",
       "43801         POINT (-43.648073208 170.200898615)\n",
       "43802    POINT (-43.64807324100001 170.200898541)\n",
       "43803         POINT (-43.648073247 170.200898609)\n",
       "43804         POINT (-43.648073158 170.200898619)\n",
       "43805    POINT (-43.64807323100001 170.200898615)\n",
       "Name: Points, Length: 43806, dtype: object"
      ]
     },
     "execution_count": 13,
     "metadata": {},
     "output_type": "execute_result"
    }
   ],
   "source": [
    "dfe = dfs['tal1arc2']\n",
    "dfe.Points"
   ]
  },
  {
   "cell_type": "code",
   "execution_count": 20,
   "metadata": {},
   "outputs": [],
   "source": [
    "crs = {'init': 'epsg:4326'} \n",
    "gdfs = {}\n",
    "\n",
    "for df in dfs:\n",
    "    geometry = [Point(xy) for xy in zip(dfs[df].Latitude, dfs[df].Longitude)]\n",
    "    \n",
    "    gdfs[df] = GeoDataFrame(dfs[df], crs=crs, geometry=geometry)  "
   ]
  },
  {
   "cell_type": "code",
   "execution_count": 38,
   "metadata": {},
   "outputs": [
    {
     "name": "stdout",
     "output_type": "stream",
     "text": [
      "0.004096977008516165\n"
     ]
    }
   ],
   "source": [
    "gdfe  = gdfs['tal1arc2']\n",
    "print(gdfe.cumulative_distance.to_numpy().max())"
   ]
  },
  {
   "cell_type": "code",
   "execution_count": 31,
   "metadata": {},
   "outputs": [
    {
     "data": {
      "text/plain": [
       "<matplotlib.axes._subplots.AxesSubplot at 0x7fecf74f8470>"
      ]
     },
     "execution_count": 31,
     "metadata": {},
     "output_type": "execute_result"
    },
    {
     "data": {
      "image/png": "[encoded data removed]",
      "text/plain": [
       "<Figure size 432x288 with 1 Axes>"
      ]
     },
     "metadata": {
      "needs_background": "light"
     },
     "output_type": "display_data"
    }
   ],
   "source": [
    "fig, ax = plt.subplots(1, 1)\n",
    "gdfe.plot(column=\"Points\",ax=ax)"
   ]
  },
  {
   "cell_type": "code",
   "execution_count": 29,
   "metadata": {},
   "outputs": [
    {
     "data": {
      "text/plain": [
       "0              POINT (-43.648039569 170.20091327)\n",
       "1             POINT (-43.648039386 170.200913297)\n",
       "2             POINT (-43.648039422 170.200913215)\n",
       "3             POINT (-43.648039462 170.200913311)\n",
       "4             POINT (-43.648039426 170.200913323)\n",
       "                           ...                   \n",
       "43801         POINT (-43.648073208 170.200898615)\n",
       "43802    POINT (-43.64807324100001 170.200898541)\n",
       "43803         POINT (-43.648073247 170.200898609)\n",
       "43804         POINT (-43.648073158 170.200898619)\n",
       "43805    POINT (-43.64807323100001 170.200898615)\n",
       "Name: Points, Length: 43806, dtype: object"
      ]
     },
     "execution_count": 29,
     "metadata": {},
     "output_type": "execute_result"
    }
   ],
   "source": [
    "gdfe.Points"
   ]
  },
  {
   "cell_type": "code",
   "execution_count": null,
   "metadata": {},
   "outputs": [],
   "source": []
  }
 ],
 "metadata": {
  "kernelspec": {
   "display_name": "arran_gis",
   "language": "python",
   "name": "arran_gis"
  },
  "language_info": {
   "codemirror_mode": {
    "name": "ipython",
    "version": 3
   },
   "file_extension": ".py",
   "mimetype": "text/x-python",
   "name": "python",
   "nbconvert_exporter": "python",
   "pygments_lexer": "ipython3",
   "version": "3.7.3"
  }
 },
 "nbformat": 4,
 "nbformat_minor": 2
}
