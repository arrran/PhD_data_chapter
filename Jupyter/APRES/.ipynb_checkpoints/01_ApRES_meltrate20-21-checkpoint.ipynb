{
 "cells": [
  {
   "cell_type": "markdown",
   "metadata": {},
   "source": [
    "compare 2020 2021 \n",
    "Cp25 could be intersting\n",
    "2020 /Volumes/arc_04/FIELD_DATA/K8621920/APRES/Survey_2019-12-22_045518.dat\n",
    "2021 /Volumes/arc_04/FIELD_DATA/K8622021/KIS Science/ApRES data files/KIS2/Survey_2020-12-22_213835.dat\n",
    "gives melt 3.4 ± 0.0851 m/a\n",
    "\n",
    "\n",
    "Cp24 \n",
    "2020 /Volumes/arc_04/FIELD_DATA/K8621920/APRES/Survey_2019-12-22_044431.dat\n",
    "2021 /Volumes/arc_04/FIELD_DATA/K8622021/KIS Science/ApRES data files/KIS2/Survey_2020-12-22_221342.dat\n",
    "meltError: 0.0749\n",
    "meltRate: 0.7737"
   ]
  }
 ],
 "metadata": {
  "kernelspec": {
   "display_name": "remote_sensing",
   "language": "python",
   "name": "remote_sensing"
  },
  "language_info": {
   "codemirror_mode": {
    "name": "ipython",
    "version": 3
   },
   "file_extension": ".py",
   "mimetype": "text/x-python",
   "name": "python",
   "nbconvert_exporter": "python",
   "pygments_lexer": "ipython3",
   "version": "3.7.8"
  }
 },
 "nbformat": 4,
 "nbformat_minor": 4
}
