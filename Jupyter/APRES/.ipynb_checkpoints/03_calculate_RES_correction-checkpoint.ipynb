{
 "cells": [
  {
   "cell_type": "markdown",
   "metadata": {},
   "source": [
    "# Plot ApRES melt rates accross the channel profile at KIS2\n",
    "\n",
    "see DATA/Jupyter/APRES/02_ApRES_.ipynb for meltrate processing which gives kis2_meltrates.csv\n",
    "\n",
    "# APRES BED IS ACTUALLY ICE THICKNESS"
   ]
  },
  {
   "cell_type": "code",
   "execution_count": null,
   "metadata": {},
   "outputs": [],
   "source": []
  },
  {
   "cell_type": "code",
   "execution_count": null,
   "metadata": {},
   "outputs": [],
   "source": []
  },
  {
   "cell_type": "code",
   "execution_count": 2,
   "metadata": {},
   "outputs": [],
   "source": [
    "import fiona\n",
    "import pandas as pd\n",
    "import geopandas as gpd\n",
    "from shapely.geometry import Polygon\n",
    "from shapely.geometry import Point\n",
    "import numpy as np\n",
    "import os\n",
    "import sys\n",
    "import glob\n",
    "import matplotlib.pyplot as plt\n",
    "from scipy import interpolate\n",
    "\n",
    "from shapely.geometry import LineString\n",
    "\n",
    "\n",
    "import rasterio as rio\n",
    "import rasterio.mask\n",
    "import matplotlib as mpl\n",
    "import pickle\n"
   ]
  },
  {
   "cell_type": "code",
   "execution_count": 67,
   "metadata": {},
   "outputs": [],
   "source": [
    "# df = pd.read_csv('/Users/home/whitefar/DATA/ApRES/kis2_meltrates_matlab.csv')\n",
    "df = pd.read_csv('/Users/home/whitefar/DATA/ApRES/kis2_meltrates.csv')\n",
    "# df.rename(columns={'bed':'ice_thickn'},inplace=True)\n",
    "df['meltRate'] = df.meltRate_v_Epoch1\n",
    "# df = df.sort_values('x')\n",
    "# points = [Point(xy) for xy in zip(df.x,df.y) ]\n",
    "# gdf = gpd.GeoDataFrame(df,geometry=points,crs=3031)"
   ]
  },
  {
   "cell_type": "code",
   "execution_count": 68,
   "metadata": {},
   "outputs": [
    {
     "data": {
      "text/plain": [
       "Index(['Date', 'utc_time', 'lat', 'lon', 'Approx_Depth', 'File_Name',\n",
       "       'AF_Gain', 'Stacks', 'RF_Atten', 'Site_ID', 'Notes', 'APRES_unit',\n",
       "       'Epoch', 'meltRate', 'meltRateError', 'bed', 'dhStrain', 'dheStrain',\n",
       "       'cross_channel', 'down_channel', 'x', 'y', 'meltRate_v_Epoch1',\n",
       "       'migrated_res_thickness_at_apres_sites'],\n",
       "      dtype='object')"
      ]
     },
     "execution_count": 68,
     "metadata": {},
     "output_type": "execute_result"
    }
   ],
   "source": [
    "df.keys()"
   ]
  },
  {
   "cell_type": "code",
   "execution_count": 69,
   "metadata": {},
   "outputs": [],
   "source": [
    "gdfcc = df.query('(Epoch == 3) & cross_channel')\n",
    "gdfdc = df.query('(Epoch == 3) & down_channel')\n",
    "gdfcc2 = df.query('(Epoch == 2) & cross_channel')"
   ]
  },
  {
   "cell_type": "code",
   "execution_count": 70,
   "metadata": {},
   "outputs": [],
   "source": [
    "gdfcc.reset_index(drop=True,inplace=True)\n",
    "gdfdc.reset_index(drop=True,inplace=True)\n",
    "gdfcc2.reset_index(drop=True,inplace=True)"
   ]
  },
  {
   "cell_type": "code",
   "execution_count": 71,
   "metadata": {},
   "outputs": [
    {
     "data": {
      "text/plain": [
       "Index(['Date', 'utc_time', 'lat', 'lon', 'Approx_Depth', 'File_Name',\n",
       "       'AF_Gain', 'Stacks', 'RF_Atten', 'Site_ID', 'Notes', 'APRES_unit',\n",
       "       'Epoch', 'meltRate', 'meltRateError', 'bed', 'dhStrain', 'dheStrain',\n",
       "       'cross_channel', 'down_channel', 'x', 'y', 'meltRate_v_Epoch1',\n",
       "       'migrated_res_thickness_at_apres_sites'],\n",
       "      dtype='object')"
      ]
     },
     "execution_count": 71,
     "metadata": {},
     "output_type": "execute_result"
    }
   ],
   "source": [
    "df.keys()"
   ]
  },
  {
   "cell_type": "code",
   "execution_count": 72,
   "metadata": {},
   "outputs": [],
   "source": [
    "res_bed_cross = gpd.read_file('/Volumes/arc_04/FIELD_DATA/K8621920/RES/PROCESSED_LINES/picked_bed.shp').query('line_name == \"lineAPREScross\"')\n",
    "res_bed_down = gpd.read_file('/Volumes/arc_04/FIELD_DATA/K8621920/RES/PROCESSED_LINES/picked_bed.shp').query('line_name == \"lineAPRESdown\"')                                                                                                              \n",
    "                                                                                                              "
   ]
  },
  {
   "cell_type": "code",
   "execution_count": 73,
   "metadata": {},
   "outputs": [],
   "source": [
    "resthickncross = interpolate.interp1d(res_bed_cross.x,res_bed_cross.ice_thickn)\n"
   ]
  },
  {
   "cell_type": "code",
   "execution_count": 74,
   "metadata": {},
   "outputs": [],
   "source": [
    "# get RES points where ApRES is\n",
    "\n",
    "RES_at_apres = resthickncross(gdfcc.x)\n",
    "REScc = pd.DataFrame({'ice_thickn':RES_at_apres,'x':gdfcc.x,'y':gdfcc.y})"
   ]
  },
  {
   "cell_type": "code",
   "execution_count": 75,
   "metadata": {},
   "outputs": [],
   "source": [
    "gdfcc.rename(columns={'bed':'ice_thickn_prefirncorrection'},inplace=True)"
   ]
  },
  {
   "cell_type": "code",
   "execution_count": 76,
   "metadata": {},
   "outputs": [],
   "source": [
    "gdfcc.loc[:,'bed'] = gdfcc.ice_thickn_prefirncorrection-7 #thickness is +7"
   ]
  },
  {
   "cell_type": "code",
   "execution_count": 77,
   "metadata": {},
   "outputs": [
    {
     "data": {
      "text/plain": [
       "0     701.933784\n",
       "1     707.741797\n",
       "2     710.465693\n",
       "3     710.745032\n",
       "4     607.557531\n",
       "5     447.561588\n",
       "6     455.810647\n",
       "7     562.220662\n",
       "8     708.012616\n",
       "9     712.068803\n",
       "10    710.952208\n",
       "11    622.843121\n",
       "12    541.350047\n",
       "13    426.136586\n",
       "14    515.197305\n",
       "Name: bed, dtype: float64"
      ]
     },
     "execution_count": 77,
     "metadata": {},
     "output_type": "execute_result"
    }
   ],
   "source": [
    "gdfcc.loc[:,'bed']"
   ]
  },
  {
   "cell_type": "code",
   "execution_count": 45,
   "metadata": {},
   "outputs": [],
   "source": [
    "diffRES_APRES = gdfcc.bed - REScc.ice_thickn"
   ]
  },
  {
   "cell_type": "code",
   "execution_count": 122,
   "metadata": {},
   "outputs": [
    {
     "data": {
      "text/plain": [
       "0       5.070851\n",
       "1       6.675130\n",
       "2       6.876807\n",
       "3       6.315410\n",
       "4     -93.509136\n",
       "5    -240.893739\n",
       "6     -53.502225\n",
       "7    -130.438491\n",
       "8       7.786692\n",
       "9       7.639181\n",
       "10      8.204060\n",
       "11    -74.019812\n",
       "12      4.272873\n",
       "13     11.098987\n",
       "14     -7.577642\n",
       "Name: ice_thickn, dtype: float64"
      ]
     },
     "execution_count": 122,
     "metadata": {},
     "output_type": "execute_result"
    }
   ],
   "source": [
    "diffRES_APRES"
   ]
  },
  {
   "cell_type": "code",
   "execution_count": 113,
   "metadata": {},
   "outputs": [],
   "source": [
    "# SORT X\n",
    "gdfcc.sort_values(by=['x'],inplace=True)\n",
    "REScc.sort_values(by=['x'],inplace=True)"
   ]
  },
  {
   "cell_type": "code",
   "execution_count": 126,
   "metadata": {},
   "outputs": [
    {
     "data": {
      "text/plain": [
       "[<matplotlib.lines.Line2D at 0x7fa1ea85f0d0>]"
      ]
     },
     "execution_count": 126,
     "metadata": {},
     "output_type": "execute_result"
    },
    {
     "data": {
      "image/png": "[encoded data removed]",
      "text/plain": [
       "<Figure size 432x288 with 1 Axes>"
      ]
     },
     "metadata": {
      "needs_background": "light"
     },
     "output_type": "display_data"
    }
   ],
   "source": [
    "plt.plot( gdfcc.x,'x')"
   ]
  },
  {
   "cell_type": "code",
   "execution_count": 127,
   "metadata": {},
   "outputs": [
    {
     "data": {
      "text/plain": [
       "[<matplotlib.lines.Line2D at 0x7fa1eab11850>]"
      ]
     },
     "execution_count": 127,
     "metadata": {},
     "output_type": "execute_result"
    },
    {
     "data": {
      "image/png": "[encoded data removed]",
      "text/plain": [
       "<Figure size 432x288 with 1 Axes>"
      ]
     },
     "metadata": {
      "needs_background": "light"
     },
     "output_type": "display_data"
    }
   ],
   "source": [
    "plt.plot( gdfcc.x,gdfcc.bed,'o' )\n",
    "plt.plot(  REScc.x,REScc.ice_thickn,'x')\n"
   ]
  },
  {
   "cell_type": "code",
   "execution_count": 132,
   "metadata": {},
   "outputs": [],
   "source": [
    "diffRES_APRES = gdfcc.loc[[0,1,2,3,8,9,10],:].bed - REScc.loc[[0,1,2,3,8,9,10],:].ice_thickn"
   ]
  },
  {
   "cell_type": "code",
   "execution_count": 133,
   "metadata": {},
   "outputs": [
    {
     "data": {
      "text/plain": [
       "(array([1., 0., 0., 1., 0., 2., 0., 0., 2., 1.]),\n",
       " array([5.07085072, 5.38417163, 5.69749254, 6.01081346, 6.32413437,\n",
       "        6.63745528, 6.9507762 , 7.26409711, 7.57741803, 7.89073894,\n",
       "        8.20405985]),\n",
       " <BarContainer object of 10 artists>)"
      ]
     },
     "execution_count": 133,
     "metadata": {},
     "output_type": "execute_result"
    },
    {
     "data": {
      "image/png": "[encoded data removed]",
      "text/plain": [
       "<Figure size 432x288 with 1 Axes>"
      ]
     },
     "metadata": {
      "needs_background": "light"
     },
     "output_type": "display_data"
    }
   ],
   "source": [
    "plt.hist(diffRES_APRES)"
   ]
  },
  {
   "cell_type": "code",
   "execution_count": 134,
   "metadata": {},
   "outputs": [
    {
     "data": {
      "text/plain": [
       "6.938304446619213"
      ]
     },
     "execution_count": 134,
     "metadata": {},
     "output_type": "execute_result"
    }
   ],
   "source": [
    "diffRES_APRES.mean()"
   ]
  },
  {
   "cell_type": "markdown",
   "metadata": {},
   "source": [
    "# This value is fed into DATA/Jupyter/PLOTS/data_paper/global_corrections.ipynb"
   ]
  },
  {
   "cell_type": "code",
   "execution_count": null,
   "metadata": {},
   "outputs": [],
   "source": []
  }
 ],
 "metadata": {
  "kernelspec": {
   "display_name": "remote_sensing",
   "language": "python",
   "name": "remote_sensing"
  },
  "language_info": {
   "codemirror_mode": {
    "name": "ipython",
    "version": 3
   },
   "file_extension": ".py",
   "mimetype": "text/x-python",
   "name": "python",
   "nbconvert_exporter": "python",
   "pygments_lexer": "ipython3",
   "version": "3.7.8"
  }
 },
 "nbformat": 4,
 "nbformat_minor": 4
}
