{
 "cells": [
  {
   "cell_type": "code",
   "execution_count": 1,
   "id": "3357adfa",
   "metadata": {},
   "outputs": [
    {
     "ename": "SyntaxError",
     "evalue": "invalid syntax (<ipython-input-1-4802354451a7>, line 1)",
     "output_type": "error",
     "traceback": [
      "\u001b[0;36m  File \u001b[0;32m\"<ipython-input-1-4802354451a7>\"\u001b[0;36m, line \u001b[0;32m1\u001b[0m\n\u001b[0;31m    Hi Arran,\u001b[0m\n\u001b[0m           ^\u001b[0m\n\u001b[0;31mSyntaxError\u001b[0m\u001b[0;31m:\u001b[0m invalid syntax\n"
     ]
    }
   ],
   "source": [
    "Hi Arran,\n",
    "\n",
    "I've copied the 20/21 traverse data here:\n",
    "\n",
    "/Volumes/arc_04/FIELD_DATA/K8622021/\n",
    "\n",
    "Looks like metadata is in KIS\\ Science/KIS_science.shp\n",
    "\n",
    "Looks like the winter over station did well. Have a look at the point measurements when you get a chance and see if everything you are expecting is there.\n",
    "\n",
    "On his own initiative all the stations were visited with the UC system. I'm hoping this doesn't cause any issues.\n",
    "\n",
    "Cheers - Huw\n"
   ]
  },
  {
   "cell_type": "code",
   "execution_count": 1,
   "id": "8d252506",
   "metadata": {},
   "outputs": [],
   "source": [
    "import matplotlib.pyplot as plt\n",
    "import numpy as np\n",
    "import glob\n",
    "import os\n",
    "import sys\n",
    "import time\n",
    "import datetime as dt\n",
    "import pandas as pd\n",
    "import geopandas as gpd\n",
    "import scipy as sp\n",
    "import rasterio as rio\n",
    "from shapely.geometry import Point, LineString, Polygon, MultiPoint, box\n",
    "import fiona\n",
    "from shapely.ops import nearest_points\n",
    "import matplotlib as mpl"
   ]
  },
  {
   "cell_type": "code",
   "execution_count": 2,
   "id": "ad237553",
   "metadata": {},
   "outputs": [
    {
     "name": "stdout",
     "output_type": "stream",
     "text": [
      "'ApRES data files'\n",
      " ApRES_RESOURCES\n",
      " K862_2021_ShapeFiles\n",
      " K862A_2021_TraverseScience-compressed.pdf\n",
      "'KIS2 New ApRES Trial Sub burst results'\n",
      "'KIS2 WO GPS copy'\n",
      " KIS_science.cpg\n",
      " KIS_science.dbf\n",
      " KIS_science.prj\n",
      " KIS_science.qpj\n",
      " KIS_science.shp\n",
      " KIS_science.shx\n",
      "'KSI1 Winterover ApRES Trial subburst.docx'\n"
     ]
    }
   ],
   "source": [
    "!ls /Volumes/arc_04/FIELD_DATA/K8622021/'KIS Science'/"
   ]
  },
  {
   "cell_type": "code",
   "execution_count": 3,
   "id": "bae86fb2",
   "metadata": {},
   "outputs": [],
   "source": [
    "metadata = gpd.read_file(\"/Volumes/arc_04/FIELD_DATA/K8622021/KIS Science/KIS_science.shp\")\n"
   ]
  },
  {
   "cell_type": "code",
   "execution_count": 4,
   "id": "c0c74f84",
   "metadata": {},
   "outputs": [],
   "source": [
    "metadata.query('(Data_type==\"ApRES\") & (Project==\"KIS2\")',inplace=True)"
   ]
  },
  {
   "cell_type": "code",
   "execution_count": 5,
   "id": "f891901d",
   "metadata": {},
   "outputs": [],
   "source": [
    "metadata.drop(columns=['id', 'Uni_Event', 'Data_type',\n",
    "       'Flag1ht_cm', 'Flag2ht_cm',  'Project'], \n",
    "             inplace=True)"
   ]
  },
  {
   "cell_type": "code",
   "execution_count": 6,
   "id": "0e5d8946",
   "metadata": {},
   "outputs": [
    {
     "data": {
      "text/plain": [
       "Index(['Date', 'AF_Gain', 'Burst', 'RF_Atten', 'Depth_m', 'Site_ID', 'Notes',\n",
       "       'ApRes_Unit', 'File_Name', 'Y', 'X', 'geometry'],\n",
       "      dtype='object')"
      ]
     },
     "execution_count": 6,
     "metadata": {},
     "output_type": "execute_result"
    }
   ],
   "source": [
    "metadata.keys()"
   ]
  },
  {
   "cell_type": "code",
   "execution_count": 7,
   "id": "6d48b585",
   "metadata": {},
   "outputs": [],
   "source": [
    "metadata.rename(columns={\"X\":\"lon\",\"Y\":\"lat\",'Burst':\"Stacks\",\"ApRes_Unit\":\"APRES_unit\",\"Depth_m\":\"Approx_Depth\"},inplace=True)"
   ]
  },
  {
   "cell_type": "code",
   "execution_count": 8,
   "id": "be20a633",
   "metadata": {},
   "outputs": [],
   "source": [
    "metadata['Epoch'] = 3\n",
    "metadata['utc_time'] = np.nan"
   ]
  },
  {
   "cell_type": "code",
   "execution_count": 9,
   "id": "64cb88d4",
   "metadata": {},
   "outputs": [],
   "source": [
    "metadata['Site_ID'] = metadata.Site_ID.apply(lambda x: x.upper()).copy()"
   ]
  },
  {
   "cell_type": "code",
   "execution_count": 10,
   "id": "a89dae74",
   "metadata": {},
   "outputs": [],
   "source": [
    "metadata.loc[61,['Site_ID']] ='CP07'"
   ]
  },
  {
   "cell_type": "code",
   "execution_count": 11,
   "id": "2b77e28d",
   "metadata": {},
   "outputs": [],
   "source": [
    "metadata.drop(columns=['geometry'],inplace=True)"
   ]
  },
  {
   "cell_type": "code",
   "execution_count": 12,
   "id": "6b7644db",
   "metadata": {},
   "outputs": [
    {
     "data": {
      "text/html": [
       "<div>\n",
       "<style scoped>\n",
       "    .dataframe tbody tr th:only-of-type {\n",
       "        vertical-align: middle;\n",
       "    }\n",
       "\n",
       "    .dataframe tbody tr th {\n",
       "        vertical-align: top;\n",
       "    }\n",
       "\n",
       "    .dataframe thead th {\n",
       "        text-align: right;\n",
       "    }\n",
       "</style>\n",
       "<table border=\"1\" class=\"dataframe\">\n",
       "  <thead>\n",
       "    <tr style=\"text-align: right;\">\n",
       "      <th></th>\n",
       "      <th>Date</th>\n",
       "      <th>AF_Gain</th>\n",
       "      <th>Stacks</th>\n",
       "      <th>RF_Atten</th>\n",
       "      <th>Approx_Depth</th>\n",
       "      <th>Site_ID</th>\n",
       "      <th>Notes</th>\n",
       "      <th>APRES_unit</th>\n",
       "      <th>File_Name</th>\n",
       "      <th>lat</th>\n",
       "      <th>lon</th>\n",
       "      <th>Epoch</th>\n",
       "      <th>utc_time</th>\n",
       "    </tr>\n",
       "  </thead>\n",
       "  <tbody>\n",
       "    <tr>\n",
       "      <th>35</th>\n",
       "      <td>2020-12-22</td>\n",
       "      <td>-4</td>\n",
       "      <td>64.0</td>\n",
       "      <td>20</td>\n",
       "      <td>770.0</td>\n",
       "      <td>CP34</td>\n",
       "      <td>F1=W. New site</td>\n",
       "      <td>UC Antenna, UC unit SN-143</td>\n",
       "      <td>Survey_2020-12-22_035737.dat</td>\n",
       "      <td>-82.471847</td>\n",
       "      <td>-152.208053</td>\n",
       "      <td>3</td>\n",
       "      <td>NaN</td>\n",
       "    </tr>\n",
       "    <tr>\n",
       "      <th>36</th>\n",
       "      <td>2020-12-22</td>\n",
       "      <td>-4</td>\n",
       "      <td>64.0</td>\n",
       "      <td>21</td>\n",
       "      <td>665.0</td>\n",
       "      <td>CP33</td>\n",
       "      <td>F1=W. Two sharp reflectors at 665m and 764m, s...</td>\n",
       "      <td>UC Antenna, UC unit SN-143</td>\n",
       "      <td>Survey_2020-12-22_042049.dat</td>\n",
       "      <td>-82.471548</td>\n",
       "      <td>-152.224309</td>\n",
       "      <td>3</td>\n",
       "      <td>NaN</td>\n",
       "    </tr>\n",
       "    <tr>\n",
       "      <th>37</th>\n",
       "      <td>2020-12-22</td>\n",
       "      <td>-4</td>\n",
       "      <td>64.0</td>\n",
       "      <td>20</td>\n",
       "      <td>566.0</td>\n",
       "      <td>CP32</td>\n",
       "      <td>F1=W. Two sharp reflectors at 566m 765m, new site</td>\n",
       "      <td>UC Antenna, UC unit SN-143</td>\n",
       "      <td>Survey_2020-12-22_044149.dat</td>\n",
       "      <td>-82.471325</td>\n",
       "      <td>-152.238891</td>\n",
       "      <td>3</td>\n",
       "      <td>NaN</td>\n",
       "    </tr>\n",
       "    <tr>\n",
       "      <th>38</th>\n",
       "      <td>2020-12-22</td>\n",
       "      <td>-4</td>\n",
       "      <td>64.0</td>\n",
       "      <td>20</td>\n",
       "      <td>493.0</td>\n",
       "      <td>CP31</td>\n",
       "      <td>F1=W. Two sharp reflectors at 493m, 758m , new...</td>\n",
       "      <td>UC Antenna, UC unit SN-143</td>\n",
       "      <td>Survey_2020-12-22_050111.dat</td>\n",
       "      <td>-82.471154</td>\n",
       "      <td>-152.257888</td>\n",
       "      <td>3</td>\n",
       "      <td>NaN</td>\n",
       "    </tr>\n",
       "    <tr>\n",
       "      <th>39</th>\n",
       "      <td>2020-12-22</td>\n",
       "      <td>-4</td>\n",
       "      <td>64.0</td>\n",
       "      <td>24</td>\n",
       "      <td>447.0</td>\n",
       "      <td>CP30</td>\n",
       "      <td>F1=W, new site, sharp reflectors at 447m and 750m</td>\n",
       "      <td>UC Antenna, UC unit SN-143</td>\n",
       "      <td>Survey_2020-12-22_052753.dat</td>\n",
       "      <td>-82.471072</td>\n",
       "      <td>-152.278526</td>\n",
       "      <td>3</td>\n",
       "      <td>NaN</td>\n",
       "    </tr>\n",
       "  </tbody>\n",
       "</table>\n",
       "</div>"
      ],
      "text/plain": [
       "          Date AF_Gain  Stacks RF_Atten  Approx_Depth Site_ID  \\\n",
       "35  2020-12-22      -4    64.0       20         770.0    CP34   \n",
       "36  2020-12-22      -4    64.0       21         665.0    CP33   \n",
       "37  2020-12-22      -4    64.0       20         566.0    CP32   \n",
       "38  2020-12-22      -4    64.0       20         493.0    CP31   \n",
       "39  2020-12-22      -4    64.0       24         447.0    CP30   \n",
       "\n",
       "                                                Notes  \\\n",
       "35                                     F1=W. New site   \n",
       "36  F1=W. Two sharp reflectors at 665m and 764m, s...   \n",
       "37  F1=W. Two sharp reflectors at 566m 765m, new site   \n",
       "38  F1=W. Two sharp reflectors at 493m, 758m , new...   \n",
       "39  F1=W, new site, sharp reflectors at 447m and 750m   \n",
       "\n",
       "                    APRES_unit                     File_Name        lat  \\\n",
       "35  UC Antenna, UC unit SN-143  Survey_2020-12-22_035737.dat -82.471847   \n",
       "36  UC Antenna, UC unit SN-143  Survey_2020-12-22_042049.dat -82.471548   \n",
       "37  UC Antenna, UC unit SN-143  Survey_2020-12-22_044149.dat -82.471325   \n",
       "38  UC Antenna, UC unit SN-143  Survey_2020-12-22_050111.dat -82.471154   \n",
       "39  UC Antenna, UC unit SN-143  Survey_2020-12-22_052753.dat -82.471072   \n",
       "\n",
       "           lon  Epoch  utc_time  \n",
       "35 -152.208053      3       NaN  \n",
       "36 -152.224309      3       NaN  \n",
       "37 -152.238891      3       NaN  \n",
       "38 -152.257888      3       NaN  \n",
       "39 -152.278526      3       NaN  "
      ]
     },
     "execution_count": 12,
     "metadata": {},
     "output_type": "execute_result"
    }
   ],
   "source": [
    "metadata.head()"
   ]
  },
  {
   "cell_type": "code",
   "execution_count": 59,
   "id": "7ca2f4a1",
   "metadata": {},
   "outputs": [
    {
     "data": {
      "text/plain": [
       "array(['CP34', 'CP33', 'CP32', 'CP31', 'CP30', 'CP_29_DRILL', 'CP28',\n",
       "       'CP27', 'CP26', 'CP25', 'CP24', 'CP23', 'CP22', 'CP21', 'CP20',\n",
       "       'CP19', 'CP15', 'CP18', 'CP16', 'CP17', 'CP11', 'CP10', 'CP09',\n",
       "       'CP08', 'CP13', 'CP07', 'CP14', 'CP06', 'CP05', 'CP04', 'CP01',\n",
       "       'CP02', 'CP03'], dtype=object)"
      ]
     },
     "execution_count": 59,
     "metadata": {},
     "output_type": "execute_result"
    }
   ],
   "source": [
    "metadata.Site_ID.unique()"
   ]
  },
  {
   "cell_type": "code",
   "execution_count": 14,
   "id": "7d83de6b",
   "metadata": {},
   "outputs": [
    {
     "data": {
      "text/plain": [
       "Index(['SiteName', 'YYYYUTC', 'MTUTC', 'DDUTC', 'HHUTC', 'MNUTC', 'LATDD',\n",
       "       'LATMM', 'LONDD', 'LONMM', 'FILE', 'Atten', 'Gain', 'Stacks', 'Epoch',\n",
       "       'ApproxDepth', 'checked', 'comments'],\n",
       "      dtype='object')"
      ]
     },
     "execution_count": 14,
     "metadata": {},
     "output_type": "execute_result"
    }
   ],
   "source": [
    "metadata1920 = pd.read_csv(\"/Users/home/whitefar/DATA/ApRES/K862A1920ApRESSites_KIS2.csv\")\n",
    "metadata1920.keys()"
   ]
  },
  {
   "cell_type": "code",
   "execution_count": 15,
   "id": "4ecfb254",
   "metadata": {},
   "outputs": [],
   "source": [
    "metadata1920['utc_datetime'] = pd.to_datetime({'year':metadata1920.YYYYUTC,\n",
    "                           'month':metadata1920.MTUTC,\n",
    "                            'day':metadata1920.DDUTC,\n",
    "                               'hour':metadata1920.HHUTC,\n",
    "                            'minute':metadata1920.MNUTC}).apply(lambda x: pd.Timestamp(x))"
   ]
  },
  {
   "cell_type": "code",
   "execution_count": 16,
   "id": "c16664e0",
   "metadata": {},
   "outputs": [],
   "source": [
    "metadata1920['utc_time'] = metadata1920['utc_datetime'].apply(lambda x: x.isoformat())\n",
    "metadata1920['Date'] =metadata1920['utc_datetime'].apply(lambda x: x.date())"
   ]
  },
  {
   "cell_type": "code",
   "execution_count": 17,
   "id": "67826736",
   "metadata": {},
   "outputs": [],
   "source": [
    "metadata1920['lat'] = (metadata1920.LATDD - metadata1920.LATMM/60).round(decimals=6)\n",
    "metadata1920['lon'] = (metadata1920.LONDD - metadata1920.LONMM/60).round(decimals=6)"
   ]
  },
  {
   "cell_type": "code",
   "execution_count": 18,
   "id": "91303fda",
   "metadata": {},
   "outputs": [],
   "source": [
    "metadata1920['APRES_unit'] = 'Huws_unit1'"
   ]
  },
  {
   "cell_type": "code",
   "execution_count": 19,
   "id": "b8396ec5",
   "metadata": {},
   "outputs": [],
   "source": [
    "metadata1920.rename(columns={\"SiteName\":\"Site_ID\",\"FILE\":\"File_Name\",\"Gain\":\"AF_Gain\",\"Atten\":\"RF_Atten\",\"ApproxDepth\":\"Approx_Depth\",\"comments\":\"Notes\"},inplace=True)"
   ]
  },
  {
   "cell_type": "code",
   "execution_count": 20,
   "id": "96399020",
   "metadata": {},
   "outputs": [],
   "source": [
    "metadata1920.drop(columns=['utc_datetime'],inplace=True)"
   ]
  },
  {
   "cell_type": "code",
   "execution_count": 21,
   "id": "a645ae9f",
   "metadata": {},
   "outputs": [
    {
     "data": {
      "text/plain": [
       "Index(['Site_ID', 'YYYYUTC', 'MTUTC', 'DDUTC', 'HHUTC', 'MNUTC', 'LATDD',\n",
       "       'LATMM', 'LONDD', 'LONMM', 'File_Name', 'RF_Atten', 'AF_Gain', 'Stacks',\n",
       "       'Epoch', 'Approx_Depth', 'checked', 'Notes', 'utc_time', 'Date', 'lat',\n",
       "       'lon', 'APRES_unit'],\n",
       "      dtype='object')"
      ]
     },
     "execution_count": 21,
     "metadata": {},
     "output_type": "execute_result"
    }
   ],
   "source": [
    "metadata1920.keys()"
   ]
  },
  {
   "cell_type": "code",
   "execution_count": 22,
   "id": "2f6ba252",
   "metadata": {},
   "outputs": [],
   "source": [
    "metadata1920 = metadata1920[metadata.keys()].copy()"
   ]
  },
  {
   "cell_type": "code",
   "execution_count": 23,
   "id": "9982f4eb",
   "metadata": {},
   "outputs": [],
   "source": [
    "meta_out = pd.concat([metadata1920,metadata])"
   ]
  },
  {
   "cell_type": "code",
   "execution_count": 36,
   "id": "4eabb8e3",
   "metadata": {},
   "outputs": [],
   "source": [
    "meta_out.drop([40],inplace=True)"
   ]
  },
  {
   "cell_type": "code",
   "execution_count": 37,
   "id": "31352a57",
   "metadata": {},
   "outputs": [],
   "source": [
    "meta_out.reset_index(drop=True,inplace=True)"
   ]
  },
  {
   "cell_type": "code",
   "execution_count": 38,
   "id": "407b8e03",
   "metadata": {},
   "outputs": [
    {
     "data": {
      "text/plain": [
       "Index(['Date', 'utc_time', 'lat', 'lon', 'Approx_Depth', 'File_Name',\n",
       "       'AF_Gain', 'Stacks', 'RF_Atten', 'Site_ID', 'Notes', 'APRES_unit',\n",
       "       'Epoch'],\n",
       "      dtype='object')"
      ]
     },
     "execution_count": 38,
     "metadata": {},
     "output_type": "execute_result"
    }
   ],
   "source": [
    "meta_out.keys()"
   ]
  },
  {
   "cell_type": "code",
   "execution_count": 39,
   "id": "2f05ca0d",
   "metadata": {},
   "outputs": [],
   "source": [
    "meta_out = meta_out[['Date', 'utc_time', 'lat', 'lon','Approx_Depth','File_Name','AF_Gain', 'Stacks', 'RF_Atten',  'Site_ID',\n",
    "       'Notes', 'APRES_unit',   'Epoch']]\n"
   ]
  },
  {
   "cell_type": "code",
   "execution_count": null,
   "id": "f246c5a8",
   "metadata": {},
   "outputs": [],
   "source": []
  },
  {
   "cell_type": "code",
   "execution_count": 40,
   "id": "c97af335",
   "metadata": {},
   "outputs": [],
   "source": [
    "meta_out.to_csv('/Users/home/whitefar/DATA/ApRES/kis2_apres_metadata.csv')"
   ]
  },
  {
   "cell_type": "code",
   "execution_count": 41,
   "id": "d899dcb6",
   "metadata": {},
   "outputs": [
    {
     "data": {
      "text/plain": [
       "array(['CP01', 'CP02', 'CP03', 'CP04', 'CP05', 'CP06', 'CP07', 'CP08',\n",
       "       'CP09', 'CP10', 'CP11', 'CP12', 'CP13', 'CP14', 'CP15', 'CP16',\n",
       "       'CP17', 'CP18', 'CP19', 'CP20', 'CP21', 'CP22', 'CP23', 'CP24',\n",
       "       'CP25', 'CP26', 'CP27', 'CP28', 'CP30', 'CP31', 'CP32', 'CP33',\n",
       "       'CP34', 'CP_29_DRILL'], dtype=object)"
      ]
     },
     "execution_count": 41,
     "metadata": {},
     "output_type": "execute_result"
    }
   ],
   "source": [
    "meta_out.Site_ID.unique()"
   ]
  },
  {
   "cell_type": "code",
   "execution_count": 42,
   "id": "891017f1",
   "metadata": {},
   "outputs": [],
   "source": [
    "meta_out.sort_values(by=['Site_ID','Epoch'],inplace=True)"
   ]
  },
  {
   "cell_type": "code",
   "execution_count": 43,
   "id": "60fcba7d",
   "metadata": {},
   "outputs": [],
   "source": [
    "meta_out.reset_index(drop=True,inplace=True)"
   ]
  },
  {
   "cell_type": "code",
   "execution_count": 44,
   "id": "9d6e7395",
   "metadata": {},
   "outputs": [],
   "source": [
    "meta_out.to_csv('/Users/home/whitefar/DATA/ApRES/kis2_apres_metadata_by_Site_ID.csv')"
   ]
  },
  {
   "cell_type": "code",
   "execution_count": 45,
   "id": "a2235114",
   "metadata": {},
   "outputs": [
    {
     "name": "stdout",
     "output_type": "stream",
     "text": [
      "'KIS2 Old WO ApRES Card1'       Survey_2020-12-23_002658.dat\n",
      "'KIS2 Old WO ApRES Card2'       Survey_2020-12-23_004352.dat\n",
      " Survey_2020-12-22_035737.dat   Survey_2020-12-23_010317.dat\n",
      " Survey_2020-12-22_042049.dat   Survey_2020-12-23_013605.dat\n",
      " Survey_2020-12-22_044149.dat   Survey_2020-12-23_015608.dat\n",
      " Survey_2020-12-22_050111.dat   Survey_2020-12-23_021900.dat\n",
      " Survey_2020-12-22_052753.dat   Survey_2020-12-23_023455.dat\n",
      " Survey_2020-12-22_201557.dat   Survey_2020-12-23_024953.dat\n",
      " Survey_2020-12-22_203746.dat   Survey_2020-12-23_030547.dat\n",
      " Survey_2020-12-22_205751.dat   Survey_2020-12-23_042754.dat\n",
      " Survey_2020-12-22_211915.dat   Survey_2020-12-23_045043.dat\n",
      " Survey_2020-12-22_213835.dat   Survey_2020-12-23_050820.dat\n",
      " Survey_2020-12-22_221342.dat   Survey_2020-12-23_052812.dat\n",
      " Survey_2020-12-22_223029.dat   Survey_2020-12-23_202213.dat\n",
      " Survey_2020-12-22_224858.dat   Survey_2020-12-23_204021.dat\n",
      " Survey_2020-12-22_230405.dat   Survey_2020-12-23_205701.dat\n",
      " Survey_2020-12-22_233240.dat   Survey_2020-12-24_210803.dat\n",
      " Survey_2020-12-22_234900.dat   Survey_2020-12-25_004708.dat\n",
      " Survey_2020-12-23_001015.dat\n"
     ]
    }
   ],
   "source": [
    "!ls /Volumes/arc_04/FIELD_DATA/K8622021/'KIS Science'/'ApRES data files'/KIS2"
   ]
  },
  {
   "cell_type": "code",
   "execution_count": 46,
   "id": "8a704d76",
   "metadata": {},
   "outputs": [
    {
     "data": {
      "text/plain": [
       "Index(['Date', 'utc_time', 'lat', 'lon', 'Approx_Depth', 'File_Name',\n",
       "       'AF_Gain', 'Stacks', 'RF_Atten', 'Site_ID', 'Notes', 'APRES_unit',\n",
       "       'Epoch'],\n",
       "      dtype='object')"
      ]
     },
     "execution_count": 46,
     "metadata": {},
     "output_type": "execute_result"
    }
   ],
   "source": [
    "meta_out.keys()"
   ]
  },
  {
   "cell_type": "code",
   "execution_count": 47,
   "id": "1904015f",
   "metadata": {},
   "outputs": [
    {
     "data": {
      "text/plain": [
       "Date                       2019-12-08\n",
       "utc_time          2019-12-08T03:16:00\n",
       "lat                          -82.4656\n",
       "lon                          -152.471\n",
       "Approx_Depth                      521\n",
       "File_Name       2019-12-08_030609.dat\n",
       "AF_Gain                            -4\n",
       "Stacks                             64\n",
       "RF_Atten                           22\n",
       "Site_ID                          CP15\n",
       "Notes                             NaN\n",
       "APRES_unit                 Huws_unit1\n",
       "Epoch                               1\n",
       "Name: 40, dtype: object"
      ]
     },
     "execution_count": 47,
     "metadata": {},
     "output_type": "execute_result"
    }
   ],
   "source": [
    "# meta_out.iloc[40]"
   ]
  },
  {
   "cell_type": "code",
   "execution_count": 99,
   "id": "75267250",
   "metadata": {},
   "outputs": [
    {
     "data": {
      "text/plain": [
       "Index(['Var1', 'Date', 'utc_time', 'lat', 'lon', 'Approx_Depth', 'File_Name',\n",
       "       'AF_Gain', 'Stacks', 'RF_Atten', 'Site_ID', 'Notes', 'APRES_unit',\n",
       "       'Epoch', 'meltRate', 'meltRateError', 'bed', 'dhStrain', 'dheStrain'],\n",
       "      dtype='object')"
      ]
     },
     "execution_count": 99,
     "metadata": {},
     "output_type": "execute_result"
    }
   ],
   "source": [
    "melt_rates = pd.read_csv('/Users/home/whitefar/DATA/ApRES/kis2_meltrates.csv')\n",
    "melt_rates.keys()"
   ]
  },
  {
   "cell_type": "code",
   "execution_count": 100,
   "id": "cdb78b4f",
   "metadata": {},
   "outputs": [],
   "source": [
    "# df.loc[df['column_name'].isin(some_values)]\n",
    "downchannel = ['CP07','CP16', 'CP17', 'CP18', 'CP19', 'CP20', 'CP21', 'CP22', 'CP23', 'CP24','CP25' ]\n",
    "\n",
    "crosschannel = ['CP01', 'CP02', 'CP03', 'CP04', 'CP05', 'CP06', 'CP07', 'CP08',\n",
    "       'CP09', 'CP10', 'CP11', 'CP12', 'CP13', 'CP14', 'CP15' ]\n"
   ]
  },
  {
   "cell_type": "code",
   "execution_count": 101,
   "id": "b53d50d0",
   "metadata": {},
   "outputs": [],
   "source": [
    "melt_rates['cross_channel'] = melt_rates['Site_ID'].isin(crosschannel)\n",
    "melt_rates['down_channel'] = melt_rates['Site_ID'].isin(downchannel)"
   ]
  },
  {
   "cell_type": "code",
   "execution_count": 106,
   "id": "ef23c513",
   "metadata": {},
   "outputs": [],
   "source": [
    "dc_m= melt_rates.loc[melt_rates['down_channel']==True].copy()\n",
    "cc_m = melt_rates.loc[melt_rates['cross_channel']==True].copy()"
   ]
  },
  {
   "cell_type": "code",
   "execution_count": 102,
   "id": "2aca3e4b",
   "metadata": {},
   "outputs": [],
   "source": [
    "meta_out.to_csv('/Users/home/whitefar/DATA/ApRES/kis2_meltrates.csv')"
   ]
  },
  {
   "cell_type": "code",
   "execution_count": 120,
   "id": "4ab11d41",
   "metadata": {},
   "outputs": [
    {
     "data": {
      "image/png": "[encoded data removed]",
      "text/plain": [
       "<Figure size 576x576 with 2 Axes>"
      ]
     },
     "metadata": {
      "needs_background": "light"
     },
     "output_type": "display_data"
    }
   ],
   "source": [
    "plt.figure(figsize=(8,8))\n",
    "plt.scatter(melt_rates.lon,melt_rates.lat,c=melt_rates.meltRate,cmap='bwr',vmin=-2,vmax=2)\n",
    "plt.colorbar()\n",
    "plt.show()"
   ]
  },
  {
   "cell_type": "code",
   "execution_count": 121,
   "id": "4b6aa66d",
   "metadata": {},
   "outputs": [
    {
     "data": {
      "image/png": "[encoded data removed]",
      "text/plain": [
       "<Figure size 576x576 with 2 Axes>"
      ]
     },
     "metadata": {
      "needs_background": "light"
     },
     "output_type": "display_data"
    }
   ],
   "source": [
    "plt.figure(figsize=(8,8))\n",
    "plt.scatter(dc_m.lon,dc_m.lat,c=dc_m.meltRate,cmap='bwr',vmin=-2,vmax=2)\n",
    "plt.colorbar()\n",
    "plt.show()"
   ]
  },
  {
   "cell_type": "code",
   "execution_count": 122,
   "id": "e48c19e2",
   "metadata": {},
   "outputs": [
    {
     "data": {
      "image/png": "[encoded data removed]",
      "text/plain": [
       "<Figure size 576x576 with 2 Axes>"
      ]
     },
     "metadata": {
      "needs_background": "light"
     },
     "output_type": "display_data"
    }
   ],
   "source": [
    "plt.figure(figsize=(8,8))\n",
    "plt.scatter(cc_m.lon,cc_m.lat,c=cc_m.meltRate,cmap='bwr',vmin=-3.5,vmax=3.5)\n",
    "plt.colorbar()\n",
    "plt.show()"
   ]
  },
  {
   "cell_type": "code",
   "execution_count": 123,
   "id": "6c302622",
   "metadata": {},
   "outputs": [
    {
     "data": {
      "image/png": "[encoded data removed]",
      "text/plain": [
       "<Figure size 576x576 with 1 Axes>"
      ]
     },
     "metadata": {
      "needs_background": "light"
     },
     "output_type": "display_data"
    }
   ],
   "source": [
    "plt.figure(figsize=(8,8))\n",
    "plt.plot(melt_rates.loc[melt_rates['down_channel']==True].lon,melt_rates.loc[melt_rates['down_channel']==True].meltRate,'x')\n",
    "plt.show()"
   ]
  },
  {
   "cell_type": "code",
   "execution_count": 124,
   "id": "9d212d0f",
   "metadata": {},
   "outputs": [
    {
     "data": {
      "image/png": "[encoded data removed]",
      "text/plain": [
       "<Figure size 576x576 with 1 Axes>"
      ]
     },
     "metadata": {
      "needs_background": "light"
     },
     "output_type": "display_data"
    }
   ],
   "source": [
    "plt.figure(figsize=(8,8))\n",
    "plt.plot(cc_m.loc[melt_rates['Epoch']==3].lon,cc_m.loc[melt_rates['Epoch']==3].meltRate,'x')\n",
    "plt.plot(cc_m.loc[melt_rates['Epoch']==2].lon,cc_m.loc[melt_rates['Epoch']==2].meltRate,'o')\n",
    "plt.show()"
   ]
  },
  {
   "cell_type": "code",
   "execution_count": 125,
   "id": "154b608e",
   "metadata": {},
   "outputs": [
    {
     "ename": "NameError",
     "evalue": "name 'melt_rate' is not defined",
     "output_type": "error",
     "traceback": [
      "\u001b[0;31m---------------------------------------------------------------------------\u001b[0m",
      "\u001b[0;31mNameError\u001b[0m                                 Traceback (most recent call last)",
      "\u001b[0;32m<ipython-input-125-f4c9267bdf3b>\u001b[0m in \u001b[0;36m<module>\u001b[0;34m\u001b[0m\n\u001b[1;32m      1\u001b[0m \u001b[0mplt\u001b[0m\u001b[0;34m.\u001b[0m\u001b[0mfigure\u001b[0m\u001b[0;34m(\u001b[0m\u001b[0mfigsize\u001b[0m\u001b[0;34m=\u001b[0m\u001b[0;34m(\u001b[0m\u001b[0;36m8\u001b[0m\u001b[0;34m,\u001b[0m\u001b[0;36m8\u001b[0m\u001b[0;34m)\u001b[0m\u001b[0;34m)\u001b[0m\u001b[0;34m\u001b[0m\u001b[0;34m\u001b[0m\u001b[0m\n\u001b[1;32m      2\u001b[0m \u001b[0mplt\u001b[0m\u001b[0;34m.\u001b[0m\u001b[0mscatter\u001b[0m\u001b[0;34m(\u001b[0m\u001b[0mmelt_rates\u001b[0m\u001b[0;34m.\u001b[0m\u001b[0mlat\u001b[0m\u001b[0;34m,\u001b[0m\u001b[0mmelt_rates\u001b[0m\u001b[0;34m.\u001b[0m\u001b[0mlon\u001b[0m\u001b[0;34m,\u001b[0m\u001b[0mc\u001b[0m\u001b[0;34m=\u001b[0m\u001b[0mmelt_rates\u001b[0m\u001b[0;34m.\u001b[0m\u001b[0mmeltRate\u001b[0m\u001b[0;34m,\u001b[0m\u001b[0mcmap\u001b[0m\u001b[0;34m=\u001b[0m\u001b[0;34m'bwr'\u001b[0m\u001b[0;34m,\u001b[0m\u001b[0mvmin\u001b[0m\u001b[0;34m=\u001b[0m\u001b[0;34m-\u001b[0m\u001b[0;36m2\u001b[0m\u001b[0;34m,\u001b[0m\u001b[0mvmax\u001b[0m\u001b[0;34m=\u001b[0m\u001b[0;36m2\u001b[0m\u001b[0;34m)\u001b[0m\u001b[0;34m\u001b[0m\u001b[0;34m\u001b[0m\u001b[0m\n\u001b[0;32m----> 3\u001b[0;31m \u001b[0;32mfor\u001b[0m \u001b[0mrows\u001b[0m \u001b[0;32min\u001b[0m \u001b[0mmelt_rate\u001b[0m\u001b[0;34m.\u001b[0m\u001b[0mitterows\u001b[0m\u001b[0;34m(\u001b[0m\u001b[0;34m)\u001b[0m\u001b[0;34m:\u001b[0m\u001b[0;34m\u001b[0m\u001b[0;34m\u001b[0m\u001b[0m\n\u001b[0m\u001b[1;32m      4\u001b[0m     \u001b[0mplt\u001b[0m\u001b[0;34m.\u001b[0m\u001b[0mannotate\u001b[0m\u001b[0;34m(\u001b[0m \u001b[0mmelt_rate\u001b[0m\u001b[0;34m.\u001b[0m\u001b[0mSite_ID\u001b[0m\u001b[0;34m,\u001b[0m\u001b[0;34m(\u001b[0m\u001b[0mmelt_rate\u001b[0m\u001b[0;34m.\u001b[0m\u001b[0mlon\u001b[0m\u001b[0;34m,\u001b[0m \u001b[0mmelt_rate\u001b[0m\u001b[0;34m.\u001b[0m\u001b[0mlat\u001b[0m\u001b[0;34m)\u001b[0m\u001b[0;34m,\u001b[0m\u001b[0mxytext\u001b[0m\u001b[0;34m=\u001b[0m\u001b[0;34m(\u001b[0m\u001b[0;34m-\u001b[0m\u001b[0;36m378.8\u001b[0m\u001b[0;34m+\u001b[0m\u001b[0;36m1\u001b[0m\u001b[0;34m,\u001b[0m \u001b[0;34m-\u001b[0m\u001b[0;36m727.3\u001b[0m\u001b[0;34m+\u001b[0m\u001b[0;36m1\u001b[0m\u001b[0;34m)\u001b[0m\u001b[0;34m,\u001b[0m\u001b[0marrowprops\u001b[0m\u001b[0;34m=\u001b[0m\u001b[0mdict\u001b[0m\u001b[0;34m(\u001b[0m\u001b[0marrowstyle\u001b[0m\u001b[0;34m=\u001b[0m\u001b[0;34m'->'\u001b[0m\u001b[0;34m)\u001b[0m\u001b[0;34m,\u001b[0m\u001b[0mfontsize\u001b[0m\u001b[0;34m=\u001b[0m\u001b[0;36m8\u001b[0m\u001b[0;34m)\u001b[0m\u001b[0;34m\u001b[0m\u001b[0;34m\u001b[0m\u001b[0m\n\u001b[1;32m      5\u001b[0m \u001b[0mplt\u001b[0m\u001b[0;34m.\u001b[0m\u001b[0mcolorbar\u001b[0m\u001b[0;34m(\u001b[0m\u001b[0;34m)\u001b[0m\u001b[0;34m\u001b[0m\u001b[0;34m\u001b[0m\u001b[0m\n",
      "\u001b[0;31mNameError\u001b[0m: name 'melt_rate' is not defined"
     ]
    },
    {
     "data": {
      "image/png": "[encoded data removed]",
      "text/plain": [
       "<Figure size 576x576 with 1 Axes>"
      ]
     },
     "metadata": {
      "needs_background": "light"
     },
     "output_type": "display_data"
    }
   ],
   "source": [
    "plt.figure(figsize=(8,8))\n",
    "plt.scatter(melt_rates.lat,melt_rates.lon,c=melt_rates.meltRate,cmap='bwr',vmin=-2,vmax=2)\n",
    "for rows in melt_rate.itterows():\n",
    "    plt.annotate( melt_rates.Site_ID,(melt_rates.lon, melt_rates.lat),xytext=(melt_ratse.lon+0.5, melt_rate.lat+0.5),arrowprops=dict(arrowstyle='->'),fontsize=8)\n",
    "plt.colorbar()\n",
    "plt.show()"
   ]
  },
  {
   "cell_type": "code",
   "execution_count": null,
   "id": "ccc46a03",
   "metadata": {},
   "outputs": [],
   "source": []
  }
 ],
 "metadata": {
  "kernelspec": {
   "display_name": "remote_sensing",
   "language": "python",
   "name": "remote_sensing"
  },
  "language_info": {
   "codemirror_mode": {
    "name": "ipython",
    "version": 3
   },
   "file_extension": ".py",
   "mimetype": "text/x-python",
   "name": "python",
   "nbconvert_exporter": "python",
   "pygments_lexer": "ipython3",
   "version": "3.7.8"
  }
 },
 "nbformat": 4,
 "nbformat_minor": 5
}
