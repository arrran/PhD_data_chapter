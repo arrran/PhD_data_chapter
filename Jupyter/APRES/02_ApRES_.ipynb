{
 "cells": [
  {
   "cell_type": "code",
   "execution_count": 1,
   "id": "64e35fc7",
   "metadata": {},
   "outputs": [
    {
     "ename": "SyntaxError",
     "evalue": "invalid syntax (<ipython-input-1-4802354451a7>, line 1)",
     "output_type": "error",
     "traceback": [
      "\u001b[0;36m  File \u001b[0;32m\"<ipython-input-1-4802354451a7>\"\u001b[0;36m, line \u001b[0;32m1\u001b[0m\n\u001b[0;31m    Hi Arran,\u001b[0m\n\u001b[0m           ^\u001b[0m\n\u001b[0;31mSyntaxError\u001b[0m\u001b[0;31m:\u001b[0m invalid syntax\n"
     ]
    }
   ],
   "source": [
    "Hi Arran,\n",
    "\n",
    "I've copied the 20/21 traverse data here:\n",
    "\n",
    "/Volumes/arc_04/FIELD_DATA/K8622021/\n",
    "\n",
    "Looks like metadata is in KIS\\ Science/KIS_science.shp\n",
    "\n",
    "Looks like the winter over station did well. Have a look at the point measurements when you get a chance and see if everything you are expecting is there.\n",
    "\n",
    "On his own initiative all the stations were visited with the UC system. I'm hoping this doesn't cause any issues.\n",
    "\n",
    "Cheers - Huw\n"
   ]
  },
  {
   "cell_type": "code",
   "execution_count": 1,
   "id": "d2314c5b",
   "metadata": {},
   "outputs": [],
   "source": [
    "import matplotlib.pyplot as plt\n",
    "import numpy as np\n",
    "import glob\n",
    "import os\n",
    "import sys\n",
    "import time\n",
    "import datetime as dt\n",
    "import pandas as pd\n",
    "import geopandas as gpd\n",
    "import scipy as sp\n",
    "import rasterio as rio\n",
    "from shapely.geometry import Point, LineString, Polygon, MultiPoint, box\n",
    "import fiona\n",
    "from shapely.ops import nearest_points\n",
    "import matplotlib as mpl"
   ]
  },
  {
   "cell_type": "code",
   "execution_count": 2,
   "id": "95c9f582",
   "metadata": {},
   "outputs": [
    {
     "name": "stdout",
     "output_type": "stream",
     "text": [
      "'ApRES data files'\n",
      " ApRES_RESOURCES\n",
      " K862_2021_ShapeFiles\n",
      " K862A_2021_TraverseScience-compressed.pdf\n",
      "'KIS2 New ApRES Trial Sub burst results'\n",
      "'KIS2 WO GPS copy'\n",
      " KIS_science.cpg\n",
      " KIS_science.dbf\n",
      " KIS_science.prj\n",
      " KIS_science.qpj\n",
      " KIS_science.shp\n",
      " KIS_science.shx\n",
      "'KSI1 Winterover ApRES Trial subburst.docx'\n"
     ]
    }
   ],
   "source": [
    "!ls /Volumes/arc_04/FIELD_DATA/K8622021/'KIS Science'/"
   ]
  },
  {
   "cell_type": "code",
   "execution_count": 3,
   "id": "bf1f9eb7",
   "metadata": {},
   "outputs": [],
   "source": [
    "metadata = gpd.read_file(\"/Volumes/arc_04/FIELD_DATA/K8622021/KIS Science/KIS_science.shp\")\n"
   ]
  },
  {
   "cell_type": "code",
   "execution_count": 4,
   "id": "5e88f4af",
   "metadata": {},
   "outputs": [],
   "source": [
    "metadata.query('(Data_type==\"ApRES\") & (Project==\"KIS2\")',inplace=True)"
   ]
  },
  {
   "cell_type": "code",
   "execution_count": 5,
   "id": "6f533073",
   "metadata": {},
   "outputs": [],
   "source": [
    "metadata.drop(columns=['id', 'Uni_Event', 'Data_type',\n",
    "       'Flag1ht_cm', 'Flag2ht_cm',  'Project'], \n",
    "             inplace=True)"
   ]
  },
  {
   "cell_type": "code",
   "execution_count": 6,
   "id": "5795aa39",
   "metadata": {},
   "outputs": [
    {
     "data": {
      "text/plain": [
       "Index(['Date', 'AF_Gain', 'Burst', 'RF_Atten', 'Depth_m', 'Site_ID', 'Notes',\n",
       "       'ApRes_Unit', 'File_Name', 'Y', 'X', 'geometry'],\n",
       "      dtype='object')"
      ]
     },
     "execution_count": 6,
     "metadata": {},
     "output_type": "execute_result"
    }
   ],
   "source": [
    "metadata.keys()"
   ]
  },
  {
   "cell_type": "code",
   "execution_count": 7,
   "id": "c1983b6c",
   "metadata": {},
   "outputs": [],
   "source": [
    "metadata.rename(columns={\"X\":\"lon\",\"Y\":\"lat\",'Burst':\"Stacks\",\"ApRes_Unit\":\"APRES_unit\",\"Depth_m\":\"Approx_Depth\"},inplace=True)"
   ]
  },
  {
   "cell_type": "code",
   "execution_count": 8,
   "id": "1eaf1224",
   "metadata": {},
   "outputs": [],
   "source": [
    "metadata['Epoch'] = 3\n",
    "metadata['utc_time'] = np.nan"
   ]
  },
  {
   "cell_type": "code",
   "execution_count": 9,
   "id": "383d889d",
   "metadata": {},
   "outputs": [],
   "source": [
    "metadata['Site_ID'] = metadata.Site_ID.apply(lambda x: x.upper()).copy()"
   ]
  },
  {
   "cell_type": "code",
   "execution_count": 10,
   "id": "5e7c91f3",
   "metadata": {},
   "outputs": [],
   "source": [
    "metadata.loc[61,['Site_ID']] ='CP07'"
   ]
  },
  {
   "cell_type": "code",
   "execution_count": 11,
   "id": "0b39e944",
   "metadata": {},
   "outputs": [],
   "source": [
    "metadata.drop(columns=['geometry'],inplace=True)"
   ]
  },
  {
   "cell_type": "code",
   "execution_count": 12,
   "id": "0f9bb381",
   "metadata": {},
   "outputs": [
    {
     "data": {
      "text/html": [
       "<div>\n",
       "<style scoped>\n",
       "    .dataframe tbody tr th:only-of-type {\n",
       "        vertical-align: middle;\n",
       "    }\n",
       "\n",
       "    .dataframe tbody tr th {\n",
       "        vertical-align: top;\n",
       "    }\n",
       "\n",
       "    .dataframe thead th {\n",
       "        text-align: right;\n",
       "    }\n",
       "</style>\n",
       "<table border=\"1\" class=\"dataframe\">\n",
       "  <thead>\n",
       "    <tr style=\"text-align: right;\">\n",
       "      <th></th>\n",
       "      <th>Date</th>\n",
       "      <th>AF_Gain</th>\n",
       "      <th>Stacks</th>\n",
       "      <th>RF_Atten</th>\n",
       "      <th>Approx_Depth</th>\n",
       "      <th>Site_ID</th>\n",
       "      <th>Notes</th>\n",
       "      <th>APRES_unit</th>\n",
       "      <th>File_Name</th>\n",
       "      <th>lat</th>\n",
       "      <th>lon</th>\n",
       "      <th>Epoch</th>\n",
       "      <th>utc_time</th>\n",
       "    </tr>\n",
       "  </thead>\n",
       "  <tbody>\n",
       "    <tr>\n",
       "      <th>35</th>\n",
       "      <td>2020-12-22</td>\n",
       "      <td>-4</td>\n",
       "      <td>64.0</td>\n",
       "      <td>20</td>\n",
       "      <td>770.0</td>\n",
       "      <td>CP34</td>\n",
       "      <td>F1=W. New site</td>\n",
       "      <td>UC Antenna, UC unit SN-143</td>\n",
       "      <td>Survey_2020-12-22_035737.dat</td>\n",
       "      <td>-82.471847</td>\n",
       "      <td>-152.208053</td>\n",
       "      <td>3</td>\n",
       "      <td>NaN</td>\n",
       "    </tr>\n",
       "    <tr>\n",
       "      <th>36</th>\n",
       "      <td>2020-12-22</td>\n",
       "      <td>-4</td>\n",
       "      <td>64.0</td>\n",
       "      <td>21</td>\n",
       "      <td>665.0</td>\n",
       "      <td>CP33</td>\n",
       "      <td>F1=W. Two sharp reflectors at 665m and 764m, s...</td>\n",
       "      <td>UC Antenna, UC unit SN-143</td>\n",
       "      <td>Survey_2020-12-22_042049.dat</td>\n",
       "      <td>-82.471548</td>\n",
       "      <td>-152.224309</td>\n",
       "      <td>3</td>\n",
       "      <td>NaN</td>\n",
       "    </tr>\n",
       "    <tr>\n",
       "      <th>37</th>\n",
       "      <td>2020-12-22</td>\n",
       "      <td>-4</td>\n",
       "      <td>64.0</td>\n",
       "      <td>20</td>\n",
       "      <td>566.0</td>\n",
       "      <td>CP32</td>\n",
       "      <td>F1=W. Two sharp reflectors at 566m 765m, new site</td>\n",
       "      <td>UC Antenna, UC unit SN-143</td>\n",
       "      <td>Survey_2020-12-22_044149.dat</td>\n",
       "      <td>-82.471325</td>\n",
       "      <td>-152.238891</td>\n",
       "      <td>3</td>\n",
       "      <td>NaN</td>\n",
       "    </tr>\n",
       "    <tr>\n",
       "      <th>38</th>\n",
       "      <td>2020-12-22</td>\n",
       "      <td>-4</td>\n",
       "      <td>64.0</td>\n",
       "      <td>20</td>\n",
       "      <td>493.0</td>\n",
       "      <td>CP31</td>\n",
       "      <td>F1=W. Two sharp reflectors at 493m, 758m , new...</td>\n",
       "      <td>UC Antenna, UC unit SN-143</td>\n",
       "      <td>Survey_2020-12-22_050111.dat</td>\n",
       "      <td>-82.471154</td>\n",
       "      <td>-152.257888</td>\n",
       "      <td>3</td>\n",
       "      <td>NaN</td>\n",
       "    </tr>\n",
       "    <tr>\n",
       "      <th>39</th>\n",
       "      <td>2020-12-22</td>\n",
       "      <td>-4</td>\n",
       "      <td>64.0</td>\n",
       "      <td>24</td>\n",
       "      <td>447.0</td>\n",
       "      <td>CP30</td>\n",
       "      <td>F1=W, new site, sharp reflectors at 447m and 750m</td>\n",
       "      <td>UC Antenna, UC unit SN-143</td>\n",
       "      <td>Survey_2020-12-22_052753.dat</td>\n",
       "      <td>-82.471072</td>\n",
       "      <td>-152.278526</td>\n",
       "      <td>3</td>\n",
       "      <td>NaN</td>\n",
       "    </tr>\n",
       "  </tbody>\n",
       "</table>\n",
       "</div>"
      ],
      "text/plain": [
       "          Date AF_Gain  Stacks RF_Atten  Approx_Depth Site_ID  \\\n",
       "35  2020-12-22      -4    64.0       20         770.0    CP34   \n",
       "36  2020-12-22      -4    64.0       21         665.0    CP33   \n",
       "37  2020-12-22      -4    64.0       20         566.0    CP32   \n",
       "38  2020-12-22      -4    64.0       20         493.0    CP31   \n",
       "39  2020-12-22      -4    64.0       24         447.0    CP30   \n",
       "\n",
       "                                                Notes  \\\n",
       "35                                     F1=W. New site   \n",
       "36  F1=W. Two sharp reflectors at 665m and 764m, s...   \n",
       "37  F1=W. Two sharp reflectors at 566m 765m, new site   \n",
       "38  F1=W. Two sharp reflectors at 493m, 758m , new...   \n",
       "39  F1=W, new site, sharp reflectors at 447m and 750m   \n",
       "\n",
       "                    APRES_unit                     File_Name        lat  \\\n",
       "35  UC Antenna, UC unit SN-143  Survey_2020-12-22_035737.dat -82.471847   \n",
       "36  UC Antenna, UC unit SN-143  Survey_2020-12-22_042049.dat -82.471548   \n",
       "37  UC Antenna, UC unit SN-143  Survey_2020-12-22_044149.dat -82.471325   \n",
       "38  UC Antenna, UC unit SN-143  Survey_2020-12-22_050111.dat -82.471154   \n",
       "39  UC Antenna, UC unit SN-143  Survey_2020-12-22_052753.dat -82.471072   \n",
       "\n",
       "           lon  Epoch  utc_time  \n",
       "35 -152.208053      3       NaN  \n",
       "36 -152.224309      3       NaN  \n",
       "37 -152.238891      3       NaN  \n",
       "38 -152.257888      3       NaN  \n",
       "39 -152.278526      3       NaN  "
      ]
     },
     "execution_count": 12,
     "metadata": {},
     "output_type": "execute_result"
    }
   ],
   "source": [
    "metadata.head()"
   ]
  },
  {
   "cell_type": "code",
   "execution_count": 59,
   "id": "1281655a",
   "metadata": {},
   "outputs": [
    {
     "data": {
      "text/plain": [
       "array(['CP34', 'CP33', 'CP32', 'CP31', 'CP30', 'CP_29_DRILL', 'CP28',\n",
       "       'CP27', 'CP26', 'CP25', 'CP24', 'CP23', 'CP22', 'CP21', 'CP20',\n",
       "       'CP19', 'CP15', 'CP18', 'CP16', 'CP17', 'CP11', 'CP10', 'CP09',\n",
       "       'CP08', 'CP13', 'CP07', 'CP14', 'CP06', 'CP05', 'CP04', 'CP01',\n",
       "       'CP02', 'CP03'], dtype=object)"
      ]
     },
     "execution_count": 59,
     "metadata": {},
     "output_type": "execute_result"
    }
   ],
   "source": [
    "metadata.Site_ID.unique()"
   ]
  },
  {
   "cell_type": "code",
   "execution_count": 14,
   "id": "5e4ff322",
   "metadata": {},
   "outputs": [
    {
     "data": {
      "text/plain": [
       "Index(['SiteName', 'YYYYUTC', 'MTUTC', 'DDUTC', 'HHUTC', 'MNUTC', 'LATDD',\n",
       "       'LATMM', 'LONDD', 'LONMM', 'FILE', 'Atten', 'Gain', 'Stacks', 'Epoch',\n",
       "       'ApproxDepth', 'checked', 'comments'],\n",
       "      dtype='object')"
      ]
     },
     "execution_count": 14,
     "metadata": {},
     "output_type": "execute_result"
    }
   ],
   "source": [
    "metadata1920 = pd.read_csv(\"/Users/home/whitefar/DATA/ApRES/K862A1920ApRESSites_KIS2.csv\")\n",
    "metadata1920.keys()"
   ]
  },
  {
   "cell_type": "code",
   "execution_count": 15,
   "id": "16c33cb3",
   "metadata": {},
   "outputs": [],
   "source": [
    "metadata1920['utc_datetime'] = pd.to_datetime({'year':metadata1920.YYYYUTC,\n",
    "                           'month':metadata1920.MTUTC,\n",
    "                            'day':metadata1920.DDUTC,\n",
    "                               'hour':metadata1920.HHUTC,\n",
    "                            'minute':metadata1920.MNUTC}).apply(lambda x: pd.Timestamp(x))"
   ]
  },
  {
   "cell_type": "code",
   "execution_count": 16,
   "id": "f278f139",
   "metadata": {},
   "outputs": [],
   "source": [
    "metadata1920['utc_time'] = metadata1920['utc_datetime'].apply(lambda x: x.isoformat())\n",
    "metadata1920['Date'] =metadata1920['utc_datetime'].apply(lambda x: x.date())"
   ]
  },
  {
   "cell_type": "code",
   "execution_count": 17,
   "id": "88798d00",
   "metadata": {},
   "outputs": [],
   "source": [
    "metadata1920['lat'] = (metadata1920.LATDD - metadata1920.LATMM/60).round(decimals=6)\n",
    "metadata1920['lon'] = (metadata1920.LONDD - metadata1920.LONMM/60).round(decimals=6)"
   ]
  },
  {
   "cell_type": "code",
   "execution_count": 18,
   "id": "2fd03c3b",
   "metadata": {},
   "outputs": [],
   "source": [
    "metadata1920['APRES_unit'] = 'Huws_unit1'"
   ]
  },
  {
   "cell_type": "code",
   "execution_count": 19,
   "id": "c030ae28",
   "metadata": {},
   "outputs": [],
   "source": [
    "metadata1920.rename(columns={\"SiteName\":\"Site_ID\",\"FILE\":\"File_Name\",\"Gain\":\"AF_Gain\",\"Atten\":\"RF_Atten\",\"ApproxDepth\":\"Approx_Depth\",\"comments\":\"Notes\"},inplace=True)"
   ]
  },
  {
   "cell_type": "code",
   "execution_count": 20,
   "id": "d7f05c8d",
   "metadata": {},
   "outputs": [],
   "source": [
    "metadata1920.drop(columns=['utc_datetime'],inplace=True)"
   ]
  },
  {
   "cell_type": "code",
   "execution_count": 21,
   "id": "e6afa193",
   "metadata": {},
   "outputs": [
    {
     "data": {
      "text/plain": [
       "Index(['Site_ID', 'YYYYUTC', 'MTUTC', 'DDUTC', 'HHUTC', 'MNUTC', 'LATDD',\n",
       "       'LATMM', 'LONDD', 'LONMM', 'File_Name', 'RF_Atten', 'AF_Gain', 'Stacks',\n",
       "       'Epoch', 'Approx_Depth', 'checked', 'Notes', 'utc_time', 'Date', 'lat',\n",
       "       'lon', 'APRES_unit'],\n",
       "      dtype='object')"
      ]
     },
     "execution_count": 21,
     "metadata": {},
     "output_type": "execute_result"
    }
   ],
   "source": [
    "metadata1920.keys()"
   ]
  },
  {
   "cell_type": "code",
   "execution_count": 22,
   "id": "223ccf93",
   "metadata": {},
   "outputs": [],
   "source": [
    "metadata1920 = metadata1920[metadata.keys()].copy()"
   ]
  },
  {
   "cell_type": "code",
   "execution_count": 23,
   "id": "1234b811",
   "metadata": {},
   "outputs": [],
   "source": [
    "meta_out = pd.concat([metadata1920,metadata])"
   ]
  },
  {
   "cell_type": "code",
   "execution_count": 36,
   "id": "0074311f",
   "metadata": {},
   "outputs": [],
   "source": [
    "meta_out.drop([40],inplace=True)"
   ]
  },
  {
   "cell_type": "code",
   "execution_count": 37,
   "id": "8232a86d",
   "metadata": {},
   "outputs": [],
   "source": [
    "meta_out.reset_index(drop=True,inplace=True)"
   ]
  },
  {
   "cell_type": "code",
   "execution_count": 38,
   "id": "aad8cfd8",
   "metadata": {},
   "outputs": [
    {
     "data": {
      "text/plain": [
       "Index(['Date', 'utc_time', 'lat', 'lon', 'Approx_Depth', 'File_Name',\n",
       "       'AF_Gain', 'Stacks', 'RF_Atten', 'Site_ID', 'Notes', 'APRES_unit',\n",
       "       'Epoch'],\n",
       "      dtype='object')"
      ]
     },
     "execution_count": 38,
     "metadata": {},
     "output_type": "execute_result"
    }
   ],
   "source": [
    "meta_out.keys()"
   ]
  },
  {
   "cell_type": "code",
   "execution_count": 39,
   "id": "b604a393",
   "metadata": {},
   "outputs": [],
   "source": [
    "meta_out = meta_out[['Date', 'utc_time', 'lat', 'lon','Approx_Depth','File_Name','AF_Gain', 'Stacks', 'RF_Atten',  'Site_ID',\n",
    "       'Notes', 'APRES_unit',   'Epoch']]\n"
   ]
  },
  {
   "cell_type": "code",
   "execution_count": null,
   "id": "d7f82647",
   "metadata": {},
   "outputs": [],
   "source": []
  },
  {
   "cell_type": "code",
   "execution_count": 40,
   "id": "5cb0cbe3",
   "metadata": {},
   "outputs": [],
   "source": [
    "meta_out.to_csv('/Users/home/whitefar/DATA/ApRES/kis2_apres_metadata.csv')"
   ]
  },
  {
   "cell_type": "code",
   "execution_count": 41,
   "id": "b94ae6c9",
   "metadata": {},
   "outputs": [
    {
     "data": {
      "text/plain": [
       "array(['CP01', 'CP02', 'CP03', 'CP04', 'CP05', 'CP06', 'CP07', 'CP08',\n",
       "       'CP09', 'CP10', 'CP11', 'CP12', 'CP13', 'CP14', 'CP15', 'CP16',\n",
       "       'CP17', 'CP18', 'CP19', 'CP20', 'CP21', 'CP22', 'CP23', 'CP24',\n",
       "       'CP25', 'CP26', 'CP27', 'CP28', 'CP30', 'CP31', 'CP32', 'CP33',\n",
       "       'CP34', 'CP_29_DRILL'], dtype=object)"
      ]
     },
     "execution_count": 41,
     "metadata": {},
     "output_type": "execute_result"
    }
   ],
   "source": [
    "meta_out.Site_ID.unique()"
   ]
  },
  {
   "cell_type": "code",
   "execution_count": 42,
   "id": "418070f8",
   "metadata": {},
   "outputs": [],
   "source": [
    "meta_out.sort_values(by=['Site_ID','Epoch'],inplace=True)"
   ]
  },
  {
   "cell_type": "code",
   "execution_count": 43,
   "id": "7cd2b150",
   "metadata": {},
   "outputs": [],
   "source": [
    "meta_out.reset_index(drop=True,inplace=True)"
   ]
  },
  {
   "cell_type": "code",
   "execution_count": 44,
   "id": "985859df",
   "metadata": {},
   "outputs": [],
   "source": [
    "meta_out.to_csv('/Users/home/whitefar/DATA/ApRES/kis2_apres_metadata_by_Site_ID.csv')"
   ]
  },
  {
   "cell_type": "code",
   "execution_count": 45,
   "id": "9fcd06ba",
   "metadata": {},
   "outputs": [
    {
     "name": "stdout",
     "output_type": "stream",
     "text": [
      "'KIS2 Old WO ApRES Card1'       Survey_2020-12-23_002658.dat\n",
      "'KIS2 Old WO ApRES Card2'       Survey_2020-12-23_004352.dat\n",
      " Survey_2020-12-22_035737.dat   Survey_2020-12-23_010317.dat\n",
      " Survey_2020-12-22_042049.dat   Survey_2020-12-23_013605.dat\n",
      " Survey_2020-12-22_044149.dat   Survey_2020-12-23_015608.dat\n",
      " Survey_2020-12-22_050111.dat   Survey_2020-12-23_021900.dat\n",
      " Survey_2020-12-22_052753.dat   Survey_2020-12-23_023455.dat\n",
      " Survey_2020-12-22_201557.dat   Survey_2020-12-23_024953.dat\n",
      " Survey_2020-12-22_203746.dat   Survey_2020-12-23_030547.dat\n",
      " Survey_2020-12-22_205751.dat   Survey_2020-12-23_042754.dat\n",
      " Survey_2020-12-22_211915.dat   Survey_2020-12-23_045043.dat\n",
      " Survey_2020-12-22_213835.dat   Survey_2020-12-23_050820.dat\n",
      " Survey_2020-12-22_221342.dat   Survey_2020-12-23_052812.dat\n",
      " Survey_2020-12-22_223029.dat   Survey_2020-12-23_202213.dat\n",
      " Survey_2020-12-22_224858.dat   Survey_2020-12-23_204021.dat\n",
      " Survey_2020-12-22_230405.dat   Survey_2020-12-23_205701.dat\n",
      " Survey_2020-12-22_233240.dat   Survey_2020-12-24_210803.dat\n",
      " Survey_2020-12-22_234900.dat   Survey_2020-12-25_004708.dat\n",
      " Survey_2020-12-23_001015.dat\n"
     ]
    }
   ],
   "source": [
    "!ls /Volumes/arc_04/FIELD_DATA/K8622021/'KIS Science'/'ApRES data files'/KIS2"
   ]
  },
  {
   "cell_type": "code",
   "execution_count": 46,
   "id": "c78bb04f",
   "metadata": {},
   "outputs": [
    {
     "data": {
      "text/plain": [
       "Index(['Date', 'utc_time', 'lat', 'lon', 'Approx_Depth', 'File_Name',\n",
       "       'AF_Gain', 'Stacks', 'RF_Atten', 'Site_ID', 'Notes', 'APRES_unit',\n",
       "       'Epoch'],\n",
       "      dtype='object')"
      ]
     },
     "execution_count": 46,
     "metadata": {},
     "output_type": "execute_result"
    }
   ],
   "source": [
    "meta_out.keys()"
   ]
  },
  {
   "cell_type": "code",
   "execution_count": 47,
   "id": "25fe5170",
   "metadata": {},
   "outputs": [
    {
     "data": {
      "text/plain": [
       "Date                       2019-12-08\n",
       "utc_time          2019-12-08T03:16:00\n",
       "lat                          -82.4656\n",
       "lon                          -152.471\n",
       "Approx_Depth                      521\n",
       "File_Name       2019-12-08_030609.dat\n",
       "AF_Gain                            -4\n",
       "Stacks                             64\n",
       "RF_Atten                           22\n",
       "Site_ID                          CP15\n",
       "Notes                             NaN\n",
       "APRES_unit                 Huws_unit1\n",
       "Epoch                               1\n",
       "Name: 40, dtype: object"
      ]
     },
     "execution_count": 47,
     "metadata": {},
     "output_type": "execute_result"
    }
   ],
   "source": [
    "# meta_out.iloc[40]"
   ]
  },
  {
   "cell_type": "code",
   "execution_count": 186,
   "id": "18d36ff6",
   "metadata": {},
   "outputs": [
    {
     "data": {
      "text/plain": [
       "Index(['Var1', 'Date', 'utc_time', 'lat', 'lon', 'Approx_Depth', 'File_Name',\n",
       "       'AF_Gain', 'Stacks', 'RF_Atten', 'Site_ID', 'Notes', 'APRES_unit',\n",
       "       'Epoch', 'meltRate', 'meltRateError', 'bed', 'dhStrain', 'dheStrain'],\n",
       "      dtype='object')"
      ]
     },
     "execution_count": 186,
     "metadata": {},
     "output_type": "execute_result"
    }
   ],
   "source": [
    "melt_rates = pd.read_csv('/Users/home/whitefar/DATA/ApRES/kis2_meltrates.csv')\n",
    "melt_rates.keys()"
   ]
  },
  {
   "cell_type": "code",
   "execution_count": 187,
   "id": "5c85b755",
   "metadata": {},
   "outputs": [],
   "source": [
    "# df.loc[df['column_name'].isin(some_values)]\n",
    "downchannel = ['CP07','CP16', 'CP17', 'CP18', 'CP19', 'CP20', 'CP21', 'CP22', 'CP23', 'CP24','CP25' ]\n",
    "\n",
    "crosschannel = ['CP01', 'CP02', 'CP03', 'CP04', 'CP05', 'CP06', 'CP07', 'CP08',\n",
    "       'CP09', 'CP10', 'CP11', 'CP12', 'CP13', 'CP14', 'CP15' ]\n"
   ]
  },
  {
   "cell_type": "code",
   "execution_count": 188,
   "id": "43928e59",
   "metadata": {},
   "outputs": [],
   "source": [
    "melt_rates['cross_channel'] = melt_rates['Site_ID'].isin(crosschannel)\n",
    "melt_rates['down_channel'] = melt_rates['Site_ID'].isin(downchannel)"
   ]
  },
  {
   "cell_type": "code",
   "execution_count": 189,
   "id": "db8e7478",
   "metadata": {},
   "outputs": [],
   "source": [
    "# melt_rates = melt_rates.query('Epoch == 3').copy()"
   ]
  },
  {
   "cell_type": "code",
   "execution_count": 190,
   "id": "624ede1e",
   "metadata": {},
   "outputs": [],
   "source": [
    "points = [Point(xy) for xy in zip(melt_rates.lon,melt_rates.lat) ]\n",
    "gdf = gpd.GeoDataFrame(melt_rates,geometry=points,crs=4326)"
   ]
  },
  {
   "cell_type": "code",
   "execution_count": 191,
   "id": "7d24608a",
   "metadata": {},
   "outputs": [],
   "source": [
    "gd = gdf.to_crs(3031)\n",
    "gd['x']=gd.geometry.x\n",
    "gd['y']=gd.geometry.y"
   ]
  },
  {
   "cell_type": "code",
   "execution_count": 192,
   "id": "c264cffc",
   "metadata": {},
   "outputs": [
    {
     "data": {
      "text/html": [
       "<div>\n",
       "<style scoped>\n",
       "    .dataframe tbody tr th:only-of-type {\n",
       "        vertical-align: middle;\n",
       "    }\n",
       "\n",
       "    .dataframe tbody tr th {\n",
       "        vertical-align: top;\n",
       "    }\n",
       "\n",
       "    .dataframe thead th {\n",
       "        text-align: right;\n",
       "    }\n",
       "</style>\n",
       "<table border=\"1\" class=\"dataframe\">\n",
       "  <thead>\n",
       "    <tr style=\"text-align: right;\">\n",
       "      <th></th>\n",
       "      <th>Var1</th>\n",
       "      <th>Date</th>\n",
       "      <th>utc_time</th>\n",
       "      <th>lat</th>\n",
       "      <th>lon</th>\n",
       "      <th>Approx_Depth</th>\n",
       "      <th>File_Name</th>\n",
       "      <th>AF_Gain</th>\n",
       "      <th>Stacks</th>\n",
       "      <th>RF_Atten</th>\n",
       "      <th>...</th>\n",
       "      <th>meltRate</th>\n",
       "      <th>meltRateError</th>\n",
       "      <th>bed</th>\n",
       "      <th>dhStrain</th>\n",
       "      <th>dheStrain</th>\n",
       "      <th>cross_channel</th>\n",
       "      <th>down_channel</th>\n",
       "      <th>geometry</th>\n",
       "      <th>x</th>\n",
       "      <th>y</th>\n",
       "    </tr>\n",
       "  </thead>\n",
       "  <tbody>\n",
       "    <tr>\n",
       "      <th>0</th>\n",
       "      <td>0</td>\n",
       "      <td>2019-12-07</td>\n",
       "      <td>2019-12-07T23:03:00</td>\n",
       "      <td>-82.489493</td>\n",
       "      <td>-152.531345</td>\n",
       "      <td>710</td>\n",
       "      <td>2019-12-07_225600.dat</td>\n",
       "      <td>-4</td>\n",
       "      <td>64</td>\n",
       "      <td>20</td>\n",
       "      <td>...</td>\n",
       "      <td>NaN</td>\n",
       "      <td>NaN</td>\n",
       "      <td>NaN</td>\n",
       "      <td>NaN</td>\n",
       "      <td>NaN</td>\n",
       "      <td>True</td>\n",
       "      <td>False</td>\n",
       "      <td>POINT (-376925.062 -725034.465)</td>\n",
       "      <td>-376925.062093</td>\n",
       "      <td>-725034.465287</td>\n",
       "    </tr>\n",
       "    <tr>\n",
       "      <th>1</th>\n",
       "      <td>1</td>\n",
       "      <td>NaT</td>\n",
       "      <td>NaT</td>\n",
       "      <td>-82.489493</td>\n",
       "      <td>-152.531345</td>\n",
       "      <td>710</td>\n",
       "      <td>2019-12-21_215758.dat</td>\n",
       "      <td>-4</td>\n",
       "      <td>64</td>\n",
       "      <td>20</td>\n",
       "      <td>...</td>\n",
       "      <td>NaN</td>\n",
       "      <td>NaN</td>\n",
       "      <td>NaN</td>\n",
       "      <td>NaN</td>\n",
       "      <td>NaN</td>\n",
       "      <td>True</td>\n",
       "      <td>False</td>\n",
       "      <td>POINT (-376925.062 -725034.465)</td>\n",
       "      <td>-376925.062093</td>\n",
       "      <td>-725034.465287</td>\n",
       "    </tr>\n",
       "    <tr>\n",
       "      <th>2</th>\n",
       "      <td>2</td>\n",
       "      <td>2020-12-24</td>\n",
       "      <td>NaN</td>\n",
       "      <td>-82.489474</td>\n",
       "      <td>-152.531996</td>\n",
       "      <td>708</td>\n",
       "      <td>Survey_2020-12-23_202213.dat</td>\n",
       "      <td>-4</td>\n",
       "      <td>64</td>\n",
       "      <td>20</td>\n",
       "      <td>...</td>\n",
       "      <td>0.003546</td>\n",
       "      <td>0.012276</td>\n",
       "      <td>708.933784</td>\n",
       "      <td>-0.328751</td>\n",
       "      <td>0.012835</td>\n",
       "      <td>True</td>\n",
       "      <td>False</td>\n",
       "      <td>POINT (-376917.780 -725040.587)</td>\n",
       "      <td>-376917.780305</td>\n",
       "      <td>-725040.587145</td>\n",
       "    </tr>\n",
       "    <tr>\n",
       "      <th>3</th>\n",
       "      <td>3</td>\n",
       "      <td>2019-12-07</td>\n",
       "      <td>2019-12-07T23:20:00</td>\n",
       "      <td>-82.484998</td>\n",
       "      <td>-152.520775</td>\n",
       "      <td>713</td>\n",
       "      <td>2019-12-07_231044.dat</td>\n",
       "      <td>-4</td>\n",
       "      <td>64</td>\n",
       "      <td>22</td>\n",
       "      <td>...</td>\n",
       "      <td>NaN</td>\n",
       "      <td>NaN</td>\n",
       "      <td>NaN</td>\n",
       "      <td>NaN</td>\n",
       "      <td>NaN</td>\n",
       "      <td>True</td>\n",
       "      <td>False</td>\n",
       "      <td>POINT (-377285.101 -725400.001)</td>\n",
       "      <td>-377285.100817</td>\n",
       "      <td>-725400.001157</td>\n",
       "    </tr>\n",
       "    <tr>\n",
       "      <th>4</th>\n",
       "      <td>4</td>\n",
       "      <td>NaT</td>\n",
       "      <td>NaT</td>\n",
       "      <td>-82.484998</td>\n",
       "      <td>-152.520775</td>\n",
       "      <td>713</td>\n",
       "      <td>2019-12-21_221136.dat</td>\n",
       "      <td>-4</td>\n",
       "      <td>64</td>\n",
       "      <td>22</td>\n",
       "      <td>...</td>\n",
       "      <td>-0.023549</td>\n",
       "      <td>0.033077</td>\n",
       "      <td>714.742617</td>\n",
       "      <td>0.028749</td>\n",
       "      <td>0.001264</td>\n",
       "      <td>True</td>\n",
       "      <td>False</td>\n",
       "      <td>POINT (-377285.101 -725400.001)</td>\n",
       "      <td>-377285.100817</td>\n",
       "      <td>-725400.001157</td>\n",
       "    </tr>\n",
       "  </tbody>\n",
       "</table>\n",
       "<p>5 rows × 24 columns</p>\n",
       "</div>"
      ],
      "text/plain": [
       "   Var1        Date             utc_time        lat         lon  Approx_Depth  \\\n",
       "0     0  2019-12-07  2019-12-07T23:03:00 -82.489493 -152.531345           710   \n",
       "1     1         NaT                  NaT -82.489493 -152.531345           710   \n",
       "2     2  2020-12-24                  NaN -82.489474 -152.531996           708   \n",
       "3     3  2019-12-07  2019-12-07T23:20:00 -82.484998 -152.520775           713   \n",
       "4     4         NaT                  NaT -82.484998 -152.520775           713   \n",
       "\n",
       "                      File_Name  AF_Gain  Stacks  RF_Atten  ...  meltRate  \\\n",
       "0         2019-12-07_225600.dat       -4      64        20  ...       NaN   \n",
       "1         2019-12-21_215758.dat       -4      64        20  ...       NaN   \n",
       "2  Survey_2020-12-23_202213.dat       -4      64        20  ...  0.003546   \n",
       "3         2019-12-07_231044.dat       -4      64        22  ...       NaN   \n",
       "4         2019-12-21_221136.dat       -4      64        22  ... -0.023549   \n",
       "\n",
       "  meltRateError         bed  dhStrain  dheStrain  cross_channel  down_channel  \\\n",
       "0           NaN         NaN       NaN        NaN           True         False   \n",
       "1           NaN         NaN       NaN        NaN           True         False   \n",
       "2      0.012276  708.933784 -0.328751   0.012835           True         False   \n",
       "3           NaN         NaN       NaN        NaN           True         False   \n",
       "4      0.033077  714.742617  0.028749   0.001264           True         False   \n",
       "\n",
       "                          geometry              x              y  \n",
       "0  POINT (-376925.062 -725034.465) -376925.062093 -725034.465287  \n",
       "1  POINT (-376925.062 -725034.465) -376925.062093 -725034.465287  \n",
       "2  POINT (-376917.780 -725040.587) -376917.780305 -725040.587145  \n",
       "3  POINT (-377285.101 -725400.001) -377285.100817 -725400.001157  \n",
       "4  POINT (-377285.101 -725400.001) -377285.100817 -725400.001157  \n",
       "\n",
       "[5 rows x 24 columns]"
      ]
     },
     "execution_count": 192,
     "metadata": {},
     "output_type": "execute_result"
    }
   ],
   "source": [
    "gd.head()"
   ]
  },
  {
   "cell_type": "code",
   "execution_count": 193,
   "id": "e3993031",
   "metadata": {},
   "outputs": [],
   "source": [
    "gd.drop(columns=['geometry']).to_csv('/Users/home/whitefar/DATA/ApRES/kis2_meltrates.csv')"
   ]
  },
  {
   "cell_type": "code",
   "execution_count": 194,
   "id": "ebd933a4",
   "metadata": {},
   "outputs": [],
   "source": [
    "dc_m= gd.loc[gd['down_channel']==True].copy()\n",
    "cc_m = gd.loc[gd['cross_channel']==True].copy()"
   ]
  },
  {
   "cell_type": "code",
   "execution_count": 195,
   "id": "822240bd",
   "metadata": {},
   "outputs": [
    {
     "data": {
      "image/png": "[encoded data removed]",
      "text/plain": [
       "<Figure size 576x576 with 2 Axes>"
      ]
     },
     "metadata": {
      "needs_background": "light"
     },
     "output_type": "display_data"
    }
   ],
   "source": [
    "plt.figure(figsize=(8,8))\n",
    "plt.scatter(gd.x,gd.y,c=gd.meltRate,cmap='bwr',vmin=-2,vmax=2)\n",
    "plt.colorbar()\n",
    "plt.show()"
   ]
  },
  {
   "cell_type": "code",
   "execution_count": 196,
   "id": "8424cabd",
   "metadata": {},
   "outputs": [
    {
     "data": {
      "image/png": "[encoded data removed]",
      "text/plain": [
       "<Figure size 576x576 with 2 Axes>"
      ]
     },
     "metadata": {
      "needs_background": "light"
     },
     "output_type": "display_data"
    }
   ],
   "source": [
    "plt.figure(figsize=(8,8))\n",
    "plt.scatter(dc_m.x,dc_m.y,c=dc_m.meltRate,cmap='bwr',vmin=-2,vmax=2)\n",
    "plt.colorbar()\n",
    "plt.show()"
   ]
  },
  {
   "cell_type": "code",
   "execution_count": 197,
   "id": "ac180cc8",
   "metadata": {},
   "outputs": [
    {
     "data": {
      "image/png": "[encoded data removed]",
      "text/plain": [
       "<Figure size 576x576 with 2 Axes>"
      ]
     },
     "metadata": {
      "needs_background": "light"
     },
     "output_type": "display_data"
    }
   ],
   "source": [
    "plt.figure(figsize=(8,8))\n",
    "plt.scatter(cc_m.x,cc_m.y,c=cc_m.meltRate,cmap='bwr',vmin=-3.5,vmax=3.5)\n",
    "plt.colorbar()\n",
    "plt.show()"
   ]
  },
  {
   "cell_type": "code",
   "execution_count": 198,
   "id": "33ade4fd",
   "metadata": {},
   "outputs": [
    {
     "data": {
      "text/plain": [
       "70    CP34\n",
       "69    CP33\n",
       "68    CP32\n",
       "67    CP31\n",
       "66    CP30\n",
       "      ... \n",
       "3     CP02\n",
       "5     CP02\n",
       "1     CP01\n",
       "0     CP01\n",
       "2     CP01\n",
       "Name: Site_ID, Length: 72, dtype: object"
      ]
     },
     "execution_count": 198,
     "metadata": {},
     "output_type": "execute_result"
    }
   ],
   "source": [
    "gd.sort_values(by=['x']).Site_ID"
   ]
  },
  {
   "cell_type": "code",
   "execution_count": 199,
   "id": "d4462b3d",
   "metadata": {},
   "outputs": [
    {
     "data": {
      "image/png": "[encoded data removed]",
      "text/plain": [
       "<Figure size 576x576 with 1 Axes>"
      ]
     },
     "metadata": {
      "needs_background": "light"
     },
     "output_type": "display_data"
    }
   ],
   "source": [
    "df_plot = cc_m.query('Epoch == 2')\n",
    "plt.figure(figsize=(8,8))\n",
    "plt.plot(df_plot.x,df_plot.meltRate,'x')\n",
    "# plt.plot(cc_m.loc[melt_rates['Epoch']==2].x,cc_m.loc[melt_rates['Epoch']==2].meltRate,'o')\n",
    "plt.show()"
   ]
  },
  {
   "cell_type": "code",
   "execution_count": 200,
   "id": "54b154c7",
   "metadata": {},
   "outputs": [
    {
     "ename": "KeyboardInterrupt",
     "evalue": "",
     "output_type": "error",
     "traceback": [
      "\u001b[0;31m---------------------------------------------------------------------------\u001b[0m",
      "\u001b[0;31mAttributeError\u001b[0m                            Traceback (most recent call last)",
      "\u001b[0;32m~/miniconda3/envs/remote_sensing/lib/python3.7/site-packages/PIL/ImageFile.py\u001b[0m in \u001b[0;36m_save\u001b[0;34m(im, fp, tile, bufsize)\u001b[0m\n\u001b[1;32m    503\u001b[0m     \u001b[0;32mtry\u001b[0m\u001b[0;34m:\u001b[0m\u001b[0;34m\u001b[0m\u001b[0;34m\u001b[0m\u001b[0m\n\u001b[0;32m--> 504\u001b[0;31m         \u001b[0mfh\u001b[0m \u001b[0;34m=\u001b[0m \u001b[0mfp\u001b[0m\u001b[0;34m.\u001b[0m\u001b[0mfileno\u001b[0m\u001b[0;34m(\u001b[0m\u001b[0;34m)\u001b[0m\u001b[0;34m\u001b[0m\u001b[0;34m\u001b[0m\u001b[0m\n\u001b[0m\u001b[1;32m    505\u001b[0m         \u001b[0mfp\u001b[0m\u001b[0;34m.\u001b[0m\u001b[0mflush\u001b[0m\u001b[0;34m(\u001b[0m\u001b[0;34m)\u001b[0m\u001b[0;34m\u001b[0m\u001b[0;34m\u001b[0m\u001b[0m\n",
      "\u001b[0;31mAttributeError\u001b[0m: '_idat' object has no attribute 'fileno'",
      "\nDuring handling of the above exception, another exception occurred:\n",
      "\u001b[0;31mKeyboardInterrupt\u001b[0m                         Traceback (most recent call last)",
      "\u001b[0;32m<ipython-input-200-0db6b269d983>\u001b[0m in \u001b[0;36m<module>\u001b[0;34m\u001b[0m\n\u001b[1;32m      4\u001b[0m     \u001b[0mplt\u001b[0m\u001b[0;34m.\u001b[0m\u001b[0mannotate\u001b[0m\u001b[0;34m(\u001b[0m \u001b[0mmelt_rates\u001b[0m\u001b[0;34m.\u001b[0m\u001b[0miloc\u001b[0m\u001b[0;34m[\u001b[0m\u001b[0mi\u001b[0m\u001b[0;34m]\u001b[0m\u001b[0;34m.\u001b[0m\u001b[0mSite_ID\u001b[0m\u001b[0;34m,\u001b[0m\u001b[0;34m(\u001b[0m\u001b[0mmelt_rates\u001b[0m\u001b[0;34m.\u001b[0m\u001b[0miloc\u001b[0m\u001b[0;34m[\u001b[0m\u001b[0mi\u001b[0m\u001b[0;34m]\u001b[0m\u001b[0;34m.\u001b[0m\u001b[0mlon\u001b[0m\u001b[0;34m,\u001b[0m \u001b[0mmelt_rates\u001b[0m\u001b[0;34m.\u001b[0m\u001b[0miloc\u001b[0m\u001b[0;34m[\u001b[0m\u001b[0mi\u001b[0m\u001b[0;34m]\u001b[0m\u001b[0;34m.\u001b[0m\u001b[0mlat\u001b[0m\u001b[0;34m)\u001b[0m\u001b[0;34m,\u001b[0m\u001b[0mxytext\u001b[0m\u001b[0;34m=\u001b[0m\u001b[0;34m(\u001b[0m\u001b[0mmelt_rates\u001b[0m\u001b[0;34m.\u001b[0m\u001b[0miloc\u001b[0m\u001b[0;34m[\u001b[0m\u001b[0mi\u001b[0m\u001b[0;34m]\u001b[0m\u001b[0;34m.\u001b[0m\u001b[0mlon\u001b[0m\u001b[0;34m+\u001b[0m\u001b[0;36m0.5\u001b[0m\u001b[0;34m,\u001b[0m \u001b[0mmelt_rates\u001b[0m\u001b[0;34m.\u001b[0m\u001b[0miloc\u001b[0m\u001b[0;34m[\u001b[0m\u001b[0mi\u001b[0m\u001b[0;34m]\u001b[0m\u001b[0;34m.\u001b[0m\u001b[0mlat\u001b[0m\u001b[0;34m+\u001b[0m\u001b[0;36m0.5\u001b[0m\u001b[0;34m)\u001b[0m\u001b[0;34m,\u001b[0m\u001b[0marrowprops\u001b[0m\u001b[0;34m=\u001b[0m\u001b[0mdict\u001b[0m\u001b[0;34m(\u001b[0m\u001b[0marrowstyle\u001b[0m\u001b[0;34m=\u001b[0m\u001b[0;34m'->'\u001b[0m\u001b[0;34m)\u001b[0m\u001b[0;34m,\u001b[0m\u001b[0mfontsize\u001b[0m\u001b[0;34m=\u001b[0m\u001b[0;36m8\u001b[0m\u001b[0;34m)\u001b[0m\u001b[0;34m\u001b[0m\u001b[0;34m\u001b[0m\u001b[0m\n\u001b[1;32m      5\u001b[0m \u001b[0;31m# plt.colorbar()\u001b[0m\u001b[0;34m\u001b[0m\u001b[0;34m\u001b[0m\u001b[0;34m\u001b[0m\u001b[0m\n\u001b[0;32m----> 6\u001b[0;31m \u001b[0mplt\u001b[0m\u001b[0;34m.\u001b[0m\u001b[0mshow\u001b[0m\u001b[0;34m(\u001b[0m\u001b[0;34m)\u001b[0m\u001b[0;34m\u001b[0m\u001b[0;34m\u001b[0m\u001b[0m\n\u001b[0m",
      "\u001b[0;32m~/miniconda3/envs/remote_sensing/lib/python3.7/site-packages/matplotlib/pyplot.py\u001b[0m in \u001b[0;36mshow\u001b[0;34m(*args, **kwargs)\u001b[0m\n\u001b[1;32m    351\u001b[0m     \"\"\"\n\u001b[1;32m    352\u001b[0m     \u001b[0m_warn_if_gui_out_of_main_thread\u001b[0m\u001b[0;34m(\u001b[0m\u001b[0;34m)\u001b[0m\u001b[0;34m\u001b[0m\u001b[0;34m\u001b[0m\u001b[0m\n\u001b[0;32m--> 353\u001b[0;31m     \u001b[0;32mreturn\u001b[0m \u001b[0m_backend_mod\u001b[0m\u001b[0;34m.\u001b[0m\u001b[0mshow\u001b[0m\u001b[0;34m(\u001b[0m\u001b[0;34m*\u001b[0m\u001b[0margs\u001b[0m\u001b[0;34m,\u001b[0m \u001b[0;34m**\u001b[0m\u001b[0mkwargs\u001b[0m\u001b[0;34m)\u001b[0m\u001b[0;34m\u001b[0m\u001b[0;34m\u001b[0m\u001b[0m\n\u001b[0m\u001b[1;32m    354\u001b[0m \u001b[0;34m\u001b[0m\u001b[0m\n\u001b[1;32m    355\u001b[0m \u001b[0;34m\u001b[0m\u001b[0m\n",
      "\u001b[0;32m~/miniconda3/envs/remote_sensing/lib/python3.7/site-packages/ipykernel/pylab/backend_inline.py\u001b[0m in \u001b[0;36mshow\u001b[0;34m(close, block)\u001b[0m\n\u001b[1;32m     41\u001b[0m             display(\n\u001b[1;32m     42\u001b[0m                 \u001b[0mfigure_manager\u001b[0m\u001b[0;34m.\u001b[0m\u001b[0mcanvas\u001b[0m\u001b[0;34m.\u001b[0m\u001b[0mfigure\u001b[0m\u001b[0;34m,\u001b[0m\u001b[0;34m\u001b[0m\u001b[0;34m\u001b[0m\u001b[0m\n\u001b[0;32m---> 43\u001b[0;31m                 \u001b[0mmetadata\u001b[0m\u001b[0;34m=\u001b[0m\u001b[0m_fetch_figure_metadata\u001b[0m\u001b[0;34m(\u001b[0m\u001b[0mfigure_manager\u001b[0m\u001b[0;34m.\u001b[0m\u001b[0mcanvas\u001b[0m\u001b[0;34m.\u001b[0m\u001b[0mfigure\u001b[0m\u001b[0;34m)\u001b[0m\u001b[0;34m\u001b[0m\u001b[0;34m\u001b[0m\u001b[0m\n\u001b[0m\u001b[1;32m     44\u001b[0m             )\n\u001b[1;32m     45\u001b[0m     \u001b[0;32mfinally\u001b[0m\u001b[0;34m:\u001b[0m\u001b[0;34m\u001b[0m\u001b[0;34m\u001b[0m\u001b[0m\n",
      "\u001b[0;32m~/miniconda3/envs/remote_sensing/lib/python3.7/site-packages/IPython/core/display.py\u001b[0m in \u001b[0;36mdisplay\u001b[0;34m(include, exclude, metadata, transient, display_id, *objs, **kwargs)\u001b[0m\n\u001b[1;32m    311\u001b[0m             \u001b[0mpublish_display_data\u001b[0m\u001b[0;34m(\u001b[0m\u001b[0mdata\u001b[0m\u001b[0;34m=\u001b[0m\u001b[0mobj\u001b[0m\u001b[0;34m,\u001b[0m \u001b[0mmetadata\u001b[0m\u001b[0;34m=\u001b[0m\u001b[0mmetadata\u001b[0m\u001b[0;34m,\u001b[0m \u001b[0;34m**\u001b[0m\u001b[0mkwargs\u001b[0m\u001b[0;34m)\u001b[0m\u001b[0;34m\u001b[0m\u001b[0;34m\u001b[0m\u001b[0m\n\u001b[1;32m    312\u001b[0m         \u001b[0;32melse\u001b[0m\u001b[0;34m:\u001b[0m\u001b[0;34m\u001b[0m\u001b[0;34m\u001b[0m\u001b[0m\n\u001b[0;32m--> 313\u001b[0;31m             \u001b[0mformat_dict\u001b[0m\u001b[0;34m,\u001b[0m \u001b[0mmd_dict\u001b[0m \u001b[0;34m=\u001b[0m \u001b[0mformat\u001b[0m\u001b[0;34m(\u001b[0m\u001b[0mobj\u001b[0m\u001b[0;34m,\u001b[0m \u001b[0minclude\u001b[0m\u001b[0;34m=\u001b[0m\u001b[0minclude\u001b[0m\u001b[0;34m,\u001b[0m \u001b[0mexclude\u001b[0m\u001b[0;34m=\u001b[0m\u001b[0mexclude\u001b[0m\u001b[0;34m)\u001b[0m\u001b[0;34m\u001b[0m\u001b[0;34m\u001b[0m\u001b[0m\n\u001b[0m\u001b[1;32m    314\u001b[0m             \u001b[0;32mif\u001b[0m \u001b[0;32mnot\u001b[0m \u001b[0mformat_dict\u001b[0m\u001b[0;34m:\u001b[0m\u001b[0;34m\u001b[0m\u001b[0;34m\u001b[0m\u001b[0m\n\u001b[1;32m    315\u001b[0m                 \u001b[0;31m# nothing to display (e.g. _ipython_display_ took over)\u001b[0m\u001b[0;34m\u001b[0m\u001b[0;34m\u001b[0m\u001b[0;34m\u001b[0m\u001b[0m\n",
      "\u001b[0;32m~/miniconda3/envs/remote_sensing/lib/python3.7/site-packages/IPython/core/formatters.py\u001b[0m in \u001b[0;36mformat\u001b[0;34m(self, obj, include, exclude)\u001b[0m\n\u001b[1;32m    178\u001b[0m             \u001b[0mmd\u001b[0m \u001b[0;34m=\u001b[0m \u001b[0;32mNone\u001b[0m\u001b[0;34m\u001b[0m\u001b[0;34m\u001b[0m\u001b[0m\n\u001b[1;32m    179\u001b[0m             \u001b[0;32mtry\u001b[0m\u001b[0;34m:\u001b[0m\u001b[0;34m\u001b[0m\u001b[0;34m\u001b[0m\u001b[0m\n\u001b[0;32m--> 180\u001b[0;31m                 \u001b[0mdata\u001b[0m \u001b[0;34m=\u001b[0m \u001b[0mformatter\u001b[0m\u001b[0;34m(\u001b[0m\u001b[0mobj\u001b[0m\u001b[0;34m)\u001b[0m\u001b[0;34m\u001b[0m\u001b[0;34m\u001b[0m\u001b[0m\n\u001b[0m\u001b[1;32m    181\u001b[0m             \u001b[0;32mexcept\u001b[0m\u001b[0;34m:\u001b[0m\u001b[0;34m\u001b[0m\u001b[0;34m\u001b[0m\u001b[0m\n\u001b[1;32m    182\u001b[0m                 \u001b[0;31m# FIXME: log the exception\u001b[0m\u001b[0;34m\u001b[0m\u001b[0;34m\u001b[0m\u001b[0;34m\u001b[0m\u001b[0m\n",
      "\u001b[0;32m~/miniconda3/envs/remote_sensing/lib/python3.7/site-packages/decorator.py\u001b[0m in \u001b[0;36mfun\u001b[0;34m(*args, **kw)\u001b[0m\n\u001b[1;32m    230\u001b[0m             \u001b[0;32mif\u001b[0m \u001b[0;32mnot\u001b[0m \u001b[0mkwsyntax\u001b[0m\u001b[0;34m:\u001b[0m\u001b[0;34m\u001b[0m\u001b[0;34m\u001b[0m\u001b[0m\n\u001b[1;32m    231\u001b[0m                 \u001b[0margs\u001b[0m\u001b[0;34m,\u001b[0m \u001b[0mkw\u001b[0m \u001b[0;34m=\u001b[0m \u001b[0mfix\u001b[0m\u001b[0;34m(\u001b[0m\u001b[0margs\u001b[0m\u001b[0;34m,\u001b[0m \u001b[0mkw\u001b[0m\u001b[0;34m,\u001b[0m \u001b[0msig\u001b[0m\u001b[0;34m)\u001b[0m\u001b[0;34m\u001b[0m\u001b[0;34m\u001b[0m\u001b[0m\n\u001b[0;32m--> 232\u001b[0;31m             \u001b[0;32mreturn\u001b[0m \u001b[0mcaller\u001b[0m\u001b[0;34m(\u001b[0m\u001b[0mfunc\u001b[0m\u001b[0;34m,\u001b[0m \u001b[0;34m*\u001b[0m\u001b[0;34m(\u001b[0m\u001b[0mextras\u001b[0m \u001b[0;34m+\u001b[0m \u001b[0margs\u001b[0m\u001b[0;34m)\u001b[0m\u001b[0;34m,\u001b[0m \u001b[0;34m**\u001b[0m\u001b[0mkw\u001b[0m\u001b[0;34m)\u001b[0m\u001b[0;34m\u001b[0m\u001b[0;34m\u001b[0m\u001b[0m\n\u001b[0m\u001b[1;32m    233\u001b[0m     \u001b[0mfun\u001b[0m\u001b[0;34m.\u001b[0m\u001b[0m__name__\u001b[0m \u001b[0;34m=\u001b[0m \u001b[0mfunc\u001b[0m\u001b[0;34m.\u001b[0m\u001b[0m__name__\u001b[0m\u001b[0;34m\u001b[0m\u001b[0;34m\u001b[0m\u001b[0m\n\u001b[1;32m    234\u001b[0m     \u001b[0mfun\u001b[0m\u001b[0;34m.\u001b[0m\u001b[0m__doc__\u001b[0m \u001b[0;34m=\u001b[0m \u001b[0mfunc\u001b[0m\u001b[0;34m.\u001b[0m\u001b[0m__doc__\u001b[0m\u001b[0;34m\u001b[0m\u001b[0;34m\u001b[0m\u001b[0m\n",
      "\u001b[0;32m~/miniconda3/envs/remote_sensing/lib/python3.7/site-packages/IPython/core/formatters.py\u001b[0m in \u001b[0;36mcatch_format_error\u001b[0;34m(method, self, *args, **kwargs)\u001b[0m\n\u001b[1;32m    222\u001b[0m     \u001b[0;34m\"\"\"show traceback on failed format call\"\"\"\u001b[0m\u001b[0;34m\u001b[0m\u001b[0;34m\u001b[0m\u001b[0m\n\u001b[1;32m    223\u001b[0m     \u001b[0;32mtry\u001b[0m\u001b[0;34m:\u001b[0m\u001b[0;34m\u001b[0m\u001b[0;34m\u001b[0m\u001b[0m\n\u001b[0;32m--> 224\u001b[0;31m         \u001b[0mr\u001b[0m \u001b[0;34m=\u001b[0m \u001b[0mmethod\u001b[0m\u001b[0;34m(\u001b[0m\u001b[0mself\u001b[0m\u001b[0;34m,\u001b[0m \u001b[0;34m*\u001b[0m\u001b[0margs\u001b[0m\u001b[0;34m,\u001b[0m \u001b[0;34m**\u001b[0m\u001b[0mkwargs\u001b[0m\u001b[0;34m)\u001b[0m\u001b[0;34m\u001b[0m\u001b[0;34m\u001b[0m\u001b[0m\n\u001b[0m\u001b[1;32m    225\u001b[0m     \u001b[0;32mexcept\u001b[0m \u001b[0mNotImplementedError\u001b[0m\u001b[0;34m:\u001b[0m\u001b[0;34m\u001b[0m\u001b[0;34m\u001b[0m\u001b[0m\n\u001b[1;32m    226\u001b[0m         \u001b[0;31m# don't warn on NotImplementedErrors\u001b[0m\u001b[0;34m\u001b[0m\u001b[0;34m\u001b[0m\u001b[0;34m\u001b[0m\u001b[0m\n",
      "\u001b[0;32m~/miniconda3/envs/remote_sensing/lib/python3.7/site-packages/IPython/core/formatters.py\u001b[0m in \u001b[0;36m__call__\u001b[0;34m(self, obj)\u001b[0m\n\u001b[1;32m    339\u001b[0m                 \u001b[0;32mpass\u001b[0m\u001b[0;34m\u001b[0m\u001b[0;34m\u001b[0m\u001b[0m\n\u001b[1;32m    340\u001b[0m             \u001b[0;32melse\u001b[0m\u001b[0;34m:\u001b[0m\u001b[0;34m\u001b[0m\u001b[0;34m\u001b[0m\u001b[0m\n\u001b[0;32m--> 341\u001b[0;31m                 \u001b[0;32mreturn\u001b[0m \u001b[0mprinter\u001b[0m\u001b[0;34m(\u001b[0m\u001b[0mobj\u001b[0m\u001b[0;34m)\u001b[0m\u001b[0;34m\u001b[0m\u001b[0;34m\u001b[0m\u001b[0m\n\u001b[0m\u001b[1;32m    342\u001b[0m             \u001b[0;31m# Finally look for special method names\u001b[0m\u001b[0;34m\u001b[0m\u001b[0;34m\u001b[0m\u001b[0;34m\u001b[0m\u001b[0m\n\u001b[1;32m    343\u001b[0m             \u001b[0mmethod\u001b[0m \u001b[0;34m=\u001b[0m \u001b[0mget_real_method\u001b[0m\u001b[0;34m(\u001b[0m\u001b[0mobj\u001b[0m\u001b[0;34m,\u001b[0m \u001b[0mself\u001b[0m\u001b[0;34m.\u001b[0m\u001b[0mprint_method\u001b[0m\u001b[0;34m)\u001b[0m\u001b[0;34m\u001b[0m\u001b[0;34m\u001b[0m\u001b[0m\n",
      "\u001b[0;32m~/miniconda3/envs/remote_sensing/lib/python3.7/site-packages/IPython/core/pylabtools.py\u001b[0m in \u001b[0;36m<lambda>\u001b[0;34m(fig)\u001b[0m\n\u001b[1;32m    246\u001b[0m \u001b[0;34m\u001b[0m\u001b[0m\n\u001b[1;32m    247\u001b[0m     \u001b[0;32mif\u001b[0m \u001b[0;34m'png'\u001b[0m \u001b[0;32min\u001b[0m \u001b[0mformats\u001b[0m\u001b[0;34m:\u001b[0m\u001b[0;34m\u001b[0m\u001b[0;34m\u001b[0m\u001b[0m\n\u001b[0;32m--> 248\u001b[0;31m         \u001b[0mpng_formatter\u001b[0m\u001b[0;34m.\u001b[0m\u001b[0mfor_type\u001b[0m\u001b[0;34m(\u001b[0m\u001b[0mFigure\u001b[0m\u001b[0;34m,\u001b[0m \u001b[0;32mlambda\u001b[0m \u001b[0mfig\u001b[0m\u001b[0;34m:\u001b[0m \u001b[0mprint_figure\u001b[0m\u001b[0;34m(\u001b[0m\u001b[0mfig\u001b[0m\u001b[0;34m,\u001b[0m \u001b[0;34m'png'\u001b[0m\u001b[0;34m,\u001b[0m \u001b[0;34m**\u001b[0m\u001b[0mkwargs\u001b[0m\u001b[0;34m)\u001b[0m\u001b[0;34m)\u001b[0m\u001b[0;34m\u001b[0m\u001b[0;34m\u001b[0m\u001b[0m\n\u001b[0m\u001b[1;32m    249\u001b[0m     \u001b[0;32mif\u001b[0m \u001b[0;34m'retina'\u001b[0m \u001b[0;32min\u001b[0m \u001b[0mformats\u001b[0m \u001b[0;32mor\u001b[0m \u001b[0;34m'png2x'\u001b[0m \u001b[0;32min\u001b[0m \u001b[0mformats\u001b[0m\u001b[0;34m:\u001b[0m\u001b[0;34m\u001b[0m\u001b[0;34m\u001b[0m\u001b[0m\n\u001b[1;32m    250\u001b[0m         \u001b[0mpng_formatter\u001b[0m\u001b[0;34m.\u001b[0m\u001b[0mfor_type\u001b[0m\u001b[0;34m(\u001b[0m\u001b[0mFigure\u001b[0m\u001b[0;34m,\u001b[0m \u001b[0;32mlambda\u001b[0m \u001b[0mfig\u001b[0m\u001b[0;34m:\u001b[0m \u001b[0mretina_figure\u001b[0m\u001b[0;34m(\u001b[0m\u001b[0mfig\u001b[0m\u001b[0;34m,\u001b[0m \u001b[0;34m**\u001b[0m\u001b[0mkwargs\u001b[0m\u001b[0;34m)\u001b[0m\u001b[0;34m)\u001b[0m\u001b[0;34m\u001b[0m\u001b[0;34m\u001b[0m\u001b[0m\n",
      "\u001b[0;32m~/miniconda3/envs/remote_sensing/lib/python3.7/site-packages/IPython/core/pylabtools.py\u001b[0m in \u001b[0;36mprint_figure\u001b[0;34m(fig, fmt, bbox_inches, **kwargs)\u001b[0m\n\u001b[1;32m    130\u001b[0m         \u001b[0mFigureCanvasBase\u001b[0m\u001b[0;34m(\u001b[0m\u001b[0mfig\u001b[0m\u001b[0;34m)\u001b[0m\u001b[0;34m\u001b[0m\u001b[0;34m\u001b[0m\u001b[0m\n\u001b[1;32m    131\u001b[0m \u001b[0;34m\u001b[0m\u001b[0m\n\u001b[0;32m--> 132\u001b[0;31m     \u001b[0mfig\u001b[0m\u001b[0;34m.\u001b[0m\u001b[0mcanvas\u001b[0m\u001b[0;34m.\u001b[0m\u001b[0mprint_figure\u001b[0m\u001b[0;34m(\u001b[0m\u001b[0mbytes_io\u001b[0m\u001b[0;34m,\u001b[0m \u001b[0;34m**\u001b[0m\u001b[0mkw\u001b[0m\u001b[0;34m)\u001b[0m\u001b[0;34m\u001b[0m\u001b[0;34m\u001b[0m\u001b[0m\n\u001b[0m\u001b[1;32m    133\u001b[0m     \u001b[0mdata\u001b[0m \u001b[0;34m=\u001b[0m \u001b[0mbytes_io\u001b[0m\u001b[0;34m.\u001b[0m\u001b[0mgetvalue\u001b[0m\u001b[0;34m(\u001b[0m\u001b[0;34m)\u001b[0m\u001b[0;34m\u001b[0m\u001b[0;34m\u001b[0m\u001b[0m\n\u001b[1;32m    134\u001b[0m     \u001b[0;32mif\u001b[0m \u001b[0mfmt\u001b[0m \u001b[0;34m==\u001b[0m \u001b[0;34m'svg'\u001b[0m\u001b[0;34m:\u001b[0m\u001b[0;34m\u001b[0m\u001b[0;34m\u001b[0m\u001b[0m\n",
      "\u001b[0;32m~/miniconda3/envs/remote_sensing/lib/python3.7/site-packages/matplotlib/backend_bases.py\u001b[0m in \u001b[0;36mprint_figure\u001b[0;34m(self, filename, dpi, facecolor, edgecolor, orientation, format, bbox_inches, pad_inches, bbox_extra_artists, backend, **kwargs)\u001b[0m\n\u001b[1;32m   2215\u001b[0m                     \u001b[0morientation\u001b[0m\u001b[0;34m=\u001b[0m\u001b[0morientation\u001b[0m\u001b[0;34m,\u001b[0m\u001b[0;34m\u001b[0m\u001b[0;34m\u001b[0m\u001b[0m\n\u001b[1;32m   2216\u001b[0m                     \u001b[0mbbox_inches_restore\u001b[0m\u001b[0;34m=\u001b[0m\u001b[0m_bbox_inches_restore\u001b[0m\u001b[0;34m,\u001b[0m\u001b[0;34m\u001b[0m\u001b[0;34m\u001b[0m\u001b[0m\n\u001b[0;32m-> 2217\u001b[0;31m                     **kwargs)\n\u001b[0m\u001b[1;32m   2218\u001b[0m             \u001b[0;32mfinally\u001b[0m\u001b[0;34m:\u001b[0m\u001b[0;34m\u001b[0m\u001b[0;34m\u001b[0m\u001b[0m\n\u001b[1;32m   2219\u001b[0m                 \u001b[0;32mif\u001b[0m \u001b[0mbbox_inches\u001b[0m \u001b[0;32mand\u001b[0m \u001b[0mrestore_bbox\u001b[0m\u001b[0;34m:\u001b[0m\u001b[0;34m\u001b[0m\u001b[0;34m\u001b[0m\u001b[0m\n",
      "\u001b[0;32m~/miniconda3/envs/remote_sensing/lib/python3.7/site-packages/matplotlib/backend_bases.py\u001b[0m in \u001b[0;36mwrapper\u001b[0;34m(*args, **kwargs)\u001b[0m\n\u001b[1;32m   1637\u001b[0m             \u001b[0mkwargs\u001b[0m\u001b[0;34m.\u001b[0m\u001b[0mpop\u001b[0m\u001b[0;34m(\u001b[0m\u001b[0marg\u001b[0m\u001b[0;34m)\u001b[0m\u001b[0;34m\u001b[0m\u001b[0;34m\u001b[0m\u001b[0m\n\u001b[1;32m   1638\u001b[0m \u001b[0;34m\u001b[0m\u001b[0m\n\u001b[0;32m-> 1639\u001b[0;31m         \u001b[0;32mreturn\u001b[0m \u001b[0mfunc\u001b[0m\u001b[0;34m(\u001b[0m\u001b[0;34m*\u001b[0m\u001b[0margs\u001b[0m\u001b[0;34m,\u001b[0m \u001b[0;34m**\u001b[0m\u001b[0mkwargs\u001b[0m\u001b[0;34m)\u001b[0m\u001b[0;34m\u001b[0m\u001b[0;34m\u001b[0m\u001b[0m\n\u001b[0m\u001b[1;32m   1640\u001b[0m \u001b[0;34m\u001b[0m\u001b[0m\n\u001b[1;32m   1641\u001b[0m     \u001b[0;32mreturn\u001b[0m \u001b[0mwrapper\u001b[0m\u001b[0;34m\u001b[0m\u001b[0;34m\u001b[0m\u001b[0m\n",
      "\u001b[0;32m~/miniconda3/envs/remote_sensing/lib/python3.7/site-packages/matplotlib/backends/backend_agg.py\u001b[0m in \u001b[0;36mprint_png\u001b[0;34m(self, filename_or_obj, metadata, pil_kwargs, *args)\u001b[0m\n\u001b[1;32m    510\u001b[0m         mpl.image.imsave(\n\u001b[1;32m    511\u001b[0m             \u001b[0mfilename_or_obj\u001b[0m\u001b[0;34m,\u001b[0m \u001b[0mself\u001b[0m\u001b[0;34m.\u001b[0m\u001b[0mbuffer_rgba\u001b[0m\u001b[0;34m(\u001b[0m\u001b[0;34m)\u001b[0m\u001b[0;34m,\u001b[0m \u001b[0mformat\u001b[0m\u001b[0;34m=\u001b[0m\u001b[0;34m\"png\"\u001b[0m\u001b[0;34m,\u001b[0m \u001b[0morigin\u001b[0m\u001b[0;34m=\u001b[0m\u001b[0;34m\"upper\"\u001b[0m\u001b[0;34m,\u001b[0m\u001b[0;34m\u001b[0m\u001b[0;34m\u001b[0m\u001b[0m\n\u001b[0;32m--> 512\u001b[0;31m             dpi=self.figure.dpi, metadata=metadata, pil_kwargs=pil_kwargs)\n\u001b[0m\u001b[1;32m    513\u001b[0m \u001b[0;34m\u001b[0m\u001b[0m\n\u001b[1;32m    514\u001b[0m     \u001b[0;32mdef\u001b[0m \u001b[0mprint_to_buffer\u001b[0m\u001b[0;34m(\u001b[0m\u001b[0mself\u001b[0m\u001b[0;34m)\u001b[0m\u001b[0;34m:\u001b[0m\u001b[0;34m\u001b[0m\u001b[0;34m\u001b[0m\u001b[0m\n",
      "\u001b[0;32m~/miniconda3/envs/remote_sensing/lib/python3.7/site-packages/matplotlib/image.py\u001b[0m in \u001b[0;36mimsave\u001b[0;34m(fname, arr, vmin, vmax, cmap, format, origin, dpi, metadata, pil_kwargs)\u001b[0m\n\u001b[1;32m   1603\u001b[0m         \u001b[0mpil_kwargs\u001b[0m\u001b[0;34m.\u001b[0m\u001b[0msetdefault\u001b[0m\u001b[0;34m(\u001b[0m\u001b[0;34m\"format\"\u001b[0m\u001b[0;34m,\u001b[0m \u001b[0mformat\u001b[0m\u001b[0;34m)\u001b[0m\u001b[0;34m\u001b[0m\u001b[0;34m\u001b[0m\u001b[0m\n\u001b[1;32m   1604\u001b[0m         \u001b[0mpil_kwargs\u001b[0m\u001b[0;34m.\u001b[0m\u001b[0msetdefault\u001b[0m\u001b[0;34m(\u001b[0m\u001b[0;34m\"dpi\"\u001b[0m\u001b[0;34m,\u001b[0m \u001b[0;34m(\u001b[0m\u001b[0mdpi\u001b[0m\u001b[0;34m,\u001b[0m \u001b[0mdpi\u001b[0m\u001b[0;34m)\u001b[0m\u001b[0;34m)\u001b[0m\u001b[0;34m\u001b[0m\u001b[0;34m\u001b[0m\u001b[0m\n\u001b[0;32m-> 1605\u001b[0;31m         \u001b[0mimage\u001b[0m\u001b[0;34m.\u001b[0m\u001b[0msave\u001b[0m\u001b[0;34m(\u001b[0m\u001b[0mfname\u001b[0m\u001b[0;34m,\u001b[0m \u001b[0;34m**\u001b[0m\u001b[0mpil_kwargs\u001b[0m\u001b[0;34m)\u001b[0m\u001b[0;34m\u001b[0m\u001b[0;34m\u001b[0m\u001b[0m\n\u001b[0m\u001b[1;32m   1606\u001b[0m \u001b[0;34m\u001b[0m\u001b[0m\n\u001b[1;32m   1607\u001b[0m \u001b[0;34m\u001b[0m\u001b[0m\n",
      "\u001b[0;32m~/miniconda3/envs/remote_sensing/lib/python3.7/site-packages/PIL/Image.py\u001b[0m in \u001b[0;36msave\u001b[0;34m(self, fp, format, **params)\u001b[0m\n\u001b[1;32m   2233\u001b[0m \u001b[0;34m\u001b[0m\u001b[0m\n\u001b[1;32m   2234\u001b[0m         \u001b[0;32mtry\u001b[0m\u001b[0;34m:\u001b[0m\u001b[0;34m\u001b[0m\u001b[0;34m\u001b[0m\u001b[0m\n\u001b[0;32m-> 2235\u001b[0;31m             \u001b[0msave_handler\u001b[0m\u001b[0;34m(\u001b[0m\u001b[0mself\u001b[0m\u001b[0;34m,\u001b[0m \u001b[0mfp\u001b[0m\u001b[0;34m,\u001b[0m \u001b[0mfilename\u001b[0m\u001b[0;34m)\u001b[0m\u001b[0;34m\u001b[0m\u001b[0;34m\u001b[0m\u001b[0m\n\u001b[0m\u001b[1;32m   2236\u001b[0m         \u001b[0;32mfinally\u001b[0m\u001b[0;34m:\u001b[0m\u001b[0;34m\u001b[0m\u001b[0;34m\u001b[0m\u001b[0m\n\u001b[1;32m   2237\u001b[0m             \u001b[0;31m# do what we can to clean up\u001b[0m\u001b[0;34m\u001b[0m\u001b[0;34m\u001b[0m\u001b[0;34m\u001b[0m\u001b[0m\n",
      "\u001b[0;32m~/miniconda3/envs/remote_sensing/lib/python3.7/site-packages/PIL/PngImagePlugin.py\u001b[0m in \u001b[0;36m_save\u001b[0;34m(im, fp, filename, chunk, save_all)\u001b[0m\n\u001b[1;32m   1347\u001b[0m         \u001b[0m_write_multiple_frames\u001b[0m\u001b[0;34m(\u001b[0m\u001b[0mim\u001b[0m\u001b[0;34m,\u001b[0m \u001b[0mfp\u001b[0m\u001b[0;34m,\u001b[0m \u001b[0mchunk\u001b[0m\u001b[0;34m,\u001b[0m \u001b[0mrawmode\u001b[0m\u001b[0;34m)\u001b[0m\u001b[0;34m\u001b[0m\u001b[0;34m\u001b[0m\u001b[0m\n\u001b[1;32m   1348\u001b[0m     \u001b[0;32melse\u001b[0m\u001b[0;34m:\u001b[0m\u001b[0;34m\u001b[0m\u001b[0;34m\u001b[0m\u001b[0m\n\u001b[0;32m-> 1349\u001b[0;31m         \u001b[0mImageFile\u001b[0m\u001b[0;34m.\u001b[0m\u001b[0m_save\u001b[0m\u001b[0;34m(\u001b[0m\u001b[0mim\u001b[0m\u001b[0;34m,\u001b[0m \u001b[0m_idat\u001b[0m\u001b[0;34m(\u001b[0m\u001b[0mfp\u001b[0m\u001b[0;34m,\u001b[0m \u001b[0mchunk\u001b[0m\u001b[0;34m)\u001b[0m\u001b[0;34m,\u001b[0m \u001b[0;34m[\u001b[0m\u001b[0;34m(\u001b[0m\u001b[0;34m\"zip\"\u001b[0m\u001b[0;34m,\u001b[0m \u001b[0;34m(\u001b[0m\u001b[0;36m0\u001b[0m\u001b[0;34m,\u001b[0m \u001b[0;36m0\u001b[0m\u001b[0;34m)\u001b[0m \u001b[0;34m+\u001b[0m \u001b[0mim\u001b[0m\u001b[0;34m.\u001b[0m\u001b[0msize\u001b[0m\u001b[0;34m,\u001b[0m \u001b[0;36m0\u001b[0m\u001b[0;34m,\u001b[0m \u001b[0mrawmode\u001b[0m\u001b[0;34m)\u001b[0m\u001b[0;34m]\u001b[0m\u001b[0;34m)\u001b[0m\u001b[0;34m\u001b[0m\u001b[0;34m\u001b[0m\u001b[0m\n\u001b[0m\u001b[1;32m   1350\u001b[0m \u001b[0;34m\u001b[0m\u001b[0m\n\u001b[1;32m   1351\u001b[0m     \u001b[0;32mif\u001b[0m \u001b[0minfo\u001b[0m\u001b[0;34m:\u001b[0m\u001b[0;34m\u001b[0m\u001b[0;34m\u001b[0m\u001b[0m\n",
      "\u001b[0;32m~/miniconda3/envs/remote_sensing/lib/python3.7/site-packages/PIL/ImageFile.py\u001b[0m in \u001b[0;36m_save\u001b[0;34m(im, fp, tile, bufsize)\u001b[0m\n\u001b[1;32m    516\u001b[0m             \u001b[0;32melse\u001b[0m\u001b[0;34m:\u001b[0m\u001b[0;34m\u001b[0m\u001b[0;34m\u001b[0m\u001b[0m\n\u001b[1;32m    517\u001b[0m                 \u001b[0;32mwhile\u001b[0m \u001b[0;32mTrue\u001b[0m\u001b[0;34m:\u001b[0m\u001b[0;34m\u001b[0m\u001b[0;34m\u001b[0m\u001b[0m\n\u001b[0;32m--> 518\u001b[0;31m                     \u001b[0ml\u001b[0m\u001b[0;34m,\u001b[0m \u001b[0ms\u001b[0m\u001b[0;34m,\u001b[0m \u001b[0md\u001b[0m \u001b[0;34m=\u001b[0m \u001b[0me\u001b[0m\u001b[0;34m.\u001b[0m\u001b[0mencode\u001b[0m\u001b[0;34m(\u001b[0m\u001b[0mbufsize\u001b[0m\u001b[0;34m)\u001b[0m\u001b[0;34m\u001b[0m\u001b[0;34m\u001b[0m\u001b[0m\n\u001b[0m\u001b[1;32m    519\u001b[0m                     \u001b[0mfp\u001b[0m\u001b[0;34m.\u001b[0m\u001b[0mwrite\u001b[0m\u001b[0;34m(\u001b[0m\u001b[0md\u001b[0m\u001b[0;34m)\u001b[0m\u001b[0;34m\u001b[0m\u001b[0;34m\u001b[0m\u001b[0m\n\u001b[1;32m    520\u001b[0m                     \u001b[0;32mif\u001b[0m \u001b[0ms\u001b[0m\u001b[0;34m:\u001b[0m\u001b[0;34m\u001b[0m\u001b[0;34m\u001b[0m\u001b[0m\n",
      "\u001b[0;31mKeyboardInterrupt\u001b[0m: "
     ]
    }
   ],
   "source": [
    "# plt.figure(figsize=(8,8))\n",
    "# plt.scatter(melt_rates.lat,melt_rates.lon,c=melt_rates.meltRate,cmap='bwr',vmin=-2,vmax=2)\n",
    "for i in range(melt_rates.shape[0]):\n",
    "    plt.annotate( melt_rates.iloc[i].Site_ID,(melt_rates.iloc[i].lon, melt_rates.iloc[i].lat),xytext=(melt_rates.iloc[i].lon+0.5, melt_rates.iloc[i].lat+0.5),arrowprops=dict(arrowstyle='->'),fontsize=8)\n",
    "# plt.colorbar()\n",
    "plt.show()"
   ]
  },
  {
   "cell_type": "code",
   "execution_count": 133,
   "id": "ad1e69d4",
   "metadata": {},
   "outputs": [
    {
     "data": {
      "text/plain": [
       "'CP01'"
      ]
     },
     "execution_count": 133,
     "metadata": {},
     "output_type": "execute_result"
    }
   ],
   "source": [
    "melt_rates.Site_ID.iloc[0]"
   ]
  },
  {
   "cell_type": "code",
   "execution_count": 138,
   "id": "7a867f8f",
   "metadata": {},
   "outputs": [
    {
     "data": {
      "text/plain": [
       "(72, 21)"
      ]
     },
     "execution_count": 138,
     "metadata": {},
     "output_type": "execute_result"
    }
   ],
   "source": [
    "melt_rates.shape"
   ]
  },
  {
   "cell_type": "code",
   "execution_count": null,
   "id": "d54facc8",
   "metadata": {},
   "outputs": [],
   "source": []
  }
 ],
 "metadata": {
  "kernelspec": {
   "display_name": "remote_sensing",
   "language": "python",
   "name": "remote_sensing"
  },
  "language_info": {
   "codemirror_mode": {
    "name": "ipython",
    "version": 3
   },
   "file_extension": ".py",
   "mimetype": "text/x-python",
   "name": "python",
   "nbconvert_exporter": "python",
   "pygments_lexer": "ipython3",
   "version": "3.7.8"
  }
 },
 "nbformat": 4,
 "nbformat_minor": 5
}
