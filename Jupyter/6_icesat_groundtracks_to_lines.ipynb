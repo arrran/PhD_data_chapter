{
 "cells": [
  {
   "cell_type": "code",
   "execution_count": 1,
   "metadata": {},
   "outputs": [],
   "source": [
    "import numpy as np\n",
    "import zipfile\n",
    "\n",
    "import os\n",
    "import sys\n",
    "import geopandas as gpd\n",
    "import shapely as sp\n",
    "import matplotlib.pyplot as plt\n",
    "\n",
    "\n",
    "#working_dir = '/Volumes/arc_02/REMOTE_SENSING/'\n",
    "working_dir = \"/Volumes/arc_02/REMOTE_SENSING/ICESAT2/REFERENCE_GROUND_TRACKS\"\n",
    "\n",
    "sys.path.append(os.path.abspath(working_dir))\n",
    "sys.path.append(os.path.abspath('/Users/home/whitefar/DATA/code/'))\n",
    "os.chdir(working_dir)"
   ]
  },
  {
   "cell_type": "code",
   "execution_count": 3,
   "metadata": {},
   "outputs": [
    {
     "data": {
      "text/plain": [
       "['IS2_RGTs_cycle5_date_time_rev3.zip',\n",
       " 'IS2_RGTs_cycle3_date_time_0.zip',\n",
       " 'IS2_RGTs_cycle1_date_time.zip',\n",
       " 'IS2_RGTs_cycle4_date_time_rev2_0.zip',\n",
       " 'IS2_RGTs_cycle2_date_time.zip']"
      ]
     },
     "execution_count": 3,
     "metadata": {},
     "output_type": "execute_result"
    }
   ],
   "source": [
    "zipped_tracks_path = \"/Volumes/arc_02/REMOTE_SENSING/ICESAT2/REFERENCE_GROUND_TRACKS\"\n",
    "\n",
    "zipped_tracks_fnames = [f for f in os.listdir(zipped_tracks_path) if os.path.isfile(os.path.join(zipped_tracks_path, f))]\n",
    "\n",
    "temp_kml_path = \"/Users/home/whitefar/DATA/Icesat2/Reference_ground_tracks/temp/\" #save them temporararily\n",
    "\n",
    "zipped_tracks_fnames"
   ]
  },
  {
   "cell_type": "code",
   "execution_count": 4,
   "metadata": {},
   "outputs": [],
   "source": [
    "#def make_reference_track(file_path):\n",
    "#    \"\"\"starts with zip file, outputs a shapefile line\"\"\"\n",
    "\n",
    "file_path = \"IS2_RGTs_cycle5_date_time_rev3.zip\"\n",
    "\n",
    "with zipfile.ZipFile(file_path,\"r\") as zip_ref:\n",
    "    zip_ref.extractall(temp_kml_path)\n",
    "        \n",
    "\n",
    "points_fnames = [f for f in os.listdir(temp_kml_path) if os.path.isfile(os.path.join(temp_kml_path, f))]\n",
    "\n",
    "points_fnames[-4:]\n"
   ]
  },
  {
   "cell_type": "code",
   "execution_count": null,
   "metadata": {},
   "outputs": [],
   "source": []
  }
 ],
 "metadata": {
  "kernelspec": {
   "display_name": "arran_gis",
   "language": "python",
   "name": "arran_gis"
  },
  "language_info": {
   "codemirror_mode": {
    "name": "ipython",
    "version": 3
   },
   "file_extension": ".py",
   "mimetype": "text/x-python",
   "name": "python",
   "nbconvert_exporter": "python",
   "pygments_lexer": "ipython3",
   "version": "3.7.3"
  }
 },
 "nbformat": 4,
 "nbformat_minor": 2
}
