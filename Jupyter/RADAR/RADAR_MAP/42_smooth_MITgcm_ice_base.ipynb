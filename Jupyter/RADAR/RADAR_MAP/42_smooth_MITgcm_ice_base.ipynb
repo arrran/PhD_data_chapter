{
 "cells": [
  {
   "cell_type": "markdown",
   "metadata": {},
   "source": [
    "copy of 37_\n",
    "\n",
    "# A) Make grid of ice base\n",
    "\n",
    "- tiff of ice thickness is from DATA/Jupyter/RADAR/RADAR_MAP/36_grid_distdownchan_interpolation.ipynb\n",
    "\n",
    "\n",
    "1. Get the coordinates from ice thickness grid\n",
    "2. sample at these coords from REMA\n",
    "3. subtract sampled surface from ice thickness\n",
    "\n",
    "4. Could save to tif following process in 20_RADAR... i havent yet\n",
    "\n",
    "# B) Get ice base related to interpolated lines (not gridded)\n"
   ]
  },
  {
   "cell_type": "code",
   "execution_count": 1,
   "metadata": {},
   "outputs": [],
   "source": [
    "import matplotlib.pyplot as plt\n",
    "import numpy as np\n",
    "import glob\n",
    "import os\n",
    "import sys\n",
    "import time\n",
    "import datetime as dt\n",
    "import pandas as pd\n",
    "import geopandas as gpd\n",
    "import scipy as sp\n",
    "from scipy import signal\n",
    "from tqdm.notebook import tqdm\n",
    "import rasterio as rio\n",
    "\n",
    "from shapely.geometry import Point, LineString, Polygon, MultiPoint\n",
    "import fiona\n",
    "from shapely.ops import nearest_points"
   ]
  },
  {
   "cell_type": "code",
   "execution_count": 2,
   "metadata": {},
   "outputs": [],
   "source": [
    "bed_gdf = gpd.read_file('/Volumes/arc_04/FIELD_DATA/K8621920/RES/PROCESSED_LINES/picked_bed.shp')"
   ]
  },
  {
   "cell_type": "code",
   "execution_count": 3,
   "metadata": {},
   "outputs": [],
   "source": [
    "ice_thickness_path = \"/Users/home/whitefar/DATA/FIELD_ANT_19/POST_FIELD/RADAR_MAP/smooth4_mitgcm_ice_thickn.tif\"\n",
    "REMA_path = '/Volumes/arc_02/whitefar/DATA/REMOTE_SENSING/REMA_STRIPES/SETSM_WV01_20161109_1020010058134D00_10200100576C9100_seg1_2m_v1.0_dem.tif'"
   ]
  },
  {
   "cell_type": "code",
   "execution_count": 4,
   "metadata": {},
   "outputs": [],
   "source": [
    "# ice_thickn = np.load('/Users/home/whitefar/DATA/FIELD_ANT_19/POST_FIELD/RADAR_MAP/interpolatedgrid_allchanice_thickness.npy')"
   ]
  },
  {
   "cell_type": "markdown",
   "metadata": {},
   "source": [
    "## Get ice base related to interpolated lines (not gridded)\n",
    "\n",
    "1. Get the coordinates from ice thickness interpolated\n",
    "2. sample at these coords from REMA\n",
    "3. subtract sampled surface from ice thickness\n",
    "4. save\n"
   ]
  },
  {
   "cell_type": "code",
   "execution_count": 5,
   "metadata": {},
   "outputs": [],
   "source": [
    "points_x = np.load('/Users/home/whitefar/DATA/FIELD_ANT_19/POST_FIELD/RADAR_MAP/smooth4_mitgcm_x.npy')\n",
    "points_y = np.load('/Users/home/whitefar/DATA/FIELD_ANT_19/POST_FIELD/RADAR_MAP/smooth4_mitgcm_y.npy')\n",
    "ice_thickn = np.load('/Users/home/whitefar/DATA/FIELD_ANT_19/POST_FIELD/RADAR_MAP/smooth4_mitgcm_ice_thickn.npy')"
   ]
  },
  {
   "cell_type": "code",
   "execution_count": 6,
   "metadata": {},
   "outputs": [],
   "source": [
    "with rio.open(REMA_path) as src:\n",
    "    \n",
    "    coords = [(x,y) for x, y in zip(points_x.flatten(), points_y.flatten())]\n",
    "\n",
    "    surface_interp = [elevation[0] for elevation in src.sample(coords)]"
   ]
  },
  {
   "cell_type": "code",
   "execution_count": 18,
   "metadata": {},
   "outputs": [],
   "source": [
    "surface_interp = np.array(surface_interp).reshape(points_x.shape)\n",
    "base_of_ice = surface_interp - ice_thickn"
   ]
  },
  {
   "cell_type": "code",
   "execution_count": 19,
   "metadata": {},
   "outputs": [],
   "source": [
    "np.save('/Users/home/whitefar/DATA/FIELD_ANT_19/POST_FIELD/RADAR_MAP/smooth4_mitgcm_REMAsurf.npy',surface_interp)\n",
    "np.save('/Users/home/whitefar/DATA/FIELD_ANT_19/POST_FIELD/RADAR_MAP/smooth4_mitgcm_icebase.npy',base_of_ice)"
   ]
  },
  {
   "cell_type": "code",
   "execution_count": null,
   "metadata": {},
   "outputs": [],
   "source": []
  }
 ],
 "metadata": {
  "kernelspec": {
   "display_name": "remote_sensing",
   "language": "python",
   "name": "remote_sensing"
  },
  "language_info": {
   "codemirror_mode": {
    "name": "ipython",
    "version": 3
   },
   "file_extension": ".py",
   "mimetype": "text/x-python",
   "name": "python",
   "nbconvert_exporter": "python",
   "pygments_lexer": "ipython3",
   "version": "3.7.8"
  }
 },
 "nbformat": 4,
 "nbformat_minor": 4
}
