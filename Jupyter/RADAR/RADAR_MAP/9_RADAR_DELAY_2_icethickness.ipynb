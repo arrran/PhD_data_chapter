{
 "cells": [
  {
   "cell_type": "markdown",
   "metadata": {},
   "source": [
    "# Convert DELAY to depth\n",
    "\n",
    "follow \"Investigations of the form and flow of ice sheets and glaciers using radio-echo sounding\"\n",
    "https://iopscience.iop.org/article/10.1088/0034-4885/67/10/R03/pdf\n",
    "\n",
    "168 nm/s ice velocity\n",
    "\n",
    "\"+\" 7 m firn correction\n",
    "\n",
    "DELAY is two way travel time\n",
    "\n",
    "$u  = d / t$\n",
    "\n",
    "\n",
    "$ t_{firm} = thickness_{firn} velocity_{firn} $\n",
    "\n",
    "$separationdistance^2 + depth^2 = (traveldistance/2)^2$\n",
    "\n",
    "$depth = \\sqrt{(traveldistance/2)^2 -  separationdistance^2  }$\n",
    "\n",
    "$traveldistance = DELAY  velocity$\n",
    "\n",
    "$depth = \\sqrt{( DELAY  velocity/2)^2 -  separationdistance^2  }$\n",
    "\n"
   ]
  },
  {
   "cell_type": "code",
   "execution_count": 2,
   "metadata": {},
   "outputs": [],
   "source": [
    "import matplotlib.pyplot as plt\n",
    "import numpy as np\n",
    "import glob\n",
    "import os\n",
    "import sys\n",
    "import time\n",
    "import datetime as dt\n",
    "import pandas as pd\n",
    "import geopandas as gpd\n",
    "import scipy as sp\n",
    "from scipy import signal\n",
    "from tqdm.notebook import tqdm\n",
    "\n",
    "from shapely.geometry import Point, LineString, Polygon, MultiPoint\n",
    "import fiona\n",
    "from shapely.ops import nearest_points"
   ]
  },
  {
   "cell_type": "code",
   "execution_count": 4,
   "metadata": {},
   "outputs": [],
   "source": [
    "bed_gdf = gpd.read_file('/Volumes/arc_04/FIELD_DATA/K8621920/RES/PROCESSED_LINES/picked_bed.shp')"
   ]
  },
  {
   "cell_type": "code",
   "execution_count": 6,
   "metadata": {},
   "outputs": [],
   "source": [
    "velocity_ice = 168e-3\n",
    "velocity_firn = 400\n",
    "thickness_firn = 7\n",
    "separation_distance = 58.37"
   ]
  },
  {
   "cell_type": "code",
   "execution_count": 17,
   "metadata": {},
   "outputs": [],
   "source": [
    "bed_gdf['ice_thickness'] = np.sqrt( (bed_gdf.DELAY.copy()*velocity_ice/2)**2 - separation_distance**2  ) + 7 "
   ]
  },
  {
   "cell_type": "code",
   "execution_count": 18,
   "metadata": {},
   "outputs": [],
   "source": [
    "bed_gdf.to_file('/Volumes/arc_04/FIELD_DATA/K8621920/RES/PROCESSED_LINES/picked_bed_depth.shp')"
   ]
  },
  {
   "cell_type": "code",
   "execution_count": null,
   "metadata": {},
   "outputs": [],
   "source": []
  },
  {
   "cell_type": "code",
   "execution_count": null,
   "metadata": {},
   "outputs": [],
   "source": []
  },
  {
   "cell_type": "code",
   "execution_count": null,
   "metadata": {},
   "outputs": [],
   "source": []
  }
 ],
 "metadata": {
  "kernelspec": {
   "display_name": "remote_sensing",
   "language": "python",
   "name": "remote_sensing"
  },
  "language_info": {
   "codemirror_mode": {
    "name": "ipython",
    "version": 3
   },
   "file_extension": ".py",
   "mimetype": "text/x-python",
   "name": "python",
   "nbconvert_exporter": "python",
   "pygments_lexer": "ipython3",
   "version": "3.7.2"
  }
 },
 "nbformat": 4,
 "nbformat_minor": 4
}
