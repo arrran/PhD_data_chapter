{
 "cells": [
  {
   "cell_type": "markdown",
   "metadata": {},
   "source": [
    "# Grid channel and background by separate interpolation\n",
    "\n",
    "- tiff of ice thickness is from DATA/Jupyter/RADAR/RADAR_MAP/20_RADAR_interpolate_channel_background_separate_wholechannel.ipynb\n",
    "\n",
    "\n",
    "1. Get the coordinates from ice thickness grid\n",
    "2. sample at these coords from REMA\n",
    "3. subtract sampled surface from ice thickness\n",
    "4. save to tif\n",
    "\n"
   ]
  },
  {
   "cell_type": "code",
   "execution_count": 1,
   "metadata": {},
   "outputs": [],
   "source": [
    "import matplotlib.pyplot as plt\n",
    "import numpy as np\n",
    "import glob\n",
    "import os\n",
    "import sys\n",
    "import time\n",
    "import datetime as dt\n",
    "import pandas as pd\n",
    "import geopandas as gpd\n",
    "import scipy as sp\n",
    "from scipy import signal\n",
    "from tqdm.notebook import tqdm\n",
    "import rasterio as rio\n",
    "\n",
    "from shapely.geometry import Point, LineString, Polygon, MultiPoint\n",
    "import fiona\n",
    "from shapely.ops import nearest_points"
   ]
  },
  {
   "cell_type": "code",
   "execution_count": 2,
   "metadata": {},
   "outputs": [],
   "source": [
    "bed_gdf = gpd.read_file('/Volumes/arc_04/FIELD_DATA/K8621920/RES/PROCESSED_LINES/picked_bed.shp')"
   ]
  },
  {
   "cell_type": "code",
   "execution_count": 3,
   "metadata": {},
   "outputs": [],
   "source": [
    "ice_thickness_path = '/Users/home/whitefar/DATA/FIELD_ANT_19/POST_FIELD/RADAR_MAP/thickness_line2line.tif'\n",
    "REMA_path = '/Volumes/arc_02/whitefar/DATA/REMOTE_SENSING/REMA_STRIPES/SETSM_WV01_20161109_1020010058134D00_10200100576C9100_seg1_2m_v1.0_dem.tif'"
   ]
  },
  {
   "cell_type": "markdown",
   "metadata": {},
   "source": [
    "### 1) get coordinates"
   ]
  },
  {
   "cell_type": "code",
   "execution_count": 7,
   "metadata": {},
   "outputs": [],
   "source": [
    "with rio.open(ice_thickness_path) as image:\n",
    "    extent_ice_thickn= [image.bounds[0],image.bounds[2],image.bounds[1],image.bounds[3]]\n",
    "    im_ice_thickn = image.read(1)/100"
   ]
  },
  {
   "cell_type": "code",
   "execution_count": 8,
   "metadata": {},
   "outputs": [],
   "source": [
    "x = np.linspace(extent_ice_thickn[0],extent_ice_thickn[1],im_ice_thickn.shape[1]).astype('int')\n",
    "y = np.linspace(extent_ice_thickn[3],extent_ice_thickn[2],im_ice_thickn.shape[0]).astype('int')\n",
    "x_c = np.linspace(extent_ice_thickn[0],extent_ice_thickn[1],im_ice_thickn.shape[1]).astype('int')\n",
    "y_c = np.linspace(extent_ice_thickn[3],extent_ice_thickn[2],im_ice_thickn.shape[0]).astype('int')"
   ]
  },
  {
   "cell_type": "code",
   "execution_count": 9,
   "metadata": {},
   "outputs": [],
   "source": [
    "xv_ice_thickn, yv_ice_thickn = np.meshgrid(x_c, y_c)"
   ]
  },
  {
   "cell_type": "code",
   "execution_count": null,
   "metadata": {},
   "outputs": [],
   "source": []
  },
  {
   "cell_type": "code",
   "execution_count": null,
   "metadata": {},
   "outputs": [],
   "source": [
    "with rio.open(REMA_filepath + tiff_stripe_fname) as src:\n",
    "\n",
    "    coords = [(x,y) for x, y in zip(radar_line.geometry.x, radar_line.geometry.y)]\n",
    "\n",
    "    elevations = [elevation[0] for elevation in src.sample(coords)]"
   ]
  }
 ],
 "metadata": {
  "kernelspec": {
   "display_name": "remote_sensing",
   "language": "python",
   "name": "remote_sensing"
  },
  "language_info": {
   "codemirror_mode": {
    "name": "ipython",
    "version": 3
   },
   "file_extension": ".py",
   "mimetype": "text/x-python",
   "name": "python",
   "nbconvert_exporter": "python",
   "pygments_lexer": "ipython3",
   "version": "3.7.2"
  }
 },
 "nbformat": 4,
 "nbformat_minor": 4
}
