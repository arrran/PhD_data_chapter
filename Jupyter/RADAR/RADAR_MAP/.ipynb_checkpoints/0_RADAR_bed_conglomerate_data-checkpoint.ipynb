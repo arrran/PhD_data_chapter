{
 "cells": [
  {
   "cell_type": "markdown",
   "metadata": {},
   "source": [
    "# First fiddle with the bed picking from radargrams\n",
    "\n",
    "- Huw put .txt files in /Volumes/arc_04/FIELD_DATA/K8621920/RES/PROCESSED_LINES/radar3View_JCS_*.txt\n",
    "- The DELAY column is time. Convert to depth.\n",
    "- Look at the .jcs file to map from the SEQnum (the * in the file name) to other names.\n",
    "\n"
   ]
  },
  {
   "cell_type": "code",
   "execution_count": 1,
   "metadata": {},
   "outputs": [],
   "source": [
    "import matplotlib.pyplot as plt\n",
    "import numpy as np\n",
    "import glob\n",
    "import os\n",
    "import sys\n",
    "import time\n",
    "import datetime as dt\n",
    "import pandas as pd\n",
    "import geopandas as gpd\n",
    "import scipy as sp\n",
    "from scipy import signal\n",
    "from tqdm.notebook import tqdm\n",
    "\n",
    "from shapely.geometry import Point, LineString, Polygon\n",
    "import fiona"
   ]
  },
  {
   "cell_type": "code",
   "execution_count": 2,
   "metadata": {},
   "outputs": [
    {
     "data": {
      "text/plain": [
       "['/Volumes/arc_04/FIELD_DATA/K8621920/RES/PROCESSED_LINES/radar3View_JCS_33.txt',\n",
       " '/Volumes/arc_04/FIELD_DATA/K8621920/RES/PROCESSED_LINES/radar3View_JCS_22.txt',\n",
       " '/Volumes/arc_04/FIELD_DATA/K8621920/RES/PROCESSED_LINES/radar3View_JCS_41.txt',\n",
       " '/Volumes/arc_04/FIELD_DATA/K8621920/RES/PROCESSED_LINES/radar3View_JCS_17.txt',\n",
       " '/Volumes/arc_04/FIELD_DATA/K8621920/RES/PROCESSED_LINES/radar3View_JCS_10.txt',\n",
       " '/Volumes/arc_04/FIELD_DATA/K8621920/RES/PROCESSED_LINES/radar3View_JCS_39.txt',\n",
       " '/Volumes/arc_04/FIELD_DATA/K8621920/RES/PROCESSED_LINES/radar3View_JCS_3.txt',\n",
       " '/Volumes/arc_04/FIELD_DATA/K8621920/RES/PROCESSED_LINES/radar3View_JCS_18.txt',\n",
       " '/Volumes/arc_04/FIELD_DATA/K8621920/RES/PROCESSED_LINES/radar3View_JCS_1.txt',\n",
       " '/Volumes/arc_04/FIELD_DATA/K8621920/RES/PROCESSED_LINES/radar3View_JCS_16.txt',\n",
       " '/Volumes/arc_04/FIELD_DATA/K8621920/RES/PROCESSED_LINES/radar3View_JCS_38.txt',\n",
       " '/Volumes/arc_04/FIELD_DATA/K8621920/RES/PROCESSED_LINES/radar3View_JCS_14.txt',\n",
       " '/Volumes/arc_04/FIELD_DATA/K8621920/RES/PROCESSED_LINES/radar3View_JCS_12.txt',\n",
       " '/Volumes/arc_04/FIELD_DATA/K8621920/RES/PROCESSED_LINES/radar3View_JCS_40.txt',\n",
       " '/Volumes/arc_04/FIELD_DATA/K8621920/RES/PROCESSED_LINES/radar3View_JCS_21.txt',\n",
       " '/Volumes/arc_04/FIELD_DATA/K8621920/RES/PROCESSED_LINES/radar3View_JCS_34.txt',\n",
       " '/Volumes/arc_04/FIELD_DATA/K8621920/RES/PROCESSED_LINES/radar3View_JCS_46.txt',\n",
       " '/Volumes/arc_04/FIELD_DATA/K8621920/RES/PROCESSED_LINES/radar3View_JCS_13.txt',\n",
       " '/Volumes/arc_04/FIELD_DATA/K8621920/RES/PROCESSED_LINES/radar3View_JCS_8.txt',\n",
       " '/Volumes/arc_04/FIELD_DATA/K8621920/RES/PROCESSED_LINES/radar3View_JCS_32.txt',\n",
       " '/Volumes/arc_04/FIELD_DATA/K8621920/RES/PROCESSED_LINES/radar3View_JCS_28.txt',\n",
       " '/Volumes/arc_04/FIELD_DATA/K8621920/RES/PROCESSED_LINES/radar3View_JCS_36.txt',\n",
       " '/Volumes/arc_04/FIELD_DATA/K8621920/RES/PROCESSED_LINES/radar3View_JCS_23.txt',\n",
       " '/Volumes/arc_04/FIELD_DATA/K8621920/RES/PROCESSED_LINES/radar3View_JCS_31.txt',\n",
       " '/Volumes/arc_04/FIELD_DATA/K8621920/RES/PROCESSED_LINES/radar3View_JCS_2.txt',\n",
       " '/Volumes/arc_04/FIELD_DATA/K8621920/RES/PROCESSED_LINES/radar3View_JCS_6.txt',\n",
       " '/Volumes/arc_04/FIELD_DATA/K8621920/RES/PROCESSED_LINES/radar3View_JCS_35.txt',\n",
       " '/Volumes/arc_04/FIELD_DATA/K8621920/RES/PROCESSED_LINES/radar3View_JCS_26.txt',\n",
       " '/Volumes/arc_04/FIELD_DATA/K8621920/RES/PROCESSED_LINES/radar3View_JCS_48.txt',\n",
       " '/Volumes/arc_04/FIELD_DATA/K8621920/RES/PROCESSED_LINES/radar3View_JCS_43.txt',\n",
       " '/Volumes/arc_04/FIELD_DATA/K8621920/RES/PROCESSED_LINES/radar3View_JCS_29.txt',\n",
       " '/Volumes/arc_04/FIELD_DATA/K8621920/RES/PROCESSED_LINES/radar3View_JCS_11.txt',\n",
       " '/Volumes/arc_04/FIELD_DATA/K8621920/RES/PROCESSED_LINES/radar3View_JCS_24.txt',\n",
       " '/Volumes/arc_04/FIELD_DATA/K8621920/RES/PROCESSED_LINES/radar3View_JCS_30.txt',\n",
       " '/Volumes/arc_04/FIELD_DATA/K8621920/RES/PROCESSED_LINES/radar3View_JCS_19.txt',\n",
       " '/Volumes/arc_04/FIELD_DATA/K8621920/RES/PROCESSED_LINES/radar3View_JCS_7.txt',\n",
       " '/Volumes/arc_04/FIELD_DATA/K8621920/RES/PROCESSED_LINES/radar3View_JCS_42.txt',\n",
       " '/Volumes/arc_04/FIELD_DATA/K8621920/RES/PROCESSED_LINES/radar3View_JCS_9.txt',\n",
       " '/Volumes/arc_04/FIELD_DATA/K8621920/RES/PROCESSED_LINES/radar3View_JCS_49.txt',\n",
       " '/Volumes/arc_04/FIELD_DATA/K8621920/RES/PROCESSED_LINES/radar3View_JCS_20.txt',\n",
       " '/Volumes/arc_04/FIELD_DATA/K8621920/RES/PROCESSED_LINES/radar3View_JCS_5.txt',\n",
       " '/Volumes/arc_04/FIELD_DATA/K8621920/RES/PROCESSED_LINES/radar3View_JCS_37.txt',\n",
       " '/Volumes/arc_04/FIELD_DATA/K8621920/RES/PROCESSED_LINES/radar3View_JCS_25.txt',\n",
       " '/Volumes/arc_04/FIELD_DATA/K8621920/RES/PROCESSED_LINES/radar3View_JCS_27.txt',\n",
       " '/Volumes/arc_04/FIELD_DATA/K8621920/RES/PROCESSED_LINES/radar3View_JCS_45.txt',\n",
       " '/Volumes/arc_04/FIELD_DATA/K8621920/RES/PROCESSED_LINES/radar3View_JCS_44.txt',\n",
       " '/Volumes/arc_04/FIELD_DATA/K8621920/RES/PROCESSED_LINES/radar3View_JCS_47.txt',\n",
       " '/Volumes/arc_04/FIELD_DATA/K8621920/RES/PROCESSED_LINES/radar3View_JCS_4.txt',\n",
       " '/Volumes/arc_04/FIELD_DATA/K8621920/RES/PROCESSED_LINES/radar3View_JCS_15.txt']"
      ]
     },
     "execution_count": 2,
     "metadata": {},
     "output_type": "execute_result"
    }
   ],
   "source": [
    "paths = glob.glob('/Volumes/arc_04/FIELD_DATA/K8621920/RES/PROCESSED_LINES/radar3View_JCS_*.txt')\n",
    "paths"
   ]
  },
  {
   "cell_type": "markdown",
   "metadata": {},
   "source": [
    "### The Data, ie the picked beds look like:"
   ]
  },
  {
   "cell_type": "code",
   "execution_count": 3,
   "metadata": {},
   "outputs": [
    {
     "name": "stdout",
     "output_type": "stream",
     "text": [
      "CDP SOURCE_X SOURCE_Y DELAY\r\n",
      "100 -37481120 -73102700 6220\r\n",
      "101 -37481180 -73102530 6220\r\n",
      "102 -37481260 -73102240 6220\r\n",
      "103 -37481370 -73101860 6220\r\n",
      "104 -37481420 -73101690 6220\r\n",
      "105 -37481530 -73101310 6220\r\n",
      "106 -37481590 -73101100 6220\r\n",
      "107 -37481710 -73100680 6220\r\n",
      "108 -37481760 -73100480 6220\r\n"
     ]
    }
   ],
   "source": [
    "!head {paths[0]}"
   ]
  },
  {
   "cell_type": "code",
   "execution_count": 4,
   "metadata": {},
   "outputs": [
    {
     "name": "stdout",
     "output_type": "stream",
     "text": [
      "CDP SOURCE_X SOURCE_Y DELAY\r\n",
      "100 -38156460 -72599970 8790\r\n",
      "101 -38156340 -72599830 8790\r\n",
      "102 -38156160 -72599610 8790\r\n",
      "103 -38155950 -72599360 8790\r\n",
      "104 -38155740 -72599110 8790\r\n",
      "105 -38155500 -72598810 8800\r\n",
      "106 -38155380 -72598670 8800\r\n",
      "107 -38155140 -72598390 8800\r\n",
      "108 -38155000 -72598230 8800\r\n"
     ]
    }
   ],
   "source": [
    "!head /Volumes/arc_04/FIELD_DATA/K8621920/RES/PROCESSED_LINES/radar3View_JCS_1.txt"
   ]
  },
  {
   "cell_type": "markdown",
   "metadata": {},
   "source": [
    "## Huws indexing SEQnum is different to arrans, Name. \n",
    "## get from one to the other other usind this picked_bed_metadata"
   ]
  },
  {
   "cell_type": "code",
   "execution_count": 5,
   "metadata": {},
   "outputs": [
    {
     "name": "stdout",
     "output_type": "stream",
     "text": [
      "SEQnum Name           FirstSP  LastSP   NTraces  NTraces2 NPlot    Static   MinOffset MaxOffset Inc    Site   Dir    \r\n",
      " 1      line7                            1743     1255     628      1250     0         376126    300           LTOR\r\n",
      " 2      line9                            2167     1540     770      1250     0         461583    300           LTOR\r\n",
      " 3      line0                            1785     1378     689      1250     0         413181    300           LTOR\r\n",
      " 4      line10                           2582     1577     788      1250     0         472866    300           LTOR\r\n",
      " 5      line11                           2456     1638     819      1250     0         491087    300           LTOR\r\n",
      " 6      line12                           2176     1538     769      1250     0         461119    300           LTOR\r\n",
      " 7      line13                           2337     1579     790      1250     0         473550    300           LTOR\r\n",
      " 8      line14                           2152     1534     767      1250     0         459872    300           LTOR\r\n",
      " 9      line1                            2060     1403     702      1250     0         420475    300           LTOR\r\n"
     ]
    }
   ],
   "source": [
    " !head /Users/home/whitefar/DATA/FIELD_ANT_19/POST_FIELD/RADAR_MAP/picked_bed_metadata.csv"
   ]
  },
  {
   "cell_type": "code",
   "execution_count": 6,
   "metadata": {},
   "outputs": [
    {
     "data": {
      "text/html": [
       "<div>\n",
       "<style scoped>\n",
       "    .dataframe tbody tr th:only-of-type {\n",
       "        vertical-align: middle;\n",
       "    }\n",
       "\n",
       "    .dataframe tbody tr th {\n",
       "        vertical-align: top;\n",
       "    }\n",
       "\n",
       "    .dataframe thead th {\n",
       "        text-align: right;\n",
       "    }\n",
       "</style>\n",
       "<table border=\"1\" class=\"dataframe\">\n",
       "  <thead>\n",
       "    <tr style=\"text-align: right;\">\n",
       "      <th></th>\n",
       "      <th>Name</th>\n",
       "      <th>FirstSP</th>\n",
       "      <th>LastSP</th>\n",
       "      <th>NTraces</th>\n",
       "      <th>NTraces2</th>\n",
       "      <th>NPlot</th>\n",
       "      <th>Static</th>\n",
       "      <th>MinOffset</th>\n",
       "      <th>MaxOffset</th>\n",
       "      <th>Inc</th>\n",
       "      <th>Site</th>\n",
       "      <th>Dir</th>\n",
       "    </tr>\n",
       "    <tr>\n",
       "      <th>SEQnum</th>\n",
       "      <th></th>\n",
       "      <th></th>\n",
       "      <th></th>\n",
       "      <th></th>\n",
       "      <th></th>\n",
       "      <th></th>\n",
       "      <th></th>\n",
       "      <th></th>\n",
       "      <th></th>\n",
       "      <th></th>\n",
       "      <th></th>\n",
       "      <th></th>\n",
       "    </tr>\n",
       "  </thead>\n",
       "  <tbody>\n",
       "    <tr>\n",
       "      <th>1</th>\n",
       "      <td>line7</td>\n",
       "      <td>1743</td>\n",
       "      <td>1255</td>\n",
       "      <td>628</td>\n",
       "      <td>1250</td>\n",
       "      <td>0</td>\n",
       "      <td>376126</td>\n",
       "      <td>300</td>\n",
       "      <td>LTOR</td>\n",
       "      <td>NaN</td>\n",
       "      <td>NaN</td>\n",
       "      <td>NaN</td>\n",
       "    </tr>\n",
       "    <tr>\n",
       "      <th>2</th>\n",
       "      <td>line9</td>\n",
       "      <td>2167</td>\n",
       "      <td>1540</td>\n",
       "      <td>770</td>\n",
       "      <td>1250</td>\n",
       "      <td>0</td>\n",
       "      <td>461583</td>\n",
       "      <td>300</td>\n",
       "      <td>LTOR</td>\n",
       "      <td>NaN</td>\n",
       "      <td>NaN</td>\n",
       "      <td>NaN</td>\n",
       "    </tr>\n",
       "    <tr>\n",
       "      <th>3</th>\n",
       "      <td>line0</td>\n",
       "      <td>1785</td>\n",
       "      <td>1378</td>\n",
       "      <td>689</td>\n",
       "      <td>1250</td>\n",
       "      <td>0</td>\n",
       "      <td>413181</td>\n",
       "      <td>300</td>\n",
       "      <td>LTOR</td>\n",
       "      <td>NaN</td>\n",
       "      <td>NaN</td>\n",
       "      <td>NaN</td>\n",
       "    </tr>\n",
       "    <tr>\n",
       "      <th>4</th>\n",
       "      <td>line10</td>\n",
       "      <td>2582</td>\n",
       "      <td>1577</td>\n",
       "      <td>788</td>\n",
       "      <td>1250</td>\n",
       "      <td>0</td>\n",
       "      <td>472866</td>\n",
       "      <td>300</td>\n",
       "      <td>LTOR</td>\n",
       "      <td>NaN</td>\n",
       "      <td>NaN</td>\n",
       "      <td>NaN</td>\n",
       "    </tr>\n",
       "    <tr>\n",
       "      <th>5</th>\n",
       "      <td>line11</td>\n",
       "      <td>2456</td>\n",
       "      <td>1638</td>\n",
       "      <td>819</td>\n",
       "      <td>1250</td>\n",
       "      <td>0</td>\n",
       "      <td>491087</td>\n",
       "      <td>300</td>\n",
       "      <td>LTOR</td>\n",
       "      <td>NaN</td>\n",
       "      <td>NaN</td>\n",
       "      <td>NaN</td>\n",
       "    </tr>\n",
       "  </tbody>\n",
       "</table>\n",
       "</div>"
      ],
      "text/plain": [
       "          Name  FirstSP  LastSP  NTraces  NTraces2  NPlot  Static  MinOffset  \\\n",
       "SEQnum                                                                         \n",
       "1        line7     1743    1255      628      1250      0  376126        300   \n",
       "2        line9     2167    1540      770      1250      0  461583        300   \n",
       "3        line0     1785    1378      689      1250      0  413181        300   \n",
       "4       line10     2582    1577      788      1250      0  472866        300   \n",
       "5       line11     2456    1638      819      1250      0  491087        300   \n",
       "\n",
       "       MaxOffset  Inc  Site  Dir  \n",
       "SEQnum                            \n",
       "1           LTOR  NaN   NaN  NaN  \n",
       "2           LTOR  NaN   NaN  NaN  \n",
       "3           LTOR  NaN   NaN  NaN  \n",
       "4           LTOR  NaN   NaN  NaN  \n",
       "5           LTOR  NaN   NaN  NaN  "
      ]
     },
     "execution_count": 6,
     "metadata": {},
     "output_type": "execute_result"
    }
   ],
   "source": [
    "picked_bed_metadata = pd.read_csv('/Users/home/whitefar/DATA/FIELD_ANT_19/POST_FIELD/RADAR_MAP/picked_bed_metadata.csv',header=0,delim_whitespace=True,index_col=0)\n",
    "picked_bed_metadata.head()"
   ]
  },
  {
   "cell_type": "code",
   "execution_count": 7,
   "metadata": {},
   "outputs": [
    {
     "data": {
      "text/plain": [
       "'line9'"
      ]
     },
     "execution_count": 7,
     "metadata": {},
     "output_type": "execute_result"
    }
   ],
   "source": [
    "picked_bed_metadata.iloc[1]['Name']"
   ]
  },
  {
   "cell_type": "markdown",
   "metadata": {},
   "source": [
    "# Make big dataframe of all points"
   ]
  },
  {
   "cell_type": "code",
   "execution_count": 30,
   "metadata": {},
   "outputs": [
    {
     "data": {
      "application/vnd.jupyter.widget-view+json": {
       "model_id": "bbfbac8a99a74c9395c083cfab4e26d3",
       "version_major": 2,
       "version_minor": 0
      },
      "text/plain": [
       "HBox(children=(FloatProgress(value=0.0, max=49.0), HTML(value='')))"
      ]
     },
     "metadata": {},
     "output_type": "display_data"
    },
    {
     "name": "stdout",
     "output_type": "stream",
     "text": [
      "\n"
     ]
    }
   ],
   "source": [
    "bed_df = pd.DataFrame({},columns=['CDP','SOURCE_X','SOURCE_Y','DELAY','line_name'])\n",
    "\n",
    "no_data_SEQnum = []\n",
    "\n",
    "for SEQnum in tqdm(picked_bed_metadata.index.tolist()):\n",
    "    \n",
    "    linename = picked_bed_metadata.loc[SEQnum]['Name']\n",
    "    \n",
    "    if linename in ['line0a', 'line0bKIS1']:\n",
    "        continue\n",
    "        \n",
    "    if linename in ['line7', 'line9', 'line0', 'line10', 'line11', 'line12', 'line13',\n",
    "                    'line14', 'line1', 'line2', 'line3', 'line4', 'line6', 'line7p25',\n",
    "                    'line7p5', 'line7p75', 'line8', 'lineAPREScross', 'lineAPRESdown', \n",
    "                    'lineback2camp', 'linedownchan', 'lineupchan', 'left02', 'left1011',\n",
    "                    'left1213', 'left1415', 'left35', 'left46', 'left79',\n",
    "                    'left810', 'right1112', 'right1314', 'right13', 'right24',\n",
    "                    'right68', 'right910', 'line5']:\n",
    "        camp = 'KIS2'\n",
    "    else:\n",
    "        camp = 'KIS1'\n",
    "            \n",
    "    \n",
    "    try:\n",
    "        line_df = pd.read_csv(f'/Volumes/arc_04/FIELD_DATA/K8621920/RES/PROCESSED_LINES/radar3View_JCS_{SEQnum}.txt',header=0,sep=' ')\n",
    "        line_df['line_name'] = picked_bed_metadata.loc[SEQnum]['Name']\n",
    "        line_df['SEQnum'] = SEQnum\n",
    "        line_df['camp'] = camp\n",
    "        bed_df = bed_df.append(line_df,ignore_index=True)\n",
    "        del line_df\n",
    "    except:\n",
    "        \n",
    "        print(f'SEQnum {SEQnum}, {linename} didnt work')\n",
    "        no_data_SEQnum.append(SEQnum)\n",
    "\n",
    "bed_df.rename(columns={'SOURCE_X':'x','SOURCE_Y':'y'},inplace=True)"
   ]
  },
  {
   "cell_type": "code",
   "execution_count": 31,
   "metadata": {},
   "outputs": [],
   "source": [
    "# need to divide x and y by 10\n",
    "bed_df.x = bed_df.x.astype('float').copy()\n",
    "bed_df.y = bed_df.y.astype('float').copy()\n",
    "bed_df.SEQnum = bed_df.SEQnum.astype('int').copy()"
   ]
  },
  {
   "cell_type": "code",
   "execution_count": 32,
   "metadata": {},
   "outputs": [],
   "source": [
    "bed_df.x = bed_df.x.div(100).copy()\n",
    "bed_df.y = bed_df.y.div(100).copy()"
   ]
  },
  {
   "cell_type": "code",
   "execution_count": 33,
   "metadata": {},
   "outputs": [
    {
     "data": {
      "text/html": [
       "<div>\n",
       "<style scoped>\n",
       "    .dataframe tbody tr th:only-of-type {\n",
       "        vertical-align: middle;\n",
       "    }\n",
       "\n",
       "    .dataframe tbody tr th {\n",
       "        vertical-align: top;\n",
       "    }\n",
       "\n",
       "    .dataframe thead th {\n",
       "        text-align: right;\n",
       "    }\n",
       "</style>\n",
       "<table border=\"1\" class=\"dataframe\">\n",
       "  <thead>\n",
       "    <tr style=\"text-align: right;\">\n",
       "      <th></th>\n",
       "      <th>CDP</th>\n",
       "      <th>x</th>\n",
       "      <th>y</th>\n",
       "      <th>DELAY</th>\n",
       "      <th>line_name</th>\n",
       "      <th>SEQnum</th>\n",
       "      <th>camp</th>\n",
       "    </tr>\n",
       "  </thead>\n",
       "  <tbody>\n",
       "    <tr>\n",
       "      <th>0</th>\n",
       "      <td>100</td>\n",
       "      <td>-381564.6</td>\n",
       "      <td>-725999.7</td>\n",
       "      <td>8790</td>\n",
       "      <td>line7</td>\n",
       "      <td>1</td>\n",
       "      <td>KIS2</td>\n",
       "    </tr>\n",
       "    <tr>\n",
       "      <th>1</th>\n",
       "      <td>101</td>\n",
       "      <td>-381563.4</td>\n",
       "      <td>-725998.3</td>\n",
       "      <td>8790</td>\n",
       "      <td>line7</td>\n",
       "      <td>1</td>\n",
       "      <td>KIS2</td>\n",
       "    </tr>\n",
       "    <tr>\n",
       "      <th>2</th>\n",
       "      <td>102</td>\n",
       "      <td>-381561.6</td>\n",
       "      <td>-725996.1</td>\n",
       "      <td>8790</td>\n",
       "      <td>line7</td>\n",
       "      <td>1</td>\n",
       "      <td>KIS2</td>\n",
       "    </tr>\n",
       "    <tr>\n",
       "      <th>3</th>\n",
       "      <td>103</td>\n",
       "      <td>-381559.5</td>\n",
       "      <td>-725993.6</td>\n",
       "      <td>8790</td>\n",
       "      <td>line7</td>\n",
       "      <td>1</td>\n",
       "      <td>KIS2</td>\n",
       "    </tr>\n",
       "    <tr>\n",
       "      <th>4</th>\n",
       "      <td>104</td>\n",
       "      <td>-381557.4</td>\n",
       "      <td>-725991.1</td>\n",
       "      <td>8790</td>\n",
       "      <td>line7</td>\n",
       "      <td>1</td>\n",
       "      <td>KIS2</td>\n",
       "    </tr>\n",
       "  </tbody>\n",
       "</table>\n",
       "</div>"
      ],
      "text/plain": [
       "   CDP         x         y DELAY line_name  SEQnum  camp\n",
       "0  100 -381564.6 -725999.7  8790     line7       1  KIS2\n",
       "1  101 -381563.4 -725998.3  8790     line7       1  KIS2\n",
       "2  102 -381561.6 -725996.1  8790     line7       1  KIS2\n",
       "3  103 -381559.5 -725993.6  8790     line7       1  KIS2\n",
       "4  104 -381557.4 -725991.1  8790     line7       1  KIS2"
      ]
     },
     "execution_count": 33,
     "metadata": {},
     "output_type": "execute_result"
    }
   ],
   "source": [
    "bed_df.head()"
   ]
  },
  {
   "cell_type": "code",
   "execution_count": 34,
   "metadata": {},
   "outputs": [],
   "source": [
    "points = [Point(xy) for xy in zip(bed_df.x,bed_df.y)]\n",
    "bed_gdf = gpd.GeoDataFrame(bed_df,geometry=points,crs=\"EPSG:3031\")"
   ]
  },
  {
   "cell_type": "markdown",
   "metadata": {},
   "source": [
    "## all lines are visible"
   ]
  },
  {
   "cell_type": "code",
   "execution_count": 35,
   "metadata": {},
   "outputs": [
    {
     "data": {
      "text/plain": [
       "<matplotlib.axes._subplots.AxesSubplot at 0x7ff07920e390>"
      ]
     },
     "execution_count": 35,
     "metadata": {},
     "output_type": "execute_result"
    },
    {
     "data": {
      "image/png": "[encoded data removed]",
      "text/plain": [
       "<Figure size 1584x1008 with 1 Axes>"
      ]
     },
     "metadata": {
      "needs_background": "light"
     },
     "output_type": "display_data"
    }
   ],
   "source": [
    "bed_gdf.plot(figsize=(22,14))"
   ]
  },
  {
   "cell_type": "code",
   "execution_count": 36,
   "metadata": {},
   "outputs": [
    {
     "data": {
      "text/plain": [
       "<matplotlib.axes._subplots.AxesSubplot at 0x7ff07918f8d0>"
      ]
     },
     "execution_count": 36,
     "metadata": {},
     "output_type": "execute_result"
    },
    {
     "data": {
      "image/png": "[encoded data removed]",
      "text/plain": [
       "<Figure size 1584x1008 with 1 Axes>"
      ]
     },
     "metadata": {
      "needs_background": "light"
     },
     "output_type": "display_data"
    }
   ],
   "source": [
    "bed_gdf[bed_gdf.camp=='KIS2'].plot(figsize=(22,14))"
   ]
  },
  {
   "cell_type": "code",
   "execution_count": 37,
   "metadata": {},
   "outputs": [
    {
     "data": {
      "text/plain": [
       "<matplotlib.axes._subplots.AxesSubplot at 0x7ff078ef84a8>"
      ]
     },
     "execution_count": 37,
     "metadata": {},
     "output_type": "execute_result"
    },
    {
     "data": {
      "image/png": "[encoded data removed]",
      "text/plain": [
       "<Figure size 1584x1008 with 1 Axes>"
      ]
     },
     "metadata": {
      "needs_background": "light"
     },
     "output_type": "display_data"
    }
   ],
   "source": [
    "bed_gdf[bed_gdf.camp=='KIS1'].plot(figsize=(22,14))"
   ]
  },
  {
   "cell_type": "code",
   "execution_count": 38,
   "metadata": {},
   "outputs": [],
   "source": [
    "bed_gdf.to_file('/Volumes/arc_04/FIELD_DATA/K8621920/RES/PROCESSED_LINES/picked_bed.shp')"
   ]
  },
  {
   "cell_type": "code",
   "execution_count": null,
   "metadata": {},
   "outputs": [],
   "source": []
  }
 ],
 "metadata": {
  "kernelspec": {
   "display_name": "remote_sensing",
   "language": "python",
   "name": "remote_sensing"
  },
  "language_info": {
   "codemirror_mode": {
    "name": "ipython",
    "version": 3
   },
   "file_extension": ".py",
   "mimetype": "text/x-python",
   "name": "python",
   "nbconvert_exporter": "python",
   "pygments_lexer": "ipython3",
   "version": "3.7.2"
  }
 },
 "nbformat": 4,
 "nbformat_minor": 4
}
