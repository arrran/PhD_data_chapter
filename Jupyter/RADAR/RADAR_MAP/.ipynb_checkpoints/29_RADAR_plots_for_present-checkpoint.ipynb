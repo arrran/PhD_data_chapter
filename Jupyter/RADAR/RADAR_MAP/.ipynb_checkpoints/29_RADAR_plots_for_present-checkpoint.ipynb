{
 "cells": [
  {
   "cell_type": "markdown",
   "metadata": {},
   "source": [
    "# Check out how the channel might meander from the old radarlines to new\n",
    "\n",
    "Interpolation of old and new radarline comes from 26_RADAR_interpolate_line2line_by_distance_downchan\n"
   ]
  },
  {
   "cell_type": "code",
   "execution_count": null,
   "metadata": {},
   "outputs": [],
   "source": [
    "import matplotlib.pyplot as plt\n",
    "import numpy as np\n",
    "import glob\n",
    "import os\n",
    "import sys\n",
    "import time\n",
    "import datetime as dt\n",
    "import pandas as pd\n",
    "import geopandas as gpd\n",
    "import scipy as sp\n",
    "from scipy import signal\n",
    "from tqdm.notebook import tqdm\n",
    "import rasterio as rio\n",
    "from shapely.geometry import Point, LineString, Polygon, MultiPoint\n",
    "import fiona\n",
    "from shapely.ops import nearest_points"
   ]
  },
  {
   "cell_type": "code",
   "execution_count": null,
   "metadata": {},
   "outputs": [],
   "source": [
    "new_gpr = gpd.read_file('/Volumes/arc_04/FIELD_DATA/K8621920/RES/PROCESSED_LINES/picked_bed.shp')\n",
    "old_gpr = gpd.read_file('/Volumes/arc_04/FIELD_DATA/K8621920/RES/PROCESSED_LINES/1516_gprlines.shp')\n",
    "old_gpr['camp'] = 'KIS2' \n",
    "bed_gdf = pd.concat([new_gpr,old_gpr])\n",
    "gdf = bed_gdf[bed_gdf.camp =='KIS2'].copy()\n",
    "ngpr = new_gpr[new_gpr.camp =='KIS2'].copy()"
   ]
  },
  {
   "cell_type": "code",
   "execution_count": null,
   "metadata": {},
   "outputs": [],
   "source": [
    "x_old = np.load('/Users/home/whitefar/DATA/FIELD_ANT_19/POST_FIELD/RADAR_MAP/channel_line2line_interpbydistold_points_x.npy')\n",
    "y_old = np.load('/Users/home/whitefar/DATA/FIELD_ANT_19/POST_FIELD/RADAR_MAP/channel_line2line_interpbydistold_points_y.npy')\n",
    "it_old = np.load('/Users/home/whitefar/DATA/FIELD_ANT_19/POST_FIELD/RADAR_MAP/channel_line2line_interpbydistold_ice_thickn.npy')"
   ]
  },
  {
   "cell_type": "code",
   "execution_count": null,
   "metadata": {},
   "outputs": [],
   "source": [
    "x_new = np.load('/Users/home/whitefar/DATA/FIELD_ANT_19/POST_FIELD/RADAR_MAP/channel_line2line_interpbydist_points_x.npy')\n",
    "y_new = np.load('/Users/home/whitefar/DATA/FIELD_ANT_19/POST_FIELD/RADAR_MAP/channel_line2line_interpbydist_points_y.npy')\n",
    "it_new = np.load('/Users/home/whitefar/DATA/FIELD_ANT_19/POST_FIELD/RADAR_MAP/channel_line2line_interpbydist_ice_thickn.npy')"
   ]
  },
  {
   "cell_type": "markdown",
   "metadata": {},
   "source": [
    "# plot channel over REMA surface"
   ]
  },
  {
   "cell_type": "code",
   "execution_count": null,
   "metadata": {},
   "outputs": [],
   "source": [
    "#load REMA\n",
    "nid1 = 159202\n",
    "nid2 = 131226\n",
    "df = gpd.read_file('/Users/home/whitefar/DATA/REMOTE_SENSING/REMA_2m_strips/REMA_Strip_Index_Rel1.shp')\n",
    "path = f\"/Volumes/arc_02/whitefar/DATA/REMOTE_SENSING/REMA_STRIPES/DIFFERENCES/REMA_{nid1}-{nid2}_diff.tif\"\n",
    "f = df.loc[nid1].acquisitio\n",
    "t =df.loc[nid2].acquisitio\n",
    "duration = (pd.to_datetime(t)-pd.to_datetime(f)).days/365.25\n",
    "with rio.open(path) as image:\n",
    "    im = image.read(1)\n",
    "    im[im==-9999] = np.nan\n",
    "    im = im / duration\n",
    "with rio.open('/Volumes/arc_02/whitefar/DATA/REMOTE_SENSING/REMA_STRIPES/SETSM_WV01_20161109_1020010058134D00_10200100576C9100_seg1_2m_v1.0_dem.tif') as image:\n",
    "    extent_REMA = [image.bounds[0],image.bounds[2],image.bounds[1],image.bounds[3]]\n",
    "    im_REMA = image.read(1)/100"
   ]
  },
  {
   "cell_type": "code",
   "execution_count": null,
   "metadata": {},
   "outputs": [],
   "source": [
    "#rema\n",
    "v=[0,1]    \n",
    "\n",
    "extent_REMA1 = [image.bounds[0],image.bounds[2],image.bounds[1],image.bounds[3]]\n",
    "kis2 = [-380737.537026,-724683.311299]\n",
    "plt.figure(figsize=(15,15))\n",
    "# GyRd = plt.cm.get_cmap('PuOr').reversed()\n",
    "plt.imshow(im,extent=extent_REMA1, vmin=v[0],vmax=v[1],cmap='PRGn')\n",
    "cb = plt.colorbar()\n",
    "plt.plot(kis2[0],kis2[1],'y^')\n",
    "cb.set_label('rate of elevation change, m/a')\n",
    "\n",
    "# radar\n",
    "plt.scatter( x_new,y_new,c=it_new,cmap='hsv',vmin=400, vmax=800,marker='.')\n",
    "# plt.scatter( gdf.x,gdf.y,c=gdf.ice_thickn,cmap='hsv',vmin=400, vmax=800)\n",
    "\n",
    "plt.colorbar()\n",
    "plt.title('Radar plot with interpolated lines')\n",
    "plt.xlim([-382000, -378000])\n",
    "plt.ylim([-727000,-724000])\n",
    "plt.grid()\n",
    "plt.show()"
   ]
  },
  {
   "cell_type": "code",
   "execution_count": null,
   "metadata": {},
   "outputs": [],
   "source": [
    "#rema\n",
    "v=[0,1]    \n",
    "\n",
    "kis2 = [-380737.537026,-724683.311299]\n",
    "plt.figure(figsize=(20,20))\n",
    "plt.imshow(im_REMA,extent=extent_REMA,vmin=0.3,vmax=0.7, cmap='BrBG')\n",
    "cb = plt.colorbar()\n",
    "cb.set_label('surface elevation (?)')\n",
    "plt.plot(kis2[0],kis2[1],'y^')\n",
    "cb.set_label('rate of elevation change, m/a')\n",
    "\n",
    "# radar\n",
    "plt.scatter( x_new,y_new,c=it_new,cmap='hsv',vmin=400, vmax=800,marker='.')\n",
    "\n",
    "plt.colorbar()\n",
    "plt.title('interpolated radarlines over surf topography')\n",
    "plt.xlim([-382000, -374800])\n",
    "plt.ylim([-733300,-724000])\n",
    "plt.grid()\n",
    "plt.show()"
   ]
  },
  {
   "cell_type": "code",
   "execution_count": null,
   "metadata": {},
   "outputs": [],
   "source": [
    "#rema\n",
    "v=[0,1]    \n",
    "\n",
    "plt.figure(figsize=(20,20))\n",
    "extent = [image.bounds[0],image.bounds[2],image.bounds[1],image.bounds[3]]\n",
    "kis2 = [-380737.537026,-724683.311299]\n",
    "\n",
    "plt.imshow(im_REMA,extent=extent_REMA,vmin=0.3,vmax=0.7, cmap='BrBG')\n",
    "cb = plt.colorbar()\n",
    "cb.set_label('surface elevation (?)')\n",
    "plt.plot(kis2[0],kis2[1],'y^')\n",
    "cb.set_label('rate of elevation change, m/a')\n",
    "\n",
    "i=10\n",
    "plt.plot(x_new[i,:],y_new[i,:],label=\"19-20 surveyed channel\")\n",
    "plt.plot(x_old[i,:],y_old[i,:],label=\"15-16 surveyed channel\")\n",
    "\n",
    "plt.colorbar()\n",
    "plt.legend()\n",
    "plt.title('interpolated radarlines over surf topography')\n",
    "plt.xlim([-382000, -374800])\n",
    "plt.ylim([-733300,-724000])\n",
    "plt.grid()\n",
    "plt.show()"
   ]
  },
  {
   "cell_type": "markdown",
   "metadata": {},
   "source": [
    "# Plot underside of ice"
   ]
  },
  {
   "cell_type": "code",
   "execution_count": null,
   "metadata": {},
   "outputs": [],
   "source": [
    "direc = '/Users/home/whitefar/DATA/FIELD_ANT_19/POST_FIELD/RADAR_MAP/interpolatedgrid_allchan'\n",
    "\n",
    "xv = np.load(direc + 'x_grid' +'.npy')\n",
    "yv = np.load(direc + 'y_grid' +'.npy')\n",
    "thickness_interpolated = np.load(direc +'ice_thickness'+'.npy')\n",
    "extent_l2l = np.load(direc +'extent.npy')\n",
    "surf_out = np.load(direc +'surface.npy')"
   ]
  },
  {
   "cell_type": "code",
   "execution_count": null,
   "metadata": {},
   "outputs": [],
   "source": [
    "plt.figure(figsize=(20,20))\n",
    "\n",
    "v = [-750,-350]\n",
    "plt.imshow(surf_out-thickness_interpolated,extent=extent_l2l,cmap='gist_rainbow')\n",
    "plt.colorbar()\n",
    "plt.title('base of ice')\n",
    "\n",
    "\n",
    "plt.show()"
   ]
  },
  {
   "cell_type": "code",
   "execution_count": null,
   "metadata": {},
   "outputs": [],
   "source": [
    "plt.figure(figsize=(20,20))\n",
    "plt.contour(xv,yv,surf_out-thickness_interpolated,10)\n",
    "plt.title('contours of underside of ice')\n",
    "plt.show()"
   ]
  },
  {
   "cell_type": "code",
   "execution_count": null,
   "metadata": {},
   "outputs": [],
   "source": [
    "plt.figure(figsize=(20,20))\n",
    "\n",
    "v = [-750,-350]\n",
    "plt.imshow(surf_out,extent=extent_l2l,cmap='gist_rainbow')\n",
    "plt.colorbar()\n",
    "plt.title('interpolated surface of ice')\n",
    "\n",
    "\n",
    "plt.show()"
   ]
  },
  {
   "cell_type": "code",
   "execution_count": null,
   "metadata": {},
   "outputs": [],
   "source": [
    "#rema\n",
    "v=[0,1]    \n",
    "\n",
    "extent = [image.bounds[0],image.bounds[2],image.bounds[1],image.bounds[3]]\n",
    "kis2 = [-380737.537026,-724683.311299]\n",
    "plt.figure(figsize=(20,20))\n",
    "plt.imshow(im_REMA,extent=extent_REMA,vmin=0.3,vmax=0.7, cmap='BrBG')\n",
    "cb = plt.colorbar()\n",
    "cb.set_label('surface elevation (?)')\n",
    "plt.plot(kis2[0],kis2[1],'y^')\n",
    "cb.set_label('rate of elevation change, m/a')\n",
    "\n",
    "plt.contour(xv,yv,surf_out-thickness_interpolated)\n",
    "plt.title('contours of underside of ice plotted on REMA surface')\n",
    "\n",
    "plt.colorbar()\n",
    "# plt.title('interpolated radarlines over surf topography')\n",
    "plt.xlim([-382000, -374800])\n",
    "plt.ylim([-733300,-724000])\n",
    "plt.grid()\n",
    "plt.show()"
   ]
  },
  {
   "cell_type": "code",
   "execution_count": null,
   "metadata": {},
   "outputs": [],
   "source": [
    "extent_REMA"
   ]
  },
  {
   "cell_type": "code",
   "execution_count": null,
   "metadata": {},
   "outputs": [],
   "source": [
    "x = np.linspace(extent_REMA[0],extent_REMA[1],im_REMA.shape[1]).astype('int')\n",
    "y = np.linspace(extent_REMA[3],extent_REMA[2],im_REMA.shape[0]).astype('int')"
   ]
  },
  {
   "cell_type": "code",
   "execution_count": null,
   "metadata": {},
   "outputs": [],
   "source": [
    "xmin, xmax, ymin, ymax = extent_l2l"
   ]
  },
  {
   "cell_type": "code",
   "execution_count": null,
   "metadata": {},
   "outputs": [],
   "source": [
    "x_i = np.argwhere((x>xmin) & (x< xmax)).flatten()[0]\n",
    "x_j = np.argwhere((x>xmin) & (x< xmax)).flatten()[-1]\n",
    "y_i = np.argwhere((y>ymin) & (y< ymax)).flatten()[0]\n",
    "y_j = np.argwhere((y>ymin) & (y< ymax)).flatten()[-1]"
   ]
  },
  {
   "cell_type": "code",
   "execution_count": null,
   "metadata": {},
   "outputs": [],
   "source": [
    "x_c = np.linspace(extent_REMA[0],extent_REMA[1],im_REMA.shape[1]).astype('int')[x_i:x_j]\n",
    "y_c = np.linspace(extent_REMA[3],extent_REMA[2],im_REMA.shape[0]).astype('int')[y_i:y_j]"
   ]
  },
  {
   "cell_type": "code",
   "execution_count": null,
   "metadata": {},
   "outputs": [],
   "source": [
    "xv_REMA, yv_REMA = np.meshgrid(x_c, y_c)"
   ]
  },
  {
   "cell_type": "code",
   "execution_count": null,
   "metadata": {},
   "outputs": [],
   "source": [
    "im_REMA_c = im_REMA[y_i:y_j,x_i:x_j]\n",
    "im_REMA_c[im_REMA_c==-99.99] = np.nan"
   ]
  },
  {
   "cell_type": "code",
   "execution_count": null,
   "metadata": {},
   "outputs": [],
   "source": []
  },
  {
   "cell_type": "code",
   "execution_count": null,
   "metadata": {},
   "outputs": [],
   "source": [
    "jj = 10\n",
    "\n",
    "plt.figure(figsize=(20,20))\n",
    "plt.contour(xv_REMA[::jj],yv_REMA[::jj],im_REMA_c[::jj],20)\n"
   ]
  },
  {
   "cell_type": "code",
   "execution_count": null,
   "metadata": {},
   "outputs": [],
   "source": [
    "jj = 40\n",
    "\n",
    "plt.figure(figsize=(20,20))\n",
    "plt.contour(xv_REMA[::jj],yv_REMA[::jj],im_REMA_c[::jj],30)\n",
    "plt.colorbar()\n",
    "v = [-750,-350]\n",
    "plt.imshow(surf_out-thickness_interpolated,extent=extent_l2l,cmap='gist_rainbow')\n",
    "plt.colorbar()\n",
    "plt.title('Colored base of ice with contours of surface topography')\n",
    "plt.show()"
   ]
  },
  {
   "cell_type": "markdown",
   "metadata": {},
   "source": [
    "# Conclustion\n",
    "\n",
    "Episodic discrete melt events. Each blob has a corner, and a dip"
   ]
  },
  {
   "cell_type": "code",
   "execution_count": null,
   "metadata": {},
   "outputs": [],
   "source": [
    "jj = 40\n",
    "\n",
    "plt.figure(figsize=(20,20))\n",
    "plt.contour(xv_REMA[::jj],yv_REMA[::jj],im_REMA_c[::jj],30)\n",
    "plt.colorbar()\n",
    "v = [-750,-350]\n",
    "plt.imshow(surf_out-thickness_interpolated,extent=extent_l2l,cmap='gist_rainbow')\n",
    "plt.colorbar()\n",
    "# plt.title('Colored base of ice with contours of surface topography')\n",
    "plt.xlim([xmin,xmax])\n",
    "plt.ylim([ymin,ymax])\n",
    "plt.show()"
   ]
  },
  {
   "cell_type": "code",
   "execution_count": null,
   "metadata": {},
   "outputs": [],
   "source": [
    "ll = {} #a dictionary of geodataframes of radarlines over KIS2, ie one gdf for each line.\n",
    "\n",
    "for line in bed_gdf[bed_gdf.camp =='KIS2'].line_name.unique().tolist():\n",
    "    ll[line] = bed_gdf[(bed_gdf.line_name==line) & (bed_gdf.camp=='KIS2')].copy()\n",
    "    ll[line].sort_values(by='x',inplace=True)\n",
    "    ll[line].reset_index(drop=True,inplace=True)\n",
    "\n",
    "cross_channel_lines = [ 'line7p75','line7p5','line7p25','line7', 'line6','line5','lineAPREScross','line4','line3','line2','line1','line0']\n",
    "\n",
    "#lines which cross the channel, (ll restricted to the above subset)\n",
    "cl  = {key:ll[key] for key in cross_channel_lines}"
   ]
  },
  {
   "cell_type": "code",
   "execution_count": null,
   "metadata": {},
   "outputs": [],
   "source": [
    "jj = 40\n",
    "\n",
    "plt.figure(figsize=(20,20))\n",
    "v = [-750,-350]\n",
    "plt.imshow(surf_out-thickness_interpolated,extent=extent_l2l,cmap='gist_rainbow')\n",
    "plt.colorbar()\n",
    "plt.title('Colored base of ice with contours of surface topography')\n",
    "for line in cl.values():\n",
    "    plt.plot(line.x,line.y)\n",
    "plt.xlim([xmin,xmax])\n",
    "plt.ylim([ymin,ymax])\n",
    "plt.show()"
   ]
  },
  {
   "cell_type": "markdown",
   "metadata": {},
   "source": [
    "# Four blobs hypothesis.\n",
    "\n",
    "### Evidence\n",
    "\n",
    "1. surface REMA, shows blobs\n",
    "2. Spline down channel shows four corresponding lows\n",
    "3. channel goes wide and narrow, this is evident for blob 2 and 3, loose for 4 and doesnt show for 1"
   ]
  },
  {
   "cell_type": "code",
   "execution_count": null,
   "metadata": {},
   "outputs": [],
   "source": [
    "#rema\n",
    "v=[0,1]    \n",
    "\n",
    "extent_REMA1 = [image.bounds[0],image.bounds[2],image.bounds[1],image.bounds[3]]\n",
    "kis2 = [-380737.537026,-724683.311299]\n",
    "plt.figure(figsize=(15,15))\n",
    "GyRd = plt.cm.get_cmap('PuOr').reversed()\n",
    "plt.imshow(im,extent=extent_REMA1, vmin=v[0],vmax=v[1],cmap=GyRd)\n",
    "cb = plt.colorbar()\n",
    "plt.plot(kis2[0],kis2[1],'y^')\n",
    "cb.set_label('rate of elevation change, m/a')\n",
    "\n",
    "CS =  plt.contour(xv,yv,surf_out-thickness_interpolated)\n",
    "plt.clabel(CS, inline=1, fontsize=10)\n",
    "plt.title('contours of underside of ice plotted on REMA surface')\n",
    "\n",
    "plt.colorbar()\n",
    "# plt.title('interpolated radarlines over surf topography')\n",
    "plt.xlim([-382000, -374800])\n",
    "plt.ylim([-733300,-724000])\n",
    "plt.grid()\n",
    "plt.show()"
   ]
  },
  {
   "cell_type": "code",
   "execution_count": null,
   "metadata": {},
   "outputs": [],
   "source": []
  }
 ],
 "metadata": {
  "kernelspec": {
   "display_name": "remote_sensing",
   "language": "python",
   "name": "remote_sensing"
  },
  "language_info": {
   "codemirror_mode": {
    "name": "ipython",
    "version": 3
   },
   "file_extension": ".py",
   "mimetype": "text/x-python",
   "name": "python",
   "nbconvert_exporter": "python",
   "pygments_lexer": "ipython3",
   "version": "3.7.2"
  }
 },
 "nbformat": 4,
 "nbformat_minor": 4
}
