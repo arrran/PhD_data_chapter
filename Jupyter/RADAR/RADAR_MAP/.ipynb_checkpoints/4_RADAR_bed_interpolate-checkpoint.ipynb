{
 "cells": [
  {
   "cell_type": "markdown",
   "metadata": {},
   "source": [
    "# NOT USED - DOESNT GO\n",
    "\n",
    "## Interpolate bed surface\n"
   ]
  },
  {
   "cell_type": "code",
   "execution_count": 1,
   "metadata": {},
   "outputs": [],
   "source": [
    "import matplotlib.pyplot as plt\n",
    "import numpy as np\n",
    "import glob\n",
    "import os\n",
    "import sys\n",
    "import time\n",
    "import datetime as dt\n",
    "import pandas as pd\n",
    "import geopandas as gpd\n",
    "import scipy as sp\n",
    "from scipy import signal\n",
    "from tqdm.notebook import tqdm\n",
    "\n",
    "from shapely.geometry import Point, LineString, Polygon, MultiPoint\n",
    "import fiona\n",
    "from shapely.ops import nearest_points"
   ]
  },
  {
   "cell_type": "code",
   "execution_count": 18,
   "metadata": {},
   "outputs": [],
   "source": [
    "bed_gdf = gpd.read_file('/Volumes/arc_04/FIELD_DATA/K8621920/RES/PROCESSED_LINES/picked_bed.shp')\n",
    "bed_gdf.DELAY = bed_gdf.DELAY.astype('int').copy()"
   ]
  },
  {
   "cell_type": "code",
   "execution_count": 19,
   "metadata": {},
   "outputs": [],
   "source": [
    "bed_KIS2 = bed_gdf[bed_gdf.camp=='KIS2'].copy()"
   ]
  },
  {
   "cell_type": "code",
   "execution_count": 20,
   "metadata": {},
   "outputs": [
    {
     "data": {
      "text/html": [
       "<div>\n",
       "<style scoped>\n",
       "    .dataframe tbody tr th:only-of-type {\n",
       "        vertical-align: middle;\n",
       "    }\n",
       "\n",
       "    .dataframe tbody tr th {\n",
       "        vertical-align: top;\n",
       "    }\n",
       "\n",
       "    .dataframe thead th {\n",
       "        text-align: right;\n",
       "    }\n",
       "</style>\n",
       "<table border=\"1\" class=\"dataframe\">\n",
       "  <thead>\n",
       "    <tr style=\"text-align: right;\">\n",
       "      <th></th>\n",
       "      <th>CDP</th>\n",
       "      <th>x</th>\n",
       "      <th>y</th>\n",
       "      <th>DELAY</th>\n",
       "      <th>line_name</th>\n",
       "      <th>SEQnum</th>\n",
       "      <th>camp</th>\n",
       "      <th>geometry</th>\n",
       "    </tr>\n",
       "  </thead>\n",
       "  <tbody>\n",
       "    <tr>\n",
       "      <th>0</th>\n",
       "      <td>100</td>\n",
       "      <td>-381564.6</td>\n",
       "      <td>-725999.7</td>\n",
       "      <td>8790</td>\n",
       "      <td>line7</td>\n",
       "      <td>1</td>\n",
       "      <td>KIS2</td>\n",
       "      <td>POINT (-381564.600 -725999.700)</td>\n",
       "    </tr>\n",
       "    <tr>\n",
       "      <th>1</th>\n",
       "      <td>101</td>\n",
       "      <td>-381563.4</td>\n",
       "      <td>-725998.3</td>\n",
       "      <td>8790</td>\n",
       "      <td>line7</td>\n",
       "      <td>1</td>\n",
       "      <td>KIS2</td>\n",
       "      <td>POINT (-381563.400 -725998.300)</td>\n",
       "    </tr>\n",
       "    <tr>\n",
       "      <th>2</th>\n",
       "      <td>102</td>\n",
       "      <td>-381561.6</td>\n",
       "      <td>-725996.1</td>\n",
       "      <td>8790</td>\n",
       "      <td>line7</td>\n",
       "      <td>1</td>\n",
       "      <td>KIS2</td>\n",
       "      <td>POINT (-381561.600 -725996.100)</td>\n",
       "    </tr>\n",
       "    <tr>\n",
       "      <th>3</th>\n",
       "      <td>103</td>\n",
       "      <td>-381559.5</td>\n",
       "      <td>-725993.6</td>\n",
       "      <td>8790</td>\n",
       "      <td>line7</td>\n",
       "      <td>1</td>\n",
       "      <td>KIS2</td>\n",
       "      <td>POINT (-381559.500 -725993.600)</td>\n",
       "    </tr>\n",
       "    <tr>\n",
       "      <th>4</th>\n",
       "      <td>104</td>\n",
       "      <td>-381557.4</td>\n",
       "      <td>-725991.1</td>\n",
       "      <td>8790</td>\n",
       "      <td>line7</td>\n",
       "      <td>1</td>\n",
       "      <td>KIS2</td>\n",
       "      <td>POINT (-381557.400 -725991.100)</td>\n",
       "    </tr>\n",
       "    <tr>\n",
       "      <th>...</th>\n",
       "      <td>...</td>\n",
       "      <td>...</td>\n",
       "      <td>...</td>\n",
       "      <td>...</td>\n",
       "      <td>...</td>\n",
       "      <td>...</td>\n",
       "      <td>...</td>\n",
       "      <td>...</td>\n",
       "    </tr>\n",
       "    <tr>\n",
       "      <th>78350</th>\n",
       "      <td>1617</td>\n",
       "      <td>-380480.6</td>\n",
       "      <td>-728123.0</td>\n",
       "      <td>8280</td>\n",
       "      <td>line5</td>\n",
       "      <td>49</td>\n",
       "      <td>KIS2</td>\n",
       "      <td>POINT (-380480.600 -728123.000)</td>\n",
       "    </tr>\n",
       "    <tr>\n",
       "      <th>78351</th>\n",
       "      <td>1618</td>\n",
       "      <td>-380483.0</td>\n",
       "      <td>-728125.5</td>\n",
       "      <td>8280</td>\n",
       "      <td>line5</td>\n",
       "      <td>49</td>\n",
       "      <td>KIS2</td>\n",
       "      <td>POINT (-380483.000 -728125.500)</td>\n",
       "    </tr>\n",
       "    <tr>\n",
       "      <th>78352</th>\n",
       "      <td>1619</td>\n",
       "      <td>-380485.3</td>\n",
       "      <td>-728127.9</td>\n",
       "      <td>8280</td>\n",
       "      <td>line5</td>\n",
       "      <td>49</td>\n",
       "      <td>KIS2</td>\n",
       "      <td>POINT (-380485.300 -728127.900)</td>\n",
       "    </tr>\n",
       "    <tr>\n",
       "      <th>78353</th>\n",
       "      <td>1620</td>\n",
       "      <td>-380487.6</td>\n",
       "      <td>-728130.1</td>\n",
       "      <td>8280</td>\n",
       "      <td>line5</td>\n",
       "      <td>49</td>\n",
       "      <td>KIS2</td>\n",
       "      <td>POINT (-380487.600 -728130.100)</td>\n",
       "    </tr>\n",
       "    <tr>\n",
       "      <th>78354</th>\n",
       "      <td>1621</td>\n",
       "      <td>-380489.3</td>\n",
       "      <td>-728131.8</td>\n",
       "      <td>8280</td>\n",
       "      <td>line5</td>\n",
       "      <td>49</td>\n",
       "      <td>KIS2</td>\n",
       "      <td>POINT (-380489.300 -728131.800)</td>\n",
       "    </tr>\n",
       "  </tbody>\n",
       "</table>\n",
       "<p>46995 rows × 8 columns</p>\n",
       "</div>"
      ],
      "text/plain": [
       "        CDP         x         y  DELAY line_name  SEQnum  camp  \\\n",
       "0       100 -381564.6 -725999.7   8790     line7       1  KIS2   \n",
       "1       101 -381563.4 -725998.3   8790     line7       1  KIS2   \n",
       "2       102 -381561.6 -725996.1   8790     line7       1  KIS2   \n",
       "3       103 -381559.5 -725993.6   8790     line7       1  KIS2   \n",
       "4       104 -381557.4 -725991.1   8790     line7       1  KIS2   \n",
       "...     ...       ...       ...    ...       ...     ...   ...   \n",
       "78350  1617 -380480.6 -728123.0   8280     line5      49  KIS2   \n",
       "78351  1618 -380483.0 -728125.5   8280     line5      49  KIS2   \n",
       "78352  1619 -380485.3 -728127.9   8280     line5      49  KIS2   \n",
       "78353  1620 -380487.6 -728130.1   8280     line5      49  KIS2   \n",
       "78354  1621 -380489.3 -728131.8   8280     line5      49  KIS2   \n",
       "\n",
       "                              geometry  \n",
       "0      POINT (-381564.600 -725999.700)  \n",
       "1      POINT (-381563.400 -725998.300)  \n",
       "2      POINT (-381561.600 -725996.100)  \n",
       "3      POINT (-381559.500 -725993.600)  \n",
       "4      POINT (-381557.400 -725991.100)  \n",
       "...                                ...  \n",
       "78350  POINT (-380480.600 -728123.000)  \n",
       "78351  POINT (-380483.000 -728125.500)  \n",
       "78352  POINT (-380485.300 -728127.900)  \n",
       "78353  POINT (-380487.600 -728130.100)  \n",
       "78354  POINT (-380489.300 -728131.800)  \n",
       "\n",
       "[46995 rows x 8 columns]"
      ]
     },
     "execution_count": 20,
     "metadata": {},
     "output_type": "execute_result"
    }
   ],
   "source": [
    "bed_KIS2"
   ]
  },
  {
   "cell_type": "markdown",
   "metadata": {},
   "source": [
    "# Convert all lines to a shapely LineString"
   ]
  },
  {
   "cell_type": "code",
   "execution_count": 21,
   "metadata": {},
   "outputs": [
    {
     "data": {
      "text/html": [
       "<div>\n",
       "<style scoped>\n",
       "    .dataframe tbody tr th:only-of-type {\n",
       "        vertical-align: middle;\n",
       "    }\n",
       "\n",
       "    .dataframe tbody tr th {\n",
       "        vertical-align: top;\n",
       "    }\n",
       "\n",
       "    .dataframe thead th {\n",
       "        text-align: right;\n",
       "    }\n",
       "</style>\n",
       "<table border=\"1\" class=\"dataframe\">\n",
       "  <thead>\n",
       "    <tr style=\"text-align: right;\">\n",
       "      <th></th>\n",
       "      <th>geometry</th>\n",
       "    </tr>\n",
       "    <tr>\n",
       "      <th>line_name</th>\n",
       "      <th></th>\n",
       "    </tr>\n",
       "  </thead>\n",
       "  <tbody>\n",
       "    <tr>\n",
       "      <th>line7</th>\n",
       "      <td>LINESTRING (-381564.600 -725999.700, -381563.4...</td>\n",
       "    </tr>\n",
       "    <tr>\n",
       "      <th>line9</th>\n",
       "      <td>LINESTRING (-380741.900 -721788.100, -380743.5...</td>\n",
       "    </tr>\n",
       "    <tr>\n",
       "      <th>line0</th>\n",
       "      <td>LINESTRING (-377572.000 -734075.100, -377571.8...</td>\n",
       "    </tr>\n",
       "    <tr>\n",
       "      <th>line10</th>\n",
       "      <td>LINESTRING (-385757.300 -724442.800, -385756.3...</td>\n",
       "    </tr>\n",
       "    <tr>\n",
       "      <th>line11</th>\n",
       "      <td>LINESTRING (-384056.400 -720106.700, -384057.5...</td>\n",
       "    </tr>\n",
       "  </tbody>\n",
       "</table>\n",
       "</div>"
      ],
      "text/plain": [
       "                                                    geometry\n",
       "line_name                                                   \n",
       "line7      LINESTRING (-381564.600 -725999.700, -381563.4...\n",
       "line9      LINESTRING (-380741.900 -721788.100, -380743.5...\n",
       "line0      LINESTRING (-377572.000 -734075.100, -377571.8...\n",
       "line10     LINESTRING (-385757.300 -724442.800, -385756.3...\n",
       "line11     LINESTRING (-384056.400 -720106.700, -384057.5..."
      ]
     },
     "execution_count": 21,
     "metadata": {},
     "output_type": "execute_result"
    }
   ],
   "source": [
    "linestrings = []\n",
    "names = []\n",
    "\n",
    "for line_name in bed_gdf.line_name.unique():\n",
    "    linestrings.append( LineString(bed_gdf[bed_gdf.line_name==line_name].geometry.tolist() ) )\n",
    "    names.append(line_name)\n",
    "#put the lines in a geodataframe\n",
    "lines_gdf = gpd.GeoDataFrame({'line_name':names},geometry=linestrings)\n",
    "lines_gdf.set_index('line_name',inplace=True)\n",
    "lines_gdf.head()"
   ]
  },
  {
   "cell_type": "code",
   "execution_count": null,
   "metadata": {},
   "outputs": [],
   "source": []
  },
  {
   "cell_type": "code",
   "execution_count": null,
   "metadata": {},
   "outputs": [],
   "source": []
  },
  {
   "cell_type": "markdown",
   "metadata": {},
   "source": [
    "# Interpolate"
   ]
  },
  {
   "cell_type": "code",
   "execution_count": 24,
   "metadata": {},
   "outputs": [
    {
     "name": "stderr",
     "output_type": "stream",
     "text": [
      "/Users/home/whitefar/miniconda3/envs/remote_sensing/lib/python3.7/site-packages/scipy/interpolate/_fitpack_impl.py:976: RuntimeWarning: No more knots can be added because the number of B-spline\n",
      "coefficients already exceeds the number of data points m.\n",
      "Probable causes: either s or m too small. (fp>s)\n",
      "\tkx,ky=1,1 nx,ny=376,128 m=46995 fp=5428911201.375602 s=0.000000\n",
      "  warnings.warn(RuntimeWarning(_iermess2[ierm][0] + _mess))\n"
     ]
    },
    {
     "data": {
      "text/plain": [
       "<scipy.interpolate.interpolate.interp2d at 0x7f12869bbb38>"
      ]
     },
     "execution_count": 24,
     "metadata": {},
     "output_type": "execute_result"
    }
   ],
   "source": [
    "sp.interpolate.interp2d(bed_KIS2.x, bed_KIS2.y, bed_KIS2.DELAY, kind='linear', copy=True, bounds_error=False, fill_value=None)"
   ]
  },
  {
   "cell_type": "code",
   "execution_count": 13,
   "metadata": {},
   "outputs": [
    {
     "data": {
      "text/plain": [
       "'8790'"
      ]
     },
     "execution_count": 13,
     "metadata": {},
     "output_type": "execute_result"
    }
   ],
   "source": [
    "bed_KIS2.DELAY.iloc[0]"
   ]
  },
  {
   "cell_type": "code",
   "execution_count": null,
   "metadata": {},
   "outputs": [],
   "source": []
  }
 ],
 "metadata": {
  "kernelspec": {
   "display_name": "remote_sensing",
   "language": "python",
   "name": "remote_sensing"
  },
  "language_info": {
   "codemirror_mode": {
    "name": "ipython",
    "version": 3
   },
   "file_extension": ".py",
   "mimetype": "text/x-python",
   "name": "python",
   "nbconvert_exporter": "python",
   "pygments_lexer": "ipython3",
   "version": "3.7.2"
  }
 },
 "nbformat": 4,
 "nbformat_minor": 4
}
