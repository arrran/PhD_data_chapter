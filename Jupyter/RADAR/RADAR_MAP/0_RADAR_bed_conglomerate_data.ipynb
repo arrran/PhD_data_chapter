{
 "cells": [
  {
   "cell_type": "markdown",
   "metadata": {},
   "source": [
    "# Conglomerate RADAR data of picked bed from radargrams\n",
    "\n",
    "\n",
    "- Huw put .txt files in /Volumes/arc_04/FIELD_DATA/K8621920/RES/PROCESSED_LINES/radar3View_JCS_*.txt\n",
    "- The DELAY column is time. \n",
    "- This Converts DELAY to depth.\n",
    "- saves all data at /Volumes/arc_04/FIELD_DATA/K8621920/RES/PROCESSED_LINES/picked_bed.shp\n",
    "\n",
    "NB Look at the .jcs file to map from the SEQnum (the * in the file name) to other names.\n"
   ]
  },
  {
   "cell_type": "code",
   "execution_count": 1,
   "metadata": {},
   "outputs": [],
   "source": [
    "import matplotlib.pyplot as plt\n",
    "import numpy as np\n",
    "import glob\n",
    "import os\n",
    "import sys\n",
    "import time\n",
    "import datetime as dt\n",
    "import pandas as pd\n",
    "import geopandas as gpd\n",
    "import scipy as sp\n",
    "from scipy import signal\n",
    "from tqdm.notebook import tqdm\n",
    "import shutil\n",
    "from shapely.geometry import Point, LineString, Polygon\n",
    "import fiona"
   ]
  },
  {
   "cell_type": "code",
   "execution_count": 2,
   "metadata": {},
   "outputs": [
    {
     "data": {
      "text/plain": [
       "('picked_bed', '.shp')"
      ]
     },
     "execution_count": 2,
     "metadata": {},
     "output_type": "execute_result"
    }
   ],
   "source": [
    "p = '/Volumes/arc_04/FIELD_DATA/K8621920/RES/PROCESSED_LINES/picked_bed.shp'\n",
    "os.path.splitext(os.path.basename(p))"
   ]
  },
  {
   "cell_type": "code",
   "execution_count": 3,
   "metadata": {},
   "outputs": [
    {
     "data": {
      "text/plain": [
       "['/Volumes/arc_04/FIELD_DATA/K8621920/RES/PROCESSED_LINES/radar3View_JCS_33.txt',\n",
       " '/Volumes/arc_04/FIELD_DATA/K8621920/RES/PROCESSED_LINES/radar3View_JCS_22.txt',\n",
       " '/Volumes/arc_04/FIELD_DATA/K8621920/RES/PROCESSED_LINES/radar3View_JCS_41.txt',\n",
       " '/Volumes/arc_04/FIELD_DATA/K8621920/RES/PROCESSED_LINES/radar3View_JCS_17.txt',\n",
       " '/Volumes/arc_04/FIELD_DATA/K8621920/RES/PROCESSED_LINES/radar3View_JCS_10.txt',\n",
       " '/Volumes/arc_04/FIELD_DATA/K8621920/RES/PROCESSED_LINES/radar3View_JCS_39.txt',\n",
       " '/Volumes/arc_04/FIELD_DATA/K8621920/RES/PROCESSED_LINES/radar3View_JCS_3.txt',\n",
       " '/Volumes/arc_04/FIELD_DATA/K8621920/RES/PROCESSED_LINES/radar3View_JCS_18.txt',\n",
       " '/Volumes/arc_04/FIELD_DATA/K8621920/RES/PROCESSED_LINES/radar3View_JCS_1.txt',\n",
       " '/Volumes/arc_04/FIELD_DATA/K8621920/RES/PROCESSED_LINES/radar3View_JCS_16.txt',\n",
       " '/Volumes/arc_04/FIELD_DATA/K8621920/RES/PROCESSED_LINES/radar3View_JCS_38.txt',\n",
       " '/Volumes/arc_04/FIELD_DATA/K8621920/RES/PROCESSED_LINES/radar3View_JCS_14.txt',\n",
       " '/Volumes/arc_04/FIELD_DATA/K8621920/RES/PROCESSED_LINES/radar3View_JCS_12.txt',\n",
       " '/Volumes/arc_04/FIELD_DATA/K8621920/RES/PROCESSED_LINES/radar3View_JCS_40.txt',\n",
       " '/Volumes/arc_04/FIELD_DATA/K8621920/RES/PROCESSED_LINES/radar3View_JCS_21.txt',\n",
       " '/Volumes/arc_04/FIELD_DATA/K8621920/RES/PROCESSED_LINES/radar3View_JCS_34.txt',\n",
       " '/Volumes/arc_04/FIELD_DATA/K8621920/RES/PROCESSED_LINES/radar3View_JCS_46.txt',\n",
       " '/Volumes/arc_04/FIELD_DATA/K8621920/RES/PROCESSED_LINES/radar3View_JCS_13.txt',\n",
       " '/Volumes/arc_04/FIELD_DATA/K8621920/RES/PROCESSED_LINES/radar3View_JCS_8.txt',\n",
       " '/Volumes/arc_04/FIELD_DATA/K8621920/RES/PROCESSED_LINES/radar3View_JCS_32.txt',\n",
       " '/Volumes/arc_04/FIELD_DATA/K8621920/RES/PROCESSED_LINES/radar3View_JCS_28.txt',\n",
       " '/Volumes/arc_04/FIELD_DATA/K8621920/RES/PROCESSED_LINES/radar3View_JCS_36.txt',\n",
       " '/Volumes/arc_04/FIELD_DATA/K8621920/RES/PROCESSED_LINES/radar3View_JCS_23.txt',\n",
       " '/Volumes/arc_04/FIELD_DATA/K8621920/RES/PROCESSED_LINES/radar3View_JCS_31.txt',\n",
       " '/Volumes/arc_04/FIELD_DATA/K8621920/RES/PROCESSED_LINES/radar3View_JCS_2.txt',\n",
       " '/Volumes/arc_04/FIELD_DATA/K8621920/RES/PROCESSED_LINES/radar3View_JCS_6.txt',\n",
       " '/Volumes/arc_04/FIELD_DATA/K8621920/RES/PROCESSED_LINES/radar3View_JCS_35.txt',\n",
       " '/Volumes/arc_04/FIELD_DATA/K8621920/RES/PROCESSED_LINES/radar3View_JCS_26.txt',\n",
       " '/Volumes/arc_04/FIELD_DATA/K8621920/RES/PROCESSED_LINES/radar3View_JCS_48.txt',\n",
       " '/Volumes/arc_04/FIELD_DATA/K8621920/RES/PROCESSED_LINES/radar3View_JCS_43.txt',\n",
       " '/Volumes/arc_04/FIELD_DATA/K8621920/RES/PROCESSED_LINES/radar3View_JCS_29.txt',\n",
       " '/Volumes/arc_04/FIELD_DATA/K8621920/RES/PROCESSED_LINES/radar3View_JCS_11.txt',\n",
       " '/Volumes/arc_04/FIELD_DATA/K8621920/RES/PROCESSED_LINES/radar3View_JCS_24.txt',\n",
       " '/Volumes/arc_04/FIELD_DATA/K8621920/RES/PROCESSED_LINES/radar3View_JCS_30.txt',\n",
       " '/Volumes/arc_04/FIELD_DATA/K8621920/RES/PROCESSED_LINES/radar3View_JCS_19.txt',\n",
       " '/Volumes/arc_04/FIELD_DATA/K8621920/RES/PROCESSED_LINES/radar3View_JCS_7.txt',\n",
       " '/Volumes/arc_04/FIELD_DATA/K8621920/RES/PROCESSED_LINES/radar3View_JCS_42.txt',\n",
       " '/Volumes/arc_04/FIELD_DATA/K8621920/RES/PROCESSED_LINES/radar3View_JCS_9.txt',\n",
       " '/Volumes/arc_04/FIELD_DATA/K8621920/RES/PROCESSED_LINES/radar3View_JCS_49.txt',\n",
       " '/Volumes/arc_04/FIELD_DATA/K8621920/RES/PROCESSED_LINES/radar3View_JCS_20.txt',\n",
       " '/Volumes/arc_04/FIELD_DATA/K8621920/RES/PROCESSED_LINES/radar3View_JCS_5.txt',\n",
       " '/Volumes/arc_04/FIELD_DATA/K8621920/RES/PROCESSED_LINES/radar3View_JCS_37.txt',\n",
       " '/Volumes/arc_04/FIELD_DATA/K8621920/RES/PROCESSED_LINES/radar3View_JCS_25.txt',\n",
       " '/Volumes/arc_04/FIELD_DATA/K8621920/RES/PROCESSED_LINES/radar3View_JCS_27.txt',\n",
       " '/Volumes/arc_04/FIELD_DATA/K8621920/RES/PROCESSED_LINES/radar3View_JCS_45.txt',\n",
       " '/Volumes/arc_04/FIELD_DATA/K8621920/RES/PROCESSED_LINES/radar3View_JCS_44.txt',\n",
       " '/Volumes/arc_04/FIELD_DATA/K8621920/RES/PROCESSED_LINES/radar3View_JCS_47.txt',\n",
       " '/Volumes/arc_04/FIELD_DATA/K8621920/RES/PROCESSED_LINES/radar3View_JCS_4.txt',\n",
       " '/Volumes/arc_04/FIELD_DATA/K8621920/RES/PROCESSED_LINES/radar3View_JCS_15.txt']"
      ]
     },
     "execution_count": 3,
     "metadata": {},
     "output_type": "execute_result"
    }
   ],
   "source": [
    "paths = glob.glob('/Volumes/arc_04/FIELD_DATA/K8621920/RES/PROCESSED_LINES/radar3View_JCS_*.txt')\n",
    "paths"
   ]
  },
  {
   "cell_type": "markdown",
   "metadata": {},
   "source": [
    "### The Data, ie the picked beds look like:"
   ]
  },
  {
   "cell_type": "code",
   "execution_count": 4,
   "metadata": {},
   "outputs": [
    {
     "name": "stdout",
     "output_type": "stream",
     "text": [
      "CDP SOURCE_X SOURCE_Y DELAY ELEVATION YEAR DAY HOUR MINUTE SECOND\n",
      "100 -37481120 -73102700 6220 2916.31 2019 358 2 6 1100\n",
      "101 -37481180 -73102530 6220 2915.78 2019 358 2 6 1204\n",
      "102 -37481260 -73102240 6220 2914.42 2019 358 2 6 1402\n",
      "103 -37481370 -73101860 6220 2914.89 2019 358 2 6 1601\n",
      "104 -37481420 -73101690 6220 2913.32 2019 358 2 6 1696\n",
      "105 -37481530 -73101310 6220 2920.22 2019 358 2 6 1904\n",
      "106 -37481590 -73101100 6220 2923.47 2019 358 2 6 1999\n",
      "107 -37481710 -73100680 6220 2916.59 2019 358 2 6 2197\n",
      "108 -37481760 -73100480 6220 2911.72 2019 358 2 6 2301\n"
     ]
    }
   ],
   "source": [
    "!head {paths[0]}"
   ]
  },
  {
   "cell_type": "code",
   "execution_count": 5,
   "metadata": {},
   "outputs": [
    {
     "name": "stdout",
     "output_type": "stream",
     "text": [
      "CDP SOURCE_X SOURCE_Y DELAY ELEVATION YEAR DAY HOUR MINUTE SECOND\n",
      "100 -38212230 -72655980 8780 7123.05 2019 361 21 52 100\n",
      "101 -38212090 -72655770 8780 7123.08 2019 361 21 52 298\n",
      "102 -38211850 -72655460 8780 7123.15 2019 361 21 52 497\n",
      "103 -38211690 -72655270 8780 7123.21 2019 361 21 52 601\n",
      "104 -38211530 -72655090 8780 7123.27 2019 361 21 52 704\n",
      "105 -38211250 -72654730 8780 7123.41 2019 361 21 52 903\n",
      "106 -38211090 -72654550 8780 7123.49 2019 361 21 52 998\n",
      "107 -38210920 -72654350 8780 7123.58 2019 361 21 52 1102\n",
      "108 -38210790 -72654180 8780 7123.65 2019 361 21 52 1197\n"
     ]
    }
   ],
   "source": [
    "!head /Volumes/arc_04/FIELD_DATA/K8621920/RES/PROCESSED_LINES/radar3View_JCS_1.txt"
   ]
  },
  {
   "cell_type": "markdown",
   "metadata": {},
   "source": [
    "## Huws indexing SEQnum is different to arrans, Name. \n",
    "## get from one to the other other usind this picked_bed_metadata"
   ]
  },
  {
   "cell_type": "code",
   "execution_count": 6,
   "metadata": {},
   "outputs": [
    {
     "name": "stdout",
     "output_type": "stream",
     "text": [
      "SEQnum Name           FirstSP  LastSP   NTraces  NTraces2 NPlot    Static   MinOffset MaxOffset Inc    Site   Dir    \n",
      " 1      line7                            1743     1255     628      1250     0         376126    300           LTOR\n",
      " 2      line9                            2167     1540     770      1250     0         461583    300           LTOR\n",
      " 3      line0                            1785     1378     689      1250     0         413181    300           LTOR\n",
      " 4      line10                           2582     1577     788      1250     0         472866    300           LTOR\n",
      " 5      line11                           2456     1638     819      1250     0         491087    300           LTOR\n",
      " 6      line12                           2176     1538     769      1250     0         461119    300           LTOR\n",
      " 7      line13                           2337     1579     790      1250     0         473550    300           LTOR\n",
      " 8      line14                           2152     1534     767      1250     0         459872    300           LTOR\n",
      " 9      line1                            2060     1403     702      1250     0         420475    300           LTOR\n"
     ]
    }
   ],
   "source": [
    " !head /Users/home/whitefar/DATA/FIELD_ANT_19/POST_FIELD/RADAR_MAP/picked_bed_metadata.csv"
   ]
  },
  {
   "cell_type": "code",
   "execution_count": 7,
   "metadata": {},
   "outputs": [
    {
     "data": {
      "text/html": [
       "<div>\n",
       "<style scoped>\n",
       "    .dataframe tbody tr th:only-of-type {\n",
       "        vertical-align: middle;\n",
       "    }\n",
       "\n",
       "    .dataframe tbody tr th {\n",
       "        vertical-align: top;\n",
       "    }\n",
       "\n",
       "    .dataframe thead th {\n",
       "        text-align: right;\n",
       "    }\n",
       "</style>\n",
       "<table border=\"1\" class=\"dataframe\">\n",
       "  <thead>\n",
       "    <tr style=\"text-align: right;\">\n",
       "      <th></th>\n",
       "      <th>Name</th>\n",
       "      <th>FirstSP</th>\n",
       "      <th>LastSP</th>\n",
       "      <th>NTraces</th>\n",
       "      <th>NTraces2</th>\n",
       "      <th>NPlot</th>\n",
       "      <th>Static</th>\n",
       "      <th>MinOffset</th>\n",
       "      <th>MaxOffset</th>\n",
       "      <th>Inc</th>\n",
       "      <th>Site</th>\n",
       "      <th>Dir</th>\n",
       "    </tr>\n",
       "    <tr>\n",
       "      <th>SEQnum</th>\n",
       "      <th></th>\n",
       "      <th></th>\n",
       "      <th></th>\n",
       "      <th></th>\n",
       "      <th></th>\n",
       "      <th></th>\n",
       "      <th></th>\n",
       "      <th></th>\n",
       "      <th></th>\n",
       "      <th></th>\n",
       "      <th></th>\n",
       "      <th></th>\n",
       "    </tr>\n",
       "  </thead>\n",
       "  <tbody>\n",
       "    <tr>\n",
       "      <th>1</th>\n",
       "      <td>line7</td>\n",
       "      <td>1743</td>\n",
       "      <td>1255</td>\n",
       "      <td>628</td>\n",
       "      <td>1250</td>\n",
       "      <td>0</td>\n",
       "      <td>376126</td>\n",
       "      <td>300</td>\n",
       "      <td>LTOR</td>\n",
       "      <td>NaN</td>\n",
       "      <td>NaN</td>\n",
       "      <td>NaN</td>\n",
       "    </tr>\n",
       "    <tr>\n",
       "      <th>2</th>\n",
       "      <td>line9</td>\n",
       "      <td>2167</td>\n",
       "      <td>1540</td>\n",
       "      <td>770</td>\n",
       "      <td>1250</td>\n",
       "      <td>0</td>\n",
       "      <td>461583</td>\n",
       "      <td>300</td>\n",
       "      <td>LTOR</td>\n",
       "      <td>NaN</td>\n",
       "      <td>NaN</td>\n",
       "      <td>NaN</td>\n",
       "    </tr>\n",
       "    <tr>\n",
       "      <th>3</th>\n",
       "      <td>line0</td>\n",
       "      <td>1785</td>\n",
       "      <td>1378</td>\n",
       "      <td>689</td>\n",
       "      <td>1250</td>\n",
       "      <td>0</td>\n",
       "      <td>413181</td>\n",
       "      <td>300</td>\n",
       "      <td>LTOR</td>\n",
       "      <td>NaN</td>\n",
       "      <td>NaN</td>\n",
       "      <td>NaN</td>\n",
       "    </tr>\n",
       "    <tr>\n",
       "      <th>4</th>\n",
       "      <td>line10</td>\n",
       "      <td>2582</td>\n",
       "      <td>1577</td>\n",
       "      <td>788</td>\n",
       "      <td>1250</td>\n",
       "      <td>0</td>\n",
       "      <td>472866</td>\n",
       "      <td>300</td>\n",
       "      <td>LTOR</td>\n",
       "      <td>NaN</td>\n",
       "      <td>NaN</td>\n",
       "      <td>NaN</td>\n",
       "    </tr>\n",
       "    <tr>\n",
       "      <th>5</th>\n",
       "      <td>line11</td>\n",
       "      <td>2456</td>\n",
       "      <td>1638</td>\n",
       "      <td>819</td>\n",
       "      <td>1250</td>\n",
       "      <td>0</td>\n",
       "      <td>491087</td>\n",
       "      <td>300</td>\n",
       "      <td>LTOR</td>\n",
       "      <td>NaN</td>\n",
       "      <td>NaN</td>\n",
       "      <td>NaN</td>\n",
       "    </tr>\n",
       "  </tbody>\n",
       "</table>\n",
       "</div>"
      ],
      "text/plain": [
       "          Name  FirstSP  LastSP  NTraces  NTraces2  NPlot  Static  MinOffset  \\\n",
       "SEQnum                                                                         \n",
       "1        line7     1743    1255      628      1250      0  376126        300   \n",
       "2        line9     2167    1540      770      1250      0  461583        300   \n",
       "3        line0     1785    1378      689      1250      0  413181        300   \n",
       "4       line10     2582    1577      788      1250      0  472866        300   \n",
       "5       line11     2456    1638      819      1250      0  491087        300   \n",
       "\n",
       "       MaxOffset  Inc  Site  Dir  \n",
       "SEQnum                            \n",
       "1           LTOR  NaN   NaN  NaN  \n",
       "2           LTOR  NaN   NaN  NaN  \n",
       "3           LTOR  NaN   NaN  NaN  \n",
       "4           LTOR  NaN   NaN  NaN  \n",
       "5           LTOR  NaN   NaN  NaN  "
      ]
     },
     "execution_count": 7,
     "metadata": {},
     "output_type": "execute_result"
    }
   ],
   "source": [
    "picked_bed_metadata = pd.read_csv('/Users/home/whitefar/DATA/FIELD_ANT_19/POST_FIELD/RADAR_MAP/picked_bed_metadata.csv',header=0,delim_whitespace=True,index_col=0)\n",
    "picked_bed_metadata.head()"
   ]
  },
  {
   "cell_type": "code",
   "execution_count": 8,
   "metadata": {},
   "outputs": [
    {
     "data": {
      "text/plain": [
       "'line9'"
      ]
     },
     "execution_count": 8,
     "metadata": {},
     "output_type": "execute_result"
    }
   ],
   "source": [
    "picked_bed_metadata.iloc[1]['Name']"
   ]
  },
  {
   "cell_type": "markdown",
   "metadata": {},
   "source": [
    "# Make big dataframe of all points"
   ]
  },
  {
   "cell_type": "code",
   "execution_count": 9,
   "metadata": {},
   "outputs": [
    {
     "data": {
      "application/vnd.jupyter.widget-view+json": {
       "model_id": "c22c35cde46d47f6b62c4df0be96a505",
       "version_major": 2,
       "version_minor": 0
      },
      "text/plain": [
       "HBox(children=(FloatProgress(value=0.0, max=49.0), HTML(value='')))"
      ]
     },
     "metadata": {},
     "output_type": "display_data"
    },
    {
     "name": "stdout",
     "output_type": "stream",
     "text": [
      "\n"
     ]
    }
   ],
   "source": [
    "bed_df = pd.DataFrame({},columns=['CDP','SOURCE_X','SOURCE_Y','DELAY','line_name','ELEVATION','YEAR', 'DAY', 'HOUR', 'MINUTE', 'SECOND'])\n",
    "\n",
    "no_data_SEQnum = []\n",
    "\n",
    "for SEQnum in tqdm(picked_bed_metadata.index.tolist()):\n",
    "    \n",
    "    linename = picked_bed_metadata.loc[SEQnum]['Name']\n",
    "    \n",
    "    if linename in ['line0a', 'line0bKIS1']:\n",
    "        continue\n",
    "        \n",
    "    if linename in ['line7', 'line9', 'line0', 'line10', 'line11', 'line12', 'line13',\n",
    "                    'line14', 'line1', 'line2', 'line3', 'line4', 'line6', 'line7p25',\n",
    "                    'line7p5', 'line7p75', 'line8', 'lineAPREScross', 'lineAPRESdown', \n",
    "                    'lineback2camp', 'linedownchan', 'lineupchan', 'left02', 'left1011',\n",
    "                    'left1213', 'left1415', 'left35', 'left46', 'left79',\n",
    "                    'left810', 'right1112', 'right1314', 'right13', 'right24',\n",
    "                    'right68', 'right910', 'line5']:\n",
    "        camp = 'KIS2'\n",
    "    else:\n",
    "        camp = 'KIS1'\n",
    "            \n",
    "    \n",
    "    try:\n",
    "        line_df = pd.read_csv(f'/Volumes/arc_04/FIELD_DATA/K8621920/RES/PROCESSED_LINES/radar3View_JCS_{SEQnum}.txt',header=0,sep=' ')\n",
    "        line_df['line_name'] = picked_bed_metadata.loc[SEQnum]['Name']\n",
    "        line_df['SEQnum'] = SEQnum\n",
    "        line_df['camp'] = camp\n",
    "        bed_df = bed_df.append(line_df,ignore_index=True)\n",
    "        del line_df\n",
    "    except:\n",
    "        \n",
    "        print(f'SEQnum {SEQnum}, {linename} didnt work')\n",
    "        no_data_SEQnum.append(SEQnum)\n",
    "\n",
    "bed_df.rename(columns={'SOURCE_X':'x','SOURCE_Y':'y'},inplace=True)"
   ]
  },
  {
   "cell_type": "code",
   "execution_count": 10,
   "metadata": {},
   "outputs": [],
   "source": [
    "# need to divide x and y by 10\n",
    "bed_df.x = bed_df.x.astype('float').copy()\n",
    "bed_df.y = bed_df.y.astype('float').copy()\n",
    "bed_df.ELEVATION = bed_df.ELEVATION.astype('float').copy()\n",
    "bed_df.SECOND = bed_df.SECOND.astype('float').copy()\n",
    "\n",
    "bed_df.SEQnum = bed_df.SEQnum.astype('int').copy()"
   ]
  },
  {
   "cell_type": "code",
   "execution_count": 11,
   "metadata": {},
   "outputs": [],
   "source": [
    "bed_df.x = bed_df.x.div(100).copy()\n",
    "bed_df.y = bed_df.y.div(100).copy()\n",
    "bed_df.ELEVATION = bed_df.ELEVATION.div(100).copy()\n",
    "bed_df.SECOND = bed_df.SECOND.div(100).copy()"
   ]
  },
  {
   "cell_type": "code",
   "execution_count": 12,
   "metadata": {},
   "outputs": [],
   "source": [
    "bed_df['DELAY'] = [int(D) for D in bed_df.DELAY.tolist()]"
   ]
  },
  {
   "cell_type": "code",
   "execution_count": 13,
   "metadata": {},
   "outputs": [],
   "source": [
    "bed_df.rename(columns={'ELEVATION':'surf'},inplace=True)"
   ]
  },
  {
   "cell_type": "code",
   "execution_count": 14,
   "metadata": {},
   "outputs": [],
   "source": [
    "bed_df = bed_df.astype({'YEAR': 'str','DAY': 'str','MINUTE': 'str','HOUR': 'str','SECOND':'str'}).copy()"
   ]
  },
  {
   "cell_type": "code",
   "execution_count": 15,
   "metadata": {},
   "outputs": [
    {
     "data": {
      "text/plain": [
       "CDP           object\n",
       "x            float64\n",
       "y            float64\n",
       "DELAY          int64\n",
       "line_name     object\n",
       "surf         float64\n",
       "YEAR          object\n",
       "DAY           object\n",
       "HOUR          object\n",
       "MINUTE        object\n",
       "SECOND        object\n",
       "SEQnum         int64\n",
       "camp          object\n",
       "dtype: object"
      ]
     },
     "execution_count": 15,
     "metadata": {},
     "output_type": "execute_result"
    }
   ],
   "source": [
    "bed_df.dtypes"
   ]
  },
  {
   "cell_type": "code",
   "execution_count": 16,
   "metadata": {},
   "outputs": [],
   "source": [
    "#pd.to_datetime(df['year'] * 1000 + df['doy'], format='%Y%j')\\n\",\n",
    "datetime = (pd.to_datetime(bed_df.YEAR + bed_df.DAY + bed_df.HOUR+ bed_df.MINUTE, format ='%Y%j%H%M' )+\n",
    "            pd.Series( [pd.to_timedelta(f'{t} seconds') for t in bed_df.SECOND.tolist()] )\n",
    "           )\n",
    "   "
   ]
  },
  {
   "cell_type": "code",
   "execution_count": 40,
   "metadata": {},
   "outputs": [],
   "source": [
    "#pd.to_datetime(df['year'] * 1000 + df['doy'], format='%Y%j')\n",
    "datetime = pd.to_datetime(bed_df.YEAR + bed_df.DAY + bed_df.HOUR+ bed_df.MINUTE, format ='%Y%j%H%M' ) + pd.Series( [pd.to_timedelta(f'{t} seconds') for t in bed_df.SECOND.tolist()] )"
   ]
  },
  {
   "cell_type": "code",
   "execution_count": 17,
   "metadata": {},
   "outputs": [],
   "source": [
    "iso_func = lambda t : t.isoformat()\n",
    "\n",
    "bed_df['time_UTC'] = datetime.apply(iso_func)"
   ]
  },
  {
   "cell_type": "code",
   "execution_count": null,
   "metadata": {},
   "outputs": [],
   "source": [
    "bed_df.head()"
   ]
  },
  {
   "cell_type": "code",
   "execution_count": 20,
   "metadata": {},
   "outputs": [],
   "source": [
    "bed_df.drop(columns=['YEAR','DAY','HOUR','MINUTE','SECOND'],inplace=True)"
   ]
  },
  {
   "cell_type": "code",
   "execution_count": 21,
   "metadata": {},
   "outputs": [],
   "source": [
    "points = [Point(xy) for xy in zip(bed_df.x,bed_df.y)]\n",
    "bed_gdf = gpd.GeoDataFrame(bed_df,geometry=points,crs=\"EPSG:3031\")"
   ]
  },
  {
   "cell_type": "markdown",
   "metadata": {},
   "source": [
    "## all lines are visible"
   ]
  },
  {
   "cell_type": "code",
   "execution_count": 50,
   "metadata": {},
   "outputs": [
    {
     "data": {
      "text/plain": [
       "<AxesSubplot:>"
      ]
     },
     "execution_count": 50,
     "metadata": {},
     "output_type": "execute_result"
    },
    {
     "data": {
      "image/png": "[encoded data removed]",
      "text/plain": [
       "<Figure size 1584x1008 with 1 Axes>"
      ]
     },
     "metadata": {
      "needs_background": "light"
     },
     "output_type": "display_data"
    }
   ],
   "source": [
    "bed_gdf.plot(figsize=(22,14))"
   ]
  },
  {
   "cell_type": "code",
   "execution_count": 51,
   "metadata": {},
   "outputs": [
    {
     "data": {
      "text/plain": [
       "<AxesSubplot:>"
      ]
     },
     "execution_count": 51,
     "metadata": {},
     "output_type": "execute_result"
    },
    {
     "data": {
      "image/png": "[encoded data removed]",
      "text/plain": [
       "<Figure size 1584x1008 with 1 Axes>"
      ]
     },
     "metadata": {
      "needs_background": "light"
     },
     "output_type": "display_data"
    }
   ],
   "source": [
    "bed_gdf[bed_gdf.camp=='KIS2'].plot(figsize=(22,14))"
   ]
  },
  {
   "cell_type": "code",
   "execution_count": 52,
   "metadata": {},
   "outputs": [
    {
     "data": {
      "text/plain": [
       "<AxesSubplot:>"
      ]
     },
     "execution_count": 52,
     "metadata": {},
     "output_type": "execute_result"
    },
    {
     "data": {
      "image/png": "[encoded data removed]",
      "text/plain": [
       "<Figure size 1584x1008 with 1 Axes>"
      ]
     },
     "metadata": {
      "needs_background": "light"
     },
     "output_type": "display_data"
    }
   ],
   "source": [
    "bed_gdf[bed_gdf.camp=='KIS1'].plot(figsize=(22,14))"
   ]
  },
  {
   "cell_type": "code",
   "execution_count": 49,
   "metadata": {},
   "outputs": [],
   "source": [
    "bed_gdf.to_file('/Volumes/arc_04/FIELD_DATA/K8621920/RES/PROCESSED_LINES/picked_bed.shp')"
   ]
  },
  {
   "cell_type": "code",
   "execution_count": 1,
   "metadata": {},
   "outputs": [
    {
     "data": {
      "text/plain": [
       "55"
      ]
     },
     "execution_count": 1,
     "metadata": {},
     "output_type": "execute_result"
    }
   ],
   "source": [
    "int(55.5)"
   ]
  },
  {
   "cell_type": "markdown",
   "metadata": {},
   "source": [
    "# Convert DELAY to depth\n",
    "\n",
    "follow \"Investigations of the form and flow of ice sheets and glaciers using radio-echo sounding\"\n",
    "https://iopscience.iop.org/article/10.1088/0034-4885/67/10/R03/pdf\n",
    "\n",
    "168 nm/s ice velocity\n",
    "\n",
    "\"+\" 7 m firn correction\n",
    "\n",
    "DELAY is two way travel time\n",
    "\n",
    "$u  = d / t$\n",
    "\n",
    "\n",
    "$ t_{firm} = thickness_{firn} velocity_{firn} $\n",
    "\n",
    "$separationdistance^2 + depth^2 = (traveldistance/2)^2$\n",
    "\n",
    "$depth = \\sqrt{(traveldistance/2)^2 -  separationdistance^2  }$\n",
    "\n",
    "$traveldistance = DELAY  velocity$\n",
    "\n",
    "$depth = \\sqrt{( DELAY  velocity/2)^2 -  separationdistance^2  }$\n"
   ]
  },
  {
   "cell_type": "code",
   "execution_count": 22,
   "metadata": {},
   "outputs": [],
   "source": [
    "velocity_ice = 168e-3\n",
    "velocity_firn = 400\n",
    "firn_correction = 7\n",
    "separation_distance = 58.37"
   ]
  },
  {
   "cell_type": "code",
   "execution_count": 23,
   "metadata": {},
   "outputs": [],
   "source": [
    "bed_gdf['ice_thickn'] = np.sqrt( (bed_gdf.DELAY.copy()*velocity_ice/2)**2 - (separation_distance/2)**2  ) + 7 \n"
   ]
  },
  {
   "cell_type": "code",
   "execution_count": 24,
   "metadata": {},
   "outputs": [],
   "source": [
    "# np.sqrt( (5370*velocity_ice/2)**2 - (separation_distance/2)**2  ) + 7 "
   ]
  },
  {
   "cell_type": "code",
   "execution_count": 25,
   "metadata": {},
   "outputs": [],
   "source": [
    "bed_df.drop(columns=['DELAY'],inplace=True)"
   ]
  },
  {
   "cell_type": "code",
   "execution_count": null,
   "metadata": {},
   "outputs": [],
   "source": []
  },
  {
   "cell_type": "code",
   "execution_count": 26,
   "metadata": {},
   "outputs": [],
   "source": [
    "bed_gdf['bed'] = bed_gdf.surf - bed_gdf.ice_thickn"
   ]
  },
  {
   "cell_type": "code",
   "execution_count": 27,
   "metadata": {},
   "outputs": [],
   "source": [
    "bed_gdf.to_file('/Volumes/arc_04/FIELD_DATA/K8621920/RES/PROCESSED_LINES/picked_bed.shp')"
   ]
  },
  {
   "cell_type": "code",
   "execution_count": 28,
   "metadata": {},
   "outputs": [
    {
     "data": {
      "text/plain": [
       "Index(['CDP', 'x', 'y', 'DELAY', 'line_name', 'surf', 'SEQnum', 'camp',\n",
       "       'time_UTC', 'geometry', 'ice_thickn', 'bed'],\n",
       "      dtype='object')"
      ]
     },
     "execution_count": 28,
     "metadata": {},
     "output_type": "execute_result"
    }
   ],
   "source": [
    "bed_gdf.keys()"
   ]
  },
  {
   "cell_type": "code",
   "execution_count": 29,
   "metadata": {},
   "outputs": [
    {
     "data": {
      "text/html": [
       "<div>\n",
       "<style scoped>\n",
       "    .dataframe tbody tr th:only-of-type {\n",
       "        vertical-align: middle;\n",
       "    }\n",
       "\n",
       "    .dataframe tbody tr th {\n",
       "        vertical-align: top;\n",
       "    }\n",
       "\n",
       "    .dataframe thead th {\n",
       "        text-align: right;\n",
       "    }\n",
       "</style>\n",
       "<table border=\"1\" class=\"dataframe\">\n",
       "  <thead>\n",
       "    <tr style=\"text-align: right;\">\n",
       "      <th></th>\n",
       "      <th>CDP</th>\n",
       "      <th>x</th>\n",
       "      <th>y</th>\n",
       "      <th>DELAY</th>\n",
       "      <th>line_name</th>\n",
       "      <th>surf</th>\n",
       "      <th>SEQnum</th>\n",
       "      <th>camp</th>\n",
       "      <th>time_UTC</th>\n",
       "      <th>geometry</th>\n",
       "      <th>ice_thickn</th>\n",
       "      <th>bed</th>\n",
       "    </tr>\n",
       "  </thead>\n",
       "  <tbody>\n",
       "    <tr>\n",
       "      <th>0</th>\n",
       "      <td>100</td>\n",
       "      <td>-382122.3</td>\n",
       "      <td>-726559.8</td>\n",
       "      <td>8780</td>\n",
       "      <td>line7</td>\n",
       "      <td>71.2305</td>\n",
       "      <td>1</td>\n",
       "      <td>KIS2</td>\n",
       "      <td>2019-12-27T21:52:01</td>\n",
       "      <td>POINT (-382122.300 -726559.800)</td>\n",
       "      <td>743.942322</td>\n",
       "      <td>-672.711822</td>\n",
       "    </tr>\n",
       "    <tr>\n",
       "      <th>1</th>\n",
       "      <td>101</td>\n",
       "      <td>-382120.9</td>\n",
       "      <td>-726557.7</td>\n",
       "      <td>8780</td>\n",
       "      <td>line7</td>\n",
       "      <td>71.2308</td>\n",
       "      <td>1</td>\n",
       "      <td>KIS2</td>\n",
       "      <td>2019-12-27T21:52:02.980000</td>\n",
       "      <td>POINT (-382120.900 -726557.700)</td>\n",
       "      <td>743.942322</td>\n",
       "      <td>-672.711522</td>\n",
       "    </tr>\n",
       "    <tr>\n",
       "      <th>2</th>\n",
       "      <td>102</td>\n",
       "      <td>-382118.5</td>\n",
       "      <td>-726554.6</td>\n",
       "      <td>8780</td>\n",
       "      <td>line7</td>\n",
       "      <td>71.2315</td>\n",
       "      <td>1</td>\n",
       "      <td>KIS2</td>\n",
       "      <td>2019-12-27T21:52:04.970000</td>\n",
       "      <td>POINT (-382118.500 -726554.600)</td>\n",
       "      <td>743.942322</td>\n",
       "      <td>-672.710822</td>\n",
       "    </tr>\n",
       "    <tr>\n",
       "      <th>3</th>\n",
       "      <td>103</td>\n",
       "      <td>-382116.9</td>\n",
       "      <td>-726552.7</td>\n",
       "      <td>8780</td>\n",
       "      <td>line7</td>\n",
       "      <td>71.2321</td>\n",
       "      <td>1</td>\n",
       "      <td>KIS2</td>\n",
       "      <td>2019-12-27T21:52:06.010000</td>\n",
       "      <td>POINT (-382116.900 -726552.700)</td>\n",
       "      <td>743.942322</td>\n",
       "      <td>-672.710222</td>\n",
       "    </tr>\n",
       "    <tr>\n",
       "      <th>4</th>\n",
       "      <td>104</td>\n",
       "      <td>-382115.3</td>\n",
       "      <td>-726550.9</td>\n",
       "      <td>8780</td>\n",
       "      <td>line7</td>\n",
       "      <td>71.2327</td>\n",
       "      <td>1</td>\n",
       "      <td>KIS2</td>\n",
       "      <td>2019-12-27T21:52:07.040000</td>\n",
       "      <td>POINT (-382115.300 -726550.900)</td>\n",
       "      <td>743.942322</td>\n",
       "      <td>-672.709622</td>\n",
       "    </tr>\n",
       "  </tbody>\n",
       "</table>\n",
       "</div>"
      ],
      "text/plain": [
       "   CDP         x         y  DELAY line_name     surf  SEQnum  camp  \\\n",
       "0  100 -382122.3 -726559.8   8780     line7  71.2305       1  KIS2   \n",
       "1  101 -382120.9 -726557.7   8780     line7  71.2308       1  KIS2   \n",
       "2  102 -382118.5 -726554.6   8780     line7  71.2315       1  KIS2   \n",
       "3  103 -382116.9 -726552.7   8780     line7  71.2321       1  KIS2   \n",
       "4  104 -382115.3 -726550.9   8780     line7  71.2327       1  KIS2   \n",
       "\n",
       "                     time_UTC                         geometry  ice_thickn  \\\n",
       "0         2019-12-27T21:52:01  POINT (-382122.300 -726559.800)  743.942322   \n",
       "1  2019-12-27T21:52:02.980000  POINT (-382120.900 -726557.700)  743.942322   \n",
       "2  2019-12-27T21:52:04.970000  POINT (-382118.500 -726554.600)  743.942322   \n",
       "3  2019-12-27T21:52:06.010000  POINT (-382116.900 -726552.700)  743.942322   \n",
       "4  2019-12-27T21:52:07.040000  POINT (-382115.300 -726550.900)  743.942322   \n",
       "\n",
       "          bed  \n",
       "0 -672.711822  \n",
       "1 -672.711522  \n",
       "2 -672.710822  \n",
       "3 -672.710222  \n",
       "4 -672.709622  "
      ]
     },
     "execution_count": 29,
     "metadata": {},
     "output_type": "execute_result"
    }
   ],
   "source": [
    "bed_gdf.head()"
   ]
  },
  {
   "cell_type": "code",
   "execution_count": 30,
   "metadata": {},
   "outputs": [
    {
     "data": {
      "text/plain": [
       "CDP             object\n",
       "x              float64\n",
       "y              float64\n",
       "DELAY            int64\n",
       "line_name       object\n",
       "surf           float64\n",
       "SEQnum           int64\n",
       "camp            object\n",
       "time_UTC        object\n",
       "geometry      geometry\n",
       "ice_thickn     float64\n",
       "bed            float64\n",
       "dtype: object"
      ]
     },
     "execution_count": 30,
     "metadata": {},
     "output_type": "execute_result"
    }
   ],
   "source": [
    "bed_gdf.dtypes"
   ]
  },
  {
   "cell_type": "markdown",
   "metadata": {},
   "source": [
    "# archived the picked_bed with separation distance not halved"
   ]
  },
  {
   "cell_type": "code",
   "execution_count": 31,
   "metadata": {},
   "outputs": [],
   "source": [
    "#\n",
    "# os.chdir('/Volumes/arc_04/FIELD_DATA/K8621920/RES/PROCESSED_LINES/')\n",
    "# paths = glob.glob('picked_bed.*')\n",
    "\n",
    "# for p in paths:\n",
    "#     name,ext = os.path.splitext(os.path.basename(p))\n",
    "#     destination = name+'_archive'+ext\n",
    "#     shutil.copy(p, destination)\n"
   ]
  },
  {
   "cell_type": "code",
   "execution_count": 32,
   "metadata": {},
   "outputs": [],
   "source": [
    "agdf = gpd.read_file('/Volumes/arc_04/FIELD_DATA/K8621920/RES/PROCESSED_LINES/picked_bed_archive.shp')\n",
    "bgdf = gpd.read_file('/Volumes/arc_04/FIELD_DATA/K8621920/RES/PROCESSED_LINES/picked_bed.shp')"
   ]
  },
  {
   "cell_type": "code",
   "execution_count": 33,
   "metadata": {},
   "outputs": [
    {
     "data": {
      "text/html": [
       "<div>\n",
       "<style scoped>\n",
       "    .dataframe tbody tr th:only-of-type {\n",
       "        vertical-align: middle;\n",
       "    }\n",
       "\n",
       "    .dataframe tbody tr th {\n",
       "        vertical-align: top;\n",
       "    }\n",
       "\n",
       "    .dataframe thead th {\n",
       "        text-align: right;\n",
       "    }\n",
       "</style>\n",
       "<table border=\"1\" class=\"dataframe\">\n",
       "  <thead>\n",
       "    <tr style=\"text-align: right;\">\n",
       "      <th></th>\n",
       "      <th>CDP</th>\n",
       "      <th>x</th>\n",
       "      <th>y</th>\n",
       "      <th>DELAY</th>\n",
       "      <th>line_name</th>\n",
       "      <th>surf</th>\n",
       "      <th>SEQnum</th>\n",
       "      <th>camp</th>\n",
       "      <th>time_UTC</th>\n",
       "      <th>ice_thickn</th>\n",
       "      <th>bed</th>\n",
       "      <th>geometry</th>\n",
       "    </tr>\n",
       "  </thead>\n",
       "  <tbody>\n",
       "    <tr>\n",
       "      <th>0</th>\n",
       "      <td>100</td>\n",
       "      <td>-382122.3</td>\n",
       "      <td>-726559.8</td>\n",
       "      <td>8780</td>\n",
       "      <td>line7</td>\n",
       "      <td>71.2305</td>\n",
       "      <td>1</td>\n",
       "      <td>KIS2</td>\n",
       "      <td>2019-12-27T21:52:01</td>\n",
       "      <td>743.942322</td>\n",
       "      <td>-672.711822</td>\n",
       "      <td>POINT (-382122.300 -726559.800)</td>\n",
       "    </tr>\n",
       "    <tr>\n",
       "      <th>1</th>\n",
       "      <td>101</td>\n",
       "      <td>-382120.9</td>\n",
       "      <td>-726557.7</td>\n",
       "      <td>8780</td>\n",
       "      <td>line7</td>\n",
       "      <td>71.2308</td>\n",
       "      <td>1</td>\n",
       "      <td>KIS2</td>\n",
       "      <td>2019-12-27T21:52:02.980000</td>\n",
       "      <td>743.942322</td>\n",
       "      <td>-672.711522</td>\n",
       "      <td>POINT (-382120.900 -726557.700)</td>\n",
       "    </tr>\n",
       "    <tr>\n",
       "      <th>2</th>\n",
       "      <td>102</td>\n",
       "      <td>-382118.5</td>\n",
       "      <td>-726554.6</td>\n",
       "      <td>8780</td>\n",
       "      <td>line7</td>\n",
       "      <td>71.2315</td>\n",
       "      <td>1</td>\n",
       "      <td>KIS2</td>\n",
       "      <td>2019-12-27T21:52:04.970000</td>\n",
       "      <td>743.942322</td>\n",
       "      <td>-672.710822</td>\n",
       "      <td>POINT (-382118.500 -726554.600)</td>\n",
       "    </tr>\n",
       "    <tr>\n",
       "      <th>3</th>\n",
       "      <td>103</td>\n",
       "      <td>-382116.9</td>\n",
       "      <td>-726552.7</td>\n",
       "      <td>8780</td>\n",
       "      <td>line7</td>\n",
       "      <td>71.2321</td>\n",
       "      <td>1</td>\n",
       "      <td>KIS2</td>\n",
       "      <td>2019-12-27T21:52:06.010000</td>\n",
       "      <td>743.942322</td>\n",
       "      <td>-672.710222</td>\n",
       "      <td>POINT (-382116.900 -726552.700)</td>\n",
       "    </tr>\n",
       "    <tr>\n",
       "      <th>4</th>\n",
       "      <td>104</td>\n",
       "      <td>-382115.3</td>\n",
       "      <td>-726550.9</td>\n",
       "      <td>8780</td>\n",
       "      <td>line7</td>\n",
       "      <td>71.2327</td>\n",
       "      <td>1</td>\n",
       "      <td>KIS2</td>\n",
       "      <td>2019-12-27T21:52:07.040000</td>\n",
       "      <td>743.942322</td>\n",
       "      <td>-672.709622</td>\n",
       "      <td>POINT (-382115.300 -726550.900)</td>\n",
       "    </tr>\n",
       "  </tbody>\n",
       "</table>\n",
       "</div>"
      ],
      "text/plain": [
       "   CDP         x         y  DELAY line_name     surf  SEQnum  camp  \\\n",
       "0  100 -382122.3 -726559.8   8780     line7  71.2305       1  KIS2   \n",
       "1  101 -382120.9 -726557.7   8780     line7  71.2308       1  KIS2   \n",
       "2  102 -382118.5 -726554.6   8780     line7  71.2315       1  KIS2   \n",
       "3  103 -382116.9 -726552.7   8780     line7  71.2321       1  KIS2   \n",
       "4  104 -382115.3 -726550.9   8780     line7  71.2327       1  KIS2   \n",
       "\n",
       "                     time_UTC  ice_thickn         bed  \\\n",
       "0         2019-12-27T21:52:01  743.942322 -672.711822   \n",
       "1  2019-12-27T21:52:02.980000  743.942322 -672.711522   \n",
       "2  2019-12-27T21:52:04.970000  743.942322 -672.710822   \n",
       "3  2019-12-27T21:52:06.010000  743.942322 -672.710222   \n",
       "4  2019-12-27T21:52:07.040000  743.942322 -672.709622   \n",
       "\n",
       "                          geometry  \n",
       "0  POINT (-382122.300 -726559.800)  \n",
       "1  POINT (-382120.900 -726557.700)  \n",
       "2  POINT (-382118.500 -726554.600)  \n",
       "3  POINT (-382116.900 -726552.700)  \n",
       "4  POINT (-382115.300 -726550.900)  "
      ]
     },
     "execution_count": 33,
     "metadata": {},
     "output_type": "execute_result"
    }
   ],
   "source": [
    "bgdf.head()"
   ]
  },
  {
   "cell_type": "code",
   "execution_count": 34,
   "metadata": {},
   "outputs": [
    {
     "data": {
      "text/html": [
       "<div>\n",
       "<style scoped>\n",
       "    .dataframe tbody tr th:only-of-type {\n",
       "        vertical-align: middle;\n",
       "    }\n",
       "\n",
       "    .dataframe tbody tr th {\n",
       "        vertical-align: top;\n",
       "    }\n",
       "\n",
       "    .dataframe thead th {\n",
       "        text-align: right;\n",
       "    }\n",
       "</style>\n",
       "<table border=\"1\" class=\"dataframe\">\n",
       "  <thead>\n",
       "    <tr style=\"text-align: right;\">\n",
       "      <th></th>\n",
       "      <th>CDP</th>\n",
       "      <th>x</th>\n",
       "      <th>y</th>\n",
       "      <th>DELAY</th>\n",
       "      <th>line_name</th>\n",
       "      <th>surf</th>\n",
       "      <th>SEQnum</th>\n",
       "      <th>camp</th>\n",
       "      <th>time_UTC</th>\n",
       "      <th>ice_thickn</th>\n",
       "      <th>bed</th>\n",
       "      <th>geometry</th>\n",
       "    </tr>\n",
       "  </thead>\n",
       "  <tbody>\n",
       "    <tr>\n",
       "      <th>0</th>\n",
       "      <td>100</td>\n",
       "      <td>-382122.3</td>\n",
       "      <td>-726559.8</td>\n",
       "      <td>8780</td>\n",
       "      <td>line7</td>\n",
       "      <td>71.2305</td>\n",
       "      <td>1</td>\n",
       "      <td>KIS2</td>\n",
       "      <td>2019-12-27T21:52:01</td>\n",
       "      <td>742.206565</td>\n",
       "      <td>-670.976065</td>\n",
       "      <td>POINT (-382122.300 -726559.800)</td>\n",
       "    </tr>\n",
       "    <tr>\n",
       "      <th>1</th>\n",
       "      <td>101</td>\n",
       "      <td>-382120.9</td>\n",
       "      <td>-726557.7</td>\n",
       "      <td>8780</td>\n",
       "      <td>line7</td>\n",
       "      <td>71.2308</td>\n",
       "      <td>1</td>\n",
       "      <td>KIS2</td>\n",
       "      <td>2019-12-27T21:52:02.980000</td>\n",
       "      <td>742.206565</td>\n",
       "      <td>-670.975765</td>\n",
       "      <td>POINT (-382120.900 -726557.700)</td>\n",
       "    </tr>\n",
       "    <tr>\n",
       "      <th>2</th>\n",
       "      <td>102</td>\n",
       "      <td>-382118.5</td>\n",
       "      <td>-726554.6</td>\n",
       "      <td>8780</td>\n",
       "      <td>line7</td>\n",
       "      <td>71.2315</td>\n",
       "      <td>1</td>\n",
       "      <td>KIS2</td>\n",
       "      <td>2019-12-27T21:52:04.970000</td>\n",
       "      <td>742.206565</td>\n",
       "      <td>-670.975065</td>\n",
       "      <td>POINT (-382118.500 -726554.600)</td>\n",
       "    </tr>\n",
       "    <tr>\n",
       "      <th>3</th>\n",
       "      <td>103</td>\n",
       "      <td>-382116.9</td>\n",
       "      <td>-726552.7</td>\n",
       "      <td>8780</td>\n",
       "      <td>line7</td>\n",
       "      <td>71.2321</td>\n",
       "      <td>1</td>\n",
       "      <td>KIS2</td>\n",
       "      <td>2019-12-27T21:52:06.010000</td>\n",
       "      <td>742.206565</td>\n",
       "      <td>-670.974465</td>\n",
       "      <td>POINT (-382116.900 -726552.700)</td>\n",
       "    </tr>\n",
       "    <tr>\n",
       "      <th>4</th>\n",
       "      <td>104</td>\n",
       "      <td>-382115.3</td>\n",
       "      <td>-726550.9</td>\n",
       "      <td>8780</td>\n",
       "      <td>line7</td>\n",
       "      <td>71.2327</td>\n",
       "      <td>1</td>\n",
       "      <td>KIS2</td>\n",
       "      <td>2019-12-27T21:52:07.040000</td>\n",
       "      <td>742.206565</td>\n",
       "      <td>-670.973865</td>\n",
       "      <td>POINT (-382115.300 -726550.900)</td>\n",
       "    </tr>\n",
       "  </tbody>\n",
       "</table>\n",
       "</div>"
      ],
      "text/plain": [
       "   CDP         x         y  DELAY line_name     surf  SEQnum  camp  \\\n",
       "0  100 -382122.3 -726559.8   8780     line7  71.2305       1  KIS2   \n",
       "1  101 -382120.9 -726557.7   8780     line7  71.2308       1  KIS2   \n",
       "2  102 -382118.5 -726554.6   8780     line7  71.2315       1  KIS2   \n",
       "3  103 -382116.9 -726552.7   8780     line7  71.2321       1  KIS2   \n",
       "4  104 -382115.3 -726550.9   8780     line7  71.2327       1  KIS2   \n",
       "\n",
       "                     time_UTC  ice_thickn         bed  \\\n",
       "0         2019-12-27T21:52:01  742.206565 -670.976065   \n",
       "1  2019-12-27T21:52:02.980000  742.206565 -670.975765   \n",
       "2  2019-12-27T21:52:04.970000  742.206565 -670.975065   \n",
       "3  2019-12-27T21:52:06.010000  742.206565 -670.974465   \n",
       "4  2019-12-27T21:52:07.040000  742.206565 -670.973865   \n",
       "\n",
       "                          geometry  \n",
       "0  POINT (-382122.300 -726559.800)  \n",
       "1  POINT (-382120.900 -726557.700)  \n",
       "2  POINT (-382118.500 -726554.600)  \n",
       "3  POINT (-382116.900 -726552.700)  \n",
       "4  POINT (-382115.300 -726550.900)  "
      ]
     },
     "execution_count": 34,
     "metadata": {},
     "output_type": "execute_result"
    }
   ],
   "source": [
    "agdf.head()"
   ]
  },
  {
   "cell_type": "code",
   "execution_count": null,
   "metadata": {},
   "outputs": [],
   "source": []
  }
 ],
 "metadata": {
  "kernelspec": {
   "display_name": "remote_sensing",
   "language": "python",
   "name": "remote_sensing"
  },
  "language_info": {
   "codemirror_mode": {
    "name": "ipython",
    "version": 3
   },
   "file_extension": ".py",
   "mimetype": "text/x-python",
   "name": "python",
   "nbconvert_exporter": "python",
   "pygments_lexer": "ipython3",
   "version": "3.7.8"
  }
 },
 "nbformat": 4,
 "nbformat_minor": 4
}
