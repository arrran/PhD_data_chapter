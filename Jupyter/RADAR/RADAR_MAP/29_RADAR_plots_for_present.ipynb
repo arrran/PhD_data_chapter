{
 "cells": [
  {
   "cell_type": "markdown",
   "metadata": {},
   "source": [
    "# Check out how the channel might meander from the old radarlines to new\n",
    "\n",
    "Interpolation of old and new radarline comes from 26_RADAR_interpolate_line2line_by_distance_downchan\n"
   ]
  },
  {
   "cell_type": "code",
   "execution_count": 15,
   "metadata": {},
   "outputs": [],
   "source": [
    "import matplotlib.pyplot as plt\n",
    "import numpy as np\n",
    "import glob\n",
    "import os\n",
    "import sys\n",
    "import time\n",
    "import datetime as dt\n",
    "import pandas as pd\n",
    "import geopandas as gpd\n",
    "import scipy as sp\n",
    "from scipy import signal\n",
    "from tqdm.notebook import tqdm\n",
    "import rasterio as rio\n",
    "from shapely.geometry import Point, LineString, Polygon, MultiPoint\n",
    "import fiona\n",
    "from shapely.ops import nearest_points"
   ]
  },
  {
   "cell_type": "code",
   "execution_count": 16,
   "metadata": {},
   "outputs": [],
   "source": [
    "new_gpr = gpd.read_file('/Volumes/arc_04/FIELD_DATA/K8621920/RES/PROCESSED_LINES/picked_bed.shp')\n",
    "old_gpr = gpd.read_file('/Volumes/arc_04/FIELD_DATA/K8621920/RES/PROCESSED_LINES/1516_gprlines.shp')\n",
    "old_gpr['camp'] = 'KIS2' \n",
    "bed_gdf = pd.concat([new_gpr,old_gpr])\n",
    "gdf = bed_gdf[bed_gdf.camp =='KIS2'].copy()\n",
    "ngpr = new_gpr[new_gpr.camp =='KIS2'].copy()"
   ]
  },
  {
   "cell_type": "code",
   "execution_count": 17,
   "metadata": {},
   "outputs": [],
   "source": [
    "x_old = np.load('/Users/home/whitefar/DATA/FIELD_ANT_19/POST_FIELD/RADAR_MAP/channel_line2line_interpbydistold_points_x.npy')\n",
    "y_old = np.load('/Users/home/whitefar/DATA/FIELD_ANT_19/POST_FIELD/RADAR_MAP/channel_line2line_interpbydistold_points_y.npy')\n",
    "it_old = np.load('/Users/home/whitefar/DATA/FIELD_ANT_19/POST_FIELD/RADAR_MAP/channel_line2line_interpbydistold_ice_thickn.npy')"
   ]
  },
  {
   "cell_type": "code",
   "execution_count": 18,
   "metadata": {},
   "outputs": [],
   "source": [
    "x_new = np.load('/Users/home/whitefar/DATA/FIELD_ANT_19/POST_FIELD/RADAR_MAP/channel_line2line_interpbydist_points_x.npy')\n",
    "y_new = np.load('/Users/home/whitefar/DATA/FIELD_ANT_19/POST_FIELD/RADAR_MAP/channel_line2line_interpbydist_points_y.npy')\n",
    "it_new = np.load('/Users/home/whitefar/DATA/FIELD_ANT_19/POST_FIELD/RADAR_MAP/channel_line2line_interpbydist_ice_thickn.npy')"
   ]
  },
  {
   "cell_type": "markdown",
   "metadata": {},
   "source": [
    "# plot channel over REMA surface"
   ]
  },
  {
   "cell_type": "code",
   "execution_count": null,
   "metadata": {},
   "outputs": [],
   "source": []
  },
  {
   "cell_type": "code",
   "execution_count": 19,
   "metadata": {},
   "outputs": [],
   "source": [
    "#load REMA\n",
    "nid1 = 159202\n",
    "nid2 = 131226\n",
    "df = gpd.read_file('/Users/home/whitefar/DATA/REMOTE_SENSING/REMA_2m_strips/REMA_Strip_Index_Rel1.shp')\n",
    "path = f\"/Volumes/arc_02/whitefar/DATA/REMOTE_SENSING/REMA_STRIPES/DIFFERENCES/REMA_{nid1}-{nid2}_diff.tif\"\n",
    "f = df.loc[nid1].acquisitio\n",
    "t =df.loc[nid2].acquisitio\n",
    "duration = (pd.to_datetime(t)-pd.to_datetime(f)).days/365.25\n",
    "with rio.open(path) as image:\n",
    "    im = image.read(1)\n",
    "    im[im==-9999] = np.nan\n",
    "    im = im / duration\n",
    "with rio.open('/Volumes/arc_02/whitefar/DATA/REMOTE_SENSING/REMA_STRIPES/SETSM_WV01_20161109_1020010058134D00_10200100576C9100_seg1_2m_v1.0_dem.tif') as image:\n",
    "    extent_REMA = [image.bounds[0],image.bounds[2],image.bounds[1],image.bounds[3]]\n",
    "    im_REMA = image.read(1)/100"
   ]
  },
  {
   "cell_type": "code",
   "execution_count": 20,
   "metadata": {},
   "outputs": [
    {
     "data": {
      "text/plain": [
       "'http://data.pgc.umn.edu/elev/dem/setsm/REMA/geocell/v1.0/2m/s83w153/SETSM_WV02_20121224_103001001D86CA00_103001001D886000_seg1_2m_v1.0.tar.gz'"
      ]
     },
     "execution_count": 20,
     "metadata": {},
     "output_type": "execute_result"
    }
   ],
   "source": [
    "df.loc[nid1].fileurl"
   ]
  },
  {
   "cell_type": "code",
   "execution_count": 21,
   "metadata": {},
   "outputs": [],
   "source": [
    "direc = '/Users/home/whitefar/DATA/FIELD_ANT_19/POST_FIELD/RADAR_MAP/interpolatedgrid_allchan'\n",
    "\n",
    "xv = np.load(direc + 'x_grid' +'.npy')\n",
    "yv = np.load(direc + 'y_grid' +'.npy')\n",
    "thickness_interpolated = np.load(direc +'ice_thickness'+'.npy')\n",
    "extent_l2l = np.load(direc +'extent.npy')\n",
    "surf_out = np.load(direc +'surface.npy')"
   ]
  },
  {
   "cell_type": "code",
   "execution_count": 22,
   "metadata": {},
   "outputs": [],
   "source": [
    "x = np.linspace(extent_REMA[0],extent_REMA[1],im_REMA.shape[1]).astype('int')\n",
    "y = np.linspace(extent_REMA[3],extent_REMA[2],im_REMA.shape[0]).astype('int')"
   ]
  },
  {
   "cell_type": "code",
   "execution_count": 23,
   "metadata": {},
   "outputs": [],
   "source": [
    "xmin, xmax, ymin, ymax = extent_l2l"
   ]
  },
  {
   "cell_type": "code",
   "execution_count": 24,
   "metadata": {},
   "outputs": [],
   "source": [
    "x_i = np.argwhere((x>xmin) & (x< xmax)).flatten()[0]\n",
    "x_j = np.argwhere((x>xmin) & (x< xmax)).flatten()[-1]\n",
    "y_i = np.argwhere((y>ymin) & (y< ymax)).flatten()[0]\n",
    "y_j = np.argwhere((y>ymin) & (y< ymax)).flatten()[-1]"
   ]
  },
  {
   "cell_type": "code",
   "execution_count": 25,
   "metadata": {},
   "outputs": [],
   "source": [
    "x_c = np.linspace(extent_REMA[0],extent_REMA[1],im_REMA.shape[1]).astype('int')[x_i:x_j]\n",
    "y_c = np.linspace(extent_REMA[3],extent_REMA[2],im_REMA.shape[0]).astype('int')[y_i:y_j]"
   ]
  },
  {
   "cell_type": "code",
   "execution_count": 26,
   "metadata": {},
   "outputs": [],
   "source": [
    "xv_REMA, yv_REMA = np.meshgrid(x_c, y_c)"
   ]
  },
  {
   "cell_type": "code",
   "execution_count": 27,
   "metadata": {},
   "outputs": [],
   "source": [
    "im_REMA_d = im_REMA[y_i:y_j,x_i:x_j]\n",
    "im_REMA_d[im_REMA_d==-99.99] = np.nan\n",
    "im_REMA_c = im_REMA_d*100\n",
    "del im_REMA_d"
   ]
  },
  {
   "cell_type": "markdown",
   "metadata": {},
   "source": [
    "## 1. REMA bullseye with contours of channel"
   ]
  },
  {
   "cell_type": "code",
   "execution_count": 28,
   "metadata": {},
   "outputs": [],
   "source": [
    "\n",
    "%matplotlib qt\n",
    "#rema\n",
    "v=[0,1]    \n",
    "\n",
    "extent_REMA1 = [image.bounds[0],image.bounds[2],image.bounds[1],image.bounds[3]]\n",
    "plt.figure(figsize=(15,15))\n",
    "GyRd = plt.cm.get_cmap('RdGy').reversed()\n",
    "plt.imshow(im,extent=extent_REMA1, vmin=v[0],vmax=v[1],cmap=GyRd)\n",
    "cb = plt.colorbar()\n",
    "cb.set_label('rate of elevation change, m/a')\n",
    "\n",
    "# manual_locations = [(-380000, -727585),(-378000, -731200), (-380250,727650), (-377116, -729519), (-377640, -731742),  (-377470,-728870), (2.4, 1.7)]\n",
    "manual_locations = [(-380000, -727585),(-378000, -731200),(-377640, -731742)]\n",
    "\n",
    "CS = plt.contour(xv,yv,surf_out-thickness_interpolated)\n",
    "plt.clabel(CS, inline=1, fontsize=8, fmt='%i', manual=manual_locations)\n",
    "\n",
    "\n",
    "# cb2 = plt.colorbar()\n",
    "# cb2.set_label('Elevation of ice underside, m')\n",
    "plt.xlim([-382000, -374800])\n",
    "plt.ylim([-733300,-724000])\n",
    "plt.grid()\n",
    "plt.show()"
   ]
  },
  {
   "cell_type": "markdown",
   "metadata": {},
   "source": [
    "## 2. colors of chan with contours of surf"
   ]
  },
  {
   "cell_type": "code",
   "execution_count": 22,
   "metadata": {},
   "outputs": [],
   "source": [
    "jj = 40\n",
    "\n",
    "plt.figure(figsize=(10,15))\n",
    "\n",
    "CS =  plt.contour(xv_REMA[::jj],yv_REMA[::jj],im_REMA_c[::jj],30)\n",
    "plt.clabel(CS, inline=1, fontsize=8, fmt='%i')\n",
    "\n",
    "v = [-750,-350]\n",
    "plt.imshow(surf_out-thickness_interpolated,extent=extent_l2l,cmap='gist_rainbow')\n",
    "\n",
    "\n",
    "cb = plt.colorbar()\n",
    "cb.set_label('Elevation of ice base, m')\n",
    "# plt.title('Colored base of ice with contours of surface topography')\n",
    "plt.show()"
   ]
  },
  {
   "cell_type": "markdown",
   "metadata": {},
   "source": [
    "## 3. thickness over length"
   ]
  },
  {
   "cell_type": "code",
   "execution_count": 15,
   "metadata": {},
   "outputs": [],
   "source": [
    "it = it_new[10,:]\n",
    "x = x_new[10,:]\n",
    "y = y_new[10,:]\n",
    "mid = pd.DataFrame({'x': x,'y':y,'ice_thickn':it})\n",
    "\n",
    "points_mid = [Point(xy) for xy in zip(mid.x,mid.y)]\n",
    "gdf_mid = gpd.GeoDataFrame(mid,geometry=points_mid,crs=\"EPSG:3031\")"
   ]
  },
  {
   "cell_type": "code",
   "execution_count": 17,
   "metadata": {},
   "outputs": [],
   "source": [
    "%matplotlib qt\n",
    "#  fug, (a0, a1) = plt.subplots(2,1, gridspec_kw = {'height_ratios':[2, 3]},figsize=(6,6),dpi=180)#rema\n",
    "\n",
    "fig, (ax1, ax2) = plt.subplots(1,2, sharey=True,gridspec_kw = {'width_ratios':[1, 4],'height_ratios':[1]},\n",
    "                               figsize=(8,10),dpi=180)#rema ,constrained_layout=True\n",
    "v=[0,1]    \n",
    "\n",
    "kis2 = [-380737.537026,-724683.311299]\n",
    "\n",
    "ax2.imshow(im_REMA,extent=extent_REMA,vmin=0.2,vmax=0.7, cmap='BrBG')\n",
    "# cb = plt.colorbar()\n",
    "# cb.set_label('surface elevation (?)')\n",
    "# cb.set_label('rate of elevation change, m/a')\n",
    "ax2.plot( gdf_mid.x,gdf_mid.y)\n",
    "ax2.set_xlim([-382000, -374800])\n",
    "ax2.set_ylim([-733300,-724000])\n",
    "ax2.grid()\n",
    "ax2.set_xlabel('GMT x, m')\n",
    "# plt.contour(xv,yv,surf_out-thickness_interpolated,linewidths=0.75)\n",
    "\n",
    "\n",
    "ax1.plot(gdf_mid.ice_thickn,gdf_mid.y)\n",
    "# ax1.set_xlim([400, 480])\n",
    "ax1.set_ylim([-733300,-724000])\n",
    "ax1.set_ylabel('GMT y, m')\n",
    "ax1.set_xlabel('ice thickness, m')\n",
    "\n",
    "ax1.grid()\n",
    "fig.show()\n",
    "\n"
   ]
  },
  {
   "cell_type": "code",
   "execution_count": null,
   "metadata": {},
   "outputs": [],
   "source": []
  }
 ],
 "metadata": {
  "kernelspec": {
   "display_name": "remote_sensing",
   "language": "python",
   "name": "remote_sensing"
  },
  "language_info": {
   "codemirror_mode": {
    "name": "ipython",
    "version": 3
   },
   "file_extension": ".py",
   "mimetype": "text/x-python",
   "name": "python",
   "nbconvert_exporter": "python",
   "pygments_lexer": "ipython3",
   "version": "3.7.2"
  }
 },
 "nbformat": 4,
 "nbformat_minor": 4
}
