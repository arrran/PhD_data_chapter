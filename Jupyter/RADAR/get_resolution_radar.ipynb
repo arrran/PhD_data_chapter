{
 "cells": [
  {
   "cell_type": "code",
   "execution_count": 1,
   "id": "2e3a23b9",
   "metadata": {},
   "outputs": [],
   "source": [
    "\n",
    "import matplotlib.pyplot as plt\n",
    "import numpy as np\n",
    "import glob\n",
    "from numpy import linalg as LA\n",
    "from functools import reduce\n",
    "import os\n",
    "import sys\n",
    "import time\n",
    "import datetime as dt\n",
    "import pandas as pd\n",
    "import geopandas as gpd"
   ]
  },
  {
   "cell_type": "code",
   "execution_count": 6,
   "id": "9a673fd0",
   "metadata": {},
   "outputs": [],
   "source": [
    "sys.path.append('/Users/home/whitefar/DATA/code/RADAR_PROCESSING/')\n",
    "from process_radar import radarsurvey, radarline"
   ]
  },
  {
   "cell_type": "code",
   "execution_count": 7,
   "id": "873c4427",
   "metadata": {},
   "outputs": [
    {
     "name": "stdout",
     "output_type": "stream",
     "text": [
      "loading files from:\n",
      "/Volumes/arc_04/FIELD_DATA/K8621920/RES/KIS2/30dec/06364035101ch0\n",
      "/Volumes/arc_04/FIELD_DATA/K8621920/RES/KIS2/30dec/06364035101ch1\n",
      "/Volumes/arc_04/FIELD_DATA/K8621920/RES/KIS2/30dec/06364035101info.txt\n",
      "/Volumes/arc_04/FIELD_DATA/K8621920/RES/KIS2/30dec/06364035101time.txt\n"
     ]
    },
    {
     "name": "stderr",
     "output_type": "stream",
     "text": [
      "/Users/home/whitefar/miniconda3/envs/remote_sensing/lib/python3.7/site-packages/pyproj/crs/crs.py:53: FutureWarning: '+init=<authority>:<code>' syntax is deprecated. '<authority>:<code>' is the preferred initialization method. When making the change, be mindful of axis order changes: https://pyproj4.github.io/pyproj/stable/gotchas.html#axis-order-changes-in-proj-6\n",
      "  return _prepare_from_string(\" \".join(pjargs))\n"
     ]
    },
    {
     "name": "stdout",
     "output_type": "stream",
     "text": [
      "positive dt moves lines left\n",
      "line has 1 segments of moving, where acc < 0.5\n",
      "metadata written to /Volumes/arc_04/FIELD_DATA/K8621920/RES/PROCESSED_LINES/radarline_meta_line5.txt\n",
      "/Users/home/whitefar/DATA/FIELD_ANT_19/POST_FIELD/RES/PROCESSED_LINES_GISFILE/line5.gpkg\n"
     ]
    }
   ],
   "source": [
    "#    survey 5     one segment only\n",
    "#        L5_R5 2019-12-30 16:51 17:36 11538 06364035101 survey5\n",
    "        \n",
    "survey5 = radarsurvey(\"06364035101\")\n",
    "survey5.load_radar_data(\"/Volumes/arc_04/FIELD_DATA/K8621920/RES/\")\n",
    "survey5.load_gnss_data()\n",
    "survey5.interpolate_gnss()\n",
    "survey5.refine_timesync('21 seconds')\n",
    "survey5.split_lines_choose(moving_threshold=0.5)\n",
    "#survey5.split_lines_plot([\"line5\"])\n",
    "\n",
    "line5 = radarline(survey5.split_lines_output()[0],\"line5\")\n",
    "line5.offset()\n",
    "# line5.stack_spatially()\n",
    "#line5.radargram(channel=0,bound=0.008,title='filtered to 2.5e7 Hz',x_axis='space')\n",
    "line5.export()"
   ]
  },
  {
   "cell_type": "code",
   "execution_count": 14,
   "id": "bff68c74",
   "metadata": {},
   "outputs": [
    {
     "data": {
      "text/plain": [
       "(array([273.,   0.,   1.,   0.,   0.,   1.,   1.,   0.,   1.,   1.,   0.,\n",
       "          3.,   6.,  26., 100., 286., 350., 342., 309., 349., 286., 214.,\n",
       "        115.,  30.,   7.,   2.,   1.,   0.,   1.,   2.]),\n",
       " array([0.        , 0.10203108, 0.20406216, 0.30609324, 0.40812432,\n",
       "        0.5101554 , 0.61218648, 0.71421756, 0.81624864, 0.91827972,\n",
       "        1.0203108 , 1.12234188, 1.22437296, 1.32640404, 1.42843512,\n",
       "        1.5304662 , 1.63249728, 1.73452836, 1.83655944, 1.93859052,\n",
       "        2.0406216 , 2.14265268, 2.24468376, 2.34671484, 2.44874592,\n",
       "        2.550777  , 2.65280808, 2.75483916, 2.85687024, 2.95890132,\n",
       "        3.0609324 ]),\n",
       " <BarContainer object of 30 artists>)"
      ]
     },
     "execution_count": 14,
     "metadata": {},
     "output_type": "execute_result"
    },
    {
     "data": {
      "image/png": "[encoded data removed]",
      "text/plain": [
       "<Figure size 432x288 with 1 Axes>"
      ]
     },
     "metadata": {
      "needs_background": "light"
     },
     "output_type": "display_data"
    }
   ],
   "source": [
    "plt.hist(survey5.radata.dx,30)"
   ]
  },
  {
   "cell_type": "code",
   "execution_count": 16,
   "id": "c608a100",
   "metadata": {},
   "outputs": [
    {
     "data": {
      "text/plain": [
       "1.687230745164347"
      ]
     },
     "execution_count": 16,
     "metadata": {},
     "output_type": "execute_result"
    }
   ],
   "source": [
    "survey5.radata.dx.mean()"
   ]
  },
  {
   "cell_type": "code",
   "execution_count": 17,
   "id": "829f5a67",
   "metadata": {},
   "outputs": [
    {
     "data": {
      "text/plain": [
       "1.82636460298065"
      ]
     },
     "execution_count": 17,
     "metadata": {},
     "output_type": "execute_result"
    }
   ],
   "source": [
    "survey5.radata.dx.median()"
   ]
  },
  {
   "cell_type": "code",
   "execution_count": null,
   "id": "fabaec3e",
   "metadata": {},
   "outputs": [],
   "source": []
  }
 ],
 "metadata": {
  "kernelspec": {
   "display_name": "remote_sensing",
   "language": "python",
   "name": "remote_sensing"
  },
  "language_info": {
   "codemirror_mode": {
    "name": "ipython",
    "version": 3
   },
   "file_extension": ".py",
   "mimetype": "text/x-python",
   "name": "python",
   "nbconvert_exporter": "python",
   "pygments_lexer": "ipython3",
   "version": "3.7.8"
  }
 },
 "nbformat": 4,
 "nbformat_minor": 5
}
