{
 "cells": [
  {
   "cell_type": "markdown",
   "metadata": {},
   "source": [
    "# where is floating?\n",
    "\n",
    "##\n",
    "### Datapaper plots\n",
    "\n",
    "1. field_location.png Modis moa Inset map, ant in corner, icestreams scale, square of common border, include flow route,\n",
    "2. geophysics_overview.png Map of all data presented\n",
    "3. historic_channel.png Historic landsat images\n",
    "4. thickness_surfacecolour.png Profile depth\n",
    "6. 3D view of channel\n",
    "7. radarlines \n",
    "8. channel_meander.png meander\n",
    "11. ApRES include stress\n",
    "9. Icesat1/REMA\n",
    "10. Icesat2\n"
   ]
  },
  {
   "cell_type": "code",
   "execution_count": 1,
   "metadata": {},
   "outputs": [
    {
     "name": "stdout",
     "output_type": "stream",
     "text": [
      "/Users/home/whitefar/DATA/Jupyter/RADAR/RADAR_MAP_correct_offset\n"
     ]
    }
   ],
   "source": [
    "!pwd"
   ]
  },
  {
   "cell_type": "code",
   "execution_count": 2,
   "metadata": {},
   "outputs": [],
   "source": [
    "import matplotlib.pyplot as plt\n",
    "import numpy as np\n",
    "import glob\n",
    "import os\n",
    "import sys\n",
    "import time\n",
    "import datetime as dt\n",
    "import pandas as pd\n",
    "import geopandas as gpd\n",
    "import scipy as sp\n",
    "from scipy import signal\n",
    "from tqdm.notebook import tqdm\n",
    "import rasterio as rio\n",
    "from shapely.geometry import Point, LineString, Polygon, MultiPoint\n",
    "import fiona\n",
    "from shapely.ops import nearest_points\n",
    "from rasterio.windows import Window\n",
    "import string\n",
    "import matplotlib.gridspec as gridspec"
   ]
  },
  {
   "cell_type": "code",
   "execution_count": 3,
   "metadata": {},
   "outputs": [],
   "source": [
    "import matplotlib.path\n"
   ]
  },
  {
   "cell_type": "code",
   "execution_count": 4,
   "metadata": {},
   "outputs": [],
   "source": [
    "from scipy.integrate import quad\n",
    "import time\n",
    "import pickle"
   ]
  },
  {
   "cell_type": "code",
   "execution_count": 5,
   "metadata": {},
   "outputs": [],
   "source": [
    "# Load ice base interpolated from radar results\n",
    "direc = '/Users/home/whitefar/DATA/FIELD_ANT_19/POST_FIELD/RADAR_MAP/highres_gridded_'\n",
    "\n",
    "xv = np.load(direc + 'x_grid' +'.npy')\n",
    "yv = np.load(direc + 'y_grid' +'.npy')\n",
    "\n",
    "# thickness_interpolated = np.load(direc +'ice_thickn.npy')\n",
    "extent_l2l = np.load(direc +'extent.npy')\n",
    "# ice_base = np.load(direc +'ice_base.npy')\n",
    "# ice_base_smooth = sp.ndimage.gaussian_filter(ice_base, sigma=30, order=0)\n",
    "REMA_surf = np.load(direc +'REMA_surf.npy')\n"
   ]
  },
  {
   "cell_type": "code",
   "execution_count": 6,
   "metadata": {},
   "outputs": [],
   "source": [
    "# from DATA/Jupyter/RADAR/RADAR_MAP/44_where_float.ipynb\n",
    "vertical_offset_from_floatation = np.load('/Users/home/whitefar/DATA/FIELD_ANT_19/POST_FIELD/RADAR_MAP/vertical_offset_from_floatation.npy')\n"
   ]
  },
  {
   "cell_type": "code",
   "execution_count": 7,
   "metadata": {},
   "outputs": [],
   "source": [
    "with open('/Users/home/whitefar/DATA/global_corrections.pkl',\"rb\") as f2:\n",
    "    correct = pickle.load(f2)\n",
    "geoid_correction = correct['geoid_correction']\n",
    "res_correction = correct['res_correction']"
   ]
  },
  {
   "cell_type": "code",
   "execution_count": null,
   "metadata": {},
   "outputs": [],
   "source": []
  },
  {
   "cell_type": "code",
   "execution_count": null,
   "metadata": {},
   "outputs": [],
   "source": []
  },
  {
   "cell_type": "code",
   "execution_count": 8,
   "metadata": {},
   "outputs": [],
   "source": [
    "x_new = np.load('/Users/home/whitefar/DATA/FIELD_ANT_19/POST_FIELD/RADAR_MAP/highres_line2line_interpbydist_points_x.npy')\n",
    "y_new = np.load('/Users/home/whitefar/DATA/FIELD_ANT_19/POST_FIELD/RADAR_MAP/highres_line2line_interpbydist_points_y.npy')\n",
    "#ice thickness\n",
    "it_new = np.load('/Users/home/whitefar/DATA/FIELD_ANT_19/POST_FIELD/RADAR_MAP/highres_line2line_interpbydist_ice_thickn.npy')\n",
    "#ice base\n",
    "ib_new = np.load('/Users/home/whitefar/DATA/FIELD_ANT_19/POST_FIELD/RADAR_MAP/highres_line2line_interpbydist_icebase.npy')\n",
    "it = it_new[50,:]\n",
    "ib = ib_new[50,:]\n",
    "x = x_new[50,:]\n",
    "y = y_new[50,:]\n",
    "#mid channel\n",
    "mid = pd.DataFrame({'x': x,'y':y,'ice_thickn':it,'ice_base':ib})\n",
    "points = [Point(xy) for xy in zip(mid.x,mid.y)]\n",
    "gdf_mid = gpd.GeoDataFrame(mid,geometry=points,crs=\"EPSG:3031\")\n",
    "tmp_dfp = [Point.distance(gdf_mid.geometry.iloc[i]) for i,Point in enumerate(gdf_mid.geometry.iloc[1:])]\n",
    "tmp_dfp[:0] = [0]\n",
    "gdf_mid['dx'] = pd.Series(tmp_dfp) #note the 1:, equivalent to i+1\n",
    "gdf_mid['distan_cum'] = gdf_mid.dx.cumsum()\n",
    "\n",
    "f = sp.interpolate.interp1d(gdf_mid.y,gdf_mid.distan_cum)"
   ]
  },
  {
   "cell_type": "code",
   "execution_count": 9,
   "metadata": {},
   "outputs": [],
   "source": [
    "buff = LineString(gdf_mid.geometry.tolist()).buffer(2000)"
   ]
  },
  {
   "cell_type": "code",
   "execution_count": 10,
   "metadata": {},
   "outputs": [],
   "source": [
    "gdf_mid.to_file('/Volumes/arc_04/FIELD_DATA/K8621920/RES/STABLE/centre_channel.gpkg', driver='GPKG')"
   ]
  },
  {
   "cell_type": "code",
   "execution_count": 11,
   "metadata": {},
   "outputs": [],
   "source": [
    "geoid_correction = geoid_correction*np.ones(vertical_offset_from_floatation.shape)\n",
    "geoid_correction[vertical_offset_from_floatation==0] =  np.nan"
   ]
  },
  {
   "cell_type": "code",
   "execution_count": 12,
   "metadata": {},
   "outputs": [],
   "source": [
    "REMA_surf[vertical_offset_from_floatation==0.0] = np.nan"
   ]
  },
  {
   "cell_type": "code",
   "execution_count": 13,
   "metadata": {},
   "outputs": [],
   "source": [
    "vertical_offset_from_floatation[vertical_offset_from_floatation==0]=np.nan"
   ]
  },
  {
   "cell_type": "code",
   "execution_count": 14,
   "metadata": {},
   "outputs": [],
   "source": [
    "vof_nonan = vertical_offset_from_floatation.copy()\n",
    "vof_nonan[np.isnan(vof_nonan)] = 0"
   ]
  },
  {
   "cell_type": "code",
   "execution_count": 15,
   "metadata": {},
   "outputs": [],
   "source": [
    "xmin, xmax, ymin, ymax = -382700, -374781.9, -734075.1, -721770.2"
   ]
  },
  {
   "cell_type": "code",
   "execution_count": 16,
   "metadata": {},
   "outputs": [],
   "source": [
    "grounded = np.array([[1,10],\n",
    "                     [np.nan,-14]])"
   ]
  },
  {
   "cell_type": "code",
   "execution_count": 17,
   "metadata": {},
   "outputs": [],
   "source": [
    "buff_list = [i for i in zip(buff.exterior.coords.xy[0],buff.exterior.coords.xy[1])]"
   ]
  },
  {
   "cell_type": "code",
   "execution_count": 18,
   "metadata": {},
   "outputs": [],
   "source": [
    "poly_verts = buff_list\n",
    "path = matplotlib.path.Path(poly_verts)"
   ]
  },
  {
   "cell_type": "code",
   "execution_count": 19,
   "metadata": {},
   "outputs": [],
   "source": [
    "# Create vertex coordinates for each grid cell...\n",
    "# (<0,0> is at the top left of the grid in this system)\n",
    "xv, yv\n",
    "x, y = xv.flatten(), yv.flatten()\n",
    "\n",
    "points = np.vstack((x,y)).T\n",
    "\n",
    "contained = path.contains_points(points)\n",
    "                           "
   ]
  },
  {
   "cell_type": "code",
   "execution_count": 20,
   "metadata": {},
   "outputs": [],
   "source": [
    "contained_a = contained.reshape(xv.shape)"
   ]
  },
  {
   "cell_type": "code",
   "execution_count": 21,
   "metadata": {},
   "outputs": [
    {
     "data": {
      "text/plain": [
       "<matplotlib.colorbar.Colorbar at 0x7fdf071badc0>"
      ]
     },
     "execution_count": 21,
     "metadata": {},
     "output_type": "execute_result"
    },
    {
     "data": {
      "image/png": "[encoded data removed]",
      "text/plain": [
       "<Figure size 432x288 with 2 Axes>"
      ]
     },
     "metadata": {
      "needs_background": "light"
     },
     "output_type": "display_data"
    }
   ],
   "source": [
    "plt.imshow(contained_a)\n",
    "plt.colorbar()"
   ]
  },
  {
   "cell_type": "code",
   "execution_count": 22,
   "metadata": {},
   "outputs": [],
   "source": [
    "# remove anything less than 5m above floating.\n",
    "grounded = vertical_offset_from_floatation.copy()\n",
    "grounded[(vof_nonan>5)] = 1\n",
    "grounded[(vof_nonan<5)] = 0\n",
    "grounded[contained_a==1] = 0\n",
    "grounded_nonan = grounded.copy()\n",
    "grounded[np.isnan(vertical_offset_from_floatation)] = np.nan"
   ]
  },
  {
   "cell_type": "code",
   "execution_count": null,
   "metadata": {},
   "outputs": [],
   "source": []
  },
  {
   "cell_type": "code",
   "execution_count": 23,
   "metadata": {},
   "outputs": [
    {
     "data": {
      "image/png": "[encoded data removed]",
      "text/plain": [
       "<Figure size 1080x1440 with 2 Axes>"
      ]
     },
     "metadata": {
      "needs_background": "light"
     },
     "output_type": "display_data"
    }
   ],
   "source": [
    "plt.figure( dpi=180,figsize=(6,8))\n",
    "plt.imshow(grounded,extent=np.array(extent_l2l))\n",
    "# plt.plot(buff.exterior.coords.xy[0],buff.exterior.coords.xy[1])\n",
    "plt.colorbar()\n",
    "plt.show()"
   ]
  },
  {
   "cell_type": "code",
   "execution_count": 24,
   "metadata": {},
   "outputs": [],
   "source": [
    "np.save('/Volumes/arc_04/FIELD_DATA/K8621920/RES/STABLE/stable.npy',grounded)\n",
    "np.save('/Volumes/arc_04/FIELD_DATA/K8621920/RES/STABLE/stable_xv.npy',xv)\n",
    "np.save('/Volumes/arc_04/FIELD_DATA/K8621920/RES/STABLE/stable_yv.npy',yv)\n",
    "np.save('/Volumes/arc_04/FIELD_DATA/K8621920/RES/STABLE/stable_nonan.npy',grounded_nonan)\n"
   ]
  },
  {
   "cell_type": "code",
   "execution_count": 1,
   "metadata": {},
   "outputs": [
    {
     "name": "stdout",
     "output_type": "stream",
     "text": [
      "centre_channel.gpkg  stable_mask.nc  vertical_offset_from_floatation.nc\n"
     ]
    }
   ],
   "source": [
    "!ls /Volumes/arc_04/FIELD_DATA/K8621920/RES/STABLE/"
   ]
  },
  {
   "cell_type": "code",
   "execution_count": 40,
   "metadata": {},
   "outputs": [],
   "source": [
    "!cp /Users/home/whitefar/DATA/FIELD_ANT_19/POST_FIELD/RADAR_MAP/vertical_offset_from_floatation.npy /Volumes/arc_04/FIELD_DATA/K8621920/RES/STABLE/vertical_offset_from_floatation.npy"
   ]
  },
  {
   "cell_type": "code",
   "execution_count": null,
   "metadata": {},
   "outputs": [],
   "source": [
    "scp whitefar@kahutea.geo.vuw.ac.nz:/Volumes/arc_04/FIELD_DATA/K8621920/RES/STABLE/* /home/arran/PHD/DATA/STABLE/"
   ]
  },
  {
   "cell_type": "code",
   "execution_count": 42,
   "metadata": {},
   "outputs": [
    {
     "data": {
      "text/plain": [
       "[<matplotlib.lines.Line2D at 0x7f4426816c70>]"
      ]
     },
     "execution_count": 42,
     "metadata": {},
     "output_type": "execute_result"
    },
    {
     "data": {
      "image/png": "[encoded data removed]",
      "text/plain": [
       "<Figure size 432x288 with 1 Axes>"
      ]
     },
     "metadata": {
      "needs_background": "light"
     },
     "output_type": "display_data"
    }
   ],
   "source": [
    "plt.plot(xv[0,:])"
   ]
  },
  {
   "cell_type": "code",
   "execution_count": 44,
   "metadata": {},
   "outputs": [],
   "source": [
    "import xarray as xr\n"
   ]
  },
  {
   "cell_type": "code",
   "execution_count": 46,
   "metadata": {},
   "outputs": [],
   "source": [
    "da = xr.DataArray(\n",
    "    data=grounded,\n",
    "    dims=[\"y\", \"x\"],\n",
    "    coords=(yv[:,0],xv[0,:]),\n",
    "#     attrs=dict(\n",
    "#         stable_mask=self.total_run_time,\n",
    "#         ),\n",
    "    )\n",
    "da.to_dataset(name=\"ice_base\").to_netcdf(\"/Volumes/arc_04/FIELD_DATA/K8621920/RES/STABLE/stable_mask\"+\".nc\")"
   ]
  },
  {
   "cell_type": "code",
   "execution_count": 47,
   "metadata": {},
   "outputs": [],
   "source": [
    "da = xr.DataArray(\n",
    "    data=vertical_offset_from_floatation,\n",
    "    dims=[\"y\", \"x\"],\n",
    "    coords=(yv[:,0],xv[0,:]),\n",
    "#     attrs=dict(\n",
    "#         stable_mask=self.total_run_time,\n",
    "#         ),\n",
    "    )\n",
    "da.to_dataset(name=\"ice_base\").to_netcdf(\"/Volumes/arc_04/FIELD_DATA/K8621920/RES/STABLE/vertical_offset_from_floatation\"+\".nc\")"
   ]
  },
  {
   "cell_type": "code",
   "execution_count": null,
   "metadata": {},
   "outputs": [],
   "source": []
  }
 ],
 "metadata": {
  "kernelspec": {
   "display_name": "mitgcm",
   "language": "python",
   "name": "mitgcm"
  },
  "language_info": {
   "codemirror_mode": {
    "name": "ipython",
    "version": 3
   },
   "file_extension": ".py",
   "mimetype": "text/x-python",
   "name": "python",
   "nbconvert_exporter": "python",
   "pygments_lexer": "ipython3",
   "version": "3.9.6"
  }
 },
 "nbformat": 4,
 "nbformat_minor": 4
}
