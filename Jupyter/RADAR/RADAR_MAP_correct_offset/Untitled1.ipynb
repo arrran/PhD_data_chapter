{
 "cells": [
  {
   "cell_type": "code",
   "execution_count": 32,
   "id": "acd93275-019c-4255-8dd5-e939557b5351",
   "metadata": {},
   "outputs": [],
   "source": [
    "def pretty_sumab(func):                                                                                     \n",
    "    def inner(a,b):                                                                                         \n",
    "                                                           \n",
    "        return func(a,b) +4                                                                                   \n",
    "                                                                                                            \n",
    "    return func                                                                                            \n",
    "                                                                                                            \n",
    "@pretty_sumab                                                                                               \n",
    "def sumab(a,b):                                                                                             \n",
    "    return a*b                                                                                          \n",
    "                   "
   ]
  },
  {
   "cell_type": "code",
   "execution_count": 1,
   "id": "2bc11e48-d2f9-41fd-ab39-38f55c4be5cd",
   "metadata": {},
   "outputs": [],
   "source": [
    "import numpy as np"
   ]
  },
  {
   "cell_type": "code",
   "execution_count": 13,
   "id": "16e2c849-9af4-468b-9a3a-597729d4826f",
   "metadata": {},
   "outputs": [],
   "source": [
    "def sortit(aa):\n",
    "    aa.sort()\n",
    "    return aa\n",
    "def str_it(aa):\n",
    "    return [str(a) for a in aa]"
   ]
  },
  {
   "cell_type": "code",
   "execution_count": 14,
   "id": "c1783327-a089-4286-aaf7-973b1a6e541b",
   "metadata": {},
   "outputs": [],
   "source": [
    "def aaa(func):\n",
    "    return func(np.random.random(4))"
   ]
  },
  {
   "cell_type": "code",
   "execution_count": null,
   "id": "50fc71c7-f36c-47fc-8d65-096e7541b33d",
   "metadata": {},
   "outputs": [],
   "source": []
  },
  {
   "cell_type": "code",
   "execution_count": 34,
   "id": "36090310-3c1f-44db-829d-54475b35b856",
   "metadata": {},
   "outputs": [
    {
     "name": "stdout",
     "output_type": "stream",
     "text": [
      "400\n"
     ]
    }
   ],
   "source": [
    "def decor1(func): \n",
    "    def inner(): \n",
    "        x = func() \n",
    "        return x * x \n",
    "    return inner \n",
    "  \n",
    "def decor(func): \n",
    "    def inner(): \n",
    "        x = func() \n",
    "        return 2 * x \n",
    "    return inner \n",
    "  \n",
    "@decor1\n",
    "@decor\n",
    "def num(a): \n",
    "    return a*\n",
    "  \n",
    "print(num()) "
   ]
  },
  {
   "cell_type": "code",
   "execution_count": null,
   "id": "feda6bdb-3e4b-43bb-a3b1-3a6283d1d6ff",
   "metadata": {},
   "outputs": [],
   "source": []
  },
  {
   "cell_type": "code",
   "execution_count": 15,
   "id": "2268ef3c-be20-4f6e-99e9-f8b6c078a47f",
   "metadata": {},
   "outputs": [],
   "source": [
    "ww = ['432','756','10','192','232']"
   ]
  },
  {
   "cell_type": "code",
   "execution_count": 22,
   "id": "f5bd131a-192d-4e35-87c8-ab1555e3ece0",
   "metadata": {},
   "outputs": [],
   "source": [
    "def str_it(func): \n",
    "    def inner(): \n",
    "        x = func() \n",
    "        return [str(i) for i in x]\n",
    "    return inner \n",
    "  \n",
    "# def decor(func): \n",
    "#     def inner(): \n",
    "#         x = func() \n",
    "#         return 2 * x \n",
    "#     return inner \n",
    "  \n",
    "@str_it\n",
    "def sortit(aa):\n",
    "    aa.sort()\n",
    "    return aa\n"
   ]
  },
  {
   "cell_type": "code",
   "execution_count": 23,
   "id": "ce510fd1-d890-4115-9638-18df1c3cec47",
   "metadata": {},
   "outputs": [
    {
     "ename": "TypeError",
     "evalue": "sortit() missing 1 required positional argument: 'aa'",
     "output_type": "error",
     "traceback": [
      "\u001b[0;31m---------------------------------------------------------------------------\u001b[0m",
      "\u001b[0;31mTypeError\u001b[0m                                 Traceback (most recent call last)",
      "\u001b[0;32m/tmp/ipykernel_2012839/1232037138.py\u001b[0m in \u001b[0;36m<module>\u001b[0;34m\u001b[0m\n\u001b[0;32m----> 1\u001b[0;31m \u001b[0msortit\u001b[0m\u001b[0;34m(\u001b[0m\u001b[0mww\u001b[0m\u001b[0;34m)\u001b[0m\u001b[0;34m\u001b[0m\u001b[0;34m\u001b[0m\u001b[0m\n\u001b[0m",
      "\u001b[0;32m/tmp/ipykernel_2012839/3950684033.py\u001b[0m in \u001b[0;36minner\u001b[0;34m(*args)\u001b[0m\n\u001b[1;32m      1\u001b[0m \u001b[0;32mdef\u001b[0m \u001b[0mstr_it\u001b[0m\u001b[0;34m(\u001b[0m\u001b[0mfunc\u001b[0m\u001b[0;34m)\u001b[0m\u001b[0;34m:\u001b[0m\u001b[0;34m\u001b[0m\u001b[0;34m\u001b[0m\u001b[0m\n\u001b[1;32m      2\u001b[0m     \u001b[0;32mdef\u001b[0m \u001b[0minner\u001b[0m\u001b[0;34m(\u001b[0m\u001b[0;34m*\u001b[0m\u001b[0margs\u001b[0m\u001b[0;34m)\u001b[0m\u001b[0;34m:\u001b[0m\u001b[0;34m\u001b[0m\u001b[0;34m\u001b[0m\u001b[0m\n\u001b[0;32m----> 3\u001b[0;31m         \u001b[0mx\u001b[0m \u001b[0;34m=\u001b[0m \u001b[0mfunc\u001b[0m\u001b[0;34m(\u001b[0m\u001b[0;34m)\u001b[0m\u001b[0;34m\u001b[0m\u001b[0;34m\u001b[0m\u001b[0m\n\u001b[0m\u001b[1;32m      4\u001b[0m         \u001b[0;32mreturn\u001b[0m \u001b[0;34m[\u001b[0m\u001b[0mstr\u001b[0m\u001b[0;34m(\u001b[0m\u001b[0mi\u001b[0m\u001b[0;34m)\u001b[0m \u001b[0;32mfor\u001b[0m \u001b[0mi\u001b[0m \u001b[0;32min\u001b[0m \u001b[0mx\u001b[0m\u001b[0;34m]\u001b[0m\u001b[0;34m\u001b[0m\u001b[0;34m\u001b[0m\u001b[0m\n\u001b[1;32m      5\u001b[0m     \u001b[0;32mreturn\u001b[0m \u001b[0minner\u001b[0m\u001b[0;34m\u001b[0m\u001b[0;34m\u001b[0m\u001b[0m\n",
      "\u001b[0;31mTypeError\u001b[0m: sortit() missing 1 required positional argument: 'aa'"
     ]
    }
   ],
   "source": [
    "sortit(aa)"
   ]
  },
  {
   "cell_type": "code",
   "execution_count": 17,
   "id": "02faacd8-5afa-4d3a-b400-8c98b1f8422d",
   "metadata": {},
   "outputs": [
    {
     "data": {
      "text/plain": [
       "['0.22494936279574507',\n",
       " '0.6668043456285933',\n",
       " '0.4724036409259851',\n",
       " '0.6942248730124999']"
      ]
     },
     "execution_count": 17,
     "metadata": {},
     "output_type": "execute_result"
    }
   ],
   "source": [
    "aaa(str_it)"
   ]
  },
  {
   "cell_type": "code",
   "execution_count": 67,
   "id": "f2f1ae7a-1c44-479b-b593-dcd35f89042c",
   "metadata": {},
   "outputs": [
    {
     "data": {
      "text/plain": [
       "[10, 192, 232, 432, 756]"
      ]
     },
     "execution_count": 67,
     "metadata": {},
     "output_type": "execute_result"
    }
   ],
   "source": [
    "return_int(sortit(ww))"
   ]
  },
  {
   "cell_type": "code",
   "execution_count": 5,
   "id": "5fb62cc4-c979-427d-8c5e-fbb69a27b4ab",
   "metadata": {},
   "outputs": [
    {
     "data": {
      "text/plain": [
       "array([0.89915616, 0.42576891, 0.68931333, 0.91231237])"
      ]
     },
     "execution_count": 5,
     "metadata": {},
     "output_type": "execute_result"
    }
   ],
   "source": [
    "np.random.random(4)"
   ]
  },
  {
   "cell_type": "code",
   "execution_count": null,
   "id": "95d8e86e-0902-433e-b69c-f39767a49765",
   "metadata": {},
   "outputs": [],
   "source": []
  },
  {
   "cell_type": "code",
   "execution_count": null,
   "id": "b86e0859-0f83-4176-9e49-a8735fac44a2",
   "metadata": {},
   "outputs": [],
   "source": []
  },
  {
   "cell_type": "code",
   "execution_count": 31,
   "id": "abb1a799-ab47-4c5e-a8c0-8fe2ca0a9a83",
   "metadata": {},
   "outputs": [
    {
     "ename": "TypeError",
     "evalue": "'int' object is not callable",
     "output_type": "error",
     "traceback": [
      "\u001b[0;31m---------------------------------------------------------------------------\u001b[0m",
      "\u001b[0;31mTypeError\u001b[0m                                 Traceback (most recent call last)",
      "\u001b[0;32m/tmp/ipykernel_1921837/1368419037.py\u001b[0m in \u001b[0;36m<module>\u001b[0;34m\u001b[0m\n\u001b[0;32m----> 1\u001b[0;31m \u001b[0msumab\u001b[0m\u001b[0;34m(\u001b[0m\u001b[0;36m5\u001b[0m\u001b[0;34m,\u001b[0m\u001b[0;36m3\u001b[0m\u001b[0;34m)\u001b[0m\u001b[0;34m\u001b[0m\u001b[0;34m\u001b[0m\u001b[0m\n\u001b[0m",
      "\u001b[0;31mTypeError\u001b[0m: 'int' object is not callable"
     ]
    }
   ],
   "source": [
    "sumab(5,3)"
   ]
  },
  {
   "cell_type": "code",
   "execution_count": 19,
   "id": "e279e174-1808-46e2-a9be-a04fdeb2f9bd",
   "metadata": {},
   "outputs": [
    {
     "name": "stdout",
     "output_type": "stream",
     "text": [
      "3 + 4 is 5\n"
     ]
    }
   ],
   "source": [
    "a=3\n",
    "b=4\n",
    "print(str(a) + \" + \" + str(b) + \" is \", end=\"\")\n",
    "print('5')"
   ]
  },
  {
   "cell_type": "code",
   "execution_count": null,
   "id": "41f91607-8c24-444c-add3-7267a83f5c74",
   "metadata": {},
   "outputs": [],
   "source": [
    "def"
   ]
  },
  {
   "cell_type": "code",
   "execution_count": null,
   "id": "2de38fb9-a197-4f6c-bb18-e5436b3842e6",
   "metadata": {},
   "outputs": [],
   "source": []
  },
  {
   "cell_type": "code",
   "execution_count": 8,
   "id": "8cbd8470-03e4-4b46-8fe4-8643635ea746",
   "metadata": {},
   "outputs": [],
   "source": [
    "import numpy as np"
   ]
  },
  {
   "cell_type": "code",
   "execution_count": null,
   "id": "c8616d4c-cad8-4ab5-8186-1d4b46e30294",
   "metadata": {},
   "outputs": [],
   "source": []
  },
  {
   "cell_type": "code",
   "execution_count": 12,
   "id": "56cd3dc3-fa97-40ec-a0ea-30f2f192399b",
   "metadata": {},
   "outputs": [
    {
     "name": "stdout",
     "output_type": "stream",
     "text": [
      "eels\n"
     ]
    }
   ],
   "source": [
    "def shout(func):\n",
    "    return \n",
    "    \n",
    "def aa(b):\n",
    "    return b+1"
   ]
  },
  {
   "cell_type": "code",
   "execution_count": 13,
   "id": "c4de300d-55f6-4cb6-807b-9132a544cd23",
   "metadata": {},
   "outputs": [
    {
     "ename": "TypeError",
     "evalue": "'NoneType' object is not callable",
     "output_type": "error",
     "traceback": [
      "\u001b[0;31m---------------------------------------------------------------------------\u001b[0m",
      "\u001b[0;31mTypeError\u001b[0m                                 Traceback (most recent call last)",
      "\u001b[0;32m/tmp/ipykernel_1921837/505319070.py\u001b[0m in \u001b[0;36m<module>\u001b[0;34m\u001b[0m\n\u001b[0;32m----> 1\u001b[0;31m \u001b[0maa\u001b[0m\u001b[0;34m(\u001b[0m\u001b[0;36m4\u001b[0m\u001b[0;34m)\u001b[0m\u001b[0;34m\u001b[0m\u001b[0;34m\u001b[0m\u001b[0m\n\u001b[0m",
      "\u001b[0;31mTypeError\u001b[0m: 'NoneType' object is not callable"
     ]
    }
   ],
   "source": [
    "aa(4)"
   ]
  },
  {
   "cell_type": "code",
   "execution_count": null,
   "id": "71513605-3a4a-4406-83c1-17f6de40d085",
   "metadata": {},
   "outputs": [],
   "source": []
  }
 ],
 "metadata": {
  "kernelspec": {
   "display_name": "mitgcm",
   "language": "python",
   "name": "mitgcm"
  },
  "language_info": {
   "codemirror_mode": {
    "name": "ipython",
    "version": 3
   },
   "file_extension": ".py",
   "mimetype": "text/x-python",
   "name": "python",
   "nbconvert_exporter": "python",
   "pygments_lexer": "ipython3",
   "version": "3.9.6"
  }
 },
 "nbformat": 4,
 "nbformat_minor": 5
}
