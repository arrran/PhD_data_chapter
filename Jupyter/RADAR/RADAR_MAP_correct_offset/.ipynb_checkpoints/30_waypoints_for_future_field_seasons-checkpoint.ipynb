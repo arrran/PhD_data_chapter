{
 "cells": [
  {
   "cell_type": "markdown",
   "metadata": {},
   "source": [
    "# Figure out waypoints we want for future field seasons\n",
    "\n",
    "Priorities\n",
    "1. Repeat ApRES up the channel\n",
    "2. New ApRES further up the channel\n",
    "\n",
    "\n",
    "## Confirm drill hole\n"
   ]
  },
  {
   "cell_type": "code",
   "execution_count": 1,
   "metadata": {},
   "outputs": [],
   "source": [
    "import matplotlib.pyplot as plt\n",
    "import numpy as np\n",
    "import glob\n",
    "import os\n",
    "import sys\n",
    "import time\n",
    "import datetime as dt\n",
    "import pandas as pd\n",
    "import geopandas as gpd\n",
    "import scipy as sp\n",
    "from scipy import signal\n",
    "from tqdm.notebook import tqdm\n",
    "\n",
    "from shapely.geometry import Point, LineString, Polygon, MultiPoint\n",
    "import fiona\n",
    "from shapely.ops import nearest_points"
   ]
  },
  {
   "cell_type": "code",
   "execution_count": 8,
   "metadata": {},
   "outputs": [],
   "source": [
    "bed_gdf = gpd.read_file('/Volumes/arc_04/FIELD_DATA/K8621920/RES/PROCESSED_LINES/picked_bed.shp')"
   ]
  },
  {
   "cell_type": "code",
   "execution_count": 9,
   "metadata": {},
   "outputs": [],
   "source": [
    "def add_distance_to_gdf(gdf):\n",
    "    \"\"\"\n",
    "    Input: geodataframe\n",
    "    Output: Adds columns 'dx' and 'distance_cum' to the geodataframe\n",
    "    \"\"\"\n",
    "    tmp_dfp = [Point.distance(gdf.geometry.iloc[i]) for i,Point in enumerate(gdf.geometry.iloc[1:])] #note the 1:, equivalent to i+1\n",
    "    tmp_dfp[:0] = [0]\n",
    "    gdf['dx'] = pd.Series(tmp_dfp) \n",
    "    gdf['distan_cum'] = gdf.dx.cumsum().copy()\n",
    "    \n",
    "def add_dice_thickndx(gdf):\n",
    "    \"\"\"\n",
    "    Input: geodataframe\n",
    "    Output: Adds columns 'dice_thickn' and 'dice_thickndx' to the geodataframe\n",
    "    \"\"\"\n",
    "    \n",
    "    gdf['dice_thickn'] = gdf.ice_thickn.diff().copy()\n",
    "        \n",
    "    gdf['dice_thickndx'] = gdf.dice_thickn.to_numpy()/gdf.dx.to_numpy()"
   ]
  },
  {
   "cell_type": "code",
   "execution_count": 10,
   "metadata": {},
   "outputs": [],
   "source": [
    "ll = {} #a dictionary of geodataframes of radarlines over KIS2, ie one gdf for each line.\n",
    "\n",
    "for line in bed_gdf[bed_gdf.camp =='KIS2'].line_name.unique().tolist():\n",
    "    ll[line] = bed_gdf[(bed_gdf.line_name==line) & (bed_gdf.camp=='KIS2')].copy()\n",
    "    ll[line].sort_values(by='x',inplace=True)\n",
    "    ll[line].reset_index(drop=True,inplace=True)\n",
    "    add_distance_to_gdf(ll[line])\n",
    "    add_dice_thickndx(ll[line])\n",
    "    "
   ]
  },
  {
   "cell_type": "code",
   "execution_count": 34,
   "metadata": {},
   "outputs": [],
   "source": [
    "channel = gpd.read_file('/Volumes/arc_04/FIELD_DATA/K8621920/RES/SHARE_SHAPEFILES/interpolated_channel_mid.shp')\n",
    "channel_ls = LineString(channel.geometry.tolist())"
   ]
  },
  {
   "cell_type": "code",
   "execution_count": 11,
   "metadata": {},
   "outputs": [],
   "source": [
    "#no line0 \n",
    "cross_channel_lines = [ 'line7p75','line7p5','line7p25','line7', 'line6','lineold5p5','line5','lineAPREScross','line4','line3','line2','line1',]"
   ]
  },
  {
   "cell_type": "code",
   "execution_count": 84,
   "metadata": {},
   "outputs": [],
   "source": [
    "channel_intersections = {}\n",
    "for key,line in ll.items():\n",
    "    line_ls = LineString(line.geometry.tolist()) #line linestring\n",
    "    if line_ls.intersects(channel_ls):\n",
    "        channel_intersections[key] = line_ls.intersection(channel_ls)"
   ]
  },
  {
   "cell_type": "code",
   "execution_count": 85,
   "metadata": {},
   "outputs": [],
   "source": [
    "channel_intersections['line7p75'] = channel.geometry.iloc[0]"
   ]
  },
  {
   "cell_type": "code",
   "execution_count": 86,
   "metadata": {},
   "outputs": [],
   "source": [
    "channel_intersections_gdf = gpd.GeoDataFrame({'line_names':list(channel_intersections.keys()),\n",
    "                                            'intersection_points': list(channel_intersections.values()) },\n",
    "                                            geometry = 'intersection_points',crs=\"EPSG:3031\")"
   ]
  },
  {
   "cell_type": "code",
   "execution_count": 87,
   "metadata": {},
   "outputs": [],
   "source": [
    "channel_intersections_gdf.drop([9,11],axis=0).to_file('/Volumes/arc_04/FIELD_DATA/K8621920/RES/SHARE_SHAPEFILES/radar_channel_midpoints.shp')"
   ]
  },
  {
   "cell_type": "markdown",
   "metadata": {},
   "source": [
    "## Comment\n",
    "\n",
    "Couldnt write the down channel lines as have multiple points and GPD didnt like multipoints"
   ]
  },
  {
   "cell_type": "markdown",
   "metadata": {},
   "source": [
    "# Notes on waypoints\n",
    "\n",
    "see /Users/home/whitefar/DATA/FIELD_ANT_19/PRE_FIELD_21/plan_for_ApRES.shp\n",
    "\n",
    "- Cp16 to Cp25 were single epoch in Dec 2019\n",
    "\n",
    "- Cp26 to Cp33 extras suggested.\n",
    "\n",
    "## Triage list\n",
    "\n",
    "A) First do up channel second epoch. files on plan_for_ApRES.shp:\n",
    "1. Cp26\n",
    "2. Cp25\n",
    "1. Cp24\n",
    "2. Cp23\n",
    "1. Cp22\n",
    "2. Cp21\n",
    "1. Cp20\n",
    "2. Cp19\n",
    "1. Cp18\n",
    "2. Cp17\n",
    "1. Cp16\n",
    "\n",
    "\n",
    "B) Second do first epoch further up channel. Files on plan_for_ApRES.shp\n",
    "1. Cp27\n",
    "1. Cp28\n",
    "1. Cp29_drill\n",
    "1. Cp30\n",
    "1. Cp31\n",
    "1. Cp32\n",
    "1. Cp33\n",
    "1. Cp34\n",
    "\n",
    "C) Third repeat ApRESS cross channel\n",
    "\n",
    "D) install ApRES at Cp_29_drill\n"
   ]
  },
  {
   "cell_type": "code",
   "execution_count": null,
   "metadata": {},
   "outputs": [],
   "source": []
  }
 ],
 "metadata": {
  "kernelspec": {
   "display_name": "remote_sensing",
   "language": "python",
   "name": "remote_sensing"
  },
  "language_info": {
   "codemirror_mode": {
    "name": "ipython",
    "version": 3
   },
   "file_extension": ".py",
   "mimetype": "text/x-python",
   "name": "python",
   "nbconvert_exporter": "python",
   "pygments_lexer": "ipython3",
   "version": "3.7.2"
  }
 },
 "nbformat": 4,
 "nbformat_minor": 4
}
