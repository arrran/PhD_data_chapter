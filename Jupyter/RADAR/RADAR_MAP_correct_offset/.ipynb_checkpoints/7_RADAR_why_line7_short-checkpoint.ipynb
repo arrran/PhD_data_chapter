{
 "cells": [
  {
   "cell_type": "markdown",
   "metadata": {},
   "source": [
    "# Why line7 short in huws file\n",
    "\n",
    "Problem, line7 was shorter than it should be. This notebook was used to find the problem\n",
    "\n",
    "VERDICT, the line i gave huw was short\n",
    "\n",
    "FIXED, redone"
   ]
  },
  {
   "cell_type": "code",
   "execution_count": 2,
   "metadata": {},
   "outputs": [],
   "source": [
    "import matplotlib.pyplot as plt\n",
    "import numpy as np\n",
    "import glob\n",
    "import os\n",
    "import sys\n",
    "import time\n",
    "import datetime as dt\n",
    "import pandas as pd\n",
    "import geopandas as gpd\n",
    "import scipy as sp\n",
    "from scipy import signal\n",
    "from tqdm.notebook import tqdm\n",
    "\n",
    "from shapely.geometry import Point, LineString, Polygon, MultiPoint\n",
    "import fiona\n",
    "from shapely.ops import nearest_points"
   ]
  },
  {
   "cell_type": "code",
   "execution_count": 81,
   "metadata": {},
   "outputs": [],
   "source": [
    "aa = gpd.read_file('/Users/home/whitefar/DATA/FIELD_ANT_19/POST_FIELD/RES/PROCESSED_LINES_GISFILE/line7.gpkg')\n",
    "a = gpd.read_file('/Users/home/whitefar/DATA/FIELD_ANT_19/POST_FIELD/RES/PROCESSED_LINES_GISFILE/line8.gpkg')\n",
    "b = gpd.read_file('/Users/home/whitefar/DATA/FIELD_ANT_19/POST_FIELD/RES/PROCESSED_LINES_GISFILE/line6.gpkg')"
   ]
  },
  {
   "cell_type": "code",
   "execution_count": 80,
   "metadata": {},
   "outputs": [
    {
     "data": {
      "text/plain": [
       "timestamp                                              1.57748e+09\n",
       "height                                                     67.6114\n",
       "dt                                                          1.0368\n",
       "velocity                                                   0.92497\n",
       "acc                                                       0.512708\n",
       "dx                                                               0\n",
       "distan_cum                                                       0\n",
       "raw_gradient                                               1.13121\n",
       "smoothed_gradient                                          1.20327\n",
       "theta                                                     0.877397\n",
       "year                                                          2019\n",
       "day                                                            361\n",
       "hour                                                            21\n",
       "minute                                                          58\n",
       "second                                                     32.0416\n",
       "x                                                          -381547\n",
       "y                                                          -725979\n",
       "geometry             POINT (-381547.1967820623 -725978.7696334325)\n",
       "Name: 0, dtype: object"
      ]
     },
     "execution_count": 80,
     "metadata": {},
     "output_type": "execute_result"
    }
   ],
   "source": [
    "aa.iloc[0]"
   ]
  },
  {
   "cell_type": "code",
   "execution_count": 82,
   "metadata": {},
   "outputs": [
    {
     "data": {
      "text/plain": [
       "[<matplotlib.lines.Line2D at 0x7fe0e11e62e8>]"
      ]
     },
     "execution_count": 82,
     "metadata": {},
     "output_type": "execute_result"
    },
    {
     "data": {
      "image/png": "[encoded data removed]",
      "text/plain": [
       "<Figure size 432x288 with 1 Axes>"
      ]
     },
     "metadata": {
      "needs_background": "light"
     },
     "output_type": "display_data"
    }
   ],
   "source": [
    "plt.plot(aa.x,aa.y)\n",
    "plt.plot(a.x,a.y)\n",
    "plt.plot(b.x,b.y)"
   ]
  },
  {
   "cell_type": "code",
   "execution_count": 83,
   "metadata": {},
   "outputs": [],
   "source": [
    "#Indeed. Line7 looks short"
   ]
  },
  {
   "cell_type": "code",
   "execution_count": 85,
   "metadata": {},
   "outputs": [],
   "source": [
    "lines = glob.glob('/Users/home/whitefar/DATA/FIELD_ANT_19/POST_FIELD/RES/PROCESSED_LINES_GISFILE/line*.gpkg')"
   ]
  },
  {
   "cell_type": "code",
   "execution_count": 89,
   "metadata": {},
   "outputs": [
    {
     "name": "stdout",
     "output_type": "stream",
     "text": [
      "9298.451295021981\n",
      "E/lineAPRESdown.gpkg\n",
      "4615.135079429233\n",
      "S_GISFILE/line8.gpkg\n",
      "4513.47802292873\n",
      "S_GISFILE/line6.gpkg\n",
      "4912.459713082942\n",
      "_GISFILE/line11.gpkg\n",
      "1139.4346201895364\n",
      "E/lineback2camp.gpkg\n",
      "8575.294207520175\n",
      "LE/line0KIS1_dc.gpkg\n",
      "4684.568075687603\n",
      "S_GISFILE/line4.gpkg\n",
      "4786.03238137137\n",
      "S_GISFILE/line2.gpkg\n",
      "20316.62474431043\n",
      "FILE/lineseis12.gpkg\n",
      "6924.087374722106\n",
      "FILE/line0bKIS1.gpkg\n",
      "3765.9278778076\n",
      "S_GISFILE/line7.gpkg\n",
      "nan\n",
      "SFILE/linestart.gpkg\n",
      "11932.908980943335\n",
      "FILE/lineupchan.gpkg\n",
      "8594.739843200545\n",
      "GISFILE/line250.gpkg\n",
      "8937.4278700427\n",
      "LE/linedownchan.gpkg\n",
      "4862.1048911095395\n",
      "S_GISFILE/line3.gpkg\n",
      "4602.147650418305\n",
      "_GISFILE/line14.gpkg\n",
      "4738.314405360154\n",
      "_GISFILE/line13.gpkg\n",
      "nan\n",
      "GISFILE/lineend.gpkg\n",
      "1825.8271198526982\n",
      "GISFILE/line7p5.gpkg\n",
      "19949.42694164172\n",
      "FILE/lineseis34.gpkg\n",
      "8721.175078831677\n",
      "ISFILE/linen500.gpkg\n",
      "4620.158139734324\n",
      "S_GISFILE/line9.gpkg\n",
      "1808.3359632942959\n",
      "ISFILE/line7p75.gpkg\n",
      "4730.549470068786\n",
      "_GISFILE/line10.gpkg\n",
      "4613.395311396142\n",
      "_GISFILE/line12.gpkg\n",
      "8575.294207520175\n",
      "SFILE/line0KIS1.gpkg\n",
      "4135.233186520568\n",
      "S_GISFILE/line0.gpkg\n",
      "10036.403986759278\n",
      "FILE/lineseis56.gpkg\n",
      "4250.685889045811\n",
      "/lineAPREScross.gpkg\n",
      "8641.624497318162\n",
      "ISFILE/linen250.gpkg\n",
      "8837.045151932523\n",
      "GISFILE/line500.gpkg\n",
      "4565.977091837023\n",
      "S_GISFILE/line5.gpkg\n",
      "1802.2701603845758\n",
      "ISFILE/line7p25.gpkg\n",
      "4206.178156882539\n",
      "S_GISFILE/line1.gpkg\n"
     ]
    }
   ],
   "source": [
    "for line in lines:\n",
    "    print(gpd.read_file(line).distan_cum.iloc[-1])\n",
    "    print(line[-20:])"
   ]
  },
  {
   "cell_type": "code",
   "execution_count": null,
   "metadata": {},
   "outputs": [],
   "source": []
  }
 ],
 "metadata": {
  "kernelspec": {
   "display_name": "remote_sensing",
   "language": "python",
   "name": "remote_sensing"
  },
  "language_info": {
   "codemirror_mode": {
    "name": "ipython",
    "version": 3
   },
   "file_extension": ".py",
   "mimetype": "text/x-python",
   "name": "python",
   "nbconvert_exporter": "python",
   "pygments_lexer": "ipython3",
   "version": "3.7.2"
  }
 },
 "nbformat": 4,
 "nbformat_minor": 4
}
