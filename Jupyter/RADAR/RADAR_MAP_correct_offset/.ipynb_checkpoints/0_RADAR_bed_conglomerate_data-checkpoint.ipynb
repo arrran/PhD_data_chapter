{
 "cells": [
  {
   "cell_type": "markdown",
   "metadata": {},
   "source": [
    "# Conglomerate RADAR data of picked bed from radargrams\n",
    "\n",
    "\n",
    "- Huw put .txt files in /Volumes/arc_04/FIELD_DATA/K8621920/RES/PROCESSED_LINES/radar3View_JCS_*.txt\n",
    "- The DELAY column is time. \n",
    "- This Converts DELAY to depth.\n",
    "- saves all data at /Volumes/arc_04/FIELD_DATA/K8621920/RES/PROCESSED_LINES/picked_bed.shp\n",
    "\n",
    "NB Look at the .jcs file to map from the SEQnum (the * in the file name) to other names.\n"
   ]
  },
  {
   "cell_type": "code",
   "execution_count": 1,
   "metadata": {},
   "outputs": [],
   "source": [
    "import matplotlib.pyplot as plt\n",
    "import numpy as np\n",
    "import glob\n",
    "import os\n",
    "import sys\n",
    "import time\n",
    "import datetime as dt\n",
    "import pandas as pd\n",
    "import geopandas as gpd\n",
    "import scipy as sp\n",
    "from scipy import signal\n",
    "from tqdm.notebook import tqdm\n",
    "import shutil\n",
    "from shapely.geometry import Point, LineString, Polygon\n",
    "import fiona"
   ]
  },
  {
   "cell_type": "code",
   "execution_count": 2,
   "metadata": {},
   "outputs": [
    {
     "data": {
      "text/plain": [
       "('picked_bed', '.shp')"
      ]
     },
     "execution_count": 2,
     "metadata": {},
     "output_type": "execute_result"
    }
   ],
   "source": [
    "p = '/Volumes/arc_04/FIELD_DATA/K8621920/RES/PROCESSED_LINES/picked_bed.shp'\n",
    "os.path.splitext(os.path.basename(p))"
   ]
  },
  {
   "cell_type": "code",
   "execution_count": 3,
   "metadata": {},
   "outputs": [
    {
     "data": {
      "text/plain": [
       "['/Volumes/arc_04/FIELD_DATA/K8621920/RES/PROCESSED_LINES/radar3View_JCS_6_ICETHK.txt',\n",
       " '/Volumes/arc_04/FIELD_DATA/K8621920/RES/PROCESSED_LINES/radar3View_JCS_10_ICETHK.txt',\n",
       " '/Volumes/arc_04/FIELD_DATA/K8621920/RES/PROCESSED_LINES/radar3View_JCS_26_ICETHK.txt',\n",
       " '/Volumes/arc_04/FIELD_DATA/K8621920/RES/PROCESSED_LINES/radar3View_JCS_43_ICETHK.txt',\n",
       " '/Volumes/arc_04/FIELD_DATA/K8621920/RES/PROCESSED_LINES/radar3View_JCS_4_ICETHK.txt',\n",
       " '/Volumes/arc_04/FIELD_DATA/K8621920/RES/PROCESSED_LINES/radar3View_JCS_41_ICETHK.txt',\n",
       " '/Volumes/arc_04/FIELD_DATA/K8621920/RES/PROCESSED_LINES/radar3View_JCS_16_ICETHK.txt',\n",
       " '/Volumes/arc_04/FIELD_DATA/K8621920/RES/PROCESSED_LINES/radar3View_JCS_47_ICETHK.txt',\n",
       " '/Volumes/arc_04/FIELD_DATA/K8621920/RES/PROCESSED_LINES/radar3View_JCS_8_ICETHK.txt',\n",
       " '/Volumes/arc_04/FIELD_DATA/K8621920/RES/PROCESSED_LINES/radar3View_JCS_48_ICETHK.txt',\n",
       " '/Volumes/arc_04/FIELD_DATA/K8621920/RES/PROCESSED_LINES/radar3View_JCS_30_ICETHK.txt',\n",
       " '/Volumes/arc_04/FIELD_DATA/K8621920/RES/PROCESSED_LINES/radar3View_JCS_33_ICETHK.txt',\n",
       " '/Volumes/arc_04/FIELD_DATA/K8621920/RES/PROCESSED_LINES/radar3View_JCS_17_ICETHK.txt',\n",
       " '/Volumes/arc_04/FIELD_DATA/K8621920/RES/PROCESSED_LINES/radar3View_JCS_40_ICETHK.txt',\n",
       " '/Volumes/arc_04/FIELD_DATA/K8621920/RES/PROCESSED_LINES/radar3View_JCS_44_ICETHK.txt',\n",
       " '/Volumes/arc_04/FIELD_DATA/K8621920/RES/PROCESSED_LINES/radar3View_JCS_1_ICETHK.txt',\n",
       " '/Volumes/arc_04/FIELD_DATA/K8621920/RES/PROCESSED_LINES/radar3View_JCS_31_ICETHK.txt',\n",
       " '/Volumes/arc_04/FIELD_DATA/K8621920/RES/PROCESSED_LINES/radar3View_JCS_45_ICETHK.txt',\n",
       " '/Volumes/arc_04/FIELD_DATA/K8621920/RES/PROCESSED_LINES/radar3View_JCS_14_ICETHK.txt',\n",
       " '/Volumes/arc_04/FIELD_DATA/K8621920/RES/PROCESSED_LINES/radar3View_JCS_27_ICETHK.txt',\n",
       " '/Volumes/arc_04/FIELD_DATA/K8621920/RES/PROCESSED_LINES/radar3View_JCS_46_ICETHK.txt',\n",
       " '/Volumes/arc_04/FIELD_DATA/K8621920/RES/PROCESSED_LINES/radar3View_JCS_22_ICETHK.txt',\n",
       " '/Volumes/arc_04/FIELD_DATA/K8621920/RES/PROCESSED_LINES/radar3View_JCS_35_ICETHK.txt',\n",
       " '/Volumes/arc_04/FIELD_DATA/K8621920/RES/PROCESSED_LINES/radar3View_JCS_24_ICETHK.txt',\n",
       " '/Volumes/arc_04/FIELD_DATA/K8621920/RES/PROCESSED_LINES/radar3View_JCS_23_ICETHK.txt',\n",
       " '/Volumes/arc_04/FIELD_DATA/K8621920/RES/PROCESSED_LINES/radar3View_JCS_36_ICETHK.txt',\n",
       " '/Volumes/arc_04/FIELD_DATA/K8621920/RES/PROCESSED_LINES/radar3View_JCS_3_ICETHK.txt',\n",
       " '/Volumes/arc_04/FIELD_DATA/K8621920/RES/PROCESSED_LINES/radar3View_JCS_28_ICETHK.txt',\n",
       " '/Volumes/arc_04/FIELD_DATA/K8621920/RES/PROCESSED_LINES/radar3View_JCS_15_ICETHK.txt',\n",
       " '/Volumes/arc_04/FIELD_DATA/K8621920/RES/PROCESSED_LINES/radar3View_JCS_20_ICETHK.txt',\n",
       " '/Volumes/arc_04/FIELD_DATA/K8621920/RES/PROCESSED_LINES/radar3View_JCS_38_ICETHK.txt',\n",
       " '/Volumes/arc_04/FIELD_DATA/K8621920/RES/PROCESSED_LINES/radar3View_JCS_34_ICETHK.txt',\n",
       " '/Volumes/arc_04/FIELD_DATA/K8621920/RES/PROCESSED_LINES/radar3View_JCS_7_ICETHK.txt',\n",
       " '/Volumes/arc_04/FIELD_DATA/K8621920/RES/PROCESSED_LINES/radar3View_JCS_9_ICETHK.txt',\n",
       " '/Volumes/arc_04/FIELD_DATA/K8621920/RES/PROCESSED_LINES/radar3View_JCS_12_ICETHK.txt',\n",
       " '/Volumes/arc_04/FIELD_DATA/K8621920/RES/PROCESSED_LINES/radar3View_JCS_21_ICETHK.txt',\n",
       " '/Volumes/arc_04/FIELD_DATA/K8621920/RES/PROCESSED_LINES/radar3View_JCS_13_ICETHK.txt',\n",
       " '/Volumes/arc_04/FIELD_DATA/K8621920/RES/PROCESSED_LINES/radar3View_JCS_18_ICETHK.txt',\n",
       " '/Volumes/arc_04/FIELD_DATA/K8621920/RES/PROCESSED_LINES/radar3View_JCS_19_ICETHK.txt',\n",
       " '/Volumes/arc_04/FIELD_DATA/K8621920/RES/PROCESSED_LINES/radar3View_JCS_42_ICETHK.txt',\n",
       " '/Volumes/arc_04/FIELD_DATA/K8621920/RES/PROCESSED_LINES/radar3View_JCS_39_ICETHK.txt',\n",
       " '/Volumes/arc_04/FIELD_DATA/K8621920/RES/PROCESSED_LINES/radar3View_JCS_11_ICETHK.txt',\n",
       " '/Volumes/arc_04/FIELD_DATA/K8621920/RES/PROCESSED_LINES/radar3View_JCS_29_ICETHK.txt',\n",
       " '/Volumes/arc_04/FIELD_DATA/K8621920/RES/PROCESSED_LINES/radar3View_JCS_37_ICETHK.txt',\n",
       " '/Volumes/arc_04/FIELD_DATA/K8621920/RES/PROCESSED_LINES/radar3View_JCS_25_ICETHK.txt',\n",
       " '/Volumes/arc_04/FIELD_DATA/K8621920/RES/PROCESSED_LINES/radar3View_JCS_5_ICETHK.txt',\n",
       " '/Volumes/arc_04/FIELD_DATA/K8621920/RES/PROCESSED_LINES/radar3View_JCS_32_ICETHK.txt',\n",
       " '/Volumes/arc_04/FIELD_DATA/K8621920/RES/PROCESSED_LINES/radar3View_JCS_2_ICETHK.txt',\n",
       " '/Volumes/arc_04/FIELD_DATA/K8621920/RES/PROCESSED_LINES/radar3View_JCS_49_ICETHK.txt']"
      ]
     },
     "execution_count": 3,
     "metadata": {},
     "output_type": "execute_result"
    }
   ],
   "source": [
    "paths = glob.glob('/Volumes/arc_04/FIELD_DATA/K8621920/RES/PROCESSED_LINES/radar3View_JCS_*_ICETHK.txt')\n",
    "paths"
   ]
  },
  {
   "cell_type": "markdown",
   "metadata": {},
   "source": [
    "### The Data, ie the picked beds look like:"
   ]
  },
  {
   "cell_type": "code",
   "execution_count": 4,
   "metadata": {},
   "outputs": [
    {
     "name": "stdout",
     "output_type": "stream",
     "text": [
      "CDP SOURCE_X SOURCE_Y DELAY ELEVATION YEAR DAY HOUR MINUTE SECOND \n",
      "100 -38931070 -72294780 9230 9764.36 2019 363 1 12 2497 \n",
      "101 -38930970 -72294600 9230 9763.94 2019 363 1 12 2600 \n",
      "102 -38930820 -72294330 9230 9763.29 2019 363 1 12 2799 \n",
      "103 -38930620 -72293980 9230 9762.48 2019 363 1 12 2998 \n",
      "104 -38930530 -72293810 9230 9762.08 2019 363 1 12 3101 \n",
      "105 -38930350 -72293460 9230 9761.32 2019 363 1 12 3300 \n",
      "106 -38930260 -72293270 9230 9760.93 2019 363 1 12 3404 \n",
      "107 -38930060 -72292890 9230 9760.11 2019 363 1 12 3603 \n",
      "108 -38929980 -72292720 9230 9759.75 2019 363 1 12 3698 \n"
     ]
    }
   ],
   "source": [
    "!head {paths[0]}"
   ]
  },
  {
   "cell_type": "code",
   "execution_count": 6,
   "metadata": {},
   "outputs": [
    {
     "name": "stdout",
     "output_type": "stream",
     "text": [
      "CDP SOURCE_X SOURCE_Y DELAY ELEVATION YEAR DAY HOUR MINUTE SECOND \n",
      "100 -37997670 -72935560 8090 5230.75 2019 358 4 25 2104 \n",
      "101 -37997530 -72935460 8090 5229.17 2019 358 4 25 2199 \n",
      "102 -37997260 -72935240 8080 5225.98 2019 358 4 25 2398 \n",
      "103 -37996940 -72934980 8080 5222.36 2019 358 4 25 2597 \n",
      "104 -37996790 -72934850 8080 5220.64 2019 358 4 25 2700 \n",
      "105 -37996620 -72934710 8080 5218.71 2019 358 4 25 2804 \n",
      "106 -37996300 -72934420 8080 5214.95 2019 358 4 25 3003 \n",
      "107 -37996130 -72934290 8080 5213.08 2019 358 4 25 3098 \n",
      "108 -37995780 -72933980 8080 5209.01 2019 358 4 25 3296 \n"
     ]
    }
   ],
   "source": [
    "!head /Volumes/arc_04/FIELD_DATA/K8621920/RES/PROCESSED_LINES/radar3View_JCS_13_ICETHK.txt"
   ]
  },
  {
   "cell_type": "markdown",
   "metadata": {},
   "source": [
    "## Huws indexing SEQnum is different to arrans, Name. \n",
    "## get from one to the other other usind this picked_bed_metadata"
   ]
  },
  {
   "cell_type": "code",
   "execution_count": 7,
   "metadata": {},
   "outputs": [
    {
     "name": "stdout",
     "output_type": "stream",
     "text": [
      "SEQnum Name           FirstSP  LastSP   NTraces  NTraces2 NPlot    Static   MinOffset MaxOffset Inc    Site   Dir    \n",
      " 1      line7                            1743     1255     628      1250     0         376126    300           LTOR\n",
      " 2      line9                            2167     1540     770      1250     0         461583    300           LTOR\n",
      " 3      line0                            1785     1378     689      1250     0         413181    300           LTOR\n",
      " 4      line10                           2582     1577     788      1250     0         472866    300           LTOR\n",
      " 5      line11                           2456     1638     819      1250     0         491087    300           LTOR\n",
      " 6      line12                           2176     1538     769      1250     0         461119    300           LTOR\n",
      " 7      line13                           2337     1579     790      1250     0         473550    300           LTOR\n",
      " 8      line14                           2152     1534     767      1250     0         459872    300           LTOR\n",
      " 9      line1                            2060     1403     702      1250     0         420475    300           LTOR\n"
     ]
    }
   ],
   "source": [
    " !head /Users/home/whitefar/DATA/FIELD_ANT_19/POST_FIELD/RADAR_MAP/picked_bed_metadata.csv"
   ]
  },
  {
   "cell_type": "code",
   "execution_count": 8,
   "metadata": {},
   "outputs": [
    {
     "data": {
      "text/html": [
       "<div>\n",
       "<style scoped>\n",
       "    .dataframe tbody tr th:only-of-type {\n",
       "        vertical-align: middle;\n",
       "    }\n",
       "\n",
       "    .dataframe tbody tr th {\n",
       "        vertical-align: top;\n",
       "    }\n",
       "\n",
       "    .dataframe thead th {\n",
       "        text-align: right;\n",
       "    }\n",
       "</style>\n",
       "<table border=\"1\" class=\"dataframe\">\n",
       "  <thead>\n",
       "    <tr style=\"text-align: right;\">\n",
       "      <th></th>\n",
       "      <th>Name</th>\n",
       "      <th>FirstSP</th>\n",
       "      <th>LastSP</th>\n",
       "      <th>NTraces</th>\n",
       "      <th>NTraces2</th>\n",
       "      <th>NPlot</th>\n",
       "      <th>Static</th>\n",
       "      <th>MinOffset</th>\n",
       "      <th>MaxOffset</th>\n",
       "      <th>Inc</th>\n",
       "      <th>Site</th>\n",
       "      <th>Dir</th>\n",
       "    </tr>\n",
       "    <tr>\n",
       "      <th>SEQnum</th>\n",
       "      <th></th>\n",
       "      <th></th>\n",
       "      <th></th>\n",
       "      <th></th>\n",
       "      <th></th>\n",
       "      <th></th>\n",
       "      <th></th>\n",
       "      <th></th>\n",
       "      <th></th>\n",
       "      <th></th>\n",
       "      <th></th>\n",
       "      <th></th>\n",
       "    </tr>\n",
       "  </thead>\n",
       "  <tbody>\n",
       "    <tr>\n",
       "      <th>1</th>\n",
       "      <td>line7</td>\n",
       "      <td>1743</td>\n",
       "      <td>1255</td>\n",
       "      <td>628</td>\n",
       "      <td>1250</td>\n",
       "      <td>0</td>\n",
       "      <td>376126</td>\n",
       "      <td>300</td>\n",
       "      <td>LTOR</td>\n",
       "      <td>NaN</td>\n",
       "      <td>NaN</td>\n",
       "      <td>NaN</td>\n",
       "    </tr>\n",
       "    <tr>\n",
       "      <th>2</th>\n",
       "      <td>line9</td>\n",
       "      <td>2167</td>\n",
       "      <td>1540</td>\n",
       "      <td>770</td>\n",
       "      <td>1250</td>\n",
       "      <td>0</td>\n",
       "      <td>461583</td>\n",
       "      <td>300</td>\n",
       "      <td>LTOR</td>\n",
       "      <td>NaN</td>\n",
       "      <td>NaN</td>\n",
       "      <td>NaN</td>\n",
       "    </tr>\n",
       "    <tr>\n",
       "      <th>3</th>\n",
       "      <td>line0</td>\n",
       "      <td>1785</td>\n",
       "      <td>1378</td>\n",
       "      <td>689</td>\n",
       "      <td>1250</td>\n",
       "      <td>0</td>\n",
       "      <td>413181</td>\n",
       "      <td>300</td>\n",
       "      <td>LTOR</td>\n",
       "      <td>NaN</td>\n",
       "      <td>NaN</td>\n",
       "      <td>NaN</td>\n",
       "    </tr>\n",
       "    <tr>\n",
       "      <th>4</th>\n",
       "      <td>line10</td>\n",
       "      <td>2582</td>\n",
       "      <td>1577</td>\n",
       "      <td>788</td>\n",
       "      <td>1250</td>\n",
       "      <td>0</td>\n",
       "      <td>472866</td>\n",
       "      <td>300</td>\n",
       "      <td>LTOR</td>\n",
       "      <td>NaN</td>\n",
       "      <td>NaN</td>\n",
       "      <td>NaN</td>\n",
       "    </tr>\n",
       "    <tr>\n",
       "      <th>5</th>\n",
       "      <td>line11</td>\n",
       "      <td>2456</td>\n",
       "      <td>1638</td>\n",
       "      <td>819</td>\n",
       "      <td>1250</td>\n",
       "      <td>0</td>\n",
       "      <td>491087</td>\n",
       "      <td>300</td>\n",
       "      <td>LTOR</td>\n",
       "      <td>NaN</td>\n",
       "      <td>NaN</td>\n",
       "      <td>NaN</td>\n",
       "    </tr>\n",
       "  </tbody>\n",
       "</table>\n",
       "</div>"
      ],
      "text/plain": [
       "          Name  FirstSP  LastSP  NTraces  NTraces2  NPlot  Static  MinOffset  \\\n",
       "SEQnum                                                                         \n",
       "1        line7     1743    1255      628      1250      0  376126        300   \n",
       "2        line9     2167    1540      770      1250      0  461583        300   \n",
       "3        line0     1785    1378      689      1250      0  413181        300   \n",
       "4       line10     2582    1577      788      1250      0  472866        300   \n",
       "5       line11     2456    1638      819      1250      0  491087        300   \n",
       "\n",
       "       MaxOffset  Inc  Site  Dir  \n",
       "SEQnum                            \n",
       "1           LTOR  NaN   NaN  NaN  \n",
       "2           LTOR  NaN   NaN  NaN  \n",
       "3           LTOR  NaN   NaN  NaN  \n",
       "4           LTOR  NaN   NaN  NaN  \n",
       "5           LTOR  NaN   NaN  NaN  "
      ]
     },
     "execution_count": 8,
     "metadata": {},
     "output_type": "execute_result"
    }
   ],
   "source": [
    "picked_bed_metadata = pd.read_csv('/Users/home/whitefar/DATA/FIELD_ANT_19/POST_FIELD/RADAR_MAP/picked_bed_metadata.csv',header=0,delim_whitespace=True,index_col=0)\n",
    "picked_bed_metadata.head()"
   ]
  },
  {
   "cell_type": "code",
   "execution_count": 9,
   "metadata": {},
   "outputs": [
    {
     "data": {
      "text/html": [
       "<div>\n",
       "<style scoped>\n",
       "    .dataframe tbody tr th:only-of-type {\n",
       "        vertical-align: middle;\n",
       "    }\n",
       "\n",
       "    .dataframe tbody tr th {\n",
       "        vertical-align: top;\n",
       "    }\n",
       "\n",
       "    .dataframe thead th {\n",
       "        text-align: right;\n",
       "    }\n",
       "</style>\n",
       "<table border=\"1\" class=\"dataframe\">\n",
       "  <thead>\n",
       "    <tr style=\"text-align: right;\">\n",
       "      <th></th>\n",
       "      <th>Name</th>\n",
       "      <th>FirstSP</th>\n",
       "      <th>LastSP</th>\n",
       "      <th>NTraces</th>\n",
       "      <th>NTraces2</th>\n",
       "      <th>NPlot</th>\n",
       "      <th>Static</th>\n",
       "      <th>MinOffset</th>\n",
       "      <th>MaxOffset</th>\n",
       "      <th>Inc</th>\n",
       "      <th>Site</th>\n",
       "      <th>Dir</th>\n",
       "    </tr>\n",
       "    <tr>\n",
       "      <th>SEQnum</th>\n",
       "      <th></th>\n",
       "      <th></th>\n",
       "      <th></th>\n",
       "      <th></th>\n",
       "      <th></th>\n",
       "      <th></th>\n",
       "      <th></th>\n",
       "      <th></th>\n",
       "      <th></th>\n",
       "      <th></th>\n",
       "      <th></th>\n",
       "      <th></th>\n",
       "    </tr>\n",
       "  </thead>\n",
       "  <tbody>\n",
       "    <tr>\n",
       "      <th>13</th>\n",
       "      <td>line4</td>\n",
       "      <td>2024</td>\n",
       "      <td>1562</td>\n",
       "      <td>781</td>\n",
       "      <td>1250</td>\n",
       "      <td>0</td>\n",
       "      <td>468301</td>\n",
       "      <td>300</td>\n",
       "      <td>LTOR</td>\n",
       "      <td>NaN</td>\n",
       "      <td>NaN</td>\n",
       "      <td>NaN</td>\n",
       "    </tr>\n",
       "  </tbody>\n",
       "</table>\n",
       "</div>"
      ],
      "text/plain": [
       "         Name  FirstSP  LastSP  NTraces  NTraces2  NPlot  Static  MinOffset  \\\n",
       "SEQnum                                                                        \n",
       "13      line4     2024    1562      781      1250      0  468301        300   \n",
       "\n",
       "       MaxOffset  Inc  Site  Dir  \n",
       "SEQnum                            \n",
       "13          LTOR  NaN   NaN  NaN  "
      ]
     },
     "execution_count": 9,
     "metadata": {},
     "output_type": "execute_result"
    }
   ],
   "source": [
    "picked_bed_metadata.query(\"Name=='line4'\")"
   ]
  },
  {
   "cell_type": "code",
   "execution_count": 10,
   "metadata": {},
   "outputs": [
    {
     "data": {
      "text/plain": [
       "'line9'"
      ]
     },
     "execution_count": 10,
     "metadata": {},
     "output_type": "execute_result"
    }
   ],
   "source": [
    "picked_bed_metadata.iloc[1]['Name']"
   ]
  },
  {
   "cell_type": "markdown",
   "metadata": {},
   "source": [
    "# Make big dataframe of all points"
   ]
  },
  {
   "cell_type": "code",
   "execution_count": 11,
   "metadata": {},
   "outputs": [
    {
     "data": {
      "application/vnd.jupyter.widget-view+json": {
       "model_id": "c82fc24c4f1e4b97ab851da2babb236b",
       "version_major": 2,
       "version_minor": 0
      },
      "text/plain": [
       "HBox(children=(FloatProgress(value=0.0, max=49.0), HTML(value='')))"
      ]
     },
     "metadata": {},
     "output_type": "display_data"
    },
    {
     "name": "stdout",
     "output_type": "stream",
     "text": [
      "\n"
     ]
    }
   ],
   "source": [
    "bed_df = pd.DataFrame({},columns=['CDP','SOURCE_X','SOURCE_Y','DELAY','line_name','ELEVATION','YEAR', 'DAY', 'HOUR', 'MINUTE', 'SECOND'])\n",
    "\n",
    "no_data_SEQnum = []\n",
    "\n",
    "for SEQnum in tqdm(picked_bed_metadata.index.tolist()):\n",
    "    \n",
    "    linename = picked_bed_metadata.loc[SEQnum]['Name']\n",
    "    \n",
    "    if linename in ['line0a', 'line0bKIS1']:\n",
    "        continue\n",
    "        \n",
    "    if linename in ['line7', 'line9', 'line0', 'line10', 'line11', 'line12', 'line13',\n",
    "                    'line14', 'line1', 'line2', 'line3', 'line4', 'line6', 'line7p25',\n",
    "                    'line7p5', 'line7p75', 'line8', 'lineAPREScross', 'lineAPRESdown', \n",
    "                    'lineback2camp', 'linedownchan', 'lineupchan', 'left02', 'left1011',\n",
    "                    'left1213', 'left1415', 'left35', 'left46', 'left79',\n",
    "                    'left810', 'right1112', 'right1314', 'right13', 'right24',\n",
    "                    'right68', 'right910', 'line5']:\n",
    "        camp = 'KIS2'\n",
    "    else:\n",
    "        camp = 'KIS1'\n",
    "            \n",
    "    \n",
    "    try:\n",
    "        line_df = pd.read_csv(f'/Volumes/arc_04/FIELD_DATA/K8621920/RES/PROCESSED_LINES/radar3View_JCS_{SEQnum}_ICETHK.txt',header=0,sep=' ')\n",
    "        line_df['line_name'] = picked_bed_metadata.loc[SEQnum]['Name']\n",
    "        line_df['SEQnum'] = SEQnum\n",
    "        line_df['camp'] = camp\n",
    "        bed_df = bed_df.append(line_df,ignore_index=True)\n",
    "        del line_df\n",
    "    except:\n",
    "        \n",
    "        print(f'SEQnum {SEQnum}, {linename} didnt work')\n",
    "        no_data_SEQnum.append(SEQnum)\n",
    "\n",
    "bed_df.rename(columns={'SOURCE_X':'x','SOURCE_Y':'y'},inplace=True)"
   ]
  },
  {
   "cell_type": "code",
   "execution_count": 12,
   "metadata": {},
   "outputs": [],
   "source": [
    "# need to divide x and y by 10\n",
    "bed_df.x = bed_df.x.astype('float').copy()\n",
    "bed_df.y = bed_df.y.astype('float').copy()\n",
    "bed_df.ELEVATION = bed_df.ELEVATION.astype('float').copy()\n",
    "bed_df.SECOND = bed_df.SECOND.astype('float').copy()\n",
    "\n",
    "bed_df.SEQnum = bed_df.SEQnum.astype('int').copy()"
   ]
  },
  {
   "cell_type": "code",
   "execution_count": 13,
   "metadata": {},
   "outputs": [],
   "source": [
    "bed_df.x = bed_df.x.div(100).copy()\n",
    "bed_df.y = bed_df.y.div(100).copy()\n",
    "bed_df.ELEVATION = bed_df.ELEVATION.div(100).copy()\n",
    "bed_df.SECOND = bed_df.SECOND.div(100).copy()"
   ]
  },
  {
   "cell_type": "code",
   "execution_count": 14,
   "metadata": {},
   "outputs": [],
   "source": [
    "bed_df['DELAY'] = [int(D) for D in bed_df.DELAY.tolist()]"
   ]
  },
  {
   "cell_type": "code",
   "execution_count": 15,
   "metadata": {},
   "outputs": [],
   "source": [
    "bed_df.rename(columns={'ELEVATION':'surf'},inplace=True)"
   ]
  },
  {
   "cell_type": "code",
   "execution_count": 16,
   "metadata": {},
   "outputs": [],
   "source": [
    "bed_df = bed_df.astype({'YEAR': 'str','DAY': 'str','MINUTE': 'str','HOUR': 'str','SECOND':'str'}).copy()"
   ]
  },
  {
   "cell_type": "code",
   "execution_count": 17,
   "metadata": {},
   "outputs": [
    {
     "data": {
      "text/plain": [
       "CDP             object\n",
       "x              float64\n",
       "y              float64\n",
       "DELAY            int64\n",
       "line_name       object\n",
       "surf           float64\n",
       "YEAR            object\n",
       "DAY             object\n",
       "HOUR            object\n",
       "MINUTE          object\n",
       "SECOND          object\n",
       "Unnamed: 10    float64\n",
       "SEQnum           int64\n",
       "camp            object\n",
       "dtype: object"
      ]
     },
     "execution_count": 17,
     "metadata": {},
     "output_type": "execute_result"
    }
   ],
   "source": [
    "bed_df.dtypes"
   ]
  },
  {
   "cell_type": "code",
   "execution_count": 18,
   "metadata": {},
   "outputs": [],
   "source": [
    "#pd.to_datetime(df['year'] * 1000 + df['doy'], format='%Y%j')\\n\",\n",
    "datetime = (pd.to_datetime(bed_df.YEAR + bed_df.DAY + bed_df.HOUR+ bed_df.MINUTE, format ='%Y%j%H%M' )+\n",
    "            pd.Series( [pd.to_timedelta(f'{t} seconds') for t in bed_df.SECOND.tolist()] )\n",
    "           )\n",
    "   "
   ]
  },
  {
   "cell_type": "code",
   "execution_count": 19,
   "metadata": {},
   "outputs": [],
   "source": [
    "#pd.to_datetime(df['year'] * 1000 + df['doy'], format='%Y%j')\n",
    "datetime = pd.to_datetime(bed_df.YEAR + bed_df.DAY + bed_df.HOUR+ bed_df.MINUTE, format ='%Y%j%H%M' ) + pd.Series( [pd.to_timedelta(f'{t} seconds') for t in bed_df.SECOND.tolist()] )"
   ]
  },
  {
   "cell_type": "code",
   "execution_count": 20,
   "metadata": {},
   "outputs": [],
   "source": [
    "iso_func = lambda t : t.isoformat()\n",
    "\n",
    "bed_df['time_UTC'] = datetime.apply(iso_func)"
   ]
  },
  {
   "cell_type": "code",
   "execution_count": 21,
   "metadata": {},
   "outputs": [
    {
     "data": {
      "text/html": [
       "<div>\n",
       "<style scoped>\n",
       "    .dataframe tbody tr th:only-of-type {\n",
       "        vertical-align: middle;\n",
       "    }\n",
       "\n",
       "    .dataframe tbody tr th {\n",
       "        vertical-align: top;\n",
       "    }\n",
       "\n",
       "    .dataframe thead th {\n",
       "        text-align: right;\n",
       "    }\n",
       "</style>\n",
       "<table border=\"1\" class=\"dataframe\">\n",
       "  <thead>\n",
       "    <tr style=\"text-align: right;\">\n",
       "      <th></th>\n",
       "      <th>CDP</th>\n",
       "      <th>x</th>\n",
       "      <th>y</th>\n",
       "      <th>DELAY</th>\n",
       "      <th>line_name</th>\n",
       "      <th>surf</th>\n",
       "      <th>YEAR</th>\n",
       "      <th>DAY</th>\n",
       "      <th>HOUR</th>\n",
       "      <th>MINUTE</th>\n",
       "      <th>SECOND</th>\n",
       "      <th>Unnamed: 10</th>\n",
       "      <th>SEQnum</th>\n",
       "      <th>camp</th>\n",
       "      <th>time_UTC</th>\n",
       "    </tr>\n",
       "  </thead>\n",
       "  <tbody>\n",
       "    <tr>\n",
       "      <th>0</th>\n",
       "      <td>100</td>\n",
       "      <td>-382160.3</td>\n",
       "      <td>-726598.7</td>\n",
       "      <td>8780</td>\n",
       "      <td>line7</td>\n",
       "      <td>71.2867</td>\n",
       "      <td>2019</td>\n",
       "      <td>361</td>\n",
       "      <td>21</td>\n",
       "      <td>52</td>\n",
       "      <td>1.0</td>\n",
       "      <td>NaN</td>\n",
       "      <td>1</td>\n",
       "      <td>KIS2</td>\n",
       "      <td>2019-12-27T21:52:01</td>\n",
       "    </tr>\n",
       "    <tr>\n",
       "      <th>1</th>\n",
       "      <td>101</td>\n",
       "      <td>-382158.5</td>\n",
       "      <td>-726597.0</td>\n",
       "      <td>8780</td>\n",
       "      <td>line7</td>\n",
       "      <td>71.2825</td>\n",
       "      <td>2019</td>\n",
       "      <td>361</td>\n",
       "      <td>21</td>\n",
       "      <td>52</td>\n",
       "      <td>2.98</td>\n",
       "      <td>NaN</td>\n",
       "      <td>1</td>\n",
       "      <td>KIS2</td>\n",
       "      <td>2019-12-27T21:52:02.980000</td>\n",
       "    </tr>\n",
       "    <tr>\n",
       "      <th>2</th>\n",
       "      <td>102</td>\n",
       "      <td>-382155.7</td>\n",
       "      <td>-726594.2</td>\n",
       "      <td>8780</td>\n",
       "      <td>line7</td>\n",
       "      <td>71.2759</td>\n",
       "      <td>2019</td>\n",
       "      <td>361</td>\n",
       "      <td>21</td>\n",
       "      <td>52</td>\n",
       "      <td>4.97</td>\n",
       "      <td>NaN</td>\n",
       "      <td>1</td>\n",
       "      <td>KIS2</td>\n",
       "      <td>2019-12-27T21:52:04.970000</td>\n",
       "    </tr>\n",
       "    <tr>\n",
       "      <th>3</th>\n",
       "      <td>103</td>\n",
       "      <td>-382154.0</td>\n",
       "      <td>-726592.4</td>\n",
       "      <td>8780</td>\n",
       "      <td>line7</td>\n",
       "      <td>71.2717</td>\n",
       "      <td>2019</td>\n",
       "      <td>361</td>\n",
       "      <td>21</td>\n",
       "      <td>52</td>\n",
       "      <td>6.01</td>\n",
       "      <td>NaN</td>\n",
       "      <td>1</td>\n",
       "      <td>KIS2</td>\n",
       "      <td>2019-12-27T21:52:06.010000</td>\n",
       "    </tr>\n",
       "    <tr>\n",
       "      <th>4</th>\n",
       "      <td>104</td>\n",
       "      <td>-382152.3</td>\n",
       "      <td>-726590.8</td>\n",
       "      <td>8780</td>\n",
       "      <td>line7</td>\n",
       "      <td>71.2678</td>\n",
       "      <td>2019</td>\n",
       "      <td>361</td>\n",
       "      <td>21</td>\n",
       "      <td>52</td>\n",
       "      <td>7.04</td>\n",
       "      <td>NaN</td>\n",
       "      <td>1</td>\n",
       "      <td>KIS2</td>\n",
       "      <td>2019-12-27T21:52:07.040000</td>\n",
       "    </tr>\n",
       "  </tbody>\n",
       "</table>\n",
       "</div>"
      ],
      "text/plain": [
       "   CDP         x         y  DELAY line_name     surf  YEAR  DAY HOUR MINUTE  \\\n",
       "0  100 -382160.3 -726598.7   8780     line7  71.2867  2019  361   21     52   \n",
       "1  101 -382158.5 -726597.0   8780     line7  71.2825  2019  361   21     52   \n",
       "2  102 -382155.7 -726594.2   8780     line7  71.2759  2019  361   21     52   \n",
       "3  103 -382154.0 -726592.4   8780     line7  71.2717  2019  361   21     52   \n",
       "4  104 -382152.3 -726590.8   8780     line7  71.2678  2019  361   21     52   \n",
       "\n",
       "  SECOND  Unnamed: 10  SEQnum  camp                    time_UTC  \n",
       "0    1.0          NaN       1  KIS2         2019-12-27T21:52:01  \n",
       "1   2.98          NaN       1  KIS2  2019-12-27T21:52:02.980000  \n",
       "2   4.97          NaN       1  KIS2  2019-12-27T21:52:04.970000  \n",
       "3   6.01          NaN       1  KIS2  2019-12-27T21:52:06.010000  \n",
       "4   7.04          NaN       1  KIS2  2019-12-27T21:52:07.040000  "
      ]
     },
     "execution_count": 21,
     "metadata": {},
     "output_type": "execute_result"
    }
   ],
   "source": [
    "bed_df.head()"
   ]
  },
  {
   "cell_type": "code",
   "execution_count": 22,
   "metadata": {},
   "outputs": [],
   "source": [
    "bed_df.drop(columns=['YEAR','DAY','HOUR','MINUTE','SECOND'],inplace=True)"
   ]
  },
  {
   "cell_type": "code",
   "execution_count": 23,
   "metadata": {},
   "outputs": [],
   "source": [
    "points = [Point(xy) for xy in zip(bed_df.x,bed_df.y)]\n",
    "bed_gdf = gpd.GeoDataFrame(bed_df,geometry=points,crs=\"EPSG:3031\")"
   ]
  },
  {
   "cell_type": "markdown",
   "metadata": {},
   "source": [
    "## all lines are visible"
   ]
  },
  {
   "cell_type": "code",
   "execution_count": 24,
   "metadata": {},
   "outputs": [
    {
     "data": {
      "text/plain": [
       "<AxesSubplot:>"
      ]
     },
     "execution_count": 24,
     "metadata": {},
     "output_type": "execute_result"
    },
    {
     "data": {
      "image/png": "[encoded data removed]",
      "text/plain": [
       "<Figure size 1584x1008 with 1 Axes>"
      ]
     },
     "metadata": {
      "needs_background": "light"
     },
     "output_type": "display_data"
    }
   ],
   "source": [
    "bed_gdf.plot(figsize=(22,14))"
   ]
  },
  {
   "cell_type": "code",
   "execution_count": 25,
   "metadata": {},
   "outputs": [
    {
     "data": {
      "text/plain": [
       "<AxesSubplot:>"
      ]
     },
     "execution_count": 25,
     "metadata": {},
     "output_type": "execute_result"
    },
    {
     "data": {
      "image/png": "[encoded data removed]",
      "text/plain": [
       "<Figure size 1584x1008 with 1 Axes>"
      ]
     },
     "metadata": {
      "needs_background": "light"
     },
     "output_type": "display_data"
    }
   ],
   "source": [
    "bed_gdf[bed_gdf.camp=='KIS2'].plot(figsize=(22,14))"
   ]
  },
  {
   "cell_type": "code",
   "execution_count": 26,
   "metadata": {},
   "outputs": [
    {
     "data": {
      "text/plain": [
       "<AxesSubplot:>"
      ]
     },
     "execution_count": 26,
     "metadata": {},
     "output_type": "execute_result"
    },
    {
     "data": {
      "image/png": "[encoded data removed]",
      "text/plain": [
       "<Figure size 1584x1008 with 1 Axes>"
      ]
     },
     "metadata": {
      "needs_background": "light"
     },
     "output_type": "display_data"
    }
   ],
   "source": [
    "bed_gdf[bed_gdf.camp=='KIS1'].plot(figsize=(22,14))"
   ]
  },
  {
   "cell_type": "code",
   "execution_count": 27,
   "metadata": {},
   "outputs": [
    {
     "data": {
      "text/html": [
       "<div>\n",
       "<style scoped>\n",
       "    .dataframe tbody tr th:only-of-type {\n",
       "        vertical-align: middle;\n",
       "    }\n",
       "\n",
       "    .dataframe tbody tr th {\n",
       "        vertical-align: top;\n",
       "    }\n",
       "\n",
       "    .dataframe thead th {\n",
       "        text-align: right;\n",
       "    }\n",
       "</style>\n",
       "<table border=\"1\" class=\"dataframe\">\n",
       "  <thead>\n",
       "    <tr style=\"text-align: right;\">\n",
       "      <th></th>\n",
       "      <th>CDP</th>\n",
       "      <th>x</th>\n",
       "      <th>y</th>\n",
       "      <th>DELAY</th>\n",
       "      <th>line_name</th>\n",
       "      <th>surf</th>\n",
       "      <th>Unnamed: 10</th>\n",
       "      <th>SEQnum</th>\n",
       "      <th>camp</th>\n",
       "      <th>time_UTC</th>\n",
       "      <th>geometry</th>\n",
       "    </tr>\n",
       "  </thead>\n",
       "  <tbody>\n",
       "    <tr>\n",
       "      <th>19806</th>\n",
       "      <td>100</td>\n",
       "      <td>-379976.7</td>\n",
       "      <td>-729355.6</td>\n",
       "      <td>8090</td>\n",
       "      <td>line4</td>\n",
       "      <td>52.3075</td>\n",
       "      <td>NaN</td>\n",
       "      <td>13</td>\n",
       "      <td>KIS2</td>\n",
       "      <td>2019-12-24T04:25:21.040000</td>\n",
       "      <td>POINT (-379976.700 -729355.600)</td>\n",
       "    </tr>\n",
       "    <tr>\n",
       "      <th>19807</th>\n",
       "      <td>101</td>\n",
       "      <td>-379975.3</td>\n",
       "      <td>-729354.6</td>\n",
       "      <td>8090</td>\n",
       "      <td>line4</td>\n",
       "      <td>52.2917</td>\n",
       "      <td>NaN</td>\n",
       "      <td>13</td>\n",
       "      <td>KIS2</td>\n",
       "      <td>2019-12-24T04:25:21.990000</td>\n",
       "      <td>POINT (-379975.300 -729354.600)</td>\n",
       "    </tr>\n",
       "    <tr>\n",
       "      <th>19808</th>\n",
       "      <td>102</td>\n",
       "      <td>-379972.6</td>\n",
       "      <td>-729352.4</td>\n",
       "      <td>8080</td>\n",
       "      <td>line4</td>\n",
       "      <td>52.2598</td>\n",
       "      <td>NaN</td>\n",
       "      <td>13</td>\n",
       "      <td>KIS2</td>\n",
       "      <td>2019-12-24T04:25:23.980000</td>\n",
       "      <td>POINT (-379972.600 -729352.400)</td>\n",
       "    </tr>\n",
       "    <tr>\n",
       "      <th>19809</th>\n",
       "      <td>103</td>\n",
       "      <td>-379969.4</td>\n",
       "      <td>-729349.8</td>\n",
       "      <td>8080</td>\n",
       "      <td>line4</td>\n",
       "      <td>52.2236</td>\n",
       "      <td>NaN</td>\n",
       "      <td>13</td>\n",
       "      <td>KIS2</td>\n",
       "      <td>2019-12-24T04:25:25.970000</td>\n",
       "      <td>POINT (-379969.400 -729349.800)</td>\n",
       "    </tr>\n",
       "    <tr>\n",
       "      <th>19810</th>\n",
       "      <td>104</td>\n",
       "      <td>-379967.9</td>\n",
       "      <td>-729348.5</td>\n",
       "      <td>8080</td>\n",
       "      <td>line4</td>\n",
       "      <td>52.2064</td>\n",
       "      <td>NaN</td>\n",
       "      <td>13</td>\n",
       "      <td>KIS2</td>\n",
       "      <td>2019-12-24T04:25:27</td>\n",
       "      <td>POINT (-379967.900 -729348.500)</td>\n",
       "    </tr>\n",
       "    <tr>\n",
       "      <th>...</th>\n",
       "      <td>...</td>\n",
       "      <td>...</td>\n",
       "      <td>...</td>\n",
       "      <td>...</td>\n",
       "      <td>...</td>\n",
       "      <td>...</td>\n",
       "      <td>...</td>\n",
       "      <td>...</td>\n",
       "      <td>...</td>\n",
       "      <td>...</td>\n",
       "      <td>...</td>\n",
       "    </tr>\n",
       "    <tr>\n",
       "      <th>21363</th>\n",
       "      <td>1657</td>\n",
       "      <td>-376806.8</td>\n",
       "      <td>-725929.8</td>\n",
       "      <td>8180</td>\n",
       "      <td>line4</td>\n",
       "      <td>47.1320</td>\n",
       "      <td>NaN</td>\n",
       "      <td>13</td>\n",
       "      <td>KIS2</td>\n",
       "      <td>2019-12-24T04:58:55.980000</td>\n",
       "      <td>POINT (-376806.800 -725929.800)</td>\n",
       "    </tr>\n",
       "    <tr>\n",
       "      <th>21364</th>\n",
       "      <td>1658</td>\n",
       "      <td>-376805.2</td>\n",
       "      <td>-725927.9</td>\n",
       "      <td>8180</td>\n",
       "      <td>line4</td>\n",
       "      <td>47.1249</td>\n",
       "      <td>NaN</td>\n",
       "      <td>13</td>\n",
       "      <td>KIS2</td>\n",
       "      <td>2019-12-24T04:58:57.010000</td>\n",
       "      <td>POINT (-376805.200 -725927.900)</td>\n",
       "    </tr>\n",
       "    <tr>\n",
       "      <th>21365</th>\n",
       "      <td>1659</td>\n",
       "      <td>-376802.5</td>\n",
       "      <td>-725924.8</td>\n",
       "      <td>8190</td>\n",
       "      <td>line4</td>\n",
       "      <td>47.1123</td>\n",
       "      <td>NaN</td>\n",
       "      <td>13</td>\n",
       "      <td>KIS2</td>\n",
       "      <td>2019-12-24T04:58:59</td>\n",
       "      <td>POINT (-376802.500 -725924.800)</td>\n",
       "    </tr>\n",
       "    <tr>\n",
       "      <th>21366</th>\n",
       "      <td>1660</td>\n",
       "      <td>-376801.2</td>\n",
       "      <td>-725923.2</td>\n",
       "      <td>8190</td>\n",
       "      <td>line4</td>\n",
       "      <td>47.1056</td>\n",
       "      <td>NaN</td>\n",
       "      <td>13</td>\n",
       "      <td>KIS2</td>\n",
       "      <td>2019-12-24T04:59:00.040000</td>\n",
       "      <td>POINT (-376801.200 -725923.200)</td>\n",
       "    </tr>\n",
       "    <tr>\n",
       "      <th>21367</th>\n",
       "      <td>1661</td>\n",
       "      <td>-376798.8</td>\n",
       "      <td>-725920.2</td>\n",
       "      <td>8190</td>\n",
       "      <td>line4</td>\n",
       "      <td>47.0931</td>\n",
       "      <td>NaN</td>\n",
       "      <td>13</td>\n",
       "      <td>KIS2</td>\n",
       "      <td>2019-12-24T04:59:02.020000</td>\n",
       "      <td>POINT (-376798.800 -725920.200)</td>\n",
       "    </tr>\n",
       "  </tbody>\n",
       "</table>\n",
       "<p>1562 rows × 11 columns</p>\n",
       "</div>"
      ],
      "text/plain": [
       "        CDP         x         y  DELAY line_name     surf  Unnamed: 10  \\\n",
       "19806   100 -379976.7 -729355.6   8090     line4  52.3075          NaN   \n",
       "19807   101 -379975.3 -729354.6   8090     line4  52.2917          NaN   \n",
       "19808   102 -379972.6 -729352.4   8080     line4  52.2598          NaN   \n",
       "19809   103 -379969.4 -729349.8   8080     line4  52.2236          NaN   \n",
       "19810   104 -379967.9 -729348.5   8080     line4  52.2064          NaN   \n",
       "...     ...       ...       ...    ...       ...      ...          ...   \n",
       "21363  1657 -376806.8 -725929.8   8180     line4  47.1320          NaN   \n",
       "21364  1658 -376805.2 -725927.9   8180     line4  47.1249          NaN   \n",
       "21365  1659 -376802.5 -725924.8   8190     line4  47.1123          NaN   \n",
       "21366  1660 -376801.2 -725923.2   8190     line4  47.1056          NaN   \n",
       "21367  1661 -376798.8 -725920.2   8190     line4  47.0931          NaN   \n",
       "\n",
       "       SEQnum  camp                    time_UTC  \\\n",
       "19806      13  KIS2  2019-12-24T04:25:21.040000   \n",
       "19807      13  KIS2  2019-12-24T04:25:21.990000   \n",
       "19808      13  KIS2  2019-12-24T04:25:23.980000   \n",
       "19809      13  KIS2  2019-12-24T04:25:25.970000   \n",
       "19810      13  KIS2         2019-12-24T04:25:27   \n",
       "...       ...   ...                         ...   \n",
       "21363      13  KIS2  2019-12-24T04:58:55.980000   \n",
       "21364      13  KIS2  2019-12-24T04:58:57.010000   \n",
       "21365      13  KIS2         2019-12-24T04:58:59   \n",
       "21366      13  KIS2  2019-12-24T04:59:00.040000   \n",
       "21367      13  KIS2  2019-12-24T04:59:02.020000   \n",
       "\n",
       "                              geometry  \n",
       "19806  POINT (-379976.700 -729355.600)  \n",
       "19807  POINT (-379975.300 -729354.600)  \n",
       "19808  POINT (-379972.600 -729352.400)  \n",
       "19809  POINT (-379969.400 -729349.800)  \n",
       "19810  POINT (-379967.900 -729348.500)  \n",
       "...                                ...  \n",
       "21363  POINT (-376806.800 -725929.800)  \n",
       "21364  POINT (-376805.200 -725927.900)  \n",
       "21365  POINT (-376802.500 -725924.800)  \n",
       "21366  POINT (-376801.200 -725923.200)  \n",
       "21367  POINT (-376798.800 -725920.200)  \n",
       "\n",
       "[1562 rows x 11 columns]"
      ]
     },
     "execution_count": 27,
     "metadata": {},
     "output_type": "execute_result"
    }
   ],
   "source": [
    "bed_gdf.query(\"line_name=='line4'\")"
   ]
  },
  {
   "cell_type": "code",
   "execution_count": 28,
   "metadata": {},
   "outputs": [],
   "source": [
    "bed_gdf.to_file('/Volumes/arc_04/FIELD_DATA/K8621920/RES/PROCESSED_LINES/picked_bed.shp')"
   ]
  },
  {
   "cell_type": "code",
   "execution_count": 29,
   "metadata": {},
   "outputs": [
    {
     "data": {
      "text/plain": [
       "55"
      ]
     },
     "execution_count": 29,
     "metadata": {},
     "output_type": "execute_result"
    }
   ],
   "source": [
    "int(55.5)"
   ]
  },
  {
   "cell_type": "markdown",
   "metadata": {},
   "source": [
    "# Convert DELAY to depth\n",
    "\n",
    "follow \"Investigations of the form and flow of ice sheets and glaciers using radio-echo sounding\"\n",
    "https://iopscience.iop.org/article/10.1088/0034-4885/67/10/R03/pdf\n",
    "\n",
    "168 nm/s ice velocity\n",
    "\n",
    "\"+\" 7 m firn correction\n",
    "\n",
    "DELAY is two way travel time\n",
    "\n",
    "$u  = d / t$\n",
    "\n",
    "\n",
    "$ t_{firm} = thickness_{firn} velocity_{firn} $\n",
    "\n",
    "$separationdistance^2 + depth^2 = (traveldistance/2)^2$\n",
    "\n",
    "$depth = \\sqrt{(traveldistance/2)^2 -  separationdistance^2  }$\n",
    "\n",
    "$traveldistance = DELAY  velocity$\n",
    "\n",
    "$depth = \\sqrt{( DELAY  velocity/2)^2 -  separationdistance^2  }$\n"
   ]
  },
  {
   "cell_type": "code",
   "execution_count": 30,
   "metadata": {},
   "outputs": [],
   "source": [
    "velocity_ice = 168e-3\n",
    "velocity_firn = 400\n",
    "firn_correction = 7\n",
    "separation_distance = 58.37"
   ]
  },
  {
   "cell_type": "code",
   "execution_count": 31,
   "metadata": {},
   "outputs": [],
   "source": [
    "bed_gdf['ice_thickn'] = np.sqrt( (bed_gdf.DELAY.copy()*velocity_ice/2)**2 - (separation_distance/2)**2  ) + 7 \n"
   ]
  },
  {
   "cell_type": "code",
   "execution_count": 32,
   "metadata": {},
   "outputs": [],
   "source": [
    "# np.sqrt( (5370*velocity_ice/2)**2 - (separation_distance/2)**2  ) + 7 "
   ]
  },
  {
   "cell_type": "code",
   "execution_count": 33,
   "metadata": {},
   "outputs": [],
   "source": [
    "bed_df.drop(columns=['DELAY'],inplace=True)"
   ]
  },
  {
   "cell_type": "code",
   "execution_count": null,
   "metadata": {},
   "outputs": [],
   "source": []
  },
  {
   "cell_type": "code",
   "execution_count": 34,
   "metadata": {},
   "outputs": [],
   "source": [
    "bed_gdf['bed'] = bed_gdf.surf - bed_gdf.ice_thickn"
   ]
  },
  {
   "cell_type": "code",
   "execution_count": 35,
   "metadata": {},
   "outputs": [],
   "source": [
    "bed_gdf.to_file('/Volumes/arc_04/FIELD_DATA/K8621920/RES/PROCESSED_LINES/picked_bed.shp')"
   ]
  },
  {
   "cell_type": "code",
   "execution_count": 36,
   "metadata": {},
   "outputs": [
    {
     "data": {
      "text/plain": [
       "Index(['CDP', 'x', 'y', 'DELAY', 'line_name', 'surf', 'Unnamed: 10', 'SEQnum',\n",
       "       'camp', 'time_UTC', 'geometry', 'ice_thickn', 'bed'],\n",
       "      dtype='object')"
      ]
     },
     "execution_count": 36,
     "metadata": {},
     "output_type": "execute_result"
    }
   ],
   "source": [
    "bed_gdf.keys()"
   ]
  },
  {
   "cell_type": "code",
   "execution_count": 37,
   "metadata": {},
   "outputs": [
    {
     "data": {
      "text/html": [
       "<div>\n",
       "<style scoped>\n",
       "    .dataframe tbody tr th:only-of-type {\n",
       "        vertical-align: middle;\n",
       "    }\n",
       "\n",
       "    .dataframe tbody tr th {\n",
       "        vertical-align: top;\n",
       "    }\n",
       "\n",
       "    .dataframe thead th {\n",
       "        text-align: right;\n",
       "    }\n",
       "</style>\n",
       "<table border=\"1\" class=\"dataframe\">\n",
       "  <thead>\n",
       "    <tr style=\"text-align: right;\">\n",
       "      <th></th>\n",
       "      <th>CDP</th>\n",
       "      <th>x</th>\n",
       "      <th>y</th>\n",
       "      <th>DELAY</th>\n",
       "      <th>line_name</th>\n",
       "      <th>surf</th>\n",
       "      <th>Unnamed: 10</th>\n",
       "      <th>SEQnum</th>\n",
       "      <th>camp</th>\n",
       "      <th>time_UTC</th>\n",
       "      <th>geometry</th>\n",
       "      <th>ice_thickn</th>\n",
       "      <th>bed</th>\n",
       "    </tr>\n",
       "  </thead>\n",
       "  <tbody>\n",
       "    <tr>\n",
       "      <th>0</th>\n",
       "      <td>100</td>\n",
       "      <td>-382160.3</td>\n",
       "      <td>-726598.7</td>\n",
       "      <td>8780</td>\n",
       "      <td>line7</td>\n",
       "      <td>71.2867</td>\n",
       "      <td>NaN</td>\n",
       "      <td>1</td>\n",
       "      <td>KIS2</td>\n",
       "      <td>2019-12-27T21:52:01</td>\n",
       "      <td>POINT (-382160.300 -726598.700)</td>\n",
       "      <td>743.942322</td>\n",
       "      <td>-672.655622</td>\n",
       "    </tr>\n",
       "    <tr>\n",
       "      <th>1</th>\n",
       "      <td>101</td>\n",
       "      <td>-382158.5</td>\n",
       "      <td>-726597.0</td>\n",
       "      <td>8780</td>\n",
       "      <td>line7</td>\n",
       "      <td>71.2825</td>\n",
       "      <td>NaN</td>\n",
       "      <td>1</td>\n",
       "      <td>KIS2</td>\n",
       "      <td>2019-12-27T21:52:02.980000</td>\n",
       "      <td>POINT (-382158.500 -726597.000)</td>\n",
       "      <td>743.942322</td>\n",
       "      <td>-672.659822</td>\n",
       "    </tr>\n",
       "    <tr>\n",
       "      <th>2</th>\n",
       "      <td>102</td>\n",
       "      <td>-382155.7</td>\n",
       "      <td>-726594.2</td>\n",
       "      <td>8780</td>\n",
       "      <td>line7</td>\n",
       "      <td>71.2759</td>\n",
       "      <td>NaN</td>\n",
       "      <td>1</td>\n",
       "      <td>KIS2</td>\n",
       "      <td>2019-12-27T21:52:04.970000</td>\n",
       "      <td>POINT (-382155.700 -726594.200)</td>\n",
       "      <td>743.942322</td>\n",
       "      <td>-672.666422</td>\n",
       "    </tr>\n",
       "    <tr>\n",
       "      <th>3</th>\n",
       "      <td>103</td>\n",
       "      <td>-382154.0</td>\n",
       "      <td>-726592.4</td>\n",
       "      <td>8780</td>\n",
       "      <td>line7</td>\n",
       "      <td>71.2717</td>\n",
       "      <td>NaN</td>\n",
       "      <td>1</td>\n",
       "      <td>KIS2</td>\n",
       "      <td>2019-12-27T21:52:06.010000</td>\n",
       "      <td>POINT (-382154.000 -726592.400)</td>\n",
       "      <td>743.942322</td>\n",
       "      <td>-672.670622</td>\n",
       "    </tr>\n",
       "    <tr>\n",
       "      <th>4</th>\n",
       "      <td>104</td>\n",
       "      <td>-382152.3</td>\n",
       "      <td>-726590.8</td>\n",
       "      <td>8780</td>\n",
       "      <td>line7</td>\n",
       "      <td>71.2678</td>\n",
       "      <td>NaN</td>\n",
       "      <td>1</td>\n",
       "      <td>KIS2</td>\n",
       "      <td>2019-12-27T21:52:07.040000</td>\n",
       "      <td>POINT (-382152.300 -726590.800)</td>\n",
       "      <td>743.942322</td>\n",
       "      <td>-672.674522</td>\n",
       "    </tr>\n",
       "  </tbody>\n",
       "</table>\n",
       "</div>"
      ],
      "text/plain": [
       "   CDP         x         y  DELAY line_name     surf  Unnamed: 10  SEQnum  \\\n",
       "0  100 -382160.3 -726598.7   8780     line7  71.2867          NaN       1   \n",
       "1  101 -382158.5 -726597.0   8780     line7  71.2825          NaN       1   \n",
       "2  102 -382155.7 -726594.2   8780     line7  71.2759          NaN       1   \n",
       "3  103 -382154.0 -726592.4   8780     line7  71.2717          NaN       1   \n",
       "4  104 -382152.3 -726590.8   8780     line7  71.2678          NaN       1   \n",
       "\n",
       "   camp                    time_UTC                         geometry  \\\n",
       "0  KIS2         2019-12-27T21:52:01  POINT (-382160.300 -726598.700)   \n",
       "1  KIS2  2019-12-27T21:52:02.980000  POINT (-382158.500 -726597.000)   \n",
       "2  KIS2  2019-12-27T21:52:04.970000  POINT (-382155.700 -726594.200)   \n",
       "3  KIS2  2019-12-27T21:52:06.010000  POINT (-382154.000 -726592.400)   \n",
       "4  KIS2  2019-12-27T21:52:07.040000  POINT (-382152.300 -726590.800)   \n",
       "\n",
       "   ice_thickn         bed  \n",
       "0  743.942322 -672.655622  \n",
       "1  743.942322 -672.659822  \n",
       "2  743.942322 -672.666422  \n",
       "3  743.942322 -672.670622  \n",
       "4  743.942322 -672.674522  "
      ]
     },
     "execution_count": 37,
     "metadata": {},
     "output_type": "execute_result"
    }
   ],
   "source": [
    "bed_gdf.head()"
   ]
  },
  {
   "cell_type": "code",
   "execution_count": 38,
   "metadata": {},
   "outputs": [
    {
     "data": {
      "text/plain": [
       "CDP              object\n",
       "x               float64\n",
       "y               float64\n",
       "DELAY             int64\n",
       "line_name        object\n",
       "surf            float64\n",
       "Unnamed: 10     float64\n",
       "SEQnum            int64\n",
       "camp             object\n",
       "time_UTC         object\n",
       "geometry       geometry\n",
       "ice_thickn      float64\n",
       "bed             float64\n",
       "dtype: object"
      ]
     },
     "execution_count": 38,
     "metadata": {},
     "output_type": "execute_result"
    }
   ],
   "source": [
    "bed_gdf.dtypes"
   ]
  },
  {
   "cell_type": "code",
   "execution_count": 39,
   "metadata": {},
   "outputs": [
    {
     "data": {
      "text/plain": [
       "2"
      ]
     },
     "execution_count": 39,
     "metadata": {},
     "output_type": "execute_result"
    }
   ],
   "source": [
    "1+1"
   ]
  },
  {
   "cell_type": "code",
   "execution_count": null,
   "metadata": {},
   "outputs": [],
   "source": []
  }
 ],
 "metadata": {
  "kernelspec": {
   "display_name": "remote_sensing",
   "language": "python",
   "name": "remote_sensing"
  },
  "language_info": {
   "codemirror_mode": {
    "name": "ipython",
    "version": 3
   },
   "file_extension": ".py",
   "mimetype": "text/x-python",
   "name": "python",
   "nbconvert_exporter": "python",
   "pygments_lexer": "ipython3",
   "version": "3.7.8"
  }
 },
 "nbformat": 4,
 "nbformat_minor": 4
}
