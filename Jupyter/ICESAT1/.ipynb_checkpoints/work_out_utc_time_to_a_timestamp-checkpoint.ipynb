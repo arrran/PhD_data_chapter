{
 "cells": [
  {
   "cell_type": "markdown",
   "metadata": {},
   "source": [
    "This notebook follows on from load_matlab_icesat1_structures.ipynb, and plots icesat lines over the channel"
   ]
  },
  {
   "cell_type": "code",
   "execution_count": 1,
   "metadata": {},
   "outputs": [],
   "source": [
    "import h5py\n",
    "import xarray as xr\n",
    "import glob\n",
    "import matplotlib.pyplot as plt\n",
    "import pandas as pd\n",
    "from shapely.geometry import Point\n",
    "import geopandas as gpd\n",
    "from shapely.ops import nearest_points\n",
    "import numpy as np"
   ]
  },
  {
   "cell_type": "code",
   "execution_count": 2,
   "metadata": {},
   "outputs": [],
   "source": [
    "def icesat1todataframe(track):\n",
    "    \"\"\"\n",
    "    this function will import the .mat and arrange into a dataframe\n",
    "    track = eg track\n",
    "    \"\"\"\n",
    "    \n",
    "    \n",
    "    \n",
    "    path = f'/Volumes/arc_01/horganhu/ICESAT/GLA12_633_TRACKS/{track}_processed.mat'\n",
    "    df = pd.DataFrame({'x':[],\n",
    "                       'pass_num':[],\n",
    "                      })\n",
    "    psys = []\n",
    "    h = []\n",
    "    time = []\n",
    "    dh = []\n",
    "\n",
    "    with h5py.File(path, 'r') as f:\n",
    "        #add x location\n",
    "        psx_l = list(f['antarctica'][track]['psx'])\n",
    "        for p in psx_l:\n",
    "            df_temp = pd.DataFrame({'x': list(f['antarctica'][track]['psx'][p][0]),\n",
    "                                    'pass_num': [p]*len(list(f['antarctica'][track]['psx'][p])[0]) })\n",
    "            df = df.append(df_temp , ignore_index=True )\n",
    "\n",
    "        #add y location\n",
    "        psy_l = list(f['antarctica'][track]['psy'])\n",
    "        for p in psy_l:\n",
    "            psys.extend( list(f['antarctica'][track]['psy'][p][0]) )\n",
    "\n",
    "        #add height\n",
    "        h_l = list(f['antarctica'][track]['elev_wgs84_retide'])\n",
    "        for p in h_l:\n",
    "            h.extend( list(f['antarctica'][track]['elev_wgs84_retide'][p][0]) )\n",
    "\n",
    "        #add time\n",
    "        t_l = list(f['antarctica'][track]['UTCTime'])\n",
    "        for p in t_l:\n",
    "            time.extend( list(f['antarctica'][track]['UTCTime'][p][0]) )\n",
    "\n",
    "        #add delta_h (not sure what it is)\n",
    "        dh_l = list(f['antarctica'][track]['delta_h'])\n",
    "        for p in dh_l:\n",
    "            dh.extend( list(f['antarctica'][track]['delta_h'][p][0]) )\n",
    "\n",
    "    df['y'] = psys\n",
    "    df['h'] = h\n",
    "    df['time'] = time\n",
    "    df['delta_h'] = dh\n",
    "\n",
    "    da = df.query(\"x > -382064.5722209641 & x < -374781.1654740692 & y > -734075.0820404041 & y < -722764.4514729496\")\n",
    "    da.reset_index(drop=True,inplace=True)\n",
    "    \n",
    "    points = [Point(xy) for xy in zip(da.x,da.y)]\n",
    "    gda = gpd.GeoDataFrame(da,geometry=points,crs=3031)\n",
    "    \n",
    "    return gda"
   ]
  },
  {
   "cell_type": "markdown",
   "metadata": {},
   "source": [
    "### from load_matlab_icesat1_structures we see the tracks over the channel with  the most data\n",
    "track number_of_datapoints\n",
    "track0015 0\n",
    "track1331 68\n",
    "track0043 0\n",
    "track0197 68\n",
    "track1303 68\n",
    "track0351 68\n",
    "track0057 0\n",
    "track0407 68\n",
    "track0155 68\n",
    "track0127 68\n",
    "track0183 68\n",
    "track0365 68\n",
    "track0337 68\n",
    "track0099 753\n",
    "track0295 68\n",
    "track0323 68\n",
    "track0211 549\n",
    "track0113 68\n",
    "track0379 68\n",
    "track0085 193\n",
    "track0267 68\n",
    "track0071 0\n",
    "track0169 68\n",
    "track1289 68\n",
    "track0029 0\n",
    "track1345 68\n",
    "track0239 68\n",
    "track1275 68\n",
    "track0225 68\n",
    "track0001 0\n",
    "track0393 68\n",
    "track0141 68\n",
    "track0253 68\n",
    "track0309 68\n",
    "track1317 68\n",
    "track0281 68"
   ]
  },
  {
   "cell_type": "code",
   "execution_count": 3,
   "metadata": {},
   "outputs": [],
   "source": [
    "df = icesat1todataframe('track0099')"
   ]
  },
  {
   "cell_type": "code",
   "execution_count": 24,
   "metadata": {},
   "outputs": [],
   "source": [
    "gd_chan = gpd.read_file(\"/Users/home/whitefar/DATA/FIELD_ANT_19/POST_FIELD/RES/PROCESSED_LINES_GISFILE/linedownchan.shp\")\n",
    "\n",
    "pas = df.pass_num.value_counts().index.tolist()[0]\n",
    "    #make new column of along track distance\n",
    "dl = df[df.pass_num==pas].copy()\n",
    "# #temp distance from previous\n",
    "tmp_dx = [Point.distance(dl.geometry.iloc[i]) for i,Point in enumerate(dl.geometry.iloc[1:])] #note the 1:, equivalent to i+1\n",
    "tmp_dx[:0] = [0]\n",
    "# dl['dx'] = tmp_dx\n",
    "# dl['distance_cum'] = dl.dx.cumsum().to_numpy()\n",
    "#  #zero it at the channel, first find the point closest to the channel\n",
    "# nearest_icesat_pt,nearest_chan_pt = nearest_points(dl.geometry.unary_union,gd_chan.geometry.unary_union)\n",
    "# i = df[df.x==nearest_icesat_pt.x].index[0]\n",
    "# dl['distance_cum'] = dl['distance_cum'].to_numpy() - dl.distance_cum.loc[i]\n"
   ]
  },
  {
   "cell_type": "code",
   "execution_count": 25,
   "metadata": {},
   "outputs": [
    {
     "name": "stderr",
     "output_type": "stream",
     "text": [
      "/Users/home/whitefar/miniconda3/envs/remote_sensing/lib/python3.7/site-packages/ipykernel_launcher.py:1: SettingWithCopyWarning: \n",
      "A value is trying to be set on a copy of a slice from a DataFrame.\n",
      "Try using .loc[row_indexer,col_indexer] = value instead\n",
      "\n",
      "See the caveats in the documentation: https://pandas.pydata.org/pandas-docs/stable/user_guide/indexing.html#returning-a-view-versus-a-copy\n",
      "  \"\"\"Entry point for launching an IPython kernel.\n"
     ]
    }
   ],
   "source": [
    "dl['dx'] = tmp_dx"
   ]
  },
  {
   "cell_type": "code",
   "execution_count": 23,
   "metadata": {},
   "outputs": [],
   "source": [
    "dl.loc[:,'dx'] = tmp_dx"
   ]
  },
  {
   "cell_type": "code",
   "execution_count": 18,
   "metadata": {},
   "outputs": [],
   "source": [
    "del dl"
   ]
  },
  {
   "cell_type": "markdown",
   "metadata": {},
   "source": [
    "# Work out utm_time stamp change"
   ]
  },
  {
   "cell_type": "code",
   "execution_count": 4,
   "metadata": {},
   "outputs": [
    {
     "data": {
      "text/plain": [
       "0      1.392366e+08\n",
       "1      1.392366e+08\n",
       "2      1.392366e+08\n",
       "3      1.392366e+08\n",
       "4      1.392366e+08\n",
       "           ...     \n",
       "748    1.206852e+08\n",
       "749    1.206852e+08\n",
       "750    1.206852e+08\n",
       "751    1.206852e+08\n",
       "752    1.206852e+08\n",
       "Name: time, Length: 753, dtype: float64"
      ]
     },
     "execution_count": 4,
     "metadata": {},
     "output_type": "execute_result"
    }
   ],
   "source": [
    "df.time"
   ]
  },
  {
   "cell_type": "code",
   "execution_count": null,
   "metadata": {},
   "outputs": [],
   "source": []
  }
 ],
 "metadata": {
  "kernelspec": {
   "display_name": "remote_sensing",
   "language": "python",
   "name": "remote_sensing"
  },
  "language_info": {
   "codemirror_mode": {
    "name": "ipython",
    "version": 3
   },
   "file_extension": ".py",
   "mimetype": "text/x-python",
   "name": "python",
   "nbconvert_exporter": "python",
   "pygments_lexer": "ipython3",
   "version": "3.7.2"
  }
 },
 "nbformat": 4,
 "nbformat_minor": 4
}
