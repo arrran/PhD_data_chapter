{
 "cells": [
  {
   "cell_type": "code",
   "execution_count": 27,
   "id": "5b32c7a8-5e43-4de6-9782-2d5dd2b82923",
   "metadata": {},
   "outputs": [],
   "source": [
    "def decorator_func(func):\n",
    "    print (\"strifying\")\n",
    "    def wrapper(arr):\n",
    "        return str(func(arr))\n",
    "    return wrapper\n"
   ]
  },
  {
   "cell_type": "code",
   "execution_count": 28,
   "id": "169fdd27-a932-4041-bd02-f906a09216ae",
   "metadata": {},
   "outputs": [],
   "source": [
    "import numpy as np"
   ]
  },
  {
   "cell_type": "code",
   "execution_count": 29,
   "id": "d98848cc-b143-4577-8075-3a9a3693371c",
   "metadata": {},
   "outputs": [
    {
     "name": "stdout",
     "output_type": "stream",
     "text": [
      "strifying\n"
     ]
    }
   ],
   "source": [
    "strsum = decorator_func(np.sum)"
   ]
  },
  {
   "cell_type": "code",
   "execution_count": 30,
   "id": "a6996cf6-deac-4e22-b262-c9af2bb30197",
   "metadata": {},
   "outputs": [
    {
     "data": {
      "text/plain": [
       "'8'"
      ]
     },
     "execution_count": 30,
     "metadata": {},
     "output_type": "execute_result"
    }
   ],
   "source": [
    "strsum(np.array([4,4]))"
   ]
  },
  {
   "cell_type": "code",
   "execution_count": 31,
   "id": "c29e0144-9132-4e52-bb8a-d501816c3bcb",
   "metadata": {},
   "outputs": [
    {
     "data": {
      "text/plain": [
       "'8'"
      ]
     },
     "execution_count": 31,
     "metadata": {},
     "output_type": "execute_result"
    }
   ],
   "source": [
    "str(np.sum(np.array([4,4])))"
   ]
  },
  {
   "cell_type": "code",
   "execution_count": null,
   "id": "7a42e9a1-3a6f-42f4-9fa2-4ee5cf654fc5",
   "metadata": {},
   "outputs": [],
   "source": []
  }
 ],
 "metadata": {
  "kernelspec": {
   "display_name": "remote_sensing",
   "language": "python",
   "name": "remote_sensing"
  },
  "language_info": {
   "codemirror_mode": {
    "name": "ipython",
    "version": 3
   },
   "file_extension": ".py",
   "mimetype": "text/x-python",
   "name": "python",
   "nbconvert_exporter": "python",
   "pygments_lexer": "ipython3",
   "version": "3.7.8"
  }
 },
 "nbformat": 4,
 "nbformat_minor": 5
}
