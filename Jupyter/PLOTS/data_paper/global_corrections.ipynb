{
 "cells": [
  {
   "cell_type": "code",
   "execution_count": 19,
   "id": "e16b350c-c732-4072-9f74-e823c33c7166",
   "metadata": {},
   "outputs": [],
   "source": [
    "# global corrections/variables\n",
    "import pickle"
   ]
  },
  {
   "cell_type": "code",
   "execution_count": 20,
   "id": "05e06301-47f8-4711-b12e-37fcb3e2f82e",
   "metadata": {},
   "outputs": [],
   "source": [
    "path_out = '/Users/home/whitefar/DATA/global_corrections.pkl'"
   ]
  },
  {
   "cell_type": "code",
   "execution_count": 31,
   "id": "9402cec5-c22f-42fc-aecc-3675b220764b",
   "metadata": {},
   "outputs": [],
   "source": [
    "out = {}"
   ]
  },
  {
   "cell_type": "code",
   "execution_count": 37,
   "id": "c1da5d31-f0a3-425c-a9fe-1088d2f136bd",
   "metadata": {},
   "outputs": [],
   "source": [
    "out['apres_firn'] = +7 \n",
    "out['res_correction'] = -10 "
   ]
  },
  {
   "cell_type": "code",
   "execution_count": 38,
   "id": "cb363511-7e4a-4db5-8536-b7dd258b46bc",
   "metadata": {},
   "outputs": [],
   "source": [
    "out['geoid_correction'] = 47"
   ]
  },
  {
   "cell_type": "code",
   "execution_count": 39,
   "id": "8f970182-5960-4c63-9232-2f24cc0f3174",
   "metadata": {},
   "outputs": [],
   "source": [
    "# create a binary pickle file \n",
    "with open(path_out,\"wb\") as f:\n",
    "    pickle.dump(out,f)"
   ]
  },
  {
   "cell_type": "code",
   "execution_count": null,
   "id": "fbbc3f15-9cba-4012-8374-270b11de8fdb",
   "metadata": {},
   "outputs": [],
   "source": []
  },
  {
   "cell_type": "code",
   "execution_count": 40,
   "id": "51911260-c4eb-4f11-b66f-1850d7683b1c",
   "metadata": {},
   "outputs": [],
   "source": [
    "with open('/Users/home/whitefar/DATA/global_corrections.pkl',\"rb\") as f2:\n",
    "    correct = pickle.load(f2)\n",
    "geoid_correction = correct['geoid_correction']\n",
    "res_correction = correct['res_correction']\n",
    "apres_firn = correct['apres_firn']"
   ]
  },
  {
   "cell_type": "code",
   "execution_count": 41,
   "id": "587e29fa-42b3-4302-8067-b55ddb054c62",
   "metadata": {},
   "outputs": [
    {
     "data": {
      "text/plain": [
       "{'apres_firn': 7, 'res_correction': -10, 'geoid_correction': 47}"
      ]
     },
     "execution_count": 41,
     "metadata": {},
     "output_type": "execute_result"
    }
   ],
   "source": [
    "correct"
   ]
  },
  {
   "cell_type": "code",
   "execution_count": null,
   "id": "a2906c04-a327-4be1-ab74-7a6455a35dbe",
   "metadata": {},
   "outputs": [],
   "source": []
  }
 ],
 "metadata": {
  "kernelspec": {
   "display_name": "remote_sensing",
   "language": "python",
   "name": "remote_sensing"
  },
  "language_info": {
   "codemirror_mode": {
    "name": "ipython",
    "version": 3
   },
   "file_extension": ".py",
   "mimetype": "text/x-python",
   "name": "python",
   "nbconvert_exporter": "python",
   "pygments_lexer": "ipython3",
   "version": "3.7.8"
  }
 },
 "nbformat": 4,
 "nbformat_minor": 5
}
