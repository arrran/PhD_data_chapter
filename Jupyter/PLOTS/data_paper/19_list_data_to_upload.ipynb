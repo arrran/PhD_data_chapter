{
 "cells": [
  {
   "cell_type": "markdown",
   "metadata": {},
   "source": [
    "# list the radar data to upload\n",
    "- raw radar\n",
    "- picked bed\n",
    "- apres"
   ]
  },
  {
   "cell_type": "code",
   "execution_count": 1,
   "metadata": {},
   "outputs": [],
   "source": [
    "import fiona\n",
    "import pandas as pd\n",
    "import geopandas as gpd\n",
    "from shapely.geometry import Polygon\n",
    "from shapely.geometry import Point\n",
    "import numpy as np\n",
    "import os\n",
    "import sys\n",
    "import glob\n",
    "import matplotlib.pyplot as plt\n",
    "from scipy import interpolate\n",
    "\n",
    "from shapely.geometry import LineString\n",
    "\n",
    "\n",
    "import rasterio as rio\n",
    "import rasterio.mask\n",
    "import matplotlib as mpl\n",
    "import pickle\n"
   ]
  },
  {
   "cell_type": "code",
   "execution_count": 4,
   "metadata": {},
   "outputs": [],
   "source": [
    "raw_radar = glob.glob('/Volumes/arc_04/FIELD_DATA/K8621920/RES/KIS2/**/*')"
   ]
  },
  {
   "cell_type": "code",
   "execution_count": 5,
   "metadata": {},
   "outputs": [],
   "source": [
    "picked_bed = '/Volumes/arc_04/FIELD_DATA/K8621920/RES/PROCESSED_LINES/picked_bed.shp'"
   ]
  },
  {
   "cell_type": "code",
   "execution_count": 6,
   "metadata": {},
   "outputs": [],
   "source": [
    "\n",
    "df = gpd.read_file(picked_bed)"
   ]
  },
  {
   "cell_type": "code",
   "execution_count": 9,
   "metadata": {},
   "outputs": [
    {
     "data": {
      "text/html": [
       "<div>\n",
       "<style scoped>\n",
       "    .dataframe tbody tr th:only-of-type {\n",
       "        vertical-align: middle;\n",
       "    }\n",
       "\n",
       "    .dataframe tbody tr th {\n",
       "        vertical-align: top;\n",
       "    }\n",
       "\n",
       "    .dataframe thead th {\n",
       "        text-align: right;\n",
       "    }\n",
       "</style>\n",
       "<table border=\"1\" class=\"dataframe\">\n",
       "  <thead>\n",
       "    <tr style=\"text-align: right;\">\n",
       "      <th></th>\n",
       "      <th>CDP</th>\n",
       "      <th>x</th>\n",
       "      <th>y</th>\n",
       "      <th>DELAY</th>\n",
       "      <th>line_name</th>\n",
       "      <th>surf</th>\n",
       "      <th>Unnamed_ 1</th>\n",
       "      <th>SEQnum</th>\n",
       "      <th>camp</th>\n",
       "      <th>time_UTC</th>\n",
       "      <th>ice_thickn</th>\n",
       "      <th>bed</th>\n",
       "      <th>geometry</th>\n",
       "    </tr>\n",
       "  </thead>\n",
       "  <tbody>\n",
       "    <tr>\n",
       "      <th>0</th>\n",
       "      <td>100</td>\n",
       "      <td>-382160.3</td>\n",
       "      <td>-726598.7</td>\n",
       "      <td>8780</td>\n",
       "      <td>line7</td>\n",
       "      <td>71.2867</td>\n",
       "      <td>None</td>\n",
       "      <td>1</td>\n",
       "      <td>KIS2</td>\n",
       "      <td>2019-12-27T21:52:01</td>\n",
       "      <td>743.942322</td>\n",
       "      <td>-672.655622</td>\n",
       "      <td>POINT (-382160.300 -726598.700)</td>\n",
       "    </tr>\n",
       "    <tr>\n",
       "      <th>1</th>\n",
       "      <td>101</td>\n",
       "      <td>-382158.5</td>\n",
       "      <td>-726597.0</td>\n",
       "      <td>8780</td>\n",
       "      <td>line7</td>\n",
       "      <td>71.2825</td>\n",
       "      <td>None</td>\n",
       "      <td>1</td>\n",
       "      <td>KIS2</td>\n",
       "      <td>2019-12-27T21:52:02.980000</td>\n",
       "      <td>743.942322</td>\n",
       "      <td>-672.659822</td>\n",
       "      <td>POINT (-382158.500 -726597.000)</td>\n",
       "    </tr>\n",
       "    <tr>\n",
       "      <th>2</th>\n",
       "      <td>102</td>\n",
       "      <td>-382155.7</td>\n",
       "      <td>-726594.2</td>\n",
       "      <td>8780</td>\n",
       "      <td>line7</td>\n",
       "      <td>71.2759</td>\n",
       "      <td>None</td>\n",
       "      <td>1</td>\n",
       "      <td>KIS2</td>\n",
       "      <td>2019-12-27T21:52:04.970000</td>\n",
       "      <td>743.942322</td>\n",
       "      <td>-672.666422</td>\n",
       "      <td>POINT (-382155.700 -726594.200)</td>\n",
       "    </tr>\n",
       "    <tr>\n",
       "      <th>3</th>\n",
       "      <td>103</td>\n",
       "      <td>-382154.0</td>\n",
       "      <td>-726592.4</td>\n",
       "      <td>8780</td>\n",
       "      <td>line7</td>\n",
       "      <td>71.2717</td>\n",
       "      <td>None</td>\n",
       "      <td>1</td>\n",
       "      <td>KIS2</td>\n",
       "      <td>2019-12-27T21:52:06.010000</td>\n",
       "      <td>743.942322</td>\n",
       "      <td>-672.670622</td>\n",
       "      <td>POINT (-382154.000 -726592.400)</td>\n",
       "    </tr>\n",
       "    <tr>\n",
       "      <th>4</th>\n",
       "      <td>104</td>\n",
       "      <td>-382152.3</td>\n",
       "      <td>-726590.8</td>\n",
       "      <td>8780</td>\n",
       "      <td>line7</td>\n",
       "      <td>71.2678</td>\n",
       "      <td>None</td>\n",
       "      <td>1</td>\n",
       "      <td>KIS2</td>\n",
       "      <td>2019-12-27T21:52:07.040000</td>\n",
       "      <td>743.942322</td>\n",
       "      <td>-672.674522</td>\n",
       "      <td>POINT (-382152.300 -726590.800)</td>\n",
       "    </tr>\n",
       "  </tbody>\n",
       "</table>\n",
       "</div>"
      ],
      "text/plain": [
       "   CDP         x         y  DELAY line_name     surf Unnamed_ 1  SEQnum  camp  \\\n",
       "0  100 -382160.3 -726598.7   8780     line7  71.2867       None       1  KIS2   \n",
       "1  101 -382158.5 -726597.0   8780     line7  71.2825       None       1  KIS2   \n",
       "2  102 -382155.7 -726594.2   8780     line7  71.2759       None       1  KIS2   \n",
       "3  103 -382154.0 -726592.4   8780     line7  71.2717       None       1  KIS2   \n",
       "4  104 -382152.3 -726590.8   8780     line7  71.2678       None       1  KIS2   \n",
       "\n",
       "                     time_UTC  ice_thickn         bed  \\\n",
       "0         2019-12-27T21:52:01  743.942322 -672.655622   \n",
       "1  2019-12-27T21:52:02.980000  743.942322 -672.659822   \n",
       "2  2019-12-27T21:52:04.970000  743.942322 -672.666422   \n",
       "3  2019-12-27T21:52:06.010000  743.942322 -672.670622   \n",
       "4  2019-12-27T21:52:07.040000  743.942322 -672.674522   \n",
       "\n",
       "                          geometry  \n",
       "0  POINT (-382160.300 -726598.700)  \n",
       "1  POINT (-382158.500 -726597.000)  \n",
       "2  POINT (-382155.700 -726594.200)  \n",
       "3  POINT (-382154.000 -726592.400)  \n",
       "4  POINT (-382152.300 -726590.800)  "
      ]
     },
     "execution_count": 9,
     "metadata": {},
     "output_type": "execute_result"
    }
   ],
   "source": [
    "df.head()"
   ]
  },
  {
   "cell_type": "code",
   "execution_count": 16,
   "metadata": {},
   "outputs": [
    {
     "data": {
      "text/plain": [
       "Index(['CDP', 'x', 'y', 'DELAY', 'line_name', 'surf', 'Unnamed_ 1', 'SEQnum',\n",
       "       'camp', 'time_UTC', 'ice_thickn', 'bed', 'geometry'],\n",
       "      dtype='object')"
      ]
     },
     "execution_count": 16,
     "metadata": {},
     "output_type": "execute_result"
    }
   ],
   "source": [
    "df.keys()\n"
   ]
  },
  {
   "cell_type": "code",
   "execution_count": 10,
   "metadata": {},
   "outputs": [],
   "source": [
    "apres = '/Users/home/whitefar/DATA/ApRES/kis2_meltrates.csv'"
   ]
  },
  {
   "cell_type": "code",
   "execution_count": 11,
   "metadata": {},
   "outputs": [],
   "source": [
    "d = pd.read_csv(apres)"
   ]
  },
  {
   "cell_type": "code",
   "execution_count": 13,
   "metadata": {},
   "outputs": [
    {
     "data": {
      "text/plain": [
       "0            2019-12-07_225600.dat\n",
       "1            2019-12-21_215758.dat\n",
       "2     Survey_2020-12-23_202213.dat\n",
       "3            2019-12-07_231044.dat\n",
       "4            2019-12-21_221136.dat\n",
       "                  ...             \n",
       "60    Survey_2020-12-22_223029.dat\n",
       "61           2019-12-22_044431.dat\n",
       "62    Survey_2020-12-22_221342.dat\n",
       "63           2019-12-22_045518.dat\n",
       "64    Survey_2020-12-22_213835.dat\n",
       "Name: File_Name, Length: 65, dtype: object"
      ]
     },
     "execution_count": 13,
     "metadata": {},
     "output_type": "execute_result"
    }
   ],
   "source": [
    "d.File_Name"
   ]
  },
  {
   "cell_type": "code",
   "execution_count": null,
   "metadata": {},
   "outputs": [],
   "source": [
    "addpath(genpath('/Volumes/arc_04/FIELD_DATA/K8621920/APRES/'))\n",
    "addpath(genpath('/Volumes/arc_04/FIELD_DATA/K8622021/KIS Science/ApRES data files/KIS2'))"
   ]
  },
  {
   "cell_type": "code",
   "execution_count": null,
   "metadata": {},
   "outputs": [],
   "source": [
    "/Volumes/arc_04/FIELD_DATA/K8621920/GNSS/PROCESSED/PPP/"
   ]
  }
 ],
 "metadata": {
  "kernelspec": {
   "display_name": "remote_sensing",
   "language": "python",
   "name": "remote_sensing"
  },
  "language_info": {
   "codemirror_mode": {
    "name": "ipython",
    "version": 3
   },
   "file_extension": ".py",
   "mimetype": "text/x-python",
   "name": "python",
   "nbconvert_exporter": "python",
   "pygments_lexer": "ipython3",
   "version": "3.7.8"
  }
 },
 "nbformat": 4,
 "nbformat_minor": 4
}
