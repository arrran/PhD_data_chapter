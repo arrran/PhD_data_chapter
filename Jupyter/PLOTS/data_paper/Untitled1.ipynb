{
 "cells": [
  {
   "cell_type": "code",
   "execution_count": 16,
   "id": "a3e4d42f-411f-46c1-8769-0e0a13882f15",
   "metadata": {},
   "outputs": [
    {
     "name": "stdout",
     "output_type": "stream",
     "text": [
      "before Execution\n",
      "Inside the function\n",
      "after Execution\n",
      "Its = ['343', '7354', '2323', '46', '468', '77']\n"
     ]
    }
   ],
   "source": [
    "def hello_decorator(func):\n",
    "    def inner1(aa):\n",
    "          \n",
    "        print(\"before Execution\")\n",
    "          \n",
    "        # getting the returned value\n",
    "        returned_value = func(aa)\n",
    "        \n",
    "        print(\"after Execution\")\n",
    "          \n",
    "        # returning the value to the original frame\n",
    "        return returned_value\n",
    "          \n",
    "    return inner1\n",
    "  \n",
    "  \n",
    "# adding decorator to the function\n",
    "@hello_decorator\n",
    "def sortit(a):\n",
    "    print(\"Inside the function\")\n",
    "    a+=['77']\n",
    "    return a\n",
    "  \n",
    "ww = ['343','7354','2323','46','468']\n",
    "  \n",
    "# getting the value through return of the function\n",
    "print(\"Its =\", sortit(ww))"
   ]
  },
  {
   "cell_type": "code",
   "execution_count": null,
   "id": "bfa19819-e743-4d77-8a28-896e1568683a",
   "metadata": {},
   "outputs": [],
   "source": []
  }
 ],
 "metadata": {
  "kernelspec": {
   "display_name": "mitgcm",
   "language": "python",
   "name": "mitgcm"
  },
  "language_info": {
   "codemirror_mode": {
    "name": "ipython",
    "version": 3
   },
   "file_extension": ".py",
   "mimetype": "text/x-python",
   "name": "python",
   "nbconvert_exporter": "python",
   "pygments_lexer": "ipython3",
   "version": "3.9.6"
  }
 },
 "nbformat": 4,
 "nbformat_minor": 5
}
