{
 "cells": [
  {
   "cell_type": "markdown",
   "metadata": {},
   "source": [
    "# Datapaper plots\n",
    "\n",
    "1. field_location.png Modis moa Inset map, ant in corner, icestreams scale, square of common border, include flow route,\n",
    "2. geophysics_overview.png Map of all data presented\n",
    "3. historic_channel.png Historic landsat images\n",
    "4. thickness_surfacecolour.png Profile depth\n",
    "5. 4square_channel.png Four square = imagery, surface, bed&surface, change\n",
    "6. 3D view of channel\n",
    "7. radarlines \n",
    "8. channel_meander.png meander\n",
    "11. ApRES include stress\n",
    "9. Icesat1/REMA\n",
    "10. Icesat2\n"
   ]
  },
  {
   "cell_type": "code",
   "execution_count": 29,
   "metadata": {},
   "outputs": [],
   "source": [
    "import matplotlib.pyplot as plt\n",
    "import numpy as np\n",
    "import glob\n",
    "import os\n",
    "import sys\n",
    "import time\n",
    "import datetime as dt\n",
    "import pandas as pd\n",
    "import geopandas as gpd\n",
    "import scipy as sp\n",
    "from scipy import signal\n",
    "from tqdm.notebook import tqdm\n",
    "import rasterio as rio\n",
    "from shapely.geometry import Point, LineString, Polygon, MultiPoint, box\n",
    "import fiona\n",
    "from shapely.ops import nearest_points\n",
    "from mpl_toolkits.axes_grid1.inset_locator import (inset_axes, InsetPosition,\n",
    "                                                  mark_inset)\n",
    "import matplotlib as mpl"
   ]
  },
  {
   "cell_type": "code",
   "execution_count": 3,
   "metadata": {},
   "outputs": [],
   "source": [
    "xmin, xmax, ymin, ymax = -382700, -374781.9, -734075.1, -721770.2"
   ]
  },
  {
   "cell_type": "code",
   "execution_count": 4,
   "metadata": {},
   "outputs": [],
   "source": [
    "xgrid = np.arange(-382000,-374000,2000)\n"
   ]
  },
  {
   "cell_type": "markdown",
   "metadata": {},
   "source": [
    "## 4. thickness_surfacecolour.png\n",
    "profile depth"
   ]
  },
  {
   "cell_type": "code",
   "execution_count": 5,
   "metadata": {},
   "outputs": [],
   "source": [
    "x_new = np.load('/Users/home/whitefar/DATA/FIELD_ANT_19/POST_FIELD/RADAR_MAP/highres_line2line_interpbydist_points_x.npy')\n",
    "y_new = np.load('/Users/home/whitefar/DATA/FIELD_ANT_19/POST_FIELD/RADAR_MAP/highres_line2line_interpbydist_points_y.npy')\n",
    "it_new = np.load('/Users/home/whitefar/DATA/FIELD_ANT_19/POST_FIELD/RADAR_MAP/highres_line2line_interpbydist_ice_thickn.npy')\n",
    "ib_new = np.load('/Users/home/whitefar/DATA/FIELD_ANT_19/POST_FIELD/RADAR_MAP/highres_line2line_interpbydist_icebase.npy')"
   ]
  },
  {
   "cell_type": "code",
   "execution_count": null,
   "metadata": {},
   "outputs": [],
   "source": []
  },
  {
   "cell_type": "code",
   "execution_count": 33,
   "metadata": {},
   "outputs": [],
   "source": [
    "#load REMA\n",
    "nid1 = 159202\n",
    "nid2 = 131226\n",
    "df = gpd.read_file('/Volumes/arc_02/whitefar/DATA/REMOTE_SENSING/REMA_STRIPES/REMA_Strip_Index_Rel1/REMA_Strip_Index_Rel1.shp')\n",
    "path = f\"/Volumes/arc_02/whitefar/DATA/REMOTE_SENSING/REMA_STRIPES/DIFFERENCES/REMA_{nid1}-{nid2}_diff.tif\"\n",
    "# /Volumes/arc_02/whitefar/DATA/REMOTE_SENSING/REMA_STRIPES/DIFFERENCES/REMA_159202-131226_diff.tif\n",
    "f = df.loc[nid1].acquisitio\n",
    "t =df.loc[nid2].acquisitio\n",
    "duration = (pd.to_datetime(t)-pd.to_datetime(f)).days/365.25\n",
    "with rio.open(path) as image:\n",
    "    im = image.read(1)\n",
    "    im[im==-9999] = np.nan\n",
    "    im = im / duration\n",
    "    extent_REMAdiff = [image.bounds[0],image.bounds[2],image.bounds[1],image.bounds[3]]\n",
    "with rio.open('/Volumes/arc_02/whitefar/DATA/REMOTE_SENSING/REMA_STRIPES/SETSM_WV01_20161109_1020010058134D00_10200100576C9100_seg1_2m_v1.0_dem.tif') as image:\n",
    "    extent_REMA = [image.bounds[0],image.bounds[2],image.bounds[1],image.bounds[3]]\n",
    "    im_REMA = image.read(1)\n",
    "\n",
    "x = np.linspace(extent_REMA[0],extent_REMA[1],im_REMA.shape[1]).astype('int')\n",
    "y = np.linspace(extent_REMA[3],extent_REMA[2],im_REMA.shape[0]).astype('int')\n",
    "\n",
    "x_i = np.argwhere((x>xmin) & (x< xmax)).flatten()[0]\n",
    "x_j = np.argwhere((x>xmin) & (x< xmax)).flatten()[-1]\n",
    "y_i = np.argwhere((y>ymin) & (y< ymax)).flatten()[0]\n",
    "y_j = np.argwhere((y>ymin) & (y< ymax)).flatten()[-1]\n",
    "\n",
    "x_c = np.linspace(extent_REMA[0],extent_REMA[1],im_REMA.shape[1]).astype('int')[x_i:x_j]\n",
    "y_c = np.linspace(extent_REMA[3],extent_REMA[2],im_REMA.shape[0]).astype('int')[y_i:y_j]\n",
    "\n",
    "xv_REMA, yv_REMA = np.meshgrid(x_c, y_c)\n",
    "\n",
    "im_REMA_d = im_REMA[y_i:y_j,x_i:x_j]\n",
    "im_REMA_d[im_REMA_d==-99.99] = np.nan\n",
    "im_REMA_c = im_REMA_d\n",
    "    "
   ]
  },
  {
   "cell_type": "code",
   "execution_count": 7,
   "metadata": {},
   "outputs": [
    {
     "data": {
      "text/plain": [
       "'http://data.pgc.umn.edu/elev/dem/setsm/REMA/geocell/v1.0/2m/s83w153/SETSM_WV02_20121224_103001001D86CA00_103001001D886000_seg1_2m_v1.0.tar.gz'"
      ]
     },
     "execution_count": 7,
     "metadata": {},
     "output_type": "execute_result"
    }
   ],
   "source": [
    "df.loc[nid1].fileurl"
   ]
  },
  {
   "cell_type": "code",
   "execution_count": 8,
   "metadata": {},
   "outputs": [],
   "source": [
    "direc = '/Users/home/whitefar/DATA/FIELD_ANT_19/POST_FIELD/RADAR_MAP/interpolatedgrid_allchan'\n",
    "\n",
    "xv = np.load(direc + 'x_grid' +'.npy')\n",
    "yv = np.load(direc + 'y_grid' +'.npy')\n",
    "thickness_interpolated = np.load(direc +'ice_thickness'+'.npy')\n",
    "extent_l2l = np.load(direc +'extent.npy')\n",
    "ice_base = np.load(direc +'_ice_base.npy')\n"
   ]
  },
  {
   "cell_type": "code",
   "execution_count": 9,
   "metadata": {},
   "outputs": [],
   "source": [
    "x = np.linspace(extent_REMA[0],extent_REMA[1],im_REMA.shape[1]).astype('int')\n",
    "y = np.linspace(extent_REMA[3],extent_REMA[2],im_REMA.shape[0]).astype('int')"
   ]
  },
  {
   "cell_type": "code",
   "execution_count": 10,
   "metadata": {},
   "outputs": [],
   "source": [
    "# xmin, xmax, ymin, ymax = extent_l2l"
   ]
  },
  {
   "cell_type": "code",
   "execution_count": 11,
   "metadata": {},
   "outputs": [],
   "source": [
    "# xmin = -382700"
   ]
  },
  {
   "cell_type": "code",
   "execution_count": 12,
   "metadata": {},
   "outputs": [
    {
     "name": "stdout",
     "output_type": "stream",
     "text": [
      "-382700 -374781.9 -734075.1 -721770.2\n"
     ]
    }
   ],
   "source": [
    "print(xmin, xmax, ymin, ymax)"
   ]
  },
  {
   "cell_type": "code",
   "execution_count": null,
   "metadata": {},
   "outputs": [],
   "source": []
  },
  {
   "cell_type": "markdown",
   "metadata": {},
   "source": [
    "## Plot it"
   ]
  },
  {
   "cell_type": "code",
   "execution_count": 13,
   "metadata": {},
   "outputs": [],
   "source": [
    "it = it_new[50,:]\n",
    "ib = ib_new[50,:]\n",
    "x = x_new[50,:]\n",
    "y = y_new[50,:]\n",
    "mid = pd.DataFrame({'x': x,'y':y,'ice_thickn':it,'ice_base':ib})\n",
    "\n",
    "points = [Point(xy) for xy in zip(mid.x,mid.y)]\n",
    "gdf_mid = gpd.GeoDataFrame(mid,geometry=points,crs=\"EPSG:3031\")"
   ]
  },
  {
   "cell_type": "code",
   "execution_count": 14,
   "metadata": {},
   "outputs": [],
   "source": [
    "# mpl.rcParams['font.size']=10\n",
    "# plt.figure(figsize=(10,10))\n",
    "# plt.plot(x,it)\n",
    "# plt.plot(points_x_surveyed[50,:],ice_thickn_surveyed[50,:],'x')\n",
    "# plt.grid()\n",
    "# plt.ylim(400,500)\n",
    "# plt.show()"
   ]
  },
  {
   "cell_type": "code",
   "execution_count": 15,
   "metadata": {},
   "outputs": [],
   "source": [
    "points_x_surveyed = np.load('/Users/home/whitefar/DATA/FIELD_ANT_19/POST_FIELD/RADAR_MAP/highres_points_x_channel.npy')\n",
    "points_y_surveyed = np.load('/Users/home/whitefar/DATA/FIELD_ANT_19/POST_FIELD/RADAR_MAP/highres_points_y_channel.npy') \n",
    "ice_thickn_surveyed = np.load('/Users/home/whitefar/DATA/FIELD_ANT_19/POST_FIELD/RADAR_MAP/highres_ice_thickn_channel.npy')\n",
    "base_surveyed = np.load('/Users/home/whitefar/DATA/FIELD_ANT_19/POST_FIELD/RADAR_MAP/highres_bed_channel.npy')"
   ]
  },
  {
   "cell_type": "code",
   "execution_count": 16,
   "metadata": {},
   "outputs": [],
   "source": [
    "# plt.plot(x,np.mean(ib_new[5:15,:],0))"
   ]
  },
  {
   "cell_type": "code",
   "execution_count": 17,
   "metadata": {},
   "outputs": [],
   "source": [
    "import pickle\n",
    "with open('/Users/home/whitefar/DATA/FIELD_ANT_19/POST_FIELD/shapefiles/bullseye.pkl', \"rb\") as poly_file:\n",
    "    bullseye = pickle.load(poly_file)"
   ]
  },
  {
   "cell_type": "code",
   "execution_count": 18,
   "metadata": {},
   "outputs": [],
   "source": [
    "bullseye_array = np.array(bullseye.exterior.coords.xy )"
   ]
  },
  {
   "cell_type": "code",
   "execution_count": 19,
   "metadata": {},
   "outputs": [],
   "source": [
    "# 12 original points with 399 inbeween"
   ]
  },
  {
   "cell_type": "code",
   "execution_count": 20,
   "metadata": {},
   "outputs": [
    {
     "data": {
      "text/plain": [
       "4401"
      ]
     },
     "execution_count": 20,
     "metadata": {},
     "output_type": "execute_result"
    }
   ],
   "source": [
    "11*399+12"
   ]
  },
  {
   "cell_type": "code",
   "execution_count": 21,
   "metadata": {},
   "outputs": [],
   "source": [
    "tmp_dfp = [Point.distance(gdf_mid.geometry.iloc[i]) for i,Point in enumerate(gdf_mid.geometry.iloc[1:])]\n",
    "tmp_dfp[:0] = [0]\n",
    "gdf_mid['dx'] = pd.Series(tmp_dfp) #note the 1:, equivalent to i+1\n",
    "gdf_mid['distan_cum'] = gdf_mid.dx.cumsum()"
   ]
  },
  {
   "cell_type": "code",
   "execution_count": 22,
   "metadata": {},
   "outputs": [],
   "source": [
    "f = sp.interpolate.interp1d(gdf_mid.y,gdf_mid.distan_cum)"
   ]
  },
  {
   "cell_type": "code",
   "execution_count": 23,
   "metadata": {},
   "outputs": [],
   "source": [
    "distan_cum_surveyed = f(points_y_surveyed[50,:])"
   ]
  },
  {
   "cell_type": "code",
   "execution_count": 24,
   "metadata": {},
   "outputs": [],
   "source": [
    "gdf_mid['in_meltzone'] = gdf_mid.geometry.intersects(bullseye)\n",
    "gdf_mz = gdf_mid[gdf_mid.in_meltzone==True].copy()"
   ]
  },
  {
   "cell_type": "code",
   "execution_count": 25,
   "metadata": {},
   "outputs": [
    {
     "data": {
      "text/plain": [
       "Index(['x', 'y', 'ice_thickn', 'ice_base', 'geometry', 'dx', 'distan_cum',\n",
       "       'in_meltzone'],\n",
       "      dtype='object')"
      ]
     },
     "execution_count": 25,
     "metadata": {},
     "output_type": "execute_result"
    }
   ],
   "source": [
    "gdf_mz.keys()"
   ]
  },
  {
   "cell_type": "code",
   "execution_count": 26,
   "metadata": {},
   "outputs": [],
   "source": [
    "gdf_mid.to_file('/Users/home/whitefar/DATA/FIELD_ANT_19/POST_FIELD/shapefiles/mid_chan_interpd.shp')"
   ]
  },
  {
   "cell_type": "code",
   "execution_count": 27,
   "metadata": {},
   "outputs": [],
   "source": [
    "yticks = (np.linspace(-734000,-722000,4)/1000).astype(int)\n",
    "xticks = (np.linspace(-382000,-376000,4)/1000).astype(int)"
   ]
  },
  {
   "cell_type": "code",
   "execution_count": 30,
   "metadata": {},
   "outputs": [],
   "source": [
    "bbox = box(xmin, xmax, ymin, ymax )\n",
    "#groundingline\n",
    "groundingline_path = glob.glob(f\"/Volumes/arc_02/REMOTE_SENSING/Quantarctica3/Miscellaneous/ScrippsGroundingLine/*.shp\")[0]\n",
    "groundingline =  gpd.read_file(groundingline_path)\n",
    "# groundingline_path\n",
    "\n",
    "groundingline = groundingline[groundingline.geometry.intersects(bbox)].copy()\n",
    "\n",
    "coast = groundingline.geometry.iloc[0].exterior.coords[:]\n",
    "\n",
    "gl = np.array([[x,y] for x,y in coast ])\n",
    "\n",
    "gl = gl[(gl[:,0]< xmax) & (gl[:,0]> xmin) & (gl[:,1] > ymin) & (gl[:,1] <  ymax)].copy()"
   ]
  },
  {
   "cell_type": "code",
   "execution_count": null,
   "metadata": {
    "scrolled": true
   },
   "outputs": [],
   "source": [
    "# %matplotlib qt\n",
    "#  fug, (a0, a1) = plt.subplots(2,1, gridspec_kw = {'height_ratios':[2, 3]},figsize=(6,6),dpi=180)#rema\n",
    "\n",
    "font = {'size'   : 11}\n",
    "\n",
    "mpl.rc('font', **font)\n",
    "\n",
    "\n",
    "fig, (ax1, ax2) = plt.subplots(2,1, gridspec_kw = {'height_ratios':[1, 3]},\n",
    "                               figsize=[6,10],dpi=180)#rema ,constrained_layout=True\n",
    "\n",
    "\n",
    "ax1.plot(gdf_mid.distan_cum/1000,gdf_mid.ice_base)\n",
    "# ax1.plot( gdf_mid.distan_cum.iloc[39],gdf_mid.ice_base.iloc[39],'b1',label=\"downwasting centre\",markersize=15,markeredgewidth=2)\n",
    "ax1.plot(gdf_mz.distan_cum/1000,gdf_mz.ice_base,':',label=\"downwasting region\",\n",
    "         color='tab:orange',linewidth=4) #,linewidth=3,markersize=15,markeredgewidth=2,\n",
    "ax1.plot(distan_cum_surveyed/1000,base_surveyed[50,:],'1',\n",
    "          label=\"19-20 surveyed points\",markersize=8,color=\"m\")\n",
    "# ax1.set_xlim([xmin, xmax])\n",
    "# ax1.set_ylim([ymin,ymax])\n",
    "ax1.set_ylabel('Basal elevation, m')\n",
    "ax1.set_xlabel('Distance down channel, km')\n",
    "ax1.grid()\n",
    "\n",
    "\n",
    "\n",
    "a2 = ax2.imshow(im_REMA,extent=np.array(extent_REMA)/1000,vmin=25,vmax=80, cmap='BrBG')\n",
    "\n",
    "CS2 =  ax2.contour(xv_REMA[::samp]/1000,yv_REMA[::samp]/1000,im_REMA_c_smoo[::samp],\n",
    "                      30,vmin=15,vmax=90, \n",
    "#                   cmap='BrBG',\n",
    "                  colors='black',\n",
    "                  alpha=0.5,linewidths=0.7)\n",
    "plt.clabel(CS2,CS2.levels[1::4], inline=1,  fmt='%i')\n",
    "\n",
    "ax2.plot( gdf_mid.x/1000,gdf_mid.y/1000,label='channel maximum')\n",
    "ax2.plot(bullseye_array[0]/1000,bullseye_array[1]/1000,':',label=\"downwasting region\",color='tab:orange',linewidth=4) #,markersize=15,markeredgewidth=2\n",
    "ax2.plot(gdf_mz.x/1000,gdf_mz.y/1000,':',markersize=4,color='tab:orange',linewidth=3) #,markersize=15,markeredgewidth=2\n",
    "ax2.plot(points_x_surveyed[50,:]/1000,points_y_surveyed[50,:]/1000,'1',markersize=8,label=\"19-20 surveyed points\",color=\"m\")\n",
    "ax2.set_xlim([xmin/1000, xmax/1000])\n",
    "ax2.set_ylim([ymin/1000,ymax/1000])\n",
    "ax2.set_xticks(xticks)\n",
    "ax2.set_yticks(yticks)\n",
    "ax2.grid()\n",
    "ax2.set_xlabel('Easting, polar steriographic, km')\n",
    "ax2.set_ylabel('Northing, polar steriographic, km')\n",
    "# ax2.set_xticks(xgrid/1000)\n",
    "ax2.legend()\n",
    "cb1 = fig.colorbar(a2,ax=ax2)\n",
    "cb1.set_label('Surface elevation, m')\n",
    "cb1.set_ticks(np.round(np.linspace(15,90,5)/5)*5)\n",
    "\n",
    "(x0, y0), (x1, y1) = ax2.get_position().get_points() \n",
    "(x20, y20), (x21, y21) = ax1.get_position().get_points() \n",
    "ax1.set_position([x0, y20, x1-x0,y21-y20 ])  # x, y, width, height\n",
    "\n",
    "\n",
    "fig.savefig('/Users/home/whitefar/ASSIGNMENTS-PUBLICATIONS-TALKS/channel_data_writeup/PLOTS/thickness_surfacecolour.png')\n",
    "fig.show()"
   ]
  },
  {
   "cell_type": "code",
   "execution_count": null,
   "metadata": {},
   "outputs": [],
   "source": []
  },
  {
   "cell_type": "code",
   "execution_count": null,
   "metadata": {},
   "outputs": [],
   "source": []
  },
  {
   "cell_type": "code",
   "execution_count": null,
   "metadata": {},
   "outputs": [],
   "source": []
  },
  {
   "cell_type": "code",
   "execution_count": null,
   "metadata": {},
   "outputs": [],
   "source": []
  },
  {
   "cell_type": "code",
   "execution_count": null,
   "metadata": {},
   "outputs": [],
   "source": []
  },
  {
   "cell_type": "code",
   "execution_count": 29,
   "metadata": {
    "scrolled": true
   },
   "outputs": [
    {
     "data": {
      "image/png": "[encoded data removed]",
      "text/plain": [
       "<Figure size 1080x1800 with 2 Axes>"
      ]
     },
     "metadata": {
      "needs_background": "light"
     },
     "output_type": "display_data"
    }
   ],
   "source": [
    "# %matplotlib qt\n",
    "#  fug, (a0, a1) = plt.subplots(2,1, gridspec_kw = {'height_ratios':[2, 3]},figsize=(6,6),dpi=180)#rema\n",
    "\n",
    "font = {'size'   : 11}\n",
    "\n",
    "mpl.rc('font', **font)\n",
    "\n",
    "\n",
    "fig, (ax1, ax2) = plt.subplots(2,1, gridspec_kw = {'height_ratios':[1, 3]},\n",
    "                               figsize=[6,10],dpi=180)#rema ,constrained_layout=True\n",
    "\n",
    "\n",
    "ax1.plot(gdf_mid.distan_cum/1000,gdf_mid.ice_base)\n",
    "# ax1.plot( gdf_mid.distan_cum.iloc[39],gdf_mid.ice_base.iloc[39],'b1',label=\"downwasting centre\",markersize=15,markeredgewidth=2)\n",
    "ax1.plot(gdf_mz.distan_cum/1000,gdf_mz.ice_base,':',label=\"downwasting region\",\n",
    "         color='tab:orange',linewidth=4) #,linewidth=3,markersize=15,markeredgewidth=2,\n",
    "ax1.plot(distan_cum_surveyed/1000,base_surveyed[50,:],'1',\n",
    "          label=\"19-20 surveyed points\",markersize=8,color=\"m\")\n",
    "ax1.set_xlim([0,2])\n",
    "ax1.set_ylim([-500,-300])\n",
    "ax1.set_ylabel('Basal elevation, m')\n",
    "ax1.set_xlabel('Distance down channel, km')\n",
    "ax1.grid()\n",
    "\n",
    "\n",
    "\n",
    "# a2 = ax2.imshow(im_REMA,extent=np.array(extent_REMA)/1000,vmin=25,vmax=80, cmap='BrBG')\n",
    "# ax2.plot( gdf_mid.x/1000,gdf_mid.y/1000,label='channel maximum')\n",
    "# ax2.plot(bullseye_array[0]/1000,bullseye_array[1]/1000,':',label=\"downwasting region\",color='tab:orange',linewidth=4) #,markersize=15,markeredgewidth=2\n",
    "# ax2.plot(gdf_mz.x/1000,gdf_mz.y/1000,':',markersize=4,color='tab:orange',linewidth=3) #,markersize=15,markeredgewidth=2\n",
    "# ax2.plot(points_x_surveyed[50,:]/1000,points_y_surveyed[50,:]/1000,'1',markersize=8,label=\"19-20 surveyed points\",color=\"m\")\n",
    "# ax2.set_xlim([xmin/1000, xmax/1000])\n",
    "# ax2.set_ylim([ymin/1000,ymax/1000])\n",
    "# ax2.set_xticks(xticks)\n",
    "# ax2.set_yticks(yticks)\n",
    "# ax2.grid()\n",
    "# ax2.set_xlabel('Easting, polar steriographic, km')\n",
    "# ax2.set_ylabel('Northing, polar steriographic, km')\n",
    "# # ax2.set_xticks(xgrid/1000)\n",
    "# ax2.legend()\n",
    "# cb1 = fig.colorbar(a2,ax=ax2)\n",
    "# cb1.set_label('Surface elevation, m')\n",
    "# cb1.set_ticks(np.round(np.linspace(15,90,5)/5)*5)\n",
    "\n",
    "# (x0, y0), (x1, y1) = ax2.get_position().get_points() \n",
    "# (x20, y20), (x21, y21) = ax1.get_position().get_points() \n",
    "# ax1.set_position([x0, y20, x1-x0,y21-y20 ])  # x, y, width, height\n",
    "\n",
    "\n",
    "# fig.savefig('/Users/home/whitefar/ASSIGNMENTS-PUBLICATIONS-TALKS/channel_data_writeup/PLOTS/thickness_surfacecolour.png')\n",
    "fig.show()"
   ]
  },
  {
   "cell_type": "code",
   "execution_count": null,
   "metadata": {},
   "outputs": [],
   "source": []
  },
  {
   "cell_type": "code",
   "execution_count": 27,
   "metadata": {},
   "outputs": [],
   "source": [
    "ibb = np.mean(ib_new[45:55,:],axis=0)"
   ]
  },
  {
   "cell_type": "code",
   "execution_count": null,
   "metadata": {},
   "outputs": [],
   "source": []
  },
  {
   "cell_type": "code",
   "execution_count": 38,
   "metadata": {},
   "outputs": [
    {
     "data": {
      "text/plain": [
       "423.2051756805161"
      ]
     },
     "execution_count": 38,
     "metadata": {},
     "output_type": "execute_result"
    }
   ],
   "source": [
    "gdf_mz.ice_thickn.min()"
   ]
  },
  {
   "cell_type": "code",
   "execution_count": 43,
   "metadata": {},
   "outputs": [
    {
     "data": {
      "text/plain": [
       "[<matplotlib.lines.Line2D at 0x7ff146bdb750>]"
      ]
     },
     "execution_count": 43,
     "metadata": {},
     "output_type": "execute_result"
    },
    {
     "data": {
      "image/png": "[encoded data removed]",
      "text/plain": [
       "<Figure size 432x288 with 1 Axes>"
      ]
     },
     "metadata": {
      "needs_background": "light"
     },
     "output_type": "display_data"
    }
   ],
   "source": [
    "plt.plot(gdf_mid.ice_thickn.iloc[200:])"
   ]
  },
  {
   "cell_type": "code",
   "execution_count": 45,
   "metadata": {},
   "outputs": [
    {
     "data": {
      "text/plain": [
       "427.4079620354668"
      ]
     },
     "execution_count": 45,
     "metadata": {},
     "output_type": "execute_result"
    }
   ],
   "source": [
    "gdf_mid.ice_thickn.iloc[200:].median()"
   ]
  },
  {
   "cell_type": "code",
   "execution_count": 47,
   "metadata": {},
   "outputs": [
    {
     "data": {
      "text/plain": [
       "-392.7346612400471"
      ]
     },
     "execution_count": 47,
     "metadata": {},
     "output_type": "execute_result"
    }
   ],
   "source": [
    "gdf_mid.ice_base.iloc[200:].mean()"
   ]
  },
  {
   "cell_type": "code",
   "execution_count": null,
   "metadata": {},
   "outputs": [],
   "source": []
  }
 ],
 "metadata": {
  "kernelspec": {
   "display_name": "remote_sensing",
   "language": "python",
   "name": "remote_sensing"
  },
  "language_info": {
   "codemirror_mode": {
    "name": "ipython",
    "version": 3
   },
   "file_extension": ".py",
   "mimetype": "text/x-python",
   "name": "python",
   "nbconvert_exporter": "python",
   "pygments_lexer": "ipython3",
   "version": "3.7.8"
  }
 },
 "nbformat": 4,
 "nbformat_minor": 4
}
