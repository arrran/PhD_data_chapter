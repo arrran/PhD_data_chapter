{
 "cells": [
  {
   "cell_type": "markdown",
   "metadata": {},
   "source": [
    " # fieldwork_location.png \n",
    " \n",
    " ## Modis moa Inset map, ant in corner, icestreams scale, square of common border, include flow route,\n",
    " "
   ]
  },
  {
   "cell_type": "markdown",
   "metadata": {},
   "source": [
    "\n",
    "## ICESat-2 detected active subglacial lakes\n",
    "\n",
    "Making pretty maps of active subglacial lakes in Antarctica, a companion jupyter notebook to https://github.com/weiji14/deepicedrain. Uses PyGMT for illustration, heavily inspired by https://github.com/mrsiegfried/Venturelli2020-GRL\n"
   ]
  },
  {
   "cell_type": "code",
   "execution_count": 1,
   "metadata": {},
   "outputs": [],
   "source": [
    "import os\n",
    "import re\n",
    "\n",
    "import geopandas as gpd\n",
    "import numpy as np\n",
    "import pandas as pd\n",
    "import pooch\n",
    "import pygmt\n",
    "import glob\n",
    "import rasterio as rio\n",
    "import matplotlib.pyplot as plt\n",
    "from shapely.geometry import Point"
   ]
  },
  {
   "cell_type": "code",
   "execution_count": 2,
   "metadata": {},
   "outputs": [],
   "source": [
    "#study area bounds\n",
    "xmin, xmax, ymin, ymax = -382700, -374781.9, -734075.1, -721770.2"
   ]
  },
  {
   "cell_type": "markdown",
   "metadata": {},
   "source": [
    "\n",
    "## Get data files\n",
    "\n",
    "Data for background basemaps:\n",
    "\n",
    "- Haran, T. M., Bohlander, J., Scambos, T. A., Painter, T. H., & Fahnestock, M. A. (2014). MODIS Mosaic of Antarctica 2008-2009 (MOA2009) Image Map. U.S. Antarctic Program Data Center (USAP-DC), via National Snow and Ice Data Center (NSIDC). https://doi.org/10.7265/N5KP8037\n",
    "- Depoorter, M. A., Bamber, J. L., Griggs, J. A., Lenaerts, J. T. M., Ligtenberg, S. R. M., van den Broeke, M. R., & Moholdt, G. (2013). Antarctic masks (ice-shelves, ice-sheet, and islands), link to shape file (p. 15.8 MBytes) [Application/zip]. PANGAEA - Data Publisher for Earth & Environmental Science. https://doi.org/10.1594/PANGAEA.819147\n",
    "- Mouginot, J., Rignot, E., & Scheuchl, B. (2019). MEaSUREs Phase Map of Antarctic Ice Velocity, Version 1 [Data set]. NASA National Snow and Ice Data Center DAAC. https://doi.org/10.5067/PZ3NJ5RXRH10\n",
    "\n"
   ]
  },
  {
   "cell_type": "code",
   "execution_count": 3,
   "metadata": {},
   "outputs": [],
   "source": [
    "datafold = '/Volumes/arc_02/REMOTE_SENSING/Quantarctica3/'"
   ]
  },
  {
   "cell_type": "code",
   "execution_count": 4,
   "metadata": {},
   "outputs": [],
   "source": [
    "# Using Quantarctica3 from https://www.npolar.no/quantarctica/\n",
    "# datafold: str = os.getenv(\"DATAHOME\") or os.path.abspath(\"Quantarctica3\")\n",
    "# os.makedirs(name=datafold, exist_ok=True)"
   ]
  },
  {
   "cell_type": "code",
   "execution_count": 5,
   "metadata": {},
   "outputs": [],
   "source": [
    "# MODIS Mosaic of Antarctica\n",
    "# moa_no_nan: str = pooch.retrieve(\n",
    "#     url=\"ftp://ftp.nsidc.org/pub/DATASETS/nsidc0593_moa2009/geotiff/moa750_2009_hp1_v01.1.tif.gz\",\n",
    "#     known_hash=\"90d1718ea0971795ec102482c47f308ba08ba2b88383facb9fe210877e80282c\",\n",
    "#     path=f\"{datafold}/SatelliteImagery/MODIS\",\n",
    "#     processor=pooch.Decompress(name=\"moa750_2009_hp1_v1.1.tif\"),\n",
    "# )\n",
    "moa_no_nan = '/Volumes/arc_02/REMOTE_SENSING/Quantarctica3/SatelliteImagery/MODIS/moa750_2009_hp1_v1.1.tif'\n",
    "moa = f\"{datafold}/SatelliteImagery/MODIS/moa750_2009_hp1_v01.1.tif\"\n",
    "try:\n",
    "    assert os.path.exists(path=moa)\n",
    "except AssertionError:\n",
    "    with pygmt.clib.Session() as lib:\n",
    "        # !gmt grdmath $moa_no_nan 0 NAN = $moa\n",
    "        lib.call_module(module=\"grdmath\", args=f\"{moa_no_nan} 0 NAN = {moa}\")"
   ]
  },
  {
   "cell_type": "code",
   "execution_count": 6,
   "metadata": {},
   "outputs": [],
   "source": [
    "groundingline = glob.glob(f\"{datafold}/Miscellaneous/ScrippsGroundingLine/*.shp\")[0]"
   ]
  },
  {
   "cell_type": "code",
   "execution_count": 7,
   "metadata": {},
   "outputs": [],
   "source": [
    "# # Scripps Grounding Line\n",
    "# shapefiles: list = pooch.retrieve(\n",
    "#     url=\"https://epic.awi.de/id/eprint/33781/1/Antarctica_masks.zip\",\n",
    "#     known_hash=\"e4c5918240e334680aed1329f109527efd8f43b6a277bb8e77b66f84f8c16619\",\n",
    "#     fname=\"groundingline\",\n",
    "#     path=f\"{datafold}/Miscellaneous/ScrippsGroundingLine\",\n",
    "#     processor=pooch.Unzip(),\n",
    "# )\n",
    "# groundingline: str = [file for file in shapefiles if file.endswith(\".shp\")][0]"
   ]
  },
  {
   "cell_type": "code",
   "execution_count": 9,
   "metadata": {},
   "outputs": [
    {
     "ename": "FileExistsError",
     "evalue": "[Errno 17] File exists: '/Volumes/arc_02/REMOTE_SENSING/Quantarctica3/Glaciology/MEaSUREs_PhaseBased_Velocity'",
     "output_type": "error",
     "traceback": [
      "\u001b[0;31m---------------------------------------------------------------------------\u001b[0m",
      "\u001b[0;31mAssertionError\u001b[0m                            Traceback (most recent call last)",
      "\u001b[0;32m<ipython-input-9-cb92a5680441>\u001b[0m in \u001b[0;36m<module>\u001b[0;34m\u001b[0m\n\u001b[1;32m      4\u001b[0m \u001b[0;32mtry\u001b[0m\u001b[0;34m:\u001b[0m\u001b[0;34m\u001b[0m\u001b[0;34m\u001b[0m\u001b[0m\n\u001b[0;32m----> 5\u001b[0;31m     \u001b[0;32massert\u001b[0m \u001b[0mos\u001b[0m\u001b[0;34m.\u001b[0m\u001b[0mpath\u001b[0m\u001b[0;34m.\u001b[0m\u001b[0mexists\u001b[0m\u001b[0;34m(\u001b[0m\u001b[0mvel\u001b[0m\u001b[0;34m)\u001b[0m\u001b[0;34m\u001b[0m\u001b[0;34m\u001b[0m\u001b[0m\n\u001b[0m\u001b[1;32m      6\u001b[0m \u001b[0;32mexcept\u001b[0m \u001b[0mAssertionError\u001b[0m\u001b[0;34m:\u001b[0m\u001b[0;34m\u001b[0m\u001b[0;34m\u001b[0m\u001b[0m\n",
      "\u001b[0;31mAssertionError\u001b[0m: ",
      "\nDuring handling of the above exception, another exception occurred:\n",
      "\u001b[0;31mFileExistsError\u001b[0m                           Traceback (most recent call last)",
      "\u001b[0;32m<ipython-input-9-cb92a5680441>\u001b[0m in \u001b[0;36m<module>\u001b[0;34m\u001b[0m\n\u001b[1;32m     14\u001b[0m             \u001b[0mfname\u001b[0m\u001b[0;34m=\u001b[0m\u001b[0;34m\"antarctic_ice_vel_phase_map_v01.nc\"\u001b[0m\u001b[0;34m,\u001b[0m\u001b[0;34m\u001b[0m\u001b[0;34m\u001b[0m\u001b[0m\n\u001b[0;32m---> 15\u001b[0;31m             \u001b[0mpath\u001b[0m\u001b[0;34m=\u001b[0m\u001b[0;34mf\"{datafold}/Glaciology/MEaSUREs_PhaseBased_Velocity\"\u001b[0m\u001b[0;34m,\u001b[0m\u001b[0;34m\u001b[0m\u001b[0;34m\u001b[0m\u001b[0m\n\u001b[0m\u001b[1;32m     16\u001b[0m         )\n",
      "\u001b[0;32m~/miniconda3/envs/remote_sensing/lib/python3.7/site-packages/pooch/core.py\u001b[0m in \u001b[0;36mretrieve\u001b[0;34m(url, known_hash, fname, path, processor, downloader)\u001b[0m\n\u001b[1;32m    210\u001b[0m     \u001b[0mpath\u001b[0m \u001b[0;34m=\u001b[0m \u001b[0mcache_location\u001b[0m\u001b[0;34m(\u001b[0m\u001b[0mpath\u001b[0m\u001b[0;34m,\u001b[0m \u001b[0menv\u001b[0m\u001b[0;34m=\u001b[0m\u001b[0;32mNone\u001b[0m\u001b[0;34m,\u001b[0m \u001b[0mversion\u001b[0m\u001b[0;34m=\u001b[0m\u001b[0;32mNone\u001b[0m\u001b[0;34m)\u001b[0m\u001b[0;34m\u001b[0m\u001b[0;34m\u001b[0m\u001b[0m\n\u001b[0;32m--> 211\u001b[0;31m     \u001b[0mmake_local_storage\u001b[0m\u001b[0;34m(\u001b[0m\u001b[0mpath\u001b[0m\u001b[0;34m)\u001b[0m\u001b[0;34m\u001b[0m\u001b[0;34m\u001b[0m\u001b[0m\n\u001b[0m\u001b[1;32m    212\u001b[0m \u001b[0;34m\u001b[0m\u001b[0m\n",
      "\u001b[0;32m~/miniconda3/envs/remote_sensing/lib/python3.7/site-packages/pooch/utils.py\u001b[0m in \u001b[0;36mmake_local_storage\u001b[0;34m(path, env)\u001b[0m\n\u001b[1;32m    281\u001b[0m             \u001b[0;31m# raising an error.\u001b[0m\u001b[0;34m\u001b[0m\u001b[0;34m\u001b[0m\u001b[0;34m\u001b[0m\u001b[0m\n\u001b[0;32m--> 282\u001b[0;31m             \u001b[0mos\u001b[0m\u001b[0;34m.\u001b[0m\u001b[0mmakedirs\u001b[0m\u001b[0;34m(\u001b[0m\u001b[0mpath\u001b[0m\u001b[0;34m,\u001b[0m \u001b[0mexist_ok\u001b[0m\u001b[0;34m=\u001b[0m\u001b[0;32mTrue\u001b[0m\u001b[0;34m)\u001b[0m\u001b[0;34m\u001b[0m\u001b[0;34m\u001b[0m\u001b[0m\n\u001b[0m\u001b[1;32m    283\u001b[0m         \u001b[0;32melse\u001b[0m\u001b[0;34m:\u001b[0m\u001b[0;34m\u001b[0m\u001b[0;34m\u001b[0m\u001b[0m\n",
      "\u001b[0;32m~/miniconda3/envs/remote_sensing/lib/python3.7/os.py\u001b[0m in \u001b[0;36mmakedirs\u001b[0;34m(name, mode, exist_ok)\u001b[0m\n\u001b[1;32m    222\u001b[0m     \u001b[0;32mtry\u001b[0m\u001b[0;34m:\u001b[0m\u001b[0;34m\u001b[0m\u001b[0;34m\u001b[0m\u001b[0m\n\u001b[0;32m--> 223\u001b[0;31m         \u001b[0mmkdir\u001b[0m\u001b[0;34m(\u001b[0m\u001b[0mname\u001b[0m\u001b[0;34m,\u001b[0m \u001b[0mmode\u001b[0m\u001b[0;34m)\u001b[0m\u001b[0;34m\u001b[0m\u001b[0;34m\u001b[0m\u001b[0m\n\u001b[0m\u001b[1;32m    224\u001b[0m     \u001b[0;32mexcept\u001b[0m \u001b[0mOSError\u001b[0m\u001b[0;34m:\u001b[0m\u001b[0;34m\u001b[0m\u001b[0;34m\u001b[0m\u001b[0m\n",
      "\u001b[0;31mFileExistsError\u001b[0m: [Errno 17] File exists: '/Volumes/arc_02/REMOTE_SENSING/Quantarctica3/Glaciology/MEaSUREs_PhaseBased_Velocity'",
      "\nDuring handling of the above exception, another exception occurred:\n",
      "\u001b[0;31mFileExistsError\u001b[0m                           Traceback (most recent call last)",
      "\u001b[0;32m<ipython-input-9-cb92a5680441>\u001b[0m in \u001b[0;36m<module>\u001b[0;34m\u001b[0m\n\u001b[1;32m     27\u001b[0m             \u001b[0mknown_hash\u001b[0m\u001b[0;34m=\u001b[0m\u001b[0;34m\"ed6393275d8d8475c2162a838d6b9220cd529d28a2b5d674a6bf6dbda4971049\"\u001b[0m\u001b[0;34m,\u001b[0m\u001b[0;34m\u001b[0m\u001b[0;34m\u001b[0m\u001b[0m\n\u001b[1;32m     28\u001b[0m             \u001b[0mfname\u001b[0m\u001b[0;34m=\u001b[0m\u001b[0;34m\"antarctic_ice_vel_phase_map_v01-vmag.nc\"\u001b[0m\u001b[0;34m,\u001b[0m\u001b[0;34m\u001b[0m\u001b[0;34m\u001b[0m\u001b[0m\n\u001b[0;32m---> 29\u001b[0;31m             \u001b[0mpath\u001b[0m\u001b[0;34m=\u001b[0m\u001b[0;34mf\"{datafold}/Glaciology/MEaSUREs_PhaseBased_Velocity\"\u001b[0m\u001b[0;34m,\u001b[0m\u001b[0;34m\u001b[0m\u001b[0;34m\u001b[0m\u001b[0m\n\u001b[0m\u001b[1;32m     30\u001b[0m         )\n",
      "\u001b[0;32m~/miniconda3/envs/remote_sensing/lib/python3.7/site-packages/pooch/core.py\u001b[0m in \u001b[0;36mretrieve\u001b[0;34m(url, known_hash, fname, path, processor, downloader)\u001b[0m\n\u001b[1;32m    209\u001b[0m     \u001b[0;31m# path absolute.\u001b[0m\u001b[0;34m\u001b[0m\u001b[0;34m\u001b[0m\u001b[0;34m\u001b[0m\u001b[0m\n\u001b[1;32m    210\u001b[0m     \u001b[0mpath\u001b[0m \u001b[0;34m=\u001b[0m \u001b[0mcache_location\u001b[0m\u001b[0;34m(\u001b[0m\u001b[0mpath\u001b[0m\u001b[0;34m,\u001b[0m \u001b[0menv\u001b[0m\u001b[0;34m=\u001b[0m\u001b[0;32mNone\u001b[0m\u001b[0;34m,\u001b[0m \u001b[0mversion\u001b[0m\u001b[0;34m=\u001b[0m\u001b[0;32mNone\u001b[0m\u001b[0;34m)\u001b[0m\u001b[0;34m\u001b[0m\u001b[0;34m\u001b[0m\u001b[0m\n\u001b[0;32m--> 211\u001b[0;31m     \u001b[0mmake_local_storage\u001b[0m\u001b[0;34m(\u001b[0m\u001b[0mpath\u001b[0m\u001b[0;34m)\u001b[0m\u001b[0;34m\u001b[0m\u001b[0;34m\u001b[0m\u001b[0m\n\u001b[0m\u001b[1;32m    212\u001b[0m \u001b[0;34m\u001b[0m\u001b[0m\n\u001b[1;32m    213\u001b[0m     \u001b[0mfull_path\u001b[0m \u001b[0;34m=\u001b[0m \u001b[0mpath\u001b[0m\u001b[0;34m.\u001b[0m\u001b[0mresolve\u001b[0m\u001b[0;34m(\u001b[0m\u001b[0;34m)\u001b[0m \u001b[0;34m/\u001b[0m \u001b[0mfname\u001b[0m\u001b[0;34m\u001b[0m\u001b[0;34m\u001b[0m\u001b[0m\n",
      "\u001b[0;32m~/miniconda3/envs/remote_sensing/lib/python3.7/site-packages/pooch/utils.py\u001b[0m in \u001b[0;36mmake_local_storage\u001b[0;34m(path, env)\u001b[0m\n\u001b[1;32m    280\u001b[0m             \u001b[0;31m# try to create the path at the same time. Use exist_ok to avoid\u001b[0m\u001b[0;34m\u001b[0m\u001b[0;34m\u001b[0m\u001b[0;34m\u001b[0m\u001b[0m\n\u001b[1;32m    281\u001b[0m             \u001b[0;31m# raising an error.\u001b[0m\u001b[0;34m\u001b[0m\u001b[0;34m\u001b[0m\u001b[0;34m\u001b[0m\u001b[0m\n\u001b[0;32m--> 282\u001b[0;31m             \u001b[0mos\u001b[0m\u001b[0;34m.\u001b[0m\u001b[0mmakedirs\u001b[0m\u001b[0;34m(\u001b[0m\u001b[0mpath\u001b[0m\u001b[0;34m,\u001b[0m \u001b[0mexist_ok\u001b[0m\u001b[0;34m=\u001b[0m\u001b[0;32mTrue\u001b[0m\u001b[0;34m)\u001b[0m\u001b[0;34m\u001b[0m\u001b[0;34m\u001b[0m\u001b[0m\n\u001b[0m\u001b[1;32m    283\u001b[0m         \u001b[0;32melse\u001b[0m\u001b[0;34m:\u001b[0m\u001b[0;34m\u001b[0m\u001b[0;34m\u001b[0m\u001b[0m\n\u001b[1;32m    284\u001b[0m             \u001b[0maction\u001b[0m \u001b[0;34m=\u001b[0m \u001b[0;34m\"write to\"\u001b[0m\u001b[0;34m\u001b[0m\u001b[0;34m\u001b[0m\u001b[0m\n",
      "\u001b[0;32m~/miniconda3/envs/remote_sensing/lib/python3.7/os.py\u001b[0m in \u001b[0;36mmakedirs\u001b[0;34m(name, mode, exist_ok)\u001b[0m\n\u001b[1;32m    221\u001b[0m             \u001b[0;32mreturn\u001b[0m\u001b[0;34m\u001b[0m\u001b[0;34m\u001b[0m\u001b[0m\n\u001b[1;32m    222\u001b[0m     \u001b[0;32mtry\u001b[0m\u001b[0;34m:\u001b[0m\u001b[0;34m\u001b[0m\u001b[0;34m\u001b[0m\u001b[0m\n\u001b[0;32m--> 223\u001b[0;31m         \u001b[0mmkdir\u001b[0m\u001b[0;34m(\u001b[0m\u001b[0mname\u001b[0m\u001b[0;34m,\u001b[0m \u001b[0mmode\u001b[0m\u001b[0;34m)\u001b[0m\u001b[0;34m\u001b[0m\u001b[0;34m\u001b[0m\u001b[0m\n\u001b[0m\u001b[1;32m    224\u001b[0m     \u001b[0;32mexcept\u001b[0m \u001b[0mOSError\u001b[0m\u001b[0;34m:\u001b[0m\u001b[0;34m\u001b[0m\u001b[0;34m\u001b[0m\u001b[0m\n\u001b[1;32m    225\u001b[0m         \u001b[0;31m# Cannot rely on checking for EEXIST, since the operating system\u001b[0m\u001b[0;34m\u001b[0m\u001b[0;34m\u001b[0m\u001b[0;34m\u001b[0m\u001b[0m\n",
      "\u001b[0;31mFileExistsError\u001b[0m: [Errno 17] File exists: '/Volumes/arc_02/REMOTE_SENSING/Quantarctica3/Glaciology/MEaSUREs_PhaseBased_Velocity'"
     ]
    }
   ],
   "source": [
    "# MEaSUREs Phase Map of Antarctic Ice Velocity\n",
    "vel_file = f\"{datafold}/Glaciology/MEaSUREs_PhaseBased_Velocity/antarctic_ice_vel_phase_map_v01\"\n",
    "vel: str = f\"{vel_file}-vmag.nc\"\n",
    "try:\n",
    "    assert os.path.exists(vel)\n",
    "except AssertionError:\n",
    "    # Note, download require a .netrc file containing 'machine urs.earthdata.nasa.gov login <uid> password <password>'\n",
    "    # see https://nsidc.org/support/how/how-do-i-programmatically-access-data-spatial-temporal\n",
    "    try:\n",
    "        # Run processing of velocity magnitude grid locally\n",
    "        vel_file: str = pooch.retrieve(\n",
    "            url=\"https://n5eil01u.ecs.nsidc.org/MEASURES/NSIDC-0754.001/1996.01.01/antarctic_ice_vel_phase_map_v01.nc\",\n",
    "            known_hash=\"fa0957618b8bd98099f4a419d7dc0e3a2c562d89e9791b4d0ed55e6017f52416\",\n",
    "            fname=\"antarctic_ice_vel_phase_map_v01.nc\",\n",
    "            path=f\"{datafold}/Glaciology/MEaSUREs_PhaseBased_Velocity\",\n",
    "        )\n",
    "        with pygmt.clib.Session() as lib:\n",
    "            #! gmt grdmath ${vel_file}.nc?VX 2 POW ${vel_file}.nc?VY 2 POW POW 0.5 = ${vel_file}-vmag.nc\n",
    "            lib.call_module(\n",
    "                module=\"grdmath\",\n",
    "                args=f\"{vel_file}.nc?VX 2 POW {vel_file}.nc?VY 2 POW POW 0.5 = {vel}\",\n",
    "            )\n",
    "    except:\n",
    "        # Just download pre-processed velocity magnitude grid from GitHub\n",
    "        vel: str = pooch.retrieve(\n",
    "            url=\"https://github.com/weiji14/nzasc2021/releases/download/v0.0.0/antarctic_ice_vel_phase_map_v01-vmag.nc\",\n",
    "            known_hash=\"ed6393275d8d8475c2162a838d6b9220cd529d28a2b5d674a6bf6dbda4971049\",\n",
    "            fname=\"antarctic_ice_vel_phase_map_v01-vmag.nc\",\n",
    "            path=f\"{datafold}/Glaciology/MEaSUREs_PhaseBased_Velocity\",\n",
    "        )"
   ]
  },
  {
   "cell_type": "code",
   "execution_count": null,
   "metadata": {},
   "outputs": [],
   "source": []
  },
  {
   "cell_type": "code",
   "execution_count": null,
   "metadata": {},
   "outputs": [],
   "source": [
    "flux_nonan = '/Volumes/arc_02/REMOTE_SENSING/Quantarctica3/Glaciology/Subglacial_Water_Flux/SubglacialWaterFlux_Modelled_1km.tif'"
   ]
  },
  {
   "cell_type": "code",
   "execution_count": null,
   "metadata": {},
   "outputs": [],
   "source": [
    "flux = \"/Volumes/arc_02/REMOTE_SENSING/Quantarctica3/Glaciology/Subglacial_Water_Flux/SubglacialWaterFlux_Modelled_1km_cutsmallvals.tif\""
   ]
  },
  {
   "cell_type": "code",
   "execution_count": null,
   "metadata": {},
   "outputs": [],
   "source": [
    "rio.crs.CRS.from_epsg(3031)"
   ]
  },
  {
   "cell_type": "code",
   "execution_count": null,
   "metadata": {},
   "outputs": [],
   "source": [
    "cut = 0.08\n",
    "\n",
    "\n",
    "with rio.open(flux_nonan) as image:\n",
    "    extent = [image.bounds[0],image.bounds[2],image.bounds[1],image.bounds[3]]\n",
    "    im = image.read(1)\n",
    "    out_meta = image.profile\n",
    "    out_meta['crs'] = rio.crs.CRS.from_epsg(3031)\n",
    "    \n",
    "    out_meta['driver']= 'GTiff' \n",
    "    \n",
    "    im[im<cut] = np.nan\n",
    "    \n",
    "    with rio.open(\n",
    "        f\"/Volumes/arc_02/REMOTE_SENSING/Quantarctica3/Glaciology/Subglacial_Water_Flux/SubglacialWaterFlux_Modelled_1km_cutsmallvals.tif\",\n",
    "                    'w', **out_meta) as output:\n",
    "        output.write(im.reshape(1,im.shape[0],im.shape[1])  )"
   ]
  },
  {
   "cell_type": "code",
   "execution_count": null,
   "metadata": {},
   "outputs": [],
   "source": [
    "# plt.imshow(im,vmin=0.00,vmax=0.6)\n",
    "# plt.colorbar()\n",
    "# # plt.xlim(2000,3200)\n",
    "# # plt.ylim(2000,3000)"
   ]
  },
  {
   "cell_type": "code",
   "execution_count": null,
   "metadata": {},
   "outputs": [],
   "source": [
    "# im[~np.isnan(im)].shape"
   ]
  },
  {
   "cell_type": "code",
   "execution_count": null,
   "metadata": {},
   "outputs": [],
   "source": [
    "# im[~np.isnan(im)].max()"
   ]
  },
  {
   "cell_type": "code",
   "execution_count": null,
   "metadata": {},
   "outputs": [],
   "source": [
    "# im[~np.isnan(im)].min()"
   ]
  },
  {
   "cell_type": "markdown",
   "metadata": {},
   "source": [
    "\n",
    "### Make color maps\n",
    "\n",
    "For MOA and ice velocity and vertical elevation trend (dhdt). Scientific color maps are from http://doi.org/10.5281/zenodo.1243862\n"
   ]
  },
  {
   "cell_type": "code",
   "execution_count": null,
   "metadata": {},
   "outputs": [],
   "source": [
    "#colormaps https://docs.generic-mapping-tools.org/latest/cookbook/cpts.html#of-colors-and-color-legends\n",
    "\n",
    "pygmt.makecpt(\n",
    "    series=[15000, 17000, 1],\n",
    "    cmap=\"grayC\",\n",
    "    continuous=True,\n",
    "    output=\"cmap_moa.cpt\",\n",
    "    reverse=True,\n",
    ")\n",
    "#velocity cmap\n",
    "# with pygmt.config(COLOR_FOREGROUND=\"240/249/33\", COLOR_BACKGROUND=\"13/8/135\"):\n",
    "pygmt.makecpt(series=[0, 800, 1],\n",
    "              #reverse=True,\n",
    "              cmap=\"white,red\",\n",
    "              continuous=True,\n",
    "              output=\"cmap_vel.cpt\")\n",
    "\n",
    "    #water flux cmap\n",
    "pygmt.makecpt(\n",
    "    cmap=\"devon\",\n",
    "    series=[0.05, 0.654],\n",
    "    reverse=True,\n",
    "    continuous=True,\n",
    "    output=\"cmap_flux.cpt\",\n",
    ")\n",
    "\n"
   ]
  },
  {
   "cell_type": "markdown",
   "metadata": {},
   "source": [
    "\n",
    "## Figure of Siple Coast\n"
   ]
  },
  {
   "cell_type": "code",
   "execution_count": null,
   "metadata": {},
   "outputs": [],
   "source": [
    "# We're making this a specific height\n",
    "figheight = 115  # in mm\n",
    "\n",
    "# Region in PS71 for main part of the figure\n",
    "sip_xl, sip_xh, sip_yl, sip_yh = sipreg = [-800_000, 25_000, -1_000_000, -400_000]\n",
    "\n",
    "# Calculate the figure width and map scale\n",
    "figwidth = figheight * (sip_xh - sip_xl) / (sip_yh - sip_yl)\n",
    "sipratio = (sip_yh - sip_yl) / (figheight / 1000)\n",
    "\n",
    "# Make a GMT region string and projection strings in both PS71 and Lon/Lat\n",
    "sipreg = [sip_xl, sip_xh, sip_yl, sip_yh]\n",
    "sipproj = f\"x1:{sipratio}\"\n",
    "sipproj_ll = f\"s0/-90/-71/1:{sipratio}\""
   ]
  },
  {
   "cell_type": "code",
   "execution_count": null,
   "metadata": {},
   "outputs": [],
   "source": [
    "# Initialize figure and plot MOA as the basemap with ticks every 200 km in xy directions\n",
    "fig = pygmt.Figure()\n",
    "with pygmt.config(MAP_FRAME_TYPE=\"inside\"):\n",
    "    fig.basemap(\n",
    "        region=sipreg, projection=sipproj, frame=[\"nwse\", \"xf200000\", \"yf200000\"]\n",
    "    )\n",
    "    fig.grdimage(grid=moa, cmap=\"cmap_moa.cpt\", nan_transparent=True)\n",
    "\n",
    "# Plot graticules overtop, every 2° latitude and 15° longitude\n",
    "with pygmt.config(\n",
    "    MAP_ANNOT_OFFSET_PRIMARY=\"-2p\",\n",
    "    MAP_FRAME_TYPE=\"inside\",\n",
    "    MAP_ANNOT_OBLIQUE=0,\n",
    "    FONT_ANNOT_PRIMARY=\"10p,grey\",\n",
    "    MAP_GRID_PEN_PRIMARY=\"grey\",\n",
    "    MAP_TICK_LENGTH_PRIMARY=\"-10p\",\n",
    "    MAP_TICK_PEN_PRIMARY=\"thinnest,grey\",\n",
    "    FORMAT_GEO_MAP=\"dddF\",\n",
    "    MAP_POLAR_CAP=\"88/90\",  # less longitude graticules at >88°S\n",
    "):\n",
    "    fig.basemap(\n",
    "        projection=sipproj_ll, region=sipreg, frame=[\"NSWE\", \"xa15g15\", \"ya2g2\"]\n",
    "    )\n",
    "\n",
    "# Plot the grounding line in white\n",
    "fig.plot(data=groundingline, region=sipreg, projection=sipproj, pen=\"0.15p,white\")"
   ]
  },
  {
   "cell_type": "code",
   "execution_count": null,
   "metadata": {},
   "outputs": [],
   "source": [
    "# Overlay ice velocity with 70% transparency\n",
    "fig.grdimage(grid=vel, cmap=\"cmap_vel.cpt\", transparency=70, nan_transparent=True)\n",
    "# Overlay dhdt with 30% transparency\n",
    "# pygmt.makecpt(cmap=\"berlin\", series=[-1.0, 1.0, 0.25], continuous=True, reverse=True)\n",
    "# fig.grdimage(\n",
    "#     grid=\"ATLXI/ds_grid_dhdt_siple_coast.nc\",\n",
    "#     cmap=True,\n",
    "#     # cmap=\"cmap_dhdt.cpt\",\n",
    "#     transparency=30,\n",
    "#     nan_transparent=True,\n",
    "# )\n",
    "fig.show()"
   ]
  },
  {
   "cell_type": "code",
   "execution_count": null,
   "metadata": {},
   "outputs": [],
   "source": [
    "# Overlay subglacial water flux with 0% transparency\n",
    "fig.grdimage(grid=flux, cmap='cmap_flux.cpt',\n",
    "             transparency=20,  \n",
    "             nan_transparent=True)\n",
    "# Overlay dhdt with 30% transparency\n",
    "# pygmt.makecpt(cmap=\"berlin\", series=[-1.0, 1.0, 0.25], continuous=True, reverse=True)\n",
    "# fig.grdimage(\n",
    "#     grid=\"ATLXI/ds_grid_dhdt_siple_coast.nc\",\n",
    "#     cmap=True,\n",
    "#     # cmap=\"cmap_dhdt.cpt\",\n",
    "#     transparency=30,\n",
    "#     nan_transparent=True,\n",
    "# )\n",
    "\n",
    "\n",
    "\n",
    "fig.show()"
   ]
  },
  {
   "cell_type": "code",
   "execution_count": null,
   "metadata": {},
   "outputs": [],
   "source": [
    "# Plot bounding box of KIS2 study area\n",
    "fig.plot(\n",
    "    x=[xmin, xmin, xmax, xmax, xmin],\n",
    "    y=[ymin, ymax, ymax, ymin, ymin],\n",
    "    pen=\"1p,yellow\",  # map location in black\n",
    "    #transparency=0,\n",
    ")\n",
    "fig.show()"
   ]
  },
  {
   "cell_type": "code",
   "execution_count": null,
   "metadata": {},
   "outputs": [],
   "source": [
    "# Siple Coast placename labels\n",
    "# gdf = gpd.read_file(\"antarctic_subglacial_lakes_3031.gmt\")\n",
    "with open(\"place_labels_siple_coast.tsv\", mode=\"w\") as file:\n",
    "    # Ice Streams A to E\n",
    "    font = \"12p,Helvetica-Narrow-Oblique,white\"\n",
    "    print(f\"-200000\\t-780000\\t15\\t{font}\\tCM\\tRoss Ice Shelf\", file=file)\n",
    "    print(f\"-385000\\t-555000\\t-5\\t{font}\\tCM\\tWhillans Ice Stream\", file=file)\n",
    "   # print(f\"-470000\\t-450000\\t-55\\t{font}\\tCM\\tVan der Veen Ice Stream\", file=file)\n",
    "    print(f\"-565000\\t-625000\\t-30\\t{font}\\tCM\\tKamb Ice Stream\", file=file)\n",
    "   # print(f\"-700000\\t-700000\\t-45\\t{font}\\tCM\\tBindschadler Ice Stream\", file=file)\n",
    "   # print(f\"-700000\\t-850000\\t-37\\t{font}\\tCM\\tMacAyeal Ice Stream\", file=file)\n",
    "\n",
    "    print(f\"-450000\\t-780000\\t-35\\t{font}\\tCM\\tSiple Dome\", file=file)\n",
    "    #print(f\"-650000\\t-800000\\t-25\\t{font}\\tCM\\tShabtaie Ice Ridge\", file=file)\n",
    "    #print(f\"-650000\\t-950000\\t-15\\t{font}\\tCM\\tHarrison Ice Ridge\", file=file)\n",
    "\n",
    "    # Abbreviated lakes\n",
    "    abbrev_dict: dict = {\n",
    "        \"Subglacial\": \"S\",\n",
    "        \"Lake\": \"L\",\n",
    "        \"Conway\": \"C\",\n",
    "        \"Engelhardt\": \"E\",\n",
    "        \"Kamb\": \"K\",\n",
    "        \"MacAyeal\": \"Mac\",\n",
    "        \"Mercer\": \"M\",\n",
    "        # \"Recovery\", \"R\",\n",
    "        # \"Slessor\",\"S\"\n",
    "        \"Whillans\": \"W\",\n",
    "    }\n",
    "    pattern = re.compile(pattern=rf\"\\b({'|'.join(abbrev_dict.keys())})\\b\")\n",
    "\n",
    "#     for idx, row in gdf.dissolve(by=\"lake_name\", as_index=False).iterrows():\n",
    "#         x, y = row.geometry.centroid.xy\n",
    "\n",
    "#         label = pattern.sub(\n",
    "#             repl=lambda name: abbrev_dict[name.group()], string=row.lake_name\n",
    "#         ).replace(\" \", \"\")\n",
    "#         justify = (\n",
    "#             \"BL\"\n",
    "#             if label in (\"L12\", \"L78\", \"SLW\", \"W7\", \"WX\", \"WXI\")\n",
    "#             else \"TC\"\n",
    "#             if (\"*\" in label or label == \"SLM\")\n",
    "#             else \"TR\"\n",
    "#         )\n",
    "\n",
    "#         print(f\"{x[0]:.0f}\\t{y[0]:.0f}\\t0\\t6p,white\\t{justify}\\t{label}\", file=file)"
   ]
  },
  {
   "cell_type": "code",
   "execution_count": null,
   "metadata": {},
   "outputs": [],
   "source": [
    "\n",
    "\n",
    "# Plot labels for Siple Coast ice streams, active subglacial lakes, etc\n",
    "fig.text(\n",
    "    textfiles=\"place_labels_siple_coast.tsv\",\n",
    "    angle=True,\n",
    "    font=True,\n",
    "    justify=True,\n",
    "    offset=\"j0.12c\",\n",
    "    # frame=[\"WsNe\", \"af10000g50000\"],\n",
    ")\n",
    "fig.show()\n",
    "\n"
   ]
  },
  {
   "cell_type": "code",
   "execution_count": null,
   "metadata": {},
   "outputs": [],
   "source": [
    "# Plot the velocity color bar once with a transparent box, then again with no box and no transparency\n",
    "with pygmt.config(\n",
    "    FONT_ANNOT_PRIMARY=\"9p,white\",\n",
    "    FONT_LABEL=\"9p,white\",\n",
    "    MAP_ANNOT_OFFSET_PRIMARY=\"2p\",\n",
    "    MAP_TICK_PEN_PRIMARY=\"0.25p,white\",\n",
    "    MAP_TICK_LENGTH_PRIMARY=\"3p\",\n",
    "    MAP_FRAME_PEN=\"0.5p,white\",\n",
    "    MAP_LABEL_OFFSET=\"4p\",\n",
    "):\n",
    "    colorbar_kwargs = dict(\n",
    "        cmap=\"cmap_vel.cpt\",\n",
    "        position=\"jBR+jBR+w1.6c/0.18c+o1.9c/0.3c+v+e\",\n",
    "        frame=[\"xaf+lm/yr\", 'y+l\"velocity\"'],\n",
    "    )\n",
    "    fig.colorbar(\n",
    "        #box=\"+gblack+c-9p/3p\",\n",
    "        transparency=70,\n",
    "        **colorbar_kwargs,\n",
    "    )\n",
    "    fig.colorbar(**colorbar_kwargs)\n",
    "\n",
    "#     # Add a scalebar\n",
    "#     fig.basemap(\n",
    "#         projection=sipproj_ll, region=sipreg, map_scale=\"jBR+o4.2c/0.3c+w50k+uk+f+c-83\"\n",
    "#     )\n",
    "\n",
    "fig.show()"
   ]
  },
  {
   "cell_type": "code",
   "execution_count": null,
   "metadata": {},
   "outputs": [],
   "source": [
    "# Plot the drainage color bar once with a transparent box, then again with no box and no transparency\n",
    "with pygmt.config(\n",
    "    FONT_ANNOT_PRIMARY=\"9p,white\",\n",
    "    FONT_LABEL=\"9p,white\",\n",
    "    MAP_ANNOT_OFFSET_PRIMARY=\"2p\",\n",
    "    MAP_TICK_PEN_PRIMARY=\"0.25p,white\",\n",
    "    MAP_TICK_LENGTH_PRIMARY=\"3p\",\n",
    "    MAP_FRAME_PEN=\"0.5p,white\",\n",
    "    MAP_LABEL_OFFSET=\"4p\",\n",
    "):\n",
    "    colorbar_kwargs = dict(\n",
    "        cmap=\"cmap_flux.cpt\",\n",
    "        position=\"jBR+jBR+w1.6c/0.18c+o3.65c/0.3c+v+e\", #BR bottom right\n",
    "        frame=[\"xaf+lm@+3@+/s\", 'y+l\"drainage\"'],\n",
    "    )\n",
    "    fig.colorbar(\n",
    "        #box=\"+gblack+c-9p/3p\",\n",
    "        transparency=70,\n",
    "        **colorbar_kwargs,\n",
    "    )\n",
    "    fig.colorbar(**colorbar_kwargs)\n",
    "\n",
    "    # Add a scalebar\n",
    "    fig.basemap(\n",
    "        projection=sipproj_ll, region=sipreg, map_scale=\"jBR+o6.5c/0.5c+w50k+uk+f+c-83\"\n",
    "    )\n",
    "\n",
    "fig.show()"
   ]
  },
  {
   "cell_type": "code",
   "execution_count": null,
   "metadata": {},
   "outputs": [],
   "source": [
    "# Make insets of Antarctica\n",
    "antwidth = 3  # width of inset in cm\n",
    "with fig.inset(position=f\"jBL+w{antwidth}c\", box=\"+pblack+gwhite\"):\n",
    "    # Plot the inset map\n",
    "    fig.basemap(region=vel, projection=f\"S0/-90/71/{antwidth}c\", frame=\"+n\")\n",
    "    fig.coast(area_thresh=\"+a\", land=\"white\")  # ice shelf in white\n",
    "    fig.coast(area_thresh=\"+ag\", land=\"gray\")  # grounded ice in gray\n",
    "    fig.plot(\n",
    "        projection=f\"X{antwidth}c\",\n",
    "        x=[sip_xl, sip_xl, sip_xh, sip_xh, sip_xl],\n",
    "        y=[sip_yl, sip_yh, sip_yh, sip_yl, sip_yl],\n",
    "        pen=\"1p,black\",  # map location in black\n",
    "    )\n",
    "\n",
    "fig.show()"
   ]
  },
  {
   "cell_type": "code",
   "execution_count": null,
   "metadata": {},
   "outputs": [],
   "source": [
    "# Save the figure\n",
    "fig.savefig(fname=\"/Users/home/whitefar/ASSIGNMENTS-PUBLICATIONS-TALKS/channel_data_writeup/PLOTS/fieldwork_location_small.png\", dpi=520)"
   ]
  },
  {
   "cell_type": "code",
   "execution_count": null,
   "metadata": {},
   "outputs": [],
   "source": []
  },
  {
   "cell_type": "code",
   "execution_count": null,
   "metadata": {},
   "outputs": [],
   "source": []
  }
 ],
 "metadata": {
  "kernelspec": {
   "display_name": "remote_sensing",
   "language": "python",
   "name": "remote_sensing"
  },
  "language_info": {
   "codemirror_mode": {
    "name": "ipython",
    "version": 3
   },
   "file_extension": ".py",
   "mimetype": "text/x-python",
   "name": "python",
   "nbconvert_exporter": "python",
   "pygments_lexer": "ipython3",
   "version": "3.7.8"
  }
 },
 "nbformat": 4,
 "nbformat_minor": 4
}
