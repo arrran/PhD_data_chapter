{
 "cells": [
  {
   "cell_type": "code",
   "execution_count": 1,
   "id": "5b32c7a8-5e43-4de6-9782-2d5dd2b82923",
   "metadata": {},
   "outputs": [],
   "source": [
    "def decorator_func(func):\n",
    "    print (\"listifying\")\n",
    "    def wrapper(arr):\n",
    "        return list(func(my_word))\n",
    "    return wrapper\n"
   ]
  },
  {
   "cell_type": "code",
   "execution_count": null,
   "id": "d98848cc-b143-4577-8075-3a9a3693371c",
   "metadata": {},
   "outputs": [],
   "source": []
  }
 ],
 "metadata": {
  "kernelspec": {
   "display_name": "remote_sensing",
   "language": "python",
   "name": "remote_sensing"
  },
  "language_info": {
   "codemirror_mode": {
    "name": "ipython",
    "version": 3
   },
   "file_extension": ".py",
   "mimetype": "text/x-python",
   "name": "python",
   "nbconvert_exporter": "python",
   "pygments_lexer": "ipython3",
   "version": "3.7.8"
  }
 },
 "nbformat": 4,
 "nbformat_minor": 5
}
