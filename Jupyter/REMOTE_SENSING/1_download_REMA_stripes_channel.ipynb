{
 "cells": [
  {
   "cell_type": "code",
   "execution_count": 1,
   "metadata": {},
   "outputs": [],
   "source": [
    "import numpy as np\n",
    "import os\n",
    "import sys\n",
    "\n",
    "import matplotlib.pyplot as plt\n",
    "\n",
    "\n",
    "wd = '/Users/home/whitefar/DATA/REMA_2m_strips/KAMB_CHANNEL/'\n",
    "\n",
    "sys.path.append(os.path.abspath(wd))\n",
    "sys.path.append(os.path.abspath('/Users/home/whitefar/DATA/code/'))\n",
    "os.chdir(wd)\n",
    "\n",
    "#/DATA/REMA_2m_strips/KAMB_CHANNEL/attribute_table_stripes_over_channel.txt"
   ]
  },
  {
   "cell_type": "code",
   "execution_count": 2,
   "metadata": {},
   "outputs": [
    {
     "ename": "OSError",
     "evalue": "attribute_table_stripes_over_channel.txt not found.",
     "output_type": "error",
     "traceback": [
      "\u001b[0;31m---------------------------------------------------------------------------\u001b[0m",
      "\u001b[0;31mOSError\u001b[0m                                   Traceback (most recent call last)",
      "\u001b[0;32m<ipython-input-2-8397e2c9317c>\u001b[0m in \u001b[0;36m<module>\u001b[0;34m()\u001b[0m\n\u001b[1;32m      1\u001b[0m \u001b[0;31m#names of the stripes that are over the channel\u001b[0m\u001b[0;34m\u001b[0m\u001b[0;34m\u001b[0m\u001b[0;34m\u001b[0m\u001b[0m\n\u001b[1;32m      2\u001b[0m \u001b[0;34m\u001b[0m\u001b[0m\n\u001b[0;32m----> 3\u001b[0;31m \u001b[0mattribute_table_stripes_over_channel\u001b[0m \u001b[0;34m=\u001b[0m \u001b[0mnp\u001b[0m\u001b[0;34m.\u001b[0m\u001b[0mgenfromtxt\u001b[0m\u001b[0;34m(\u001b[0m\u001b[0;34m'attribute_table_stripes_over_channel.txt'\u001b[0m\u001b[0;34m,\u001b[0m\u001b[0mdtype\u001b[0m\u001b[0;34m=\u001b[0m\u001b[0;34m'str'\u001b[0m\u001b[0;34m,\u001b[0m\u001b[0mdelimiter\u001b[0m\u001b[0;34m=\u001b[0m\u001b[0;34m'\\t'\u001b[0m\u001b[0;34m,\u001b[0m \u001b[0mskip_header\u001b[0m\u001b[0;34m=\u001b[0m\u001b[0;36m1\u001b[0m\u001b[0;34m)\u001b[0m\u001b[0;34m\u001b[0m\u001b[0;34m\u001b[0m\u001b[0m\n\u001b[0m",
      "\u001b[0;32m/Users/home/whitefar/.local/lib/python3.6/site-packages/numpy/lib/npyio.py\u001b[0m in \u001b[0;36mgenfromtxt\u001b[0;34m(fname, dtype, comments, delimiter, skip_header, skip_footer, converters, missing_values, filling_values, usecols, names, excludelist, deletechars, replace_space, autostrip, case_sensitive, defaultfmt, unpack, usemask, loose, invalid_raise, max_rows, encoding)\u001b[0m\n\u001b[1;32m   1757\u001b[0m             \u001b[0mfname\u001b[0m \u001b[0;34m=\u001b[0m \u001b[0mos_fspath\u001b[0m\u001b[0;34m(\u001b[0m\u001b[0mfname\u001b[0m\u001b[0;34m)\u001b[0m\u001b[0;34m\u001b[0m\u001b[0;34m\u001b[0m\u001b[0m\n\u001b[1;32m   1758\u001b[0m         \u001b[0;32mif\u001b[0m \u001b[0misinstance\u001b[0m\u001b[0;34m(\u001b[0m\u001b[0mfname\u001b[0m\u001b[0;34m,\u001b[0m \u001b[0mbasestring\u001b[0m\u001b[0;34m)\u001b[0m\u001b[0;34m:\u001b[0m\u001b[0;34m\u001b[0m\u001b[0;34m\u001b[0m\u001b[0m\n\u001b[0;32m-> 1759\u001b[0;31m             \u001b[0mfid\u001b[0m \u001b[0;34m=\u001b[0m \u001b[0mnp\u001b[0m\u001b[0;34m.\u001b[0m\u001b[0mlib\u001b[0m\u001b[0;34m.\u001b[0m\u001b[0m_datasource\u001b[0m\u001b[0;34m.\u001b[0m\u001b[0mopen\u001b[0m\u001b[0;34m(\u001b[0m\u001b[0mfname\u001b[0m\u001b[0;34m,\u001b[0m \u001b[0;34m'rt'\u001b[0m\u001b[0;34m,\u001b[0m \u001b[0mencoding\u001b[0m\u001b[0;34m=\u001b[0m\u001b[0mencoding\u001b[0m\u001b[0;34m)\u001b[0m\u001b[0;34m\u001b[0m\u001b[0;34m\u001b[0m\u001b[0m\n\u001b[0m\u001b[1;32m   1760\u001b[0m             \u001b[0mfid_ctx\u001b[0m \u001b[0;34m=\u001b[0m \u001b[0mcontextlib\u001b[0m\u001b[0;34m.\u001b[0m\u001b[0mclosing\u001b[0m\u001b[0;34m(\u001b[0m\u001b[0mfid\u001b[0m\u001b[0;34m)\u001b[0m\u001b[0;34m\u001b[0m\u001b[0;34m\u001b[0m\u001b[0m\n\u001b[1;32m   1761\u001b[0m         \u001b[0;32melse\u001b[0m\u001b[0;34m:\u001b[0m\u001b[0;34m\u001b[0m\u001b[0;34m\u001b[0m\u001b[0m\n",
      "\u001b[0;32m/Users/home/whitefar/.local/lib/python3.6/site-packages/numpy/lib/_datasource.py\u001b[0m in \u001b[0;36mopen\u001b[0;34m(path, mode, destpath, encoding, newline)\u001b[0m\n\u001b[1;32m    267\u001b[0m \u001b[0;34m\u001b[0m\u001b[0m\n\u001b[1;32m    268\u001b[0m     \u001b[0mds\u001b[0m \u001b[0;34m=\u001b[0m \u001b[0mDataSource\u001b[0m\u001b[0;34m(\u001b[0m\u001b[0mdestpath\u001b[0m\u001b[0;34m)\u001b[0m\u001b[0;34m\u001b[0m\u001b[0;34m\u001b[0m\u001b[0m\n\u001b[0;32m--> 269\u001b[0;31m     \u001b[0;32mreturn\u001b[0m \u001b[0mds\u001b[0m\u001b[0;34m.\u001b[0m\u001b[0mopen\u001b[0m\u001b[0;34m(\u001b[0m\u001b[0mpath\u001b[0m\u001b[0;34m,\u001b[0m \u001b[0mmode\u001b[0m\u001b[0;34m,\u001b[0m \u001b[0mencoding\u001b[0m\u001b[0;34m=\u001b[0m\u001b[0mencoding\u001b[0m\u001b[0;34m,\u001b[0m \u001b[0mnewline\u001b[0m\u001b[0;34m=\u001b[0m\u001b[0mnewline\u001b[0m\u001b[0;34m)\u001b[0m\u001b[0;34m\u001b[0m\u001b[0;34m\u001b[0m\u001b[0m\n\u001b[0m\u001b[1;32m    270\u001b[0m \u001b[0;34m\u001b[0m\u001b[0m\n\u001b[1;32m    271\u001b[0m \u001b[0;34m\u001b[0m\u001b[0m\n",
      "\u001b[0;32m/Users/home/whitefar/.local/lib/python3.6/site-packages/numpy/lib/_datasource.py\u001b[0m in \u001b[0;36mopen\u001b[0;34m(self, path, mode, encoding, newline)\u001b[0m\n\u001b[1;32m    621\u001b[0m                                       encoding=encoding, newline=newline)\n\u001b[1;32m    622\u001b[0m         \u001b[0;32melse\u001b[0m\u001b[0;34m:\u001b[0m\u001b[0;34m\u001b[0m\u001b[0;34m\u001b[0m\u001b[0m\n\u001b[0;32m--> 623\u001b[0;31m             \u001b[0;32mraise\u001b[0m \u001b[0mIOError\u001b[0m\u001b[0;34m(\u001b[0m\u001b[0;34m\"%s not found.\"\u001b[0m \u001b[0;34m%\u001b[0m \u001b[0mpath\u001b[0m\u001b[0;34m)\u001b[0m\u001b[0;34m\u001b[0m\u001b[0;34m\u001b[0m\u001b[0m\n\u001b[0m\u001b[1;32m    624\u001b[0m \u001b[0;34m\u001b[0m\u001b[0m\n\u001b[1;32m    625\u001b[0m \u001b[0;34m\u001b[0m\u001b[0m\n",
      "\u001b[0;31mOSError\u001b[0m: attribute_table_stripes_over_channel.txt not found."
     ]
    }
   ],
   "source": [
    "#names of the stripes that are over the channel\n",
    "\n",
    "attribute_table_stripes_over_channel = np.genfromtxt('.REMA_2m_strips/KAMB_CHANNEL/attribute_table_stripes_over_channel.txt',dtype='str',delimiter='\\t', skip_header=1)"
   ]
  },
  {
   "cell_type": "code",
   "execution_count": 25,
   "metadata": {},
   "outputs": [
    {
     "data": {
      "text/plain": [
       "'http://data.pgc.umn.edu/elev/dem/setsm/REMA/geocell/v1.0/2m/s83w130/SETSM_WV03_20160223_1040010019989C00_10400100184F5800_seg1_2m_v1.0.tar.gz'"
      ]
     },
     "execution_count": 25,
     "metadata": {},
     "output_type": "execute_result"
    }
   ],
   "source": [
    "#wkt_geom\tobjectid\tname\tpairname\tcatalogid1\tcatalogid2\tnd_value\tresolution\talgm_ver\tcreationda\traster\tfileurl\tacquisitio\tspec_type\tsensor1\tqual\tdx\tdy\tdz\treg_src\tnum_gcps\tmeanresz\tactive\tqc\trel_ver\tacquisit_1\tsensor2\tst_area_sh\tst_length_\n",
    "attribute_table_stripes_over_channel[0,11]"
   ]
  },
  {
   "cell_type": "code",
   "execution_count": 30,
   "metadata": {},
   "outputs": [
    {
     "name": "stdout",
     "output_type": "stream",
     "text": [
      "SETSM_WV03_20151205_1040010014342900_1040010015240800_seg1_2m_v1.0 ,  http://data.pgc.umn.edu/elev/dem/setsm/REMA/geocell/v1.0/2m/s83w129/SETSM_WV03_20151205_1040010014342900_1040010015240800_seg1_2m_v1.0.tar.gz\n"
     ]
    }
   ],
   "source": [
    "stripe_fnames = attribute_table_stripes_over_channel[:,2]\n",
    "stripe_urls = attribute_table_stripes_over_channel[:,11]\n",
    "print(stripe_fnames[4],', ',stripe_urls[4])"
   ]
  },
  {
   "cell_type": "code",
   "execution_count": 32,
   "metadata": {},
   "outputs": [],
   "source": [
    "from download_data import download_to_path"
   ]
  },
  {
   "cell_type": "code",
   "execution_count": 34,
   "metadata": {},
   "outputs": [
    {
     "name": "stdout",
     "output_type": "stream",
     "text": [
      "http://data.pgc.umn.edu/elev/dem/setsm/REMA/geocell/v1.0/2m/s83w130/SETSM_WV03_20160223_1040010019989C00_10400100184F5800_seg1_2m_v1.0.tar.gz\n",
      "http://data.pgc.umn.edu/elev/dem/setsm/REMA/geocell/v1.0/2m/s83w130/SETSM_WV03_20161206_1040010025B45C00_104001002503A800_seg1_2m_v1.0.tar.gz\n",
      "http://data.pgc.umn.edu/elev/dem/setsm/REMA/geocell/v1.0/2m/s83w130/SETSM_WV03_20151111_10400100144BE400_1040010014766500_seg1_2m_v1.0.tar.gz\n",
      "http://data.pgc.umn.edu/elev/dem/setsm/REMA/geocell/v1.0/2m/s82w125/SETSM_WV03_20160225_104001001979B800_1040010019298300_seg3_2m_v1.0.tar.gz\n",
      "http://data.pgc.umn.edu/elev/dem/setsm/REMA/geocell/v1.0/2m/s83w129/SETSM_WV03_20151205_1040010014342900_1040010015240800_seg1_2m_v1.0.tar.gz\n",
      "http://data.pgc.umn.edu/elev/dem/setsm/REMA/geocell/v1.0/2m/s83w129/SETSM_WV03_20151113_1040010013088200_1040010014CCB600_seg1_2m_v1.0.tar.gz\n",
      "http://data.pgc.umn.edu/elev/dem/setsm/REMA/geocell/v1.0/2m/s83w129/SETSM_WV03_20161027_10400100246AB100_104001002335A600_seg1_2m_v1.0.tar.gz\n",
      "http://data.pgc.umn.edu/elev/dem/setsm/REMA/geocell/v1.0/2m/s83w129/SETSM_WV03_20161205_1040010026C04600_10400100258CE400_seg1_2m_v1.0.tar.gz\n",
      "http://data.pgc.umn.edu/elev/dem/setsm/REMA/geocell/v1.0/2m/s83w129/SETSM_WV03_20161123_1040010025D6D000_1040010024BC1900_seg2_2m_v1.0.tar.gz\n",
      "http://data.pgc.umn.edu/elev/dem/setsm/REMA/geocell/v1.0/2m/s83w129/SETSM_WV03_20161128_1040010025126C00_104001002632D200_seg1_2m_v1.0.tar.gz\n",
      "http://data.pgc.umn.edu/elev/dem/setsm/REMA/geocell/v1.0/2m/s83w132/SETSM_WV03_20151112_104001001437E900_10400100144A0C00_seg1_2m_v1.0.tar.gz\n",
      "http://data.pgc.umn.edu/elev/dem/setsm/REMA/geocell/v1.0/2m/s82w124/SETSM_WV03_20160220_10400100172E9500_104001001979B700_seg1_2m_v1.0.tar.gz\n",
      "http://data.pgc.umn.edu/elev/dem/setsm/REMA/geocell/v1.0/2m/s83w135/SETSM_WV03_20170209_10400100286BEF00_10400100292CD500_seg1_2m_v1.0.tar.gz\n",
      "http://data.pgc.umn.edu/elev/dem/setsm/REMA/geocell/v1.0/2m/s83w129/SETSM_WV03_20161207_1040010025461600_1040010027454A00_seg2_2m_v1.0.tar.gz\n",
      "http://data.pgc.umn.edu/elev/dem/setsm/REMA/geocell/v1.0/2m/s83w142/SETSM_WV03_20151113_10400100144C1600_10400100131D3300_seg1_2m_v1.0.tar.gz\n",
      "http://data.pgc.umn.edu/elev/dem/setsm/REMA/geocell/v1.0/2m/s83w151/SETSM_WV03_20161220_1040010026391800_1040010026480500_seg1_2m_v1.0.tar.gz\n",
      "http://data.pgc.umn.edu/elev/dem/setsm/REMA/geocell/v1.0/2m/s83w124/SETSM_WV03_20160126_1040010016CA2B00_10400100188E5B00_seg1_2m_v1.0.tar.gz\n",
      "http://data.pgc.umn.edu/elev/dem/setsm/REMA/geocell/v1.0/2m/s83w124/SETSM_WV03_20170210_104001002827F300_104001002869B600_seg1_2m_v1.0.tar.gz\n",
      "http://data.pgc.umn.edu/elev/dem/setsm/REMA/geocell/v1.0/2m/s83w149/SETSM_WV03_20161114_1040010024CFBF00_10400100256A3100_seg1_2m_v1.0.tar.gz\n",
      "http://data.pgc.umn.edu/elev/dem/setsm/REMA/geocell/v1.0/2m/s83w139/SETSM_WV03_20161118_10400100268BD200_1040010024B90300_seg1_2m_v1.0.tar.gz\n",
      "http://data.pgc.umn.edu/elev/dem/setsm/REMA/geocell/v1.0/2m/s83w133/SETSM_WV02_20161216_1030010061082B00_1030010061535100_seg3_2m_v1.0.tar.gz\n",
      "http://data.pgc.umn.edu/elev/dem/setsm/REMA/geocell/v1.0/2m/s83w152/SETSM_WV02_20131117_103001002A8C0D00_1030010029C81600_seg1_2m_v1.0.tar.gz\n",
      "http://data.pgc.umn.edu/elev/dem/setsm/REMA/geocell/v1.0/2m/s83w152/SETSM_WV02_20161218_1030010060926B00_1030010062531100_seg1_2m_v1.0.tar.gz\n",
      "http://data.pgc.umn.edu/elev/dem/setsm/REMA/geocell/v1.0/2m/s83w152/SETSM_WV02_20161220_1030010061866000_103001006007BA00_seg1_2m_v1.0.tar.gz\n",
      "http://data.pgc.umn.edu/elev/dem/setsm/REMA/geocell/v1.0/2m/s83w125/SETSM_WV02_20160117_1030010050BED400_103001004F687F00_seg1_2m_v1.0.tar.gz\n",
      "http://data.pgc.umn.edu/elev/dem/setsm/REMA/geocell/v1.0/2m/s83w125/SETSM_WV02_20141121_103001003AC84900_103001003BAAB500_seg1_2m_v1.0.tar.gz\n",
      "http://data.pgc.umn.edu/elev/dem/setsm/REMA/geocell/v1.0/2m/s83w146/SETSM_WV02_20141107_103001003A98C100_103001003831D800_seg1_2m_v1.0.tar.gz\n",
      "http://data.pgc.umn.edu/elev/dem/setsm/REMA/geocell/v1.0/2m/s83w146/SETSM_WV02_20151007_103001004A2A8000_10300100484BFD00_seg1_2m_v1.0.tar.gz\n",
      "http://data.pgc.umn.edu/elev/dem/setsm/REMA/geocell/v1.0/2m/s83w147/SETSM_WV02_20141107_103001003746D700_1030010038355500_seg1_2m_v1.0.tar.gz\n",
      "http://data.pgc.umn.edu/elev/dem/setsm/REMA/geocell/v1.0/2m/s83w138/SETSM_WV02_20141029_1030010039855000_1030010039846600_seg1_2m_v1.0.tar.gz\n",
      "http://data.pgc.umn.edu/elev/dem/setsm/REMA/geocell/v1.0/2m/s83w131/SETSM_WV02_20151110_103001004D28ED00_103001004CBAD200_seg1_2m_v1.0.tar.gz\n",
      "http://data.pgc.umn.edu/elev/dem/setsm/REMA/geocell/v1.0/2m/s83w131/SETSM_WV02_20141121_103001003A20FF00_103001003A2D7300_seg1_2m_v1.0.tar.gz\n",
      "http://data.pgc.umn.edu/elev/dem/setsm/REMA/geocell/v1.0/2m/s83w141/SETSM_WV02_20141204_103001003BC53400_103001003B3EE200_seg1_2m_v1.0.tar.gz\n",
      "http://data.pgc.umn.edu/elev/dem/setsm/REMA/geocell/v1.0/2m/s83w141/SETSM_WV02_20151106_103001004CD54700_103001004C671500_seg1_2m_v1.0.tar.gz\n",
      "http://data.pgc.umn.edu/elev/dem/setsm/REMA/geocell/v1.0/2m/s83w141/SETSM_WV02_20151009_103001004A914800_103001004A935E00_seg1_2m_v1.0.tar.gz\n",
      "http://data.pgc.umn.edu/elev/dem/setsm/REMA/geocell/v1.0/2m/s83w145/SETSM_WV02_20161221_1030010061D07E00_1030010062C21300_seg3_2m_v1.0.tar.gz\n",
      "http://data.pgc.umn.edu/elev/dem/setsm/REMA/geocell/v1.0/2m/s83w145/SETSM_WV02_20161016_103001005E8E4400_103001005CCB3A00_seg1_2m_v1.0.tar.gz\n",
      "http://data.pgc.umn.edu/elev/dem/setsm/REMA/geocell/v1.0/2m/s83w145/SETSM_WV02_20151111_103001004D23BA00_103001004D99BF00_seg1_2m_v1.0.tar.gz\n",
      "http://data.pgc.umn.edu/elev/dem/setsm/REMA/geocell/v1.0/2m/s83w144/SETSM_WV02_20161016_103001005F874F00_103001005D246500_seg4_2m_v1.0.tar.gz\n",
      "http://data.pgc.umn.edu/elev/dem/setsm/REMA/geocell/v1.0/2m/s83w144/SETSM_WV02_20161026_103001005EC4DA00_103001005BB73600_seg1_2m_v1.0.tar.gz\n",
      "http://data.pgc.umn.edu/elev/dem/setsm/REMA/geocell/v1.0/2m/s83w144/SETSM_WV02_20170218_1030010067D08500_10300100647EEF00_seg3_2m_v1.0.tar.gz\n",
      "http://data.pgc.umn.edu/elev/dem/setsm/REMA/geocell/v1.0/2m/s83w144/SETSM_WV02_20161220_1030010061A32B00_1030010063A6B800_seg1_2m_v1.0.tar.gz\n",
      "http://data.pgc.umn.edu/elev/dem/setsm/REMA/geocell/v1.0/2m/s83w144/SETSM_WV02_20161016_103001005F874F00_103001005D246500_seg2_2m_v1.0.tar.gz\n",
      "http://data.pgc.umn.edu/elev/dem/setsm/REMA/geocell/v1.0/2m/s83w144/SETSM_WV02_20161016_103001005F874F00_103001005D246500_seg3_2m_v1.0.tar.gz\n",
      "http://data.pgc.umn.edu/elev/dem/setsm/REMA/geocell/v1.0/2m/s83w126/SETSM_WV02_20141214_103001003B027200_103001003A0DE400_seg1_2m_v1.0.tar.gz\n",
      "http://data.pgc.umn.edu/elev/dem/setsm/REMA/geocell/v1.0/2m/s83w128/SETSM_WV02_20150129_103001003D9FAD00_103001003D36DE00_seg1_2m_v1.0.tar.gz\n",
      "http://data.pgc.umn.edu/elev/dem/setsm/REMA/geocell/v1.0/2m/s83w128/SETSM_WV02_20141118_103001003A638B00_103001003AB54900_seg1_2m_v1.0.tar.gz\n",
      "http://data.pgc.umn.edu/elev/dem/setsm/REMA/geocell/v1.0/2m/s83w128/SETSM_WV02_20141029_1030010039752400_1030010038A06800_seg1_2m_v1.0.tar.gz\n",
      "http://data.pgc.umn.edu/elev/dem/setsm/REMA/geocell/v1.0/2m/s83w128/SETSM_WV02_20141031_10300100391CFF00_1030010039CB0100_seg1_2m_v1.0.tar.gz\n",
      "http://data.pgc.umn.edu/elev/dem/setsm/REMA/geocell/v1.0/2m/s83w128/SETSM_WV02_20160106_1030010050345700_103001005146BD00_seg1_2m_v1.0.tar.gz\n",
      "http://data.pgc.umn.edu/elev/dem/setsm/REMA/geocell/v1.0/2m/s83w128/SETSM_WV02_20161220_1030010061213A00_1030010064D4EE00_seg1_2m_v1.0.tar.gz\n",
      "http://data.pgc.umn.edu/elev/dem/setsm/REMA/geocell/v1.0/2m/s83w136/SETSM_WV02_20161115_1030010060173500_103001005F708900_seg1_2m_v1.0.tar.gz\n",
      "http://data.pgc.umn.edu/elev/dem/setsm/REMA/geocell/v1.0/2m/s83w134/SETSM_WV02_20151110_103001004B1B0800_103001004AC3E000_seg1_2m_v1.0.tar.gz\n",
      "http://data.pgc.umn.edu/elev/dem/setsm/REMA/geocell/v1.0/2m/s83w127/SETSM_WV02_20161030_103001005E753500_103001005FCF6000_seg1_2m_v1.0.tar.gz\n",
      "http://data.pgc.umn.edu/elev/dem/setsm/REMA/geocell/v1.0/2m/s83w130/SETSM_WV02_20141227_103001003C10FA00_103001003B48A200_seg1_2m_v1.0.tar.gz\n",
      "http://data.pgc.umn.edu/elev/dem/setsm/REMA/geocell/v1.0/2m/s83w130/SETSM_WV02_20141126_103001003ACF3100_103001003A7F4C00_seg1_2m_v1.0.tar.gz\n",
      "http://data.pgc.umn.edu/elev/dem/setsm/REMA/geocell/v1.0/2m/s83w130/SETSM_WV02_20160115_103001005005BF00_103001004F2E0100_seg3_2m_v1.0.tar.gz\n",
      "http://data.pgc.umn.edu/elev/dem/setsm/REMA/geocell/v1.0/2m/s82w125/SETSM_WV02_20161202_103001006119AD00_1030010060B33800_seg1_2m_v1.0.tar.gz\n"
     ]
    },
    {
     "name": "stdout",
     "output_type": "stream",
     "text": [
      "http://data.pgc.umn.edu/elev/dem/setsm/REMA/geocell/v1.0/2m/s83w129/SETSM_WV02_20151208_103001004F131100_103001004E50A900_seg1_2m_v1.0.tar.gz\n",
      "http://data.pgc.umn.edu/elev/dem/setsm/REMA/geocell/v1.0/2m/s83w129/SETSM_WV02_20161208_1030010063673200_10300100615F0800_seg1_2m_v1.0.tar.gz\n",
      "http://data.pgc.umn.edu/elev/dem/setsm/REMA/geocell/v1.0/2m/s83w129/SETSM_WV02_20161218_1030010063B22300_10300100615FD700_seg1_2m_v1.0.tar.gz\n"
     ]
    },
    {
     "ename": "OSError",
     "evalue": "[Errno 122] Disk quota exceeded",
     "output_type": "error",
     "traceback": [
      "\u001b[0;31m---------------------------------------------------------------------------\u001b[0m",
      "\u001b[0;31mOSError\u001b[0m                                   Traceback (most recent call last)",
      "\u001b[0;32m/usr/lib/python3.6/urllib/request.py\u001b[0m in \u001b[0;36murlretrieve\u001b[0;34m(url, filename, reporthook, data)\u001b[0m\n\u001b[1;32m    280\u001b[0m                 \u001b[0mread\u001b[0m \u001b[0;34m+=\u001b[0m \u001b[0mlen\u001b[0m\u001b[0;34m(\u001b[0m\u001b[0mblock\u001b[0m\u001b[0;34m)\u001b[0m\u001b[0;34m\u001b[0m\u001b[0;34m\u001b[0m\u001b[0m\n\u001b[0;32m--> 281\u001b[0;31m                 \u001b[0mtfp\u001b[0m\u001b[0;34m.\u001b[0m\u001b[0mwrite\u001b[0m\u001b[0;34m(\u001b[0m\u001b[0mblock\u001b[0m\u001b[0;34m)\u001b[0m\u001b[0;34m\u001b[0m\u001b[0;34m\u001b[0m\u001b[0m\n\u001b[0m\u001b[1;32m    282\u001b[0m                 \u001b[0mblocknum\u001b[0m \u001b[0;34m+=\u001b[0m \u001b[0;36m1\u001b[0m\u001b[0;34m\u001b[0m\u001b[0;34m\u001b[0m\u001b[0m\n",
      "\u001b[0;31mOSError\u001b[0m: [Errno 122] Disk quota exceeded",
      "\nDuring handling of the above exception, another exception occurred:\n",
      "\u001b[0;31mOSError\u001b[0m                                   Traceback (most recent call last)",
      "\u001b[0;32m<ipython-input-34-fbf58ee4b26e>\u001b[0m in \u001b[0;36m<module>\u001b[0;34m()\u001b[0m\n\u001b[1;32m      3\u001b[0m     \u001b[0murl\u001b[0m \u001b[0;34m=\u001b[0m \u001b[0mstripe_urls\u001b[0m\u001b[0;34m[\u001b[0m\u001b[0mi\u001b[0m\u001b[0;34m]\u001b[0m\u001b[0;34m\u001b[0m\u001b[0;34m\u001b[0m\u001b[0m\n\u001b[1;32m      4\u001b[0m     \u001b[0mprint\u001b[0m\u001b[0;34m(\u001b[0m\u001b[0murl\u001b[0m\u001b[0;34m)\u001b[0m\u001b[0;34m\u001b[0m\u001b[0;34m\u001b[0m\u001b[0m\n\u001b[0;32m----> 5\u001b[0;31m     \u001b[0mdownload_to_path\u001b[0m\u001b[0;34m(\u001b[0m\u001b[0;34m'/Users/home/whitefar/DATA/Channel/REMA_strips/relevant_stripes/'\u001b[0m\u001b[0;34m+\u001b[0m\u001b[0mstripe_fname\u001b[0m\u001b[0;34m+\u001b[0m\u001b[0;34m'.tar.gz'\u001b[0m\u001b[0;34m,\u001b[0m \u001b[0murl\u001b[0m\u001b[0;34m)\u001b[0m\u001b[0;34m\u001b[0m\u001b[0;34m\u001b[0m\u001b[0m\n\u001b[0m",
      "\u001b[0;32m/Users/home/whitefar/DATA/code/download_data.py\u001b[0m in \u001b[0;36mdownload_to_path\u001b[0;34m(path, url)\u001b[0m\n\u001b[1;32m     20\u001b[0m     \u001b[0;32mif\u001b[0m \u001b[0;32mnot\u001b[0m \u001b[0mos\u001b[0m\u001b[0;34m.\u001b[0m\u001b[0mpath\u001b[0m\u001b[0;34m.\u001b[0m\u001b[0mexists\u001b[0m\u001b[0;34m(\u001b[0m\u001b[0mos\u001b[0m\u001b[0;34m.\u001b[0m\u001b[0mpath\u001b[0m\u001b[0;34m.\u001b[0m\u001b[0mjoin\u001b[0m\u001b[0;34m(\u001b[0m\u001b[0mfolder\u001b[0m\u001b[0;34m,\u001b[0m \u001b[0mdownloaded_filename\u001b[0m\u001b[0;34m)\u001b[0m\u001b[0;34m)\u001b[0m\u001b[0;34m:\u001b[0m\u001b[0;34m\u001b[0m\u001b[0;34m\u001b[0m\u001b[0m\n\u001b[1;32m     21\u001b[0m         r = urllib.request.urlretrieve(\n\u001b[0;32m---> 22\u001b[0;31m             \u001b[0murl\u001b[0m\u001b[0;34m=\u001b[0m\u001b[0murl\u001b[0m\u001b[0;34m,\u001b[0m \u001b[0mfilename\u001b[0m\u001b[0;34m=\u001b[0m\u001b[0mos\u001b[0m\u001b[0;34m.\u001b[0m\u001b[0mpath\u001b[0m\u001b[0;34m.\u001b[0m\u001b[0mjoin\u001b[0m\u001b[0;34m(\u001b[0m\u001b[0mfolder\u001b[0m\u001b[0;34m,\u001b[0m \u001b[0mdownloaded_filename\u001b[0m\u001b[0;34m)\u001b[0m\u001b[0;34m\u001b[0m\u001b[0;34m\u001b[0m\u001b[0m\n\u001b[0m\u001b[1;32m     23\u001b[0m         )\n\u001b[1;32m     24\u001b[0m \u001b[0;34m\u001b[0m\u001b[0m\n",
      "\u001b[0;32m/usr/lib/python3.6/urllib/request.py\u001b[0m in \u001b[0;36murlretrieve\u001b[0;34m(url, filename, reporthook, data)\u001b[0m\n\u001b[1;32m    282\u001b[0m                 \u001b[0mblocknum\u001b[0m \u001b[0;34m+=\u001b[0m \u001b[0;36m1\u001b[0m\u001b[0;34m\u001b[0m\u001b[0;34m\u001b[0m\u001b[0m\n\u001b[1;32m    283\u001b[0m                 \u001b[0;32mif\u001b[0m \u001b[0mreporthook\u001b[0m\u001b[0;34m:\u001b[0m\u001b[0;34m\u001b[0m\u001b[0;34m\u001b[0m\u001b[0m\n\u001b[0;32m--> 284\u001b[0;31m                     \u001b[0mreporthook\u001b[0m\u001b[0;34m(\u001b[0m\u001b[0mblocknum\u001b[0m\u001b[0;34m,\u001b[0m \u001b[0mbs\u001b[0m\u001b[0;34m,\u001b[0m \u001b[0msize\u001b[0m\u001b[0;34m)\u001b[0m\u001b[0;34m\u001b[0m\u001b[0;34m\u001b[0m\u001b[0m\n\u001b[0m\u001b[1;32m    285\u001b[0m \u001b[0;34m\u001b[0m\u001b[0m\n\u001b[1;32m    286\u001b[0m     \u001b[0;32mif\u001b[0m \u001b[0msize\u001b[0m \u001b[0;34m>=\u001b[0m \u001b[0;36m0\u001b[0m \u001b[0;32mand\u001b[0m \u001b[0mread\u001b[0m \u001b[0;34m<\u001b[0m \u001b[0msize\u001b[0m\u001b[0;34m:\u001b[0m\u001b[0;34m\u001b[0m\u001b[0;34m\u001b[0m\u001b[0m\n",
      "\u001b[0;31mOSError\u001b[0m: [Errno 122] Disk quota exceeded"
     ]
    }
   ],
   "source": [
    "for i,stripe_fname in enumerate(stripe_fnames):\n",
    "    \n",
    "    url = stripe_urls[i]\n",
    "    print(url)\n",
    "    download_to_path('/Users/home/whitefar/DATA/Channel/REMA_strips/relevant_stripes/'+stripe_fname+'.tar.gz', url)"
   ]
  }
 ],
 "metadata": {
  "kernelspec": {
   "display_name": "Python 3",
   "language": "python",
   "name": "python3"
  },
  "language_info": {
   "codemirror_mode": {
    "name": "ipython",
    "version": 3
   },
   "file_extension": ".py",
   "mimetype": "text/x-python",
   "name": "python",
   "nbconvert_exporter": "python",
   "pygments_lexer": "ipython3",
   "version": "3.7.6"
  }
 },
 "nbformat": 4,
 "nbformat_minor": 2
}
