{
 "cells": [
  {
   "cell_type": "markdown",
   "metadata": {},
   "source": [
    "# Crop REMA stripes by the polygon from 3 (around channel)\n",
    "\n",
    "based on https://rasterio.readthedocs.io/en/stable/topics/masking-by-shapefile.html \n",
    "but also using tarfile\n",
    "\n",
    "This script unzips the raster, crops it, then saves a tiff"
   ]
  },
  {
   "cell_type": "code",
   "execution_count": 1,
   "metadata": {},
   "outputs": [],
   "source": [
    "import rasterio as rio\n",
    "import rasterio.mask\n",
    "import tarfile\n",
    "import fiona\n",
    "\n",
    "import os\n",
    "import sys\n",
    "#working_dir = '/Volumes/arc_02/REMOTE_SENSING/'\n",
    "#working_dir = \"/Users/home/whitefar/DATA/Channel/line_channel_traced_for_50kms/\"\n",
    "working_dir = '/Users/home/whitefar/DATA/FIELD_ANT_19/'\n",
    "\n",
    "sys.path.append(os.path.abspath(working_dir))\n",
    "sys.path.append(os.path.abspath('/Users/home/whitefar/DATA/code/'))\n",
    "#sys.path.append(os.path.abspath('/Users/home/whitefar/DATA/Channel/line_channel_traced_for_50kms/'))\n",
    "os.chdir(working_dir)"
   ]
  },
  {
   "cell_type": "code",
   "execution_count": 2,
   "metadata": {},
   "outputs": [],
   "source": [
    "#zipped_stripes_path = \"/Users/home/whitefar/DATA/Channel/line_channel_traced_for_50kms/test_stripe/\"\n",
    "zipped_stripes_path = \"/Volumes/arc_02/REMOTE_SENSING/REMA/REMA_stripes_over_kamb_channel/\"\n",
    "\n",
    "#cropped_stripes_path = zipped_stripes_path\n",
    "#cropped_stripes_path = \"/Users/home/whitefar/DATA/Channel/line_channel_traced_for_50kms/cropped_stripes/\"\n",
    "cropped_stripes_path = \"/Volumes/arc_02/REMOTE_SENSING/REMA/REMA_stripes_1920_fieldsite/\"\n",
    "\n",
    "\n",
    "zipped_stripes_fnames = [f for f in os.listdir(zipped_stripes_path) if os.path.isfile(os.path.join(zipped_stripes_path, f))]\n",
    "\n",
    "temp_tiffs_path = \"/Users/home/whitefar/DATA/Channel/line_channel_traced_for_50kms/stripe_tiffs/\" #save them temporararily\n",
    "\n",
    "#zipped_stripes_fnames"
   ]
  },
  {
   "cell_type": "code",
   "execution_count": 3,
   "metadata": {},
   "outputs": [
    {
     "data": {
      "text/plain": [
       "['SETSM_WV01_20161109_1020010058134D00_10200100576C9100_seg1_2m_v1.0.tar.gz',\n",
       " 'SETSM_WV01_20161027_1020010056BA2E00_1020010058DFD800_seg1_2m_v1.0.tar.gz',\n",
       " 'SETSM_WV02_20161220_1030010061866000_103001006007BA00_seg1_2m_v1.0.tar.gz',\n",
       " 'SETSM_WV03_20161220_1040010026391800_1040010026480500_seg1_2m_v1.0.tar.gz']"
      ]
     },
     "execution_count": 3,
     "metadata": {},
     "output_type": "execute_result"
    }
   ],
   "source": [
    "#these filenames came from looking at the polygon file of stripes in qgis\n",
    "\n",
    "for_mosaic = [\"SETSM_WV01_20161109_1020010058134D00_10200100576C9100_seg1_2m_v1.0\",\n",
    "              \"SETSM_WV01_20161027_1020010056BA2E00_1020010058DFD800_seg1_2m_v1.0\",\n",
    "             \"SETSM_WV02_20161220_1030010061866000_103001006007BA00_seg1_2m_v1.0\",\n",
    "             \"SETSM_WV03_20161220_1040010026391800_1040010026480500_seg1_2m_v1.0\"]\n",
    "\n",
    "zipped_stripes_fnames = [name + '.tar.gz' for name in for_mosaic]\n",
    "zipped_stripes_fnames"
   ]
  },
  {
   "cell_type": "code",
   "execution_count": 4,
   "metadata": {},
   "outputs": [],
   "source": [
    "with fiona.open(\"/Users/home/whitefar/DATA/FIELD_ANT_19/study_area_buffer.shp\", \"r\") as shapefile:\n",
    "    field_area = [feature[\"geometry\"] for feature in shapefile]"
   ]
  },
  {
   "cell_type": "code",
   "execution_count": null,
   "metadata": {},
   "outputs": [],
   "source": [
    "\n"
   ]
  },
  {
   "cell_type": "code",
   "execution_count": 5,
   "metadata": {},
   "outputs": [],
   "source": [
    "def crop_stripe(crop_to_area,zipped_stripe_fname, zipped_stripes_path, cropped_stripes_path, temp_tiffs_path):\n",
    "       \n",
    "    #remove .tar.gz from the name\n",
    "    stripe_name = zipped_stripe_fname[:-7]\n",
    "    \n",
    "    zipped_stripe_path =  zipped_stripes_path + zipped_stripe_fname \n",
    "    \n",
    "    #path for output tiff\n",
    "    tiff_stripe_fname = stripe_name + \"_dem.tif\"\n",
    "    \n",
    "    #extract the .tar.gz and save as .tiff\n",
    "    with tarfile.open(zipped_stripe_path) as tar:\n",
    "        stripe_tiff = tar.extract(member=tiff_stripe_fname, path=temp_tiffs_path)\n",
    "        \n",
    "    #crop the .tiff    \n",
    "    with rio.open(temp_tiffs_path + tiff_stripe_fname) as src:\n",
    "        #print(src.transform)\n",
    "        out_image, out_transform = rasterio.mask.mask(src, crop_to_area,crop=True)\n",
    "        data_type = out_image.dtype\n",
    "        out_meta = src.meta.copy()\n",
    "        \n",
    "    #print(out_transform)\n",
    "    \n",
    "    out_meta.update({\"driver\": \"GTiff\",\n",
    "                 \"height\": out_image.shape[1],\n",
    "                 \"width\": out_image.shape[2],\n",
    "                 \"transform\": out_transform,\n",
    "                 \"dtype\" : data_type})\n",
    "    \n",
    "    cropped_stripe_path = cropped_stripes_path + tiff_stripe_fname\n",
    "    \n",
    "    #write the cropped tiff to file\n",
    "    with rio.open(cropped_stripe_path, \"w\", **out_meta) as dest:\n",
    "        dest.write(out_image)\n",
    "    \n",
    "    #remove the uncropped tiff\n",
    "    os.remove(temp_tiffs_path + tiff_stripe_fname)\n",
    "        \n",
    "    print(stripe_name + \"cropped and written to \"+ cropped_stripe_path)"
   ]
  },
  {
   "cell_type": "code",
   "execution_count": null,
   "metadata": {},
   "outputs": [],
   "source": []
  },
  {
   "cell_type": "code",
   "execution_count": 6,
   "metadata": {
    "scrolled": true
   },
   "outputs": [
    {
     "name": "stdout",
     "output_type": "stream",
     "text": [
      "SETSM_WV01_20161109_1020010058134D00_10200100576C9100_seg1_2m_v1.0cropped and written to /Volumes/arc_02/REMOTE_SENSING/REMA/REMA_stripes_1920_fieldsite/SETSM_WV01_20161109_1020010058134D00_10200100576C9100_seg1_2m_v1.0_dem.tif\n",
      "1/4\n",
      "SETSM_WV01_20161027_1020010056BA2E00_1020010058DFD800_seg1_2m_v1.0cropped and written to /Volumes/arc_02/REMOTE_SENSING/REMA/REMA_stripes_1920_fieldsite/SETSM_WV01_20161027_1020010056BA2E00_1020010058DFD800_seg1_2m_v1.0_dem.tif\n",
      "2/4\n",
      "SETSM_WV02_20161220_1030010061866000_103001006007BA00_seg1_2m_v1.0cropped and written to /Volumes/arc_02/REMOTE_SENSING/REMA/REMA_stripes_1920_fieldsite/SETSM_WV02_20161220_1030010061866000_103001006007BA00_seg1_2m_v1.0_dem.tif\n",
      "3/4\n",
      "SETSM_WV03_20161220_1040010026391800_1040010026480500_seg1_2m_v1.0cropped and written to /Volumes/arc_02/REMOTE_SENSING/REMA/REMA_stripes_1920_fieldsite/SETSM_WV03_20161220_1040010026391800_1040010026480500_seg1_2m_v1.0_dem.tif\n",
      "4/4\n"
     ]
    }
   ],
   "source": [
    "for i, zipped_stripe_fname in enumerate(zipped_stripes_fnames):\n",
    "    \n",
    "    crop_stripe(field_area, zipped_stripe_fname, zipped_stripes_path, cropped_stripes_path, temp_tiffs_path)\n",
    "    \n",
    "    print(f\"{i+1}/{len(zipped_stripes_fnames)}\")\n",
    "       "
   ]
  },
  {
   "cell_type": "code",
   "execution_count": null,
   "metadata": {},
   "outputs": [],
   "source": [
    "\n"
   ]
  },
  {
   "cell_type": "code",
   "execution_count": null,
   "metadata": {},
   "outputs": [],
   "source": []
  },
  {
   "cell_type": "code",
   "execution_count": null,
   "metadata": {},
   "outputs": [],
   "source": []
  }
 ],
 "metadata": {
  "kernelspec": {
   "display_name": "Python 3",
   "language": "python",
   "name": "python3"
  },
  "language_info": {
   "codemirror_mode": {
    "name": "ipython",
    "version": 3
   },
   "file_extension": ".py",
   "mimetype": "text/x-python",
   "name": "python",
   "nbconvert_exporter": "python",
   "pygments_lexer": "ipython3",
   "version": "3.7.8"
  }
 },
 "nbformat": 4,
 "nbformat_minor": 4
}
