{
 "cells": [
  {
   "cell_type": "markdown",
   "metadata": {},
   "source": [
    "1. Make a polygon of area want to look at."
   ]
  },
  {
   "cell_type": "code",
   "execution_count": 96,
   "metadata": {},
   "outputs": [],
   "source": [
    "import numpy as np\n",
    "import rasterio as rio\n",
    "\n",
    "import os\n",
    "import sys\n",
    "import geopandas as gpd\n",
    "import shapely as sp\n",
    "import matplotlib.pyplot as plt\n",
    "\n",
    "import matplotlib.pyplot as plt\n",
    "\n",
    "\n",
    "#working_dir = '/Volumes/arc_02/REMOTE_SENSING/'\n",
    "working_dir = '/Users/home/whitefar/DATA/Icesat2/Reference_ground_tracks/'\n",
    "\n",
    "sys.path.append(os.path.abspath(working_dir))\n",
    "sys.path.append(os.path.abspath('/Users/home/whitefar/DATA/code/'))\n",
    "sys.path.append(os.path.abspath('/Users/home/whitefar/DATA/Channel/line_channel_traced_for_50kms/'))\n",
    "os.chdir(working_dir)"
   ]
  },
  {
   "cell_type": "code",
   "execution_count": 97,
   "metadata": {},
   "outputs": [],
   "source": [
    "channel_file = gpd.read_file('line_channel_traced_for_50kms.shp')"
   ]
  },
  {
   "cell_type": "code",
   "execution_count": 234,
   "metadata": {},
   "outputs": [
    {
     "data": {
      "image/svg+xml": [
       "<svg xmlns=\"http://www.w3.org/2000/svg\" xmlns:xlink=\"http://www.w3.org/1999/xlink\" width=\"300\" height=\"300\" viewBox=\"-430449.66562134185 -730627.9961014319 55386.16430994932 50588.55591959588\" preserveAspectRatio=\"xMinYMin meet\"><g transform=\"matrix(1,0,0,-1,0,-1410667.436283268)\"><polyline fill=\"none\" stroke=\"#66cc99\" stroke-width=\"369.24109539966213\" points=\"-377114.8407302795,-728576.6566825449 -378084.8274161474,-726960.0122060983 -378555.1239911137,-725990.0255202304 -380142.3749316248,-724814.2840828147 -383610.812172001,-722844.9171751435 -386373.8045499278,-721786.7498814694 -389195.5839997254,-720669.7955159245 -390106.78361372254,-719200.118719155 -391106.16383552586,-717524.6871708377 -392436.22133660223,-717010.3002919683 -395140.42664265825,-716246.0683576481 -397580.09012529574,-715187.901063974 -400930.95322193037,-713835.7984109459 -405104.835324756,-712277.9410063702 -408044.18891829514,-711307.9543205024 -410513.245936868,-709955.8516674743 -411512.62615867134,-708133.45243948 -411512.62615867134,-705899.5437083902 -412423.82577266864,-701902.022821177 -412600.18698828097,-696728.760496548 -412365.0387007978,-691849.433531273 -412600.18698828097,-687322.8289972228 -416421.3466598819,-684265.9012599421 -421065.5253376737,-682090.7796007231 -422946.7116375388,-682149.5666725939 -426150.6070544965,-684765.5913708437 -428398.32620245486,-685865.5390389937\" opacity=\"0.8\" /></g></svg>"
      ],
      "text/plain": [
       "<shapely.geometry.linestring.LineString at 0x7fc30964e9b0>"
      ]
     },
     "execution_count": 234,
     "metadata": {},
     "output_type": "execute_result"
    }
   ],
   "source": [
    "channel = channel_file.iloc[0].geometry\n",
    "channel_coords = np.array(list(channel.coords))\n",
    "channel_list = list(channel.coords)\n",
    "channel"
   ]
  },
  {
   "cell_type": "code",
   "execution_count": 123,
   "metadata": {},
   "outputs": [],
   "source": [
    "width = 5000"
   ]
  },
  {
   "cell_type": "code",
   "execution_count": 124,
   "metadata": {},
   "outputs": [
    {
     "data": {
      "text/plain": [
       "array([-378084.82741615, -726960.0122061 ])"
      ]
     },
     "execution_count": 124,
     "metadata": {},
     "output_type": "execute_result"
    }
   ],
   "source": [
    "a = channel_coords[0]\n",
    "b = channel_coords[1]\n",
    "b"
   ]
  },
  {
   "cell_type": "code",
   "execution_count": 128,
   "metadata": {},
   "outputs": [
    {
     "data": {
      "text/plain": [
       "-1.6666666666667467"
      ]
     },
     "execution_count": 128,
     "metadata": {},
     "output_type": "execute_result"
    }
   ],
   "source": [
    "grad =( a[1] - b[1]) /( a[0] - b[0 ])\n",
    "t_1 = np.arctan(grad)\n",
    "t_2 = t_1 + np.pi/2\n",
    "grad"
   ]
  },
  {
   "cell_type": "code",
   "execution_count": 130,
   "metadata": {},
   "outputs": [
    {
     "data": {
      "text/plain": [
       "-1.666666666666727"
      ]
     },
     "execution_count": 130,
     "metadata": {},
     "output_type": "execute_result"
    }
   ],
   "source": [
    "d = np.array([a[0] + width*np.cos(t_2) , a[1] + width*np.sin(t_2)])\n",
    "grad_2 = ( a[1] - d[1]) /( a[0] - d[0 ])\n",
    "-1/grad_2"
   ]
  },
  {
   "cell_type": "code",
   "execution_count": 136,
   "metadata": {},
   "outputs": [
    {
     "data": {
      "text/plain": [
       "[<matplotlib.lines.Line2D at 0x7fc308b48c18>]"
      ]
     },
     "execution_count": 136,
     "metadata": {},
     "output_type": "execute_result"
    },
    {
     "data": {
      "image/png": "[encoded data removed]",
      "text/plain": [
       "<Figure size 432x288 with 1 Axes>"
      ]
     },
     "metadata": {},
     "output_type": "display_data"
    }
   ],
   "source": [
    "plt.plot(a[0],a[1],'ro')\n",
    "plt.plot(b[0],b[1],'bo')\n",
    "plt.plot(d[0],d[1],'x')"
   ]
  },
  {
   "cell_type": "code",
   "execution_count": 205,
   "metadata": {},
   "outputs": [
    {
     "data": {
      "text/plain": [
       "-1.5707963267948966"
      ]
     },
     "execution_count": 205,
     "metadata": {},
     "output_type": "execute_result"
    }
   ],
   "source": [
    "t_1[16]\n"
   ]
  },
  {
   "cell_type": "code",
   "execution_count": 246,
   "metadata": {},
   "outputs": [
    {
     "name": "stderr",
     "output_type": "stream",
     "text": [
      "/usr/lib/python3/dist-packages/ipykernel_launcher.py:1: RuntimeWarning: divide by zero encountered in true_divide\n",
      "  \"\"\"Entry point for launching an IPython kernel.\n"
     ]
    }
   ],
   "source": [
    "channel_gradient_ = (channel_coords[:-1,1]-channel_coords[1:,1])/(channel_coords[:-1,0]-channel_coords[1:,0])\n",
    "channel_gradient = np.hstack((channel_gradient_,channel_gradient_[-1]))\n",
    "t_1 = np.arctan(channel_gradient)\n",
    "\n",
    "t_1[19] = np.arctan(channel_gradient[19])+np.pi\n",
    "\n",
    "t_2 = t_1 + np.pi/2\n",
    "t_3 = t_1 - np.pi/2\n",
    "\n"
   ]
  },
  {
   "cell_type": "markdown",
   "metadata": {},
   "source": [
    "There is a problem here, see hard coded t_1, in above box. arctan cant handle overhanging slope"
   ]
  },
  {
   "cell_type": "code",
   "execution_count": 248,
   "metadata": {},
   "outputs": [],
   "source": [
    "channel_west =np.vstack([channel_coords[:,0]-shape_thickness*np.cos(t_2),channel_coords[:,1]-shape_thickness*np.sin(t_2)]).T\n",
    "channel_east =np.vstack([channel_coords[:,0]-shape_thickness*np.cos(t_3),channel_coords[:,1]-shape_thickness*np.sin(t_3)]).T"
   ]
  },
  {
   "cell_type": "code",
   "execution_count": 250,
   "metadata": {},
   "outputs": [
    {
     "data": {
      "text/plain": [
       "[<matplotlib.lines.Line2D at 0x7fc308361f28>]"
      ]
     },
     "execution_count": 250,
     "metadata": {},
     "output_type": "execute_result"
    },
    {
     "data": {
      "image/png": "[encoded data removed]",
      "text/plain": [
       "<Figure size 432x288 with 1 Axes>"
      ]
     },
     "metadata": {},
     "output_type": "display_data"
    }
   ],
   "source": [
    "plt.plot(channel_coords[:,0],channel_coords[:,1])\n",
    "plt.plot(channel_west[:,0],channel_west[:,1])\n",
    "plt.plot(channel_east[:,0],channel_east[:,1])"
   ]
  },
  {
   "cell_type": "code",
   "execution_count": 266,
   "metadata": {},
   "outputs": [
    {
     "data": {
      "text/plain": [
       "[<matplotlib.lines.Line2D at 0x7fc30806f7f0>]"
      ]
     },
     "execution_count": 266,
     "metadata": {},
     "output_type": "execute_result"
    },
    {
     "data": {
      "image/png": "[encoded data removed]",
      "text/plain": [
       "<Figure size 432x288 with 1 Axes>"
      ]
     },
     "metadata": {},
     "output_type": "display_data"
    }
   ],
   "source": [
    "perimeter_ = np.vstack((channel_west,np.flipud(channel_east)))\n",
    "perimeter = np.vstack((perimeter_,perimeter_[0]))\n",
    "plt.plot(perimeter[:,0],perimeter[:,1])"
   ]
  },
  {
   "cell_type": "code",
   "execution_count": 277,
   "metadata": {},
   "outputs": [],
   "source": [
    "perimeter_geom =  sp.geometry.Polygon(perimeter)"
   ]
  },
  {
   "cell_type": "code",
   "execution_count": 281,
   "metadata": {},
   "outputs": [],
   "source": [
    "channel_area = channel_file\n",
    "channel_area.iloc[0].geometry = perimeter_geom"
   ]
  },
  {
   "cell_type": "code",
   "execution_count": 282,
   "metadata": {},
   "outputs": [
    {
     "data": {
      "image/svg+xml": [
       "<svg xmlns=\"http://www.w3.org/2000/svg\" xmlns:xlink=\"http://www.w3.org/1999/xlink\" width=\"300\" height=\"300\" viewBox=\"-431432.53501247906 -731760.7512754623 58187.783215687145 53824.09890897584\" preserveAspectRatio=\"xMinYMin meet\"><g transform=\"matrix(1,0,0,-1,0,-1409697.403641949)\"><path fill-rule=\"evenodd\" fill=\"#66cc99\" stroke=\"#555555\" stroke-width=\"387.9185547712476\" opacity=\"0.6\" d=\"M -378829.8265817046,-729605.6481933999 L -379884.45563053974,-727832.5592191371 L -379745.5790923652,-727597.1399069199 L -381129.887249998,-726553.4848823376 L -384326.10670521506,-724712.6306785358 L -387109.9014519426,-723646.3631076119 L -390895.38938315015,-721723.6748536478 L -391824.42262365593,-720224.6753215714 L -391827.57375881664,-719390.0471153464 L -392980.1353470541,-718934.9190981827 L -395936.2618616483,-718080.9106680974 L -398328.47819368006,-717042.6019291002 L -401630.30713461066,-715709.5390826556 L -405731.5902331638,-714177.1983045758 L -409004.81816402636,-713062.1468561853 L -412266.8707542106,-710917.516889888 L -413512.62615867134,-708133.45243948 L -413462.60978456016,-706344.0252701738 L -414422.66459462023,-701970.1650537435 L -414597.86848293705,-696632.4866895766 L -414362.3455502747,-691953.1897312459 L -413849.5770833898,-688884.5666161089 L -417269.6269795033,-686077.0943748094 L -421003.0558329182,-684089.8037528972 L -421681.7846040861,-683698.7469719911 L -425271.5013265348,-686562.0248149392 L -427519.22047449317,-687661.9724830892 L -429277.43193041655,-684069.1055948981 L -427029.71278245817,-682969.1579267482 L -424211.6386709915,-680600.3863731967 L -421127.99484242924,-680091.7554485489 L -415573.06634026044,-682454.7081450748 L -411350.79689317214,-685761.0913783368 L -410367.73185132095,-691745.6773313002 L -410602.5054936249,-696825.0343035194 L -410424.98695071705,-701833.8805886105 L -409562.6425327825,-705455.0621466066 L -409512.62615867134,-708133.45243948 L -408759.6211195254,-708994.1864450605 L -407083.5596725639,-709553.7617848194 L -404478.0804163482,-710378.6837081647 L -400231.5993092501,-711962.0577392363 L -396831.7020569114,-713333.2001988478 L -394344.5914236682,-714411.2260471988 L -391892.30732615036,-715085.6814857539 L -390384.7539122351,-715659.3272263289 L -388389.14460378914,-718175.5621167385 L -387495.77861630067,-719615.9161782011 L -385637.707647913,-719927.1366553269 L -382895.5176387869,-720977.2036717512 L -379154.8626132516,-723075.0832832918 L -377364.66888986214,-724382.9111335409 L -376285.19920175505,-726087.4651930595 L -375399.8548788544,-727547.6651716898 L -378829.8265817046,-729605.6481933999 z\" /></g></svg>"
      ],
      "text/plain": [
       "<shapely.geometry.polygon.Polygon at 0x7fc3080a6b70>"
      ]
     },
     "execution_count": 282,
     "metadata": {},
     "output_type": "execute_result"
    }
   ],
   "source": [
    "channel_wide.iloc[0].geometry"
   ]
  },
  {
   "cell_type": "code",
   "execution_count": 283,
   "metadata": {},
   "outputs": [],
   "source": [
    "channel_area.to_file(\"channel_area.shp\")"
   ]
  },
  {
   "cell_type": "code",
   "execution_count": 280,
   "metadata": {},
   "outputs": [
    {
     "data": {
      "text/plain": [
       "'/Users/home/whitefar/DATA/Channel/line_channel_traced_for_50kms/cropped_stripes/'"
      ]
     },
     "execution_count": 280,
     "metadata": {},
     "output_type": "execute_result"
    }
   ],
   "source": [
    "# '/Users/home/whitefar/DATA/Channel/line_channel_traced_for_50kms/cropped_stripes/'"
   ]
  },
  {
   "cell_type": "code",
   "execution_count": null,
   "metadata": {},
   "outputs": [],
   "source": []
  },
  {
   "cell_type": "code",
   "execution_count": null,
   "metadata": {},
   "outputs": [],
   "source": []
  },
  {
   "cell_type": "code",
   "execution_count": null,
   "metadata": {},
   "outputs": [],
   "source": []
  }
 ],
 "metadata": {
  "kernelspec": {
   "display_name": "Python 3",
   "language": "python",
   "name": "python3"
  },
  "language_info": {
   "codemirror_mode": {
    "name": "ipython",
    "version": 3
   },
   "file_extension": ".py",
   "mimetype": "text/x-python",
   "name": "python",
   "nbconvert_exporter": "python",
   "pygments_lexer": "ipython3",
   "version": "3.7.3"
  }
 },
 "nbformat": 4,
 "nbformat_minor": 2
}
