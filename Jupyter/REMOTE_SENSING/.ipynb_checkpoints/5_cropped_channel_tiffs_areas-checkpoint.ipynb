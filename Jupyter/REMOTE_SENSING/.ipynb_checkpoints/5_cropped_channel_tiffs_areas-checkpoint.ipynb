{
 "cells": [
  {
   "cell_type": "markdown",
   "metadata": {},
   "source": [
    "# Merge tiffs\n",
    "\n",
    "Merge the tiffs of cropped over the channel area / field site radar lines into one tiff."
   ]
  },
  {
   "cell_type": "code",
   "execution_count": 1,
   "metadata": {},
   "outputs": [],
   "source": [
    "import numpy as np\n",
    "import rasterio \n",
    "import rasterio.merge\n",
    "import os\n",
    "import sys\n",
    "import fiona\n",
    "\n",
    "#working_dir = '/Volumes/arc_02/REMOTE_SENSING/'\n",
    "working_dir = \"/Users/home/whitefar/DATA/FIELD_ANT_19/2m_REMA_mosaic_DEM/polygons_of_tiffs\"\n",
    "\n",
    "\n",
    "sys.path.append(os.path.abspath(working_dir))\n",
    "sys.path.append(os.path.abspath('/Users/home/whitefar/DATA/code/'))\n",
    "os.chdir(working_dir)"
   ]
  },
  {
   "cell_type": "code",
   "execution_count": 2,
   "metadata": {},
   "outputs": [
    {
     "data": {
      "text/plain": [
       "['SETSM_WV03_20161220_1040010026391800_1040010026480500_seg1_2m_v1.0_dem.tif',\n",
       " 'SETSM_WV02_20161220_1030010061866000_103001006007BA00_seg1_2m_v1.0_dem.tif',\n",
       " 'SETSM_WV01_20161027_1020010056BA2E00_1020010058DFD800_seg1_2m_v1.0_dem.tif',\n",
       " 'SETSM_WV01_20161109_1020010058134D00_10200100576C9100_seg1_2m_v1.0_dem.tif']"
      ]
     },
     "execution_count": 2,
     "metadata": {},
     "output_type": "execute_result"
    }
   ],
   "source": [
    "polygons_path = \"/Users/home/whitefar/DATA/Channel/line_channel_traced_for_50kms/cropped_stripes/\"\n",
    "cropped_REMA_stripes_path = \"/Volumes/arc_02/REMOTE_SENSING/REMA/REMA_stripes_1920_fieldsite/\"\n",
    "\n",
    "output_path = \"/Users/home/whitefar/DATA/FIELD_ANT_19/2m_REMA_mosaic_DEM/\"\n",
    "\n",
    "selected_stripes_fnames = [f for f in os.listdir(cropped_REMA_stripes_path) if os.path.isfile(os.path.join(cropped_REMA_stripes_path, f))]\n",
    "selected_stripes_fnames\n"
   ]
  },
  {
   "cell_type": "code",
   "execution_count": 3,
   "metadata": {},
   "outputs": [],
   "source": [
    "# selected_stripes_polygon = \"/Users/home/whitefar/DATA/FIELD_ANT_19/2m_REMA_mosaic_DEM/polygons_of_tiffs/polygons_for_merge.gpkg\"\n",
    "# with fiona.open(selected_stripes_polygon, \"r\") as shapefile:\n",
    "#     selected_stripe_names = [feature[\"properties\"][\"name\"] for feature in shapefile]\n",
    "# selected_stripes_fnames = [names + \"_dem.tif\"  for names in selected_stripe_names]\n",
    "# selected_stripes_fnames"
   ]
  },
  {
   "cell_type": "code",
   "execution_count": 6,
   "metadata": {},
   "outputs": [
    {
     "name": "stdout",
     "output_type": "stream",
     "text": [
      "1/4\n",
      "2/4\n",
      "3/4\n",
      "4/4\n",
      "done\n"
     ]
    }
   ],
   "source": [
    "from contextlib import ExitStack\n",
    "\n",
    "with ExitStack() as stack:\n",
    "    files = [stack.enter_context(rasterio.open(cropped_REMA_stripes_path + fname)) for fname in selected_stripes_fnames]\n",
    "    # All opened files will automatically be closed at the end of\n",
    "    # the with statement, even if attempts to open files later\n",
    "    # in the list raise an exception\n",
    "\n",
    "\n",
    "\n",
    "\n",
    "# with rasterio.open(cropped_REMA_stripes_path + selected_stripes_fnames[0],\"r\") as src0,\\\n",
    "#      rasterio.open(cropped_REMA_stripes_path + selected_stripes_fnames[1],\"r\") as src1,\\\n",
    "#      rasterio.open(cropped_REMA_stripes_path + selected_stripes_fnames[2],\"r\") as src2,\\\n",
    "#      rasterio.open(cropped_REMA_stripes_path + selected_stripes_fnames[3],\"r\") as src3:\n",
    "    \n",
    "    print(\"1/4\")\n",
    "    \n",
    "    out_image, out_transform =  rasterio.merge.merge(datasets=files,\n",
    "                                                     bounds=None,\n",
    "                                                     res=None,\n",
    "                                                     nodata=None,\n",
    "                                                     precision=7,\n",
    "                                                     indexes=None)\n",
    "    print(\"2/4\")\n",
    "    \n",
    "    out_meta = files[0].meta.copy()\n",
    "    data_type = out_image.dtype\n",
    "        \n",
    "    print(\"3/4\")\n",
    "    \n",
    "    out_meta.update({\"driver\": \"GTiff\",\n",
    "                     \"height\": out_image.shape[1],\n",
    "                     \"width\": out_image.shape[2],\n",
    "                     \"transform\": out_transform,\n",
    "                     \"dtype\" : data_type\n",
    "                     }\n",
    "                    )\n",
    "\n",
    "    out_name = \"2m_REMA_mosaic_DEM\"\n",
    "    \n",
    "    print(\"4/4\")\n",
    "\n",
    "with rasterio.open(output_path + out_name + \"_dem.tif\", \"w\", **out_meta) as dest:\n",
    "    dest.write(out_image)\n",
    "\n",
    "print(\"done\")\n",
    "    "
   ]
  },
  {
   "cell_type": "code",
   "execution_count": null,
   "metadata": {},
   "outputs": [],
   "source": []
  }
 ],
 "metadata": {
  "kernelspec": {
   "display_name": "Python 3",
   "language": "python",
   "name": "python3"
  },
  "language_info": {
   "codemirror_mode": {
    "name": "ipython",
    "version": 3
   },
   "file_extension": ".py",
   "mimetype": "text/x-python",
   "name": "python",
   "nbconvert_exporter": "python",
   "pygments_lexer": "ipython3",
   "version": "3.7.6"
  }
 },
 "nbformat": 4,
 "nbformat_minor": 2
}
