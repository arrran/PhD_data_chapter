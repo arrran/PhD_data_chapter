{
 "cells": [
  {
   "cell_type": "markdown",
   "metadata": {},
   "source": [
    "This downloads the rema stripes, but to cover only as far as 50 kms up the channel\n",
    "\n",
    "(i may have copied the attributes table from qgis for this step)"
   ]
  },
  {
   "cell_type": "code",
   "execution_count": 11,
   "metadata": {},
   "outputs": [],
   "source": [
    "import numpy as np\n",
    "import os\n",
    "import sys\n",
    "import geopandas as gpd\n",
    "\n",
    "import matplotlib.pyplot as plt\n",
    "\n",
    "\n",
    "#working_dir = '/Volumes/arc_02/REMOTE_SENSING/'\n",
    "working_dir = '/Users/home/whitefar/DATA/Channel/line_channel_traced_for_50kms/'\n",
    "\n",
    "sys.path.append(os.path.abspath(working_dir))\n",
    "sys.path.append(os.path.abspath('/Users/home/whitefar/DATA/code/'))\n",
    "sys.path.append(os.path.abspath('/Users/home/whitefar/DATA/Channel/line_channel_traced_for_50kms/'))\n",
    "os.chdir(working_dir)\n"
   ]
  },
  {
   "cell_type": "code",
   "execution_count": 13,
   "metadata": {},
   "outputs": [
    {
     "name": "stdout",
     "output_type": "stream",
     "text": [
      "HOW_I_DID_IT.txt\t\t       polygons_stripes_50kms_up_channel.shp\r\n",
      "polygons_stripes_50kms_up_channel.cpg  polygons_stripes_50kms_up_channel.shx\r\n",
      "polygons_stripes_50kms_up_channel.dbf  relevant_strips\r\n",
      "polygons_stripes_50kms_up_channel.prj  REMApolygons_50km_upchannel.csv\r\n",
      "polygons_stripes_50kms_up_channel.qpj\r\n"
     ]
    }
   ],
   "source": [
    "! ls"
   ]
  },
  {
   "cell_type": "code",
   "execution_count": 24,
   "metadata": {},
   "outputs": [],
   "source": [
    "which_stripes = 'REMApolygons_50km_upchannel.csv'\n",
    "stripe_attributes = np.genfromtxt(which_stripes,dtype='str',delimiter=',', skip_header=1)"
   ]
  },
  {
   "cell_type": "code",
   "execution_count": 29,
   "metadata": {},
   "outputs": [
    {
     "data": {
      "text/plain": [
       "'http://data.pgc.umn.edu/elev/dem/setsm/REMA/geocell/v1.0/8m/s83w149/SETSM_W1W2_20160201_102001004AA48000_103001005126F300_seg3_8m_v1.0.tar.gz'"
      ]
     },
     "execution_count": 29,
     "metadata": {},
     "output_type": "execute_result"
    }
   ],
   "source": [
    "stripe_attributes[0,10]"
   ]
  },
  {
   "cell_type": "code",
   "execution_count": 30,
   "metadata": {},
   "outputs": [
    {
     "name": "stdout",
     "output_type": "stream",
     "text": [
      "SETSM_WV01_20141106_1020010035707400_102001003747DB00_seg1_2m_v1.0 ,  http://data.pgc.umn.edu/elev/dem/setsm/REMA/geocell/v1.0/2m/s83w149/SETSM_WV01_20141106_1020010035707400_102001003747DB00_seg1_2m_v1.0.tar.gz\n"
     ]
    }
   ],
   "source": [
    "stripe_fnames = attribute_table_stripes_over_channel[:,1]\n",
    "stripe_urls = attribute_table_stripes_over_channel[:,10]\n",
    "print(stripe_fnames[4],', ',stripe_urls[4])"
   ]
  },
  {
   "cell_type": "code",
   "execution_count": 31,
   "metadata": {},
   "outputs": [],
   "source": [
    "from download_data import download_to_path"
   ]
  },
  {
   "cell_type": "code",
   "execution_count": 33,
   "metadata": {},
   "outputs": [
    {
     "name": "stdout",
     "output_type": "stream",
     "text": [
      "http://data.pgc.umn.edu/elev/dem/setsm/REMA/geocell/v1.0/8m/s83w149/SETSM_W1W2_20160201_102001004AA48000_103001005126F300_seg3_8m_v1.0.tar.gz\n",
      "http://data.pgc.umn.edu/elev/dem/setsm/REMA/geocell/v1.0/2m/s83w154/SETSM_WV01_20151102_10200100437EF000_10200100477F7400_seg1_2m_v1.0.tar.gz\n",
      "http://data.pgc.umn.edu/elev/dem/setsm/REMA/geocell/v1.0/2m/s83w149/SETSM_WV01_20131222_10200100274B7500_102001002981EC00_seg1_2m_v1.0.tar.gz\n",
      "http://data.pgc.umn.edu/elev/dem/setsm/REMA/geocell/v1.0/2m/s83w149/SETSM_WV01_20160206_10200100486F9300_1020010049BCED00_seg1_2m_v1.0.tar.gz\n",
      "http://data.pgc.umn.edu/elev/dem/setsm/REMA/geocell/v1.0/2m/s83w149/SETSM_WV01_20141106_1020010035707400_102001003747DB00_seg1_2m_v1.0.tar.gz\n",
      "http://data.pgc.umn.edu/elev/dem/setsm/REMA/geocell/v1.0/2m/s83w149/SETSM_WV01_20161219_102001005ADD9F00_102001005A4F0700_seg1_2m_v1.0.tar.gz\n",
      "http://data.pgc.umn.edu/elev/dem/setsm/REMA/geocell/v1.0/2m/s83w151/SETSM_WV01_20150104_1020010038253500_1020010038CD0C00_seg1_2m_v1.0.tar.gz\n",
      "http://data.pgc.umn.edu/elev/dem/setsm/REMA/geocell/v1.0/2m/s83w151/SETSM_WV01_20161027_1020010057470300_1020010055E0F000_seg1_2m_v1.0.tar.gz\n",
      "http://data.pgc.umn.edu/elev/dem/setsm/REMA/geocell/v1.0/2m/s83w148/SETSM_WV01_20141118_10200100376E3200_1020010036DE5C00_seg1_2m_v1.0.tar.gz\n",
      "http://data.pgc.umn.edu/elev/dem/setsm/REMA/geocell/v1.0/2m/s83w148/SETSM_WV01_20161219_10200100591AC100_102001005934EB00_seg1_2m_v1.0.tar.gz\n",
      "http://data.pgc.umn.edu/elev/dem/setsm/REMA/geocell/v1.0/2m/s83w148/SETSM_WV01_20161008_102001005763E100_10200100564EB000_seg1_2m_v1.0.tar.gz\n",
      "http://data.pgc.umn.edu/elev/dem/setsm/REMA/geocell/v1.0/2m/s83w153/SETSM_WV01_20151001_1020010043842700_102001004697AF00_seg1_2m_v1.0.tar.gz\n",
      "http://data.pgc.umn.edu/elev/dem/setsm/REMA/geocell/v1.0/2m/s83w153/SETSM_WV01_20161109_1020010058134D00_10200100576C9100_seg1_2m_v1.0.tar.gz\n",
      "http://data.pgc.umn.edu/elev/dem/setsm/REMA/geocell/v1.0/2m/s83w153/SETSM_WV01_20141209_1020010037BD1F00_10200100387ABC00_seg3_2m_v1.0.tar.gz\n",
      "http://data.pgc.umn.edu/elev/dem/setsm/REMA/geocell/v1.0/2m/s83w150/SETSM_WV01_20161003_1020010057910400_102001005845EA00_seg1_2m_v1.0.tar.gz\n",
      "http://data.pgc.umn.edu/elev/dem/setsm/REMA/geocell/v1.0/2m/s83w150/SETSM_WV01_20160202_1020010046D12400_102001004B244400_seg1_2m_v1.0.tar.gz\n",
      "http://data.pgc.umn.edu/elev/dem/setsm/REMA/geocell/v1.0/2m/s83w152/SETSM_WV01_20161027_1020010056BA2E00_1020010058DFD800_seg1_2m_v1.0.tar.gz\n",
      "http://data.pgc.umn.edu/elev/dem/setsm/REMA/geocell/v1.0/2m/s83w152/SETSM_WV01_20141209_1020010037CFBF00_102001003610DB00_seg1_2m_v1.0.tar.gz\n",
      "http://data.pgc.umn.edu/elev/dem/setsm/REMA/geocell/v1.0/2m/s83w152/SETSM_WV01_20170114_102001005A83CE00_102001005CD1F500_seg1_2m_v1.0.tar.gz\n",
      "http://data.pgc.umn.edu/elev/dem/setsm/REMA/geocell/v1.0/2m/s83w152/SETSM_WV01_20170925_10200100689D3000_1020010069DA3800_seg1_2m_v1.0.tar.gz\n",
      "http://data.pgc.umn.edu/elev/dem/setsm/REMA/geocell/v1.0/2m/s83w148/SETSM_WV02_20140206_103001002C790800_103001002C265400_seg1_2m_v1.0.tar.gz\n",
      "http://data.pgc.umn.edu/elev/dem/setsm/REMA/geocell/v1.0/2m/s83w153/SETSM_WV02_20150104_103001003C98D600_103001003BCCE700_seg1_2m_v1.0.tar.gz\n",
      "http://data.pgc.umn.edu/elev/dem/setsm/REMA/geocell/v1.0/2m/s83w153/SETSM_WV02_20151010_103001004B706800_103001004A9F3700_seg1_2m_v1.0.tar.gz\n",
      "http://data.pgc.umn.edu/elev/dem/setsm/REMA/geocell/v1.0/2m/s83w153/SETSM_WV02_20121224_103001001D86CA00_103001001D886000_seg1_2m_v1.0.tar.gz\n",
      "http://data.pgc.umn.edu/elev/dem/setsm/REMA/geocell/v1.0/2m/s83w150/SETSM_WV02_20161219_103001006116CC00_10300100638F8E00_seg1_2m_v1.0.tar.gz\n",
      "http://data.pgc.umn.edu/elev/dem/setsm/REMA/geocell/v1.0/2m/s83w150/SETSM_WV02_20141122_103001003A375A00_1030010039A69400_seg1_2m_v1.0.tar.gz\n",
      "http://data.pgc.umn.edu/elev/dem/setsm/REMA/geocell/v1.0/2m/s83w152/SETSM_WV02_20161220_1030010061866000_103001006007BA00_seg1_2m_v1.0.tar.gz\n",
      "http://data.pgc.umn.edu/elev/dem/setsm/REMA/geocell/v1.0/2m/s83w152/SETSM_WV02_20161218_1030010060926B00_1030010062531100_seg1_2m_v1.0.tar.gz\n",
      "http://data.pgc.umn.edu/elev/dem/setsm/REMA/geocell/v1.0/2m/s83w152/SETSM_WV02_20131117_103001002A8C0D00_1030010029C81600_seg1_2m_v1.0.tar.gz\n",
      "http://data.pgc.umn.edu/elev/dem/setsm/REMA/geocell/v1.0/2m/s83w149/SETSM_WV03_20161114_1040010024CFBF00_10400100256A3100_seg1_2m_v1.0.tar.gz\n",
      "http://data.pgc.umn.edu/elev/dem/setsm/REMA/geocell/v1.0/2m/s83w151/SETSM_WV03_20161220_1040010026391800_1040010026480500_seg1_2m_v1.0.tar.gz\n"
     ]
    }
   ],
   "source": [
    "for i,stripe_fname in enumerate(stripe_fnames):\n",
    "    \n",
    "    url = stripe_urls[i]\n",
    "    print(url)\n",
    "    #print('download to '+'/Volumes/arc_02/REMOTE_SENSING/REMA/REMA_stripes_over_kamb_channel/'+stripe_fname+'.tar.gz')\n",
    "    download_to_path('/Volumes/arc_02/REMOTE_SENSING/REMA/REMA_stripes_over_kamb_channel/'+stripe_fname+'.tar.gz', url)"
   ]
  },
  {
   "cell_type": "code",
   "execution_count": null,
   "metadata": {},
   "outputs": [],
   "source": []
  }
 ],
 "metadata": {
  "kernelspec": {
   "display_name": "Python 3",
   "language": "python",
   "name": "python3"
  },
  "language_info": {
   "codemirror_mode": {
    "name": "ipython",
    "version": 3
   },
   "file_extension": ".py",
   "mimetype": "text/x-python",
   "name": "python",
   "nbconvert_exporter": "python",
   "pygments_lexer": "ipython3",
   "version": "3.7.6"
  }
 },
 "nbformat": 4,
 "nbformat_minor": 2
}
