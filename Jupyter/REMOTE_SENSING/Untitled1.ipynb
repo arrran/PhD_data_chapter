{
 "cells": [
  {
   "cell_type": "code",
   "execution_count": 1,
   "metadata": {},
   "outputs": [
    {
     "name": "stdout",
     "output_type": "stream",
     "text": [
      "10_cryosat2_line_field_site_full_dataset.ipynb\r\n",
      "1_download_REMA_stripes_channel.ipynb\r\n",
      "2_download_REMA_stripes_channel_50kms_upchannel.ipynb\r\n",
      "3b_make_buffer_to_crop_REMA_stripe.ipynb\r\n",
      "3_make_area_around_line_to_crop_REMA_stripes.ipynb\r\n",
      "4_crop_REMA_stripes.ipynb\r\n",
      "5_cropped_channel_tiffs_areas.ipynb\r\n",
      "6_icesat_groundtracks_to_lines.ipynb\r\n",
      "7_fieldwork_intesection_with_icesat_groundtracks.ipynb\r\n",
      "8_download_cryosat2_lines.ipynb\r\n",
      "9_cryosat2_line_field_site.ipynb\r\n",
      "README.md\r\n",
      "Untitled1.ipynb\r\n",
      "Untitled.ipynb\r\n"
     ]
    }
   ],
   "source": [
    "!ls"
   ]
  },
  {
   "cell_type": "code",
   "execution_count": 2,
   "metadata": {},
   "outputs": [
    {
     "name": "stdout",
     "output_type": "stream",
     "text": [
      "/Users/home/whitefar/miniconda3/condabin/conda\r\n"
     ]
    }
   ],
   "source": [
    "!which conda"
   ]
  },
  {
   "cell_type": "code",
   "execution_count": 4,
   "metadata": {},
   "outputs": [
    {
     "name": "stdout",
     "output_type": "stream",
     "text": [
      "\r\n",
      "CommandNotFoundError: Your shell has not been properly configured to use 'conda activate'.\r\n",
      "To initialize your shell, run\r\n",
      "\r\n",
      "    $ conda init <SHELL_NAME>\r\n",
      "\r\n",
      "Currently supported shells are:\r\n",
      "  - bash\r\n",
      "  - fish\r\n",
      "  - tcsh\r\n",
      "  - xonsh\r\n",
      "  - zsh\r\n",
      "  - powershell\r\n",
      "\r\n",
      "See 'conda init --help' for more information and options.\r\n",
      "\r\n",
      "IMPORTANT: You may need to close and restart your shell after running 'conda init'.\r\n",
      "\r\n",
      "\r\n"
     ]
    }
   ],
   "source": [
    "!conda activate gis"
   ]
  },
  {
   "cell_type": "code",
   "execution_count": null,
   "metadata": {},
   "outputs": [],
   "source": []
  }
 ],
 "metadata": {
  "kernelspec": {
   "display_name": "Python 3",
   "language": "python",
   "name": "python3"
  },
  "language_info": {
   "codemirror_mode": {
    "name": "ipython",
    "version": 3
   },
   "file_extension": ".py",
   "mimetype": "text/x-python",
   "name": "python",
   "nbconvert_exporter": "python",
   "pygments_lexer": "ipython3",
   "version": "3.7.6"
  }
 },
 "nbformat": 4,
 "nbformat_minor": 4
}
