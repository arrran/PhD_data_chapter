{
 "cells": [
  {
   "cell_type": "code",
   "execution_count": 1,
   "metadata": {},
   "outputs": [],
   "source": [
    "import numpy as np\n",
    "import matplotlib.pyplot as plt"
   ]
  },
  {
   "cell_type": "code",
   "execution_count": 2,
   "metadata": {},
   "outputs": [],
   "source": [
    "A_0U = 1.06, #geometric factor for velocity\n",
    "A_0T = 0.155, #geometrical factor for temperature\n",
    "M_0 = 6.57e-6, #melt rate factor\n",
    "D_x0_U_X0 = 5e-6, #flux rate\n",
    "g_DELTA_rhoi_1_3 = 0.645, #meltwater density contrast\n",
    "T_a_T_af_X0 = 1.08 #temperature relative to ambient"
   ]
  },
  {
   "cell_type": "code",
   "execution_count": 3,
   "metadata": {},
   "outputs": [],
   "source": [
    "# Need to go to jenkins 1991 to get these\n",
    "# sin_alpha = slope\n",
    "# E_0 = entrainment coefficient 0.036\n",
    "# C_d = drag coefficient 2.5 e-3\n",
    "# T_efi = effective ice temperature \n",
    "# Tif = meltwater freezing point\n",
    "\n",
    "# 1.06 = (0.003 / (0.036))"
   ]
  },
  {
   "cell_type": "code",
   "execution_count": 5,
   "metadata": {},
   "outputs": [],
   "source": [
    "# I am looking for:\n",
    "T_af_rut = (-5.73e-2)"
   ]
  },
  {
   "cell_type": "code",
   "execution_count": 51,
   "metadata": {},
   "outputs": [],
   "source": [
    "\n",
    "def A_0U_func(sin_alpha):\n",
    "    E_0 = 3.6e-2\n",
    "    C_d = 2.5e-3\n",
    "    return (sin_alpha / (E_0*sin_alpha + C_d))**(1/3)\n",
    "\n",
    "#XX i dont understand why melt rate factor diff for diff places\n",
    "# is f(T_efi, Tif,Gammaa_TS)\n",
    "\n",
    "def M_0_func(T_f,T_ef_i):\n",
    "    C_halfd_Gamma_TS = 5.9e-4 #stanton number\n",
    "    return C_halfd_Gamma_TS / (T_f - T_ef_i)\n",
    "\n",
    "def A_0T_func(M_0,T_efi,T_if,sin_alpha):\n",
    "    # T_efi = effective ice temperature \n",
    "    # T_if = meltwater freezing point\n",
    "    E_0 = 3.6e-2\n",
    "    return 1/( 1 - M_0*(T_efi - T_if) / (E_0*sin_alpha) )\n",
    "\n",
    "def T_ef_i_func(T_f,T_i):\n",
    "    L = 3.35e5\n",
    "    ci = 2.009e3\n",
    "    c = 3.974e3\n",
    "      \n",
    "    return  T_f - L/c -(ci/c)*(T_f-T_i)"
   ]
  },
  {
   "cell_type": "code",
   "execution_count": 13,
   "metadata": {},
   "outputs": [],
   "source": [
    "def approx_melt_X0(A_0U,A_0T,M_0,D_x0_U_X0,g_DELTA_rhoi_1_3,T_a_T_af_X0):\n",
    "    \n",
    "    return A_0U*A_0T*M_0*D_x0_U_X0**(1/3)*g_DELTA_rhoi_1_3*T_a_T_af_X0*3.154e7\n",
    "\n",
    "def approx_melt(X,L_dash,A_0U,A_0T,M_0,D_x0_U_X0,g_DELTA_rhoi_1_3,T_a_T_af_X0):\n",
    "    \n",
    "    return ( (1 + 0.2*(X / L_dash))*A_0U*A_0T*M_0*D_x0_U_X0**(1/3)*g_DELTA_rhoi_1_3*T_a_T_af_X0) * 3.154e7"
   ]
  },
  {
   "cell_type": "code",
   "execution_count": 7,
   "metadata": {},
   "outputs": [
    {
     "ename": "SyntaxError",
     "evalue": "invalid syntax (<ipython-input-7-602bcd855338>, line 5)",
     "output_type": "error",
     "traceback": [
      "\u001b[0;36m  File \u001b[0;32m\"<ipython-input-7-602bcd855338>\"\u001b[0;36m, line \u001b[0;32m5\u001b[0m\n\u001b[0;31m    A_0T = A_0T_func(M_0 = M_0,T_efi=T_efi,T_if=,sin_alpha=sin_alpha)\u001b[0m\n\u001b[0m                                                ^\u001b[0m\n\u001b[0;31mSyntaxError\u001b[0m\u001b[0;31m:\u001b[0m invalid syntax\n"
     ]
    }
   ],
   "source": [
    "\n",
    "D_x0_U_X0\n",
    "g_DELTA_rhoi_1_3\n",
    "T_a_T_af_X0"
   ]
  },
  {
   "cell_type": "code",
   "execution_count": 8,
   "metadata": {},
   "outputs": [
    {
     "ename": "SyntaxError",
     "evalue": "invalid syntax (<ipython-input-8-6d64d99c76f5>, line 1)",
     "output_type": "error",
     "traceback": [
      "\u001b[0;36m  File \u001b[0;32m\"<ipython-input-8-6d64d99c76f5>\"\u001b[0;36m, line \u001b[0;32m1\u001b[0m\n\u001b[0;31m    approx_melt_X0(A_0U,A_0T,M_0,D_x0_U_X0,g_DELTA_rhoi_1_3,T_a_T_af_X0):\u001b[0m\n\u001b[0m                                                                         ^\u001b[0m\n\u001b[0;31mSyntaxError\u001b[0m\u001b[0;31m:\u001b[0m invalid syntax\n"
     ]
    }
   ],
   "source": [
    "approx_melt_X0(A_0U,A_0T,M_0,D_x0_U_X0,g_DELTA_rhoi_1_3,T_a_T_af_X0):"
   ]
  },
  {
   "cell_type": "code",
   "execution_count": 9,
   "metadata": {},
   "outputs": [
    {
     "ename": "NameError",
     "evalue": "name 'Tf' is not defined",
     "output_type": "error",
     "traceback": [
      "\u001b[0;31m---------------------------------------------------------------------------\u001b[0m",
      "\u001b[0;31mNameError\u001b[0m                                 Traceback (most recent call last)",
      "\u001b[0;32m<ipython-input-9-c5586ea2b899>\u001b[0m in \u001b[0;36m<module>\u001b[0;34m\u001b[0m\n\u001b[1;32m      1\u001b[0m \u001b[0;31m#ross ice shelf\u001b[0m\u001b[0;34m\u001b[0m\u001b[0;34m\u001b[0m\u001b[0;34m\u001b[0m\u001b[0m\n\u001b[0;32m----> 2\u001b[0;31m \u001b[0mM_0_func\u001b[0m\u001b[0;34m(\u001b[0m\u001b[0mT_f\u001b[0m\u001b[0;34m=\u001b[0m\u001b[0;34m-\u001b[0m\u001b[0;36m2\u001b[0m\u001b[0;34m,\u001b[0m\u001b[0mT_efi\u001b[0m\u001b[0;34m=\u001b[0m \u001b[0mT_ef_i_func\u001b[0m\u001b[0;34m(\u001b[0m\u001b[0mT_f\u001b[0m \u001b[0;34m=\u001b[0m \u001b[0;34m-\u001b[0m\u001b[0;36m2.5\u001b[0m\u001b[0;34m,\u001b[0m\u001b[0mT_i\u001b[0m \u001b[0;34m=\u001b[0m \u001b[0;34m-\u001b[0m\u001b[0;36m15\u001b[0m\u001b[0;34m)\u001b[0m \u001b[0;34m)\u001b[0m\u001b[0;34m\u001b[0m\u001b[0;34m\u001b[0m\u001b[0m\n\u001b[0m",
      "\u001b[0;32m<ipython-input-6-254b38ea37be>\u001b[0m in \u001b[0;36mT_ef_i_func\u001b[0;34m(T_f, T_i)\u001b[0m\n\u001b[1;32m     22\u001b[0m     \u001b[0mc\u001b[0m \u001b[0;34m=\u001b[0m \u001b[0;36m3.974e3\u001b[0m\u001b[0;34m\u001b[0m\u001b[0;34m\u001b[0m\u001b[0m\n\u001b[1;32m     23\u001b[0m \u001b[0;34m\u001b[0m\u001b[0m\n\u001b[0;32m---> 24\u001b[0;31m     \u001b[0;32mreturn\u001b[0m  \u001b[0mTf\u001b[0m \u001b[0;34m-\u001b[0m \u001b[0mL\u001b[0m\u001b[0;34m/\u001b[0m\u001b[0mc\u001b[0m \u001b[0;34m-\u001b[0m\u001b[0;34m(\u001b[0m\u001b[0mci\u001b[0m\u001b[0;34m/\u001b[0m\u001b[0mc\u001b[0m\u001b[0;34m)\u001b[0m\u001b[0;34m*\u001b[0m\u001b[0;34m(\u001b[0m\u001b[0mTf\u001b[0m\u001b[0;34m-\u001b[0m\u001b[0mTi\u001b[0m\u001b[0;34m)\u001b[0m\u001b[0;34m\u001b[0m\u001b[0;34m\u001b[0m\u001b[0m\n\u001b[0m",
      "\u001b[0;31mNameError\u001b[0m: name 'Tf' is not defined"
     ]
    }
   ],
   "source": [
    "#ross ice shelf \n",
    "M_0_func(T_f=-2,T_efi= T_ef_i_func(T_f = -2.5,T_i = -15) )"
   ]
  },
  {
   "cell_type": "code",
   "execution_count": 10,
   "metadata": {},
   "outputs": [],
   "source": [
    "#rutford ice stream\n",
    "\n"
   ]
  },
  {
   "cell_type": "code",
   "execution_count": 11,
   "metadata": {},
   "outputs": [],
   "source": [
    "X = 0\n",
    "L_dash = 10000\n",
    "\n",
    "A_0T =0.155  #\n",
    "M_0 = 6.57e-6"
   ]
  },
  {
   "cell_type": "code",
   "execution_count": 12,
   "metadata": {},
   "outputs": [
    {
     "ename": "TypeError",
     "evalue": "can't multiply sequence by non-int of type 'float'",
     "output_type": "error",
     "traceback": [
      "\u001b[0;31m---------------------------------------------------------------------------\u001b[0m",
      "\u001b[0;31mTypeError\u001b[0m                                 Traceback (most recent call last)",
      "\u001b[0;32m<ipython-input-12-40d8f6de96fe>\u001b[0m in \u001b[0;36m<module>\u001b[0;34m\u001b[0m\n\u001b[1;32m     10\u001b[0m \u001b[0;34m\u001b[0m\u001b[0m\n\u001b[1;32m     11\u001b[0m \u001b[0;31m# print(\"mdot =\", (1 - 0.2*(X / L_dash))*A_0U*A_0T*M_0*(g*D_x0_U_X0*DELTA_rhoi)**(1/3)*T_a_T_af_X0  )\u001b[0m\u001b[0;34m\u001b[0m\u001b[0;34m\u001b[0m\u001b[0;34m\u001b[0m\u001b[0m\n\u001b[0;32m---> 12\u001b[0;31m \u001b[0mprint\u001b[0m\u001b[0;34m(\u001b[0m\u001b[0;34m\"mdot =\"\u001b[0m\u001b[0;34m,\u001b[0m \u001b[0mA_0U\u001b[0m\u001b[0;34m*\u001b[0m\u001b[0mA_0T\u001b[0m\u001b[0;34m*\u001b[0m\u001b[0mM_0\u001b[0m\u001b[0;34m*\u001b[0m\u001b[0;34m(\u001b[0m\u001b[0mg\u001b[0m\u001b[0;34m*\u001b[0m\u001b[0mD_x0_U_X0\u001b[0m\u001b[0;34m*\u001b[0m\u001b[0mDELTA_rhoi\u001b[0m\u001b[0;34m)\u001b[0m\u001b[0;34m**\u001b[0m\u001b[0;34m(\u001b[0m\u001b[0;36m1\u001b[0m\u001b[0;34m/\u001b[0m\u001b[0;36m3\u001b[0m\u001b[0;34m)\u001b[0m\u001b[0;34m*\u001b[0m\u001b[0mT_a_T_af_X0\u001b[0m\u001b[0;34m,\u001b[0m \u001b[0;34m' m/s'\u001b[0m\u001b[0;34m)\u001b[0m\u001b[0;34m\u001b[0m\u001b[0;34m\u001b[0m\u001b[0m\n\u001b[0m\u001b[1;32m     13\u001b[0m \u001b[0mprint\u001b[0m\u001b[0;34m(\u001b[0m\u001b[0;34m\"mdot =\"\u001b[0m\u001b[0;34m,\u001b[0m \u001b[0mA_0U\u001b[0m\u001b[0;34m*\u001b[0m\u001b[0mA_0T\u001b[0m\u001b[0;34m*\u001b[0m\u001b[0mM_0\u001b[0m\u001b[0;34m*\u001b[0m\u001b[0;34m(\u001b[0m\u001b[0mg\u001b[0m\u001b[0;34m*\u001b[0m\u001b[0mD_x0_U_X0\u001b[0m\u001b[0;34m*\u001b[0m\u001b[0mDELTA_rhoi\u001b[0m\u001b[0;34m)\u001b[0m\u001b[0;34m**\u001b[0m\u001b[0;34m(\u001b[0m\u001b[0;36m1\u001b[0m\u001b[0;34m/\u001b[0m\u001b[0;36m3\u001b[0m\u001b[0;34m)\u001b[0m\u001b[0;34m*\u001b[0m\u001b[0mT_a_T_af_X0\u001b[0m \u001b[0;34m*\u001b[0m\u001b[0;36m3.154e7\u001b[0m \u001b[0;34m,\u001b[0m\u001b[0;34m' m/a'\u001b[0m\u001b[0;34m)\u001b[0m\u001b[0;34m\u001b[0m\u001b[0;34m\u001b[0m\u001b[0m\n",
      "\u001b[0;31mTypeError\u001b[0m: can't multiply sequence by non-int of type 'float'"
     ]
    }
   ],
   "source": [
    "g = 9.81\n",
    "D_x0_U_X0 = 5e-6 \n",
    "# D_x0 initial thickness of plume\n",
    "#U_X0 = initial velocity of the plume\n",
    "DELTA_rhoi = 0.645 # initial density contrast\n",
    "#T_a Temp at possibly nonuniform ambient water colum\n",
    "#T_af  ambient frezing temp\n",
    "#_X0  at the origin\n",
    "T_a_T_af_X0 = 1.08\n",
    "\n",
    "# print(\"mdot =\", (1 - 0.2*(X / L_dash))*A_0U*A_0T*M_0*(g*D_x0_U_X0*DELTA_rhoi)**(1/3)*T_a_T_af_X0  )\n",
    "print(\"mdot =\", A_0U*A_0T*M_0*(g*D_x0_U_X0*DELTA_rhoi)**(1/3)*T_a_T_af_X0, ' m/s')\n",
    "print(\"mdot =\", A_0U*A_0T*M_0*(g*D_x0_U_X0*DELTA_rhoi)**(1/3)*T_a_T_af_X0 *3.154e7 ,' m/a')"
   ]
  },
  {
   "cell_type": "markdown",
   "metadata": {},
   "source": [
    "### Whillans work out T_ef_i to work out T_if for use in finding A_T0 for kamb\n"
   ]
  },
  {
   "cell_type": "code",
   "execution_count": 45,
   "metadata": {},
   "outputs": [],
   "source": [
    "def T_ef_i_func_wo(T_f,M_0):\n",
    "    C_halfd_Gamma_TS = 5.9e-4 \n",
    "    return T_f - C_halfd_Gamma_TS/M_0\n",
    "\n",
    "def T_if_func(A_0T,sin_alpha,M_0,T_ef_i):\n",
    "    E_0 = 3.6e-2\n",
    "    return(1 - A_0T)*E_0*sin_alpha / (A_0T*M_0) + T_ef_i"
   ]
  },
  {
   "cell_type": "code",
   "execution_count": 46,
   "metadata": {},
   "outputs": [],
   "source": [
    "del T_f"
   ]
  },
  {
   "cell_type": "code",
   "execution_count": 47,
   "metadata": {},
   "outputs": [
    {
     "name": "stdout",
     "output_type": "stream",
     "text": [
      "0.0\n"
     ]
    }
   ],
   "source": [
    "T_f=-2.5\n",
    "T_ef_i = T_ef_i_func_wo(T_f=T_f,M_0=6.55e-6) \n",
    "#double check\n",
    "print(6.55e-6 - M_0_func(T_f=T_f,T_ef_i=T_ef_i))"
   ]
  },
  {
   "cell_type": "code",
   "execution_count": 48,
   "metadata": {},
   "outputs": [
    {
     "name": "stdout",
     "output_type": "stream",
     "text": [
      "T_if = -0.650535933235787\n",
      "0.0\n"
     ]
    }
   ],
   "source": [
    "T_if = T_if_func(A_0T = 0.193,sin_alpha=0.004,M_0=6.55e-6,T_ef_i=T_ef_i )\n",
    "print('T_if =',T_if)\n",
    "#double check\n",
    "print(0.193 - A_0T_func(M_0=6.55e-6,T_efi=T_ef_i,T_if=T_if,sin_alpha=0.004))"
   ]
  },
  {
   "cell_type": "code",
   "execution_count": null,
   "metadata": {},
   "outputs": [],
   "source": []
  },
  {
   "cell_type": "code",
   "execution_count": 39,
   "metadata": {},
   "outputs": [
    {
     "name": "stdout",
     "output_type": "stream",
     "text": [
      "0.0\n"
     ]
    }
   ],
   "source": []
  },
  {
   "cell_type": "code",
   "execution_count": null,
   "metadata": {},
   "outputs": [],
   "source": []
  },
  {
   "cell_type": "code",
   "execution_count": null,
   "metadata": {},
   "outputs": [],
   "source": []
  },
  {
   "cell_type": "code",
   "execution_count": null,
   "metadata": {},
   "outputs": [],
   "source": [
    "# at rutford ice stream\n",
    "approx_melt_X0(A_0U = 1.06,\n",
    "                A_0T = 0.155,\n",
    "                M_0 = 6.57e-6,\n",
    "                D_x0_U_X0 = 5e-6,\n",
    "                g_DELTA_rhoi_1_3 = 0.645,\n",
    "                T_a_T_af_X0 = 1.08)"
   ]
  },
  {
   "cell_type": "code",
   "execution_count": null,
   "metadata": {},
   "outputs": [],
   "source": [
    "# at rutford ice stream\n",
    "melt_rut = approx_melt(X =np.arange(0,2200),\n",
    "               L_dash = 444,\n",
    "               A_0U = 1.06,\n",
    "                A_0T = 0.155,\n",
    "                M_0 = 6.57e-6,\n",
    "                D_x0_U_X0 = 5e-6,\n",
    "                g_DELTA_rhoi_1_3 = 0.645,\n",
    "                T_a_T_af_X0 = 1.08)\n",
    "plt.plot(np.arange(0,2200),melt_rut)"
   ]
  },
  {
   "cell_type": "code",
   "execution_count": null,
   "metadata": {},
   "outputs": [],
   "source": [
    "# at whillans ice stream\n",
    "approx_melt_X0(A_0U = 1.15,\n",
    "                A_0T = 0.193,\n",
    "                M_0 = 6.55e-6,\n",
    "                D_x0_U_X0 = 5e-5,\n",
    "                g_DELTA_rhoi_1_3 = 0.645,\n",
    "                T_a_T_af_X0 = 0.418)"
   ]
  },
  {
   "cell_type": "code",
   "execution_count": null,
   "metadata": {},
   "outputs": [],
   "source": [
    "# at Kamb ice stream\n",
    "approx_melt_X0(A_0U = 1.5,\n",
    "                A_0T = 0.4,\n",
    "                M_0 = 6.55e-6,\n",
    "                D_x0_U_X0 = Q_1D,\n",
    "                g_DELTA_rhoi_1_3 = 0.645,\n",
    "                T_a_T_af_X0 = 0.418)"
   ]
  },
  {
   "cell_type": "code",
   "execution_count": null,
   "metadata": {},
   "outputs": [],
   "source": [
    "1.06/0.003"
   ]
  },
  {
   "cell_type": "code",
   "execution_count": null,
   "metadata": {},
   "outputs": [],
   "source": [
    "1.15/0.004"
   ]
  },
  {
   "cell_type": "code",
   "execution_count": null,
   "metadata": {},
   "outputs": [],
   "source": [
    "# def T_if_func(l_1,S_i,l_2,l_3,Z_b):\n",
    "#     return l_1*S_i +l_2  + l_3*Z_b\n",
    "\n",
    "# T_if_func(l_1=-5.73e-2, S_i,l_2,l_3,Z_b)"
   ]
  },
  {
   "cell_type": "markdown",
   "metadata": {},
   "source": [
    "# Kamb\n",
    "\n",
    "melt rate in 1D m / a underneath  =  1.202158283980831"
   ]
  },
  {
   "cell_type": "code",
   "execution_count": 63,
   "metadata": {},
   "outputs": [
    {
     "name": "stdout",
     "output_type": "stream",
     "text": [
      "flux could be as high as  0.025592417061611375\n"
     ]
    }
   ],
   "source": [
    "Q = 2.7 #m^3 / s from lebroq\n",
    "Q_1D = Q / 105.5\n",
    "print('flux could be as high as ',Q_1D)"
   ]
  },
  {
   "cell_type": "code",
   "execution_count": 93,
   "metadata": {},
   "outputs": [
    {
     "name": "stdout",
     "output_type": "stream",
     "text": [
      "M0 = 6.475181545403957e-06\n"
     ]
    }
   ],
   "source": [
    "sin_alpha = np.logspace(-5,-2.5)\n",
    "T_ef_i = T_ef_i_func(T_f = -2.5,T_i = -15) #T_ef_i_func(T_f,T_i):\n",
    "M_0 = M_0_func(T_f=-2,T_ef_i=T_ef_i)\n",
    "print('M0 =',M_0)\n",
    "A_0U = A_0U_func(sin_alpha=sin_alpha)\n",
    "A_0T = A_0T_func(M_0 = M_0,T_efi=T_efi,T_if=-0.65,sin_alpha=sin_alpha)\n",
    "# print('A_0U',A_0U)\n",
    "# print('A_0T',A_0T)"
   ]
  },
  {
   "cell_type": "code",
   "execution_count": 94,
   "metadata": {},
   "outputs": [
    {
     "name": "stdout",
     "output_type": "stream",
     "text": [
      "[1.54770429e-03 1.81000622e-03 2.11674126e-03 2.47542949e-03\n",
      " 2.89486164e-03 3.38531310e-03 3.95879376e-03 4.62933965e-03\n",
      " 5.41335328e-03 6.33000061e-03 7.40167404e-03 8.65453207e-03\n",
      " 1.01191283e-02 1.18311437e-02 1.38322399e-02 1.61710504e-02\n",
      " 1.89043351e-02 2.20983194e-02 2.58302506e-02 3.01902015e-02\n",
      " 3.52831602e-02 4.12314483e-02 4.81775142e-02 5.62871561e-02\n",
      " 6.57532328e-02 7.67999279e-02 8.96876393e-02 1.04718569e-01\n",
      " 1.22243097e-01 1.42667019e-01 1.66459742e-01 1.94163504e-01\n",
      " 2.26403718e-01 2.63900469e-01 3.07481235e-01 3.58094819e-01\n",
      " 4.16826449e-01 4.84913955e-01 5.63764814e-01 6.54973783e-01\n",
      " 7.60340661e-01 8.81887598e-01 1.02187513e+00 1.18281595e+00\n",
      " 1.36748507e+00 1.57892494e+00 1.82044363e+00 2.09560415e+00\n",
      " 2.40820266e+00 2.76223339e+00]\n"
     ]
    }
   ],
   "source": [
    "am = approx_melt_X0(A_0U = A_0U,\n",
    "                A_0T = A_0T,\n",
    "                M_0 = M_0,\n",
    "                D_x0_U_X0 = Q_1D,\n",
    "                g_DELTA_rhoi_1_3 = 0.645,\n",
    "                T_a_T_af_X0 = 0.418)\n",
    "print(am)"
   ]
  },
  {
   "cell_type": "code",
   "execution_count": 96,
   "metadata": {},
   "outputs": [
    {
     "data": {
      "text/plain": [
       "[<matplotlib.lines.Line2D at 0x7fac8432dac8>]"
      ]
     },
     "execution_count": 96,
     "metadata": {},
     "output_type": "execute_result"
    },
    {
     "data": {
      "image/png": "[encoded data removed]",
      "text/plain": [
       "<Figure size 432x288 with 1 Axes>"
      ]
     },
     "metadata": {
      "needs_background": "light"
     },
     "output_type": "display_data"
    }
   ],
   "source": [
    "plt.plot(sin_alpha,am,'x')\n",
    "plt.xlabel('slope')\n",
    "plt.ylabel('melt')"
   ]
  },
  {
   "cell_type": "code",
   "execution_count": null,
   "metadata": {},
   "outputs": [],
   "source": []
  }
 ],
 "metadata": {
  "kernelspec": {
   "display_name": "remote_sensing",
   "language": "python",
   "name": "remote_sensing"
  },
  "language_info": {
   "codemirror_mode": {
    "name": "ipython",
    "version": 3
   },
   "file_extension": ".py",
   "mimetype": "text/x-python",
   "name": "python",
   "nbconvert_exporter": "python",
   "pygments_lexer": "ipython3",
   "version": "3.7.2"
  }
 },
 "nbformat": 4,
 "nbformat_minor": 4
}
